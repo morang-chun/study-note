{
 "cells": [
  {
   "cell_type": "markdown",
   "metadata": {},
   "source": [
    "## 1. 读取数据文件并查看数据信息\n",
    "    - name：国家的名称\n",
    "    - iso_a3：三个字符 ISO 3166-1 国家代码\n",
    "    - currency_code：三个字符 ISO 4217 货币代码\n",
    "    - local_price：巨无霸本地货币的售价\n",
    "    - dollar_ex：本地货币相对于 1 美元的汇率\n",
    "    - GDP_dollar：人均 GDP，单位为美元\n",
    "    - date：观测和采集数据的时间"
   ]
  },
  {
   "cell_type": "code",
   "execution_count": 1,
   "metadata": {},
   "outputs": [],
   "source": [
    "import pandas as pd"
   ]
  },
  {
   "cell_type": "code",
   "execution_count": 4,
   "metadata": {},
   "outputs": [],
   "source": [
    "# 导入csv 文件\n",
    "df = pd.read_csv('./big-mac-source-data(1).csv')"
   ]
  },
  {
   "cell_type": "code",
   "execution_count": 5,
   "metadata": {},
   "outputs": [
    {
     "data": {
      "text/html": [
       "<div>\n",
       "<style scoped>\n",
       "    .dataframe tbody tr th:only-of-type {\n",
       "        vertical-align: middle;\n",
       "    }\n",
       "\n",
       "    .dataframe tbody tr th {\n",
       "        vertical-align: top;\n",
       "    }\n",
       "\n",
       "    .dataframe thead th {\n",
       "        text-align: right;\n",
       "    }\n",
       "</style>\n",
       "<table border=\"1\" class=\"dataframe\">\n",
       "  <thead>\n",
       "    <tr style=\"text-align: right;\">\n",
       "      <th></th>\n",
       "      <th>name</th>\n",
       "      <th>iso_a3</th>\n",
       "      <th>currency_code</th>\n",
       "      <th>local_price</th>\n",
       "      <th>dollar_ex</th>\n",
       "      <th>GDP_dollar</th>\n",
       "      <th>date</th>\n",
       "    </tr>\n",
       "  </thead>\n",
       "  <tbody>\n",
       "    <tr>\n",
       "      <th>0</th>\n",
       "      <td>Argentina</td>\n",
       "      <td>ARG</td>\n",
       "      <td>ARS</td>\n",
       "      <td>NaN</td>\n",
       "      <td>1.000000</td>\n",
       "      <td>NaN</td>\n",
       "      <td>2000/4/1</td>\n",
       "    </tr>\n",
       "    <tr>\n",
       "      <th>1</th>\n",
       "      <td>Australia</td>\n",
       "      <td>AUS</td>\n",
       "      <td>AUD</td>\n",
       "      <td>NaN</td>\n",
       "      <td>1.680000</td>\n",
       "      <td>NaN</td>\n",
       "      <td>2000/4/1</td>\n",
       "    </tr>\n",
       "    <tr>\n",
       "      <th>2</th>\n",
       "      <td>Brazil</td>\n",
       "      <td>BRA</td>\n",
       "      <td>BRL</td>\n",
       "      <td>NaN</td>\n",
       "      <td>1.790000</td>\n",
       "      <td>NaN</td>\n",
       "      <td>2000/4/1</td>\n",
       "    </tr>\n",
       "    <tr>\n",
       "      <th>3</th>\n",
       "      <td>Britain</td>\n",
       "      <td>GBR</td>\n",
       "      <td>GBP</td>\n",
       "      <td>NaN</td>\n",
       "      <td>0.632911</td>\n",
       "      <td>NaN</td>\n",
       "      <td>2000/4/1</td>\n",
       "    </tr>\n",
       "    <tr>\n",
       "      <th>4</th>\n",
       "      <td>Canada</td>\n",
       "      <td>CAN</td>\n",
       "      <td>CAD</td>\n",
       "      <td>2.85</td>\n",
       "      <td>1.470000</td>\n",
       "      <td>NaN</td>\n",
       "      <td>2000/4/1</td>\n",
       "    </tr>\n",
       "  </tbody>\n",
       "</table>\n",
       "</div>"
      ],
      "text/plain": [
       "        name iso_a3 currency_code  local_price  dollar_ex  GDP_dollar  \\\n",
       "0  Argentina    ARG           ARS          NaN   1.000000         NaN   \n",
       "1  Australia    AUS           AUD          NaN   1.680000         NaN   \n",
       "2     Brazil    BRA           BRL          NaN   1.790000         NaN   \n",
       "3    Britain    GBR           GBP          NaN   0.632911         NaN   \n",
       "4     Canada    CAN           CAD         2.85   1.470000         NaN   \n",
       "\n",
       "       date  \n",
       "0  2000/4/1  \n",
       "1  2000/4/1  \n",
       "2  2000/4/1  \n",
       "3  2000/4/1  \n",
       "4  2000/4/1  "
      ]
     },
     "execution_count": 5,
     "metadata": {},
     "output_type": "execute_result"
    }
   ],
   "source": [
    "# 查看csv 文件前面几行数据，了解表格的数据\n",
    "df.head()"
   ]
  },
  {
   "cell_type": "markdown",
   "metadata": {},
   "source": [
    "## 2.我们发现 GDP_dollar(美元)有大量的缺失值,我们可以直接将这一列数据删除掉"
   ]
  },
  {
   "cell_type": "code",
   "execution_count": 10,
   "metadata": {},
   "outputs": [],
   "source": [
    "# 删除 列\n",
    "df1 = df.drop(axis=1,index=None,columns='GDP_dollar')"
   ]
  },
  {
   "cell_type": "code",
   "execution_count": 11,
   "metadata": {},
   "outputs": [
    {
     "data": {
      "text/html": [
       "<div>\n",
       "<style scoped>\n",
       "    .dataframe tbody tr th:only-of-type {\n",
       "        vertical-align: middle;\n",
       "    }\n",
       "\n",
       "    .dataframe tbody tr th {\n",
       "        vertical-align: top;\n",
       "    }\n",
       "\n",
       "    .dataframe thead th {\n",
       "        text-align: right;\n",
       "    }\n",
       "</style>\n",
       "<table border=\"1\" class=\"dataframe\">\n",
       "  <thead>\n",
       "    <tr style=\"text-align: right;\">\n",
       "      <th></th>\n",
       "      <th>name</th>\n",
       "      <th>iso_a3</th>\n",
       "      <th>currency_code</th>\n",
       "      <th>local_price</th>\n",
       "      <th>dollar_ex</th>\n",
       "      <th>date</th>\n",
       "    </tr>\n",
       "  </thead>\n",
       "  <tbody>\n",
       "    <tr>\n",
       "      <th>0</th>\n",
       "      <td>Argentina</td>\n",
       "      <td>ARG</td>\n",
       "      <td>ARS</td>\n",
       "      <td>NaN</td>\n",
       "      <td>1.000000</td>\n",
       "      <td>2000/4/1</td>\n",
       "    </tr>\n",
       "    <tr>\n",
       "      <th>1</th>\n",
       "      <td>Australia</td>\n",
       "      <td>AUS</td>\n",
       "      <td>AUD</td>\n",
       "      <td>NaN</td>\n",
       "      <td>1.680000</td>\n",
       "      <td>2000/4/1</td>\n",
       "    </tr>\n",
       "    <tr>\n",
       "      <th>2</th>\n",
       "      <td>Brazil</td>\n",
       "      <td>BRA</td>\n",
       "      <td>BRL</td>\n",
       "      <td>NaN</td>\n",
       "      <td>1.790000</td>\n",
       "      <td>2000/4/1</td>\n",
       "    </tr>\n",
       "    <tr>\n",
       "      <th>3</th>\n",
       "      <td>Britain</td>\n",
       "      <td>GBR</td>\n",
       "      <td>GBP</td>\n",
       "      <td>NaN</td>\n",
       "      <td>0.632911</td>\n",
       "      <td>2000/4/1</td>\n",
       "    </tr>\n",
       "    <tr>\n",
       "      <th>4</th>\n",
       "      <td>Canada</td>\n",
       "      <td>CAN</td>\n",
       "      <td>CAD</td>\n",
       "      <td>2.85</td>\n",
       "      <td>1.470000</td>\n",
       "      <td>2000/4/1</td>\n",
       "    </tr>\n",
       "  </tbody>\n",
       "</table>\n",
       "</div>"
      ],
      "text/plain": [
       "        name iso_a3 currency_code  local_price  dollar_ex      date\n",
       "0  Argentina    ARG           ARS          NaN   1.000000  2000/4/1\n",
       "1  Australia    AUS           AUD          NaN   1.680000  2000/4/1\n",
       "2     Brazil    BRA           BRL          NaN   1.790000  2000/4/1\n",
       "3    Britain    GBR           GBP          NaN   0.632911  2000/4/1\n",
       "4     Canada    CAN           CAD         2.85   1.470000  2000/4/1"
      ]
     },
     "execution_count": 11,
     "metadata": {},
     "output_type": "execute_result"
    }
   ],
   "source": [
    "df1.head()"
   ]
  },
  {
   "cell_type": "markdown",
   "metadata": {},
   "source": [
    "# 3.对于其他列的少量缺失值,我们可以删除这一行"
   ]
  },
  {
   "cell_type": "markdown",
   "metadata": {},
   "source": [
    "#### df1.drop(labels=[1,2,3],axis=0)"
   ]
  },
  {
   "cell_type": "code",
   "execution_count": 29,
   "metadata": {},
   "outputs": [],
   "source": [
    "# 删除 缺失值，这个是在表格中观察看到哪里是空值，用表格的形式把行号写出来，赋值给labels\n",
    "df2 = df1.drop(labels = [0,1,2,3,],axis=0)"
   ]
  },
  {
   "cell_type": "markdown",
   "metadata": {},
   "source": [
    "## 4.我们在对数据操作之前需要先查看数据是否有重复"
   ]
  },
  {
   "cell_type": "code",
   "execution_count": 30,
   "metadata": {},
   "outputs": [
    {
     "name": "stdout",
     "output_type": "stream",
     "text": [
      "4       False\n",
      "5       False\n",
      "6       False\n",
      "7       False\n",
      "8       False\n",
      "        ...  \n",
      "1710     True\n",
      "1711     True\n",
      "1712     True\n",
      "1713     True\n",
      "1714     True\n",
      "Length: 1711, dtype: bool\n"
     ]
    }
   ],
   "source": [
    "print(df2.duplicated())"
   ]
  },
  {
   "cell_type": "markdown",
   "metadata": {},
   "source": [
    "## 5.对与重复的数据我们把重复数据删除掉"
   ]
  },
  {
   "cell_type": "code",
   "execution_count": 32,
   "metadata": {},
   "outputs": [],
   "source": [
    "df3 = df2.drop_duplicates()"
   ]
  },
  {
   "cell_type": "code",
   "execution_count": 33,
   "metadata": {},
   "outputs": [
    {
     "name": "stdout",
     "output_type": "stream",
     "text": [
      "                name iso_a3 currency_code  local_price  dollar_ex       date\n",
      "4             Canada    CAN           CAD         2.85      1.470   2000/4/1\n",
      "5              Chile    CHL           CLP      1260.00    514.000   2000/4/1\n",
      "6              China    CHN           CNY         9.90      8.280   2000/4/1\n",
      "7     Czech Republic    CZE           CZK        54.37     39.100   2000/4/1\n",
      "8            Denmark    DNK           DKK        24.75      8.040   2000/4/1\n",
      "...              ...    ...           ...          ...        ...        ...\n",
      "1581         Ukraine    UKR           UAH        57.00     23.990  2020/1/14\n",
      "1582         Uruguay    URY           UYU       179.00     37.435  2020/1/14\n",
      "1583   United States    USA           USD         5.67      1.000  2020/1/14\n",
      "1584         Vietnam    VNM           VND     66000.00  23176.000  2020/1/14\n",
      "1585    South Africa    ZAF           ZAR        31.00     14.391  2020/1/14\n",
      "\n",
      "[1582 rows x 6 columns]\n"
     ]
    }
   ],
   "source": [
    "print(df3)"
   ]
  },
  {
   "cell_type": "markdown",
   "metadata": {},
   "source": [
    "## 6.最后我们把处理好的数据保存成为新的csv"
   ]
  },
  {
   "cell_type": "code",
   "execution_count": 35,
   "metadata": {
    "scrolled": false
   },
   "outputs": [],
   "source": [
    "df3.to_csv('new_csv.csv')"
   ]
  },
  {
   "cell_type": "code",
   "execution_count": null,
   "metadata": {},
   "outputs": [],
   "source": []
  }
 ],
 "metadata": {
  "kernelspec": {
   "display_name": "Python 3 (ipykernel)",
   "language": "python",
   "name": "python3"
  },
  "language_info": {
   "codemirror_mode": {
    "name": "ipython",
    "version": 3
   },
   "file_extension": ".py",
   "mimetype": "text/x-python",
   "name": "python",
   "nbconvert_exporter": "python",
   "pygments_lexer": "ipython3",
   "version": "3.10.4"
  }
 },
 "nbformat": 4,
 "nbformat_minor": 4
}
