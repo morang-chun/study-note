{
 "cells": [
  {
   "cell_type": "markdown",
   "metadata": {
    "toc": true
   },
   "source": [
    "<h1>Table of Contents<span class=\"tocSkip\"></span></h1>\n",
    "<div class=\"toc\"><ul class=\"toc-item\"><li><ul class=\"toc-item\"><li><span><a href=\"#下面是给出的一组电影和电影票房信息：\" data-toc-modified-id=\"下面是给出的一组电影和电影票房信息：-0.1\"><span class=\"toc-item-num\">0.1&nbsp;&nbsp;</span>下面是给出的一组电影和电影票房信息：</a></span></li></ul></li><li><span><a href=\"#1.首先将表格的数据提取出来\" data-toc-modified-id=\"1.首先将表格的数据提取出来-1\"><span class=\"toc-item-num\">1&nbsp;&nbsp;</span>1.首先将表格的数据提取出来</a></span></li><li><span><a href=\"#2.根据给出的数据创建一个DataFrame数据\" data-toc-modified-id=\"2.根据给出的数据创建一个DataFrame数据-2\"><span class=\"toc-item-num\">2&nbsp;&nbsp;</span>2.根据给出的数据创建一个DataFrame数据</a></span></li><li><span><a href=\"#使用两种方式取出电影名字为-'全球风暴'-的票房数量\" data-toc-modified-id=\"使用两种方式取出电影名字为-'全球风暴'-的票房数量-3\"><span class=\"toc-item-num\">3&nbsp;&nbsp;</span>使用两种方式取出电影名字为 '全球风暴' 的票房数量</a></span><ul class=\"toc-item\"><li><ul class=\"toc-item\"><li><span><a href=\"#方式一：使用iloc方法取电影名为-'全球风暴'-的票房数量\" data-toc-modified-id=\"方式一：使用iloc方法取电影名为-'全球风暴'-的票房数量-3.0.1\"><span class=\"toc-item-num\">3.0.1&nbsp;&nbsp;</span>方式一：使用iloc方法取电影名为 '全球风暴' 的票房数量</a></span></li><li><span><a href=\"#方式二：使用loc方法取电影名为-'全球风暴'-的票房数量\" data-toc-modified-id=\"方式二：使用loc方法取电影名为-'全球风暴'-的票房数量-3.0.2\"><span class=\"toc-item-num\">3.0.2&nbsp;&nbsp;</span>方式二：使用loc方法取电影名为 '全球风暴' 的票房数量</a></span></li></ul></li></ul></li><li><span><a href=\"#统计电影票房总数,并求出电影的平均票房数量\" data-toc-modified-id=\"统计电影票房总数,并求出电影的平均票房数量-4\"><span class=\"toc-item-num\">4&nbsp;&nbsp;</span>统计电影票房总数,并求出电影的平均票房数量</a></span><ul class=\"toc-item\"><li><ul class=\"toc-item\"><li><span><a href=\"#方法一：使用iterrows()遍历数据进行统计运算\" data-toc-modified-id=\"方法一：使用iterrows()遍历数据进行统计运算-4.0.1\"><span class=\"toc-item-num\">4.0.1&nbsp;&nbsp;</span>方法一：使用iterrows()遍历数据进行统计运算</a></span></li><li><span><a href=\"#方法二：使用iteritems()遍历数据并进行统计运算\" data-toc-modified-id=\"方法二：使用iteritems()遍历数据并进行统计运算-4.0.2\"><span class=\"toc-item-num\">4.0.2&nbsp;&nbsp;</span>方法二：使用iteritems()遍历数据并进行统计运算</a></span></li></ul></li></ul></li></ul></div>"
   ]
  },
  {
   "cell_type": "markdown",
   "metadata": {},
   "source": [
    "## 下面是给出的一组电影和电影票房信息：\n",
    "\n",
    "\n",
    "\n",
    "|      |       电影名        |   票房   |\n",
    "| :--: | :---------------: | :------: |\n",
    "|  1   | 雷神3：诸神黄昏 | 73853 |\n",
    "|  2   | 正义联盟 | 57767 |\n",
    "|  3   | 东方快车谋杀案 | 22354 |\n",
    "|  4   | 寻梦环游记 |  15969 |\n",
    "|  5   | 全球风暴  |  14839 |\n",
    "|  6   | 降魔传 | 8725 |   \n",
    "|  7   | 追捕 | 8716 |   \n",
    "|  8   | 七十七天 |   8318 |   \n",
    "|  9   | 密战 |   7916 |   \n",
    "|  10   | 狂兽 |   6764 |   \n",
    "|  11   | 其它|   52222 |  \n",
    "\n",
    "\n",
    "\n",
    "\n",
    "\n",
    "1.对上面数据设置自定义索引,索引格式为'001','002'等,并使用两种方式取出电影名字为    '全球风暴'    的票房数量\n",
    "\n",
    "2.统计出当前所有电影票房的总和,并计算出电影票房的平均值"
   ]
  },
  {
   "cell_type": "markdown",
   "metadata": {},
   "source": [
    "# 1.首先将表格的数据提取出来"
   ]
  },
  {
   "cell_type": "code",
   "execution_count": 6,
   "metadata": {},
   "outputs": [],
   "source": [
    "move_list = ['雷神3：诸神黄昏','正义联盟','东方快车谋杀案','寻梦环游记','全球风暴', '降魔传','追捕','七十七天','密战','狂兽','其它']\n",
    "movie_num = [73853,57767,22354,15969,14839,8725,8716,8318,7916,6764,52222]"
   ]
  },
  {
   "cell_type": "markdown",
   "metadata": {},
   "source": [
    "# 2.根据给出的数据创建一个DataFrame数据"
   ]
  },
  {
   "cell_type": "code",
   "execution_count": 7,
   "metadata": {},
   "outputs": [
    {
     "data": {
      "text/html": [
       "<div>\n",
       "<style scoped>\n",
       "    .dataframe tbody tr th:only-of-type {\n",
       "        vertical-align: middle;\n",
       "    }\n",
       "\n",
       "    .dataframe tbody tr th {\n",
       "        vertical-align: top;\n",
       "    }\n",
       "\n",
       "    .dataframe thead th {\n",
       "        text-align: right;\n",
       "    }\n",
       "</style>\n",
       "<table border=\"1\" class=\"dataframe\">\n",
       "  <thead>\n",
       "    <tr style=\"text-align: right;\">\n",
       "      <th></th>\n",
       "      <th>movie_name</th>\n",
       "      <th>movie_data</th>\n",
       "    </tr>\n",
       "  </thead>\n",
       "  <tbody>\n",
       "    <tr>\n",
       "      <th>001</th>\n",
       "      <td>雷神3：诸神黄昏</td>\n",
       "      <td>73853</td>\n",
       "    </tr>\n",
       "    <tr>\n",
       "      <th>002</th>\n",
       "      <td>正义联盟</td>\n",
       "      <td>57767</td>\n",
       "    </tr>\n",
       "    <tr>\n",
       "      <th>003</th>\n",
       "      <td>东方快车谋杀案</td>\n",
       "      <td>22354</td>\n",
       "    </tr>\n",
       "    <tr>\n",
       "      <th>004</th>\n",
       "      <td>寻梦环游记</td>\n",
       "      <td>15969</td>\n",
       "    </tr>\n",
       "    <tr>\n",
       "      <th>005</th>\n",
       "      <td>全球风暴</td>\n",
       "      <td>14839</td>\n",
       "    </tr>\n",
       "    <tr>\n",
       "      <th>006</th>\n",
       "      <td>降魔传</td>\n",
       "      <td>8725</td>\n",
       "    </tr>\n",
       "    <tr>\n",
       "      <th>007</th>\n",
       "      <td>追捕</td>\n",
       "      <td>8716</td>\n",
       "    </tr>\n",
       "    <tr>\n",
       "      <th>008</th>\n",
       "      <td>七十七天</td>\n",
       "      <td>8318</td>\n",
       "    </tr>\n",
       "    <tr>\n",
       "      <th>009</th>\n",
       "      <td>密战</td>\n",
       "      <td>7916</td>\n",
       "    </tr>\n",
       "    <tr>\n",
       "      <th>010</th>\n",
       "      <td>狂兽</td>\n",
       "      <td>6764</td>\n",
       "    </tr>\n",
       "    <tr>\n",
       "      <th>011</th>\n",
       "      <td>其它</td>\n",
       "      <td>52222</td>\n",
       "    </tr>\n",
       "  </tbody>\n",
       "</table>\n",
       "</div>"
      ],
      "text/plain": [
       "    movie_name  movie_data\n",
       "001   雷神3：诸神黄昏       73853\n",
       "002       正义联盟       57767\n",
       "003    东方快车谋杀案       22354\n",
       "004      寻梦环游记       15969\n",
       "005       全球风暴       14839\n",
       "006        降魔传        8725\n",
       "007         追捕        8716\n",
       "008       七十七天        8318\n",
       "009         密战        7916\n",
       "010         狂兽        6764\n",
       "011         其它       52222"
      ]
     },
     "execution_count": 7,
     "metadata": {},
     "output_type": "execute_result"
    }
   ],
   "source": [
    "from pandas import DataFrame\n",
    "# 首先构造data数据\n",
    "move_list = ['雷神3：诸神黄昏','正义联盟','东方快车谋杀案','寻梦环游记','全球风暴', '降魔传','追捕','七十七天','密战','狂兽','其它']\n",
    "movie_num = [73853,57767,22354,15969,14839,8725,8716,8318,7916,6764,52222]\n",
    "dic = {\n",
    "    \"movie_name\":move_list,\n",
    "    \"movie_data\":movie_num\n",
    "}\n",
    "df = DataFrame(dic,index=['001','002','003','004','005','006','007','008','009','010','011'])\n",
    "df\n"
   ]
  },
  {
   "cell_type": "markdown",
   "metadata": {},
   "source": [
    "# 使用两种方式取出电影名字为 '全球风暴' 的票房数量\n",
    "### 方式一：使用iloc方法取电影名为 '全球风暴' 的票房数量"
   ]
  },
  {
   "cell_type": "code",
   "execution_count": 8,
   "metadata": {},
   "outputs": [
    {
     "data": {
      "text/plain": [
       "14839"
      ]
     },
     "execution_count": 8,
     "metadata": {},
     "output_type": "execute_result"
    }
   ],
   "source": [
    "df.iloc[4,1]"
   ]
  },
  {
   "cell_type": "markdown",
   "metadata": {},
   "source": [
    "### 方式二：使用loc方法取电影名为 '全球风暴' 的票房数量"
   ]
  },
  {
   "cell_type": "code",
   "execution_count": 9,
   "metadata": {},
   "outputs": [
    {
     "data": {
      "text/plain": [
       "14839"
      ]
     },
     "execution_count": 9,
     "metadata": {},
     "output_type": "execute_result"
    }
   ],
   "source": [
    "df.loc['005','movie_data']"
   ]
  },
  {
   "cell_type": "markdown",
   "metadata": {},
   "source": [
    "# 统计电影票房总数,并求出电影的平均票房数量\n",
    "### 方法一：使用iterrows()遍历数据进行统计运算"
   ]
  },
  {
   "cell_type": "code",
   "execution_count": 10,
   "metadata": {},
   "outputs": [
    {
     "name": "stdout",
     "output_type": "stream",
     "text": [
      "277443\n",
      "11\n",
      "25222.090909090908\n"
     ]
    }
   ],
   "source": [
    "sum_data = 0\n",
    "#使用行遍历统计票房总数\n",
    "for index_data,row_data in df.iterrows():\n",
    "    sum_data += row_data['movie_data']\n",
    "#票房总数\n",
    "print(sum_data)\n",
    "# 取出电影数量\n",
    "print(len(df.index.tolist()))\n",
    "# 求电影票房的平均数\n",
    "print(sum_data/len(df.index.tolist()))\n",
    "\n"
   ]
  },
  {
   "cell_type": "markdown",
   "metadata": {},
   "source": [
    "### 方法二：使用iteritems()遍历数据并进行统计运算"
   ]
  },
  {
   "cell_type": "code",
   "execution_count": 12,
   "metadata": {},
   "outputs": [
    {
     "name": "stdout",
     "output_type": "stream",
     "text": [
      "277443\n",
      "11\n"
     ]
    },
    {
     "data": {
      "text/plain": [
       "25222.090909090908"
      ]
     },
     "execution_count": 12,
     "metadata": {},
     "output_type": "execute_result"
    }
   ],
   "source": [
    "for col,col_data in df.iteritems():\n",
    "    if col == \"movie_data\":\n",
    "        # sorted()排序取值\n",
    "        movie_data_list = col_data.tolist()\n",
    "# 电影票房总数(python中使用sum函数,可以对列表进行求和操作)\n",
    "movie_ticket_num = sum(movie_data_list)\n",
    "print(movie_ticket_num)\n",
    "# 取出电影数量\n",
    "print(len(movie_data_list))\n",
    "avg_ticket_num = movie_ticket_num/len(movie_data_list)\n",
    "avg_ticket_num"
   ]
  },
  {
   "cell_type": "code",
   "execution_count": null,
   "metadata": {},
   "outputs": [],
   "source": []
  }
 ],
 "metadata": {
  "kernelspec": {
   "display_name": "Python 3 (ipykernel)",
   "language": "python",
   "name": "python3"
  },
  "language_info": {
   "codemirror_mode": {
    "name": "ipython",
    "version": 3
   },
   "file_extension": ".py",
   "mimetype": "text/x-python",
   "name": "python",
   "nbconvert_exporter": "python",
   "pygments_lexer": "ipython3",
   "version": "3.9.7"
  },
  "toc": {
   "base_numbering": 1,
   "nav_menu": {},
   "number_sections": true,
   "sideBar": true,
   "skip_h1_title": false,
   "title_cell": "Table of Contents",
   "title_sidebar": "Contents",
   "toc_cell": true,
   "toc_position": {},
   "toc_section_display": true,
   "toc_window_display": true
  }
 },
 "nbformat": 4,
 "nbformat_minor": 2
}
