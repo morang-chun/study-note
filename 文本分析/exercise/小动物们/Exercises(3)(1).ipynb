{
 "cells": [
  {
   "cell_type": "markdown",
   "metadata": {},
   "source": [
    "# 1.导包并设置中文显示"
   ]
  },
  {
   "cell_type": "code",
   "execution_count": null,
   "metadata": {},
   "outputs": [],
   "source": []
  },
  {
   "cell_type": "markdown",
   "metadata": {},
   "source": [
    "# 2.读取绘图所需数据  'BCIspeed.csv' 并查看数据\n",
    "    - BCIspeed 中是巴拿马（Panama）动物园的动物抓拍数据\n",
    "        - species 是动物名称\n",
    "        - time 是动物被抓拍的时间\n",
    "        - speed 是动物在被抓拍是的速度 米/秒"
   ]
  },
  {
   "cell_type": "code",
   "execution_count": null,
   "metadata": {},
   "outputs": [],
   "source": []
  },
  {
   "cell_type": "markdown",
   "metadata": {},
   "source": [
    "# 3.我们发现time列的数据需要修改,修改一下time列让每行时间都*24,并查看修改后的 数据"
   ]
  },
  {
   "cell_type": "code",
   "execution_count": null,
   "metadata": {},
   "outputs": [],
   "source": []
  },
  {
   "cell_type": "markdown",
   "metadata": {},
   "source": [
    "# 4.绘制出刺豚鼠(agouti)每天活跃的时间段"
   ]
  },
  {
   "cell_type": "code",
   "execution_count": null,
   "metadata": {},
   "outputs": [],
   "source": []
  },
  {
   "cell_type": "markdown",
   "metadata": {},
   "source": [
    "# 5.查看刺豚鼠(agouti),南美浣熊(coati),短角小鹿(brocket) 之间的数据对比\n",
    "    - 首先把豚鼠(agouti),南美浣熊(coati),短角小鹿(brocket) 从表中提取出来\n",
    "        - 可以通过 isin 来判断这一列是否是需求的数据,判断这一列是否在列表中, 存在返回True"
   ]
  },
  {
   "cell_type": "code",
   "execution_count": null,
   "metadata": {},
   "outputs": [],
   "source": []
  },
  {
   "cell_type": "code",
   "execution_count": null,
   "metadata": {},
   "outputs": [],
   "source": []
  }
 ],
 "metadata": {
  "kernelspec": {
   "display_name": "Python 3 (ipykernel)",
   "language": "python",
   "name": "python3"
  },
  "language_info": {
   "codemirror_mode": {
    "name": "ipython",
    "version": 3
   },
   "file_extension": ".py",
   "mimetype": "text/x-python",
   "name": "python",
   "nbconvert_exporter": "python",
   "pygments_lexer": "ipython3",
   "version": "3.9.7"
  }
 },
 "nbformat": 4,
 "nbformat_minor": 4
}
