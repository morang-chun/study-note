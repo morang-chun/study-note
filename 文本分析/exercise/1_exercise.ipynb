{
 "cells": [
  {
   "cell_type": "markdown",
   "metadata": {},
   "source": [
    "## 下面是给出的一组电影和电影票房信息：\n",
    "\n",
    "\n",
    "\n",
    "|      |       电影名        |   票房   |\n",
    "| :--: | :---------------: | :------: |\n",
    "|  1   | 雷神3：诸神黄昏 | 73853 |\n",
    "|  2   | 正义联盟 | 57767 |\n",
    "|  3   | 东方快车谋杀案 | 22354 |\n",
    "|  4   | 寻梦环游记 |  15969 |\n",
    "|  5   | 全球风暴  |  14839 |\n",
    "|  6   | 降魔传 | 8725 |   \n",
    "|  7   | 追捕 | 8716 |   \n",
    "|  8   | 七十七天 |   8318 |   \n",
    "|  9   | 密战 |   7916 |   \n",
    "|  10   | 狂兽 |   6764 |   \n",
    "|  11   | 其它|   52222 |  \n",
    "\n",
    "\n",
    "\n",
    "\n",
    "\n",
    "1.对上面数据设置自定义索引,索引格式为'001','002'等,并使用两种方式取出电影名字为    '全球风暴'    的票房数量\n",
    "\n",
    "2.统计出当前所有电影票房的总和,并计算出电影票房的平均值"
   ]
  },
  {
   "cell_type": "markdown",
   "metadata": {},
   "source": [
    "# 1.首先将表格的数据提取出来"
   ]
  },
  {
   "cell_type": "code",
   "execution_count": 78,
   "metadata": {},
   "outputs": [],
   "source": [
    "move_list = ['雷神3：诸神黄昏','正义联盟','东方快车谋杀案','寻梦环游记','全球风暴', '降魔传','追捕','七十七天','密战','狂兽','其它']\n",
    "movie_num = [73853,57767,22354,15969,14839,8725,8716,8318,7916,6764,52222]"
   ]
  },
  {
   "cell_type": "markdown",
   "metadata": {},
   "source": [
    "# 2.根据给出的数据创建一个DataFrame数据"
   ]
  },
  {
   "cell_type": "code",
   "execution_count": null,
   "metadata": {},
   "outputs": [],
   "source": []
  },
  {
   "cell_type": "markdown",
   "metadata": {},
   "source": [
    "# 使用两种方式取出电影名字为 '全球风暴' 的票房数量\n",
    "### 方式一：使用iloc方法取电影名为 '全球风暴' 的票房数量"
   ]
  },
  {
   "cell_type": "code",
   "execution_count": null,
   "metadata": {},
   "outputs": [],
   "source": []
  },
  {
   "cell_type": "markdown",
   "metadata": {},
   "source": [
    "### 方式二：使用loc方法取电影名为 '全球风暴' 的票房数量"
   ]
  },
  {
   "cell_type": "code",
   "execution_count": null,
   "metadata": {},
   "outputs": [],
   "source": []
  },
  {
   "cell_type": "markdown",
   "metadata": {},
   "source": [
    "# 统计电影票房总数,并求出电影的平均票房数量\n",
    "### 方法一：使用iterrows()遍历数据进行统计运算"
   ]
  },
  {
   "cell_type": "code",
   "execution_count": null,
   "metadata": {},
   "outputs": [],
   "source": []
  },
  {
   "cell_type": "markdown",
   "metadata": {},
   "source": [
    "### 方法二：使用iteritems()遍历数据并进行统计运算"
   ]
  },
  {
   "cell_type": "code",
   "execution_count": null,
   "metadata": {},
   "outputs": [],
   "source": []
  },
  {
   "cell_type": "code",
   "execution_count": null,
   "metadata": {},
   "outputs": [],
   "source": []
  }
 ],
 "metadata": {
  "kernelspec": {
   "display_name": "Python 3 (ipykernel)",
   "language": "python",
   "name": "python3"
  },
  "language_info": {
   "codemirror_mode": {
    "name": "ipython",
    "version": 3
   },
   "file_extension": ".py",
   "mimetype": "text/x-python",
   "name": "python",
   "nbconvert_exporter": "python",
   "pygments_lexer": "ipython3",
   "version": "3.9.7"
  }
 },
 "nbformat": 4,
 "nbformat_minor": 2
}
