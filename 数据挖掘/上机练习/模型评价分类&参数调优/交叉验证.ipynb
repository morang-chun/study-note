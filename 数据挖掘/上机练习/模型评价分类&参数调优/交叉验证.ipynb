{
 "cells": [
  {
   "cell_type": "code",
   "execution_count": 1,
   "id": "c0f17afb",
   "metadata": {},
   "outputs": [],
   "source": [
    "import numpy as np\n",
    "import matplotlib.pyplot as plt\n",
    "import pandas as pd\n",
    "import warnings\n",
    "warnings.filterwarnings(\"ignore\")\n",
    "%matplotlib inline"
   ]
  },
  {
   "cell_type": "code",
   "execution_count": 2,
   "id": "8ebf6d1e",
   "metadata": {},
   "outputs": [
    {
     "data": {
      "text/html": [
       "<div>\n",
       "<style scoped>\n",
       "    .dataframe tbody tr th:only-of-type {\n",
       "        vertical-align: middle;\n",
       "    }\n",
       "\n",
       "    .dataframe tbody tr th {\n",
       "        vertical-align: top;\n",
       "    }\n",
       "\n",
       "    .dataframe thead th {\n",
       "        text-align: right;\n",
       "    }\n",
       "</style>\n",
       "<table border=\"1\" class=\"dataframe\">\n",
       "  <thead>\n",
       "    <tr style=\"text-align: right;\">\n",
       "      <th></th>\n",
       "      <th>Education</th>\n",
       "      <th>Income</th>\n",
       "    </tr>\n",
       "  </thead>\n",
       "  <tbody>\n",
       "    <tr>\n",
       "      <th>1</th>\n",
       "      <td>10.000000</td>\n",
       "      <td>26.658839</td>\n",
       "    </tr>\n",
       "    <tr>\n",
       "      <th>2</th>\n",
       "      <td>10.401338</td>\n",
       "      <td>27.306435</td>\n",
       "    </tr>\n",
       "    <tr>\n",
       "      <th>3</th>\n",
       "      <td>10.842809</td>\n",
       "      <td>22.132410</td>\n",
       "    </tr>\n",
       "    <tr>\n",
       "      <th>4</th>\n",
       "      <td>11.244147</td>\n",
       "      <td>21.169841</td>\n",
       "    </tr>\n",
       "    <tr>\n",
       "      <th>5</th>\n",
       "      <td>11.645485</td>\n",
       "      <td>15.192634</td>\n",
       "    </tr>\n",
       "  </tbody>\n",
       "</table>\n",
       "</div>"
      ],
      "text/plain": [
       "   Education     Income\n",
       "1  10.000000  26.658839\n",
       "2  10.401338  27.306435\n",
       "3  10.842809  22.132410\n",
       "4  11.244147  21.169841\n",
       "5  11.645485  15.192634"
      ]
     },
     "execution_count": 2,
     "metadata": {},
     "output_type": "execute_result"
    }
   ],
   "source": [
    "data = pd.read_csv(\"./Income1.csv\",index_col=\"Unnamed: 0\")\n",
    "data.head()"
   ]
  },
  {
   "cell_type": "code",
   "execution_count": 3,
   "id": "d7aa2a4a",
   "metadata": {},
   "outputs": [],
   "source": [
    "data = data.sample(len(data))#乱序，原始数据label为连续型，递增"
   ]
  },
  {
   "cell_type": "code",
   "execution_count": 4,
   "id": "33302e36",
   "metadata": {},
   "outputs": [
    {
     "data": {
      "text/html": [
       "<div>\n",
       "<style scoped>\n",
       "    .dataframe tbody tr th:only-of-type {\n",
       "        vertical-align: middle;\n",
       "    }\n",
       "\n",
       "    .dataframe tbody tr th {\n",
       "        vertical-align: top;\n",
       "    }\n",
       "\n",
       "    .dataframe thead th {\n",
       "        text-align: right;\n",
       "    }\n",
       "</style>\n",
       "<table border=\"1\" class=\"dataframe\">\n",
       "  <thead>\n",
       "    <tr style=\"text-align: right;\">\n",
       "      <th></th>\n",
       "      <th>Education</th>\n",
       "      <th>Income</th>\n",
       "    </tr>\n",
       "  </thead>\n",
       "  <tbody>\n",
       "    <tr>\n",
       "      <th>12</th>\n",
       "      <td>14.535117</td>\n",
       "      <td>41.497994</td>\n",
       "    </tr>\n",
       "    <tr>\n",
       "      <th>18</th>\n",
       "      <td>17.023411</td>\n",
       "      <td>61.336621</td>\n",
       "    </tr>\n",
       "    <tr>\n",
       "      <th>8</th>\n",
       "      <td>12.889632</td>\n",
       "      <td>25.507885</td>\n",
       "    </tr>\n",
       "    <tr>\n",
       "      <th>27</th>\n",
       "      <td>20.755853</td>\n",
       "      <td>72.486055</td>\n",
       "    </tr>\n",
       "    <tr>\n",
       "      <th>9</th>\n",
       "      <td>13.290970</td>\n",
       "      <td>36.884595</td>\n",
       "    </tr>\n",
       "  </tbody>\n",
       "</table>\n",
       "</div>"
      ],
      "text/plain": [
       "    Education     Income\n",
       "12  14.535117  41.497994\n",
       "18  17.023411  61.336621\n",
       "8   12.889632  25.507885\n",
       "27  20.755853  72.486055\n",
       "9   13.290970  36.884595"
      ]
     },
     "execution_count": 4,
     "metadata": {},
     "output_type": "execute_result"
    }
   ],
   "source": [
    "data.head()"
   ]
  },
  {
   "cell_type": "code",
   "execution_count": 5,
   "id": "1f021e7d",
   "metadata": {},
   "outputs": [
    {
     "data": {
      "text/html": [
       "<div>\n",
       "<style scoped>\n",
       "    .dataframe tbody tr th:only-of-type {\n",
       "        vertical-align: middle;\n",
       "    }\n",
       "\n",
       "    .dataframe tbody tr th {\n",
       "        vertical-align: top;\n",
       "    }\n",
       "\n",
       "    .dataframe thead th {\n",
       "        text-align: right;\n",
       "    }\n",
       "</style>\n",
       "<table border=\"1\" class=\"dataframe\">\n",
       "  <thead>\n",
       "    <tr style=\"text-align: right;\">\n",
       "      <th></th>\n",
       "      <th>Education</th>\n",
       "      <th>Income</th>\n",
       "    </tr>\n",
       "  </thead>\n",
       "  <tbody>\n",
       "    <tr>\n",
       "      <th>count</th>\n",
       "      <td>30.000000</td>\n",
       "      <td>30.000000</td>\n",
       "    </tr>\n",
       "    <tr>\n",
       "      <th>mean</th>\n",
       "      <td>16.000000</td>\n",
       "      <td>50.145469</td>\n",
       "    </tr>\n",
       "    <tr>\n",
       "      <th>std</th>\n",
       "      <td>3.642965</td>\n",
       "      <td>21.141553</td>\n",
       "    </tr>\n",
       "    <tr>\n",
       "      <th>min</th>\n",
       "      <td>10.000000</td>\n",
       "      <td>15.192634</td>\n",
       "    </tr>\n",
       "    <tr>\n",
       "      <th>25%</th>\n",
       "      <td>12.989967</td>\n",
       "      <td>29.078897</td>\n",
       "    </tr>\n",
       "    <tr>\n",
       "      <th>50%</th>\n",
       "      <td>16.000000</td>\n",
       "      <td>49.871749</td>\n",
       "    </tr>\n",
       "    <tr>\n",
       "      <th>75%</th>\n",
       "      <td>19.010033</td>\n",
       "      <td>71.140149</td>\n",
       "    </tr>\n",
       "    <tr>\n",
       "      <th>max</th>\n",
       "      <td>22.000000</td>\n",
       "      <td>80.260571</td>\n",
       "    </tr>\n",
       "  </tbody>\n",
       "</table>\n",
       "</div>"
      ],
      "text/plain": [
       "       Education     Income\n",
       "count  30.000000  30.000000\n",
       "mean   16.000000  50.145469\n",
       "std     3.642965  21.141553\n",
       "min    10.000000  15.192634\n",
       "25%    12.989967  29.078897\n",
       "50%    16.000000  49.871749\n",
       "75%    19.010033  71.140149\n",
       "max    22.000000  80.260571"
      ]
     },
     "execution_count": 5,
     "metadata": {},
     "output_type": "execute_result"
    }
   ],
   "source": [
    "data.describe()"
   ]
  },
  {
   "cell_type": "code",
   "execution_count": 6,
   "id": "65688faf",
   "metadata": {},
   "outputs": [
    {
     "name": "stdout",
     "output_type": "stream",
     "text": [
      "<class 'pandas.core.frame.DataFrame'>\n",
      "Int64Index: 30 entries, 12 to 10\n",
      "Data columns (total 2 columns):\n",
      " #   Column     Non-Null Count  Dtype  \n",
      "---  ------     --------------  -----  \n",
      " 0   Education  30 non-null     float64\n",
      " 1   Income     30 non-null     float64\n",
      "dtypes: float64(2)\n",
      "memory usage: 720.0 bytes\n"
     ]
    }
   ],
   "source": [
    "data.info()"
   ]
  },
  {
   "cell_type": "markdown",
   "id": "d0aefa0e",
   "metadata": {},
   "source": [
    "# 3.特征标签分离"
   ]
  },
  {
   "cell_type": "code",
   "execution_count": 7,
   "id": "3bdce705",
   "metadata": {},
   "outputs": [],
   "source": [
    "X = data['Education']\n",
    "y = data['Income']"
   ]
  },
  {
   "cell_type": "markdown",
   "id": "f188577f",
   "metadata": {},
   "source": [
    "# 导入数据集划分库"
   ]
  },
  {
   "cell_type": "code",
   "execution_count": 8,
   "id": "2453a2a0",
   "metadata": {},
   "outputs": [],
   "source": [
    "from sklearn.model_selection import KFold,ShuffleSplit,StratifiedKFold"
   ]
  },
  {
   "cell_type": "markdown",
   "id": "dbba76c4",
   "metadata": {},
   "source": [
    "# 5. 可视化K折划分，K = 5"
   ]
  },
  {
   "cell_type": "code",
   "execution_count": 9,
   "id": "27e72a1d",
   "metadata": {},
   "outputs": [
    {
     "name": "stdout",
     "output_type": "stream",
     "text": [
      "训练集索引-1 [ 6  7  8  9 10 11 12 13 14 15 16 17 18 19 20 21 22 23 24 25 26 27 28 29]\n",
      "测试集索引-1 [0 1 2 3 4 5]\n",
      "训练集索引-2 [ 0  1  2  3  4  5 12 13 14 15 16 17 18 19 20 21 22 23 24 25 26 27 28 29]\n",
      "测试集索引-2 [ 6  7  8  9 10 11]\n",
      "训练集索引-3 [ 0  1  2  3  4  5  6  7  8  9 10 11 18 19 20 21 22 23 24 25 26 27 28 29]\n",
      "测试集索引-3 [12 13 14 15 16 17]\n",
      "训练集索引-4 [ 0  1  2  3  4  5  6  7  8  9 10 11 12 13 14 15 16 17 24 25 26 27 28 29]\n",
      "测试集索引-4 [18 19 20 21 22 23]\n",
      "训练集索引-5 [ 0  1  2  3  4  5  6  7  8  9 10 11 12 13 14 15 16 17 18 19 20 21 22 23]\n",
      "测试集索引-5 [24 25 26 27 28 29]\n"
     ]
    },
    {
     "data": {
      "text/plain": [
       "Text(0.5, 0, 'index')"
      ]
     },
     "execution_count": 9,
     "metadata": {},
     "output_type": "execute_result"
    },
    {
     "data": {
      "image/png": "[encoded data removed]",
      "text/plain": [
       "<Figure size 1600x500 with 1 Axes>"
      ]
     },
     "metadata": {},
     "output_type": "display_data"
    }
   ],
   "source": [
    "kf = KFold(n_splits=5)\n",
    "kf_cv= kf.split(X)\n",
    "k = 1\n",
    "plt.figure(figsize=(16,5))\n",
    "for train_indices,test_indices in kf_cv:\n",
    "    plt.scatter(train_indices,[k]*len(train_indices),marker=\".\",c=\"r\")\n",
    "    plt.scatter(test_indices,[k]*len(test_indices),marker=\"+\",c=\"b\")\n",
    "    print(\"训练集索引-%d\"%k,train_indices)\n",
    "    print(\"测试集索引-%d\"%k,test_indices)\n",
    "    k+=1\n",
    "    \n",
    "plt.yticks([i for i in range(1,6)],[\"1\",\"2\",\"3\",\"4\",\"5\"])\n",
    "plt.ylabel(\"iteration\")\n",
    "plt.xlabel(\"index\")"
   ]
  },
  {
   "cell_type": "markdown",
   "id": "ea9df1e4",
   "metadata": {},
   "source": [
    "# 6.可视化乱序后，K折划分，k=5"
   ]
  },
  {
   "cell_type": "code",
   "execution_count": 10,
   "id": "28a59b76",
   "metadata": {},
   "outputs": [
    {
     "name": "stdout",
     "output_type": "stream",
     "text": [
      "训练集索引-1 [ 0  1  4  6  8  9 10 11 12 13 14 15 16 17 18 19 22 23 24 25 26 27 28 29]\n",
      "测试集索引-1 [ 2  3  5  7 20 21]\n",
      "训练集索引-2 [ 0  2  3  4  5  6  7  8  9 10 11 15 16 17 18 20 21 22 23 24 25 26 28 29]\n",
      "测试集索引-2 [ 1 12 13 14 19 27]\n",
      "训练集索引-3 [ 0  1  2  3  4  5  7  8  9 10 12 13 14 15 16 17 19 20 21 22 25 26 27 29]\n",
      "测试集索引-3 [ 6 11 18 23 24 28]\n",
      "训练集索引-4 [ 0  1  2  3  4  5  6  7  9 11 12 13 14 15 16 17 18 19 20 21 23 24 27 28]\n",
      "测试集索引-4 [ 8 10 22 25 26 29]\n",
      "训练集索引-5 [ 1  2  3  5  6  7  8 10 11 12 13 14 18 19 20 21 22 23 24 25 26 27 28 29]\n",
      "测试集索引-5 [ 0  4  9 15 16 17]\n"
     ]
    },
    {
     "data": {
      "text/plain": [
       "Text(0.5, 0, 'index')"
      ]
     },
     "execution_count": 10,
     "metadata": {},
     "output_type": "execute_result"
    },
    {
     "data": {
      "image/png": "[encoded data removed]",
      "text/plain": [
       "<Figure size 1600x500 with 1 Axes>"
      ]
     },
     "metadata": {},
     "output_type": "display_data"
    }
   ],
   "source": [
    "# 每次选其中一折作为测试集，其他为训练集\n",
    "kfs = KFold(n_splits=5,random_state=10,shuffle=True)\n",
    "kfs_cv = kfs.split(X)\n",
    "k = 1\n",
    "plt.figure(figsize=(16,5))\n",
    "for train_indices,test_indices in kfs_cv:\n",
    "    plt.scatter(train_indices,[k]*len(train_indices),marker='.',c='r')\n",
    "    plt.scatter(test_indices,[k]*len(test_indices),marker='+',c='b')\n",
    "    print(\"训练集索引-%d\"%k,train_indices)\n",
    "    print(\"测试集索引-%d\"%k,test_indices)\n",
    "    k+=1\n",
    "    \n",
    "plt.yticks([i for i in range(1,6)],[\"1\",\"2\",\"3\",\"4\",\"5\"])\n",
    "plt.ylabel(\"iteration\")\n",
    "plt.xlabel(\"index\")"
   ]
  },
  {
   "cell_type": "markdown",
   "id": "a5c8b731",
   "metadata": {},
   "source": [
    "# 可视化层次K折划分，K=3"
   ]
  },
  {
   "cell_type": "code",
   "execution_count": 11,
   "id": "87643fd7",
   "metadata": {},
   "outputs": [],
   "source": [
    "from sklearn.preprocessing import Binarizer"
   ]
  },
  {
   "cell_type": "code",
   "execution_count": 12,
   "id": "334443af",
   "metadata": {},
   "outputs": [],
   "source": [
    "Bi_ = Binarizer(threshold=50)\n",
    "y1 = Bi_.fit_transform(data[[\"Income\"]])#y1为离散化标签，0,1"
   ]
  },
  {
   "cell_type": "code",
   "execution_count": 13,
   "id": "3a8bc72d",
   "metadata": {},
   "outputs": [],
   "source": [
    "skf = KFold(n_splits=3,random_state=10,shuffle=True)\n",
    "skf_cv = skf.split(X,y1)"
   ]
  },
  {
   "cell_type": "code",
   "execution_count": 14,
   "id": "28a978ed",
   "metadata": {},
   "outputs": [
    {
     "name": "stdout",
     "output_type": "stream",
     "text": [
      "训练集索引-1 [ 0  4  6  8  9 10 11 14 15 16 17 18 19 22 23 24 25 26 28 29]\n",
      "测试集索引-1 [ 1  2  3  5  7 12 13 20 21 27]\n",
      "训练集索引-2 [ 0  1  2  3  4  5  7  8  9 12 13 15 16 17 20 21 25 26 27 29]\n",
      "测试集索引-2 [ 6 10 11 14 18 19 22 23 24 28]\n",
      "训练集索引-3 [ 1  2  3  5  6  7 10 11 12 13 14 18 19 20 21 22 23 24 27 28]\n",
      "测试集索引-3 [ 0  4  8  9 15 16 17 25 26 29]\n"
     ]
    },
    {
     "data": {
      "text/plain": [
       "Text(0.5, 0, 'index')"
      ]
     },
     "execution_count": 14,
     "metadata": {},
     "output_type": "execute_result"
    },
    {
     "data": {
      "image/png": "[encoded data removed]",
      "text/plain": [
       "<Figure size 1600x300 with 1 Axes>"
      ]
     },
     "metadata": {},
     "output_type": "display_data"
    }
   ],
   "source": [
    "kk = [k*j for k,j in enumerate(y1) if j!=0]\n",
    "k=1\n",
    "plt.figure(figsize=(16,3))\n",
    "for train_indices,test_indices in skf_cv:\n",
    "    plt.scatter(train_indices,[k]*len(train_indices),marker=\".\",c=\"r\")\n",
    "    plt.scatter(test_indices,[k]*len(test_indices),marker=\"v\",c=\"b\")\n",
    "    print(\"训练集索引-%d\"%k,train_indices)\n",
    "    print(\"测试集索引-%d\"%k,test_indices)\n",
    "    k+=1\n",
    "plt.scatter(kk,[k]*len(kk),marker=\"+\",c=\"b\")   \n",
    "plt.yticks([i for i in range(1,5)],[\"1\",\"2\",\"3\",\"label\"])\n",
    "plt.ylabel(\"iteration\")\n",
    "plt.xlabel(\"index\")"
   ]
  },
  {
   "cell_type": "markdown",
   "id": "3e7eec5c",
   "metadata": {},
   "source": [
    "# 可视化乱序K次"
   ]
  },
  {
   "cell_type": "code",
   "execution_count": 15,
   "id": "923f44f1",
   "metadata": {},
   "outputs": [],
   "source": [
    "shs=ShuffleSplit(n_splits=3,random_state=10,test_size=.1)"
   ]
  },
  {
   "cell_type": "code",
   "execution_count": 16,
   "id": "a19e6133",
   "metadata": {},
   "outputs": [
    {
     "name": "stdout",
     "output_type": "stream",
     "text": [
      "训练集索引-1 [ 2  3 21 13 27 12  1 19 14 18  6 11 23 24 28 22 10 26 29  8 25 16 17  0\n",
      " 15  4  9]\n",
      "测试集索引-1 [20  7  5]\n",
      "训练集索引-2 [17  5 14 16 27 21 24 23  8  7  6  0  2 15  9 10 11 26 18  4  1 12 22 29\n",
      " 25 19 13]\n",
      "测试集索引-2 [20  3 28]\n",
      "训练集索引-3 [16  3 17  5 23 27  1  9 26 19 14 25  0 11 10  6 21 13 15  8  2 22 12 18\n",
      " 28 24  7]\n",
      "测试集索引-3 [20  4 29]\n"
     ]
    },
    {
     "data": {
      "text/plain": [
       "Text(0.5, 0, 'index')"
      ]
     },
     "execution_count": 16,
     "metadata": {},
     "output_type": "execute_result"
    },
    {
     "data": {
      "image/png": "[encoded data removed]",
      "text/plain": [
       "<Figure size 1600x300 with 1 Axes>"
      ]
     },
     "metadata": {},
     "output_type": "display_data"
    }
   ],
   "source": [
    "shs_cv = shs.split(X)\n",
    "k = 1\n",
    "plt.figure(figsize=(16,3))\n",
    "for train_indices,test_indices in shs_cv:\n",
    "    plt.scatter(train_indices,[k]*len(train_indices),marker=\".\",c=\"r\")\n",
    "    plt.scatter(test_indices,[k]*len(test_indices),marker=\"+\",c=\"b\")\n",
    "    print(\"训练集索引-%d\"%k,train_indices)\n",
    "    print(\"测试集索引-%d\"%k,test_indices)\n",
    "    k+=1\n",
    "    \n",
    "plt.yticks([1,2,3],[\"1\",\"2\",\"3\"])\n",
    "plt.ylabel(\"iteration\")\n",
    "plt.xlabel(\"index\")"
   ]
  },
  {
   "cell_type": "markdown",
   "id": "e54cbada",
   "metadata": {},
   "source": [
    "# 留P法"
   ]
  },
  {
   "cell_type": "code",
   "execution_count": 17,
   "id": "129b1f3e",
   "metadata": {},
   "outputs": [],
   "source": [
    "from sklearn.model_selection import LeaveOneOut,LeavePOut"
   ]
  },
  {
   "cell_type": "code",
   "execution_count": 18,
   "id": "f3bde1f2",
   "metadata": {},
   "outputs": [],
   "source": [
    "loo = LeaveOneOut()\n",
    "lpo = LeavePOut"
   ]
  },
  {
   "cell_type": "code",
   "execution_count": 19,
   "id": "230d62ab",
   "metadata": {},
   "outputs": [
    {
     "name": "stdout",
     "output_type": "stream",
     "text": [
      "[ 1  2  3  4  5  6  7  8  9 10 11 12 13 14 15 16 17 18 19 20 21 22 23 24\n",
      " 25 26 27 28 29] [0]\n",
      "[ 0  2  3  4  5  6  7  8  9 10 11 12 13 14 15 16 17 18 19 20 21 22 23 24\n",
      " 25 26 27 28 29] [1]\n",
      "[ 0  1  3  4  5  6  7  8  9 10 11 12 13 14 15 16 17 18 19 20 21 22 23 24\n",
      " 25 26 27 28 29] [2]\n",
      "[ 0  1  2  4  5  6  7  8  9 10 11 12 13 14 15 16 17 18 19 20 21 22 23 24\n",
      " 25 26 27 28 29] [3]\n",
      "[ 0  1  2  3  5  6  7  8  9 10 11 12 13 14 15 16 17 18 19 20 21 22 23 24\n",
      " 25 26 27 28 29] [4]\n",
      "[ 0  1  2  3  4  6  7  8  9 10 11 12 13 14 15 16 17 18 19 20 21 22 23 24\n",
      " 25 26 27 28 29] [5]\n",
      "[ 0  1  2  3  4  5  7  8  9 10 11 12 13 14 15 16 17 18 19 20 21 22 23 24\n",
      " 25 26 27 28 29] [6]\n",
      "[ 0  1  2  3  4  5  6  8  9 10 11 12 13 14 15 16 17 18 19 20 21 22 23 24\n",
      " 25 26 27 28 29] [7]\n",
      "[ 0  1  2  3  4  5  6  7  9 10 11 12 13 14 15 16 17 18 19 20 21 22 23 24\n",
      " 25 26 27 28 29] [8]\n",
      "[ 0  1  2  3  4  5  6  7  8 10 11 12 13 14 15 16 17 18 19 20 21 22 23 24\n",
      " 25 26 27 28 29] [9]\n",
      "[ 0  1  2  3  4  5  6  7  8  9 11 12 13 14 15 16 17 18 19 20 21 22 23 24\n",
      " 25 26 27 28 29] [10]\n",
      "[ 0  1  2  3  4  5  6  7  8  9 10 12 13 14 15 16 17 18 19 20 21 22 23 24\n",
      " 25 26 27 28 29] [11]\n",
      "[ 0  1  2  3  4  5  6  7  8  9 10 11 13 14 15 16 17 18 19 20 21 22 23 24\n",
      " 25 26 27 28 29] [12]\n",
      "[ 0  1  2  3  4  5  6  7  8  9 10 11 12 14 15 16 17 18 19 20 21 22 23 24\n",
      " 25 26 27 28 29] [13]\n",
      "[ 0  1  2  3  4  5  6  7  8  9 10 11 12 13 15 16 17 18 19 20 21 22 23 24\n",
      " 25 26 27 28 29] [14]\n",
      "[ 0  1  2  3  4  5  6  7  8  9 10 11 12 13 14 16 17 18 19 20 21 22 23 24\n",
      " 25 26 27 28 29] [15]\n",
      "[ 0  1  2  3  4  5  6  7  8  9 10 11 12 13 14 15 17 18 19 20 21 22 23 24\n",
      " 25 26 27 28 29] [16]\n",
      "[ 0  1  2  3  4  5  6  7  8  9 10 11 12 13 14 15 16 18 19 20 21 22 23 24\n",
      " 25 26 27 28 29] [17]\n",
      "[ 0  1  2  3  4  5  6  7  8  9 10 11 12 13 14 15 16 17 19 20 21 22 23 24\n",
      " 25 26 27 28 29] [18]\n",
      "[ 0  1  2  3  4  5  6  7  8  9 10 11 12 13 14 15 16 17 18 20 21 22 23 24\n",
      " 25 26 27 28 29] [19]\n",
      "[ 0  1  2  3  4  5  6  7  8  9 10 11 12 13 14 15 16 17 18 19 21 22 23 24\n",
      " 25 26 27 28 29] [20]\n",
      "[ 0  1  2  3  4  5  6  7  8  9 10 11 12 13 14 15 16 17 18 19 20 22 23 24\n",
      " 25 26 27 28 29] [21]\n",
      "[ 0  1  2  3  4  5  6  7  8  9 10 11 12 13 14 15 16 17 18 19 20 21 23 24\n",
      " 25 26 27 28 29] [22]\n",
      "[ 0  1  2  3  4  5  6  7  8  9 10 11 12 13 14 15 16 17 18 19 20 21 22 24\n",
      " 25 26 27 28 29] [23]\n",
      "[ 0  1  2  3  4  5  6  7  8  9 10 11 12 13 14 15 16 17 18 19 20 21 22 23\n",
      " 25 26 27 28 29] [24]\n",
      "[ 0  1  2  3  4  5  6  7  8  9 10 11 12 13 14 15 16 17 18 19 20 21 22 23\n",
      " 24 26 27 28 29] [25]\n",
      "[ 0  1  2  3  4  5  6  7  8  9 10 11 12 13 14 15 16 17 18 19 20 21 22 23\n",
      " 24 25 27 28 29] [26]\n",
      "[ 0  1  2  3  4  5  6  7  8  9 10 11 12 13 14 15 16 17 18 19 20 21 22 23\n",
      " 24 25 26 28 29] [27]\n",
      "[ 0  1  2  3  4  5  6  7  8  9 10 11 12 13 14 15 16 17 18 19 20 21 22 23\n",
      " 24 25 26 27 29] [28]\n",
      "[ 0  1  2  3  4  5  6  7  8  9 10 11 12 13 14 15 16 17 18 19 20 21 22 23\n",
      " 24 25 26 27 28] [29]\n"
     ]
    }
   ],
   "source": [
    "for i,j in loo.split(X):\n",
    "    print(i,j)"
   ]
  },
  {
   "cell_type": "markdown",
   "id": "4dda83ab",
   "metadata": {},
   "source": [
    "# 自助法"
   ]
  },
  {
   "cell_type": "code",
   "execution_count": 20,
   "id": "1ba4d95e",
   "metadata": {},
   "outputs": [],
   "source": [
    "XY_train = X.sample(50,replace=True)"
   ]
  },
  {
   "cell_type": "code",
   "execution_count": 21,
   "id": "2186638c",
   "metadata": {},
   "outputs": [],
   "source": [
    "xy_test = X.loc[data.index.difference(train_indices)].copy()"
   ]
  },
  {
   "cell_type": "markdown",
   "id": "19a5ce6c",
   "metadata": {},
   "source": [
    "# 交叉验证"
   ]
  },
  {
   "cell_type": "code",
   "execution_count": 22,
   "id": "0c1d94c1",
   "metadata": {},
   "outputs": [],
   "source": [
    "from sklearn.model_selection import cross_val_score\n",
    "from sklearn.linear_model import LinearRegression"
   ]
  },
  {
   "cell_type": "code",
   "execution_count": 23,
   "id": "d219ff55",
   "metadata": {},
   "outputs": [],
   "source": [
    "X= pd.DataFrame(X,columns=['Education'])"
   ]
  },
  {
   "cell_type": "code",
   "execution_count": 24,
   "id": "1ac68cbc",
   "metadata": {},
   "outputs": [
    {
     "name": "stdout",
     "output_type": "stream",
     "text": [
      "<class 'pandas.core.frame.DataFrame'>\n",
      "Int64Index: 30 entries, 12 to 10\n",
      "Data columns (total 1 columns):\n",
      " #   Column     Non-Null Count  Dtype  \n",
      "---  ------     --------------  -----  \n",
      " 0   Education  30 non-null     float64\n",
      "dtypes: float64(1)\n",
      "memory usage: 1.5 KB\n"
     ]
    }
   ],
   "source": [
    "X.info()"
   ]
  },
  {
   "cell_type": "code",
   "execution_count": 25,
   "id": "dfdddfe1",
   "metadata": {},
   "outputs": [],
   "source": [
    "y = pd.DataFrame(y,columns=[\"Income\"])"
   ]
  },
  {
   "cell_type": "code",
   "execution_count": 26,
   "id": "84c787c2",
   "metadata": {},
   "outputs": [
    {
     "name": "stdout",
     "output_type": "stream",
     "text": [
      "<class 'pandas.core.frame.DataFrame'>\n",
      "Int64Index: 30 entries, 12 to 10\n",
      "Data columns (total 1 columns):\n",
      " #   Column  Non-Null Count  Dtype  \n",
      "---  ------  --------------  -----  \n",
      " 0   Income  30 non-null     float64\n",
      "dtypes: float64(1)\n",
      "memory usage: 1.5 KB\n"
     ]
    }
   ],
   "source": [
    "y.info()"
   ]
  },
  {
   "cell_type": "markdown",
   "id": "5c742beb",
   "metadata": {},
   "source": [
    "# 线性回归"
   ]
  },
  {
   "cell_type": "code",
   "execution_count": 27,
   "id": "c8ea859e",
   "metadata": {},
   "outputs": [
    {
     "data": {
      "text/plain": [
       "array([0.92700431, 0.86320122, 0.88340168, 0.9118669 , 0.96194243])"
      ]
     },
     "execution_count": 27,
     "metadata": {},
     "output_type": "execute_result"
    }
   ],
   "source": [
    "# cross_val_score(LinearRegression(),X,y,cv=5)\n",
    "cross_val_score(LinearRegression(),X,y,cv=5)"
   ]
  },
  {
   "cell_type": "markdown",
   "id": "6178d23b",
   "metadata": {},
   "source": [
    "# 逻辑回归"
   ]
  },
  {
   "cell_type": "code",
   "execution_count": 28,
   "id": "3330941f",
   "metadata": {},
   "outputs": [],
   "source": [
    "from sklearn.linear_model import LogisticRegression"
   ]
  },
  {
   "cell_type": "code",
   "execution_count": 32,
   "id": "a47f7be0",
   "metadata": {},
   "outputs": [
    {
     "data": {
      "text/plain": [
       "array([1., 1., 1.])"
      ]
     },
     "execution_count": 32,
     "metadata": {},
     "output_type": "execute_result"
    }
   ],
   "source": [
    "cross_val_score(LogisticRegression(),X,y1,cv=shs)"
   ]
  },
  {
   "cell_type": "code",
   "execution_count": 30,
   "id": "1deee3fd",
   "metadata": {},
   "outputs": [
    {
     "name": "stdout",
     "output_type": "stream",
     "text": [
      "[1. 1. 1. 1. 1.]\n"
     ]
    }
   ],
   "source": [
    "print(cross_val_score(LogisticRegression(),X,y1,cv=5))"
   ]
  },
  {
   "cell_type": "code",
   "execution_count": 31,
   "id": "046082d8",
   "metadata": {},
   "outputs": [
    {
     "name": "stdout",
     "output_type": "stream",
     "text": [
      "[1. 1. 1. 1. 1. 1. 1. 1. 1. 1. 1. 1. 1. 1. 1. 1. 1. 1. 1. 1. 1. 1. 1. 1.\n",
      " 1. 1. 1. 1. 1. 1.]\n"
     ]
    }
   ],
   "source": [
    "print(cross_val_score(LogisticRegression(),X,y1,cv=loo))"
   ]
  },
  {
   "cell_type": "code",
   "execution_count": null,
   "id": "5f1617ea",
   "metadata": {},
   "outputs": [],
   "source": []
  },
  {
   "cell_type": "code",
   "execution_count": null,
   "id": "f00fa0a0",
   "metadata": {},
   "outputs": [],
   "source": []
  },
  {
   "cell_type": "code",
   "execution_count": null,
   "id": "a54443cf",
   "metadata": {},
   "outputs": [],
   "source": []
  },
  {
   "cell_type": "code",
   "execution_count": null,
   "id": "7707fdc8",
   "metadata": {},
   "outputs": [],
   "source": []
  }
 ],
 "metadata": {
  "kernelspec": {
   "display_name": "Python 3 (ipykernel)",
   "language": "python",
   "name": "python3"
  },
  "language_info": {
   "codemirror_mode": {
    "name": "ipython",
    "version": 3
   },
   "file_extension": ".py",
   "mimetype": "text/x-python",
   "name": "python",
   "nbconvert_exporter": "python",
   "pygments_lexer": "ipython3",
   "version": "3.9.2"
  }
 },
 "nbformat": 4,
 "nbformat_minor": 5
}
