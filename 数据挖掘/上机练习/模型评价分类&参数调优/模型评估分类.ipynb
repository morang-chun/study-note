{
 "cells": [
  {
   "cell_type": "code",
   "execution_count": 1,
   "id": "033561d1",
   "metadata": {},
   "outputs": [],
   "source": [
    "import warnings\n",
    "warnings.filterwarnings(\"ignore\")\n",
    "import pandas as pd\n",
    "import numpy as np\n",
    "from sklearn.linear_model import LogisticRegression\n",
    "from sklearn.neighbors import KNeighborsClassifier\n",
    "from sklearn.tree import DecisionTreeClassifier\n",
    "from sklearn.svm import SVC\n",
    "from sklearn.svm import LinearSVC\n",
    "from sklearn.naive_bayes import GaussianNB,BernoulliNB,MultinomialNB\n",
    "from sklearn.model_selection import train_test_split\n",
    "from sklearn.metrics import auc,precision_recall_curve,roc_curve\n",
    "from sklearn.metrics import accuracy_score,f1_score,precision_score,recall_score\n",
    "from sklearn.metrics import confusion_matrix,classification_report\n",
    "import seaborn as sns\n",
    "import matplotlib.pyplot as plt\n",
    "%matplotlib inline"
   ]
  },
  {
   "cell_type": "code",
   "execution_count": 2,
   "id": "313190ee",
   "metadata": {},
   "outputs": [],
   "source": [
    "# 读入数据\n",
    "car_data = pd.read_csv(\"../car_evaluation.csv\",names=[\"buying\",\"maint\",\"doors\",\"persons\",\"lug_boot\",\"safety\",\"car_Eva\"])"
   ]
  },
  {
   "cell_type": "code",
   "execution_count": 3,
   "id": "1bfb5fed",
   "metadata": {},
   "outputs": [
    {
     "name": "stdout",
     "output_type": "stream",
     "text": [
      "<class 'pandas.core.frame.DataFrame'>\n",
      "RangeIndex: 1728 entries, 0 to 1727\n",
      "Data columns (total 7 columns):\n",
      " #   Column    Non-Null Count  Dtype \n",
      "---  ------    --------------  ----- \n",
      " 0   buying    1728 non-null   object\n",
      " 1   maint     1728 non-null   object\n",
      " 2   doors     1728 non-null   object\n",
      " 3   persons   1728 non-null   object\n",
      " 4   lug_boot  1728 non-null   object\n",
      " 5   safety    1728 non-null   object\n",
      " 6   car_Eva   1728 non-null   object\n",
      "dtypes: object(7)\n",
      "memory usage: 94.6+ KB\n"
     ]
    }
   ],
   "source": [
    "# 查看数据信息，发现所有的数据都是 object 类型，无法直接操作，需要对数据转换数据类型\n",
    "car_data.info()"
   ]
  },
  {
   "cell_type": "code",
   "execution_count": 4,
   "id": "5ffe3780",
   "metadata": {},
   "outputs": [
    {
     "data": {
      "text/html": [
       "<div>\n",
       "<style scoped>\n",
       "    .dataframe tbody tr th:only-of-type {\n",
       "        vertical-align: middle;\n",
       "    }\n",
       "\n",
       "    .dataframe tbody tr th {\n",
       "        vertical-align: top;\n",
       "    }\n",
       "\n",
       "    .dataframe thead th {\n",
       "        text-align: right;\n",
       "    }\n",
       "</style>\n",
       "<table border=\"1\" class=\"dataframe\">\n",
       "  <thead>\n",
       "    <tr style=\"text-align: right;\">\n",
       "      <th></th>\n",
       "      <th>buying</th>\n",
       "      <th>maint</th>\n",
       "      <th>doors</th>\n",
       "      <th>persons</th>\n",
       "      <th>lug_boot</th>\n",
       "      <th>safety</th>\n",
       "      <th>car_Eva</th>\n",
       "    </tr>\n",
       "  </thead>\n",
       "  <tbody>\n",
       "    <tr>\n",
       "      <th>0</th>\n",
       "      <td>vhigh</td>\n",
       "      <td>vhigh</td>\n",
       "      <td>2</td>\n",
       "      <td>2</td>\n",
       "      <td>small</td>\n",
       "      <td>low</td>\n",
       "      <td>unacc</td>\n",
       "    </tr>\n",
       "    <tr>\n",
       "      <th>1</th>\n",
       "      <td>vhigh</td>\n",
       "      <td>vhigh</td>\n",
       "      <td>2</td>\n",
       "      <td>2</td>\n",
       "      <td>small</td>\n",
       "      <td>med</td>\n",
       "      <td>unacc</td>\n",
       "    </tr>\n",
       "    <tr>\n",
       "      <th>2</th>\n",
       "      <td>vhigh</td>\n",
       "      <td>vhigh</td>\n",
       "      <td>2</td>\n",
       "      <td>2</td>\n",
       "      <td>small</td>\n",
       "      <td>high</td>\n",
       "      <td>unacc</td>\n",
       "    </tr>\n",
       "    <tr>\n",
       "      <th>3</th>\n",
       "      <td>vhigh</td>\n",
       "      <td>vhigh</td>\n",
       "      <td>2</td>\n",
       "      <td>2</td>\n",
       "      <td>med</td>\n",
       "      <td>low</td>\n",
       "      <td>unacc</td>\n",
       "    </tr>\n",
       "    <tr>\n",
       "      <th>4</th>\n",
       "      <td>vhigh</td>\n",
       "      <td>vhigh</td>\n",
       "      <td>2</td>\n",
       "      <td>2</td>\n",
       "      <td>med</td>\n",
       "      <td>med</td>\n",
       "      <td>unacc</td>\n",
       "    </tr>\n",
       "  </tbody>\n",
       "</table>\n",
       "</div>"
      ],
      "text/plain": [
       "  buying  maint doors persons lug_boot safety car_Eva\n",
       "0  vhigh  vhigh     2       2    small    low   unacc\n",
       "1  vhigh  vhigh     2       2    small    med   unacc\n",
       "2  vhigh  vhigh     2       2    small   high   unacc\n",
       "3  vhigh  vhigh     2       2      med    low   unacc\n",
       "4  vhigh  vhigh     2       2      med    med   unacc"
      ]
     },
     "execution_count": 4,
     "metadata": {},
     "output_type": "execute_result"
    }
   ],
   "source": [
    "car_data.head()"
   ]
  },
  {
   "cell_type": "code",
   "execution_count": 5,
   "id": "652eaa0e",
   "metadata": {},
   "outputs": [],
   "source": [
    "# 编码buying:{\"vhigh\":0,\"high\":1,\"med\":2,\"low\":3}\n",
    "car_data[\"buying\"]=car_data.buying.map({\"vhigh\":0,\"high\":1,\"med\":2,\"low\":3})"
   ]
  },
  {
   "cell_type": "code",
   "execution_count": 6,
   "id": "5650dc1e",
   "metadata": {},
   "outputs": [
    {
     "name": "stdout",
     "output_type": "stream",
     "text": [
      "<class 'pandas.core.frame.DataFrame'>\n",
      "RangeIndex: 1728 entries, 0 to 1727\n",
      "Data columns (total 7 columns):\n",
      " #   Column    Non-Null Count  Dtype \n",
      "---  ------    --------------  ----- \n",
      " 0   buying    1728 non-null   int64 \n",
      " 1   maint     1728 non-null   object\n",
      " 2   doors     1728 non-null   object\n",
      " 3   persons   1728 non-null   object\n",
      " 4   lug_boot  1728 non-null   object\n",
      " 5   safety    1728 non-null   object\n",
      " 6   car_Eva   1728 non-null   object\n",
      "dtypes: int64(1), object(6)\n",
      "memory usage: 94.6+ KB\n"
     ]
    }
   ],
   "source": [
    "# 可以看到buying有1728个，数据类型是int类型，表示编码成功\n",
    "car_data.info()"
   ]
  },
  {
   "cell_type": "code",
   "execution_count": 7,
   "id": "c1a62df0",
   "metadata": {},
   "outputs": [
    {
     "data": {
      "text/plain": [
       "vhigh    432\n",
       "high     432\n",
       "med      432\n",
       "low      432\n",
       "Name: maint, dtype: int64"
      ]
     },
     "execution_count": 7,
     "metadata": {},
     "output_type": "execute_result"
    }
   ],
   "source": [
    "# 查看maint的各value的数值\n",
    "car_data.maint.value_counts()"
   ]
  },
  {
   "cell_type": "code",
   "execution_count": 8,
   "id": "d6ad42ed",
   "metadata": {},
   "outputs": [],
   "source": [
    "# 对maint进行编码:{\"vhigh\":0,\"high\":1,\"med\":2,\"low\":3}\n",
    "car_data[\"maint\"] = car_data.maint.map({\"vhigh\":0,\"high\":1,\"med\":2,\"low\":3})"
   ]
  },
  {
   "cell_type": "code",
   "execution_count": 9,
   "id": "791caddb",
   "metadata": {},
   "outputs": [],
   "source": [
    "# 对doors进行编码:{\"5more\":0,\"4\":1,\"3\":2,\"2\":3}\n",
    "car_data[\"doors\"] = car_data.doors.map({\"5more\":0,\"4\":1,\"3\":2,\"2\":3})"
   ]
  },
  {
   "cell_type": "code",
   "execution_count": 10,
   "id": "b6562e64",
   "metadata": {},
   "outputs": [],
   "source": [
    "# 对persons进行编码:{\"more\":0,\"4\":1,\"2\":2}\n",
    "car_data[\"persons\"] = car_data.persons.map({\"more\":0,\"4\":1,\"2\":2})"
   ]
  },
  {
   "cell_type": "code",
   "execution_count": 11,
   "id": "0b72a380",
   "metadata": {},
   "outputs": [],
   "source": [
    "# 对lug_boot 进行编码：{\"big\":0,\"med\":1,\"small\":2 }\n",
    "car_data[\"lug_boot\"] = car_data[\"lug_boot\"].map({\"big\":0,\"med\":1,\"small\":2\n",
    "                                                })"
   ]
  },
  {
   "cell_type": "code",
   "execution_count": 12,
   "id": "8e952da8",
   "metadata": {},
   "outputs": [],
   "source": [
    "# 对safety进行编码：{\"high\":0,\"med\":1,\"low\":2}\n",
    "car_data[\"safety\"] = car_data[\"safety\"].map({\"high\":0,\"med\":1,\"low\":2})"
   ]
  },
  {
   "cell_type": "code",
   "execution_count": 13,
   "id": "bd773738",
   "metadata": {},
   "outputs": [],
   "source": [
    "# 对car_Eva进行编码：{\"unacc\":0,\"acc\":1,\"good\":1,\"vgood\":1}把不满意的都用0代替，满意的用1代替\n",
    "car_data[\"car_Eva\"] = car_data[\"car_Eva\"].map({\"unacc\":0,\"acc\":1,\"good\":1,\"vgood\":1})"
   ]
  },
  {
   "cell_type": "code",
   "execution_count": 14,
   "id": "c8df61f4",
   "metadata": {},
   "outputs": [],
   "source": [
    "# 指定X数据集\n",
    "X = car_data.drop(\"car_Eva\",axis=1)"
   ]
  },
  {
   "cell_type": "code",
   "execution_count": 15,
   "id": "8bfb7774",
   "metadata": {},
   "outputs": [],
   "source": [
    "# 指定Y数据集\n",
    "Y =car_data[[\"car_Eva\"]]"
   ]
  },
  {
   "cell_type": "code",
   "execution_count": 16,
   "id": "b2ac0388",
   "metadata": {},
   "outputs": [],
   "source": [
    "# 进行数据集的划分\n",
    "# train_test_split的返回值是四个，且返回是有顺序\n",
    "X_train,x_test,Y_train,y_test = train_test_split(X,Y,test_size=0.7,random_state=1)"
   ]
  },
  {
   "cell_type": "code",
   "execution_count": 17,
   "id": "514d9bb9",
   "metadata": {},
   "outputs": [],
   "source": [
    "from sklearn.linear_model import LogisticRegression"
   ]
  },
  {
   "cell_type": "code",
   "execution_count": 18,
   "id": "1d11605a",
   "metadata": {},
   "outputs": [],
   "source": [
    "clf = LogisticRegression(random_state=10,class_weight='balanced')"
   ]
  },
  {
   "cell_type": "code",
   "execution_count": 19,
   "id": "784cd626",
   "metadata": {},
   "outputs": [
    {
     "data": {
      "text/html": [
       "<style>#sk-container-id-1 {color: black;background-color: white;}#sk-container-id-1 pre{padding: 0;}#sk-container-id-1 div.sk-toggleable {background-color: white;}#sk-container-id-1 label.sk-toggleable__label {cursor: pointer;display: block;width: 100%;margin-bottom: 0;padding: 0.3em;box-sizing: border-box;text-align: center;}#sk-container-id-1 label.sk-toggleable__label-arrow:before {content: \"▸\";float: left;margin-right: 0.25em;color: #696969;}#sk-container-id-1 label.sk-toggleable__label-arrow:hover:before {color: black;}#sk-container-id-1 div.sk-estimator:hover label.sk-toggleable__label-arrow:before {color: black;}#sk-container-id-1 div.sk-toggleable__content {max-height: 0;max-width: 0;overflow: hidden;text-align: left;background-color: #f0f8ff;}#sk-container-id-1 div.sk-toggleable__content pre {margin: 0.2em;color: black;border-radius: 0.25em;background-color: #f0f8ff;}#sk-container-id-1 input.sk-toggleable__control:checked~div.sk-toggleable__content {max-height: 200px;max-width: 100%;overflow: auto;}#sk-container-id-1 input.sk-toggleable__control:checked~label.sk-toggleable__label-arrow:before {content: \"▾\";}#sk-container-id-1 div.sk-estimator input.sk-toggleable__control:checked~label.sk-toggleable__label {background-color: #d4ebff;}#sk-container-id-1 div.sk-label input.sk-toggleable__control:checked~label.sk-toggleable__label {background-color: #d4ebff;}#sk-container-id-1 input.sk-hidden--visually {border: 0;clip: rect(1px 1px 1px 1px);clip: rect(1px, 1px, 1px, 1px);height: 1px;margin: -1px;overflow: hidden;padding: 0;position: absolute;width: 1px;}#sk-container-id-1 div.sk-estimator {font-family: monospace;background-color: #f0f8ff;border: 1px dotted black;border-radius: 0.25em;box-sizing: border-box;margin-bottom: 0.5em;}#sk-container-id-1 div.sk-estimator:hover {background-color: #d4ebff;}#sk-container-id-1 div.sk-parallel-item::after {content: \"\";width: 100%;border-bottom: 1px solid gray;flex-grow: 1;}#sk-container-id-1 div.sk-label:hover label.sk-toggleable__label {background-color: #d4ebff;}#sk-container-id-1 div.sk-serial::before {content: \"\";position: absolute;border-left: 1px solid gray;box-sizing: border-box;top: 0;bottom: 0;left: 50%;z-index: 0;}#sk-container-id-1 div.sk-serial {display: flex;flex-direction: column;align-items: center;background-color: white;padding-right: 0.2em;padding-left: 0.2em;position: relative;}#sk-container-id-1 div.sk-item {position: relative;z-index: 1;}#sk-container-id-1 div.sk-parallel {display: flex;align-items: stretch;justify-content: center;background-color: white;position: relative;}#sk-container-id-1 div.sk-item::before, #sk-container-id-1 div.sk-parallel-item::before {content: \"\";position: absolute;border-left: 1px solid gray;box-sizing: border-box;top: 0;bottom: 0;left: 50%;z-index: -1;}#sk-container-id-1 div.sk-parallel-item {display: flex;flex-direction: column;z-index: 1;position: relative;background-color: white;}#sk-container-id-1 div.sk-parallel-item:first-child::after {align-self: flex-end;width: 50%;}#sk-container-id-1 div.sk-parallel-item:last-child::after {align-self: flex-start;width: 50%;}#sk-container-id-1 div.sk-parallel-item:only-child::after {width: 0;}#sk-container-id-1 div.sk-dashed-wrapped {border: 1px dashed gray;margin: 0 0.4em 0.5em 0.4em;box-sizing: border-box;padding-bottom: 0.4em;background-color: white;}#sk-container-id-1 div.sk-label label {font-family: monospace;font-weight: bold;display: inline-block;line-height: 1.2em;}#sk-container-id-1 div.sk-label-container {text-align: center;}#sk-container-id-1 div.sk-container {/* jupyter's `normalize.less` sets `[hidden] { display: none; }` but bootstrap.min.css set `[hidden] { display: none !important; }` so we also need the `!important` here to be able to override the default hidden behavior on the sphinx rendered scikit-learn.org. See: https://github.com/scikit-learn/scikit-learn/issues/21755 */display: inline-block !important;position: relative;}#sk-container-id-1 div.sk-text-repr-fallback {display: none;}</style><div id=\"sk-container-id-1\" class=\"sk-top-container\"><div class=\"sk-text-repr-fallback\"><pre>LogisticRegression(class_weight=&#x27;balanced&#x27;, random_state=10)</pre><b>In a Jupyter environment, please rerun this cell to show the HTML representation or trust the notebook. <br />On GitHub, the HTML representation is unable to render, please try loading this page with nbviewer.org.</b></div><div class=\"sk-container\" hidden><div class=\"sk-item\"><div class=\"sk-estimator sk-toggleable\"><input class=\"sk-toggleable__control sk-hidden--visually\" id=\"sk-estimator-id-1\" type=\"checkbox\" checked><label for=\"sk-estimator-id-1\" class=\"sk-toggleable__label sk-toggleable__label-arrow\">LogisticRegression</label><div class=\"sk-toggleable__content\"><pre>LogisticRegression(class_weight=&#x27;balanced&#x27;, random_state=10)</pre></div></div></div></div></div>"
      ],
      "text/plain": [
       "LogisticRegression(class_weight='balanced', random_state=10)"
      ]
     },
     "execution_count": 19,
     "metadata": {},
     "output_type": "execute_result"
    }
   ],
   "source": [
    "clf.fit(X_train,Y_train)"
   ]
  },
  {
   "cell_type": "code",
   "execution_count": 20,
   "id": "2d0aeb4b",
   "metadata": {},
   "outputs": [
    {
     "name": "stdout",
     "output_type": "stream",
     "text": [
      "分类正确率： 0.8488\n"
     ]
    }
   ],
   "source": [
    "print(\"分类正确率：\",round(clf.score(x_test,y_test),4))"
   ]
  },
  {
   "cell_type": "code",
   "execution_count": 21,
   "id": "0cc8b12a",
   "metadata": {},
   "outputs": [],
   "source": [
    "y_pred = clf.predict(x_test)"
   ]
  },
  {
   "cell_type": "code",
   "execution_count": 22,
   "id": "5415fdfe",
   "metadata": {},
   "outputs": [],
   "source": [
    "from sklearn.metrics import classification_report\n",
    "from sklearn.metrics import accuracy_score"
   ]
  },
  {
   "cell_type": "code",
   "execution_count": 23,
   "id": "0a1b3c56",
   "metadata": {},
   "outputs": [
    {
     "name": "stdout",
     "output_type": "stream",
     "text": [
      "分类正确率: 0.8488\n"
     ]
    }
   ],
   "source": [
    "print(\"分类正确率:\",round(accuracy_score(y_test,y_pred),4))"
   ]
  },
  {
   "cell_type": "code",
   "execution_count": 24,
   "id": "b115762f",
   "metadata": {},
   "outputs": [
    {
     "data": {
      "text/plain": [
       "array([[724, 130],\n",
       "       [ 53, 303]], dtype=int64)"
      ]
     },
     "execution_count": 24,
     "metadata": {},
     "output_type": "execute_result"
    }
   ],
   "source": [
    "from sklearn.metrics import confusion_matrix\n",
    "confusion_matrix(y_test,y_pred)"
   ]
  },
  {
   "cell_type": "code",
   "execution_count": 25,
   "id": "127f1167",
   "metadata": {},
   "outputs": [],
   "source": [
    "import seaborn as sns\n",
    "plt.rcParams['font.sans-serif'] = ['SimHei']"
   ]
  },
  {
   "cell_type": "code",
   "execution_count": 26,
   "id": "f89c7848",
   "metadata": {},
   "outputs": [
    {
     "data": {
      "text/plain": [
       "Text(0.5, 1.0, '混淆矩阵热力图')"
      ]
     },
     "execution_count": 26,
     "metadata": {},
     "output_type": "execute_result"
    },
    {
     "data": {
      "image/png": "[encoded data removed]",
      "text/plain": [
       "<Figure size 640x480 with 2 Axes>"
      ]
     },
     "metadata": {},
     "output_type": "display_data"
    }
   ],
   "source": [
    "ax= sns.heatmap(confusion_matrix(y_test,y_pred),annot=True,fmt=\"d\",cmap='BrBG',\n",
    "           xticklabels=[\"满意(0)\",\"不满意(1)\"],\n",
    "           yticklabels=[\"满意(0)\",\"不满意(1)\"])\n",
    "ax.set_ylabel('真实',fontsize=12)\n",
    "ax.set_xlabel(\"预测\",fontsize=12)\n",
    "ax.set_title(\"混淆矩阵热力图\",fontsize=15)"
   ]
  },
  {
   "cell_type": "code",
   "execution_count": 27,
   "id": "e6f832c4",
   "metadata": {},
   "outputs": [
    {
     "name": "stdout",
     "output_type": "stream",
     "text": [
      "              precision    recall  f1-score   support\n",
      "\n",
      "           0       0.93      0.85      0.89       854\n",
      "           1       0.70      0.85      0.77       356\n",
      "\n",
      "    accuracy                           0.85      1210\n",
      "   macro avg       0.82      0.85      0.83      1210\n",
      "weighted avg       0.86      0.85      0.85      1210\n",
      "\n"
     ]
    }
   ],
   "source": [
    "print(classification_report(y_test,y_pred))"
   ]
  },
  {
   "cell_type": "code",
   "execution_count": 28,
   "id": "dec60072",
   "metadata": {},
   "outputs": [
    {
     "data": {
      "image/png": "[encoded data removed]",
      "text/plain": [
       "<Figure size 640x480 with 1 Axes>"
      ]
     },
     "metadata": {},
     "output_type": "display_data"
    }
   ],
   "source": [
    "from sklearn.metrics import precision_recall_curve\n",
    "probs = clf.predict_proba(x_test)[:,0]\n",
    "precision,recall,thresholds = precision_recall_curve(y_test,probs,pos_label=0)\n",
    "plt.plot(recall,precision)\n",
    "plt.title(\"P-R曲线\")\n",
    "plt.xlabel(\"召回率\")\n",
    "plt.ylabel(\"精确率\")\n",
    "plt.show()"
   ]
  },
  {
   "cell_type": "code",
   "execution_count": 29,
   "id": "6e4ee137",
   "metadata": {},
   "outputs": [
    {
     "data": {
      "image/png": "[encoded data removed]",
      "text/plain": [
       "<Figure size 640x480 with 1 Axes>"
      ]
     },
     "metadata": {},
     "output_type": "display_data"
    }
   ],
   "source": [
    "# roc 曲线 与 AUC\n",
    "from sklearn.metrics import roc_curve\n",
    "probs = clf.predict_proba(x_test)[:,1]\n",
    "fpr,tpr,thresholds = roc_curve(y_test,probs)\n",
    "plt.plot(fpr,tpr)\n",
    "plt.xlabel(\"假正率\")\n",
    "plt.ylabel(\"真正率\")\n",
    "plt.title(\"ROC曲线\",fontsize=16)\n",
    "plt.show()"
   ]
  },
  {
   "cell_type": "code",
   "execution_count": 30,
   "id": "82d58635",
   "metadata": {},
   "outputs": [
    {
     "data": {
      "text/plain": [
       "0.9362681893534722"
      ]
     },
     "execution_count": 30,
     "metadata": {},
     "output_type": "execute_result"
    }
   ],
   "source": [
    "from sklearn.metrics import roc_auc_score\n",
    "roc_auc_score(y_test,probs)"
   ]
  },
  {
   "cell_type": "code",
   "execution_count": 31,
   "id": "ec3f9e05",
   "metadata": {},
   "outputs": [],
   "source": [
    "from sklearn import metrics"
   ]
  },
  {
   "cell_type": "code",
   "execution_count": 32,
   "id": "a97e88c1",
   "metadata": {},
   "outputs": [
    {
     "data": {
      "text/plain": [
       "0.9362681893534722"
      ]
     },
     "execution_count": 32,
     "metadata": {},
     "output_type": "execute_result"
    }
   ],
   "source": [
    "metrics.auc(fpr,tpr)"
   ]
  },
  {
   "cell_type": "markdown",
   "id": "083802c1",
   "metadata": {},
   "source": [
    "# 对数损失函数"
   ]
  },
  {
   "cell_type": "code",
   "execution_count": 33,
   "id": "793911e7",
   "metadata": {},
   "outputs": [],
   "source": [
    "from sklearn.metrics import log_loss"
   ]
  },
  {
   "cell_type": "code",
   "execution_count": 34,
   "id": "de87ab59",
   "metadata": {},
   "outputs": [
    {
     "name": "stdout",
     "output_type": "stream",
     "text": [
      "损失函数: 0.32341415069941093\n"
     ]
    }
   ],
   "source": [
    "print(\"损失函数:\",log_loss(y_test,probs))"
   ]
  },
  {
   "cell_type": "code",
   "execution_count": 35,
   "id": "f4a1d72d",
   "metadata": {},
   "outputs": [
    {
     "name": "stdout",
     "output_type": "stream",
     "text": [
      "损失函数的总和： 391.3311223462872\n"
     ]
    }
   ],
   "source": [
    "print(\"损失函数的总和：\",log_loss(y_test,probs,normalize=False))"
   ]
  },
  {
   "cell_type": "code",
   "execution_count": 36,
   "id": "5c472430",
   "metadata": {},
   "outputs": [
    {
     "data": {
      "text/html": [
       "<style>#sk-container-id-2 {color: black;background-color: white;}#sk-container-id-2 pre{padding: 0;}#sk-container-id-2 div.sk-toggleable {background-color: white;}#sk-container-id-2 label.sk-toggleable__label {cursor: pointer;display: block;width: 100%;margin-bottom: 0;padding: 0.3em;box-sizing: border-box;text-align: center;}#sk-container-id-2 label.sk-toggleable__label-arrow:before {content: \"▸\";float: left;margin-right: 0.25em;color: #696969;}#sk-container-id-2 label.sk-toggleable__label-arrow:hover:before {color: black;}#sk-container-id-2 div.sk-estimator:hover label.sk-toggleable__label-arrow:before {color: black;}#sk-container-id-2 div.sk-toggleable__content {max-height: 0;max-width: 0;overflow: hidden;text-align: left;background-color: #f0f8ff;}#sk-container-id-2 div.sk-toggleable__content pre {margin: 0.2em;color: black;border-radius: 0.25em;background-color: #f0f8ff;}#sk-container-id-2 input.sk-toggleable__control:checked~div.sk-toggleable__content {max-height: 200px;max-width: 100%;overflow: auto;}#sk-container-id-2 input.sk-toggleable__control:checked~label.sk-toggleable__label-arrow:before {content: \"▾\";}#sk-container-id-2 div.sk-estimator input.sk-toggleable__control:checked~label.sk-toggleable__label {background-color: #d4ebff;}#sk-container-id-2 div.sk-label input.sk-toggleable__control:checked~label.sk-toggleable__label {background-color: #d4ebff;}#sk-container-id-2 input.sk-hidden--visually {border: 0;clip: rect(1px 1px 1px 1px);clip: rect(1px, 1px, 1px, 1px);height: 1px;margin: -1px;overflow: hidden;padding: 0;position: absolute;width: 1px;}#sk-container-id-2 div.sk-estimator {font-family: monospace;background-color: #f0f8ff;border: 1px dotted black;border-radius: 0.25em;box-sizing: border-box;margin-bottom: 0.5em;}#sk-container-id-2 div.sk-estimator:hover {background-color: #d4ebff;}#sk-container-id-2 div.sk-parallel-item::after {content: \"\";width: 100%;border-bottom: 1px solid gray;flex-grow: 1;}#sk-container-id-2 div.sk-label:hover label.sk-toggleable__label {background-color: #d4ebff;}#sk-container-id-2 div.sk-serial::before {content: \"\";position: absolute;border-left: 1px solid gray;box-sizing: border-box;top: 0;bottom: 0;left: 50%;z-index: 0;}#sk-container-id-2 div.sk-serial {display: flex;flex-direction: column;align-items: center;background-color: white;padding-right: 0.2em;padding-left: 0.2em;position: relative;}#sk-container-id-2 div.sk-item {position: relative;z-index: 1;}#sk-container-id-2 div.sk-parallel {display: flex;align-items: stretch;justify-content: center;background-color: white;position: relative;}#sk-container-id-2 div.sk-item::before, #sk-container-id-2 div.sk-parallel-item::before {content: \"\";position: absolute;border-left: 1px solid gray;box-sizing: border-box;top: 0;bottom: 0;left: 50%;z-index: -1;}#sk-container-id-2 div.sk-parallel-item {display: flex;flex-direction: column;z-index: 1;position: relative;background-color: white;}#sk-container-id-2 div.sk-parallel-item:first-child::after {align-self: flex-end;width: 50%;}#sk-container-id-2 div.sk-parallel-item:last-child::after {align-self: flex-start;width: 50%;}#sk-container-id-2 div.sk-parallel-item:only-child::after {width: 0;}#sk-container-id-2 div.sk-dashed-wrapped {border: 1px dashed gray;margin: 0 0.4em 0.5em 0.4em;box-sizing: border-box;padding-bottom: 0.4em;background-color: white;}#sk-container-id-2 div.sk-label label {font-family: monospace;font-weight: bold;display: inline-block;line-height: 1.2em;}#sk-container-id-2 div.sk-label-container {text-align: center;}#sk-container-id-2 div.sk-container {/* jupyter's `normalize.less` sets `[hidden] { display: none; }` but bootstrap.min.css set `[hidden] { display: none !important; }` so we also need the `!important` here to be able to override the default hidden behavior on the sphinx rendered scikit-learn.org. See: https://github.com/scikit-learn/scikit-learn/issues/21755 */display: inline-block !important;position: relative;}#sk-container-id-2 div.sk-text-repr-fallback {display: none;}</style><div id=\"sk-container-id-2\" class=\"sk-top-container\"><div class=\"sk-text-repr-fallback\"><pre>SVC(random_state=10)</pre><b>In a Jupyter environment, please rerun this cell to show the HTML representation or trust the notebook. <br />On GitHub, the HTML representation is unable to render, please try loading this page with nbviewer.org.</b></div><div class=\"sk-container\" hidden><div class=\"sk-item\"><div class=\"sk-estimator sk-toggleable\"><input class=\"sk-toggleable__control sk-hidden--visually\" id=\"sk-estimator-id-2\" type=\"checkbox\" checked><label for=\"sk-estimator-id-2\" class=\"sk-toggleable__label sk-toggleable__label-arrow\">SVC</label><div class=\"sk-toggleable__content\"><pre>SVC(random_state=10)</pre></div></div></div></div></div>"
      ],
      "text/plain": [
       "SVC(random_state=10)"
      ]
     },
     "execution_count": 36,
     "metadata": {},
     "output_type": "execute_result"
    }
   ],
   "source": [
    "from sklearn.svm import SVC\n",
    "from sklearn.metrics import hinge_loss\n",
    "ksvm = SVC(random_state=10)\n",
    "ksvm.fit(X_train,Y_train)"
   ]
  },
  {
   "cell_type": "code",
   "execution_count": 37,
   "id": "9e55b8e4",
   "metadata": {},
   "outputs": [
    {
     "name": "stdout",
     "output_type": "stream",
     "text": [
      "合页损失: 0.14070257071814235\n"
     ]
    }
   ],
   "source": [
    "pred_decision = ksvm.decision_function(x_test)\n",
    "print(\"合页损失:\",hinge_loss(y_test,pred_decision))"
   ]
  },
  {
   "cell_type": "markdown",
   "id": "ae4b5164",
   "metadata": {},
   "source": [
    "# 回归指标"
   ]
  },
  {
   "cell_type": "code",
   "execution_count": 38,
   "id": "9d401df0",
   "metadata": {},
   "outputs": [],
   "source": [
    "from sklearn.linear_model import LinearRegression\n",
    "from sklearn import metrics\n",
    "from sklearn.metrics import mean_squared_error,mean_absolute_error,median_absolute_error"
   ]
  },
  {
   "cell_type": "code",
   "execution_count": 39,
   "id": "9dd60fb2",
   "metadata": {},
   "outputs": [
    {
     "data": {
      "text/html": [
       "<style>#sk-container-id-3 {color: black;background-color: white;}#sk-container-id-3 pre{padding: 0;}#sk-container-id-3 div.sk-toggleable {background-color: white;}#sk-container-id-3 label.sk-toggleable__label {cursor: pointer;display: block;width: 100%;margin-bottom: 0;padding: 0.3em;box-sizing: border-box;text-align: center;}#sk-container-id-3 label.sk-toggleable__label-arrow:before {content: \"▸\";float: left;margin-right: 0.25em;color: #696969;}#sk-container-id-3 label.sk-toggleable__label-arrow:hover:before {color: black;}#sk-container-id-3 div.sk-estimator:hover label.sk-toggleable__label-arrow:before {color: black;}#sk-container-id-3 div.sk-toggleable__content {max-height: 0;max-width: 0;overflow: hidden;text-align: left;background-color: #f0f8ff;}#sk-container-id-3 div.sk-toggleable__content pre {margin: 0.2em;color: black;border-radius: 0.25em;background-color: #f0f8ff;}#sk-container-id-3 input.sk-toggleable__control:checked~div.sk-toggleable__content {max-height: 200px;max-width: 100%;overflow: auto;}#sk-container-id-3 input.sk-toggleable__control:checked~label.sk-toggleable__label-arrow:before {content: \"▾\";}#sk-container-id-3 div.sk-estimator input.sk-toggleable__control:checked~label.sk-toggleable__label {background-color: #d4ebff;}#sk-container-id-3 div.sk-label input.sk-toggleable__control:checked~label.sk-toggleable__label {background-color: #d4ebff;}#sk-container-id-3 input.sk-hidden--visually {border: 0;clip: rect(1px 1px 1px 1px);clip: rect(1px, 1px, 1px, 1px);height: 1px;margin: -1px;overflow: hidden;padding: 0;position: absolute;width: 1px;}#sk-container-id-3 div.sk-estimator {font-family: monospace;background-color: #f0f8ff;border: 1px dotted black;border-radius: 0.25em;box-sizing: border-box;margin-bottom: 0.5em;}#sk-container-id-3 div.sk-estimator:hover {background-color: #d4ebff;}#sk-container-id-3 div.sk-parallel-item::after {content: \"\";width: 100%;border-bottom: 1px solid gray;flex-grow: 1;}#sk-container-id-3 div.sk-label:hover label.sk-toggleable__label {background-color: #d4ebff;}#sk-container-id-3 div.sk-serial::before {content: \"\";position: absolute;border-left: 1px solid gray;box-sizing: border-box;top: 0;bottom: 0;left: 50%;z-index: 0;}#sk-container-id-3 div.sk-serial {display: flex;flex-direction: column;align-items: center;background-color: white;padding-right: 0.2em;padding-left: 0.2em;position: relative;}#sk-container-id-3 div.sk-item {position: relative;z-index: 1;}#sk-container-id-3 div.sk-parallel {display: flex;align-items: stretch;justify-content: center;background-color: white;position: relative;}#sk-container-id-3 div.sk-item::before, #sk-container-id-3 div.sk-parallel-item::before {content: \"\";position: absolute;border-left: 1px solid gray;box-sizing: border-box;top: 0;bottom: 0;left: 50%;z-index: -1;}#sk-container-id-3 div.sk-parallel-item {display: flex;flex-direction: column;z-index: 1;position: relative;background-color: white;}#sk-container-id-3 div.sk-parallel-item:first-child::after {align-self: flex-end;width: 50%;}#sk-container-id-3 div.sk-parallel-item:last-child::after {align-self: flex-start;width: 50%;}#sk-container-id-3 div.sk-parallel-item:only-child::after {width: 0;}#sk-container-id-3 div.sk-dashed-wrapped {border: 1px dashed gray;margin: 0 0.4em 0.5em 0.4em;box-sizing: border-box;padding-bottom: 0.4em;background-color: white;}#sk-container-id-3 div.sk-label label {font-family: monospace;font-weight: bold;display: inline-block;line-height: 1.2em;}#sk-container-id-3 div.sk-label-container {text-align: center;}#sk-container-id-3 div.sk-container {/* jupyter's `normalize.less` sets `[hidden] { display: none; }` but bootstrap.min.css set `[hidden] { display: none !important; }` so we also need the `!important` here to be able to override the default hidden behavior on the sphinx rendered scikit-learn.org. See: https://github.com/scikit-learn/scikit-learn/issues/21755 */display: inline-block !important;position: relative;}#sk-container-id-3 div.sk-text-repr-fallback {display: none;}</style><div id=\"sk-container-id-3\" class=\"sk-top-container\"><div class=\"sk-text-repr-fallback\"><pre>LinearRegression()</pre><b>In a Jupyter environment, please rerun this cell to show the HTML representation or trust the notebook. <br />On GitHub, the HTML representation is unable to render, please try loading this page with nbviewer.org.</b></div><div class=\"sk-container\" hidden><div class=\"sk-item\"><div class=\"sk-estimator sk-toggleable\"><input class=\"sk-toggleable__control sk-hidden--visually\" id=\"sk-estimator-id-3\" type=\"checkbox\" checked><label for=\"sk-estimator-id-3\" class=\"sk-toggleable__label sk-toggleable__label-arrow\">LinearRegression</label><div class=\"sk-toggleable__content\"><pre>LinearRegression()</pre></div></div></div></div></div>"
      ],
      "text/plain": [
       "LinearRegression()"
      ]
     },
     "execution_count": 39,
     "metadata": {},
     "output_type": "execute_result"
    }
   ],
   "source": [
    "lr = LinearRegression()\n",
    "lr.fit(X_train,Y_train)"
   ]
  },
  {
   "cell_type": "code",
   "execution_count": 40,
   "id": "1556bc87",
   "metadata": {},
   "outputs": [],
   "source": [
    "pred_y = lr.predict(x_test)\n",
    "pred_y_train = lr.predict(X_train)"
   ]
  },
  {
   "cell_type": "code",
   "execution_count": 41,
   "id": "c7bffcd1",
   "metadata": {},
   "outputs": [
    {
     "name": "stdout",
     "output_type": "stream",
     "text": [
      "训练集的均方误差:  0.117\n",
      "训练集的平均绝对误差:  0.289\n",
      "训练集的中值绝对误差:  0.265\n",
      "训练集的决定系数:  0.456\n",
      "------------------------------\n",
      "测试集的均方误差:  0.112\n",
      "测试集的平均绝对误差:  0.281\n",
      "测试集的中值绝对误差:  0.263\n",
      "测试集的决定系数:  0.462\n"
     ]
    }
   ],
   "source": [
    "print(\"训练集的均方误差: \", round(mean_squared_error(Y_train, pred_y_train),3))\n",
    "print(\"训练集的平均绝对误差: \", round(mean_absolute_error(Y_train, pred_y_train),3))\n",
    "print(\"训练集的中值绝对误差: \", round(median_absolute_error(Y_train, pred_y_train),3))\n",
    "print(\"训练集的决定系数: \", round(metrics.r2_score(Y_train, pred_y_train),3))\n",
    "print(\"-\"*30)\n",
    "print(\"测试集的均方误差: \", round(mean_squared_error(y_test, pred_y),3))\n",
    "print(\"测试集的平均绝对误差: \", round(mean_absolute_error(y_test, pred_y),3))\n",
    "print(\"测试集的中值绝对误差: \", round(median_absolute_error(y_test, pred_y),3))\n",
    "print(\"测试集的决定系数: \", round(metrics.r2_score(y_test, pred_y),3))"
   ]
  },
  {
   "cell_type": "markdown",
   "id": "f859483c",
   "metadata": {},
   "source": [
    "#  聚类分析指标"
   ]
  },
  {
   "cell_type": "code",
   "execution_count": 42,
   "id": "6f3e9629",
   "metadata": {},
   "outputs": [],
   "source": [
    "from sklearn.cluster import KMeans"
   ]
  },
  {
   "cell_type": "code",
   "execution_count": 43,
   "id": "3985a3b5",
   "metadata": {},
   "outputs": [],
   "source": [
    "model = KMeans(n_clusters=3,random_state=111).fit(car_data)"
   ]
  },
  {
   "cell_type": "code",
   "execution_count": 44,
   "id": "379db11d",
   "metadata": {},
   "outputs": [
    {
     "ename": "SyntaxError",
     "evalue": "unexpected EOF while parsing (2923967391.py, line 4)",
     "output_type": "error",
     "traceback": [
      "\u001b[1;36m  Input \u001b[1;32mIn [44]\u001b[1;36m\u001b[0m\n\u001b[1;33m    print('轮廓系数(k=%d):'%(i),round(silhouette_score(car_data,labels),3)\u001b[0m\n\u001b[1;37m                                                                      ^\u001b[0m\n\u001b[1;31mSyntaxError\u001b[0m\u001b[1;31m:\u001b[0m unexpected EOF while parsing\n"
     ]
    }
   ],
   "source": [
    "for i in np.arange(2,7):\n",
    "    model = KMeans(n_clusters=i,random_state=111).fit(car_data)\n",
    "    labels = model.labels_\n",
    "    print('轮廓系数(k=%d):'%(i),round(silhouette_score(car_data,labels),3)"
   ]
  },
  {
   "cell_type": "markdown",
   "id": "75b76c1a",
   "metadata": {},
   "source": [
    "# 交叉验证"
   ]
  },
  {
   "cell_type": "code",
   "execution_count": 50,
   "id": "7781b3b5",
   "metadata": {},
   "outputs": [],
   "source": [
    "from sklearn.model_selection import KFold\n",
    "from sklearn.model_selection import StratifiedKFold"
   ]
  },
  {
   "cell_type": "code",
   "execution_count": 52,
   "id": "3db51e7e",
   "metadata": {},
   "outputs": [],
   "source": [
    "kf = KFold(n_splits=3,shuffle=True)\n",
    "skf = StratifiedKFold(n_splits=3,shuffle=True)"
   ]
  },
  {
   "cell_type": "code",
   "execution_count": 53,
   "id": "3f37d659",
   "metadata": {},
   "outputs": [
    {
     "data": {
      "text/plain": [
       "<generator object _BaseKFold.split at 0x000002560EAC3660>"
      ]
     },
     "execution_count": 53,
     "metadata": {},
     "output_type": "execute_result"
    }
   ],
   "source": [
    "kf.split(X,Y)"
   ]
  },
  {
   "cell_type": "code",
   "execution_count": 54,
   "id": "0ca93ffe",
   "metadata": {},
   "outputs": [
    {
     "data": {
      "text/plain": [
       "<generator object _BaseKFold.split at 0x000002560EA55A50>"
      ]
     },
     "execution_count": 54,
     "metadata": {},
     "output_type": "execute_result"
    }
   ],
   "source": [
    "skf.split(X,Y)"
   ]
  },
  {
   "cell_type": "code",
   "execution_count": 55,
   "id": "b42b90a3",
   "metadata": {},
   "outputs": [],
   "source": [
    "from sklearn.model_selection import ShuffleSplit"
   ]
  },
  {
   "cell_type": "code",
   "execution_count": 56,
   "id": "57a5d24e",
   "metadata": {},
   "outputs": [],
   "source": [
    "rs = ShuffleSplit(n_splits=3,test_size=.2,random_state=0)"
   ]
  },
  {
   "cell_type": "code",
   "execution_count": 57,
   "id": "17ce958d",
   "metadata": {},
   "outputs": [
    {
     "data": {
      "text/plain": [
       "<generator object BaseShuffleSplit.split at 0x000002560EACA900>"
      ]
     },
     "execution_count": 57,
     "metadata": {},
     "output_type": "execute_result"
    }
   ],
   "source": [
    "rs.split(X,Y)"
   ]
  },
  {
   "cell_type": "code",
   "execution_count": 58,
   "id": "4ed96ee6",
   "metadata": {},
   "outputs": [
    {
     "data": {
      "text/plain": [
       "3"
      ]
     },
     "execution_count": 58,
     "metadata": {},
     "output_type": "execute_result"
    }
   ],
   "source": [
    "rs.get_n_splits()"
   ]
  },
  {
   "cell_type": "code",
   "execution_count": 59,
   "id": "a8d8dbd5",
   "metadata": {},
   "outputs": [],
   "source": [
    "from sklearn.model_selection import cross_val_score\n",
    "from sklearn.linear_model import LogisticRegression"
   ]
  },
  {
   "cell_type": "code",
   "execution_count": 61,
   "id": "c26087a8",
   "metadata": {},
   "outputs": [
    {
     "name": "stdout",
     "output_type": "stream",
     "text": [
      "Cross validation score is: [0.76589595 0.87283237 0.88439306 0.87826087 0.75072464]\n"
     ]
    }
   ],
   "source": [
    "# 五折交叉验证返回5个正确率\n",
    "print('Cross validation score is:',cross_val_score(LogisticRegression(),X,Y,cv=5))"
   ]
  },
  {
   "cell_type": "code",
   "execution_count": 62,
   "id": "99b5558c",
   "metadata": {},
   "outputs": [
    {
     "name": "stdout",
     "output_type": "stream",
     "text": [
      "Cross validation score is: [0.78034682 0.79768786 0.92485549 0.8150289  0.90751445 0.88439306\n",
      " 0.93641618 0.83236994 0.89534884 0.70348837]\n"
     ]
    }
   ],
   "source": [
    "# 十折交叉验证\n",
    "print('Cross validation score is:',cross_val_score(LogisticRegression(),X,Y,cv=10))"
   ]
  },
  {
   "cell_type": "markdown",
   "id": "8fe527d7",
   "metadata": {},
   "source": [
    "# 学习曲线"
   ]
  },
  {
   "cell_type": "markdown",
   "id": "c11cc5bb",
   "metadata": {},
   "source": [
    "##### 学习曲线（learning curve）是关于模型在训练集和测试集上的预测性能曲线\n",
    "##### 横轴为训练集的样本数量，纵轴为交叉验证的正确率\n",
    "##### 能够判断模型的方差或偏差是否过高，以及增大训练集是否可以减小过拟合\n",
    "![image.png](https://s2.loli.net/2022/11/19/3pReNGuvkCc9QAD.png)\n",
    "\n",
    "![image.png](https://s2.loli.net/2022/11/19/CTPfJXsFZp57ERS.png)"
   ]
  },
  {
   "cell_type": "code",
   "execution_count": 63,
   "id": "5696a8ba",
   "metadata": {},
   "outputs": [],
   "source": [
    "# 可视化学习曲线\n",
    "from sklearn.model_selection import learning_curve\n",
    "# from sklearn.model_selection import "
   ]
  },
  {
   "cell_type": "code",
   "execution_count": 64,
   "id": "7f64b373",
   "metadata": {},
   "outputs": [],
   "source": [
    "estimator = LogisticRegression()"
   ]
  },
  {
   "cell_type": "code",
   "execution_count": 65,
   "id": "6396be87",
   "metadata": {},
   "outputs": [],
   "source": [
    "cv = ShuffleSplit(n_splits=100,test_size=.2,random_state=0)"
   ]
  },
  {
   "cell_type": "code",
   "execution_count": 66,
   "id": "c9cfcaf2",
   "metadata": {},
   "outputs": [
    {
     "data": {
      "text/plain": [
       "(array([ 138,  449,  760, 1071, 1382]),\n",
       " array([[0.86956522, 0.89130435, 0.87681159, 0.80434783, 0.85507246,\n",
       "         0.9057971 , 0.87681159, 0.89855072, 0.8115942 , 0.88405797,\n",
       "         0.88405797, 0.88405797, 0.89130435, 0.84782609, 0.93478261,\n",
       "         0.87681159, 0.89130435, 0.89130435, 0.91304348, 0.89130435,\n",
       "         0.81884058, 0.87681159, 0.89130435, 0.9057971 , 0.87681159,\n",
       "         0.88405797, 0.86231884, 0.86956522, 0.79710145, 0.89130435,\n",
       "         0.88405797, 0.88405797, 0.86956522, 0.89130435, 0.8115942 ,\n",
       "         0.9057971 , 0.89855072, 0.9057971 , 0.84782609, 0.83333333,\n",
       "         0.9057971 , 0.86956522, 0.91304348, 0.79710145, 0.92753623,\n",
       "         0.89130435, 0.88405797, 0.88405797, 0.89855072, 0.83333333,\n",
       "         0.88405797, 0.84057971, 0.86956522, 0.84782609, 0.84057971,\n",
       "         0.84782609, 0.85507246, 0.85507246, 0.89855072, 0.86231884,\n",
       "         0.86231884, 0.86956522, 0.87681159, 0.86231884, 0.85507246,\n",
       "         0.85507246, 0.89130435, 0.83333333, 0.83333333, 0.82608696,\n",
       "         0.93478261, 0.84782609, 0.9057971 , 0.86231884, 0.92753623,\n",
       "         0.87681159, 0.89855072, 0.9057971 , 0.9057971 , 0.85507246,\n",
       "         0.92028986, 0.92753623, 0.88405797, 0.86956522, 0.87681159,\n",
       "         0.84057971, 0.82608696, 0.89130435, 0.86231884, 0.86231884,\n",
       "         0.9057971 , 0.88405797, 0.88405797, 0.89130435, 0.87681159,\n",
       "         0.85507246, 0.89130435, 0.88405797, 0.9057971 , 0.92028986],\n",
       "        [0.88864143, 0.87305122, 0.89309577, 0.87082405, 0.85523385,\n",
       "         0.87973274, 0.87305122, 0.8752784 , 0.86414254, 0.88641425,\n",
       "         0.87305122, 0.87750557, 0.88864143, 0.86859688, 0.88418708,\n",
       "         0.87305122, 0.8596882 , 0.87750557, 0.8752784 , 0.83964365,\n",
       "         0.8596882 , 0.88418708, 0.86859688, 0.86636971, 0.8596882 ,\n",
       "         0.85523385, 0.8596882 , 0.88641425, 0.85523385, 0.8752784 ,\n",
       "         0.85523385, 0.8752784 , 0.86414254, 0.86859688, 0.88195991,\n",
       "         0.90200445, 0.85746102, 0.87305122, 0.86859688, 0.86636971,\n",
       "         0.85523385, 0.8752784 , 0.87750557, 0.8596882 , 0.86859688,\n",
       "         0.87082405, 0.87750557, 0.8908686 , 0.8908686 , 0.83964365,\n",
       "         0.8752784 , 0.88641425, 0.87750557, 0.85300668, 0.84855234,\n",
       "         0.8596882 , 0.85300668, 0.85523385, 0.89309577, 0.8596882 ,\n",
       "         0.86414254, 0.8752784 , 0.85077951, 0.85077951, 0.86414254,\n",
       "         0.86636971, 0.87305122, 0.86636971, 0.84855234, 0.86636971,\n",
       "         0.86636971, 0.87305122, 0.89532294, 0.8752784 , 0.88418708,\n",
       "         0.89532294, 0.8752784 , 0.85746102, 0.87750557, 0.85077951,\n",
       "         0.8908686 , 0.84632517, 0.87082405, 0.85523385, 0.89309577,\n",
       "         0.85523385, 0.84632517, 0.89309577, 0.86191537, 0.86191537,\n",
       "         0.88864143, 0.87082405, 0.87305122, 0.90200445, 0.87750557,\n",
       "         0.85523385, 0.86636971, 0.87750557, 0.88864143, 0.86414254],\n",
       "        [0.87236842, 0.86710526, 0.89210526, 0.86315789, 0.86447368,\n",
       "         0.875     , 0.86842105, 0.85921053, 0.86447368, 0.86447368,\n",
       "         0.85657895, 0.88552632, 0.86710526, 0.85526316, 0.86315789,\n",
       "         0.87631579, 0.86315789, 0.875     , 0.85657895, 0.86447368,\n",
       "         0.86184211, 0.88026316, 0.88157895, 0.86447368, 0.87236842,\n",
       "         0.86447368, 0.86447368, 0.88552632, 0.85131579, 0.86578947,\n",
       "         0.85789474, 0.86973684, 0.87236842, 0.86973684, 0.87236842,\n",
       "         0.88289474, 0.86184211, 0.87368421, 0.86710526, 0.86052632,\n",
       "         0.85657895, 0.87105263, 0.86973684, 0.86578947, 0.86578947,\n",
       "         0.87105263, 0.86578947, 0.87105263, 0.87631579, 0.84736842,\n",
       "         0.86052632, 0.88815789, 0.86710526, 0.86447368, 0.86447368,\n",
       "         0.85657895, 0.86710526, 0.85657895, 0.87894737, 0.84868421,\n",
       "         0.84736842, 0.87763158, 0.84736842, 0.85394737, 0.85526316,\n",
       "         0.875     , 0.85921053, 0.86973684, 0.85263158, 0.875     ,\n",
       "         0.85263158, 0.87105263, 0.88552632, 0.85921053, 0.87631579,\n",
       "         0.87236842, 0.87105263, 0.87236842, 0.87236842, 0.85921053,\n",
       "         0.86710526, 0.85657895, 0.87105263, 0.86842105, 0.88947368,\n",
       "         0.87105263, 0.85657895, 0.87368421, 0.85921053, 0.86315789,\n",
       "         0.875     , 0.86578947, 0.87105263, 0.87763158, 0.87763158,\n",
       "         0.86052632, 0.87763158, 0.87368421, 0.87368421, 0.88157895],\n",
       "        [0.87488329, 0.87955182, 0.87301587, 0.86928105, 0.86461251,\n",
       "         0.87114846, 0.86554622, 0.86834734, 0.85994398, 0.86647993,\n",
       "         0.87208217, 0.87394958, 0.87114846, 0.85247432, 0.87301587,\n",
       "         0.87955182, 0.85994398, 0.87208217, 0.87021475, 0.85994398,\n",
       "         0.85994398, 0.87301587, 0.87768441, 0.87021475, 0.86554622,\n",
       "         0.86647993, 0.87208217, 0.87301587, 0.86087768, 0.86647993,\n",
       "         0.85434174, 0.87581699, 0.86554622, 0.86834734, 0.86741363,\n",
       "         0.86741363, 0.86181139, 0.87581699, 0.8636788 , 0.8627451 ,\n",
       "         0.85714286, 0.88328665, 0.8636788 , 0.8627451 , 0.86647993,\n",
       "         0.86834734, 0.86647993, 0.86087768, 0.86928105, 0.85807656,\n",
       "         0.86928105, 0.87114846, 0.86928105, 0.86181139, 0.86647993,\n",
       "         0.86834734, 0.87301587, 0.85714286, 0.87301587, 0.85247432,\n",
       "         0.86647993, 0.86554622, 0.86461251, 0.87114846, 0.87301587,\n",
       "         0.87114846, 0.85994398, 0.87488329, 0.85901027, 0.88048553,\n",
       "         0.85527544, 0.87301587, 0.87581699, 0.8627451 , 0.87488329,\n",
       "         0.85901027, 0.87208217, 0.87955182, 0.87488329, 0.87021475,\n",
       "         0.86928105, 0.86087768, 0.86554622, 0.86741363, 0.88048553,\n",
       "         0.86834734, 0.86554622, 0.87955182, 0.85901027, 0.8636788 ,\n",
       "         0.87394958, 0.85994398, 0.86647993, 0.87488329, 0.87394958,\n",
       "         0.85994398, 0.88048553, 0.87768441, 0.86554622, 0.87394958],\n",
       "        [0.87192475, 0.87698987, 0.8683068 , 0.86396527, 0.86324168,\n",
       "         0.87047757, 0.86396527, 0.86613603, 0.86468886, 0.86613603,\n",
       "         0.87264834, 0.87626628, 0.87047757, 0.85890014, 0.87264834,\n",
       "         0.87337192, 0.86613603, 0.86975398, 0.86758321, 0.86251809,\n",
       "         0.86468886, 0.87337192, 0.87409551, 0.86758321, 0.86468886,\n",
       "         0.86903039, 0.86541245, 0.86541245, 0.86396527, 0.85817656,\n",
       "         0.85817656, 0.87626628, 0.86685962, 0.86685962, 0.86758321,\n",
       "         0.86468886, 0.86396527, 0.8617945 , 0.87192475, 0.86541245,\n",
       "         0.86975398, 0.87409551, 0.86975398, 0.86468886, 0.86975398,\n",
       "         0.86396527, 0.86468886, 0.87120116, 0.86613603, 0.86396527,\n",
       "         0.87337192, 0.87120116, 0.86324168, 0.86324168, 0.87047757,\n",
       "         0.87192475, 0.87264834, 0.86541245, 0.8683068 , 0.86468886,\n",
       "         0.86468886, 0.87047757, 0.86758321, 0.87047757, 0.87192475,\n",
       "         0.87047757, 0.86685962, 0.86975398, 0.86758321, 0.87047757,\n",
       "         0.87264834, 0.86758321, 0.87192475, 0.8617945 , 0.87047757,\n",
       "         0.87120116, 0.87843705, 0.87409551, 0.86685962, 0.86975398,\n",
       "         0.86685962, 0.86758321, 0.86903039, 0.86975398, 0.87264834,\n",
       "         0.86541245, 0.86685962, 0.87264834, 0.8617945 , 0.8683068 ,\n",
       "         0.86613603, 0.86685962, 0.86758321, 0.86685962, 0.87409551,\n",
       "         0.86107091, 0.86975398, 0.86903039, 0.86685962, 0.86903039]]),\n",
       " array([[0.80057803, 0.80924855, 0.83815029, 0.86416185, 0.86705202,\n",
       "         0.85260116, 0.86416185, 0.83815029, 0.87283237, 0.86705202,\n",
       "         0.84682081, 0.81213873, 0.86127168, 0.90462428, 0.84682081,\n",
       "         0.83236994, 0.86127168, 0.85260116, 0.83815029, 0.8699422 ,\n",
       "         0.86705202, 0.84393064, 0.83526012, 0.84104046, 0.84682081,\n",
       "         0.85549133, 0.86127168, 0.85549133, 0.84682081, 0.87283237,\n",
       "         0.86127168, 0.81791908, 0.83815029, 0.83815029, 0.83236994,\n",
       "         0.88150289, 0.87572254, 0.86127168, 0.80924855, 0.85549133,\n",
       "         0.80635838, 0.8265896 , 0.84393064, 0.8583815 , 0.83815029,\n",
       "         0.86127168, 0.86705202, 0.8150289 , 0.87861272, 0.9017341 ,\n",
       "         0.85260116, 0.81213873, 0.88439306, 0.8699422 , 0.83526012,\n",
       "         0.84682081, 0.85260116, 0.84682081, 0.84393064, 0.86705202,\n",
       "         0.87283237, 0.85549133, 0.88439306, 0.85549133, 0.84393064,\n",
       "         0.8150289 , 0.85549133, 0.84971098, 0.88439306, 0.85260116,\n",
       "         0.82369942, 0.85260116, 0.85260116, 0.8583815 , 0.85549133,\n",
       "         0.84971098, 0.82080925, 0.82080925, 0.84682081, 0.82947977,\n",
       "         0.84104046, 0.85549133, 0.85260116, 0.83236994, 0.84682081,\n",
       "         0.84971098, 0.84393064, 0.8265896 , 0.87283237, 0.88728324,\n",
       "         0.84104046, 0.86127168, 0.8583815 , 0.84104046, 0.83236994,\n",
       "         0.88728324, 0.85260116, 0.87283237, 0.85260116, 0.82080925],\n",
       "        [0.83526012, 0.82369942, 0.84971098, 0.87572254, 0.88439306,\n",
       "         0.84682081, 0.87283237, 0.86705202, 0.86127168, 0.8699422 ,\n",
       "         0.86127168, 0.85260116, 0.8699422 , 0.90751445, 0.85549133,\n",
       "         0.8265896 , 0.88439306, 0.84971098, 0.86705202, 0.87572254,\n",
       "         0.86416185, 0.85549133, 0.83526012, 0.84393064, 0.86416185,\n",
       "         0.86416185, 0.86127168, 0.88439306, 0.87572254, 0.87572254,\n",
       "         0.87283237, 0.8265896 , 0.87572254, 0.8583815 , 0.85549133,\n",
       "         0.88150289, 0.87572254, 0.86416185, 0.82947977, 0.88439306,\n",
       "         0.84393064, 0.84682081, 0.86416185, 0.87572254, 0.86127168,\n",
       "         0.8699422 , 0.87572254, 0.85260116, 0.87861272, 0.89017341,\n",
       "         0.84971098, 0.82369942, 0.87861272, 0.88439306, 0.84682081,\n",
       "         0.84393064, 0.84682081, 0.86705202, 0.8583815 , 0.87572254,\n",
       "         0.87861272, 0.84682081, 0.8699422 , 0.86416185, 0.8699422 ,\n",
       "         0.84971098, 0.86127168, 0.8583815 , 0.88728324, 0.84971098,\n",
       "         0.8265896 , 0.87861272, 0.86127168, 0.87283237, 0.85549133,\n",
       "         0.85549133, 0.84393064, 0.84104046, 0.86416185, 0.85549133,\n",
       "         0.86416185, 0.85549133, 0.86127168, 0.85260116, 0.84682081,\n",
       "         0.86416185, 0.8583815 , 0.83815029, 0.89884393, 0.88439306,\n",
       "         0.86127168, 0.88728324, 0.8699422 , 0.88439306, 0.82369942,\n",
       "         0.89595376, 0.85260116, 0.86705202, 0.84971098, 0.8583815 ],\n",
       "        [0.83236994, 0.83526012, 0.85549133, 0.88150289, 0.88150289,\n",
       "         0.85549133, 0.87283237, 0.86705202, 0.87283237, 0.86127168,\n",
       "         0.85260116, 0.85260116, 0.85549133, 0.91040462, 0.8583815 ,\n",
       "         0.83236994, 0.88439306, 0.85260116, 0.86127168, 0.88150289,\n",
       "         0.87572254, 0.84682081, 0.86127168, 0.85260116, 0.86705202,\n",
       "         0.8583815 , 0.86127168, 0.88439306, 0.88150289, 0.8699422 ,\n",
       "         0.87572254, 0.84393064, 0.87283237, 0.85549133, 0.86416185,\n",
       "         0.88728324, 0.87861272, 0.8699422 , 0.85260116, 0.87861272,\n",
       "         0.86705202, 0.8583815 , 0.86127168, 0.87861272, 0.85549133,\n",
       "         0.87283237, 0.87572254, 0.84393064, 0.87861272, 0.89017341,\n",
       "         0.85260116, 0.83815029, 0.88728324, 0.88150289, 0.85549133,\n",
       "         0.84393064, 0.8583815 , 0.88728324, 0.86416185, 0.87283237,\n",
       "         0.88150289, 0.84971098, 0.87572254, 0.84682081, 0.8583815 ,\n",
       "         0.84393064, 0.86705202, 0.85260116, 0.89306358, 0.85549133,\n",
       "         0.83236994, 0.88150289, 0.8583815 , 0.87861272, 0.86127168,\n",
       "         0.85260116, 0.84393064, 0.8265896 , 0.84971098, 0.85549133,\n",
       "         0.8699422 , 0.87283237, 0.86127168, 0.84682081, 0.85549133,\n",
       "         0.87283237, 0.86127168, 0.83815029, 0.88439306, 0.88439306,\n",
       "         0.87283237, 0.88439306, 0.87283237, 0.87283237, 0.81791908,\n",
       "         0.9017341 , 0.86127168, 0.86127168, 0.84682081, 0.86416185],\n",
       "        [0.83815029, 0.84682081, 0.87283237, 0.88150289, 0.88150289,\n",
       "         0.84682081, 0.87861272, 0.87283237, 0.87572254, 0.87572254,\n",
       "         0.8583815 , 0.84971098, 0.86127168, 0.90462428, 0.86416185,\n",
       "         0.83236994, 0.88150289, 0.84971098, 0.86416185, 0.88150289,\n",
       "         0.88728324, 0.84682081, 0.85549133, 0.8583815 , 0.87572254,\n",
       "         0.86416185, 0.87572254, 0.88150289, 0.88150289, 0.88150289,\n",
       "         0.88439306, 0.82947977, 0.86416185, 0.86416185, 0.86416185,\n",
       "         0.89595376, 0.87861272, 0.86416185, 0.84393064, 0.88439306,\n",
       "         0.86705202, 0.85549133, 0.86416185, 0.87861272, 0.86416185,\n",
       "         0.8699422 , 0.87283237, 0.85549133, 0.87861272, 0.89595376,\n",
       "         0.85260116, 0.84682081, 0.88728324, 0.88150289, 0.84971098,\n",
       "         0.85260116, 0.85260116, 0.88439306, 0.8583815 , 0.87283237,\n",
       "         0.88728324, 0.8583815 , 0.87572254, 0.84971098, 0.87283237,\n",
       "         0.85260116, 0.86705202, 0.85260116, 0.88728324, 0.85549133,\n",
       "         0.84104046, 0.87861272, 0.86705202, 0.88150289, 0.8583815 ,\n",
       "         0.84971098, 0.85260116, 0.84104046, 0.85260116, 0.86127168,\n",
       "         0.8699422 , 0.87283237, 0.86705202, 0.85549133, 0.85549133,\n",
       "         0.87572254, 0.87283237, 0.84682081, 0.88728324, 0.89595376,\n",
       "         0.87283237, 0.88150289, 0.87572254, 0.88439306, 0.82947977,\n",
       "         0.89884393, 0.8583815 , 0.8699422 , 0.8699422 , 0.8699422 ],\n",
       "        [0.84682081, 0.83815029, 0.86416185, 0.88150289, 0.88150289,\n",
       "         0.85260116, 0.87861272, 0.87283237, 0.88150289, 0.87283237,\n",
       "         0.86416185, 0.84682081, 0.86127168, 0.90462428, 0.86705202,\n",
       "         0.84393064, 0.87861272, 0.85260116, 0.86705202, 0.87572254,\n",
       "         0.87861272, 0.84682081, 0.85549133, 0.85549133, 0.87572254,\n",
       "         0.86127168, 0.87572254, 0.88439306, 0.88439306, 0.88728324,\n",
       "         0.89306358, 0.83236994, 0.8699422 , 0.86416185, 0.85549133,\n",
       "         0.89306358, 0.88150289, 0.87861272, 0.85260116, 0.89017341,\n",
       "         0.87572254, 0.86127168, 0.8583815 , 0.88150289, 0.86705202,\n",
       "         0.87283237, 0.8699422 , 0.84971098, 0.87572254, 0.90751445,\n",
       "         0.85260116, 0.85549133, 0.88439306, 0.88439306, 0.84971098,\n",
       "         0.84393064, 0.84393064, 0.88728324, 0.86416185, 0.87572254,\n",
       "         0.88728324, 0.85549133, 0.88728324, 0.85260116, 0.86705202,\n",
       "         0.85549133, 0.8699422 , 0.8583815 , 0.89017341, 0.8583815 ,\n",
       "         0.85260116, 0.87861272, 0.86705202, 0.88728324, 0.85549133,\n",
       "         0.85549133, 0.84393064, 0.84393064, 0.85549133, 0.86127168,\n",
       "         0.88150289, 0.8699422 , 0.86127168, 0.8583815 , 0.84682081,\n",
       "         0.87572254, 0.87283237, 0.85549133, 0.89017341, 0.89017341,\n",
       "         0.87283237, 0.87861272, 0.86416185, 0.87572254, 0.8265896 ,\n",
       "         0.89884393, 0.86127168, 0.86416185, 0.8699422 , 0.8699422 ]]))"
      ]
     },
     "execution_count": 66,
     "metadata": {},
     "output_type": "execute_result"
    }
   ],
   "source": [
    "learning_curve(estimator,X,Y,cv=cv,train_sizes=np.linspace(.1,1,5))"
   ]
  },
  {
   "cell_type": "code",
   "execution_count": 79,
   "id": "c74955ec",
   "metadata": {},
   "outputs": [],
   "source": [
    "def plot_learning_curve(estimator,title,X,y,ylim=None,cv=None,n_jobs=1,\n",
    "                        train_sizes=np.linspace(.05,1.,20),verbose=0):\n",
    "    \"\"\"\n",
    "    画出car_data在模型上的leaening curve\n",
    "    参数解释：\n",
    "    estimator：分类器的使用\n",
    "    title：表格的标题\n",
    "    X：输入的feature,numpy类型\n",
    "    y: 输入的targer vector\n",
    "    ylim : tuple 格式的（ymin,ymax），设定图像中纵坐标的最低点和最高点\n",
    "    cv : 做cross-validation 的时候，数据分成的份数，其中一份作为cv集，其余n-1份作为\n",
    "    training(默认为3份\n",
    "    n_jobs : 并行的的任务数(默认1)\n",
    "\n",
    "    \"\"\"\n",
    "    train_sizes,train_scores,test_scores = learning_curve(estimator,X,y,cv=cv,n_jobs=n_jobs,\n",
    "                                                         train_sizes=train_sizes)\n",
    "    \n",
    "    train_scores_mean = np.mean(train_scores,axis=1)\n",
    "    train_scores_std = np.std(train_scores,axis=1)\n",
    "    test_score_mean = np.mean(test_scores,axis=1)\n",
    "    test_scores_std = np.std(test_scores,axis=1)\n",
    "    \n",
    "    plt.grid()\n",
    "    plt.fill_between(train_sizes,train_scores_mean-train_scores_std,\n",
    "                    train_scores_mean+train_scores_std,alpha=0.1,\n",
    "                    color = \"r\")\n",
    "    plt.fill_between(train_sizes,test_score_mean-test_scores_std,\n",
    "                    test_score_mean+test_scores_std,alpha=0.1,\n",
    "                    color=\"g\")\n",
    "    plt.plot(train_sizes,train_scores_mean,'o-',color='r',label=\"Training score\")\n",
    "    plt.plot(train_sizes,test_score_mean,'o-',color='g',label=\"Cross-validation score\")\n",
    "    plt.legend(loc='best')\n",
    "    return plt\n",
    "\n",
    "\n",
    "    "
   ]
  },
  {
   "cell_type": "code",
   "execution_count": 80,
   "id": "f8f8b540",
   "metadata": {},
   "outputs": [
    {
     "data": {
      "text/plain": [
       "<module 'matplotlib.pyplot' from 'C:\\\\Users\\\\morang\\\\AppData\\\\Local\\\\Programs\\\\Python\\\\Python39\\\\lib\\\\site-packages\\\\matplotlib\\\\pyplot.py'>"
      ]
     },
     "execution_count": 80,
     "metadata": {},
     "output_type": "execute_result"
    },
    {
     "data": {
      "image/png": "[encoded data removed]",
      "text/plain": [
       "<Figure size 640x480 with 1 Axes>"
      ]
     },
     "metadata": {},
     "output_type": "display_data"
    }
   ],
   "source": [
    "plot_learning_curve(estimator,u\"学习曲线\",X,Y)"
   ]
  },
  {
   "cell_type": "markdown",
   "id": "49cc67fa",
   "metadata": {},
   "source": [
    "# 参数调优"
   ]
  },
  {
   "cell_type": "code",
   "execution_count": 70,
   "id": "fe8ab071",
   "metadata": {},
   "outputs": [
    {
     "name": "stdout",
     "output_type": "stream",
     "text": [
      "Parameter grid:\n",
      "{'C': [0.1, 1, 10, 100], 'gamma': [0.1, 1, 10, 100]}\n"
     ]
    }
   ],
   "source": [
    "param_grid = {'C': [0.1, 1, 10, 100], 'gamma': [0.1, 1, 10, 100]}\n",
    "print(\"Parameter grid:\\n{}\".format(param_grid))"
   ]
  },
  {
   "cell_type": "code",
   "execution_count": 72,
   "id": "3dff211a",
   "metadata": {},
   "outputs": [
    {
     "name": "stdout",
     "output_type": "stream",
     "text": [
      "Test set score: 0.979\n",
      "Best parameters: {'C': 100, 'gamma': 0.1}\n",
      "Best cross validation score: 0.985\n"
     ]
    }
   ],
   "source": [
    "from sklearn.model_selection import GridSearchCV\n",
    "from sklearn.svm import SVC\n",
    "grid_search = GridSearchCV(SVC(), param_grid, cv=5)\n",
    "grid_search.fit(X_train, Y_train)\n",
    "print(\"Test set score: {:.3f}\".format(grid_search.score(x_test,\n",
    "y_test)))\n",
    "print(\"Best parameters: {}\".format(grid_search.best_params_))\n",
    "print(\"Best cross validation score: {:.3f}\".format(grid_search.best_score_))"
   ]
  },
  {
   "cell_type": "markdown",
   "id": "10403f34",
   "metadata": {},
   "source": [
    "## 使用随机网格搜索预测客户汽车满意度\n"
   ]
  },
  {
   "cell_type": "code",
   "execution_count": 73,
   "id": "ade4a931",
   "metadata": {},
   "outputs": [
    {
     "name": "stdout",
     "output_type": "stream",
     "text": [
      "Test set score: 0.979\n",
      "Best parameters: {'C': 160, 'gamma': 0.18595891901209294}\n",
      "Best cross validation score: 0.986\n"
     ]
    }
   ],
   "source": [
    "from sklearn.model_selection import RandomizedSearchCV\n",
    "import scipy\n",
    "param = {'C': range(1,200,1), 'gamma':scipy.stats.expon()}\n",
    "random_search = RandomizedSearchCV(SVC(), param, cv=5, n_iter=10)\n",
    "random_search.fit(X_train, Y_train)\n",
    "print(\"Test set score: {:.3f}\".format(random_search.score(x_test, y_test)))\n",
    "print(\"Best parameters: {}\".format(random_search.best_params_))\n",
    "print(\"Best cross validation score: {:.3f}\".format(random_search.best_score_))\n"
   ]
  },
  {
   "cell_type": "code",
   "execution_count": null,
   "id": "91468209",
   "metadata": {},
   "outputs": [],
   "source": []
  }
 ],
 "metadata": {
  "kernelspec": {
   "display_name": "Python 3 (ipykernel)",
   "language": "python",
   "name": "python3"
  },
  "language_info": {
   "codemirror_mode": {
    "name": "ipython",
    "version": 3
   },
   "file_extension": ".py",
   "mimetype": "text/x-python",
   "name": "python",
   "nbconvert_exporter": "python",
   "pygments_lexer": "ipython3",
   "version": "3.9.2"
  }
 },
 "nbformat": 4,
 "nbformat_minor": 5
}
