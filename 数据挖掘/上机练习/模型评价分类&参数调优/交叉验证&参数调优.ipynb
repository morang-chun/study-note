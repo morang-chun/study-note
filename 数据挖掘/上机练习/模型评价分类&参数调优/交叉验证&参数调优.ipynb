{
 "cells": [
  {
   "cell_type": "code",
   "execution_count": 1,
   "id": "305c5896",
   "metadata": {},
   "outputs": [],
   "source": [
    "import numpy as np\n",
    "import matplotlib.pyplot as plt\n",
    "import pandas as pd\n",
    "import warnings\n",
    "warnings.filterwarnings(\"ignore\")\n",
    "%matplotlib inline"
   ]
  },
  {
   "cell_type": "code",
   "execution_count": 2,
   "id": "749f8c44",
   "metadata": {},
   "outputs": [
    {
     "data": {
      "text/html": [
       "<div>\n",
       "<style scoped>\n",
       "    .dataframe tbody tr th:only-of-type {\n",
       "        vertical-align: middle;\n",
       "    }\n",
       "\n",
       "    .dataframe tbody tr th {\n",
       "        vertical-align: top;\n",
       "    }\n",
       "\n",
       "    .dataframe thead th {\n",
       "        text-align: right;\n",
       "    }\n",
       "</style>\n",
       "<table border=\"1\" class=\"dataframe\">\n",
       "  <thead>\n",
       "    <tr style=\"text-align: right;\">\n",
       "      <th></th>\n",
       "      <th>Education</th>\n",
       "      <th>Income</th>\n",
       "    </tr>\n",
       "  </thead>\n",
       "  <tbody>\n",
       "    <tr>\n",
       "      <th>1</th>\n",
       "      <td>10.000000</td>\n",
       "      <td>26.658839</td>\n",
       "    </tr>\n",
       "    <tr>\n",
       "      <th>2</th>\n",
       "      <td>10.401338</td>\n",
       "      <td>27.306435</td>\n",
       "    </tr>\n",
       "    <tr>\n",
       "      <th>3</th>\n",
       "      <td>10.842809</td>\n",
       "      <td>22.132410</td>\n",
       "    </tr>\n",
       "    <tr>\n",
       "      <th>4</th>\n",
       "      <td>11.244147</td>\n",
       "      <td>21.169841</td>\n",
       "    </tr>\n",
       "    <tr>\n",
       "      <th>5</th>\n",
       "      <td>11.645485</td>\n",
       "      <td>15.192634</td>\n",
       "    </tr>\n",
       "  </tbody>\n",
       "</table>\n",
       "</div>"
      ],
      "text/plain": [
       "   Education     Income\n",
       "1  10.000000  26.658839\n",
       "2  10.401338  27.306435\n",
       "3  10.842809  22.132410\n",
       "4  11.244147  21.169841\n",
       "5  11.645485  15.192634"
      ]
     },
     "execution_count": 2,
     "metadata": {},
     "output_type": "execute_result"
    }
   ],
   "source": [
    "data = pd.read_csv(\"./Income1.csv\",index_col=\"Unnamed: 0\")\n",
    "data.head()"
   ]
  },
  {
   "cell_type": "code",
   "execution_count": 3,
   "id": "94ac4c9b",
   "metadata": {},
   "outputs": [],
   "source": [
    "data = data.sample(len(data))#乱序，原始数据label为连续型，递增"
   ]
  },
  {
   "cell_type": "code",
   "execution_count": 4,
   "id": "dd729e10",
   "metadata": {},
   "outputs": [
    {
     "data": {
      "text/html": [
       "<div>\n",
       "<style scoped>\n",
       "    .dataframe tbody tr th:only-of-type {\n",
       "        vertical-align: middle;\n",
       "    }\n",
       "\n",
       "    .dataframe tbody tr th {\n",
       "        vertical-align: top;\n",
       "    }\n",
       "\n",
       "    .dataframe thead th {\n",
       "        text-align: right;\n",
       "    }\n",
       "</style>\n",
       "<table border=\"1\" class=\"dataframe\">\n",
       "  <thead>\n",
       "    <tr style=\"text-align: right;\">\n",
       "      <th></th>\n",
       "      <th>Education</th>\n",
       "      <th>Income</th>\n",
       "    </tr>\n",
       "  </thead>\n",
       "  <tbody>\n",
       "    <tr>\n",
       "      <th>18</th>\n",
       "      <td>17.023411</td>\n",
       "      <td>61.336621</td>\n",
       "    </tr>\n",
       "    <tr>\n",
       "      <th>5</th>\n",
       "      <td>11.645485</td>\n",
       "      <td>15.192634</td>\n",
       "    </tr>\n",
       "    <tr>\n",
       "      <th>22</th>\n",
       "      <td>18.709030</td>\n",
       "      <td>68.959009</td>\n",
       "    </tr>\n",
       "    <tr>\n",
       "      <th>28</th>\n",
       "      <td>21.157191</td>\n",
       "      <td>77.355021</td>\n",
       "    </tr>\n",
       "    <tr>\n",
       "      <th>23</th>\n",
       "      <td>19.110368</td>\n",
       "      <td>74.614639</td>\n",
       "    </tr>\n",
       "  </tbody>\n",
       "</table>\n",
       "</div>"
      ],
      "text/plain": [
       "    Education     Income\n",
       "18  17.023411  61.336621\n",
       "5   11.645485  15.192634\n",
       "22  18.709030  68.959009\n",
       "28  21.157191  77.355021\n",
       "23  19.110368  74.614639"
      ]
     },
     "execution_count": 4,
     "metadata": {},
     "output_type": "execute_result"
    }
   ],
   "source": [
    "data.head()"
   ]
  },
  {
   "cell_type": "code",
   "execution_count": 5,
   "id": "9d93dbff",
   "metadata": {},
   "outputs": [
    {
     "data": {
      "text/html": [
       "<div>\n",
       "<style scoped>\n",
       "    .dataframe tbody tr th:only-of-type {\n",
       "        vertical-align: middle;\n",
       "    }\n",
       "\n",
       "    .dataframe tbody tr th {\n",
       "        vertical-align: top;\n",
       "    }\n",
       "\n",
       "    .dataframe thead th {\n",
       "        text-align: right;\n",
       "    }\n",
       "</style>\n",
       "<table border=\"1\" class=\"dataframe\">\n",
       "  <thead>\n",
       "    <tr style=\"text-align: right;\">\n",
       "      <th></th>\n",
       "      <th>Education</th>\n",
       "      <th>Income</th>\n",
       "    </tr>\n",
       "  </thead>\n",
       "  <tbody>\n",
       "    <tr>\n",
       "      <th>count</th>\n",
       "      <td>30.000000</td>\n",
       "      <td>30.000000</td>\n",
       "    </tr>\n",
       "    <tr>\n",
       "      <th>mean</th>\n",
       "      <td>16.000000</td>\n",
       "      <td>50.145469</td>\n",
       "    </tr>\n",
       "    <tr>\n",
       "      <th>std</th>\n",
       "      <td>3.642965</td>\n",
       "      <td>21.141553</td>\n",
       "    </tr>\n",
       "    <tr>\n",
       "      <th>min</th>\n",
       "      <td>10.000000</td>\n",
       "      <td>15.192634</td>\n",
       "    </tr>\n",
       "    <tr>\n",
       "      <th>25%</th>\n",
       "      <td>12.989967</td>\n",
       "      <td>29.078897</td>\n",
       "    </tr>\n",
       "    <tr>\n",
       "      <th>50%</th>\n",
       "      <td>16.000000</td>\n",
       "      <td>49.871749</td>\n",
       "    </tr>\n",
       "    <tr>\n",
       "      <th>75%</th>\n",
       "      <td>19.010033</td>\n",
       "      <td>71.140149</td>\n",
       "    </tr>\n",
       "    <tr>\n",
       "      <th>max</th>\n",
       "      <td>22.000000</td>\n",
       "      <td>80.260571</td>\n",
       "    </tr>\n",
       "  </tbody>\n",
       "</table>\n",
       "</div>"
      ],
      "text/plain": [
       "       Education     Income\n",
       "count  30.000000  30.000000\n",
       "mean   16.000000  50.145469\n",
       "std     3.642965  21.141553\n",
       "min    10.000000  15.192634\n",
       "25%    12.989967  29.078897\n",
       "50%    16.000000  49.871749\n",
       "75%    19.010033  71.140149\n",
       "max    22.000000  80.260571"
      ]
     },
     "execution_count": 5,
     "metadata": {},
     "output_type": "execute_result"
    }
   ],
   "source": [
    "data.describe()"
   ]
  },
  {
   "cell_type": "code",
   "execution_count": 6,
   "id": "2a61da27",
   "metadata": {},
   "outputs": [
    {
     "name": "stdout",
     "output_type": "stream",
     "text": [
      "<class 'pandas.core.frame.DataFrame'>\n",
      "Int64Index: 30 entries, 18 to 14\n",
      "Data columns (total 2 columns):\n",
      " #   Column     Non-Null Count  Dtype  \n",
      "---  ------     --------------  -----  \n",
      " 0   Education  30 non-null     float64\n",
      " 1   Income     30 non-null     float64\n",
      "dtypes: float64(2)\n",
      "memory usage: 720.0 bytes\n"
     ]
    }
   ],
   "source": [
    "data.info()"
   ]
  },
  {
   "cell_type": "markdown",
   "id": "1416f996",
   "metadata": {},
   "source": [
    "# 3.特征标签分离"
   ]
  },
  {
   "cell_type": "code",
   "execution_count": 7,
   "id": "2c2aacbd",
   "metadata": {},
   "outputs": [],
   "source": [
    "X = data['Education']\n",
    "y = data['Income']"
   ]
  },
  {
   "cell_type": "markdown",
   "id": "24d098ea",
   "metadata": {},
   "source": [
    "# 导入数据集划分库"
   ]
  },
  {
   "cell_type": "code",
   "execution_count": 8,
   "id": "9c0a1f05",
   "metadata": {},
   "outputs": [],
   "source": [
    "from sklearn.model_selection import KFold,ShuffleSplit,StratifiedKFold"
   ]
  },
  {
   "cell_type": "markdown",
   "id": "ffe9dbfe",
   "metadata": {},
   "source": [
    "# 5. 可视化K折划分，K = 5"
   ]
  },
  {
   "cell_type": "code",
   "execution_count": 9,
   "id": "92a49223",
   "metadata": {},
   "outputs": [
    {
     "name": "stdout",
     "output_type": "stream",
     "text": [
      "训练集索引-1 [ 6  7  8  9 10 11 12 13 14 15 16 17 18 19 20 21 22 23 24 25 26 27 28 29]\n",
      "测试集索引-1 [0 1 2 3 4 5]\n",
      "训练集索引-2 [ 0  1  2  3  4  5 12 13 14 15 16 17 18 19 20 21 22 23 24 25 26 27 28 29]\n",
      "测试集索引-2 [ 6  7  8  9 10 11]\n",
      "训练集索引-3 [ 0  1  2  3  4  5  6  7  8  9 10 11 18 19 20 21 22 23 24 25 26 27 28 29]\n",
      "测试集索引-3 [12 13 14 15 16 17]\n",
      "训练集索引-4 [ 0  1  2  3  4  5  6  7  8  9 10 11 12 13 14 15 16 17 24 25 26 27 28 29]\n",
      "测试集索引-4 [18 19 20 21 22 23]\n",
      "训练集索引-5 [ 0  1  2  3  4  5  6  7  8  9 10 11 12 13 14 15 16 17 18 19 20 21 22 23]\n",
      "测试集索引-5 [24 25 26 27 28 29]\n"
     ]
    },
    {
     "data": {
      "text/plain": [
       "Text(0.5, 0, 'index')"
      ]
     },
     "execution_count": 9,
     "metadata": {},
     "output_type": "execute_result"
    },
    {
     "data": {
      "image/png": "[encoded data removed]",
      "text/plain": [
       "<Figure size 1600x500 with 1 Axes>"
      ]
     },
     "metadata": {},
     "output_type": "display_data"
    }
   ],
   "source": [
    "kf = KFold(n_splits=5)\n",
    "kf_cv= kf.split(X)\n",
    "k = 1\n",
    "plt.figure(figsize=(16,5))\n",
    "for train_indices,test_indices in kf_cv:\n",
    "    plt.scatter(train_indices,[k]*len(train_indices),marker=\".\",c=\"r\")\n",
    "    plt.scatter(test_indices,[k]*len(test_indices),marker=\"+\",c=\"b\")\n",
    "    print(\"训练集索引-%d\"%k,train_indices)\n",
    "    print(\"测试集索引-%d\"%k,test_indices)\n",
    "    k+=1\n",
    "    \n",
    "plt.yticks([i for i in range(1,6)],[\"1\",\"2\",\"3\",\"4\",\"5\"])\n",
    "plt.ylabel(\"iteration\")\n",
    "plt.xlabel(\"index\")"
   ]
  },
  {
   "cell_type": "markdown",
   "id": "2349d47f",
   "metadata": {},
   "source": [
    "# 6.可视化乱序后，K折划分，k=5"
   ]
  },
  {
   "cell_type": "code",
   "execution_count": 10,
   "id": "10ea72c3",
   "metadata": {},
   "outputs": [
    {
     "name": "stdout",
     "output_type": "stream",
     "text": [
      "训练集索引-1 [ 0  1  4  6  8  9 10 11 12 13 14 15 16 17 18 19 22 23 24 25 26 27 28 29]\n",
      "测试集索引-1 [ 2  3  5  7 20 21]\n",
      "训练集索引-2 [ 0  2  3  4  5  6  7  8  9 10 11 15 16 17 18 20 21 22 23 24 25 26 28 29]\n",
      "测试集索引-2 [ 1 12 13 14 19 27]\n",
      "训练集索引-3 [ 0  1  2  3  4  5  7  8  9 10 12 13 14 15 16 17 19 20 21 22 25 26 27 29]\n",
      "测试集索引-3 [ 6 11 18 23 24 28]\n",
      "训练集索引-4 [ 0  1  2  3  4  5  6  7  9 11 12 13 14 15 16 17 18 19 20 21 23 24 27 28]\n",
      "测试集索引-4 [ 8 10 22 25 26 29]\n",
      "训练集索引-5 [ 1  2  3  5  6  7  8 10 11 12 13 14 18 19 20 21 22 23 24 25 26 27 28 29]\n",
      "测试集索引-5 [ 0  4  9 15 16 17]\n"
     ]
    },
    {
     "data": {
      "text/plain": [
       "Text(0.5, 0, 'index')"
      ]
     },
     "execution_count": 10,
     "metadata": {},
     "output_type": "execute_result"
    },
    {
     "data": {
      "image/png": "[encoded data removed]",
      "text/plain": [
       "<Figure size 1600x500 with 1 Axes>"
      ]
     },
     "metadata": {},
     "output_type": "display_data"
    }
   ],
   "source": [
    "# 每次选其中一折作为测试集，其他为训练集\n",
    "kfs = KFold(n_splits=5,random_state=10,shuffle=True)\n",
    "kfs_cv = kfs.split(X)\n",
    "k = 1\n",
    "plt.figure(figsize=(16,5))\n",
    "for train_indices,test_indices in kfs_cv:\n",
    "    plt.scatter(train_indices,[k]*len(train_indices),marker='.',c='r')\n",
    "    plt.scatter(test_indices,[k]*len(test_indices),marker='+',c='b')\n",
    "    print(\"训练集索引-%d\"%k,train_indices)\n",
    "    print(\"测试集索引-%d\"%k,test_indices)\n",
    "    k+=1\n",
    "    \n",
    "plt.yticks([i for i in range(1,6)],[\"1\",\"2\",\"3\",\"4\",\"5\"])\n",
    "plt.ylabel(\"iteration\")\n",
    "plt.xlabel(\"index\")"
   ]
  },
  {
   "cell_type": "markdown",
   "id": "a7e068b0",
   "metadata": {},
   "source": [
    "# 可视化层次K折划分，K=3"
   ]
  },
  {
   "cell_type": "code",
   "execution_count": 11,
   "id": "b492bfe7",
   "metadata": {},
   "outputs": [],
   "source": [
    "from sklearn.preprocessing import Binarizer"
   ]
  },
  {
   "cell_type": "code",
   "execution_count": 12,
   "id": "04cf3c2a",
   "metadata": {},
   "outputs": [],
   "source": [
    "Bi_ = Binarizer(threshold=50)\n",
    "y1 = Bi_.fit_transform(data[[\"Income\"]])#y1为离散化标签，0,1"
   ]
  },
  {
   "cell_type": "code",
   "execution_count": 13,
   "id": "10ba2acd",
   "metadata": {},
   "outputs": [],
   "source": [
    "skf = KFold(n_splits=3,random_state=10,shuffle=True)\n",
    "skf_cv = skf.split(X,y1)"
   ]
  },
  {
   "cell_type": "code",
   "execution_count": 14,
   "id": "d6636162",
   "metadata": {},
   "outputs": [
    {
     "name": "stdout",
     "output_type": "stream",
     "text": [
      "训练集索引-1 [ 0  4  6  8  9 10 11 14 15 16 17 18 19 22 23 24 25 26 28 29]\n",
      "测试集索引-1 [ 1  2  3  5  7 12 13 20 21 27]\n",
      "训练集索引-2 [ 0  1  2  3  4  5  7  8  9 12 13 15 16 17 20 21 25 26 27 29]\n",
      "测试集索引-2 [ 6 10 11 14 18 19 22 23 24 28]\n",
      "训练集索引-3 [ 1  2  3  5  6  7 10 11 12 13 14 18 19 20 21 22 23 24 27 28]\n",
      "测试集索引-3 [ 0  4  8  9 15 16 17 25 26 29]\n"
     ]
    },
    {
     "data": {
      "text/plain": [
       "Text(0.5, 0, 'index')"
      ]
     },
     "execution_count": 14,
     "metadata": {},
     "output_type": "execute_result"
    },
    {
     "data": {
      "image/png": "[encoded data removed]",
      "text/plain": [
       "<Figure size 1600x300 with 1 Axes>"
      ]
     },
     "metadata": {},
     "output_type": "display_data"
    }
   ],
   "source": [
    "kk = [k*j for k,j in enumerate(y1) if j!=0]\n",
    "k=1\n",
    "plt.figure(figsize=(16,3))\n",
    "for train_indices,test_indices in skf_cv:\n",
    "    plt.scatter(train_indices,[k]*len(train_indices),marker=\".\",c=\"r\")\n",
    "    plt.scatter(test_indices,[k]*len(test_indices),marker=\"v\",c=\"b\")\n",
    "    print(\"训练集索引-%d\"%k,train_indices)\n",
    "    print(\"测试集索引-%d\"%k,test_indices)\n",
    "    k+=1\n",
    "plt.scatter(kk,[k]*len(kk),marker=\"+\",c=\"b\")   \n",
    "plt.yticks([i for i in range(1,5)],[\"1\",\"2\",\"3\",\"label\"])\n",
    "plt.ylabel(\"iteration\")\n",
    "plt.xlabel(\"index\")"
   ]
  },
  {
   "cell_type": "markdown",
   "id": "f95f3691",
   "metadata": {},
   "source": [
    "# 可视化乱序K次"
   ]
  },
  {
   "cell_type": "code",
   "execution_count": 15,
   "id": "dac2f8f1",
   "metadata": {},
   "outputs": [],
   "source": [
    "shs=ShuffleSplit(n_splits=3,random_state=10,test_size=.1)"
   ]
  },
  {
   "cell_type": "code",
   "execution_count": 16,
   "id": "57d9ca24",
   "metadata": {},
   "outputs": [
    {
     "name": "stdout",
     "output_type": "stream",
     "text": [
      "训练集索引-1 [ 2  3 21 13 27 12  1 19 14 18  6 11 23 24 28 22 10 26 29  8 25 16 17  0\n",
      " 15  4  9]\n",
      "测试集索引-1 [20  7  5]\n",
      "训练集索引-2 [17  5 14 16 27 21 24 23  8  7  6  0  2 15  9 10 11 26 18  4  1 12 22 29\n",
      " 25 19 13]\n",
      "测试集索引-2 [20  3 28]\n",
      "训练集索引-3 [16  3 17  5 23 27  1  9 26 19 14 25  0 11 10  6 21 13 15  8  2 22 12 18\n",
      " 28 24  7]\n",
      "测试集索引-3 [20  4 29]\n"
     ]
    },
    {
     "data": {
      "text/plain": [
       "Text(0.5, 0, 'index')"
      ]
     },
     "execution_count": 16,
     "metadata": {},
     "output_type": "execute_result"
    },
    {
     "data": {
      "image/png": "[encoded data removed]",
      "text/plain": [
       "<Figure size 1600x300 with 1 Axes>"
      ]
     },
     "metadata": {},
     "output_type": "display_data"
    }
   ],
   "source": [
    "shs_cv = shs.split(X)\n",
    "k = 1\n",
    "plt.figure(figsize=(16,3))\n",
    "for train_indices,test_indices in shs_cv:\n",
    "    plt.scatter(train_indices,[k]*len(train_indices),marker=\".\",c=\"r\")\n",
    "    plt.scatter(test_indices,[k]*len(test_indices),marker=\"+\",c=\"b\")\n",
    "    print(\"训练集索引-%d\"%k,train_indices)\n",
    "    print(\"测试集索引-%d\"%k,test_indices)\n",
    "    k+=1\n",
    "    \n",
    "plt.yticks([1,2,3],[\"1\",\"2\",\"3\"])\n",
    "plt.ylabel(\"iteration\")\n",
    "plt.xlabel(\"index\")"
   ]
  },
  {
   "cell_type": "markdown",
   "id": "fd451cb2",
   "metadata": {},
   "source": [
    "# 留P法"
   ]
  },
  {
   "cell_type": "code",
   "execution_count": 17,
   "id": "510a9b02",
   "metadata": {},
   "outputs": [],
   "source": [
    "from sklearn.model_selection import LeaveOneOut,LeavePOut"
   ]
  },
  {
   "cell_type": "code",
   "execution_count": 18,
   "id": "a60304df",
   "metadata": {},
   "outputs": [],
   "source": [
    "loo = LeaveOneOut()\n",
    "lpo = LeavePOut"
   ]
  },
  {
   "cell_type": "code",
   "execution_count": 19,
   "id": "23d0f9bb",
   "metadata": {},
   "outputs": [
    {
     "name": "stdout",
     "output_type": "stream",
     "text": [
      "[ 1  2  3  4  5  6  7  8  9 10 11 12 13 14 15 16 17 18 19 20 21 22 23 24\n",
      " 25 26 27 28 29] [0]\n",
      "[ 0  2  3  4  5  6  7  8  9 10 11 12 13 14 15 16 17 18 19 20 21 22 23 24\n",
      " 25 26 27 28 29] [1]\n",
      "[ 0  1  3  4  5  6  7  8  9 10 11 12 13 14 15 16 17 18 19 20 21 22 23 24\n",
      " 25 26 27 28 29] [2]\n",
      "[ 0  1  2  4  5  6  7  8  9 10 11 12 13 14 15 16 17 18 19 20 21 22 23 24\n",
      " 25 26 27 28 29] [3]\n",
      "[ 0  1  2  3  5  6  7  8  9 10 11 12 13 14 15 16 17 18 19 20 21 22 23 24\n",
      " 25 26 27 28 29] [4]\n",
      "[ 0  1  2  3  4  6  7  8  9 10 11 12 13 14 15 16 17 18 19 20 21 22 23 24\n",
      " 25 26 27 28 29] [5]\n",
      "[ 0  1  2  3  4  5  7  8  9 10 11 12 13 14 15 16 17 18 19 20 21 22 23 24\n",
      " 25 26 27 28 29] [6]\n",
      "[ 0  1  2  3  4  5  6  8  9 10 11 12 13 14 15 16 17 18 19 20 21 22 23 24\n",
      " 25 26 27 28 29] [7]\n",
      "[ 0  1  2  3  4  5  6  7  9 10 11 12 13 14 15 16 17 18 19 20 21 22 23 24\n",
      " 25 26 27 28 29] [8]\n",
      "[ 0  1  2  3  4  5  6  7  8 10 11 12 13 14 15 16 17 18 19 20 21 22 23 24\n",
      " 25 26 27 28 29] [9]\n",
      "[ 0  1  2  3  4  5  6  7  8  9 11 12 13 14 15 16 17 18 19 20 21 22 23 24\n",
      " 25 26 27 28 29] [10]\n",
      "[ 0  1  2  3  4  5  6  7  8  9 10 12 13 14 15 16 17 18 19 20 21 22 23 24\n",
      " 25 26 27 28 29] [11]\n",
      "[ 0  1  2  3  4  5  6  7  8  9 10 11 13 14 15 16 17 18 19 20 21 22 23 24\n",
      " 25 26 27 28 29] [12]\n",
      "[ 0  1  2  3  4  5  6  7  8  9 10 11 12 14 15 16 17 18 19 20 21 22 23 24\n",
      " 25 26 27 28 29] [13]\n",
      "[ 0  1  2  3  4  5  6  7  8  9 10 11 12 13 15 16 17 18 19 20 21 22 23 24\n",
      " 25 26 27 28 29] [14]\n",
      "[ 0  1  2  3  4  5  6  7  8  9 10 11 12 13 14 16 17 18 19 20 21 22 23 24\n",
      " 25 26 27 28 29] [15]\n",
      "[ 0  1  2  3  4  5  6  7  8  9 10 11 12 13 14 15 17 18 19 20 21 22 23 24\n",
      " 25 26 27 28 29] [16]\n",
      "[ 0  1  2  3  4  5  6  7  8  9 10 11 12 13 14 15 16 18 19 20 21 22 23 24\n",
      " 25 26 27 28 29] [17]\n",
      "[ 0  1  2  3  4  5  6  7  8  9 10 11 12 13 14 15 16 17 19 20 21 22 23 24\n",
      " 25 26 27 28 29] [18]\n",
      "[ 0  1  2  3  4  5  6  7  8  9 10 11 12 13 14 15 16 17 18 20 21 22 23 24\n",
      " 25 26 27 28 29] [19]\n",
      "[ 0  1  2  3  4  5  6  7  8  9 10 11 12 13 14 15 16 17 18 19 21 22 23 24\n",
      " 25 26 27 28 29] [20]\n",
      "[ 0  1  2  3  4  5  6  7  8  9 10 11 12 13 14 15 16 17 18 19 20 22 23 24\n",
      " 25 26 27 28 29] [21]\n",
      "[ 0  1  2  3  4  5  6  7  8  9 10 11 12 13 14 15 16 17 18 19 20 21 23 24\n",
      " 25 26 27 28 29] [22]\n",
      "[ 0  1  2  3  4  5  6  7  8  9 10 11 12 13 14 15 16 17 18 19 20 21 22 24\n",
      " 25 26 27 28 29] [23]\n",
      "[ 0  1  2  3  4  5  6  7  8  9 10 11 12 13 14 15 16 17 18 19 20 21 22 23\n",
      " 25 26 27 28 29] [24]\n",
      "[ 0  1  2  3  4  5  6  7  8  9 10 11 12 13 14 15 16 17 18 19 20 21 22 23\n",
      " 24 26 27 28 29] [25]\n",
      "[ 0  1  2  3  4  5  6  7  8  9 10 11 12 13 14 15 16 17 18 19 20 21 22 23\n",
      " 24 25 27 28 29] [26]\n",
      "[ 0  1  2  3  4  5  6  7  8  9 10 11 12 13 14 15 16 17 18 19 20 21 22 23\n",
      " 24 25 26 28 29] [27]\n",
      "[ 0  1  2  3  4  5  6  7  8  9 10 11 12 13 14 15 16 17 18 19 20 21 22 23\n",
      " 24 25 26 27 29] [28]\n",
      "[ 0  1  2  3  4  5  6  7  8  9 10 11 12 13 14 15 16 17 18 19 20 21 22 23\n",
      " 24 25 26 27 28] [29]\n"
     ]
    }
   ],
   "source": [
    "for i,j in loo.split(X):\n",
    "    print(i,j)"
   ]
  },
  {
   "cell_type": "markdown",
   "id": "e6f28838",
   "metadata": {},
   "source": [
    "# 自助法"
   ]
  },
  {
   "cell_type": "code",
   "execution_count": 20,
   "id": "35d4288d",
   "metadata": {},
   "outputs": [],
   "source": [
    "XY_train = X.sample(50,replace=True)"
   ]
  },
  {
   "cell_type": "code",
   "execution_count": 21,
   "id": "6e6d7418",
   "metadata": {},
   "outputs": [],
   "source": [
    "xy_test = X.loc[data.index.difference(train_indices)].copy()"
   ]
  },
  {
   "cell_type": "markdown",
   "id": "5ac3af3c",
   "metadata": {},
   "source": [
    "# 交叉验证"
   ]
  },
  {
   "cell_type": "code",
   "execution_count": 22,
   "id": "8edb3b1e",
   "metadata": {},
   "outputs": [],
   "source": [
    "from sklearn.model_selection import cross_val_score\n",
    "from sklearn.linear_model import LinearRegression"
   ]
  },
  {
   "cell_type": "code",
   "execution_count": 23,
   "id": "28a7eeff",
   "metadata": {},
   "outputs": [],
   "source": [
    "X= pd.DataFrame(X,columns=['Education'])"
   ]
  },
  {
   "cell_type": "code",
   "execution_count": 24,
   "id": "5fbc573c",
   "metadata": {},
   "outputs": [
    {
     "name": "stdout",
     "output_type": "stream",
     "text": [
      "<class 'pandas.core.frame.DataFrame'>\n",
      "Int64Index: 30 entries, 18 to 14\n",
      "Data columns (total 1 columns):\n",
      " #   Column     Non-Null Count  Dtype  \n",
      "---  ------     --------------  -----  \n",
      " 0   Education  30 non-null     float64\n",
      "dtypes: float64(1)\n",
      "memory usage: 1.5 KB\n"
     ]
    }
   ],
   "source": [
    "X.info()"
   ]
  },
  {
   "cell_type": "code",
   "execution_count": 25,
   "id": "e4f4aba5",
   "metadata": {},
   "outputs": [],
   "source": [
    "y = pd.DataFrame(y,columns=[\"Income\"])"
   ]
  },
  {
   "cell_type": "code",
   "execution_count": 26,
   "id": "28d5bf24",
   "metadata": {},
   "outputs": [
    {
     "name": "stdout",
     "output_type": "stream",
     "text": [
      "<class 'pandas.core.frame.DataFrame'>\n",
      "Int64Index: 30 entries, 18 to 14\n",
      "Data columns (total 1 columns):\n",
      " #   Column  Non-Null Count  Dtype  \n",
      "---  ------  --------------  -----  \n",
      " 0   Income  30 non-null     float64\n",
      "dtypes: float64(1)\n",
      "memory usage: 1.5 KB\n"
     ]
    }
   ],
   "source": [
    "y.info()"
   ]
  },
  {
   "cell_type": "markdown",
   "id": "0fd600d6",
   "metadata": {},
   "source": [
    "# 线性回归"
   ]
  },
  {
   "cell_type": "code",
   "execution_count": 27,
   "id": "66de6644",
   "metadata": {},
   "outputs": [
    {
     "data": {
      "text/plain": [
       "array([0.91005107, 0.93715404, 0.86752857, 0.7584715 , 0.93233851])"
      ]
     },
     "execution_count": 27,
     "metadata": {},
     "output_type": "execute_result"
    }
   ],
   "source": [
    "# cross_val_score(LinearRegression(),X,y,cv=5)\n",
    "cross_val_score(LinearRegression(),X,y,cv=5)"
   ]
  },
  {
   "cell_type": "markdown",
   "id": "02157c0b",
   "metadata": {},
   "source": [
    "# 逻辑回归"
   ]
  },
  {
   "cell_type": "code",
   "execution_count": 28,
   "id": "41bf78ff",
   "metadata": {},
   "outputs": [],
   "source": [
    "from sklearn.linear_model import LogisticRegression"
   ]
  },
  {
   "cell_type": "code",
   "execution_count": 29,
   "id": "aea7ed7a",
   "metadata": {},
   "outputs": [
    {
     "data": {
      "text/plain": [
       "array([1., 1., 1.])"
      ]
     },
     "execution_count": 29,
     "metadata": {},
     "output_type": "execute_result"
    }
   ],
   "source": [
    "cross_val_score(LogisticRegression(),X,y1,cv=shs)"
   ]
  },
  {
   "cell_type": "code",
   "execution_count": 30,
   "id": "1c46152a",
   "metadata": {},
   "outputs": [
    {
     "name": "stdout",
     "output_type": "stream",
     "text": [
      "[1. 1. 1. 1. 1.]\n"
     ]
    }
   ],
   "source": [
    "print(cross_val_score(LogisticRegression(),X,y1,cv=5))"
   ]
  },
  {
   "cell_type": "code",
   "execution_count": 31,
   "id": "3bd71be5",
   "metadata": {},
   "outputs": [
    {
     "name": "stdout",
     "output_type": "stream",
     "text": [
      "[1. 1. 1. 1. 1. 1. 1. 1. 1. 1. 1. 1. 1. 1. 1. 1. 1. 1. 1. 1. 1. 1. 1. 1.\n",
      " 1. 1. 1. 1. 1. 1.]\n"
     ]
    }
   ],
   "source": [
    "print(cross_val_score(LogisticRegression(),X,y1,cv=loo))"
   ]
  },
  {
   "cell_type": "markdown",
   "id": "fab2f7dc",
   "metadata": {},
   "source": [
    "# 学习曲线"
   ]
  },
  {
   "cell_type": "markdown",
   "id": "991200a2",
   "metadata": {},
   "source": [
    "##### 学习曲线（learning curve）是关于模型在训练集和测试集上的预测性能曲线\n",
    "##### 横轴为训练集的样本数量，纵轴为交叉验证的正确率\n",
    "##### 能够判断模型的方差或偏差是否过高，以及增大训练集是否可以减小过拟合\n",
    "![image.png](https://s2.loli.net/2022/11/19/3pReNGuvkCc9QAD.png)\n",
    "\n",
    "![image.png](https://s2.loli.net/2022/11/19/CTPfJXsFZp57ERS.png)"
   ]
  },
  {
   "cell_type": "code",
   "execution_count": 32,
   "id": "771489c8",
   "metadata": {},
   "outputs": [],
   "source": [
    "# 可视化学习曲线\n",
    "from sklearn.model_selection import learning_curve\n",
    "# from sklearn.model_selection import "
   ]
  },
  {
   "cell_type": "code",
   "execution_count": 33,
   "id": "06db67de",
   "metadata": {},
   "outputs": [],
   "source": [
    "estimator = LogisticRegression()"
   ]
  },
  {
   "cell_type": "code",
   "execution_count": 34,
   "id": "6bf412df",
   "metadata": {},
   "outputs": [],
   "source": [
    "# cv = ShuffleSplit(n_splits=100,test_size=.2,random_state=0)\n",
    "cv=ShuffleSplit(n_splits=5,random_state=10,test_size=.1)"
   ]
  },
  {
   "cell_type": "code",
   "execution_count": 35,
   "id": "eab6439b",
   "metadata": {},
   "outputs": [
    {
     "data": {
      "text/plain": [
       "(array([ 2,  8, 14, 20, 27]),\n",
       " array([[nan,  1.,  1.,  1.,  1.],\n",
       "        [ 1.,  1.,  1.,  1.,  1.],\n",
       "        [ 1.,  1.,  1.,  1.,  1.],\n",
       "        [ 1.,  1.,  1.,  1.,  1.],\n",
       "        [ 1.,  1.,  1.,  1.,  1.]]),\n",
       " array([[       nan, 0.66666667, 0.66666667, 1.        , 1.        ],\n",
       "        [0.66666667, 0.66666667, 0.66666667, 1.        , 1.        ],\n",
       "        [1.        , 1.        , 1.        , 1.        , 1.        ],\n",
       "        [0.66666667, 0.66666667, 1.        , 1.        , 1.        ],\n",
       "        [1.        , 1.        , 1.        , 1.        , 1.        ]]))"
      ]
     },
     "execution_count": 35,
     "metadata": {},
     "output_type": "execute_result"
    }
   ],
   "source": [
    "learning_curve(estimator,X,y1,cv=cv,train_sizes=np.linspace(.1,1,5))"
   ]
  },
  {
   "cell_type": "code",
   "execution_count": 36,
   "id": "9717f8cf",
   "metadata": {},
   "outputs": [],
   "source": [
    "def plot_learning_curve(estimator,title,X,y,ylim=None,cv=None,n_jobs=1,\n",
    "                        train_sizes=np.linspace(.05,1.,20),verbose=0):\n",
    "    \"\"\"\n",
    "    画出car_data在模型上的leaening curve\n",
    "    参数解释：\n",
    "    estimator：分类器的使用\n",
    "    title：表格的标题\n",
    "    X：输入的feature,numpy类型\n",
    "    y: 输入的targer vector\n",
    "    ylim : tuple 格式的（ymin,ymax），设定图像中纵坐标的最低点和最高点\n",
    "    cv : 做cross-validation 的时候，数据分成的份数，其中一份作为cv集，其余n-1份作为\n",
    "    training(默认为3份\n",
    "    n_jobs : 并行的的任务数(默认1)\n",
    "\n",
    "    \"\"\"\n",
    "    train_sizes,train_scores,test_scores = learning_curve(estimator,X,y,cv=cv,n_jobs=n_jobs,\n",
    "                                                         train_sizes=train_sizes)\n",
    "    \n",
    "    train_scores_mean = np.mean(train_scores,axis=1)\n",
    "    train_scores_std = np.std(train_scores,axis=1)\n",
    "    test_score_mean = np.mean(test_scores,axis=1)\n",
    "    test_scores_std = np.std(test_scores,axis=1)\n",
    "    \n",
    "    plt.grid()\n",
    "    plt.fill_between(train_sizes,train_scores_mean-train_scores_std,\n",
    "                    train_scores_mean+train_scores_std,alpha=0.1,\n",
    "                    color = \"r\")\n",
    "    plt.fill_between(train_sizes,test_score_mean-test_scores_std,\n",
    "                    test_score_mean+test_scores_std,alpha=0.1,\n",
    "                    color=\"g\")\n",
    "    plt.plot(train_sizes,train_scores_mean,'o-',color='r',label=\"Training score\")\n",
    "    plt.plot(train_sizes,test_score_mean,'o-',color='g',label=\"Cross-validation score\")\n",
    "    plt.legend(loc='best')\n",
    "    return plt\n",
    "\n",
    "\n",
    "    "
   ]
  },
  {
   "cell_type": "code",
   "execution_count": 37,
   "id": "b5df2c2c",
   "metadata": {},
   "outputs": [
    {
     "data": {
      "text/plain": [
       "<module 'matplotlib.pyplot' from 'C:\\\\Users\\\\morang\\\\AppData\\\\Local\\\\Programs\\\\Python\\\\Python39\\\\lib\\\\site-packages\\\\matplotlib\\\\pyplot.py'>"
      ]
     },
     "execution_count": 37,
     "metadata": {},
     "output_type": "execute_result"
    },
    {
     "data": {
      "image/png": "[encoded data removed]",
      "text/plain": [
       "<Figure size 640x480 with 1 Axes>"
      ]
     },
     "metadata": {},
     "output_type": "display_data"
    }
   ],
   "source": [
    "plot_learning_curve(estimator,u\"学习曲线\",X,y1)"
   ]
  },
  {
   "cell_type": "markdown",
   "id": "96cadb5e",
   "metadata": {},
   "source": [
    "# 参数调优"
   ]
  },
  {
   "cell_type": "code",
   "execution_count": 40,
   "id": "ab220af7",
   "metadata": {},
   "outputs": [],
   "source": [
    "from sklearn.model_selection import train_test_split\n",
    "import warnings\n",
    "warnings.filterwarnings(\"ignore\")\n",
    "import numpy as np\n",
    "import matplotlib.pyplot as plt\n",
    "%matplotlib inline\n",
    "import pandas as pd"
   ]
  },
  {
   "cell_type": "code",
   "execution_count": 41,
   "id": "aedd2312",
   "metadata": {},
   "outputs": [
    {
     "data": {
      "text/html": [
       "<div>\n",
       "<style scoped>\n",
       "    .dataframe tbody tr th:only-of-type {\n",
       "        vertical-align: middle;\n",
       "    }\n",
       "\n",
       "    .dataframe tbody tr th {\n",
       "        vertical-align: top;\n",
       "    }\n",
       "\n",
       "    .dataframe thead th {\n",
       "        text-align: right;\n",
       "    }\n",
       "</style>\n",
       "<table border=\"1\" class=\"dataframe\">\n",
       "  <thead>\n",
       "    <tr style=\"text-align: right;\">\n",
       "      <th></th>\n",
       "      <th>buying</th>\n",
       "      <th>maint</th>\n",
       "      <th>doors</th>\n",
       "      <th>persons</th>\n",
       "      <th>lug_boot</th>\n",
       "      <th>safety</th>\n",
       "      <th>car_Eva</th>\n",
       "    </tr>\n",
       "  </thead>\n",
       "  <tbody>\n",
       "    <tr>\n",
       "      <th>0</th>\n",
       "      <td>vhigh</td>\n",
       "      <td>vhigh</td>\n",
       "      <td>2</td>\n",
       "      <td>2</td>\n",
       "      <td>small</td>\n",
       "      <td>low</td>\n",
       "      <td>unacc</td>\n",
       "    </tr>\n",
       "    <tr>\n",
       "      <th>1</th>\n",
       "      <td>vhigh</td>\n",
       "      <td>vhigh</td>\n",
       "      <td>2</td>\n",
       "      <td>2</td>\n",
       "      <td>small</td>\n",
       "      <td>med</td>\n",
       "      <td>unacc</td>\n",
       "    </tr>\n",
       "    <tr>\n",
       "      <th>2</th>\n",
       "      <td>vhigh</td>\n",
       "      <td>vhigh</td>\n",
       "      <td>2</td>\n",
       "      <td>2</td>\n",
       "      <td>small</td>\n",
       "      <td>high</td>\n",
       "      <td>unacc</td>\n",
       "    </tr>\n",
       "    <tr>\n",
       "      <th>3</th>\n",
       "      <td>vhigh</td>\n",
       "      <td>vhigh</td>\n",
       "      <td>2</td>\n",
       "      <td>2</td>\n",
       "      <td>med</td>\n",
       "      <td>low</td>\n",
       "      <td>unacc</td>\n",
       "    </tr>\n",
       "    <tr>\n",
       "      <th>4</th>\n",
       "      <td>vhigh</td>\n",
       "      <td>vhigh</td>\n",
       "      <td>2</td>\n",
       "      <td>2</td>\n",
       "      <td>med</td>\n",
       "      <td>med</td>\n",
       "      <td>unacc</td>\n",
       "    </tr>\n",
       "  </tbody>\n",
       "</table>\n",
       "</div>"
      ],
      "text/plain": [
       "  buying  maint doors persons lug_boot safety car_Eva\n",
       "0  vhigh  vhigh     2       2    small    low   unacc\n",
       "1  vhigh  vhigh     2       2    small    med   unacc\n",
       "2  vhigh  vhigh     2       2    small   high   unacc\n",
       "3  vhigh  vhigh     2       2      med    low   unacc\n",
       "4  vhigh  vhigh     2       2      med    med   unacc"
      ]
     },
     "execution_count": 41,
     "metadata": {},
     "output_type": "execute_result"
    }
   ],
   "source": [
    "data=pd.read_csv(\"../car_evaluation.csv\",names=[\"buying\",\"maint\",\"doors\",\"persons\",\"lug_boot\",\"safety\",\"car_Eva\"])\n",
    "data.head()"
   ]
  },
  {
   "cell_type": "code",
   "execution_count": 42,
   "id": "6247c0a6",
   "metadata": {},
   "outputs": [],
   "source": [
    "data.dropna(inplace=True)\n",
    "data=pd.get_dummies(data,columns=[\"doors\",\"persons\",\"buying\",\"maint\",\"lug_boot\",\"safety\"])\n",
    "data[\"car_Eva\"]=data[\"car_Eva\"].map({\"unacc\":0,\"acc\":1,\"good\":1,\"vgood\":1})\n",
    "X=data.drop([\"car_Eva\"],axis=1)\n",
    "y=data[\"car_Eva\"]\n",
    "X_train,X_test,y_train,y_test=train_test_split(X,y,test_size=0.3,random_state=10)"
   ]
  },
  {
   "cell_type": "code",
   "execution_count": 43,
   "id": "dab0a995",
   "metadata": {},
   "outputs": [
    {
     "data": {
      "text/html": [
       "<style>#sk-container-id-1 {color: black;background-color: white;}#sk-container-id-1 pre{padding: 0;}#sk-container-id-1 div.sk-toggleable {background-color: white;}#sk-container-id-1 label.sk-toggleable__label {cursor: pointer;display: block;width: 100%;margin-bottom: 0;padding: 0.3em;box-sizing: border-box;text-align: center;}#sk-container-id-1 label.sk-toggleable__label-arrow:before {content: \"▸\";float: left;margin-right: 0.25em;color: #696969;}#sk-container-id-1 label.sk-toggleable__label-arrow:hover:before {color: black;}#sk-container-id-1 div.sk-estimator:hover label.sk-toggleable__label-arrow:before {color: black;}#sk-container-id-1 div.sk-toggleable__content {max-height: 0;max-width: 0;overflow: hidden;text-align: left;background-color: #f0f8ff;}#sk-container-id-1 div.sk-toggleable__content pre {margin: 0.2em;color: black;border-radius: 0.25em;background-color: #f0f8ff;}#sk-container-id-1 input.sk-toggleable__control:checked~div.sk-toggleable__content {max-height: 200px;max-width: 100%;overflow: auto;}#sk-container-id-1 input.sk-toggleable__control:checked~label.sk-toggleable__label-arrow:before {content: \"▾\";}#sk-container-id-1 div.sk-estimator input.sk-toggleable__control:checked~label.sk-toggleable__label {background-color: #d4ebff;}#sk-container-id-1 div.sk-label input.sk-toggleable__control:checked~label.sk-toggleable__label {background-color: #d4ebff;}#sk-container-id-1 input.sk-hidden--visually {border: 0;clip: rect(1px 1px 1px 1px);clip: rect(1px, 1px, 1px, 1px);height: 1px;margin: -1px;overflow: hidden;padding: 0;position: absolute;width: 1px;}#sk-container-id-1 div.sk-estimator {font-family: monospace;background-color: #f0f8ff;border: 1px dotted black;border-radius: 0.25em;box-sizing: border-box;margin-bottom: 0.5em;}#sk-container-id-1 div.sk-estimator:hover {background-color: #d4ebff;}#sk-container-id-1 div.sk-parallel-item::after {content: \"\";width: 100%;border-bottom: 1px solid gray;flex-grow: 1;}#sk-container-id-1 div.sk-label:hover label.sk-toggleable__label {background-color: #d4ebff;}#sk-container-id-1 div.sk-serial::before {content: \"\";position: absolute;border-left: 1px solid gray;box-sizing: border-box;top: 0;bottom: 0;left: 50%;z-index: 0;}#sk-container-id-1 div.sk-serial {display: flex;flex-direction: column;align-items: center;background-color: white;padding-right: 0.2em;padding-left: 0.2em;position: relative;}#sk-container-id-1 div.sk-item {position: relative;z-index: 1;}#sk-container-id-1 div.sk-parallel {display: flex;align-items: stretch;justify-content: center;background-color: white;position: relative;}#sk-container-id-1 div.sk-item::before, #sk-container-id-1 div.sk-parallel-item::before {content: \"\";position: absolute;border-left: 1px solid gray;box-sizing: border-box;top: 0;bottom: 0;left: 50%;z-index: -1;}#sk-container-id-1 div.sk-parallel-item {display: flex;flex-direction: column;z-index: 1;position: relative;background-color: white;}#sk-container-id-1 div.sk-parallel-item:first-child::after {align-self: flex-end;width: 50%;}#sk-container-id-1 div.sk-parallel-item:last-child::after {align-self: flex-start;width: 50%;}#sk-container-id-1 div.sk-parallel-item:only-child::after {width: 0;}#sk-container-id-1 div.sk-dashed-wrapped {border: 1px dashed gray;margin: 0 0.4em 0.5em 0.4em;box-sizing: border-box;padding-bottom: 0.4em;background-color: white;}#sk-container-id-1 div.sk-label label {font-family: monospace;font-weight: bold;display: inline-block;line-height: 1.2em;}#sk-container-id-1 div.sk-label-container {text-align: center;}#sk-container-id-1 div.sk-container {/* jupyter's `normalize.less` sets `[hidden] { display: none; }` but bootstrap.min.css set `[hidden] { display: none !important; }` so we also need the `!important` here to be able to override the default hidden behavior on the sphinx rendered scikit-learn.org. See: https://github.com/scikit-learn/scikit-learn/issues/21755 */display: inline-block !important;position: relative;}#sk-container-id-1 div.sk-text-repr-fallback {display: none;}</style><div id=\"sk-container-id-1\" class=\"sk-top-container\"><div class=\"sk-text-repr-fallback\"><pre>KNeighborsClassifier()</pre><b>In a Jupyter environment, please rerun this cell to show the HTML representation or trust the notebook. <br />On GitHub, the HTML representation is unable to render, please try loading this page with nbviewer.org.</b></div><div class=\"sk-container\" hidden><div class=\"sk-item\"><div class=\"sk-estimator sk-toggleable\"><input class=\"sk-toggleable__control sk-hidden--visually\" id=\"sk-estimator-id-1\" type=\"checkbox\" checked><label for=\"sk-estimator-id-1\" class=\"sk-toggleable__label sk-toggleable__label-arrow\">KNeighborsClassifier</label><div class=\"sk-toggleable__content\"><pre>KNeighborsClassifier()</pre></div></div></div></div></div>"
      ],
      "text/plain": [
       "KNeighborsClassifier()"
      ]
     },
     "execution_count": 43,
     "metadata": {},
     "output_type": "execute_result"
    }
   ],
   "source": [
    "from sklearn.neighbors import KNeighborsClassifier\n",
    "from sklearn.tree import DecisionTreeClassifier\n",
    "KNeighborsClassifier()"
   ]
  },
  {
   "cell_type": "code",
   "execution_count": 44,
   "id": "9d882de4",
   "metadata": {},
   "outputs": [
    {
     "name": "stdout",
     "output_type": "stream",
     "text": [
      "criterion= gini max_depth= 3 score= 0.9017341040462428\n",
      "criterion= gini max_depth= 4 score= 0.9094412331406551\n",
      "criterion= gini max_depth= 5 score= 0.9499036608863198\n",
      "criterion= gini max_depth= 6 score= 0.9421965317919075\n",
      "criterion= gini max_depth= 7 score= 0.976878612716763\n",
      "criterion= gini max_depth= 8 score= 0.9691714836223507\n",
      "criterion= gini max_depth= 9 score= 0.9922928709055877\n",
      "criterion= gini max_depth= 10 score= 0.9884393063583815\n",
      "criterion= gini max_depth= 11 score= 0.9961464354527938\n",
      "criterion= gini max_depth= 12 score= 0.9961464354527938\n",
      "criterion= gini max_depth= 13 score= 0.9961464354527938\n",
      "criterion= gini max_depth= 14 score= 0.9942196531791907\n",
      "criterion= entropy max_depth= 3 score= 0.9017341040462428\n",
      "criterion= entropy max_depth= 4 score= 0.8978805394990366\n",
      "criterion= entropy max_depth= 5 score= 0.9479768786127167\n",
      "criterion= entropy max_depth= 6 score= 0.9441233140655106\n",
      "criterion= entropy max_depth= 7 score= 0.976878612716763\n",
      "criterion= entropy max_depth= 8 score= 0.976878612716763\n",
      "criterion= entropy max_depth= 9 score= 0.9942196531791907\n",
      "criterion= entropy max_depth= 10 score= 0.9922928709055877\n",
      "criterion= entropy max_depth= 11 score= 1.0\n",
      "criterion= entropy max_depth= 12 score= 1.0\n",
      "criterion= entropy max_depth= 13 score= 1.0\n",
      "criterion= entropy max_depth= 14 score= 1.0\n"
     ]
    }
   ],
   "source": [
    "for i in [\"gini\", \"entropy\"]:\n",
    "    for j in [3,4,5,6,7,8,9,10,11,12,13,14]:\n",
    "        d_m=DecisionTreeClassifier(criterion=i,max_depth=j)\n",
    "        d_m.fit(X_train,y_train)\n",
    "        print(\"criterion=\",i,\"max_depth=\",j,\"score=\",d_m.score(X_test,y_test))\n",
    "        "
   ]
  },
  {
   "cell_type": "code",
   "execution_count": 45,
   "id": "5b166c83",
   "metadata": {},
   "outputs": [
    {
     "name": "stdout",
     "output_type": "stream",
     "text": [
      "n_neighbors= 3 algorithm= kd_tree score= 0.9113680154142582\n",
      "n_neighbors= 3 algorithm= ball_tree score= 0.9132947976878613\n",
      "n_neighbors= 3 algorithm= auto score= 0.9132947976878613\n",
      "n_neighbors= 4 algorithm= kd_tree score= 0.8940269749518305\n",
      "n_neighbors= 4 algorithm= ball_tree score= 0.8940269749518305\n",
      "n_neighbors= 4 algorithm= auto score= 0.9364161849710982\n",
      "n_neighbors= 5 algorithm= kd_tree score= 0.930635838150289\n",
      "n_neighbors= 5 algorithm= ball_tree score= 0.930635838150289\n",
      "n_neighbors= 5 algorithm= auto score= 0.9614643545279383\n",
      "n_neighbors= 6 algorithm= kd_tree score= 0.9229287090558767\n",
      "n_neighbors= 6 algorithm= ball_tree score= 0.9229287090558767\n",
      "n_neighbors= 6 algorithm= auto score= 0.9479768786127167\n",
      "n_neighbors= 7 algorithm= kd_tree score= 0.9653179190751445\n",
      "n_neighbors= 7 algorithm= ball_tree score= 0.9653179190751445\n",
      "n_neighbors= 7 algorithm= auto score= 0.9788053949903661\n",
      "n_neighbors= 8 algorithm= kd_tree score= 0.9576107899807321\n",
      "n_neighbors= 8 algorithm= ball_tree score= 0.9576107899807321\n",
      "n_neighbors= 8 algorithm= auto score= 0.9749518304431599\n",
      "n_neighbors= 9 algorithm= kd_tree score= 0.9749518304431599\n",
      "n_neighbors= 9 algorithm= ball_tree score= 0.9749518304431599\n",
      "n_neighbors= 9 algorithm= auto score= 0.9884393063583815\n",
      "n_neighbors= 10 algorithm= kd_tree score= 0.9691714836223507\n",
      "n_neighbors= 10 algorithm= ball_tree score= 0.9691714836223507\n",
      "n_neighbors= 10 algorithm= auto score= 0.9788053949903661\n",
      "n_neighbors= 11 algorithm= kd_tree score= 0.9749518304431599\n",
      "n_neighbors= 11 algorithm= ball_tree score= 0.9730250481695568\n",
      "n_neighbors= 11 algorithm= auto score= 0.9826589595375722\n",
      "n_neighbors= 12 algorithm= kd_tree score= 0.9595375722543352\n",
      "n_neighbors= 12 algorithm= ball_tree score= 0.9595375722543352\n",
      "n_neighbors= 12 algorithm= auto score= 0.9730250481695568\n",
      "n_neighbors= 13 algorithm= kd_tree score= 0.9749518304431599\n",
      "n_neighbors= 13 algorithm= ball_tree score= 0.9749518304431599\n",
      "n_neighbors= 13 algorithm= auto score= 0.9865125240847784\n",
      "n_neighbors= 14 algorithm= kd_tree score= 0.9499036608863198\n",
      "n_neighbors= 14 algorithm= ball_tree score= 0.9499036608863198\n",
      "n_neighbors= 14 algorithm= auto score= 0.9749518304431599\n",
      "n_neighbors= 15 algorithm= kd_tree score= 0.9691714836223507\n",
      "n_neighbors= 15 algorithm= ball_tree score= 0.9691714836223507\n",
      "n_neighbors= 15 algorithm= auto score= 0.9807321772639692\n",
      "n_neighbors= 16 algorithm= kd_tree score= 0.9556840077071291\n",
      "n_neighbors= 16 algorithm= ball_tree score= 0.9556840077071291\n",
      "n_neighbors= 16 algorithm= auto score= 0.9710982658959537\n",
      "n_neighbors= 17 algorithm= kd_tree score= 0.9691714836223507\n",
      "n_neighbors= 17 algorithm= ball_tree score= 0.9691714836223507\n",
      "n_neighbors= 17 algorithm= auto score= 0.9749518304431599\n",
      "n_neighbors= 18 algorithm= kd_tree score= 0.9441233140655106\n",
      "n_neighbors= 18 algorithm= ball_tree score= 0.9441233140655106\n",
      "n_neighbors= 18 algorithm= auto score= 0.9614643545279383\n",
      "n_neighbors= 19 algorithm= kd_tree score= 0.953757225433526\n",
      "n_neighbors= 19 algorithm= ball_tree score= 0.9556840077071291\n",
      "n_neighbors= 19 algorithm= auto score= 0.9633911368015414\n",
      "n_neighbors= 20 algorithm= kd_tree score= 0.9421965317919075\n",
      "n_neighbors= 20 algorithm= ball_tree score= 0.9460500963391136\n",
      "n_neighbors= 20 algorithm= auto score= 0.9518304431599229\n",
      "n_neighbors= 21 algorithm= kd_tree score= 0.9556840077071291\n",
      "n_neighbors= 21 algorithm= ball_tree score= 0.9595375722543352\n",
      "n_neighbors= 21 algorithm= auto score= 0.953757225433526\n",
      "n_neighbors= 22 algorithm= kd_tree score= 0.9383429672447013\n",
      "n_neighbors= 22 algorithm= ball_tree score= 0.9383429672447013\n",
      "n_neighbors= 22 algorithm= auto score= 0.9460500963391136\n",
      "n_neighbors= 23 algorithm= kd_tree score= 0.9402697495183044\n",
      "n_neighbors= 23 algorithm= ball_tree score= 0.9421965317919075\n",
      "n_neighbors= 23 algorithm= auto score= 0.9479768786127167\n",
      "n_neighbors= 24 algorithm= kd_tree score= 0.9364161849710982\n",
      "n_neighbors= 24 algorithm= ball_tree score= 0.9364161849710982\n",
      "n_neighbors= 24 algorithm= auto score= 0.9441233140655106\n",
      "n_neighbors= 25 algorithm= kd_tree score= 0.953757225433526\n",
      "n_neighbors= 25 algorithm= ball_tree score= 0.9518304431599229\n",
      "n_neighbors= 25 algorithm= auto score= 0.9499036608863198\n",
      "n_neighbors= 26 algorithm= kd_tree score= 0.9383429672447013\n",
      "n_neighbors= 26 algorithm= ball_tree score= 0.9364161849710982\n",
      "n_neighbors= 26 algorithm= auto score= 0.9402697495183044\n",
      "n_neighbors= 27 algorithm= kd_tree score= 0.9421965317919075\n",
      "n_neighbors= 27 algorithm= ball_tree score= 0.9364161849710982\n",
      "n_neighbors= 27 algorithm= auto score= 0.9518304431599229\n",
      "n_neighbors= 28 algorithm= kd_tree score= 0.9325626204238922\n",
      "n_neighbors= 28 algorithm= ball_tree score= 0.928709055876686\n",
      "n_neighbors= 28 algorithm= auto score= 0.9421965317919075\n",
      "n_neighbors= 29 algorithm= kd_tree score= 0.9460500963391136\n",
      "n_neighbors= 29 algorithm= ball_tree score= 0.9460500963391136\n",
      "n_neighbors= 29 algorithm= auto score= 0.953757225433526\n",
      "n_neighbors= 30 algorithm= kd_tree score= 0.9364161849710982\n",
      "n_neighbors= 30 algorithm= ball_tree score= 0.9364161849710982\n",
      "n_neighbors= 30 algorithm= auto score= 0.9460500963391136\n",
      "n_neighbors= 31 algorithm= kd_tree score= 0.9421965317919075\n",
      "n_neighbors= 31 algorithm= ball_tree score= 0.9402697495183044\n",
      "n_neighbors= 31 algorithm= auto score= 0.9499036608863198\n",
      "n_neighbors= 32 algorithm= kd_tree score= 0.930635838150289\n",
      "n_neighbors= 32 algorithm= ball_tree score= 0.9267822736030829\n",
      "n_neighbors= 32 algorithm= auto score= 0.9460500963391136\n",
      "n_neighbors= 33 algorithm= kd_tree score= 0.9344894026974951\n",
      "n_neighbors= 33 algorithm= ball_tree score= 0.9344894026974951\n",
      "n_neighbors= 33 algorithm= auto score= 0.9518304431599229\n",
      "n_neighbors= 34 algorithm= kd_tree score= 0.9113680154142582\n",
      "n_neighbors= 34 algorithm= ball_tree score= 0.9171483622350675\n",
      "n_neighbors= 34 algorithm= auto score= 0.9421965317919075\n",
      "n_neighbors= 35 algorithm= kd_tree score= 0.9267822736030829\n",
      "n_neighbors= 35 algorithm= ball_tree score= 0.928709055876686\n",
      "n_neighbors= 35 algorithm= auto score= 0.9556840077071291\n",
      "n_neighbors= 36 algorithm= kd_tree score= 0.9229287090558767\n",
      "n_neighbors= 36 algorithm= ball_tree score= 0.9229287090558767\n",
      "n_neighbors= 36 algorithm= auto score= 0.9421965317919075\n",
      "n_neighbors= 37 algorithm= kd_tree score= 0.9364161849710982\n",
      "n_neighbors= 37 algorithm= ball_tree score= 0.9325626204238922\n",
      "n_neighbors= 37 algorithm= auto score= 0.9518304431599229\n",
      "n_neighbors= 38 algorithm= kd_tree score= 0.9171483622350675\n",
      "n_neighbors= 38 algorithm= ball_tree score= 0.9152215799614644\n",
      "n_neighbors= 38 algorithm= auto score= 0.9460500963391136\n",
      "n_neighbors= 39 algorithm= kd_tree score= 0.9344894026974951\n",
      "n_neighbors= 39 algorithm= ball_tree score= 0.930635838150289\n",
      "n_neighbors= 39 algorithm= auto score= 0.953757225433526\n",
      "n_neighbors= 40 algorithm= kd_tree score= 0.9229287090558767\n",
      "n_neighbors= 40 algorithm= ball_tree score= 0.9229287090558767\n",
      "n_neighbors= 40 algorithm= auto score= 0.9441233140655106\n",
      "n_neighbors= 41 algorithm= kd_tree score= 0.930635838150289\n",
      "n_neighbors= 41 algorithm= ball_tree score= 0.9325626204238922\n",
      "n_neighbors= 41 algorithm= auto score= 0.9499036608863198\n",
      "n_neighbors= 42 algorithm= kd_tree score= 0.9267822736030829\n",
      "n_neighbors= 42 algorithm= ball_tree score= 0.928709055876686\n",
      "n_neighbors= 42 algorithm= auto score= 0.9479768786127167\n",
      "n_neighbors= 43 algorithm= kd_tree score= 0.9325626204238922\n",
      "n_neighbors= 43 algorithm= ball_tree score= 0.930635838150289\n",
      "n_neighbors= 43 algorithm= auto score= 0.9499036608863198\n",
      "n_neighbors= 44 algorithm= kd_tree score= 0.928709055876686\n",
      "n_neighbors= 44 algorithm= ball_tree score= 0.9267822736030829\n",
      "n_neighbors= 44 algorithm= auto score= 0.9402697495183044\n",
      "n_neighbors= 45 algorithm= kd_tree score= 0.930635838150289\n",
      "n_neighbors= 45 algorithm= ball_tree score= 0.9325626204238922\n",
      "n_neighbors= 45 algorithm= auto score= 0.9460500963391136\n",
      "n_neighbors= 46 algorithm= kd_tree score= 0.930635838150289\n",
      "n_neighbors= 46 algorithm= ball_tree score= 0.9344894026974951\n",
      "n_neighbors= 46 algorithm= auto score= 0.9364161849710982\n",
      "n_neighbors= 47 algorithm= kd_tree score= 0.9402697495183044\n",
      "n_neighbors= 47 algorithm= ball_tree score= 0.9402697495183044\n",
      "n_neighbors= 47 algorithm= auto score= 0.953757225433526\n",
      "n_neighbors= 48 algorithm= kd_tree score= 0.9325626204238922\n",
      "n_neighbors= 48 algorithm= ball_tree score= 0.930635838150289\n",
      "n_neighbors= 48 algorithm= auto score= 0.9460500963391136\n",
      "n_neighbors= 49 algorithm= kd_tree score= 0.9421965317919075\n",
      "n_neighbors= 49 algorithm= ball_tree score= 0.9441233140655106\n",
      "n_neighbors= 49 algorithm= auto score= 0.9518304431599229\n",
      "n_neighbors= 50 algorithm= kd_tree score= 0.9267822736030829\n",
      "n_neighbors= 50 algorithm= ball_tree score= 0.9344894026974951\n",
      "n_neighbors= 50 algorithm= auto score= 0.9479768786127167\n",
      "n_neighbors= 51 algorithm= kd_tree score= 0.9364161849710982\n",
      "n_neighbors= 51 algorithm= ball_tree score= 0.9402697495183044\n",
      "n_neighbors= 51 algorithm= auto score= 0.9499036608863198\n",
      "n_neighbors= 52 algorithm= kd_tree score= 0.9267822736030829\n",
      "n_neighbors= 52 algorithm= ball_tree score= 0.9325626204238922\n",
      "n_neighbors= 52 algorithm= auto score= 0.9460500963391136\n",
      "n_neighbors= 53 algorithm= kd_tree score= 0.9421965317919075\n",
      "n_neighbors= 53 algorithm= ball_tree score= 0.9479768786127167\n",
      "n_neighbors= 53 algorithm= auto score= 0.9595375722543352\n",
      "n_neighbors= 54 algorithm= kd_tree score= 0.9383429672447013\n",
      "n_neighbors= 54 algorithm= ball_tree score= 0.9441233140655106\n",
      "n_neighbors= 54 algorithm= auto score= 0.9460500963391136\n",
      "n_neighbors= 55 algorithm= kd_tree score= 0.9499036608863198\n",
      "n_neighbors= 55 algorithm= ball_tree score= 0.953757225433526\n",
      "n_neighbors= 55 algorithm= auto score= 0.9595375722543352\n",
      "n_neighbors= 56 algorithm= kd_tree score= 0.9344894026974951\n",
      "n_neighbors= 56 algorithm= ball_tree score= 0.9364161849710982\n",
      "n_neighbors= 56 algorithm= auto score= 0.9499036608863198\n",
      "n_neighbors= 57 algorithm= kd_tree score= 0.9460500963391136\n",
      "n_neighbors= 57 algorithm= ball_tree score= 0.9499036608863198\n",
      "n_neighbors= 57 algorithm= auto score= 0.9576107899807321\n",
      "n_neighbors= 58 algorithm= kd_tree score= 0.9421965317919075\n",
      "n_neighbors= 58 algorithm= ball_tree score= 0.9402697495183044\n",
      "n_neighbors= 58 algorithm= auto score= 0.9499036608863198\n",
      "n_neighbors= 59 algorithm= kd_tree score= 0.953757225433526\n",
      "n_neighbors= 59 algorithm= ball_tree score= 0.9556840077071291\n",
      "n_neighbors= 59 algorithm= auto score= 0.9556840077071291\n",
      "n_neighbors= 60 algorithm= kd_tree score= 0.9499036608863198\n",
      "n_neighbors= 60 algorithm= ball_tree score= 0.9518304431599229\n",
      "n_neighbors= 60 algorithm= auto score= 0.9499036608863198\n",
      "n_neighbors= 61 algorithm= kd_tree score= 0.9595375722543352\n",
      "n_neighbors= 61 algorithm= ball_tree score= 0.9576107899807321\n",
      "n_neighbors= 61 algorithm= auto score= 0.9576107899807321\n",
      "n_neighbors= 62 algorithm= kd_tree score= 0.9441233140655106\n",
      "n_neighbors= 62 algorithm= ball_tree score= 0.9402697495183044\n",
      "n_neighbors= 62 algorithm= auto score= 0.9518304431599229\n",
      "n_neighbors= 63 algorithm= kd_tree score= 0.953757225433526\n",
      "n_neighbors= 63 algorithm= ball_tree score= 0.9518304431599229\n",
      "n_neighbors= 63 algorithm= auto score= 0.9595375722543352\n",
      "n_neighbors= 64 algorithm= kd_tree score= 0.9518304431599229\n",
      "n_neighbors= 64 algorithm= ball_tree score= 0.9460500963391136\n",
      "n_neighbors= 64 algorithm= auto score= 0.9499036608863198\n",
      "n_neighbors= 65 algorithm= kd_tree score= 0.953757225433526\n",
      "n_neighbors= 65 algorithm= ball_tree score= 0.9479768786127167\n",
      "n_neighbors= 65 algorithm= auto score= 0.9614643545279383\n",
      "n_neighbors= 66 algorithm= kd_tree score= 0.9460500963391136\n",
      "n_neighbors= 66 algorithm= ball_tree score= 0.9441233140655106\n",
      "n_neighbors= 66 algorithm= auto score= 0.9499036608863198\n",
      "n_neighbors= 67 algorithm= kd_tree score= 0.9518304431599229\n",
      "n_neighbors= 67 algorithm= ball_tree score= 0.953757225433526\n",
      "n_neighbors= 67 algorithm= auto score= 0.953757225433526\n",
      "n_neighbors= 68 algorithm= kd_tree score= 0.9460500963391136\n",
      "n_neighbors= 68 algorithm= ball_tree score= 0.9460500963391136\n",
      "n_neighbors= 68 algorithm= auto score= 0.9460500963391136\n",
      "n_neighbors= 69 algorithm= kd_tree score= 0.9518304431599229\n",
      "n_neighbors= 69 algorithm= ball_tree score= 0.9518304431599229\n",
      "n_neighbors= 69 algorithm= auto score= 0.9518304431599229\n",
      "n_neighbors= 70 algorithm= kd_tree score= 0.9441233140655106\n",
      "n_neighbors= 70 algorithm= ball_tree score= 0.9460500963391136\n",
      "n_neighbors= 70 algorithm= auto score= 0.9441233140655106\n",
      "n_neighbors= 71 algorithm= kd_tree score= 0.9556840077071291\n",
      "n_neighbors= 71 algorithm= ball_tree score= 0.9518304431599229\n",
      "n_neighbors= 71 algorithm= auto score= 0.9595375722543352\n",
      "n_neighbors= 72 algorithm= kd_tree score= 0.9441233140655106\n",
      "n_neighbors= 72 algorithm= ball_tree score= 0.9441233140655106\n",
      "n_neighbors= 72 algorithm= auto score= 0.9460500963391136\n",
      "n_neighbors= 73 algorithm= kd_tree score= 0.953757225433526\n",
      "n_neighbors= 73 algorithm= ball_tree score= 0.9518304431599229\n",
      "n_neighbors= 73 algorithm= auto score= 0.9576107899807321\n",
      "n_neighbors= 74 algorithm= kd_tree score= 0.9441233140655106\n",
      "n_neighbors= 74 algorithm= ball_tree score= 0.9421965317919075\n",
      "n_neighbors= 74 algorithm= auto score= 0.9460500963391136\n",
      "n_neighbors= 75 algorithm= kd_tree score= 0.9595375722543352\n",
      "n_neighbors= 75 algorithm= ball_tree score= 0.9576107899807321\n",
      "n_neighbors= 75 algorithm= auto score= 0.953757225433526\n",
      "n_neighbors= 76 algorithm= kd_tree score= 0.9460500963391136\n",
      "n_neighbors= 76 algorithm= ball_tree score= 0.9460500963391136\n",
      "n_neighbors= 76 algorithm= auto score= 0.9460500963391136\n",
      "n_neighbors= 77 algorithm= kd_tree score= 0.9576107899807321\n",
      "n_neighbors= 77 algorithm= ball_tree score= 0.9556840077071291\n",
      "n_neighbors= 77 algorithm= auto score= 0.953757225433526\n",
      "n_neighbors= 78 algorithm= kd_tree score= 0.9441233140655106\n",
      "n_neighbors= 78 algorithm= ball_tree score= 0.9460500963391136\n",
      "n_neighbors= 78 algorithm= auto score= 0.9402697495183044\n",
      "n_neighbors= 79 algorithm= kd_tree score= 0.953757225433526\n",
      "n_neighbors= 79 algorithm= ball_tree score= 0.9518304431599229\n",
      "n_neighbors= 79 algorithm= auto score= 0.9518304431599229\n",
      "n_neighbors= 80 algorithm= kd_tree score= 0.9441233140655106\n",
      "n_neighbors= 80 algorithm= ball_tree score= 0.9383429672447013\n",
      "n_neighbors= 80 algorithm= auto score= 0.9402697495183044\n",
      "n_neighbors= 81 algorithm= kd_tree score= 0.9479768786127167\n",
      "n_neighbors= 81 algorithm= ball_tree score= 0.9421965317919075\n",
      "n_neighbors= 81 algorithm= auto score= 0.9479768786127167\n",
      "n_neighbors= 82 algorithm= kd_tree score= 0.9402697495183044\n",
      "n_neighbors= 82 algorithm= ball_tree score= 0.9344894026974951\n",
      "n_neighbors= 82 algorithm= auto score= 0.9344894026974951\n",
      "n_neighbors= 83 algorithm= kd_tree score= 0.9441233140655106\n",
      "n_neighbors= 83 algorithm= ball_tree score= 0.9383429672447013\n",
      "n_neighbors= 83 algorithm= auto score= 0.9421965317919075\n",
      "n_neighbors= 84 algorithm= kd_tree score= 0.930635838150289\n",
      "n_neighbors= 84 algorithm= ball_tree score= 0.930635838150289\n",
      "n_neighbors= 84 algorithm= auto score= 0.9344894026974951\n",
      "n_neighbors= 85 algorithm= kd_tree score= 0.9402697495183044\n",
      "n_neighbors= 85 algorithm= ball_tree score= 0.9383429672447013\n",
      "n_neighbors= 85 algorithm= auto score= 0.9402697495183044\n",
      "n_neighbors= 86 algorithm= kd_tree score= 0.9364161849710982\n",
      "n_neighbors= 86 algorithm= ball_tree score= 0.9364161849710982\n",
      "n_neighbors= 86 algorithm= auto score= 0.9383429672447013\n",
      "n_neighbors= 87 algorithm= kd_tree score= 0.9402697495183044\n",
      "n_neighbors= 87 algorithm= ball_tree score= 0.9364161849710982\n",
      "n_neighbors= 87 algorithm= auto score= 0.9383429672447013\n",
      "n_neighbors= 88 algorithm= kd_tree score= 0.9229287090558767\n",
      "n_neighbors= 88 algorithm= ball_tree score= 0.9210019267822736\n",
      "n_neighbors= 88 algorithm= auto score= 0.9344894026974951\n",
      "n_neighbors= 89 algorithm= kd_tree score= 0.9344894026974951\n",
      "n_neighbors= 89 algorithm= ball_tree score= 0.9364161849710982\n",
      "n_neighbors= 89 algorithm= auto score= 0.9344894026974951\n",
      "n_neighbors= 90 algorithm= kd_tree score= 0.9267822736030829\n",
      "n_neighbors= 90 algorithm= ball_tree score= 0.9267822736030829\n",
      "n_neighbors= 90 algorithm= auto score= 0.9325626204238922\n",
      "n_neighbors= 91 algorithm= kd_tree score= 0.930635838150289\n",
      "n_neighbors= 91 algorithm= ball_tree score= 0.930635838150289\n",
      "n_neighbors= 91 algorithm= auto score= 0.9325626204238922\n",
      "n_neighbors= 92 algorithm= kd_tree score= 0.9248554913294798\n",
      "n_neighbors= 92 algorithm= ball_tree score= 0.9248554913294798\n",
      "n_neighbors= 92 algorithm= auto score= 0.9325626204238922\n",
      "n_neighbors= 93 algorithm= kd_tree score= 0.9267822736030829\n",
      "n_neighbors= 93 algorithm= ball_tree score= 0.9325626204238922\n",
      "n_neighbors= 93 algorithm= auto score= 0.9344894026974951\n",
      "n_neighbors= 94 algorithm= kd_tree score= 0.9190751445086706\n",
      "n_neighbors= 94 algorithm= ball_tree score= 0.9171483622350675\n",
      "n_neighbors= 94 algorithm= auto score= 0.928709055876686\n",
      "n_neighbors= 95 algorithm= kd_tree score= 0.928709055876686\n",
      "n_neighbors= 95 algorithm= ball_tree score= 0.9344894026974951\n",
      "n_neighbors= 95 algorithm= auto score= 0.928709055876686\n",
      "n_neighbors= 96 algorithm= kd_tree score= 0.9210019267822736\n",
      "n_neighbors= 96 algorithm= ball_tree score= 0.928709055876686\n",
      "n_neighbors= 96 algorithm= auto score= 0.9229287090558767\n",
      "n_neighbors= 97 algorithm= kd_tree score= 0.9210019267822736\n",
      "n_neighbors= 97 algorithm= ball_tree score= 0.9248554913294798\n",
      "n_neighbors= 97 algorithm= auto score= 0.928709055876686\n",
      "n_neighbors= 98 algorithm= kd_tree score= 0.9152215799614644\n",
      "n_neighbors= 98 algorithm= ball_tree score= 0.9152215799614644\n",
      "n_neighbors= 98 algorithm= auto score= 0.9248554913294798\n",
      "n_neighbors= 99 algorithm= kd_tree score= 0.9190751445086706\n",
      "n_neighbors= 99 algorithm= ball_tree score= 0.9210019267822736\n",
      "n_neighbors= 99 algorithm= auto score= 0.928709055876686\n"
     ]
    }
   ],
   "source": [
    "for i in np.arange(3,100,1):\n",
    "    for j in [\"kd_tree\",\"ball_tree\",\"auto\"]:\n",
    "        knn_m=KNeighborsClassifier(n_neighbors=i,algorithm=j)\n",
    "        knn_m.fit(X_train,y_train)\n",
    "        print(\"n_neighbors=\",i,\"algorithm=\",j,\"score=\",knn_m.score(X_test,y_test))\n",
    "        "
   ]
  },
  {
   "cell_type": "code",
   "execution_count": 46,
   "id": "da739b4d",
   "metadata": {},
   "outputs": [],
   "source": [
    "from sklearn.model_selection import GridSearchCV\n",
    "from sklearn.svm import SVC\n",
    "param_grid={\"C\":np.arange(0.1,1,0.1),\"gamma\":np.arange(0.1,1,0.1)}\n",
    "grid_search=GridSearchCV(SVC(),param_grid=param_grid,cv=5)"
   ]
  },
  {
   "cell_type": "code",
   "execution_count": 47,
   "id": "b8af075f",
   "metadata": {},
   "outputs": [
    {
     "name": "stdout",
     "output_type": "stream",
     "text": [
      "CPU times: total: 17.2 s\n",
      "Wall time: 17.2 s\n"
     ]
    },
    {
     "data": {
      "text/html": [
       "<style>#sk-container-id-2 {color: black;background-color: white;}#sk-container-id-2 pre{padding: 0;}#sk-container-id-2 div.sk-toggleable {background-color: white;}#sk-container-id-2 label.sk-toggleable__label {cursor: pointer;display: block;width: 100%;margin-bottom: 0;padding: 0.3em;box-sizing: border-box;text-align: center;}#sk-container-id-2 label.sk-toggleable__label-arrow:before {content: \"▸\";float: left;margin-right: 0.25em;color: #696969;}#sk-container-id-2 label.sk-toggleable__label-arrow:hover:before {color: black;}#sk-container-id-2 div.sk-estimator:hover label.sk-toggleable__label-arrow:before {color: black;}#sk-container-id-2 div.sk-toggleable__content {max-height: 0;max-width: 0;overflow: hidden;text-align: left;background-color: #f0f8ff;}#sk-container-id-2 div.sk-toggleable__content pre {margin: 0.2em;color: black;border-radius: 0.25em;background-color: #f0f8ff;}#sk-container-id-2 input.sk-toggleable__control:checked~div.sk-toggleable__content {max-height: 200px;max-width: 100%;overflow: auto;}#sk-container-id-2 input.sk-toggleable__control:checked~label.sk-toggleable__label-arrow:before {content: \"▾\";}#sk-container-id-2 div.sk-estimator input.sk-toggleable__control:checked~label.sk-toggleable__label {background-color: #d4ebff;}#sk-container-id-2 div.sk-label input.sk-toggleable__control:checked~label.sk-toggleable__label {background-color: #d4ebff;}#sk-container-id-2 input.sk-hidden--visually {border: 0;clip: rect(1px 1px 1px 1px);clip: rect(1px, 1px, 1px, 1px);height: 1px;margin: -1px;overflow: hidden;padding: 0;position: absolute;width: 1px;}#sk-container-id-2 div.sk-estimator {font-family: monospace;background-color: #f0f8ff;border: 1px dotted black;border-radius: 0.25em;box-sizing: border-box;margin-bottom: 0.5em;}#sk-container-id-2 div.sk-estimator:hover {background-color: #d4ebff;}#sk-container-id-2 div.sk-parallel-item::after {content: \"\";width: 100%;border-bottom: 1px solid gray;flex-grow: 1;}#sk-container-id-2 div.sk-label:hover label.sk-toggleable__label {background-color: #d4ebff;}#sk-container-id-2 div.sk-serial::before {content: \"\";position: absolute;border-left: 1px solid gray;box-sizing: border-box;top: 0;bottom: 0;left: 50%;z-index: 0;}#sk-container-id-2 div.sk-serial {display: flex;flex-direction: column;align-items: center;background-color: white;padding-right: 0.2em;padding-left: 0.2em;position: relative;}#sk-container-id-2 div.sk-item {position: relative;z-index: 1;}#sk-container-id-2 div.sk-parallel {display: flex;align-items: stretch;justify-content: center;background-color: white;position: relative;}#sk-container-id-2 div.sk-item::before, #sk-container-id-2 div.sk-parallel-item::before {content: \"\";position: absolute;border-left: 1px solid gray;box-sizing: border-box;top: 0;bottom: 0;left: 50%;z-index: -1;}#sk-container-id-2 div.sk-parallel-item {display: flex;flex-direction: column;z-index: 1;position: relative;background-color: white;}#sk-container-id-2 div.sk-parallel-item:first-child::after {align-self: flex-end;width: 50%;}#sk-container-id-2 div.sk-parallel-item:last-child::after {align-self: flex-start;width: 50%;}#sk-container-id-2 div.sk-parallel-item:only-child::after {width: 0;}#sk-container-id-2 div.sk-dashed-wrapped {border: 1px dashed gray;margin: 0 0.4em 0.5em 0.4em;box-sizing: border-box;padding-bottom: 0.4em;background-color: white;}#sk-container-id-2 div.sk-label label {font-family: monospace;font-weight: bold;display: inline-block;line-height: 1.2em;}#sk-container-id-2 div.sk-label-container {text-align: center;}#sk-container-id-2 div.sk-container {/* jupyter's `normalize.less` sets `[hidden] { display: none; }` but bootstrap.min.css set `[hidden] { display: none !important; }` so we also need the `!important` here to be able to override the default hidden behavior on the sphinx rendered scikit-learn.org. See: https://github.com/scikit-learn/scikit-learn/issues/21755 */display: inline-block !important;position: relative;}#sk-container-id-2 div.sk-text-repr-fallback {display: none;}</style><div id=\"sk-container-id-2\" class=\"sk-top-container\"><div class=\"sk-text-repr-fallback\"><pre>GridSearchCV(cv=5, estimator=SVC(),\n",
       "             param_grid={&#x27;C&#x27;: array([0.1, 0.2, 0.3, 0.4, 0.5, 0.6, 0.7, 0.8, 0.9]),\n",
       "                         &#x27;gamma&#x27;: array([0.1, 0.2, 0.3, 0.4, 0.5, 0.6, 0.7, 0.8, 0.9])})</pre><b>In a Jupyter environment, please rerun this cell to show the HTML representation or trust the notebook. <br />On GitHub, the HTML representation is unable to render, please try loading this page with nbviewer.org.</b></div><div class=\"sk-container\" hidden><div class=\"sk-item sk-dashed-wrapped\"><div class=\"sk-label-container\"><div class=\"sk-label sk-toggleable\"><input class=\"sk-toggleable__control sk-hidden--visually\" id=\"sk-estimator-id-2\" type=\"checkbox\" ><label for=\"sk-estimator-id-2\" class=\"sk-toggleable__label sk-toggleable__label-arrow\">GridSearchCV</label><div class=\"sk-toggleable__content\"><pre>GridSearchCV(cv=5, estimator=SVC(),\n",
       "             param_grid={&#x27;C&#x27;: array([0.1, 0.2, 0.3, 0.4, 0.5, 0.6, 0.7, 0.8, 0.9]),\n",
       "                         &#x27;gamma&#x27;: array([0.1, 0.2, 0.3, 0.4, 0.5, 0.6, 0.7, 0.8, 0.9])})</pre></div></div></div><div class=\"sk-parallel\"><div class=\"sk-parallel-item\"><div class=\"sk-item\"><div class=\"sk-label-container\"><div class=\"sk-label sk-toggleable\"><input class=\"sk-toggleable__control sk-hidden--visually\" id=\"sk-estimator-id-3\" type=\"checkbox\" ><label for=\"sk-estimator-id-3\" class=\"sk-toggleable__label sk-toggleable__label-arrow\">estimator: SVC</label><div class=\"sk-toggleable__content\"><pre>SVC()</pre></div></div></div><div class=\"sk-serial\"><div class=\"sk-item\"><div class=\"sk-estimator sk-toggleable\"><input class=\"sk-toggleable__control sk-hidden--visually\" id=\"sk-estimator-id-4\" type=\"checkbox\" ><label for=\"sk-estimator-id-4\" class=\"sk-toggleable__label sk-toggleable__label-arrow\">SVC</label><div class=\"sk-toggleable__content\"><pre>SVC()</pre></div></div></div></div></div></div></div></div></div></div>"
      ],
      "text/plain": [
       "GridSearchCV(cv=5, estimator=SVC(),\n",
       "             param_grid={'C': array([0.1, 0.2, 0.3, 0.4, 0.5, 0.6, 0.7, 0.8, 0.9]),\n",
       "                         'gamma': array([0.1, 0.2, 0.3, 0.4, 0.5, 0.6, 0.7, 0.8, 0.9])})"
      ]
     },
     "execution_count": 47,
     "metadata": {},
     "output_type": "execute_result"
    }
   ],
   "source": [
    "%time grid_search.fit(X_train,y_train)"
   ]
  },
  {
   "cell_type": "code",
   "execution_count": 48,
   "id": "0cf6afb0",
   "metadata": {},
   "outputs": [
    {
     "data": {
      "text/plain": [
       "0.9980732177263969"
      ]
     },
     "execution_count": 48,
     "metadata": {},
     "output_type": "execute_result"
    }
   ],
   "source": [
    "grid_search.score(X_test,y_test)"
   ]
  },
  {
   "cell_type": "code",
   "execution_count": 49,
   "id": "00571918",
   "metadata": {},
   "outputs": [
    {
     "data": {
      "text/plain": [
       "{'C': 0.9, 'gamma': 0.6}"
      ]
     },
     "execution_count": 49,
     "metadata": {},
     "output_type": "execute_result"
    }
   ],
   "source": [
    "grid_search.best_params_"
   ]
  },
  {
   "cell_type": "code",
   "execution_count": 50,
   "id": "21c81fe7",
   "metadata": {},
   "outputs": [
    {
     "data": {
      "text/plain": [
       "0.9793148383114433"
      ]
     },
     "execution_count": 50,
     "metadata": {},
     "output_type": "execute_result"
    }
   ],
   "source": [
    "grid_search.best_score_"
   ]
  },
  {
   "cell_type": "code",
   "execution_count": 51,
   "id": "3bf12709",
   "metadata": {},
   "outputs": [],
   "source": [
    "from sklearn.model_selection import RandomizedSearchCV\n",
    "from sklearn.svm import SVC\n",
    "#param_grid={\"C\":[0.1,1,10,100],\"gamma\":[0.1,1,10,100]}\n",
    "grid_searchr=RandomizedSearchCV(SVC(),param_grid,cv=5)"
   ]
  },
  {
   "cell_type": "code",
   "execution_count": 52,
   "id": "3fa06b68",
   "metadata": {},
   "outputs": [
    {
     "name": "stdout",
     "output_type": "stream",
     "text": [
      "CPU times: total: 1.98 s\n",
      "Wall time: 1.99 s\n"
     ]
    },
    {
     "data": {
      "text/html": [
       "<style>#sk-container-id-3 {color: black;background-color: white;}#sk-container-id-3 pre{padding: 0;}#sk-container-id-3 div.sk-toggleable {background-color: white;}#sk-container-id-3 label.sk-toggleable__label {cursor: pointer;display: block;width: 100%;margin-bottom: 0;padding: 0.3em;box-sizing: border-box;text-align: center;}#sk-container-id-3 label.sk-toggleable__label-arrow:before {content: \"▸\";float: left;margin-right: 0.25em;color: #696969;}#sk-container-id-3 label.sk-toggleable__label-arrow:hover:before {color: black;}#sk-container-id-3 div.sk-estimator:hover label.sk-toggleable__label-arrow:before {color: black;}#sk-container-id-3 div.sk-toggleable__content {max-height: 0;max-width: 0;overflow: hidden;text-align: left;background-color: #f0f8ff;}#sk-container-id-3 div.sk-toggleable__content pre {margin: 0.2em;color: black;border-radius: 0.25em;background-color: #f0f8ff;}#sk-container-id-3 input.sk-toggleable__control:checked~div.sk-toggleable__content {max-height: 200px;max-width: 100%;overflow: auto;}#sk-container-id-3 input.sk-toggleable__control:checked~label.sk-toggleable__label-arrow:before {content: \"▾\";}#sk-container-id-3 div.sk-estimator input.sk-toggleable__control:checked~label.sk-toggleable__label {background-color: #d4ebff;}#sk-container-id-3 div.sk-label input.sk-toggleable__control:checked~label.sk-toggleable__label {background-color: #d4ebff;}#sk-container-id-3 input.sk-hidden--visually {border: 0;clip: rect(1px 1px 1px 1px);clip: rect(1px, 1px, 1px, 1px);height: 1px;margin: -1px;overflow: hidden;padding: 0;position: absolute;width: 1px;}#sk-container-id-3 div.sk-estimator {font-family: monospace;background-color: #f0f8ff;border: 1px dotted black;border-radius: 0.25em;box-sizing: border-box;margin-bottom: 0.5em;}#sk-container-id-3 div.sk-estimator:hover {background-color: #d4ebff;}#sk-container-id-3 div.sk-parallel-item::after {content: \"\";width: 100%;border-bottom: 1px solid gray;flex-grow: 1;}#sk-container-id-3 div.sk-label:hover label.sk-toggleable__label {background-color: #d4ebff;}#sk-container-id-3 div.sk-serial::before {content: \"\";position: absolute;border-left: 1px solid gray;box-sizing: border-box;top: 0;bottom: 0;left: 50%;z-index: 0;}#sk-container-id-3 div.sk-serial {display: flex;flex-direction: column;align-items: center;background-color: white;padding-right: 0.2em;padding-left: 0.2em;position: relative;}#sk-container-id-3 div.sk-item {position: relative;z-index: 1;}#sk-container-id-3 div.sk-parallel {display: flex;align-items: stretch;justify-content: center;background-color: white;position: relative;}#sk-container-id-3 div.sk-item::before, #sk-container-id-3 div.sk-parallel-item::before {content: \"\";position: absolute;border-left: 1px solid gray;box-sizing: border-box;top: 0;bottom: 0;left: 50%;z-index: -1;}#sk-container-id-3 div.sk-parallel-item {display: flex;flex-direction: column;z-index: 1;position: relative;background-color: white;}#sk-container-id-3 div.sk-parallel-item:first-child::after {align-self: flex-end;width: 50%;}#sk-container-id-3 div.sk-parallel-item:last-child::after {align-self: flex-start;width: 50%;}#sk-container-id-3 div.sk-parallel-item:only-child::after {width: 0;}#sk-container-id-3 div.sk-dashed-wrapped {border: 1px dashed gray;margin: 0 0.4em 0.5em 0.4em;box-sizing: border-box;padding-bottom: 0.4em;background-color: white;}#sk-container-id-3 div.sk-label label {font-family: monospace;font-weight: bold;display: inline-block;line-height: 1.2em;}#sk-container-id-3 div.sk-label-container {text-align: center;}#sk-container-id-3 div.sk-container {/* jupyter's `normalize.less` sets `[hidden] { display: none; }` but bootstrap.min.css set `[hidden] { display: none !important; }` so we also need the `!important` here to be able to override the default hidden behavior on the sphinx rendered scikit-learn.org. See: https://github.com/scikit-learn/scikit-learn/issues/21755 */display: inline-block !important;position: relative;}#sk-container-id-3 div.sk-text-repr-fallback {display: none;}</style><div id=\"sk-container-id-3\" class=\"sk-top-container\"><div class=\"sk-text-repr-fallback\"><pre>RandomizedSearchCV(cv=5, estimator=SVC(),\n",
       "                   param_distributions={&#x27;C&#x27;: array([0.1, 0.2, 0.3, 0.4, 0.5, 0.6, 0.7, 0.8, 0.9]),\n",
       "                                        &#x27;gamma&#x27;: array([0.1, 0.2, 0.3, 0.4, 0.5, 0.6, 0.7, 0.8, 0.9])})</pre><b>In a Jupyter environment, please rerun this cell to show the HTML representation or trust the notebook. <br />On GitHub, the HTML representation is unable to render, please try loading this page with nbviewer.org.</b></div><div class=\"sk-container\" hidden><div class=\"sk-item sk-dashed-wrapped\"><div class=\"sk-label-container\"><div class=\"sk-label sk-toggleable\"><input class=\"sk-toggleable__control sk-hidden--visually\" id=\"sk-estimator-id-5\" type=\"checkbox\" ><label for=\"sk-estimator-id-5\" class=\"sk-toggleable__label sk-toggleable__label-arrow\">RandomizedSearchCV</label><div class=\"sk-toggleable__content\"><pre>RandomizedSearchCV(cv=5, estimator=SVC(),\n",
       "                   param_distributions={&#x27;C&#x27;: array([0.1, 0.2, 0.3, 0.4, 0.5, 0.6, 0.7, 0.8, 0.9]),\n",
       "                                        &#x27;gamma&#x27;: array([0.1, 0.2, 0.3, 0.4, 0.5, 0.6, 0.7, 0.8, 0.9])})</pre></div></div></div><div class=\"sk-parallel\"><div class=\"sk-parallel-item\"><div class=\"sk-item\"><div class=\"sk-label-container\"><div class=\"sk-label sk-toggleable\"><input class=\"sk-toggleable__control sk-hidden--visually\" id=\"sk-estimator-id-6\" type=\"checkbox\" ><label for=\"sk-estimator-id-6\" class=\"sk-toggleable__label sk-toggleable__label-arrow\">estimator: SVC</label><div class=\"sk-toggleable__content\"><pre>SVC()</pre></div></div></div><div class=\"sk-serial\"><div class=\"sk-item\"><div class=\"sk-estimator sk-toggleable\"><input class=\"sk-toggleable__control sk-hidden--visually\" id=\"sk-estimator-id-7\" type=\"checkbox\" ><label for=\"sk-estimator-id-7\" class=\"sk-toggleable__label sk-toggleable__label-arrow\">SVC</label><div class=\"sk-toggleable__content\"><pre>SVC()</pre></div></div></div></div></div></div></div></div></div></div>"
      ],
      "text/plain": [
       "RandomizedSearchCV(cv=5, estimator=SVC(),\n",
       "                   param_distributions={'C': array([0.1, 0.2, 0.3, 0.4, 0.5, 0.6, 0.7, 0.8, 0.9]),\n",
       "                                        'gamma': array([0.1, 0.2, 0.3, 0.4, 0.5, 0.6, 0.7, 0.8, 0.9])})"
      ]
     },
     "execution_count": 52,
     "metadata": {},
     "output_type": "execute_result"
    }
   ],
   "source": [
    "%time grid_searchr.fit(X_train,y_train)\n",
    "#grid_searchr.score(X_test,y_test)"
   ]
  },
  {
   "cell_type": "code",
   "execution_count": 53,
   "id": "b712574d",
   "metadata": {},
   "outputs": [
    {
     "data": {
      "text/plain": [
       "{'gamma': 0.5, 'C': 0.9}"
      ]
     },
     "execution_count": 53,
     "metadata": {},
     "output_type": "execute_result"
    }
   ],
   "source": [
    "grid_searchr.best_params_"
   ]
  },
  {
   "cell_type": "code",
   "execution_count": 54,
   "id": "309d0506",
   "metadata": {},
   "outputs": [
    {
     "data": {
      "text/plain": [
       "0.9776619457494599"
      ]
     },
     "execution_count": 54,
     "metadata": {},
     "output_type": "execute_result"
    }
   ],
   "source": [
    "grid_searchr.best_score_"
   ]
  },
  {
   "cell_type": "code",
   "execution_count": 55,
   "id": "7b31ccf5",
   "metadata": {},
   "outputs": [
    {
     "data": {
      "text/plain": [
       "0.9980732177263969"
      ]
     },
     "execution_count": 55,
     "metadata": {},
     "output_type": "execute_result"
    }
   ],
   "source": [
    "grid_searchr.score(X_test,y_test)"
   ]
  }
 ],
 "metadata": {
  "kernelspec": {
   "display_name": "Python 3 (ipykernel)",
   "language": "python",
   "name": "python3"
  },
  "language_info": {
   "codemirror_mode": {
    "name": "ipython",
    "version": 3
   },
   "file_extension": ".py",
   "mimetype": "text/x-python",
   "name": "python",
   "nbconvert_exporter": "python",
   "pygments_lexer": "ipython3",
   "version": "3.9.2"
  }
 },
 "nbformat": 4,
 "nbformat_minor": 5
}
