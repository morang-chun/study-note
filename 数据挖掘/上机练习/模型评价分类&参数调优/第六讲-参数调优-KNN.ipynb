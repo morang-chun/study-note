{
 "cells": [
  {
   "cell_type": "markdown",
   "metadata": {},
   "source": [
    "模型参数，超参数。GridSearchCV,RandomizedSearchCV"
   ]
  },
  {
   "cell_type": "code",
   "execution_count": 23,
   "metadata": {},
   "outputs": [
    {
     "data": {
      "text/html": [
       "<div>\n",
       "<style scoped>\n",
       "    .dataframe tbody tr th:only-of-type {\n",
       "        vertical-align: middle;\n",
       "    }\n",
       "\n",
       "    .dataframe tbody tr th {\n",
       "        vertical-align: top;\n",
       "    }\n",
       "\n",
       "    .dataframe thead th {\n",
       "        text-align: right;\n",
       "    }\n",
       "</style>\n",
       "<table border=\"1\" class=\"dataframe\">\n",
       "  <thead>\n",
       "    <tr style=\"text-align: right;\">\n",
       "      <th></th>\n",
       "      <th>buying</th>\n",
       "      <th>maint</th>\n",
       "      <th>doors</th>\n",
       "      <th>persons</th>\n",
       "      <th>lug_boot</th>\n",
       "      <th>safety</th>\n",
       "      <th>car_Eva</th>\n",
       "    </tr>\n",
       "  </thead>\n",
       "  <tbody>\n",
       "    <tr>\n",
       "      <th>0</th>\n",
       "      <td>vhigh</td>\n",
       "      <td>vhigh</td>\n",
       "      <td>2</td>\n",
       "      <td>2</td>\n",
       "      <td>small</td>\n",
       "      <td>low</td>\n",
       "      <td>unacc</td>\n",
       "    </tr>\n",
       "    <tr>\n",
       "      <th>1</th>\n",
       "      <td>vhigh</td>\n",
       "      <td>vhigh</td>\n",
       "      <td>2</td>\n",
       "      <td>2</td>\n",
       "      <td>small</td>\n",
       "      <td>med</td>\n",
       "      <td>unacc</td>\n",
       "    </tr>\n",
       "    <tr>\n",
       "      <th>2</th>\n",
       "      <td>vhigh</td>\n",
       "      <td>vhigh</td>\n",
       "      <td>2</td>\n",
       "      <td>2</td>\n",
       "      <td>small</td>\n",
       "      <td>high</td>\n",
       "      <td>unacc</td>\n",
       "    </tr>\n",
       "    <tr>\n",
       "      <th>3</th>\n",
       "      <td>vhigh</td>\n",
       "      <td>vhigh</td>\n",
       "      <td>2</td>\n",
       "      <td>2</td>\n",
       "      <td>med</td>\n",
       "      <td>low</td>\n",
       "      <td>unacc</td>\n",
       "    </tr>\n",
       "    <tr>\n",
       "      <th>4</th>\n",
       "      <td>vhigh</td>\n",
       "      <td>vhigh</td>\n",
       "      <td>2</td>\n",
       "      <td>2</td>\n",
       "      <td>med</td>\n",
       "      <td>med</td>\n",
       "      <td>unacc</td>\n",
       "    </tr>\n",
       "  </tbody>\n",
       "</table>\n",
       "</div>"
      ],
      "text/plain": [
       "  buying  maint doors persons lug_boot safety car_Eva\n",
       "0  vhigh  vhigh     2       2    small    low   unacc\n",
       "1  vhigh  vhigh     2       2    small    med   unacc\n",
       "2  vhigh  vhigh     2       2    small   high   unacc\n",
       "3  vhigh  vhigh     2       2      med    low   unacc\n",
       "4  vhigh  vhigh     2       2      med    med   unacc"
      ]
     },
     "execution_count": 23,
     "metadata": {},
     "output_type": "execute_result"
    }
   ],
   "source": [
    "from sklearn.model_selection import train_test_split\n",
    "import warnings\n",
    "warnings.filterwarnings(\"ignore\")\n",
    "import numpy as np\n",
    "import matplotlib.pyplot as plt\n",
    "%matplotlib inline\n",
    "import pandas as pd\n",
    "data=pd.read_csv(\"d:/datasets/car.data\",names=[\"buying\",\"maint\",\"doors\",\"persons\",\"lug_boot\",\"safety\",\"car_Eva\"])\n",
    "data.head()"
   ]
  },
  {
   "cell_type": "code",
   "execution_count": 24,
   "metadata": {},
   "outputs": [],
   "source": [
    "data.dropna(inplace=True)\n",
    "data=pd.get_dummies(data,columns=[\"doors\",\"persons\",\"buying\",\"maint\",\"lug_boot\",\"safety\"])\n",
    "data[\"car_Eva\"]=data[\"car_Eva\"].map({\"unacc\":0,\"acc\":1,\"good\":1,\"vgood\":1})\n",
    "X=data.drop([\"car_Eva\"],axis=1)\n",
    "y=data[\"car_Eva\"]\n",
    "X_train,X_test,y_train,y_test=train_test_split(X,y,test_size=0.3,random_state=10)"
   ]
  },
  {
   "cell_type": "code",
   "execution_count": 25,
   "metadata": {},
   "outputs": [],
   "source": [
    "#X1=pd.get_dummies(X,columns=[\"doors\",\"persons\",\"buying\",\"maint\",\"lug_boot\",\"safety\"])\n",
    "#y1=y.map({\"unacc\":0,\"acc\":1,\"good\":1,\"vgood\":1})"
   ]
  },
  {
   "cell_type": "code",
   "execution_count": 26,
   "metadata": {},
   "outputs": [
    {
     "data": {
      "text/plain": [
       "KNeighborsClassifier()"
      ]
     },
     "execution_count": 26,
     "metadata": {},
     "output_type": "execute_result"
    }
   ],
   "source": [
    "from sklearn.neighbors import KNeighborsClassifier\n",
    "from sklearn.tree import DecisionTreeClassifier\n",
    "KNeighborsClassifier()"
   ]
  },
  {
   "cell_type": "code",
   "execution_count": 28,
   "metadata": {},
   "outputs": [
    {
     "name": "stdout",
     "output_type": "stream",
     "text": [
      "criterion= gini max_depth= 3 score= 0.9017341040462428\n",
      "criterion= gini max_depth= 4 score= 0.9094412331406551\n",
      "criterion= gini max_depth= 5 score= 0.9499036608863198\n",
      "criterion= gini max_depth= 6 score= 0.9421965317919075\n",
      "criterion= gini max_depth= 7 score= 0.976878612716763\n",
      "criterion= gini max_depth= 8 score= 0.9710982658959537\n",
      "criterion= gini max_depth= 9 score= 0.9922928709055877\n",
      "criterion= gini max_depth= 10 score= 0.9884393063583815\n",
      "criterion= gini max_depth= 11 score= 0.9961464354527938\n",
      "criterion= gini max_depth= 12 score= 0.9961464354527938\n",
      "criterion= gini max_depth= 13 score= 0.9942196531791907\n",
      "criterion= gini max_depth= 14 score= 0.9942196531791907\n",
      "criterion= entropy max_depth= 3 score= 0.9017341040462428\n",
      "criterion= entropy max_depth= 4 score= 0.8978805394990366\n",
      "criterion= entropy max_depth= 5 score= 0.9479768786127167\n",
      "criterion= entropy max_depth= 6 score= 0.9441233140655106\n",
      "criterion= entropy max_depth= 7 score= 0.976878612716763\n",
      "criterion= entropy max_depth= 8 score= 0.976878612716763\n",
      "criterion= entropy max_depth= 9 score= 0.9942196531791907\n",
      "criterion= entropy max_depth= 10 score= 0.9922928709055877\n",
      "criterion= entropy max_depth= 11 score= 1.0\n",
      "criterion= entropy max_depth= 12 score= 1.0\n",
      "criterion= entropy max_depth= 13 score= 1.0\n",
      "criterion= entropy max_depth= 14 score= 1.0\n"
     ]
    }
   ],
   "source": [
    "for i in [\"gini\", \"entropy\"]:\n",
    "    for j in [3,4,5,6,7,8,9,10,11,12,13,14]:\n",
    "        d_m=DecisionTreeClassifier(criterion=i,max_depth=j)\n",
    "        d_m.fit(X_train,y_train)\n",
    "        print(\"criterion=\",i,\"max_depth=\",j,\"score=\",d_m.score(X_test,y_test))\n",
    "        "
   ]
  },
  {
   "cell_type": "code",
   "execution_count": 29,
   "metadata": {},
   "outputs": [
    {
     "name": "stdout",
     "output_type": "stream",
     "text": [
      "n_neighbors= 3 algorithm= kd_tree score= 0.9094412331406551\n",
      "n_neighbors= 3 algorithm= ball_tree score= 0.9094412331406551\n",
      "n_neighbors= 3 algorithm= auto score= 0.9132947976878613\n",
      "n_neighbors= 4 algorithm= kd_tree score= 0.9036608863198459\n",
      "n_neighbors= 4 algorithm= ball_tree score= 0.8998073217726397\n",
      "n_neighbors= 4 algorithm= auto score= 0.9364161849710982\n",
      "n_neighbors= 5 algorithm= kd_tree score= 0.9383429672447013\n",
      "n_neighbors= 5 algorithm= ball_tree score= 0.9364161849710982\n",
      "n_neighbors= 5 algorithm= auto score= 0.9614643545279383\n",
      "n_neighbors= 6 algorithm= kd_tree score= 0.9344894026974951\n",
      "n_neighbors= 6 algorithm= ball_tree score= 0.9325626204238922\n",
      "n_neighbors= 6 algorithm= auto score= 0.9479768786127167\n",
      "n_neighbors= 7 algorithm= kd_tree score= 0.9710982658959537\n",
      "n_neighbors= 7 algorithm= ball_tree score= 0.9691714836223507\n",
      "n_neighbors= 7 algorithm= auto score= 0.9788053949903661\n",
      "n_neighbors= 8 algorithm= kd_tree score= 0.9595375722543352\n",
      "n_neighbors= 8 algorithm= ball_tree score= 0.9595375722543352\n",
      "n_neighbors= 8 algorithm= auto score= 0.9749518304431599\n",
      "n_neighbors= 9 algorithm= kd_tree score= 0.9788053949903661\n",
      "n_neighbors= 9 algorithm= ball_tree score= 0.9788053949903661\n",
      "n_neighbors= 9 algorithm= auto score= 0.9884393063583815\n",
      "n_neighbors= 10 algorithm= kd_tree score= 0.9691714836223507\n",
      "n_neighbors= 10 algorithm= ball_tree score= 0.9691714836223507\n",
      "n_neighbors= 10 algorithm= auto score= 0.9788053949903661\n",
      "n_neighbors= 11 algorithm= kd_tree score= 0.9807321772639692\n",
      "n_neighbors= 11 algorithm= ball_tree score= 0.9807321772639692\n",
      "n_neighbors= 11 algorithm= auto score= 0.9826589595375722\n",
      "n_neighbors= 12 algorithm= kd_tree score= 0.9730250481695568\n",
      "n_neighbors= 12 algorithm= ball_tree score= 0.9691714836223507\n",
      "n_neighbors= 12 algorithm= auto score= 0.9730250481695568\n",
      "n_neighbors= 13 algorithm= kd_tree score= 0.9826589595375722\n",
      "n_neighbors= 13 algorithm= ball_tree score= 0.9826589595375722\n",
      "n_neighbors= 13 algorithm= auto score= 0.9865125240847784\n",
      "n_neighbors= 14 algorithm= kd_tree score= 0.9710982658959537\n",
      "n_neighbors= 14 algorithm= ball_tree score= 0.9730250481695568\n",
      "n_neighbors= 14 algorithm= auto score= 0.9749518304431599\n",
      "n_neighbors= 15 algorithm= kd_tree score= 0.9691714836223507\n",
      "n_neighbors= 15 algorithm= ball_tree score= 0.9691714836223507\n",
      "n_neighbors= 15 algorithm= auto score= 0.9807321772639692\n",
      "n_neighbors= 16 algorithm= kd_tree score= 0.9576107899807321\n",
      "n_neighbors= 16 algorithm= ball_tree score= 0.9595375722543352\n",
      "n_neighbors= 16 algorithm= auto score= 0.9710982658959537\n",
      "n_neighbors= 17 algorithm= kd_tree score= 0.9614643545279383\n",
      "n_neighbors= 17 algorithm= ball_tree score= 0.9633911368015414\n",
      "n_neighbors= 17 algorithm= auto score= 0.9749518304431599\n",
      "n_neighbors= 18 algorithm= kd_tree score= 0.9441233140655106\n",
      "n_neighbors= 18 algorithm= ball_tree score= 0.9460500963391136\n",
      "n_neighbors= 18 algorithm= auto score= 0.9614643545279383\n",
      "n_neighbors= 19 algorithm= kd_tree score= 0.9653179190751445\n",
      "n_neighbors= 19 algorithm= ball_tree score= 0.9653179190751445\n",
      "n_neighbors= 19 algorithm= auto score= 0.9633911368015414\n",
      "n_neighbors= 20 algorithm= kd_tree score= 0.9518304431599229\n",
      "n_neighbors= 20 algorithm= ball_tree score= 0.9460500963391136\n",
      "n_neighbors= 20 algorithm= auto score= 0.9518304431599229\n",
      "n_neighbors= 21 algorithm= kd_tree score= 0.9576107899807321\n",
      "n_neighbors= 21 algorithm= ball_tree score= 0.9576107899807321\n",
      "n_neighbors= 21 algorithm= auto score= 0.953757225433526\n",
      "n_neighbors= 22 algorithm= kd_tree score= 0.9460500963391136\n",
      "n_neighbors= 22 algorithm= ball_tree score= 0.9441233140655106\n",
      "n_neighbors= 22 algorithm= auto score= 0.9460500963391136\n",
      "n_neighbors= 23 algorithm= kd_tree score= 0.9556840077071291\n",
      "n_neighbors= 23 algorithm= ball_tree score= 0.9614643545279383\n",
      "n_neighbors= 23 algorithm= auto score= 0.9479768786127167\n",
      "n_neighbors= 24 algorithm= kd_tree score= 0.930635838150289\n",
      "n_neighbors= 24 algorithm= ball_tree score= 0.9325626204238922\n",
      "n_neighbors= 24 algorithm= auto score= 0.9441233140655106\n",
      "n_neighbors= 25 algorithm= kd_tree score= 0.9441233140655106\n",
      "n_neighbors= 25 algorithm= ball_tree score= 0.9460500963391136\n",
      "n_neighbors= 25 algorithm= auto score= 0.9499036608863198\n",
      "n_neighbors= 26 algorithm= kd_tree score= 0.928709055876686\n",
      "n_neighbors= 26 algorithm= ball_tree score= 0.9325626204238922\n",
      "n_neighbors= 26 algorithm= auto score= 0.9402697495183044\n",
      "n_neighbors= 27 algorithm= kd_tree score= 0.930635838150289\n",
      "n_neighbors= 27 algorithm= ball_tree score= 0.9344894026974951\n",
      "n_neighbors= 27 algorithm= auto score= 0.9518304431599229\n",
      "n_neighbors= 28 algorithm= kd_tree score= 0.9248554913294798\n",
      "n_neighbors= 28 algorithm= ball_tree score= 0.928709055876686\n",
      "n_neighbors= 28 algorithm= auto score= 0.9421965317919075\n",
      "n_neighbors= 29 algorithm= kd_tree score= 0.9402697495183044\n",
      "n_neighbors= 29 algorithm= ball_tree score= 0.9441233140655106\n",
      "n_neighbors= 29 algorithm= auto score= 0.953757225433526\n",
      "n_neighbors= 30 algorithm= kd_tree score= 0.928709055876686\n",
      "n_neighbors= 30 algorithm= ball_tree score= 0.9325626204238922\n",
      "n_neighbors= 30 algorithm= auto score= 0.9460500963391136\n",
      "n_neighbors= 31 algorithm= kd_tree score= 0.928709055876686\n",
      "n_neighbors= 31 algorithm= ball_tree score= 0.928709055876686\n",
      "n_neighbors= 31 algorithm= auto score= 0.9499036608863198\n",
      "n_neighbors= 32 algorithm= kd_tree score= 0.9229287090558767\n",
      "n_neighbors= 32 algorithm= ball_tree score= 0.9248554913294798\n",
      "n_neighbors= 32 algorithm= auto score= 0.9460500963391136\n",
      "n_neighbors= 33 algorithm= kd_tree score= 0.9383429672447013\n",
      "n_neighbors= 33 algorithm= ball_tree score= 0.9383429672447013\n",
      "n_neighbors= 33 algorithm= auto score= 0.9518304431599229\n",
      "n_neighbors= 34 algorithm= kd_tree score= 0.9267822736030829\n",
      "n_neighbors= 34 algorithm= ball_tree score= 0.928709055876686\n",
      "n_neighbors= 34 algorithm= auto score= 0.9421965317919075\n",
      "n_neighbors= 35 algorithm= kd_tree score= 0.928709055876686\n",
      "n_neighbors= 35 algorithm= ball_tree score= 0.9325626204238922\n",
      "n_neighbors= 35 algorithm= auto score= 0.9556840077071291\n",
      "n_neighbors= 36 algorithm= kd_tree score= 0.9229287090558767\n",
      "n_neighbors= 36 algorithm= ball_tree score= 0.9267822736030829\n",
      "n_neighbors= 36 algorithm= auto score= 0.9421965317919075\n",
      "n_neighbors= 37 algorithm= kd_tree score= 0.9402697495183044\n",
      "n_neighbors= 37 algorithm= ball_tree score= 0.9364161849710982\n",
      "n_neighbors= 37 algorithm= auto score= 0.9518304431599229\n",
      "n_neighbors= 38 algorithm= kd_tree score= 0.930635838150289\n",
      "n_neighbors= 38 algorithm= ball_tree score= 0.930635838150289\n",
      "n_neighbors= 38 algorithm= auto score= 0.9460500963391136\n",
      "n_neighbors= 39 algorithm= kd_tree score= 0.9383429672447013\n",
      "n_neighbors= 39 algorithm= ball_tree score= 0.9383429672447013\n",
      "n_neighbors= 39 algorithm= auto score= 0.953757225433526\n",
      "n_neighbors= 40 algorithm= kd_tree score= 0.9344894026974951\n",
      "n_neighbors= 40 algorithm= ball_tree score= 0.928709055876686\n",
      "n_neighbors= 40 algorithm= auto score= 0.9441233140655106\n",
      "n_neighbors= 41 algorithm= kd_tree score= 0.9383429672447013\n",
      "n_neighbors= 41 algorithm= ball_tree score= 0.9344894026974951\n",
      "n_neighbors= 41 algorithm= auto score= 0.9499036608863198\n",
      "n_neighbors= 42 algorithm= kd_tree score= 0.928709055876686\n",
      "n_neighbors= 42 algorithm= ball_tree score= 0.928709055876686\n",
      "n_neighbors= 42 algorithm= auto score= 0.9479768786127167\n",
      "n_neighbors= 43 algorithm= kd_tree score= 0.9364161849710982\n",
      "n_neighbors= 43 algorithm= ball_tree score= 0.9364161849710982\n",
      "n_neighbors= 43 algorithm= auto score= 0.9499036608863198\n",
      "n_neighbors= 44 algorithm= kd_tree score= 0.9210019267822736\n",
      "n_neighbors= 44 algorithm= ball_tree score= 0.9229287090558767\n",
      "n_neighbors= 44 algorithm= auto score= 0.9402697495183044\n",
      "n_neighbors= 45 algorithm= kd_tree score= 0.9383429672447013\n",
      "n_neighbors= 45 algorithm= ball_tree score= 0.9364161849710982\n",
      "n_neighbors= 45 algorithm= auto score= 0.9460500963391136\n",
      "n_neighbors= 46 algorithm= kd_tree score= 0.928709055876686\n",
      "n_neighbors= 46 algorithm= ball_tree score= 0.9267822736030829\n",
      "n_neighbors= 46 algorithm= auto score= 0.9364161849710982\n",
      "n_neighbors= 47 algorithm= kd_tree score= 0.930635838150289\n",
      "n_neighbors= 47 algorithm= ball_tree score= 0.9325626204238922\n",
      "n_neighbors= 47 algorithm= auto score= 0.953757225433526\n",
      "n_neighbors= 48 algorithm= kd_tree score= 0.928709055876686\n",
      "n_neighbors= 48 algorithm= ball_tree score= 0.928709055876686\n",
      "n_neighbors= 48 algorithm= auto score= 0.9460500963391136\n"
     ]
    },
    {
     "name": "stdout",
     "output_type": "stream",
     "text": [
      "n_neighbors= 49 algorithm= kd_tree score= 0.9383429672447013\n",
      "n_neighbors= 49 algorithm= ball_tree score= 0.9364161849710982\n",
      "n_neighbors= 49 algorithm= auto score= 0.9518304431599229\n",
      "n_neighbors= 50 algorithm= kd_tree score= 0.928709055876686\n",
      "n_neighbors= 50 algorithm= ball_tree score= 0.930635838150289\n",
      "n_neighbors= 50 algorithm= auto score= 0.9479768786127167\n",
      "n_neighbors= 51 algorithm= kd_tree score= 0.9441233140655106\n",
      "n_neighbors= 51 algorithm= ball_tree score= 0.9460500963391136\n",
      "n_neighbors= 51 algorithm= auto score= 0.9499036608863198\n",
      "n_neighbors= 52 algorithm= kd_tree score= 0.930635838150289\n",
      "n_neighbors= 52 algorithm= ball_tree score= 0.9325626204238922\n",
      "n_neighbors= 52 algorithm= auto score= 0.9460500963391136\n",
      "n_neighbors= 53 algorithm= kd_tree score= 0.9460500963391136\n",
      "n_neighbors= 53 algorithm= ball_tree score= 0.9479768786127167\n",
      "n_neighbors= 53 algorithm= auto score= 0.9595375722543352\n",
      "n_neighbors= 54 algorithm= kd_tree score= 0.9402697495183044\n",
      "n_neighbors= 54 algorithm= ball_tree score= 0.9402697495183044\n",
      "n_neighbors= 54 algorithm= auto score= 0.9460500963391136\n",
      "n_neighbors= 55 algorithm= kd_tree score= 0.9499036608863198\n",
      "n_neighbors= 55 algorithm= ball_tree score= 0.953757225433526\n",
      "n_neighbors= 55 algorithm= auto score= 0.9595375722543352\n",
      "n_neighbors= 56 algorithm= kd_tree score= 0.9479768786127167\n",
      "n_neighbors= 56 algorithm= ball_tree score= 0.9460500963391136\n",
      "n_neighbors= 56 algorithm= auto score= 0.9499036608863198\n",
      "n_neighbors= 57 algorithm= kd_tree score= 0.953757225433526\n",
      "n_neighbors= 57 algorithm= ball_tree score= 0.9556840077071291\n",
      "n_neighbors= 57 algorithm= auto score= 0.9576107899807321\n",
      "n_neighbors= 58 algorithm= kd_tree score= 0.9479768786127167\n",
      "n_neighbors= 58 algorithm= ball_tree score= 0.9460500963391136\n",
      "n_neighbors= 58 algorithm= auto score= 0.9499036608863198\n",
      "n_neighbors= 59 algorithm= kd_tree score= 0.953757225433526\n",
      "n_neighbors= 59 algorithm= ball_tree score= 0.9518304431599229\n",
      "n_neighbors= 59 algorithm= auto score= 0.9556840077071291\n",
      "n_neighbors= 60 algorithm= kd_tree score= 0.9499036608863198\n",
      "n_neighbors= 60 algorithm= ball_tree score= 0.9460500963391136\n",
      "n_neighbors= 60 algorithm= auto score= 0.9499036608863198\n",
      "n_neighbors= 61 algorithm= kd_tree score= 0.953757225433526\n",
      "n_neighbors= 61 algorithm= ball_tree score= 0.9556840077071291\n",
      "n_neighbors= 61 algorithm= auto score= 0.9576107899807321\n",
      "n_neighbors= 62 algorithm= kd_tree score= 0.9499036608863198\n",
      "n_neighbors= 62 algorithm= ball_tree score= 0.9441233140655106\n",
      "n_neighbors= 62 algorithm= auto score= 0.9518304431599229\n",
      "n_neighbors= 63 algorithm= kd_tree score= 0.9556840077071291\n",
      "n_neighbors= 63 algorithm= ball_tree score= 0.9518304431599229\n",
      "n_neighbors= 63 algorithm= auto score= 0.9595375722543352\n",
      "n_neighbors= 64 algorithm= kd_tree score= 0.9499036608863198\n",
      "n_neighbors= 64 algorithm= ball_tree score= 0.9460500963391136\n",
      "n_neighbors= 64 algorithm= auto score= 0.9499036608863198\n",
      "n_neighbors= 65 algorithm= kd_tree score= 0.9499036608863198\n",
      "n_neighbors= 65 algorithm= ball_tree score= 0.9479768786127167\n",
      "n_neighbors= 65 algorithm= auto score= 0.9614643545279383\n",
      "n_neighbors= 66 algorithm= kd_tree score= 0.9499036608863198\n",
      "n_neighbors= 66 algorithm= ball_tree score= 0.9479768786127167\n",
      "n_neighbors= 66 algorithm= auto score= 0.9499036608863198\n",
      "n_neighbors= 67 algorithm= kd_tree score= 0.9576107899807321\n",
      "n_neighbors= 67 algorithm= ball_tree score= 0.9556840077071291\n",
      "n_neighbors= 67 algorithm= auto score= 0.953757225433526\n",
      "n_neighbors= 68 algorithm= kd_tree score= 0.9499036608863198\n",
      "n_neighbors= 68 algorithm= ball_tree score= 0.9518304431599229\n",
      "n_neighbors= 68 algorithm= auto score= 0.9460500963391136\n",
      "n_neighbors= 69 algorithm= kd_tree score= 0.9556840077071291\n",
      "n_neighbors= 69 algorithm= ball_tree score= 0.9556840077071291\n",
      "n_neighbors= 69 algorithm= auto score= 0.9518304431599229\n",
      "n_neighbors= 70 algorithm= kd_tree score= 0.9479768786127167\n",
      "n_neighbors= 70 algorithm= ball_tree score= 0.9499036608863198\n",
      "n_neighbors= 70 algorithm= auto score= 0.9441233140655106\n",
      "n_neighbors= 71 algorithm= kd_tree score= 0.9614643545279383\n",
      "n_neighbors= 71 algorithm= ball_tree score= 0.9633911368015414\n",
      "n_neighbors= 71 algorithm= auto score= 0.9595375722543352\n",
      "n_neighbors= 72 algorithm= kd_tree score= 0.9518304431599229\n",
      "n_neighbors= 72 algorithm= ball_tree score= 0.953757225433526\n",
      "n_neighbors= 72 algorithm= auto score= 0.9460500963391136\n",
      "n_neighbors= 73 algorithm= kd_tree score= 0.9653179190751445\n",
      "n_neighbors= 73 algorithm= ball_tree score= 0.9653179190751445\n",
      "n_neighbors= 73 algorithm= auto score= 0.9576107899807321\n",
      "n_neighbors= 74 algorithm= kd_tree score= 0.9576107899807321\n",
      "n_neighbors= 74 algorithm= ball_tree score= 0.9499036608863198\n",
      "n_neighbors= 74 algorithm= auto score= 0.9460500963391136\n",
      "n_neighbors= 75 algorithm= kd_tree score= 0.9614643545279383\n",
      "n_neighbors= 75 algorithm= ball_tree score= 0.9595375722543352\n",
      "n_neighbors= 75 algorithm= auto score= 0.953757225433526\n",
      "n_neighbors= 76 algorithm= kd_tree score= 0.9479768786127167\n",
      "n_neighbors= 76 algorithm= ball_tree score= 0.9479768786127167\n",
      "n_neighbors= 76 algorithm= auto score= 0.9460500963391136\n",
      "n_neighbors= 77 algorithm= kd_tree score= 0.9576107899807321\n",
      "n_neighbors= 77 algorithm= ball_tree score= 0.9576107899807321\n",
      "n_neighbors= 77 algorithm= auto score= 0.953757225433526\n",
      "n_neighbors= 78 algorithm= kd_tree score= 0.9441233140655106\n",
      "n_neighbors= 78 algorithm= ball_tree score= 0.9421965317919075\n",
      "n_neighbors= 78 algorithm= auto score= 0.9402697495183044\n",
      "n_neighbors= 79 algorithm= kd_tree score= 0.9460500963391136\n",
      "n_neighbors= 79 algorithm= ball_tree score= 0.9441233140655106\n",
      "n_neighbors= 79 algorithm= auto score= 0.9518304431599229\n",
      "n_neighbors= 80 algorithm= kd_tree score= 0.9441233140655106\n",
      "n_neighbors= 80 algorithm= ball_tree score= 0.9402697495183044\n",
      "n_neighbors= 80 algorithm= auto score= 0.9402697495183044\n",
      "n_neighbors= 81 algorithm= kd_tree score= 0.9460500963391136\n",
      "n_neighbors= 81 algorithm= ball_tree score= 0.9441233140655106\n",
      "n_neighbors= 81 algorithm= auto score= 0.9479768786127167\n",
      "n_neighbors= 82 algorithm= kd_tree score= 0.9383429672447013\n",
      "n_neighbors= 82 algorithm= ball_tree score= 0.9364161849710982\n",
      "n_neighbors= 82 algorithm= auto score= 0.9344894026974951\n",
      "n_neighbors= 83 algorithm= kd_tree score= 0.9441233140655106\n",
      "n_neighbors= 83 algorithm= ball_tree score= 0.9421965317919075\n",
      "n_neighbors= 83 algorithm= auto score= 0.9421965317919075\n",
      "n_neighbors= 84 algorithm= kd_tree score= 0.9344894026974951\n",
      "n_neighbors= 84 algorithm= ball_tree score= 0.9344894026974951\n",
      "n_neighbors= 84 algorithm= auto score= 0.9344894026974951\n",
      "n_neighbors= 85 algorithm= kd_tree score= 0.9479768786127167\n",
      "n_neighbors= 85 algorithm= ball_tree score= 0.9479768786127167\n",
      "n_neighbors= 85 algorithm= auto score= 0.9402697495183044\n",
      "n_neighbors= 86 algorithm= kd_tree score= 0.9383429672447013\n",
      "n_neighbors= 86 algorithm= ball_tree score= 0.9383429672447013\n",
      "n_neighbors= 86 algorithm= auto score= 0.9383429672447013\n",
      "n_neighbors= 87 algorithm= kd_tree score= 0.9364161849710982\n",
      "n_neighbors= 87 algorithm= ball_tree score= 0.9383429672447013\n",
      "n_neighbors= 87 algorithm= auto score= 0.9383429672447013\n",
      "n_neighbors= 88 algorithm= kd_tree score= 0.9344894026974951\n",
      "n_neighbors= 88 algorithm= ball_tree score= 0.9364161849710982\n",
      "n_neighbors= 88 algorithm= auto score= 0.9344894026974951\n",
      "n_neighbors= 89 algorithm= kd_tree score= 0.930635838150289\n",
      "n_neighbors= 89 algorithm= ball_tree score= 0.9325626204238922\n",
      "n_neighbors= 89 algorithm= auto score= 0.9344894026974951\n",
      "n_neighbors= 90 algorithm= kd_tree score= 0.930635838150289\n",
      "n_neighbors= 90 algorithm= ball_tree score= 0.9325626204238922\n",
      "n_neighbors= 90 algorithm= auto score= 0.9325626204238922\n",
      "n_neighbors= 91 algorithm= kd_tree score= 0.9325626204238922\n",
      "n_neighbors= 91 algorithm= ball_tree score= 0.9364161849710982\n",
      "n_neighbors= 91 algorithm= auto score= 0.9325626204238922\n",
      "n_neighbors= 92 algorithm= kd_tree score= 0.9229287090558767\n",
      "n_neighbors= 92 algorithm= ball_tree score= 0.9248554913294798\n",
      "n_neighbors= 92 algorithm= auto score= 0.9325626204238922\n",
      "n_neighbors= 93 algorithm= kd_tree score= 0.9267822736030829\n",
      "n_neighbors= 93 algorithm= ball_tree score= 0.9325626204238922\n",
      "n_neighbors= 93 algorithm= auto score= 0.9344894026974951\n",
      "n_neighbors= 94 algorithm= kd_tree score= 0.9229287090558767\n",
      "n_neighbors= 94 algorithm= ball_tree score= 0.9267822736030829\n",
      "n_neighbors= 94 algorithm= auto score= 0.928709055876686\n"
     ]
    },
    {
     "name": "stdout",
     "output_type": "stream",
     "text": [
      "n_neighbors= 95 algorithm= kd_tree score= 0.9229287090558767\n",
      "n_neighbors= 95 algorithm= ball_tree score= 0.9229287090558767\n",
      "n_neighbors= 95 algorithm= auto score= 0.928709055876686\n",
      "n_neighbors= 96 algorithm= kd_tree score= 0.9171483622350675\n",
      "n_neighbors= 96 algorithm= ball_tree score= 0.9190751445086706\n",
      "n_neighbors= 96 algorithm= auto score= 0.9229287090558767\n",
      "n_neighbors= 97 algorithm= kd_tree score= 0.9171483622350675\n",
      "n_neighbors= 97 algorithm= ball_tree score= 0.9190751445086706\n",
      "n_neighbors= 97 algorithm= auto score= 0.928709055876686\n",
      "n_neighbors= 98 algorithm= kd_tree score= 0.9075144508670521\n",
      "n_neighbors= 98 algorithm= ball_tree score= 0.9113680154142582\n",
      "n_neighbors= 98 algorithm= auto score= 0.9248554913294798\n",
      "n_neighbors= 99 algorithm= kd_tree score= 0.9171483622350675\n",
      "n_neighbors= 99 algorithm= ball_tree score= 0.9210019267822736\n",
      "n_neighbors= 99 algorithm= auto score= 0.928709055876686\n"
     ]
    }
   ],
   "source": [
    "for i in np.arange(3,100,1):\n",
    "    for j in [\"kd_tree\",\"ball_tree\",\"auto\"]:\n",
    "        knn_m=KNeighborsClassifier(n_neighbors=i,algorithm=j)\n",
    "        knn_m.fit(X_train,y_train)\n",
    "        print(\"n_neighbors=\",i,\"algorithm=\",j,\"score=\",knn_m.score(X_test,y_test))\n",
    "        "
   ]
  },
  {
   "cell_type": "code",
   "execution_count": 30,
   "metadata": {},
   "outputs": [],
   "source": [
    "from sklearn.model_selection import GridSearchCV\n",
    "from sklearn.svm import SVC\n",
    "param_grid={\"C\":np.arange(0.1,1,0.1),\"gamma\":np.arange(0.1,1,0.1)}\n",
    "grid_search=GridSearchCV(SVC(),param_grid=param_grid,cv=5)"
   ]
  },
  {
   "cell_type": "code",
   "execution_count": 31,
   "metadata": {},
   "outputs": [
    {
     "name": "stdout",
     "output_type": "stream",
     "text": [
      "Wall time: 1min 1s\n"
     ]
    },
    {
     "data": {
      "text/plain": [
       "GridSearchCV(cv=5, estimator=SVC(),\n",
       "             param_grid={'C': array([0.1, 0.2, 0.3, 0.4, 0.5, 0.6, 0.7, 0.8, 0.9]),\n",
       "                         'gamma': array([0.1, 0.2, 0.3, 0.4, 0.5, 0.6, 0.7, 0.8, 0.9])})"
      ]
     },
     "execution_count": 31,
     "metadata": {},
     "output_type": "execute_result"
    }
   ],
   "source": [
    "%time grid_search.fit(X_train,y_train)"
   ]
  },
  {
   "cell_type": "code",
   "execution_count": 32,
   "metadata": {},
   "outputs": [
    {
     "data": {
      "text/plain": [
       "0.9980732177263969"
      ]
     },
     "execution_count": 32,
     "metadata": {},
     "output_type": "execute_result"
    }
   ],
   "source": [
    "grid_search.score(X_test,y_test)"
   ]
  },
  {
   "cell_type": "code",
   "execution_count": 33,
   "metadata": {},
   "outputs": [
    {
     "data": {
      "text/plain": [
       "{'C': 0.9, 'gamma': 0.6}"
      ]
     },
     "execution_count": 33,
     "metadata": {},
     "output_type": "execute_result"
    }
   ],
   "source": [
    "grid_search.best_params_"
   ]
  },
  {
   "cell_type": "code",
   "execution_count": 34,
   "metadata": {},
   "outputs": [
    {
     "data": {
      "text/plain": [
       "0.9793148383114433"
      ]
     },
     "execution_count": 34,
     "metadata": {},
     "output_type": "execute_result"
    }
   ],
   "source": [
    "grid_search.best_score_"
   ]
  },
  {
   "cell_type": "code",
   "execution_count": 44,
   "metadata": {
    "jupyter": {
     "source_hidden": true
    },
    "tags": []
   },
   "outputs": [],
   "source": [
    "from sklearn.model_selection import RandomizedSearchCV\n",
    "from sklearn.svm import SVC\n",
    "#param_grid={\"C\":[0.1,1,10,100],\"gamma\":[0.1,1,10,100]}\n",
    "grid_searchr=RandomizedSearchCV(SVC(),param_grid,cv=5)"
   ]
  },
  {
   "cell_type": "code",
   "execution_count": 36,
   "metadata": {},
   "outputs": [
    {
     "name": "stdout",
     "output_type": "stream",
     "text": [
      "Wall time: 7.93 s\n"
     ]
    },
    {
     "data": {
      "text/plain": [
       "RandomizedSearchCV(cv=5, estimator=SVC(),\n",
       "                   param_distributions={'C': array([0.1, 0.2, 0.3, 0.4, 0.5, 0.6, 0.7, 0.8, 0.9]),\n",
       "                                        'gamma': array([0.1, 0.2, 0.3, 0.4, 0.5, 0.6, 0.7, 0.8, 0.9])})"
      ]
     },
     "execution_count": 36,
     "metadata": {},
     "output_type": "execute_result"
    }
   ],
   "source": [
    "%time grid_searchr.fit(X_train,y_train)\n",
    "#grid_searchr.score(X_test,y_test)"
   ]
  },
  {
   "cell_type": "code",
   "execution_count": 21,
   "metadata": {},
   "outputs": [
    {
     "data": {
      "text/plain": [
       "{'gamma': 0.8, 'C': 0.9}"
      ]
     },
     "execution_count": 21,
     "metadata": {},
     "output_type": "execute_result"
    }
   ],
   "source": [
    "grid_searchr.best_params_"
   ]
  },
  {
   "cell_type": "code",
   "execution_count": 22,
   "metadata": {},
   "outputs": [
    {
     "data": {
      "text/plain": [
       "0.9760090531874764"
      ]
     },
     "execution_count": 22,
     "metadata": {},
     "output_type": "execute_result"
    }
   ],
   "source": [
    "grid_searchr.best_score_"
   ]
  },
  {
   "cell_type": "code",
   "execution_count": 38,
   "metadata": {},
   "outputs": [
    {
     "data": {
      "text/plain": [
       "0.9961464354527938"
      ]
     },
     "execution_count": 38,
     "metadata": {},
     "output_type": "execute_result"
    }
   ],
   "source": [
    "grid_searchr.score(X_test,y_test)"
   ]
  },
  {
   "cell_type": "code",
   "execution_count": null,
   "metadata": {},
   "outputs": [],
   "source": []
  }
 ],
 "metadata": {
  "kernelspec": {
   "display_name": "Python 3 (ipykernel)",
   "language": "python",
   "name": "python3"
  },
  "language_info": {
   "codemirror_mode": {
    "name": "ipython",
    "version": 3
   },
   "file_extension": ".py",
   "mimetype": "text/x-python",
   "name": "python",
   "nbconvert_exporter": "python",
   "pygments_lexer": "ipython3",
   "version": "3.9.5"
  }
 },
 "nbformat": 4,
 "nbformat_minor": 4
}
