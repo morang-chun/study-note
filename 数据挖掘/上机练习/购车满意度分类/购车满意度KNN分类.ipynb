{
 "cells": [
  {
   "cell_type": "code",
   "execution_count": 1,
   "id": "a958f79a",
   "metadata": {},
   "outputs": [],
   "source": [
    "import warnings\n",
    "warnings.filterwarnings(\"ignore\")\n",
    "import pandas as pd\n",
    "import numpy as np\n",
    "from sklearn.linear_model import LogisticRegression\n",
    "from sklearn.neighbors import KNeighborsClassifier\n",
    "from sklearn.tree import DecisionTreeClassifier\n",
    "from sklearn.svm import SVC\n",
    "from sklearn.svm import LinearSVC\n",
    "from sklearn.naive_bayes import GaussianNB,BernoulliNB,MultinomialNB\n",
    "from sklearn.model_selection import train_test_split\n",
    "from sklearn.metrics import auc,precision_recall_curve,roc_curve\n",
    "from sklearn.metrics import accuracy_score,f1_score,precision_score,recall_score\n",
    "from sklearn.metrics import confusion_matrix,classification_report\n",
    "import seaborn as sns\n",
    "import matplotlib.pyplot as plt\n",
    "%matplotlib inline"
   ]
  },
  {
   "cell_type": "markdown",
   "id": "da52dc33",
   "metadata": {},
   "source": [
    "# 数据导入及预处理"
   ]
  },
  {
   "cell_type": "code",
   "execution_count": 2,
   "id": "e5c6adbf",
   "metadata": {},
   "outputs": [],
   "source": [
    "# 设置字体\n",
    "plt.rcParams['font.sans-serif']=['SimHei']"
   ]
  },
  {
   "cell_type": "code",
   "execution_count": 3,
   "id": "921cf285",
   "metadata": {},
   "outputs": [],
   "source": [
    "# 读入数据\n",
    "car_data = pd.read_csv(\"./car_evaluation.csv\",names=[\"buying\",\"maint\",\"doors\",\"persons\",\"lug_boot\",\"safety\",\"car_Eva\"])"
   ]
  },
  {
   "cell_type": "code",
   "execution_count": 4,
   "id": "b1309fd3",
   "metadata": {},
   "outputs": [
    {
     "name": "stdout",
     "output_type": "stream",
     "text": [
      "<class 'pandas.core.frame.DataFrame'>\n",
      "RangeIndex: 1728 entries, 0 to 1727\n",
      "Data columns (total 7 columns):\n",
      " #   Column    Non-Null Count  Dtype \n",
      "---  ------    --------------  ----- \n",
      " 0   buying    1728 non-null   object\n",
      " 1   maint     1728 non-null   object\n",
      " 2   doors     1728 non-null   object\n",
      " 3   persons   1728 non-null   object\n",
      " 4   lug_boot  1728 non-null   object\n",
      " 5   safety    1728 non-null   object\n",
      " 6   car_Eva   1728 non-null   object\n",
      "dtypes: object(7)\n",
      "memory usage: 94.6+ KB\n"
     ]
    }
   ],
   "source": [
    "# 查看数据信息，发现所有的数据都是 object 类型，无法直接操作，需要对数据转换数据类型\n",
    "car_data.info()"
   ]
  },
  {
   "cell_type": "code",
   "execution_count": 5,
   "id": "481b2689",
   "metadata": {},
   "outputs": [
    {
     "data": {
      "text/html": [
       "<div>\n",
       "<style scoped>\n",
       "    .dataframe tbody tr th:only-of-type {\n",
       "        vertical-align: middle;\n",
       "    }\n",
       "\n",
       "    .dataframe tbody tr th {\n",
       "        vertical-align: top;\n",
       "    }\n",
       "\n",
       "    .dataframe thead th {\n",
       "        text-align: right;\n",
       "    }\n",
       "</style>\n",
       "<table border=\"1\" class=\"dataframe\">\n",
       "  <thead>\n",
       "    <tr style=\"text-align: right;\">\n",
       "      <th></th>\n",
       "      <th>buying</th>\n",
       "      <th>maint</th>\n",
       "      <th>doors</th>\n",
       "      <th>persons</th>\n",
       "      <th>lug_boot</th>\n",
       "      <th>safety</th>\n",
       "      <th>car_Eva</th>\n",
       "    </tr>\n",
       "  </thead>\n",
       "  <tbody>\n",
       "    <tr>\n",
       "      <th>0</th>\n",
       "      <td>vhigh</td>\n",
       "      <td>vhigh</td>\n",
       "      <td>2</td>\n",
       "      <td>2</td>\n",
       "      <td>small</td>\n",
       "      <td>low</td>\n",
       "      <td>unacc</td>\n",
       "    </tr>\n",
       "    <tr>\n",
       "      <th>1</th>\n",
       "      <td>vhigh</td>\n",
       "      <td>vhigh</td>\n",
       "      <td>2</td>\n",
       "      <td>2</td>\n",
       "      <td>small</td>\n",
       "      <td>med</td>\n",
       "      <td>unacc</td>\n",
       "    </tr>\n",
       "    <tr>\n",
       "      <th>2</th>\n",
       "      <td>vhigh</td>\n",
       "      <td>vhigh</td>\n",
       "      <td>2</td>\n",
       "      <td>2</td>\n",
       "      <td>small</td>\n",
       "      <td>high</td>\n",
       "      <td>unacc</td>\n",
       "    </tr>\n",
       "    <tr>\n",
       "      <th>3</th>\n",
       "      <td>vhigh</td>\n",
       "      <td>vhigh</td>\n",
       "      <td>2</td>\n",
       "      <td>2</td>\n",
       "      <td>med</td>\n",
       "      <td>low</td>\n",
       "      <td>unacc</td>\n",
       "    </tr>\n",
       "    <tr>\n",
       "      <th>4</th>\n",
       "      <td>vhigh</td>\n",
       "      <td>vhigh</td>\n",
       "      <td>2</td>\n",
       "      <td>2</td>\n",
       "      <td>med</td>\n",
       "      <td>med</td>\n",
       "      <td>unacc</td>\n",
       "    </tr>\n",
       "  </tbody>\n",
       "</table>\n",
       "</div>"
      ],
      "text/plain": [
       "  buying  maint doors persons lug_boot safety car_Eva\n",
       "0  vhigh  vhigh     2       2    small    low   unacc\n",
       "1  vhigh  vhigh     2       2    small    med   unacc\n",
       "2  vhigh  vhigh     2       2    small   high   unacc\n",
       "3  vhigh  vhigh     2       2      med    low   unacc\n",
       "4  vhigh  vhigh     2       2      med    med   unacc"
      ]
     },
     "execution_count": 5,
     "metadata": {},
     "output_type": "execute_result"
    }
   ],
   "source": [
    "car_data.head()"
   ]
  },
  {
   "cell_type": "code",
   "execution_count": 6,
   "id": "e72e5e6c",
   "metadata": {},
   "outputs": [
    {
     "data": {
      "text/plain": [
       "vhigh    432\n",
       "high     432\n",
       "med      432\n",
       "low      432\n",
       "Name: buying, dtype: int64"
      ]
     },
     "execution_count": 6,
     "metadata": {},
     "output_type": "execute_result"
    }
   ],
   "source": [
    "# 查看buying的各value的数值\n",
    "car_data.buying.value_counts()"
   ]
  },
  {
   "cell_type": "code",
   "execution_count": 7,
   "id": "1a8de1c1",
   "metadata": {},
   "outputs": [],
   "source": [
    "# 编码buying:{\"vhigh\":0,\"high\":1,\"med\":2,\"low\":3}\n",
    "car_data[\"buying\"]=car_data.buying.map({\"vhigh\":0,\"high\":1,\"med\":2,\"low\":3})"
   ]
  },
  {
   "cell_type": "code",
   "execution_count": 8,
   "id": "3c2c5a1a",
   "metadata": {},
   "outputs": [
    {
     "name": "stdout",
     "output_type": "stream",
     "text": [
      "<class 'pandas.core.frame.DataFrame'>\n",
      "RangeIndex: 1728 entries, 0 to 1727\n",
      "Data columns (total 7 columns):\n",
      " #   Column    Non-Null Count  Dtype \n",
      "---  ------    --------------  ----- \n",
      " 0   buying    1728 non-null   int64 \n",
      " 1   maint     1728 non-null   object\n",
      " 2   doors     1728 non-null   object\n",
      " 3   persons   1728 non-null   object\n",
      " 4   lug_boot  1728 non-null   object\n",
      " 5   safety    1728 non-null   object\n",
      " 6   car_Eva   1728 non-null   object\n",
      "dtypes: int64(1), object(6)\n",
      "memory usage: 94.6+ KB\n"
     ]
    }
   ],
   "source": [
    "# 可以看到buying有1728个，数据类型是int类型，表示编码成功\n",
    "car_data.info()"
   ]
  },
  {
   "cell_type": "code",
   "execution_count": 9,
   "id": "0e93fc22",
   "metadata": {},
   "outputs": [
    {
     "data": {
      "text/plain": [
       "vhigh    432\n",
       "high     432\n",
       "med      432\n",
       "low      432\n",
       "Name: maint, dtype: int64"
      ]
     },
     "execution_count": 9,
     "metadata": {},
     "output_type": "execute_result"
    }
   ],
   "source": [
    "# 查看maint的各value的数值\n",
    "car_data.maint.value_counts()"
   ]
  },
  {
   "cell_type": "code",
   "execution_count": 10,
   "id": "bad62c82",
   "metadata": {},
   "outputs": [],
   "source": [
    "# 对maint进行编码:{\"vhigh\":0,\"high\":1,\"med\":2,\"low\":3}\n",
    "car_data[\"maint\"] = car_data.maint.map({\"vhigh\":0,\"high\":1,\"med\":2,\"low\":3})"
   ]
  },
  {
   "cell_type": "code",
   "execution_count": 11,
   "id": "ca420ec3",
   "metadata": {},
   "outputs": [
    {
     "name": "stdout",
     "output_type": "stream",
     "text": [
      "<class 'pandas.core.frame.DataFrame'>\n",
      "RangeIndex: 1728 entries, 0 to 1727\n",
      "Data columns (total 7 columns):\n",
      " #   Column    Non-Null Count  Dtype \n",
      "---  ------    --------------  ----- \n",
      " 0   buying    1728 non-null   int64 \n",
      " 1   maint     1728 non-null   int64 \n",
      " 2   doors     1728 non-null   object\n",
      " 3   persons   1728 non-null   object\n",
      " 4   lug_boot  1728 non-null   object\n",
      " 5   safety    1728 non-null   object\n",
      " 6   car_Eva   1728 non-null   object\n",
      "dtypes: int64(2), object(5)\n",
      "memory usage: 94.6+ KB\n"
     ]
    }
   ],
   "source": [
    "car_data.info()"
   ]
  },
  {
   "cell_type": "code",
   "execution_count": 12,
   "id": "b9575c44",
   "metadata": {},
   "outputs": [
    {
     "data": {
      "text/plain": [
       "2        432\n",
       "3        432\n",
       "4        432\n",
       "5more    432\n",
       "Name: doors, dtype: int64"
      ]
     },
     "execution_count": 12,
     "metadata": {},
     "output_type": "execute_result"
    }
   ],
   "source": [
    "# 查看doors的各value的数值\n",
    "car_data.doors.value_counts()"
   ]
  },
  {
   "cell_type": "code",
   "execution_count": 13,
   "id": "e83f85bf",
   "metadata": {},
   "outputs": [],
   "source": [
    "# 对doors进行编码:{\"5more\":0,\"4\":1,\"3\":2,\"2\":3}\n",
    "car_data[\"doors\"] = car_data.doors.map({\"5more\":0,\"4\":1,\"3\":2,\"2\":3})"
   ]
  },
  {
   "cell_type": "code",
   "execution_count": 14,
   "id": "58582a4e",
   "metadata": {},
   "outputs": [
    {
     "data": {
      "text/plain": [
       "2       576\n",
       "4       576\n",
       "more    576\n",
       "Name: persons, dtype: int64"
      ]
     },
     "execution_count": 14,
     "metadata": {},
     "output_type": "execute_result"
    }
   ],
   "source": [
    "# 查看persons的值的数值\n",
    "car_data.persons.value_counts()"
   ]
  },
  {
   "cell_type": "code",
   "execution_count": 15,
   "id": "802f2fda",
   "metadata": {},
   "outputs": [],
   "source": [
    "# 对persons进行编码:{\"more\":0,\"4\":1,\"2\":2}\n",
    "car_data[\"persons\"] = car_data.persons.map({\"more\":0,\"4\":1,\"2\":2})"
   ]
  },
  {
   "cell_type": "code",
   "execution_count": 16,
   "id": "ae873212",
   "metadata": {},
   "outputs": [
    {
     "data": {
      "text/plain": [
       "small    576\n",
       "med      576\n",
       "big      576\n",
       "Name: lug_boot, dtype: int64"
      ]
     },
     "execution_count": 16,
     "metadata": {},
     "output_type": "execute_result"
    }
   ],
   "source": [
    "# 查看lug_boot的各数据的值\n",
    "car_data.lug_boot.value_counts()"
   ]
  },
  {
   "cell_type": "code",
   "execution_count": 17,
   "id": "6fab0adf",
   "metadata": {},
   "outputs": [],
   "source": [
    "# 对lug_boot 进行编码：{\"big\":0,\"med\":1,\"small\":2 }\n",
    "car_data[\"lug_boot\"] = car_data[\"lug_boot\"].map({\"big\":0,\"med\":1,\"small\":2\n",
    "                                                })"
   ]
  },
  {
   "cell_type": "code",
   "execution_count": 18,
   "id": "e8bd00b7",
   "metadata": {},
   "outputs": [
    {
     "data": {
      "text/plain": [
       "low     576\n",
       "med     576\n",
       "high    576\n",
       "Name: safety, dtype: int64"
      ]
     },
     "execution_count": 18,
     "metadata": {},
     "output_type": "execute_result"
    }
   ],
   "source": [
    "# 查看safety 的值\n",
    "car_data.safety.value_counts()"
   ]
  },
  {
   "cell_type": "code",
   "execution_count": 19,
   "id": "8d1623f9",
   "metadata": {},
   "outputs": [],
   "source": [
    "# 对safety进行编码：{\"high\":0,\"med\":1,\"low\":2}\n",
    "car_data[\"safety\"] = car_data[\"safety\"].map({\"high\":0,\"med\":1,\"low\":2})"
   ]
  },
  {
   "cell_type": "code",
   "execution_count": 20,
   "id": "b45951be",
   "metadata": {},
   "outputs": [
    {
     "name": "stdout",
     "output_type": "stream",
     "text": [
      "<class 'pandas.core.frame.DataFrame'>\n",
      "RangeIndex: 1728 entries, 0 to 1727\n",
      "Data columns (total 7 columns):\n",
      " #   Column    Non-Null Count  Dtype \n",
      "---  ------    --------------  ----- \n",
      " 0   buying    1728 non-null   int64 \n",
      " 1   maint     1728 non-null   int64 \n",
      " 2   doors     1728 non-null   int64 \n",
      " 3   persons   1728 non-null   int64 \n",
      " 4   lug_boot  1728 non-null   int64 \n",
      " 5   safety    1728 non-null   int64 \n",
      " 6   car_Eva   1728 non-null   object\n",
      "dtypes: int64(6), object(1)\n",
      "memory usage: 94.6+ KB\n"
     ]
    }
   ],
   "source": [
    "car_data.info()"
   ]
  },
  {
   "cell_type": "code",
   "execution_count": 21,
   "id": "3e210130",
   "metadata": {},
   "outputs": [
    {
     "data": {
      "text/plain": [
       "unacc    1210\n",
       "acc       384\n",
       "good       69\n",
       "vgood      65\n",
       "Name: car_Eva, dtype: int64"
      ]
     },
     "execution_count": 21,
     "metadata": {},
     "output_type": "execute_result"
    }
   ],
   "source": [
    "car_data.car_Eva.value_counts()"
   ]
  },
  {
   "cell_type": "code",
   "execution_count": 22,
   "id": "08559534",
   "metadata": {},
   "outputs": [],
   "source": [
    "# 对car_Eva进行编码：{\"unacc\":0,\"acc\":1,\"good\":1,\"vgood\":1}把不满意的都用0代替，满意的用1代替\n",
    "car_data[\"car_Eva\"] = car_data[\"car_Eva\"].map({\"unacc\":0,\"acc\":1,\"good\":1,\"vgood\":1})"
   ]
  },
  {
   "cell_type": "code",
   "execution_count": 23,
   "id": "e008e335",
   "metadata": {},
   "outputs": [
    {
     "name": "stdout",
     "output_type": "stream",
     "text": [
      "<class 'pandas.core.frame.DataFrame'>\n",
      "RangeIndex: 1728 entries, 0 to 1727\n",
      "Data columns (total 7 columns):\n",
      " #   Column    Non-Null Count  Dtype\n",
      "---  ------    --------------  -----\n",
      " 0   buying    1728 non-null   int64\n",
      " 1   maint     1728 non-null   int64\n",
      " 2   doors     1728 non-null   int64\n",
      " 3   persons   1728 non-null   int64\n",
      " 4   lug_boot  1728 non-null   int64\n",
      " 5   safety    1728 non-null   int64\n",
      " 6   car_Eva   1728 non-null   int64\n",
      "dtypes: int64(7)\n",
      "memory usage: 94.6 KB\n"
     ]
    }
   ],
   "source": [
    "#编码完毕\n",
    "car_data.info()"
   ]
  },
  {
   "cell_type": "code",
   "execution_count": 24,
   "id": "f27fcfb1",
   "metadata": {},
   "outputs": [],
   "source": [
    "# 指定X数据集\n",
    "X = car_data.drop(\"car_Eva\",axis=1)"
   ]
  },
  {
   "cell_type": "code",
   "execution_count": 25,
   "id": "02b2f98c",
   "metadata": {},
   "outputs": [],
   "source": [
    "# 指定Y数据集\n",
    "Y =car_data[[\"car_Eva\"]]"
   ]
  },
  {
   "cell_type": "code",
   "execution_count": 26,
   "id": "edafb658",
   "metadata": {},
   "outputs": [],
   "source": [
    "# 进行数据集的划分\n",
    "# train_test_split的返回值是四个，且返回是有顺序\n",
    "X_train,x_test,Y_train,y_test = train_test_split(X,Y,test_size=0.7,random_state=1)"
   ]
  },
  {
   "cell_type": "markdown",
   "id": "3405b0ea",
   "metadata": {},
   "source": [
    "# 逻辑回归分类"
   ]
  },
  {
   "cell_type": "code",
   "execution_count": 27,
   "id": "9c5e4c08",
   "metadata": {},
   "outputs": [],
   "source": [
    "# 使用逻辑回归的分类方法\n",
    "lr = LogisticRegression()"
   ]
  },
  {
   "cell_type": "code",
   "execution_count": 28,
   "id": "1538d1fb",
   "metadata": {},
   "outputs": [
    {
     "data": {
      "text/plain": [
       "LogisticRegression()"
      ]
     },
     "execution_count": 28,
     "metadata": {},
     "output_type": "execute_result"
    }
   ],
   "source": [
    "# 开始训练模型\n",
    "lr.fit(X_train,Y_train)"
   ]
  },
  {
   "cell_type": "code",
   "execution_count": 29,
   "id": "f77b44ca",
   "metadata": {},
   "outputs": [],
   "source": [
    "# 预测模型\n",
    "y_pred_test = lr.predict(x_test)"
   ]
  },
  {
   "cell_type": "code",
   "execution_count": 30,
   "id": "21671d5e",
   "metadata": {},
   "outputs": [
    {
     "name": "stdout",
     "output_type": "stream",
     "text": [
      "              precision    recall  f1-score   support\n",
      "\n",
      "           0       0.89      0.92      0.91       854\n",
      "           1       0.80      0.74      0.77       356\n",
      "\n",
      "    accuracy                           0.87      1210\n",
      "   macro avg       0.85      0.83      0.84      1210\n",
      "weighted avg       0.87      0.87      0.87      1210\n",
      "\n"
     ]
    }
   ],
   "source": [
    "# 打印准确率，召回率，f1得分\n",
    "print(classification_report(y_test,y_pred_test))"
   ]
  },
  {
   "cell_type": "code",
   "execution_count": 31,
   "id": "3b375ced",
   "metadata": {},
   "outputs": [],
   "source": [
    "y_pred_train = lr.predict(X_train)"
   ]
  },
  {
   "cell_type": "code",
   "execution_count": 32,
   "id": "26588a5f",
   "metadata": {},
   "outputs": [
    {
     "name": "stdout",
     "output_type": "stream",
     "text": [
      "              precision    recall  f1-score   support\n",
      "\n",
      "           0       0.88      0.92      0.90       356\n",
      "           1       0.80      0.72      0.76       162\n",
      "\n",
      "    accuracy                           0.86       518\n",
      "   macro avg       0.84      0.82      0.83       518\n",
      "weighted avg       0.85      0.86      0.85       518\n",
      "\n"
     ]
    }
   ],
   "source": [
    "print(classification_report(Y_train,y_pred_train))"
   ]
  },
  {
   "cell_type": "code",
   "execution_count": 33,
   "id": "2fe1f733",
   "metadata": {},
   "outputs": [
    {
     "data": {
      "text/plain": [
       "array([[326,  30],\n",
       "       [ 45, 117]], dtype=int64)"
      ]
     },
     "execution_count": 33,
     "metadata": {},
     "output_type": "execute_result"
    }
   ],
   "source": [
    "confusion_matrix(Y_train,y_pred_train)"
   ]
  },
  {
   "cell_type": "code",
   "execution_count": 34,
   "id": "00af1c63",
   "metadata": {},
   "outputs": [
    {
     "data": {
      "text/plain": [
       "array([[787,  67],\n",
       "       [ 93, 263]], dtype=int64)"
      ]
     },
     "execution_count": 34,
     "metadata": {},
     "output_type": "execute_result"
    }
   ],
   "source": [
    "confusion_matrix(y_test,y_pred_test)"
   ]
  },
  {
   "cell_type": "code",
   "execution_count": 35,
   "id": "a43d58c4",
   "metadata": {},
   "outputs": [
    {
     "data": {
      "text/plain": [
       "Text(0.5, 1.0, '混淆矩阵热力图')"
      ]
     },
     "execution_count": 35,
     "metadata": {},
     "output_type": "execute_result"
    },
    {
     "data": {
      "image/png": "[encoded data removed]",
      "text/plain": [
       "<Figure size 432x288 with 2 Axes>"
      ]
     },
     "metadata": {
      "needs_background": "light"
     },
     "output_type": "display_data"
    }
   ],
   "source": [
    "# 绘制热力图：annot=True表示显示数值，fmt=\"d\"表示显示的是非科学计数法，cmap=\"BrBG\"指定配色\n",
    "ax= sns.heatmap(confusion_matrix(y_test,y_pred_test),annot=True,fmt=\"d\",cmap='BrBG',\n",
    "           xticklabels=[\"满意(0)\",\"不满意(1)\"],\n",
    "           yticklabels=[\"满意(0)\",\"不满意(1)\"])\n",
    "ax.set_ylabel('真实',fontsize=12)\n",
    "ax.set_xlabel(\"预测\",fontsize=12)\n",
    "ax.set_title(\"混淆矩阵热力图\",fontsize=15)"
   ]
  },
  {
   "cell_type": "code",
   "execution_count": 36,
   "id": "515897d6",
   "metadata": {},
   "outputs": [
    {
     "name": "stdout",
     "output_type": "stream",
     "text": [
      "0.8678\n"
     ]
    }
   ],
   "source": [
    "# 单独打印正确率得分\n",
    "print(round(accuracy_score(y_pred_test,y_test),4))"
   ]
  },
  {
   "cell_type": "code",
   "execution_count": 37,
   "id": "19485f9c",
   "metadata": {},
   "outputs": [
    {
     "name": "stdout",
     "output_type": "stream",
     "text": [
      "0.7668\n"
     ]
    }
   ],
   "source": [
    "# 单独打印f1得分\n",
    "print(round(f1_score(y_pred_test,y_test),4))"
   ]
  },
  {
   "cell_type": "code",
   "execution_count": 38,
   "id": "707ea0db",
   "metadata": {},
   "outputs": [
    {
     "name": "stdout",
     "output_type": "stream",
     "text": [
      "0.7388\n"
     ]
    }
   ],
   "source": [
    "# 单独打印精确率得分\n",
    "print(round(precision_score(y_pred_test,y_test),4))"
   ]
  },
  {
   "cell_type": "code",
   "execution_count": 39,
   "id": "15350b01",
   "metadata": {},
   "outputs": [
    {
     "name": "stdout",
     "output_type": "stream",
     "text": [
      "0.797\n"
     ]
    }
   ],
   "source": [
    "# 单独打印召回率得分\n",
    "print(round(recall_score(y_pred_test,y_test),4))"
   ]
  },
  {
   "cell_type": "markdown",
   "id": "1dfddcc4",
   "metadata": {},
   "source": [
    "# KNN分类"
   ]
  },
  {
   "cell_type": "code",
   "execution_count": 43,
   "id": "0fab8cb9",
   "metadata": {},
   "outputs": [],
   "source": [
    "knn = KNeighborsClassifier()"
   ]
  },
  {
   "cell_type": "code",
   "execution_count": 44,
   "id": "178eb56a",
   "metadata": {},
   "outputs": [
    {
     "data": {
      "text/plain": [
       "KNeighborsClassifier()"
      ]
     },
     "execution_count": 44,
     "metadata": {},
     "output_type": "execute_result"
    }
   ],
   "source": [
    "knn.fit(X_train,Y_train)"
   ]
  },
  {
   "cell_type": "code",
   "execution_count": 47,
   "id": "646e900a",
   "metadata": {},
   "outputs": [],
   "source": [
    "y_pred = knn.predict(x_test)"
   ]
  },
  {
   "cell_type": "code",
   "execution_count": 49,
   "id": "7721e791",
   "metadata": {},
   "outputs": [
    {
     "name": "stdout",
     "output_type": "stream",
     "text": [
      "分类正确率： 0.93802\n",
      "              precision    recall  f1-score   support\n",
      "\n",
      "           0       0.95      0.97      0.96       854\n",
      "           1       0.92      0.87      0.89       356\n",
      "\n",
      "    accuracy                           0.94      1210\n",
      "   macro avg       0.93      0.92      0.92      1210\n",
      "weighted avg       0.94      0.94      0.94      1210\n",
      "\n"
     ]
    }
   ],
   "source": [
    "print(\"分类正确率：\",round(knn.score(x_test,y_test),5))\n",
    "print(classification_report(y_test, y_pred))"
   ]
  },
  {
   "cell_type": "code",
   "execution_count": 52,
   "id": "bfa28caa",
   "metadata": {},
   "outputs": [],
   "source": [
    "knn_score = [KNeighborsClassifier(n_neighbors=k).fit(X_train,Y_train).score(x_test, y_test) for k in range(1,10)]"
   ]
  },
  {
   "cell_type": "code",
   "execution_count": 54,
   "id": "f8270c6a",
   "metadata": {},
   "outputs": [
    {
     "data": {
      "text/plain": [
       "[<matplotlib.lines.Line2D at 0x267ca74e520>]"
      ]
     },
     "execution_count": 54,
     "metadata": {},
     "output_type": "execute_result"
    },
    {
     "data": {
      "image/png": "[encoded data removed]",
      "text/plain": [
       "<Figure size 432x288 with 1 Axes>"
      ]
     },
     "metadata": {
      "needs_background": "light"
     },
     "output_type": "display_data"
    }
   ],
   "source": [
    "plt.plot(range(1,10),knn_score)"
   ]
  },
  {
   "cell_type": "code",
   "execution_count": 55,
   "id": "c74c3d82",
   "metadata": {},
   "outputs": [
    {
     "data": {
      "text/plain": [
       "0.9487603305785124"
      ]
     },
     "execution_count": 55,
     "metadata": {},
     "output_type": "execute_result"
    }
   ],
   "source": [
    "max(knn_score)"
   ]
  },
  {
   "cell_type": "code",
   "execution_count": 58,
   "id": "932751a3",
   "metadata": {},
   "outputs": [],
   "source": [
    "knn_score_w = [KNeighborsClassifier(n_neighbors=k,weights=\"distance\").fit(X_train,Y_train).score(x_test, y_test) for k in range(1,10)]"
   ]
  },
  {
   "cell_type": "code",
   "execution_count": 59,
   "id": "2f87eb82",
   "metadata": {},
   "outputs": [
    {
     "data": {
      "text/plain": [
       "[<matplotlib.lines.Line2D at 0x267ca289700>]"
      ]
     },
     "execution_count": 59,
     "metadata": {},
     "output_type": "execute_result"
    },
    {
     "data": {
      "image/png": "[encoded data removed]",
      "text/plain": [
       "<Figure size 432x288 with 1 Axes>"
      ]
     },
     "metadata": {
      "needs_background": "light"
     },
     "output_type": "display_data"
    }
   ],
   "source": [
    "plt.plot(range(1,10),knn_score_w)"
   ]
  },
  {
   "cell_type": "code",
   "execution_count": 60,
   "id": "c908ba22",
   "metadata": {},
   "outputs": [
    {
     "data": {
      "text/plain": [
       "0.9520661157024793"
      ]
     },
     "execution_count": 60,
     "metadata": {},
     "output_type": "execute_result"
    }
   ],
   "source": [
    "max(knn_score_w)"
   ]
  },
  {
   "cell_type": "code",
   "execution_count": 78,
   "id": "f4539344",
   "metadata": {},
   "outputs": [],
   "source": [
    "knn_score_w_p3 = [KNeighborsClassifier(n_neighbors=k,weights=\"distance\",metric=\"minkowski\",p=3).fit(X_train,Y_train).score(x_test, y_test) for k in range(1,10)]"
   ]
  },
  {
   "cell_type": "code",
   "execution_count": 80,
   "id": "43df4948",
   "metadata": {},
   "outputs": [
    {
     "data": {
      "text/plain": [
       "[<matplotlib.lines.Line2D at 0x267cc806e20>]"
      ]
     },
     "execution_count": 80,
     "metadata": {},
     "output_type": "execute_result"
    },
    {
     "data": {
      "image/png": "[encoded data removed]",
      "text/plain": [
       "<Figure size 432x288 with 1 Axes>"
      ]
     },
     "metadata": {
      "needs_background": "light"
     },
     "output_type": "display_data"
    }
   ],
   "source": [
    "plt.plot(range(1,10),knn_score_w_p3)"
   ]
  },
  {
   "cell_type": "code",
   "execution_count": 81,
   "id": "aafc5ace",
   "metadata": {},
   "outputs": [
    {
     "data": {
      "text/plain": [
       "0.9512396694214876"
      ]
     },
     "execution_count": 81,
     "metadata": {},
     "output_type": "execute_result"
    }
   ],
   "source": [
    "max(knn_score_w_p3)"
   ]
  },
  {
   "cell_type": "code",
   "execution_count": 82,
   "id": "30549101",
   "metadata": {},
   "outputs": [
    {
     "data": {
      "text/plain": [
       "Text(0, 0.5, 'precision')"
      ]
     },
     "execution_count": 82,
     "metadata": {},
     "output_type": "execute_result"
    },
    {
     "data": {
      "image/png": "[encoded data removed]",
      "text/plain": [
       "<Figure size 432x288 with 1 Axes>"
      ]
     },
     "metadata": {
      "needs_background": "light"
     },
     "output_type": "display_data"
    }
   ],
   "source": [
    "probs = lr.predict_proba(x_test)[:,0]\n",
    "precision,recall,thresholds=precision_recall_curve(y_test,probs,pos_label=0)\n",
    "plt.plot(recall,precision)\n",
    "plt.title(\"P-R_curve\")\n",
    "plt.xlabel(\"recall\")\n",
    "plt.ylabel(\"precision\")"
   ]
  },
  {
   "cell_type": "code",
   "execution_count": 63,
   "id": "1f2964c9",
   "metadata": {},
   "outputs": [
    {
     "data": {
      "text/plain": [
       "Text(0, 0.5, 'tpc')"
      ]
     },
     "execution_count": 63,
     "metadata": {},
     "output_type": "execute_result"
    },
    {
     "data": {
      "image/png": "[encoded data removed]",
      "text/plain": [
       "<Figure size 432x288 with 1 Axes>"
      ]
     },
     "metadata": {
      "needs_background": "light"
     },
     "output_type": "display_data"
    }
   ],
   "source": [
    "probs = lr.predict_proba(x_test)[:,1]\n",
    "fgr,tpr,thresholds=roc_curve(y_test,probs,pos_label=1)\n",
    "plt.plot(fgr,tpr)\n",
    "plt.title(\"roc_curve\")\n",
    "plt.xlabel(\"fpc\")\n",
    "plt.ylabel(\"tpc\")"
   ]
  },
  {
   "cell_type": "markdown",
   "id": "c0fa4e54",
   "metadata": {},
   "source": [
    "# 总结：\n",
    "#### 默认缺省值的最大值：\n",
    "max(knn_score) = 0.9487603305785124\n",
    "#### 调整权重为weights=\"distance\"\n",
    "max(knn_score_w) = 0.9520661157024793\n",
    "####  调整权重为weights=\"distance\",metric=\"minkowski\",p=3\n",
    "max(knn_score_w_p3) = 0.9512396694214876\n",
    "#### 综合以上的数据：选择调整参数为weights=\"distance\"，其余默认时，k=8，模型所得的效果最好"
   ]
  },
  {
   "cell_type": "code",
   "execution_count": null,
   "id": "39bd3fd4",
   "metadata": {},
   "outputs": [],
   "source": []
  },
  {
   "cell_type": "code",
   "execution_count": null,
   "id": "e29fdc2e",
   "metadata": {},
   "outputs": [],
   "source": []
  },
  {
   "cell_type": "code",
   "execution_count": null,
   "id": "21a196cf",
   "metadata": {},
   "outputs": [],
   "source": []
  },
  {
   "cell_type": "code",
   "execution_count": null,
   "id": "ed7979d0",
   "metadata": {},
   "outputs": [],
   "source": []
  }
 ],
 "metadata": {
  "kernelspec": {
   "display_name": "Python 3 (ipykernel)",
   "language": "python",
   "name": "python3"
  },
  "language_info": {
   "codemirror_mode": {
    "name": "ipython",
    "version": 3
   },
   "file_extension": ".py",
   "mimetype": "text/x-python",
   "name": "python",
   "nbconvert_exporter": "python",
   "pygments_lexer": "ipython3",
   "version": "3.9.7"
  }
 },
 "nbformat": 4,
 "nbformat_minor": 5
}
