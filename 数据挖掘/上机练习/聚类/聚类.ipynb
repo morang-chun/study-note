{
 "cells": [
  {
   "cell_type": "code",
   "execution_count": 1,
   "id": "83223cec",
   "metadata": {},
   "outputs": [],
   "source": [
    "from sklearn.cluster import KMeans,AgglomerativeClustering,DBSCAN,MeanShift,SpectralClustering\n",
    "\n",
    "from sklearn.preprocessing import LabelEncoder,MinMaxScaler,StandardScaler\n",
    "\n",
    "from sklearn.metrics import silhouette_score\n",
    "\n",
    "import numpy as np\n",
    "import pandas as pd\n",
    "import warnings \n",
    "warnings.filterwarnings(\"ignore\")\n",
    "import matplotlib.pyplot as plt\n",
    "%matplotlib inline"
   ]
  },
  {
   "cell_type": "code",
   "execution_count": 2,
   "id": "f9b02e4d",
   "metadata": {},
   "outputs": [],
   "source": [
    "# 读取数据\n",
    "data = pd.read_csv(\"./auto-mpg.csv\")"
   ]
  },
  {
   "cell_type": "code",
   "execution_count": 3,
   "id": "23020cf4",
   "metadata": {},
   "outputs": [
    {
     "data": {
      "text/html": [
       "<div>\n",
       "<style scoped>\n",
       "    .dataframe tbody tr th:only-of-type {\n",
       "        vertical-align: middle;\n",
       "    }\n",
       "\n",
       "    .dataframe tbody tr th {\n",
       "        vertical-align: top;\n",
       "    }\n",
       "\n",
       "    .dataframe thead th {\n",
       "        text-align: right;\n",
       "    }\n",
       "</style>\n",
       "<table border=\"1\" class=\"dataframe\">\n",
       "  <thead>\n",
       "    <tr style=\"text-align: right;\">\n",
       "      <th></th>\n",
       "      <th>mpg</th>\n",
       "      <th>cylinders</th>\n",
       "      <th>displacement</th>\n",
       "      <th>horsepower</th>\n",
       "      <th>weight</th>\n",
       "      <th>acceleration</th>\n",
       "      <th>model year</th>\n",
       "      <th>origin</th>\n",
       "      <th>car name</th>\n",
       "    </tr>\n",
       "  </thead>\n",
       "  <tbody>\n",
       "    <tr>\n",
       "      <th>0</th>\n",
       "      <td>18.0</td>\n",
       "      <td>8</td>\n",
       "      <td>307.0</td>\n",
       "      <td>130</td>\n",
       "      <td>3504</td>\n",
       "      <td>12.0</td>\n",
       "      <td>70</td>\n",
       "      <td>1</td>\n",
       "      <td>chevrolet chevelle malibu</td>\n",
       "    </tr>\n",
       "    <tr>\n",
       "      <th>1</th>\n",
       "      <td>15.0</td>\n",
       "      <td>8</td>\n",
       "      <td>350.0</td>\n",
       "      <td>165</td>\n",
       "      <td>3693</td>\n",
       "      <td>11.5</td>\n",
       "      <td>70</td>\n",
       "      <td>1</td>\n",
       "      <td>buick skylark 320</td>\n",
       "    </tr>\n",
       "    <tr>\n",
       "      <th>2</th>\n",
       "      <td>18.0</td>\n",
       "      <td>8</td>\n",
       "      <td>318.0</td>\n",
       "      <td>150</td>\n",
       "      <td>3436</td>\n",
       "      <td>11.0</td>\n",
       "      <td>70</td>\n",
       "      <td>1</td>\n",
       "      <td>plymouth satellite</td>\n",
       "    </tr>\n",
       "    <tr>\n",
       "      <th>3</th>\n",
       "      <td>16.0</td>\n",
       "      <td>8</td>\n",
       "      <td>304.0</td>\n",
       "      <td>150</td>\n",
       "      <td>3433</td>\n",
       "      <td>12.0</td>\n",
       "      <td>70</td>\n",
       "      <td>1</td>\n",
       "      <td>amc rebel sst</td>\n",
       "    </tr>\n",
       "    <tr>\n",
       "      <th>4</th>\n",
       "      <td>17.0</td>\n",
       "      <td>8</td>\n",
       "      <td>302.0</td>\n",
       "      <td>140</td>\n",
       "      <td>3449</td>\n",
       "      <td>10.5</td>\n",
       "      <td>70</td>\n",
       "      <td>1</td>\n",
       "      <td>ford torino</td>\n",
       "    </tr>\n",
       "  </tbody>\n",
       "</table>\n",
       "</div>"
      ],
      "text/plain": [
       "    mpg  cylinders  displacement horsepower  weight  acceleration  model year  \\\n",
       "0  18.0          8         307.0        130    3504          12.0          70   \n",
       "1  15.0          8         350.0        165    3693          11.5          70   \n",
       "2  18.0          8         318.0        150    3436          11.0          70   \n",
       "3  16.0          8         304.0        150    3433          12.0          70   \n",
       "4  17.0          8         302.0        140    3449          10.5          70   \n",
       "\n",
       "   origin                   car name  \n",
       "0       1  chevrolet chevelle malibu  \n",
       "1       1          buick skylark 320  \n",
       "2       1         plymouth satellite  \n",
       "3       1              amc rebel sst  \n",
       "4       1                ford torino  "
      ]
     },
     "execution_count": 3,
     "metadata": {},
     "output_type": "execute_result"
    }
   ],
   "source": [
    "data.head()"
   ]
  },
  {
   "cell_type": "code",
   "execution_count": 4,
   "id": "b2da14e3",
   "metadata": {},
   "outputs": [
    {
     "data": {
      "text/html": [
       "<div>\n",
       "<style scoped>\n",
       "    .dataframe tbody tr th:only-of-type {\n",
       "        vertical-align: middle;\n",
       "    }\n",
       "\n",
       "    .dataframe tbody tr th {\n",
       "        vertical-align: top;\n",
       "    }\n",
       "\n",
       "    .dataframe thead th {\n",
       "        text-align: right;\n",
       "    }\n",
       "</style>\n",
       "<table border=\"1\" class=\"dataframe\">\n",
       "  <thead>\n",
       "    <tr style=\"text-align: right;\">\n",
       "      <th></th>\n",
       "      <th>mpg</th>\n",
       "      <th>cylinders</th>\n",
       "      <th>displacement</th>\n",
       "      <th>weight</th>\n",
       "      <th>acceleration</th>\n",
       "      <th>model year</th>\n",
       "      <th>origin</th>\n",
       "    </tr>\n",
       "  </thead>\n",
       "  <tbody>\n",
       "    <tr>\n",
       "      <th>count</th>\n",
       "      <td>398.000000</td>\n",
       "      <td>398.000000</td>\n",
       "      <td>398.000000</td>\n",
       "      <td>398.000000</td>\n",
       "      <td>398.000000</td>\n",
       "      <td>398.000000</td>\n",
       "      <td>398.000000</td>\n",
       "    </tr>\n",
       "    <tr>\n",
       "      <th>mean</th>\n",
       "      <td>23.514573</td>\n",
       "      <td>5.454774</td>\n",
       "      <td>193.425879</td>\n",
       "      <td>2970.424623</td>\n",
       "      <td>15.568090</td>\n",
       "      <td>76.010050</td>\n",
       "      <td>1.572864</td>\n",
       "    </tr>\n",
       "    <tr>\n",
       "      <th>std</th>\n",
       "      <td>7.815984</td>\n",
       "      <td>1.701004</td>\n",
       "      <td>104.269838</td>\n",
       "      <td>846.841774</td>\n",
       "      <td>2.757689</td>\n",
       "      <td>3.697627</td>\n",
       "      <td>0.802055</td>\n",
       "    </tr>\n",
       "    <tr>\n",
       "      <th>min</th>\n",
       "      <td>9.000000</td>\n",
       "      <td>3.000000</td>\n",
       "      <td>68.000000</td>\n",
       "      <td>1613.000000</td>\n",
       "      <td>8.000000</td>\n",
       "      <td>70.000000</td>\n",
       "      <td>1.000000</td>\n",
       "    </tr>\n",
       "    <tr>\n",
       "      <th>25%</th>\n",
       "      <td>17.500000</td>\n",
       "      <td>4.000000</td>\n",
       "      <td>104.250000</td>\n",
       "      <td>2223.750000</td>\n",
       "      <td>13.825000</td>\n",
       "      <td>73.000000</td>\n",
       "      <td>1.000000</td>\n",
       "    </tr>\n",
       "    <tr>\n",
       "      <th>50%</th>\n",
       "      <td>23.000000</td>\n",
       "      <td>4.000000</td>\n",
       "      <td>148.500000</td>\n",
       "      <td>2803.500000</td>\n",
       "      <td>15.500000</td>\n",
       "      <td>76.000000</td>\n",
       "      <td>1.000000</td>\n",
       "    </tr>\n",
       "    <tr>\n",
       "      <th>75%</th>\n",
       "      <td>29.000000</td>\n",
       "      <td>8.000000</td>\n",
       "      <td>262.000000</td>\n",
       "      <td>3608.000000</td>\n",
       "      <td>17.175000</td>\n",
       "      <td>79.000000</td>\n",
       "      <td>2.000000</td>\n",
       "    </tr>\n",
       "    <tr>\n",
       "      <th>max</th>\n",
       "      <td>46.600000</td>\n",
       "      <td>8.000000</td>\n",
       "      <td>455.000000</td>\n",
       "      <td>5140.000000</td>\n",
       "      <td>24.800000</td>\n",
       "      <td>82.000000</td>\n",
       "      <td>3.000000</td>\n",
       "    </tr>\n",
       "  </tbody>\n",
       "</table>\n",
       "</div>"
      ],
      "text/plain": [
       "              mpg   cylinders  displacement       weight  acceleration  \\\n",
       "count  398.000000  398.000000    398.000000   398.000000    398.000000   \n",
       "mean    23.514573    5.454774    193.425879  2970.424623     15.568090   \n",
       "std      7.815984    1.701004    104.269838   846.841774      2.757689   \n",
       "min      9.000000    3.000000     68.000000  1613.000000      8.000000   \n",
       "25%     17.500000    4.000000    104.250000  2223.750000     13.825000   \n",
       "50%     23.000000    4.000000    148.500000  2803.500000     15.500000   \n",
       "75%     29.000000    8.000000    262.000000  3608.000000     17.175000   \n",
       "max     46.600000    8.000000    455.000000  5140.000000     24.800000   \n",
       "\n",
       "       model year      origin  \n",
       "count  398.000000  398.000000  \n",
       "mean    76.010050    1.572864  \n",
       "std      3.697627    0.802055  \n",
       "min     70.000000    1.000000  \n",
       "25%     73.000000    1.000000  \n",
       "50%     76.000000    1.000000  \n",
       "75%     79.000000    2.000000  \n",
       "max     82.000000    3.000000  "
      ]
     },
     "execution_count": 4,
     "metadata": {},
     "output_type": "execute_result"
    }
   ],
   "source": [
    "data.describe()"
   ]
  },
  {
   "cell_type": "code",
   "execution_count": 5,
   "id": "4f35be64",
   "metadata": {},
   "outputs": [
    {
     "name": "stdout",
     "output_type": "stream",
     "text": [
      "<class 'pandas.core.frame.DataFrame'>\n",
      "RangeIndex: 398 entries, 0 to 397\n",
      "Data columns (total 9 columns):\n",
      " #   Column        Non-Null Count  Dtype  \n",
      "---  ------        --------------  -----  \n",
      " 0   mpg           398 non-null    float64\n",
      " 1   cylinders     398 non-null    int64  \n",
      " 2   displacement  398 non-null    float64\n",
      " 3   horsepower    398 non-null    object \n",
      " 4   weight        398 non-null    int64  \n",
      " 5   acceleration  398 non-null    float64\n",
      " 6   model year    398 non-null    int64  \n",
      " 7   origin        398 non-null    int64  \n",
      " 8   car name      398 non-null    object \n",
      "dtypes: float64(3), int64(4), object(2)\n",
      "memory usage: 28.1+ KB\n"
     ]
    }
   ],
   "source": [
    "data.info()"
   ]
  },
  {
   "cell_type": "code",
   "execution_count": 6,
   "id": "63f4a23d",
   "metadata": {},
   "outputs": [
    {
     "data": {
      "text/html": [
       "<div>\n",
       "<style scoped>\n",
       "    .dataframe tbody tr th:only-of-type {\n",
       "        vertical-align: middle;\n",
       "    }\n",
       "\n",
       "    .dataframe tbody tr th {\n",
       "        vertical-align: top;\n",
       "    }\n",
       "\n",
       "    .dataframe thead th {\n",
       "        text-align: right;\n",
       "    }\n",
       "</style>\n",
       "<table border=\"1\" class=\"dataframe\">\n",
       "  <thead>\n",
       "    <tr style=\"text-align: right;\">\n",
       "      <th></th>\n",
       "      <th>mpg</th>\n",
       "      <th>cylinders</th>\n",
       "      <th>displacement</th>\n",
       "      <th>horsepower</th>\n",
       "      <th>weight</th>\n",
       "      <th>acceleration</th>\n",
       "      <th>model year</th>\n",
       "      <th>origin</th>\n",
       "      <th>car name</th>\n",
       "    </tr>\n",
       "  </thead>\n",
       "  <tbody>\n",
       "    <tr>\n",
       "      <th>74</th>\n",
       "      <td>13.0</td>\n",
       "      <td>8</td>\n",
       "      <td>302.0</td>\n",
       "      <td>140</td>\n",
       "      <td>4294</td>\n",
       "      <td>16.0</td>\n",
       "      <td>72</td>\n",
       "      <td>1</td>\n",
       "      <td>ford gran torino (sw)</td>\n",
       "    </tr>\n",
       "    <tr>\n",
       "      <th>257</th>\n",
       "      <td>19.4</td>\n",
       "      <td>6</td>\n",
       "      <td>232.0</td>\n",
       "      <td>90</td>\n",
       "      <td>3210</td>\n",
       "      <td>17.2</td>\n",
       "      <td>78</td>\n",
       "      <td>1</td>\n",
       "      <td>amc concord</td>\n",
       "    </tr>\n",
       "    <tr>\n",
       "      <th>28</th>\n",
       "      <td>9.0</td>\n",
       "      <td>8</td>\n",
       "      <td>304.0</td>\n",
       "      <td>193</td>\n",
       "      <td>4732</td>\n",
       "      <td>18.5</td>\n",
       "      <td>70</td>\n",
       "      <td>1</td>\n",
       "      <td>hi 1200d</td>\n",
       "    </tr>\n",
       "    <tr>\n",
       "      <th>184</th>\n",
       "      <td>25.0</td>\n",
       "      <td>4</td>\n",
       "      <td>140.0</td>\n",
       "      <td>92</td>\n",
       "      <td>2572</td>\n",
       "      <td>14.9</td>\n",
       "      <td>76</td>\n",
       "      <td>1</td>\n",
       "      <td>capri ii</td>\n",
       "    </tr>\n",
       "    <tr>\n",
       "      <th>63</th>\n",
       "      <td>14.0</td>\n",
       "      <td>8</td>\n",
       "      <td>400.0</td>\n",
       "      <td>175</td>\n",
       "      <td>4385</td>\n",
       "      <td>12.0</td>\n",
       "      <td>72</td>\n",
       "      <td>1</td>\n",
       "      <td>pontiac catalina</td>\n",
       "    </tr>\n",
       "  </tbody>\n",
       "</table>\n",
       "</div>"
      ],
      "text/plain": [
       "      mpg  cylinders  displacement horsepower  weight  acceleration  \\\n",
       "74   13.0          8         302.0        140    4294          16.0   \n",
       "257  19.4          6         232.0         90    3210          17.2   \n",
       "28    9.0          8         304.0        193    4732          18.5   \n",
       "184  25.0          4         140.0         92    2572          14.9   \n",
       "63   14.0          8         400.0        175    4385          12.0   \n",
       "\n",
       "     model year  origin               car name  \n",
       "74           72       1  ford gran torino (sw)  \n",
       "257          78       1            amc concord  \n",
       "28           70       1               hi 1200d  \n",
       "184          76       1               capri ii  \n",
       "63           72       1       pontiac catalina  "
      ]
     },
     "execution_count": 6,
     "metadata": {},
     "output_type": "execute_result"
    }
   ],
   "source": [
    "# 随机查看5个数据\n",
    "data.sample(5)"
   ]
  },
  {
   "cell_type": "code",
   "execution_count": 7,
   "id": "de0a278f",
   "metadata": {},
   "outputs": [
    {
     "data": {
      "text/plain": [
       "150    22\n",
       "90     20\n",
       "88     19\n",
       "110    18\n",
       "100    17\n",
       "       ..\n",
       "61      1\n",
       "93      1\n",
       "148     1\n",
       "152     1\n",
       "82      1\n",
       "Name: horsepower, Length: 94, dtype: int64"
      ]
     },
     "execution_count": 7,
     "metadata": {},
     "output_type": "execute_result"
    }
   ],
   "source": [
    "data.horsepower.value_counts()"
   ]
  },
  {
   "cell_type": "code",
   "execution_count": 10,
   "id": "270ba9da",
   "metadata": {},
   "outputs": [
    {
     "data": {
      "text/plain": [
       "Index(['150', '90', '88', '110', '100', '75', '95', '105', '70', '67', '65',\n",
       "       '97', '85', '80', '145', '140', '92', '68', '78', '84', '?', '72',\n",
       "       '180', '71', '86', '115', '130', '60', '170', '175', '83', '120', '76',\n",
       "       '165', '52', '190', '125', '215', '48', '63', '112', '225', '96', '69',\n",
       "       '74', '129', '98', '198', '53', '81', '79', '153', '58', '62', '87',\n",
       "       '46', '160', '155', '139', '66', '149', '132', '64', '116', '77', '89',\n",
       "       '142', '135', '138', '133', '103', '107', '108', '102', '220', '113',\n",
       "       '200', '210', '193', '54', '208', '137', '158', '167', '94', '230',\n",
       "       '49', '91', '122', '61', '93', '148', '152', '82'],\n",
       "      dtype='object')"
      ]
     },
     "execution_count": 10,
     "metadata": {},
     "output_type": "execute_result"
    }
   ],
   "source": [
    "temp = data.horsepower.value_counts()\n",
    "temp.index"
   ]
  },
  {
   "cell_type": "code",
   "execution_count": 11,
   "id": "ef3a9b88",
   "metadata": {},
   "outputs": [
    {
     "data": {
      "text/plain": [
       "?    6\n",
       "Name: horsepower, dtype: int64"
      ]
     },
     "execution_count": 11,
     "metadata": {},
     "output_type": "execute_result"
    }
   ],
   "source": [
    "# 查看 ? 的值有多少个，发现有 6个 与398 个样本相比，可以直接去掉\n",
    "temp[temp.index==\"?\"]"
   ]
  },
  {
   "cell_type": "code",
   "execution_count": 12,
   "id": "253d0381",
   "metadata": {},
   "outputs": [],
   "source": [
    "# 删除与聚类无关的特征\n",
    "data_auto = data.drop(['car name','origin','model year'],axis=1)"
   ]
  },
  {
   "cell_type": "code",
   "execution_count": 13,
   "id": "ea226f1e",
   "metadata": {},
   "outputs": [
    {
     "name": "stdout",
     "output_type": "stream",
     "text": [
      "<class 'pandas.core.frame.DataFrame'>\n",
      "RangeIndex: 398 entries, 0 to 397\n",
      "Data columns (total 6 columns):\n",
      " #   Column        Non-Null Count  Dtype  \n",
      "---  ------        --------------  -----  \n",
      " 0   mpg           398 non-null    float64\n",
      " 1   cylinders     398 non-null    int64  \n",
      " 2   displacement  398 non-null    float64\n",
      " 3   horsepower    398 non-null    object \n",
      " 4   weight        398 non-null    int64  \n",
      " 5   acceleration  398 non-null    float64\n",
      "dtypes: float64(3), int64(2), object(1)\n",
      "memory usage: 18.8+ KB\n"
     ]
    }
   ],
   "source": [
    "data_auto.info()"
   ]
  },
  {
   "cell_type": "code",
   "execution_count": 14,
   "id": "314f273c",
   "metadata": {},
   "outputs": [
    {
     "name": "stdout",
     "output_type": "stream",
     "text": [
      "      mpg  cylinders  displacement horsepower  weight  acceleration\n",
      "32   25.0          4          98.0          ?    2046          19.0\n",
      "126  21.0          6         200.0          ?    2875          17.0\n",
      "330  40.9          4          85.0          ?    1835          17.3\n",
      "336  23.6          4         140.0          ?    2905          14.3\n",
      "354  34.5          4         100.0          ?    2320          15.8\n",
      "374  23.0          4         151.0          ?    3035          20.5\n"
     ]
    }
   ],
   "source": [
    "# 查看horsepower的值为 ? 的数据情况\n",
    "print(data_auto[data_auto[\"horsepower\"]==\"?\"])"
   ]
  },
  {
   "cell_type": "code",
   "execution_count": 15,
   "id": "00ddc6ad",
   "metadata": {},
   "outputs": [
    {
     "name": "stdout",
     "output_type": "stream",
     "text": [
      "Int64Index([32, 126, 330, 336, 354, 374], dtype='int64')\n"
     ]
    }
   ],
   "source": [
    "# 查看horsepower的值为 ? 的索引，下面利用索引来删除这些数据\n",
    "print(data_auto[data_auto['horsepower']==\"?\"].index)"
   ]
  },
  {
   "cell_type": "code",
   "execution_count": 16,
   "id": "7e75e433",
   "metadata": {},
   "outputs": [],
   "source": [
    "data_auto.drop(data_auto[data_auto['horsepower']==\"?\"].index,inplace=True)"
   ]
  },
  {
   "cell_type": "code",
   "execution_count": 18,
   "id": "a9bc5859",
   "metadata": {},
   "outputs": [
    {
     "name": "stdout",
     "output_type": "stream",
     "text": [
      "<class 'pandas.core.frame.DataFrame'>\n",
      "Int64Index: 392 entries, 0 to 397\n",
      "Data columns (total 6 columns):\n",
      " #   Column        Non-Null Count  Dtype  \n",
      "---  ------        --------------  -----  \n",
      " 0   mpg           392 non-null    float64\n",
      " 1   cylinders     392 non-null    int64  \n",
      " 2   displacement  392 non-null    float64\n",
      " 3   horsepower    392 non-null    object \n",
      " 4   weight        392 non-null    int64  \n",
      " 5   acceleration  392 non-null    float64\n",
      "dtypes: float64(3), int64(2), object(1)\n",
      "memory usage: 21.4+ KB\n"
     ]
    }
   ],
   "source": [
    "data_auto.info()"
   ]
  },
  {
   "cell_type": "markdown",
   "id": "14252f5f",
   "metadata": {},
   "source": [
    "# 标准化"
   ]
  },
  {
   "cell_type": "code",
   "execution_count": 19,
   "id": "93eeb006",
   "metadata": {},
   "outputs": [],
   "source": [
    "# 实例化对象 StandardScaler ，z分数标准化\n",
    "model_sc = StandardScaler()"
   ]
  },
  {
   "cell_type": "code",
   "execution_count": 20,
   "id": "c2331f96",
   "metadata": {},
   "outputs": [
    {
     "data": {
      "text/plain": [
       "StandardScaler()"
      ]
     },
     "execution_count": 20,
     "metadata": {},
     "output_type": "execute_result"
    }
   ],
   "source": [
    "# 训练拟合，计算均值和方差\n",
    "model_sc.fit(data_auto)"
   ]
  },
  {
   "cell_type": "code",
   "execution_count": 21,
   "id": "cd545aee",
   "metadata": {},
   "outputs": [
    {
     "data": {
      "text/plain": [
       "array([  23.44591837,    5.47193878,  194.4119898 ,  104.46938776,\n",
       "       2977.58418367,   15.54132653])"
      ]
     },
     "execution_count": 21,
     "metadata": {},
     "output_type": "execute_result"
    }
   ],
   "source": [
    "# 查看均值\n",
    "model_sc.mean_"
   ]
  },
  {
   "cell_type": "code",
   "execution_count": 23,
   "id": "8d8d5c4c",
   "metadata": {},
   "outputs": [
    {
     "data": {
      "text/plain": [
       "array([6.07627384e+01, 2.90227379e+00, 1.09224329e+04, 1.47778988e+03,\n",
       "       7.19644187e+05, 7.59191457e+00])"
      ]
     },
     "execution_count": 23,
     "metadata": {},
     "output_type": "execute_result"
    }
   ],
   "source": [
    "# 查看方差\n",
    "model_sc.var_"
   ]
  },
  {
   "cell_type": "code",
   "execution_count": 24,
   "id": "0b3c95ab",
   "metadata": {},
   "outputs": [],
   "source": [
    "# 标准化\n",
    "data_auto_sc = model_sc.transform(data_auto)"
   ]
  },
  {
   "cell_type": "code",
   "execution_count": 27,
   "id": "7a9684ff",
   "metadata": {},
   "outputs": [],
   "source": [
    "# 转化为二维表格\n",
    "data_sc = pd.DataFrame(data_auto_sc,columns=data_auto.columns)"
   ]
  },
  {
   "cell_type": "code",
   "execution_count": 28,
   "id": "dcef7d6a",
   "metadata": {},
   "outputs": [
    {
     "data": {
      "text/html": [
       "<div>\n",
       "<style scoped>\n",
       "    .dataframe tbody tr th:only-of-type {\n",
       "        vertical-align: middle;\n",
       "    }\n",
       "\n",
       "    .dataframe tbody tr th {\n",
       "        vertical-align: top;\n",
       "    }\n",
       "\n",
       "    .dataframe thead th {\n",
       "        text-align: right;\n",
       "    }\n",
       "</style>\n",
       "<table border=\"1\" class=\"dataframe\">\n",
       "  <thead>\n",
       "    <tr style=\"text-align: right;\">\n",
       "      <th></th>\n",
       "      <th>mpg</th>\n",
       "      <th>cylinders</th>\n",
       "      <th>displacement</th>\n",
       "      <th>horsepower</th>\n",
       "      <th>weight</th>\n",
       "      <th>acceleration</th>\n",
       "    </tr>\n",
       "  </thead>\n",
       "  <tbody>\n",
       "    <tr>\n",
       "      <th>count</th>\n",
       "      <td>3.920000e+02</td>\n",
       "      <td>3.920000e+02</td>\n",
       "      <td>3.920000e+02</td>\n",
       "      <td>3.920000e+02</td>\n",
       "      <td>3.920000e+02</td>\n",
       "      <td>3.920000e+02</td>\n",
       "    </tr>\n",
       "    <tr>\n",
       "      <th>mean</th>\n",
       "      <td>-1.840931e-16</td>\n",
       "      <td>-1.699321e-16</td>\n",
       "      <td>-2.537653e-16</td>\n",
       "      <td>-4.392745e-16</td>\n",
       "      <td>5.607759e-17</td>\n",
       "      <td>6.117555e-16</td>\n",
       "    </tr>\n",
       "    <tr>\n",
       "      <th>std</th>\n",
       "      <td>1.001278e+00</td>\n",
       "      <td>1.001278e+00</td>\n",
       "      <td>1.001278e+00</td>\n",
       "      <td>1.001278e+00</td>\n",
       "      <td>1.001278e+00</td>\n",
       "      <td>1.001278e+00</td>\n",
       "    </tr>\n",
       "    <tr>\n",
       "      <th>min</th>\n",
       "      <td>-1.853218e+00</td>\n",
       "      <td>-1.451004e+00</td>\n",
       "      <td>-1.209563e+00</td>\n",
       "      <td>-1.520975e+00</td>\n",
       "      <td>-1.608575e+00</td>\n",
       "      <td>-2.736983e+00</td>\n",
       "    </tr>\n",
       "    <tr>\n",
       "      <th>25%</th>\n",
       "      <td>-8.269250e-01</td>\n",
       "      <td>-8.640136e-01</td>\n",
       "      <td>-8.555316e-01</td>\n",
       "      <td>-7.665929e-01</td>\n",
       "      <td>-8.868535e-01</td>\n",
       "      <td>-6.410551e-01</td>\n",
       "    </tr>\n",
       "    <tr>\n",
       "      <th>50%</th>\n",
       "      <td>-8.927701e-02</td>\n",
       "      <td>-8.640136e-01</td>\n",
       "      <td>-4.153842e-01</td>\n",
       "      <td>-2.853488e-01</td>\n",
       "      <td>-2.052109e-01</td>\n",
       "      <td>-1.499869e-02</td>\n",
       "    </tr>\n",
       "    <tr>\n",
       "      <th>75%</th>\n",
       "      <td>7.125143e-01</td>\n",
       "      <td>1.483947e+00</td>\n",
       "      <td>7.782764e-01</td>\n",
       "      <td>5.600800e-01</td>\n",
       "      <td>7.510927e-01</td>\n",
       "      <td>5.384714e-01</td>\n",
       "    </tr>\n",
       "    <tr>\n",
       "      <th>max</th>\n",
       "      <td>2.970359e+00</td>\n",
       "      <td>1.483947e+00</td>\n",
       "      <td>2.493416e+00</td>\n",
       "      <td>3.265452e+00</td>\n",
       "      <td>2.549061e+00</td>\n",
       "      <td>3.360262e+00</td>\n",
       "    </tr>\n",
       "  </tbody>\n",
       "</table>\n",
       "</div>"
      ],
      "text/plain": [
       "                mpg     cylinders  displacement    horsepower        weight  \\\n",
       "count  3.920000e+02  3.920000e+02  3.920000e+02  3.920000e+02  3.920000e+02   \n",
       "mean  -1.840931e-16 -1.699321e-16 -2.537653e-16 -4.392745e-16  5.607759e-17   \n",
       "std    1.001278e+00  1.001278e+00  1.001278e+00  1.001278e+00  1.001278e+00   \n",
       "min   -1.853218e+00 -1.451004e+00 -1.209563e+00 -1.520975e+00 -1.608575e+00   \n",
       "25%   -8.269250e-01 -8.640136e-01 -8.555316e-01 -7.665929e-01 -8.868535e-01   \n",
       "50%   -8.927701e-02 -8.640136e-01 -4.153842e-01 -2.853488e-01 -2.052109e-01   \n",
       "75%    7.125143e-01  1.483947e+00  7.782764e-01  5.600800e-01  7.510927e-01   \n",
       "max    2.970359e+00  1.483947e+00  2.493416e+00  3.265452e+00  2.549061e+00   \n",
       "\n",
       "       acceleration  \n",
       "count  3.920000e+02  \n",
       "mean   6.117555e-16  \n",
       "std    1.001278e+00  \n",
       "min   -2.736983e+00  \n",
       "25%   -6.410551e-01  \n",
       "50%   -1.499869e-02  \n",
       "75%    5.384714e-01  \n",
       "max    3.360262e+00  "
      ]
     },
     "execution_count": 28,
     "metadata": {},
     "output_type": "execute_result"
    }
   ],
   "source": [
    "data_sc.describe()"
   ]
  },
  {
   "cell_type": "code",
   "execution_count": 29,
   "id": "945da682",
   "metadata": {
    "collapsed": true
   },
   "outputs": [
    {
     "name": "stdout",
     "output_type": "stream",
     "text": [
      "<class 'pandas.core.frame.DataFrame'>\n",
      "RangeIndex: 392 entries, 0 to 391\n",
      "Data columns (total 6 columns):\n",
      " #   Column        Non-Null Count  Dtype  \n",
      "---  ------        --------------  -----  \n",
      " 0   mpg           392 non-null    float64\n",
      " 1   cylinders     392 non-null    float64\n",
      " 2   displacement  392 non-null    float64\n",
      " 3   horsepower    392 non-null    float64\n",
      " 4   weight        392 non-null    float64\n",
      " 5   acceleration  392 non-null    float64\n",
      "dtypes: float64(6)\n",
      "memory usage: 18.5 KB\n"
     ]
    }
   ],
   "source": [
    "data_sc.info()\n",
    "# 上面查看 horsepower 的数据类型是 object 类型,但是我们前面处理的时候,将?这个非数字类型的行去除\n",
    "# 在进行标准化的时候,自动将全部是数字的数据类型转化为可以加减操作的 float 类型"
   ]
  },
  {
   "cell_type": "markdown",
   "id": "1851e1d1",
   "metadata": {},
   "source": [
    "# KMeans"
   ]
  },
  {
   "cell_type": "code",
   "execution_count": 30,
   "id": "e2268e7b",
   "metadata": {},
   "outputs": [
    {
     "data": {
      "text/plain": [
       "KMeans(n_clusters=4, random_state=10)"
      ]
     },
     "execution_count": 30,
     "metadata": {},
     "output_type": "execute_result"
    }
   ],
   "source": [
    "# 聚类\n",
    "# 实例化模型,训练模型\n",
    "model_km  = KMeans(n_clusters=4,random_state=10)\n",
    "model_km.fit(data_auto)"
   ]
  },
  {
   "cell_type": "code",
   "execution_count": 31,
   "id": "66c4ce59",
   "metadata": {},
   "outputs": [
    {
     "data": {
      "text/plain": [
       "array([0, 0, 0, 0, 0, 2, 2, 2, 2, 0, 0, 0, 0, 0, 1, 3, 3, 3, 1, 1, 3, 3,\n",
       "       1, 1, 3, 2, 2, 2, 2, 1, 1, 1, 3, 0, 0, 0, 0, 2, 2, 2, 2, 2, 2, 2,\n",
       "       3, 1, 0, 0, 1, 1, 1, 1, 1, 1, 1, 1, 1, 1, 1, 1, 1, 2, 2, 2, 2, 0,\n",
       "       2, 2, 2, 2, 1, 0, 2, 2, 2, 3, 3, 3, 1, 1, 1, 3, 1, 1, 2, 0, 2, 2,\n",
       "       0, 2, 2, 2, 2, 2, 2, 0, 0, 0, 3, 3, 3, 1, 2, 2, 2, 2, 3, 1, 1, 1,\n",
       "       1, 1, 3, 1, 2, 2, 1, 1, 3, 3, 0, 3, 3, 0, 3, 3, 0, 1, 3, 1, 3, 0,\n",
       "       0, 0, 2, 2, 2, 2, 2, 1, 1, 1, 1, 1, 1, 1, 1, 3, 1, 1, 0, 0, 0, 0,\n",
       "       2, 2, 2, 2, 0, 0, 0, 0, 3, 0, 0, 1, 3, 3, 3, 3, 1, 3, 3, 1, 0, 3,\n",
       "       3, 3, 3, 1, 3, 1, 3, 1, 1, 2, 2, 2, 2, 0, 0, 3, 3, 1, 1, 1, 1, 0,\n",
       "       0, 0, 0, 1, 1, 1, 3, 0, 2, 0, 3, 0, 2, 2, 0, 0, 1, 1, 1, 1, 1, 0,\n",
       "       2, 2, 2, 0, 0, 0, 0, 2, 2, 2, 2, 1, 3, 1, 3, 1, 1, 1, 1, 3, 3, 3,\n",
       "       1, 1, 1, 1, 1, 0, 0, 0, 0, 0, 3, 3, 0, 0, 0, 3, 0, 0, 0, 0, 0, 2,\n",
       "       1, 3, 1, 1, 3, 3, 3, 1, 3, 0, 3, 0, 1, 1, 0, 3, 3, 0, 0, 0, 0, 2,\n",
       "       0, 2, 2, 0, 2, 1, 1, 1, 3, 0, 0, 0, 0, 1, 1, 1, 1, 3, 3, 3, 3, 1,\n",
       "       1, 1, 1, 3, 3, 3, 0, 1, 3, 3, 3, 1, 1, 3, 1, 1, 1, 3, 0, 1, 1, 1,\n",
       "       3, 1, 3, 1, 3, 3, 3, 3, 1, 1, 1, 1, 1, 1, 1, 1, 1, 1, 1, 1, 1, 1,\n",
       "       3, 3, 0, 0, 3, 3, 0, 0, 3, 0, 3, 3, 1, 3, 3, 3, 3, 1, 1, 1, 1, 1,\n",
       "       1, 1, 1, 1, 1, 1, 3, 3, 3, 3, 3, 1, 3, 3, 1, 1, 3, 3])"
      ]
     },
     "execution_count": 31,
     "metadata": {},
     "output_type": "execute_result"
    }
   ],
   "source": [
    "# 查看聚类结果，样本标签\n",
    "model_km.labels_"
   ]
  },
  {
   "cell_type": "code",
   "execution_count": 32,
   "id": "d3175e64",
   "metadata": {},
   "outputs": [
    {
     "data": {
      "text/plain": [
       "array([[1.83528090e+01, 6.64044944e+00, 2.59966292e+02, 1.16808989e+02,\n",
       "        3.48448315e+03, 1.56752809e+01],\n",
       "       [3.07367647e+01, 3.97794118e+00, 9.81286765e+01, 7.29485294e+01,\n",
       "        2.10770588e+03, 1.66014706e+01],\n",
       "       [1.39913043e+01, 8.00000000e+00, 3.56536232e+02, 1.65130435e+02,\n",
       "        4.36659420e+03, 1.30420290e+01],\n",
       "       [2.46102041e+01, 4.70408163e+00, 1.54346939e+02, 9.42959184e+01,\n",
       "        2.74643878e+03, 1.57081633e+01]])"
      ]
     },
     "execution_count": 32,
     "metadata": {},
     "output_type": "execute_result"
    }
   ],
   "source": [
    "# 查看聚类结果，类的中心\n",
    "model_km.cluster_centers_"
   ]
  },
  {
   "cell_type": "code",
   "execution_count": 33,
   "id": "d63a39ef",
   "metadata": {},
   "outputs": [],
   "source": [
    "# 逆标准化聚类中心\n",
    "data_km = pd.DataFrame(model_sc.inverse_transform(model_km.cluster_centers_),\n",
    "                      columns=data_auto.columns)"
   ]
  },
  {
   "cell_type": "code",
   "execution_count": 34,
   "id": "4d9b9c89",
   "metadata": {},
   "outputs": [
    {
     "data": {
      "text/html": [
       "<div>\n",
       "<style scoped>\n",
       "    .dataframe tbody tr th:only-of-type {\n",
       "        vertical-align: middle;\n",
       "    }\n",
       "\n",
       "    .dataframe tbody tr th {\n",
       "        vertical-align: top;\n",
       "    }\n",
       "\n",
       "    .dataframe thead th {\n",
       "        text-align: right;\n",
       "    }\n",
       "</style>\n",
       "<table border=\"1\" class=\"dataframe\">\n",
       "  <thead>\n",
       "    <tr style=\"text-align: right;\">\n",
       "      <th></th>\n",
       "      <th>mpg</th>\n",
       "      <th>cylinders</th>\n",
       "      <th>displacement</th>\n",
       "      <th>horsepower</th>\n",
       "      <th>weight</th>\n",
       "      <th>acceleration</th>\n",
       "    </tr>\n",
       "  </thead>\n",
       "  <tbody>\n",
       "    <tr>\n",
       "      <th>0</th>\n",
       "      <td>166.506904</td>\n",
       "      <td>16.784649</td>\n",
       "      <td>27363.604653</td>\n",
       "      <td>4594.844355</td>\n",
       "      <td>2.958929e+06</td>\n",
       "      <td>58.732101</td>\n",
       "    </tr>\n",
       "    <tr>\n",
       "      <th>1</th>\n",
       "      <td>263.040406</td>\n",
       "      <td>12.248784</td>\n",
       "      <td>10449.883555</td>\n",
       "      <td>2908.759142</td>\n",
       "      <td>1.790983e+06</td>\n",
       "      <td>61.284071</td>\n",
       "    </tr>\n",
       "    <tr>\n",
       "      <th>2</th>\n",
       "      <td>132.508776</td>\n",
       "      <td>19.100788</td>\n",
       "      <td>37456.171951</td>\n",
       "      <td>6452.418964</td>\n",
       "      <td>3.707240e+06</td>\n",
       "      <td>51.476589</td>\n",
       "    </tr>\n",
       "    <tr>\n",
       "      <th>3</th>\n",
       "      <td>215.283585</td>\n",
       "      <td>13.485841</td>\n",
       "      <td>16325.279119</td>\n",
       "      <td>3729.396166</td>\n",
       "      <td>2.332832e+06</td>\n",
       "      <td>58.822703</td>\n",
       "    </tr>\n",
       "  </tbody>\n",
       "</table>\n",
       "</div>"
      ],
      "text/plain": [
       "          mpg  cylinders  displacement   horsepower        weight  \\\n",
       "0  166.506904  16.784649  27363.604653  4594.844355  2.958929e+06   \n",
       "1  263.040406  12.248784  10449.883555  2908.759142  1.790983e+06   \n",
       "2  132.508776  19.100788  37456.171951  6452.418964  3.707240e+06   \n",
       "3  215.283585  13.485841  16325.279119  3729.396166  2.332832e+06   \n",
       "\n",
       "   acceleration  \n",
       "0     58.732101  \n",
       "1     61.284071  \n",
       "2     51.476589  \n",
       "3     58.822703  "
      ]
     },
     "execution_count": 34,
     "metadata": {},
     "output_type": "execute_result"
    }
   ],
   "source": [
    "data_km"
   ]
  },
  {
   "cell_type": "code",
   "execution_count": 35,
   "id": "d6524f08",
   "metadata": {},
   "outputs": [],
   "source": [
    "auto_label = model_km.labels_"
   ]
  },
  {
   "cell_type": "code",
   "execution_count": 36,
   "id": "c7b78dd9",
   "metadata": {},
   "outputs": [],
   "source": [
    "# 聚类结果放置到原数据的最后一列\n",
    "data_auto[\"label\"] = auto_label"
   ]
  },
  {
   "cell_type": "code",
   "execution_count": 37,
   "id": "49a1aea0",
   "metadata": {},
   "outputs": [
    {
     "data": {
      "text/html": [
       "<div>\n",
       "<style scoped>\n",
       "    .dataframe tbody tr th:only-of-type {\n",
       "        vertical-align: middle;\n",
       "    }\n",
       "\n",
       "    .dataframe tbody tr th {\n",
       "        vertical-align: top;\n",
       "    }\n",
       "\n",
       "    .dataframe thead th {\n",
       "        text-align: right;\n",
       "    }\n",
       "</style>\n",
       "<table border=\"1\" class=\"dataframe\">\n",
       "  <thead>\n",
       "    <tr style=\"text-align: right;\">\n",
       "      <th></th>\n",
       "      <th>mpg</th>\n",
       "      <th>cylinders</th>\n",
       "      <th>displacement</th>\n",
       "      <th>horsepower</th>\n",
       "      <th>weight</th>\n",
       "      <th>acceleration</th>\n",
       "      <th>label</th>\n",
       "    </tr>\n",
       "  </thead>\n",
       "  <tbody>\n",
       "    <tr>\n",
       "      <th>361</th>\n",
       "      <td>25.4</td>\n",
       "      <td>6</td>\n",
       "      <td>168.0</td>\n",
       "      <td>116</td>\n",
       "      <td>2900</td>\n",
       "      <td>12.6</td>\n",
       "      <td>3</td>\n",
       "    </tr>\n",
       "    <tr>\n",
       "      <th>171</th>\n",
       "      <td>24.0</td>\n",
       "      <td>4</td>\n",
       "      <td>134.0</td>\n",
       "      <td>96</td>\n",
       "      <td>2702</td>\n",
       "      <td>13.5</td>\n",
       "      <td>3</td>\n",
       "    </tr>\n",
       "    <tr>\n",
       "      <th>139</th>\n",
       "      <td>14.0</td>\n",
       "      <td>8</td>\n",
       "      <td>302.0</td>\n",
       "      <td>140</td>\n",
       "      <td>4638</td>\n",
       "      <td>16.0</td>\n",
       "      <td>2</td>\n",
       "    </tr>\n",
       "    <tr>\n",
       "      <th>348</th>\n",
       "      <td>37.7</td>\n",
       "      <td>4</td>\n",
       "      <td>89.0</td>\n",
       "      <td>62</td>\n",
       "      <td>2050</td>\n",
       "      <td>17.3</td>\n",
       "      <td>1</td>\n",
       "    </tr>\n",
       "    <tr>\n",
       "      <th>134</th>\n",
       "      <td>16.0</td>\n",
       "      <td>6</td>\n",
       "      <td>258.0</td>\n",
       "      <td>110</td>\n",
       "      <td>3632</td>\n",
       "      <td>18.0</td>\n",
       "      <td>0</td>\n",
       "    </tr>\n",
       "  </tbody>\n",
       "</table>\n",
       "</div>"
      ],
      "text/plain": [
       "      mpg  cylinders  displacement horsepower  weight  acceleration  label\n",
       "361  25.4          6         168.0        116    2900          12.6      3\n",
       "171  24.0          4         134.0         96    2702          13.5      3\n",
       "139  14.0          8         302.0        140    4638          16.0      2\n",
       "348  37.7          4          89.0         62    2050          17.3      1\n",
       "134  16.0          6         258.0        110    3632          18.0      0"
      ]
     },
     "execution_count": 37,
     "metadata": {},
     "output_type": "execute_result"
    }
   ],
   "source": [
    "data_auto.sample(5)"
   ]
  },
  {
   "cell_type": "code",
   "execution_count": 38,
   "id": "61ecbbfe",
   "metadata": {},
   "outputs": [],
   "source": [
    "# 计算各类别的数量，保存到lbs\n",
    "lbs = pd.Series(auto_label).value_counts()"
   ]
  },
  {
   "cell_type": "code",
   "execution_count": 39,
   "id": "e8762eda",
   "metadata": {},
   "outputs": [
    {
     "data": {
      "text/plain": [
       "1    136\n",
       "3     98\n",
       "0     89\n",
       "2     69\n",
       "dtype: int64"
      ]
     },
     "execution_count": 39,
     "metadata": {},
     "output_type": "execute_result"
    }
   ],
   "source": [
    "lbs"
   ]
  },
  {
   "cell_type": "code",
   "execution_count": 51,
   "id": "0331b324",
   "metadata": {},
   "outputs": [
    {
     "data": {
      "image/png": "[encoded data removed]",
      "text/plain": [
       "<Figure size 432x288 with 1 Axes>"
      ]
     },
     "metadata": {
      "needs_background": "light"
     },
     "output_type": "display_data"
    }
   ],
   "source": [
    "# 可视化\n",
    "plt.bar(x= lbs.index,height=lbs,width=0.5)\n",
    "plt.xticks([0,1,2,3])\n",
    "for x,y in enumerate([89,136,69,98]):\n",
    "    plt.text(x,y+1,y)"
   ]
  },
  {
   "cell_type": "code",
   "execution_count": null,
   "id": "eb598c6a",
   "metadata": {},
   "outputs": [],
   "source": []
  },
  {
   "cell_type": "code",
   "execution_count": null,
   "id": "25b0b0e9",
   "metadata": {},
   "outputs": [],
   "source": []
  },
  {
   "cell_type": "code",
   "execution_count": null,
   "id": "dc71eb3b",
   "metadata": {},
   "outputs": [],
   "source": []
  },
  {
   "cell_type": "code",
   "execution_count": null,
   "id": "bc49bf0d",
   "metadata": {},
   "outputs": [],
   "source": []
  },
  {
   "cell_type": "code",
   "execution_count": null,
   "id": "1ccdb6e3",
   "metadata": {},
   "outputs": [],
   "source": []
  },
  {
   "cell_type": "code",
   "execution_count": null,
   "id": "1fdb603a",
   "metadata": {},
   "outputs": [],
   "source": []
  },
  {
   "cell_type": "code",
   "execution_count": null,
   "id": "f0d5e6ed",
   "metadata": {},
   "outputs": [],
   "source": []
  },
  {
   "cell_type": "code",
   "execution_count": null,
   "id": "5e058f8b",
   "metadata": {},
   "outputs": [],
   "source": []
  }
 ],
 "metadata": {
  "kernelspec": {
   "display_name": "Python 3 (ipykernel)",
   "language": "python",
   "name": "python3"
  },
  "language_info": {
   "codemirror_mode": {
    "name": "ipython",
    "version": 3
   },
   "file_extension": ".py",
   "mimetype": "text/x-python",
   "name": "python",
   "nbconvert_exporter": "python",
   "pygments_lexer": "ipython3",
   "version": "3.9.7"
  }
 },
 "nbformat": 4,
 "nbformat_minor": 5
}
