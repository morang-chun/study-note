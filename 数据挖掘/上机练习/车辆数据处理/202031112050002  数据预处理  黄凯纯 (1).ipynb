{
 "cells": [
  {
   "cell_type": "code",
   "execution_count": 5,
   "id": "2903b7da",
   "metadata": {},
   "outputs": [],
   "source": [
    "import pandas as pd\n"
   ]
  },
  {
   "cell_type": "code",
   "execution_count": 6,
   "id": "5d77c0fc",
   "metadata": {},
   "outputs": [],
   "source": [
    "# 读入数据\n",
    "data = pd.read_csv(\"./vehicles_4000.csv\")"
   ]
  },
  {
   "cell_type": "code",
   "execution_count": 7,
   "id": "cc2b734b",
   "metadata": {},
   "outputs": [
    {
     "name": "stdout",
     "output_type": "stream",
     "text": [
      "<class 'pandas.core.frame.DataFrame'>\n",
      "RangeIndex: 4000 entries, 0 to 3999\n",
      "Data columns (total 26 columns):\n",
      " #   Column        Non-Null Count  Dtype  \n",
      "---  ------        --------------  -----  \n",
      " 0   Unnamed: 0    4000 non-null   int64  \n",
      " 1   id            4000 non-null   int64  \n",
      " 2   url           4000 non-null   object \n",
      " 3   region        4000 non-null   object \n",
      " 4   region_url    4000 non-null   object \n",
      " 5   price         4000 non-null   int64  \n",
      " 6   year          3999 non-null   float64\n",
      " 7   manufacturer  3831 non-null   object \n",
      " 8   model         3946 non-null   object \n",
      " 9   condition     1995 non-null   object \n",
      " 10  cylinders     2331 non-null   object \n",
      " 11  fuel          3992 non-null   object \n",
      " 12  odometer      3385 non-null   float64\n",
      " 13  title_status  3990 non-null   object \n",
      " 14  transmission  3981 non-null   object \n",
      " 15  vin           2512 non-null   object \n",
      " 16  drive         2847 non-null   object \n",
      " 17  size          1052 non-null   object \n",
      " 18  type          3101 non-null   object \n",
      " 19  paint_color   2665 non-null   object \n",
      " 20  image_url     4000 non-null   object \n",
      " 21  description   4000 non-null   object \n",
      " 22  county        0 non-null      float64\n",
      " 23  state         4000 non-null   object \n",
      " 24  lat           3988 non-null   float64\n",
      " 25  long          3988 non-null   float64\n",
      "dtypes: float64(5), int64(3), object(18)\n",
      "memory usage: 812.6+ KB\n"
     ]
    }
   ],
   "source": [
    "# 查看数据信息\n",
    "data.info()\n",
    "# 第一是原始数据的索引\n",
    "# county 数据有问题"
   ]
  },
  {
   "cell_type": "code",
   "execution_count": 8,
   "id": "d1e0a494",
   "metadata": {},
   "outputs": [],
   "source": [
    "# 删除数据 axis=1，是列，当数据量不足80%的时候删除即空值大于20%，inplace 表示覆盖原表，如果为false的时候，则需要将其赋值\n",
    "data.dropna(axis = 1,thresh = int(len(data)*0.8),inplace=True)"
   ]
  },
  {
   "cell_type": "code",
   "execution_count": 9,
   "id": "842bc8eb",
   "metadata": {},
   "outputs": [
    {
     "name": "stdout",
     "output_type": "stream",
     "text": [
      "<class 'pandas.core.frame.DataFrame'>\n",
      "RangeIndex: 4000 entries, 0 to 3999\n",
      "Data columns (total 18 columns):\n",
      " #   Column        Non-Null Count  Dtype  \n",
      "---  ------        --------------  -----  \n",
      " 0   Unnamed: 0    4000 non-null   int64  \n",
      " 1   id            4000 non-null   int64  \n",
      " 2   url           4000 non-null   object \n",
      " 3   region        4000 non-null   object \n",
      " 4   region_url    4000 non-null   object \n",
      " 5   price         4000 non-null   int64  \n",
      " 6   year          3999 non-null   float64\n",
      " 7   manufacturer  3831 non-null   object \n",
      " 8   model         3946 non-null   object \n",
      " 9   fuel          3992 non-null   object \n",
      " 10  odometer      3385 non-null   float64\n",
      " 11  title_status  3990 non-null   object \n",
      " 12  transmission  3981 non-null   object \n",
      " 13  image_url     4000 non-null   object \n",
      " 14  description   4000 non-null   object \n",
      " 15  state         4000 non-null   object \n",
      " 16  lat           3988 non-null   float64\n",
      " 17  long          3988 non-null   float64\n",
      "dtypes: float64(4), int64(3), object(11)\n",
      "memory usage: 562.6+ KB\n"
     ]
    }
   ],
   "source": [
    "data.info()"
   ]
  },
  {
   "cell_type": "code",
   "execution_count": 10,
   "id": "eb32ae54",
   "metadata": {},
   "outputs": [
    {
     "data": {
      "text/plain": [
       "Index(['Unnamed: 0', 'id', 'url', 'region', 'region_url', 'price', 'year',\n",
       "       'manufacturer', 'model', 'fuel', 'odometer', 'title_status',\n",
       "       'transmission', 'image_url', 'description', 'state', 'lat', 'long'],\n",
       "      dtype='object')"
      ]
     },
     "execution_count": 10,
     "metadata": {},
     "output_type": "execute_result"
    }
   ],
   "source": [
    "data.columns"
   ]
  },
  {
   "cell_type": "code",
   "execution_count": 11,
   "id": "6a648dcd",
   "metadata": {},
   "outputs": [],
   "source": [
    "# 删除不需要的列\n",
    "data = data.drop([\"Unnamed: 0\",\"id\",\"url\",\"region_url\",\"image_url\"],axis=1)"
   ]
  },
  {
   "cell_type": "code",
   "execution_count": 12,
   "id": "ee8a9836",
   "metadata": {},
   "outputs": [
    {
     "name": "stdout",
     "output_type": "stream",
     "text": [
      "<class 'pandas.core.frame.DataFrame'>\n",
      "RangeIndex: 4000 entries, 0 to 3999\n",
      "Data columns (total 13 columns):\n",
      " #   Column        Non-Null Count  Dtype  \n",
      "---  ------        --------------  -----  \n",
      " 0   region        4000 non-null   object \n",
      " 1   price         4000 non-null   int64  \n",
      " 2   year          3999 non-null   float64\n",
      " 3   manufacturer  3831 non-null   object \n",
      " 4   model         3946 non-null   object \n",
      " 5   fuel          3992 non-null   object \n",
      " 6   odometer      3385 non-null   float64\n",
      " 7   title_status  3990 non-null   object \n",
      " 8   transmission  3981 non-null   object \n",
      " 9   description   4000 non-null   object \n",
      " 10  state         4000 non-null   object \n",
      " 11  lat           3988 non-null   float64\n",
      " 12  long          3988 non-null   float64\n",
      "dtypes: float64(4), int64(1), object(8)\n",
      "memory usage: 406.4+ KB\n"
     ]
    }
   ],
   "source": [
    "data.info()"
   ]
  },
  {
   "cell_type": "code",
   "execution_count": 13,
   "id": "39ff2e8e",
   "metadata": {},
   "outputs": [],
   "source": [
    "data_1 = data.fillna(\"ffill\")"
   ]
  },
  {
   "cell_type": "code",
   "execution_count": 14,
   "id": "098da5a6",
   "metadata": {},
   "outputs": [
    {
     "name": "stdout",
     "output_type": "stream",
     "text": [
      "<class 'pandas.core.frame.DataFrame'>\n",
      "RangeIndex: 4000 entries, 0 to 3999\n",
      "Data columns (total 13 columns):\n",
      " #   Column        Non-Null Count  Dtype \n",
      "---  ------        --------------  ----- \n",
      " 0   region        4000 non-null   object\n",
      " 1   price         4000 non-null   int64 \n",
      " 2   year          4000 non-null   object\n",
      " 3   manufacturer  4000 non-null   object\n",
      " 4   model         4000 non-null   object\n",
      " 5   fuel          4000 non-null   object\n",
      " 6   odometer      4000 non-null   object\n",
      " 7   title_status  4000 non-null   object\n",
      " 8   transmission  4000 non-null   object\n",
      " 9   description   4000 non-null   object\n",
      " 10  state         4000 non-null   object\n",
      " 11  lat           4000 non-null   object\n",
      " 12  long          4000 non-null   object\n",
      "dtypes: int64(1), object(12)\n",
      "memory usage: 406.4+ KB\n"
     ]
    }
   ],
   "source": [
    "data_1.info()"
   ]
  },
  {
   "cell_type": "code",
   "execution_count": 17,
   "id": "82a07fe1",
   "metadata": {},
   "outputs": [
    {
     "name": "stdout",
     "output_type": "stream",
     "text": [
      "<class 'pandas.core.frame.DataFrame'>\n",
      "RangeIndex: 4000 entries, 0 to 3999\n",
      "Data columns (total 13 columns):\n",
      " #   Column        Non-Null Count  Dtype  \n",
      "---  ------        --------------  -----  \n",
      " 0   region        4000 non-null   object \n",
      " 1   price         4000 non-null   int64  \n",
      " 2   year          3999 non-null   float64\n",
      " 3   manufacturer  3831 non-null   object \n",
      " 4   model         3946 non-null   object \n",
      " 5   fuel          3992 non-null   object \n",
      " 6   odometer      3385 non-null   float64\n",
      " 7   title_status  3990 non-null   object \n",
      " 8   transmission  3981 non-null   object \n",
      " 9   description   4000 non-null   object \n",
      " 10  state         4000 non-null   object \n",
      " 11  lat           3988 non-null   float64\n",
      " 12  long          3988 non-null   float64\n",
      "dtypes: float64(4), int64(1), object(8)\n",
      "memory usage: 406.4+ KB\n"
     ]
    }
   ],
   "source": [
    "data.info()"
   ]
  },
  {
   "cell_type": "code",
   "execution_count": 18,
   "id": "580323ee",
   "metadata": {},
   "outputs": [],
   "source": [
    "# 浮点数用众数来填充\n",
    "from sklearn.impute import SimpleImputer\n",
    "import numpy as np"
   ]
  },
  {
   "cell_type": "code",
   "execution_count": 19,
   "id": "1a2f3c54",
   "metadata": {},
   "outputs": [],
   "source": [
    "si_mean = SimpleImputer(missing_values=np.nan,strategy=\"mean\")"
   ]
  },
  {
   "cell_type": "code",
   "execution_count": 20,
   "id": "231abff2",
   "metadata": {},
   "outputs": [],
   "source": [
    "data[[\"price\",\"year\",\"odometer\",\"lat\",\"long\"]]=si_mean .fit_transform(data[[\"price\",\"year\",\"odometer\",\"lat\",\"long\"]])"
   ]
  },
  {
   "cell_type": "code",
   "execution_count": 21,
   "id": "ecdaf5f7",
   "metadata": {},
   "outputs": [],
   "source": [
    "si_most = SimpleImputer(missing_values=np.nan,strategy=\"most_frequent\")"
   ]
  },
  {
   "cell_type": "code",
   "execution_count": 25,
   "id": "7cda46d6",
   "metadata": {},
   "outputs": [],
   "source": [
    "data[[\"manufacturer\",\"model\",\"fuel\",\"title_status\",\"transmission\"]] = si_most.fit_transform(data[[\"manufacturer\",\"model\",\"fuel\",\"title_status\",\"transmission\"]])"
   ]
  },
  {
   "cell_type": "code",
   "execution_count": 26,
   "id": "ef64ace3",
   "metadata": {},
   "outputs": [
    {
     "name": "stdout",
     "output_type": "stream",
     "text": [
      "<class 'pandas.core.frame.DataFrame'>\n",
      "RangeIndex: 4000 entries, 0 to 3999\n",
      "Data columns (total 13 columns):\n",
      " #   Column        Non-Null Count  Dtype  \n",
      "---  ------        --------------  -----  \n",
      " 0   region        4000 non-null   object \n",
      " 1   price         4000 non-null   float64\n",
      " 2   year          4000 non-null   float64\n",
      " 3   manufacturer  4000 non-null   object \n",
      " 4   model         4000 non-null   object \n",
      " 5   fuel          4000 non-null   object \n",
      " 6   odometer      4000 non-null   float64\n",
      " 7   title_status  4000 non-null   object \n",
      " 8   transmission  4000 non-null   object \n",
      " 9   description   4000 non-null   object \n",
      " 10  state         4000 non-null   object \n",
      " 11  lat           4000 non-null   float64\n",
      " 12  long          4000 non-null   float64\n",
      "dtypes: float64(5), object(8)\n",
      "memory usage: 406.4+ KB\n"
     ]
    }
   ],
   "source": [
    "data.info()"
   ]
  },
  {
   "cell_type": "code",
   "execution_count": 27,
   "id": "58d289ed",
   "metadata": {},
   "outputs": [],
   "source": [
    "# 离群值检测处理\n",
    "# 均值和方差\n",
    "price_mean=data.price.mean()"
   ]
  },
  {
   "cell_type": "code",
   "execution_count": 28,
   "id": "c0c07c0f",
   "metadata": {},
   "outputs": [],
   "source": [
    "price_std = data.price.std()"
   ]
  },
  {
   "cell_type": "code",
   "execution_count": 29,
   "id": "6a74448b",
   "metadata": {},
   "outputs": [],
   "source": [
    "# 取中间的数据,去掉离群值\n",
    "data_z  =  data[data.price >= price_mean - 3*price_std] [data.price <= price_mean + 3*price_std]"
   ]
  },
  {
   "cell_type": "code",
   "execution_count": 30,
   "id": "6a342074",
   "metadata": {},
   "outputs": [],
   "source": [
    "# 描述数据集price，转置一下数据\n",
    "sst = data[[\"price\"]].describe().T"
   ]
  },
  {
   "cell_type": "code",
   "execution_count": 31,
   "id": "4f70e2ee",
   "metadata": {},
   "outputs": [],
   "source": [
    "IQR = sst[\"75%\"]-sst[\"25%\"]"
   ]
  },
  {
   "cell_type": "code",
   "execution_count": 32,
   "id": "aa51141f",
   "metadata": {},
   "outputs": [
    {
     "data": {
      "text/plain": [
       "price    17009.0\n",
       "dtype: float64"
      ]
     },
     "execution_count": 32,
     "metadata": {},
     "output_type": "execute_result"
    }
   ],
   "source": [
    "IQR"
   ]
  },
  {
   "cell_type": "code",
   "execution_count": 33,
   "id": "4c6d289b",
   "metadata": {},
   "outputs": [],
   "source": [
    "IQR=IQR[0]"
   ]
  },
  {
   "cell_type": "code",
   "execution_count": 34,
   "id": "76440d1e",
   "metadata": {},
   "outputs": [],
   "source": [
    "max = sst[\"50%\"][0]+1.5*IQR"
   ]
  },
  {
   "cell_type": "code",
   "execution_count": 35,
   "id": "5e2db4e9",
   "metadata": {},
   "outputs": [],
   "source": [
    "min = sst[\"50%\"][0]-1.5*IQR"
   ]
  },
  {
   "cell_type": "code",
   "execution_count": 36,
   "id": "5179874d",
   "metadata": {},
   "outputs": [
    {
     "data": {
      "text/plain": [
       "(17009.0, -13013.5, 38013.5)"
      ]
     },
     "execution_count": 36,
     "metadata": {},
     "output_type": "execute_result"
    }
   ],
   "source": [
    "IQR,min,max"
   ]
  },
  {
   "cell_type": "code",
   "execution_count": 55,
   "id": "7c19a9da",
   "metadata": {},
   "outputs": [],
   "source": [
    "data_MM = data[data[\"price\"]>min][data[\"price\"]<max]"
   ]
  },
  {
   "cell_type": "code",
   "execution_count": 56,
   "id": "906d3acf",
   "metadata": {},
   "outputs": [
    {
     "data": {
      "text/plain": [
       "<AxesSubplot:>"
      ]
     },
     "execution_count": 56,
     "metadata": {},
     "output_type": "execute_result"
    },
    {
     "data": {
      "image/png": "[encoded data removed]",
      "text/plain": [
       "<Figure size 432x288 with 1 Axes>"
      ]
     },
     "metadata": {
      "needs_background": "light"
     },
     "output_type": "display_data"
    }
   ],
   "source": [
    "data[[\"price\"]].plot(kind='box')"
   ]
  },
  {
   "cell_type": "code",
   "execution_count": 57,
   "id": "817d37e7",
   "metadata": {},
   "outputs": [
    {
     "data": {
      "text/plain": [
       "<AxesSubplot:>"
      ]
     },
     "execution_count": 57,
     "metadata": {},
     "output_type": "execute_result"
    },
    {
     "data": {
      "image/png": "[encoded data removed]",
      "text/plain": [
       "<Figure size 432x288 with 1 Axes>"
      ]
     },
     "metadata": {
      "needs_background": "light"
     },
     "output_type": "display_data"
    }
   ],
   "source": [
    "data_MM[[\"price\"]].plot(kind=\"box\")"
   ]
  },
  {
   "cell_type": "code",
   "execution_count": 58,
   "id": "6f9d5002",
   "metadata": {},
   "outputs": [],
   "source": [
    "#  离群因子"
   ]
  },
  {
   "cell_type": "code",
   "execution_count": 59,
   "id": "26dff73f",
   "metadata": {},
   "outputs": [],
   "source": [
    "from sklearn.preprocessing import RobustScaler\n",
    "from sklearn.neighbors import LocalOutlierFactor"
   ]
  },
  {
   "cell_type": "code",
   "execution_count": 60,
   "id": "e2075c13",
   "metadata": {},
   "outputs": [],
   "source": [
    "lof = LocalOutlierFactor(novelty=True)"
   ]
  },
  {
   "cell_type": "code",
   "execution_count": 61,
   "id": "839c56d2",
   "metadata": {},
   "outputs": [
    {
     "data": {
      "text/html": [
       "<style>#sk-container-id-2 {color: black;background-color: white;}#sk-container-id-2 pre{padding: 0;}#sk-container-id-2 div.sk-toggleable {background-color: white;}#sk-container-id-2 label.sk-toggleable__label {cursor: pointer;display: block;width: 100%;margin-bottom: 0;padding: 0.3em;box-sizing: border-box;text-align: center;}#sk-container-id-2 label.sk-toggleable__label-arrow:before {content: \"▸\";float: left;margin-right: 0.25em;color: #696969;}#sk-container-id-2 label.sk-toggleable__label-arrow:hover:before {color: black;}#sk-container-id-2 div.sk-estimator:hover label.sk-toggleable__label-arrow:before {color: black;}#sk-container-id-2 div.sk-toggleable__content {max-height: 0;max-width: 0;overflow: hidden;text-align: left;background-color: #f0f8ff;}#sk-container-id-2 div.sk-toggleable__content pre {margin: 0.2em;color: black;border-radius: 0.25em;background-color: #f0f8ff;}#sk-container-id-2 input.sk-toggleable__control:checked~div.sk-toggleable__content {max-height: 200px;max-width: 100%;overflow: auto;}#sk-container-id-2 input.sk-toggleable__control:checked~label.sk-toggleable__label-arrow:before {content: \"▾\";}#sk-container-id-2 div.sk-estimator input.sk-toggleable__control:checked~label.sk-toggleable__label {background-color: #d4ebff;}#sk-container-id-2 div.sk-label input.sk-toggleable__control:checked~label.sk-toggleable__label {background-color: #d4ebff;}#sk-container-id-2 input.sk-hidden--visually {border: 0;clip: rect(1px 1px 1px 1px);clip: rect(1px, 1px, 1px, 1px);height: 1px;margin: -1px;overflow: hidden;padding: 0;position: absolute;width: 1px;}#sk-container-id-2 div.sk-estimator {font-family: monospace;background-color: #f0f8ff;border: 1px dotted black;border-radius: 0.25em;box-sizing: border-box;margin-bottom: 0.5em;}#sk-container-id-2 div.sk-estimator:hover {background-color: #d4ebff;}#sk-container-id-2 div.sk-parallel-item::after {content: \"\";width: 100%;border-bottom: 1px solid gray;flex-grow: 1;}#sk-container-id-2 div.sk-label:hover label.sk-toggleable__label {background-color: #d4ebff;}#sk-container-id-2 div.sk-serial::before {content: \"\";position: absolute;border-left: 1px solid gray;box-sizing: border-box;top: 0;bottom: 0;left: 50%;z-index: 0;}#sk-container-id-2 div.sk-serial {display: flex;flex-direction: column;align-items: center;background-color: white;padding-right: 0.2em;padding-left: 0.2em;position: relative;}#sk-container-id-2 div.sk-item {position: relative;z-index: 1;}#sk-container-id-2 div.sk-parallel {display: flex;align-items: stretch;justify-content: center;background-color: white;position: relative;}#sk-container-id-2 div.sk-item::before, #sk-container-id-2 div.sk-parallel-item::before {content: \"\";position: absolute;border-left: 1px solid gray;box-sizing: border-box;top: 0;bottom: 0;left: 50%;z-index: -1;}#sk-container-id-2 div.sk-parallel-item {display: flex;flex-direction: column;z-index: 1;position: relative;background-color: white;}#sk-container-id-2 div.sk-parallel-item:first-child::after {align-self: flex-end;width: 50%;}#sk-container-id-2 div.sk-parallel-item:last-child::after {align-self: flex-start;width: 50%;}#sk-container-id-2 div.sk-parallel-item:only-child::after {width: 0;}#sk-container-id-2 div.sk-dashed-wrapped {border: 1px dashed gray;margin: 0 0.4em 0.5em 0.4em;box-sizing: border-box;padding-bottom: 0.4em;background-color: white;}#sk-container-id-2 div.sk-label label {font-family: monospace;font-weight: bold;display: inline-block;line-height: 1.2em;}#sk-container-id-2 div.sk-label-container {text-align: center;}#sk-container-id-2 div.sk-container {/* jupyter's `normalize.less` sets `[hidden] { display: none; }` but bootstrap.min.css set `[hidden] { display: none !important; }` so we also need the `!important` here to be able to override the default hidden behavior on the sphinx rendered scikit-learn.org. See: https://github.com/scikit-learn/scikit-learn/issues/21755 */display: inline-block !important;position: relative;}#sk-container-id-2 div.sk-text-repr-fallback {display: none;}</style><div id=\"sk-container-id-2\" class=\"sk-top-container\"><div class=\"sk-text-repr-fallback\"><pre>LocalOutlierFactor(novelty=True)</pre><b>In a Jupyter environment, please rerun this cell to show the HTML representation or trust the notebook. <br />On GitHub, the HTML representation is unable to render, please try loading this page with nbviewer.org.</b></div><div class=\"sk-container\" hidden><div class=\"sk-item\"><div class=\"sk-estimator sk-toggleable\"><input class=\"sk-toggleable__control sk-hidden--visually\" id=\"sk-estimator-id-2\" type=\"checkbox\" checked><label for=\"sk-estimator-id-2\" class=\"sk-toggleable__label sk-toggleable__label-arrow\">LocalOutlierFactor</label><div class=\"sk-toggleable__content\"><pre>LocalOutlierFactor(novelty=True)</pre></div></div></div></div></div>"
      ],
      "text/plain": [
       "LocalOutlierFactor(novelty=True)"
      ]
     },
     "execution_count": 61,
     "metadata": {},
     "output_type": "execute_result"
    }
   ],
   "source": [
    "lof.fit(data[[\"price\"]])"
   ]
  },
  {
   "cell_type": "code",
   "execution_count": 62,
   "id": "b4818794",
   "metadata": {},
   "outputs": [
    {
     "name": "stderr",
     "output_type": "stream",
     "text": [
      "/usr/local/python3/lib/python3.10/site-packages/sklearn/base.py:450: UserWarning: X does not have valid feature names, but LocalOutlierFactor was fitted with feature names\n",
      "  warnings.warn(\n"
     ]
    }
   ],
   "source": [
    "data[\"price_lof\"] =  lof.predict(data[[\"price\"]])"
   ]
  },
  {
   "cell_type": "code",
   "execution_count": 63,
   "id": "b2eb0021",
   "metadata": {},
   "outputs": [
    {
     "name": "stdout",
     "output_type": "stream",
     "text": [
      "<class 'pandas.core.frame.DataFrame'>\n",
      "RangeIndex: 4000 entries, 0 to 3999\n",
      "Data columns (total 15 columns):\n",
      " #   Column         Non-Null Count  Dtype  \n",
      "---  ------         --------------  -----  \n",
      " 0   region         4000 non-null   object \n",
      " 1   price          4000 non-null   float64\n",
      " 2   year           4000 non-null   float64\n",
      " 3   manufacturer   4000 non-null   object \n",
      " 4   model          4000 non-null   object \n",
      " 5   fuel           4000 non-null   object \n",
      " 6   odometer       4000 non-null   float64\n",
      " 7   title_status   4000 non-null   object \n",
      " 8   transmission   4000 non-null   object \n",
      " 9   description    4000 non-null   object \n",
      " 10  state          4000 non-null   object \n",
      " 11  lat            4000 non-null   float64\n",
      " 12  long           4000 non-null   float64\n",
      " 13  price_lof      4000 non-null   int64  \n",
      " 14  price_lof_nof  4000 non-null   float64\n",
      "dtypes: float64(6), int64(1), object(8)\n",
      "memory usage: 468.9+ KB\n"
     ]
    }
   ],
   "source": [
    "data.info()"
   ]
  },
  {
   "cell_type": "code",
   "execution_count": 64,
   "id": "dc8beea0",
   "metadata": {},
   "outputs": [
    {
     "data": {
      "text/html": [
       "<div>\n",
       "<style scoped>\n",
       "    .dataframe tbody tr th:only-of-type {\n",
       "        vertical-align: middle;\n",
       "    }\n",
       "\n",
       "    .dataframe tbody tr th {\n",
       "        vertical-align: top;\n",
       "    }\n",
       "\n",
       "    .dataframe thead th {\n",
       "        text-align: right;\n",
       "    }\n",
       "</style>\n",
       "<table border=\"1\" class=\"dataframe\">\n",
       "  <thead>\n",
       "    <tr style=\"text-align: right;\">\n",
       "      <th></th>\n",
       "      <th>price_lof</th>\n",
       "    </tr>\n",
       "  </thead>\n",
       "  <tbody>\n",
       "    <tr>\n",
       "      <th>0</th>\n",
       "      <td>1</td>\n",
       "    </tr>\n",
       "    <tr>\n",
       "      <th>1</th>\n",
       "      <td>1</td>\n",
       "    </tr>\n",
       "    <tr>\n",
       "      <th>2</th>\n",
       "      <td>-1</td>\n",
       "    </tr>\n",
       "    <tr>\n",
       "      <th>3</th>\n",
       "      <td>1</td>\n",
       "    </tr>\n",
       "    <tr>\n",
       "      <th>4</th>\n",
       "      <td>1</td>\n",
       "    </tr>\n",
       "    <tr>\n",
       "      <th>...</th>\n",
       "      <td>...</td>\n",
       "    </tr>\n",
       "    <tr>\n",
       "      <th>3995</th>\n",
       "      <td>1</td>\n",
       "    </tr>\n",
       "    <tr>\n",
       "      <th>3996</th>\n",
       "      <td>1</td>\n",
       "    </tr>\n",
       "    <tr>\n",
       "      <th>3997</th>\n",
       "      <td>1</td>\n",
       "    </tr>\n",
       "    <tr>\n",
       "      <th>3998</th>\n",
       "      <td>1</td>\n",
       "    </tr>\n",
       "    <tr>\n",
       "      <th>3999</th>\n",
       "      <td>1</td>\n",
       "    </tr>\n",
       "  </tbody>\n",
       "</table>\n",
       "<p>4000 rows × 1 columns</p>\n",
       "</div>"
      ],
      "text/plain": [
       "      price_lof\n",
       "0             1\n",
       "1             1\n",
       "2            -1\n",
       "3             1\n",
       "4             1\n",
       "...         ...\n",
       "3995          1\n",
       "3996          1\n",
       "3997          1\n",
       "3998          1\n",
       "3999          1\n",
       "\n",
       "[4000 rows x 1 columns]"
      ]
     },
     "execution_count": 64,
     "metadata": {},
     "output_type": "execute_result"
    }
   ],
   "source": [
    "data[[\"price_lof\"]]"
   ]
  },
  {
   "cell_type": "code",
   "execution_count": 65,
   "id": "3a8c9d26",
   "metadata": {},
   "outputs": [
    {
     "data": {
      "text/html": [
       "<div>\n",
       "<style scoped>\n",
       "    .dataframe tbody tr th:only-of-type {\n",
       "        vertical-align: middle;\n",
       "    }\n",
       "\n",
       "    .dataframe tbody tr th {\n",
       "        vertical-align: top;\n",
       "    }\n",
       "\n",
       "    .dataframe thead th {\n",
       "        text-align: right;\n",
       "    }\n",
       "</style>\n",
       "<table border=\"1\" class=\"dataframe\">\n",
       "  <thead>\n",
       "    <tr style=\"text-align: right;\">\n",
       "      <th></th>\n",
       "      <th>price</th>\n",
       "      <th>price_lof</th>\n",
       "    </tr>\n",
       "  </thead>\n",
       "  <tbody>\n",
       "    <tr>\n",
       "      <th>0</th>\n",
       "      <td>6995.0</td>\n",
       "      <td>1</td>\n",
       "    </tr>\n",
       "    <tr>\n",
       "      <th>1</th>\n",
       "      <td>8750.0</td>\n",
       "      <td>1</td>\n",
       "    </tr>\n",
       "    <tr>\n",
       "      <th>2</th>\n",
       "      <td>10900.0</td>\n",
       "      <td>-1</td>\n",
       "    </tr>\n",
       "    <tr>\n",
       "      <th>3</th>\n",
       "      <td>12500.0</td>\n",
       "      <td>1</td>\n",
       "    </tr>\n",
       "    <tr>\n",
       "      <th>4</th>\n",
       "      <td>16995.0</td>\n",
       "      <td>1</td>\n",
       "    </tr>\n",
       "    <tr>\n",
       "      <th>...</th>\n",
       "      <td>...</td>\n",
       "      <td>...</td>\n",
       "    </tr>\n",
       "    <tr>\n",
       "      <th>3995</th>\n",
       "      <td>29999.0</td>\n",
       "      <td>1</td>\n",
       "    </tr>\n",
       "    <tr>\n",
       "      <th>3996</th>\n",
       "      <td>59999.0</td>\n",
       "      <td>1</td>\n",
       "    </tr>\n",
       "    <tr>\n",
       "      <th>3997</th>\n",
       "      <td>19999.0</td>\n",
       "      <td>1</td>\n",
       "    </tr>\n",
       "    <tr>\n",
       "      <th>3998</th>\n",
       "      <td>15999.0</td>\n",
       "      <td>1</td>\n",
       "    </tr>\n",
       "    <tr>\n",
       "      <th>3999</th>\n",
       "      <td>7999.0</td>\n",
       "      <td>1</td>\n",
       "    </tr>\n",
       "  </tbody>\n",
       "</table>\n",
       "<p>4000 rows × 2 columns</p>\n",
       "</div>"
      ],
      "text/plain": [
       "        price  price_lof\n",
       "0      6995.0          1\n",
       "1      8750.0          1\n",
       "2     10900.0         -1\n",
       "3     12500.0          1\n",
       "4     16995.0          1\n",
       "...       ...        ...\n",
       "3995  29999.0          1\n",
       "3996  59999.0          1\n",
       "3997  19999.0          1\n",
       "3998  15999.0          1\n",
       "3999   7999.0          1\n",
       "\n",
       "[4000 rows x 2 columns]"
      ]
     },
     "execution_count": 65,
     "metadata": {},
     "output_type": "execute_result"
    }
   ],
   "source": [
    "data[[\"price\",\"price_lof\"]]"
   ]
  },
  {
   "cell_type": "code",
   "execution_count": 66,
   "id": "9a5c3a03",
   "metadata": {},
   "outputs": [
    {
     "data": {
      "text/plain": [
       " 1    2752\n",
       "-1    1248\n",
       "Name: price_lof, dtype: int64"
      ]
     },
     "execution_count": 66,
     "metadata": {},
     "output_type": "execute_result"
    }
   ],
   "source": [
    "# 离群因子输出\n",
    "data[\"price_lof\"].value_counts()\n"
   ]
  },
  {
   "cell_type": "code",
   "execution_count": 67,
   "id": "e1fe4466",
   "metadata": {},
   "outputs": [],
   "source": [
    "data[\"price_lof_nof\"] = -lof.negative_outlier_factor_"
   ]
  },
  {
   "cell_type": "code",
   "execution_count": 68,
   "id": "ccc20a9e",
   "metadata": {},
   "outputs": [
    {
     "data": {
      "text/html": [
       "<div>\n",
       "<style scoped>\n",
       "    .dataframe tbody tr th:only-of-type {\n",
       "        vertical-align: middle;\n",
       "    }\n",
       "\n",
       "    .dataframe tbody tr th {\n",
       "        vertical-align: top;\n",
       "    }\n",
       "\n",
       "    .dataframe thead th {\n",
       "        text-align: right;\n",
       "    }\n",
       "</style>\n",
       "<table border=\"1\" class=\"dataframe\">\n",
       "  <thead>\n",
       "    <tr style=\"text-align: right;\">\n",
       "      <th></th>\n",
       "      <th>price</th>\n",
       "      <th>price_lof_nof</th>\n",
       "    </tr>\n",
       "  </thead>\n",
       "  <tbody>\n",
       "    <tr>\n",
       "      <th>0</th>\n",
       "      <td>6995.0</td>\n",
       "      <td>1.000000</td>\n",
       "    </tr>\n",
       "    <tr>\n",
       "      <th>1</th>\n",
       "      <td>8750.0</td>\n",
       "      <td>1.486872</td>\n",
       "    </tr>\n",
       "    <tr>\n",
       "      <th>2</th>\n",
       "      <td>10900.0</td>\n",
       "      <td>1.914553</td>\n",
       "    </tr>\n",
       "    <tr>\n",
       "      <th>3</th>\n",
       "      <td>12500.0</td>\n",
       "      <td>0.990210</td>\n",
       "    </tr>\n",
       "    <tr>\n",
       "      <th>4</th>\n",
       "      <td>16995.0</td>\n",
       "      <td>1.000000</td>\n",
       "    </tr>\n",
       "    <tr>\n",
       "      <th>...</th>\n",
       "      <td>...</td>\n",
       "      <td>...</td>\n",
       "    </tr>\n",
       "    <tr>\n",
       "      <th>3995</th>\n",
       "      <td>29999.0</td>\n",
       "      <td>1.000000</td>\n",
       "    </tr>\n",
       "    <tr>\n",
       "      <th>3996</th>\n",
       "      <td>59999.0</td>\n",
       "      <td>0.983304</td>\n",
       "    </tr>\n",
       "    <tr>\n",
       "      <th>3997</th>\n",
       "      <td>19999.0</td>\n",
       "      <td>1.000000</td>\n",
       "    </tr>\n",
       "    <tr>\n",
       "      <th>3998</th>\n",
       "      <td>15999.0</td>\n",
       "      <td>1.010500</td>\n",
       "    </tr>\n",
       "    <tr>\n",
       "      <th>3999</th>\n",
       "      <td>7999.0</td>\n",
       "      <td>1.015862</td>\n",
       "    </tr>\n",
       "  </tbody>\n",
       "</table>\n",
       "<p>4000 rows × 2 columns</p>\n",
       "</div>"
      ],
      "text/plain": [
       "        price  price_lof_nof\n",
       "0      6995.0       1.000000\n",
       "1      8750.0       1.486872\n",
       "2     10900.0       1.914553\n",
       "3     12500.0       0.990210\n",
       "4     16995.0       1.000000\n",
       "...       ...            ...\n",
       "3995  29999.0       1.000000\n",
       "3996  59999.0       0.983304\n",
       "3997  19999.0       1.000000\n",
       "3998  15999.0       1.010500\n",
       "3999   7999.0       1.015862\n",
       "\n",
       "[4000 rows x 2 columns]"
      ]
     },
     "execution_count": 68,
     "metadata": {},
     "output_type": "execute_result"
    }
   ],
   "source": [
    "data[[\"price\",\"price_lof_nof\"]]"
   ]
  },
  {
   "cell_type": "code",
   "execution_count": 69,
   "id": "ddad5b1d",
   "metadata": {},
   "outputs": [],
   "source": [
    "data_lof=data[data.price_lof_nof<1.4]"
   ]
  },
  {
   "cell_type": "code",
   "execution_count": 70,
   "id": "c0a561bb",
   "metadata": {},
   "outputs": [
    {
     "name": "stdout",
     "output_type": "stream",
     "text": [
      "<class 'pandas.core.frame.DataFrame'>\n",
      "Int64Index: 2599 entries, 0 to 3999\n",
      "Data columns (total 15 columns):\n",
      " #   Column         Non-Null Count  Dtype  \n",
      "---  ------         --------------  -----  \n",
      " 0   region         2599 non-null   object \n",
      " 1   price          2599 non-null   float64\n",
      " 2   year           2599 non-null   float64\n",
      " 3   manufacturer   2599 non-null   object \n",
      " 4   model          2599 non-null   object \n",
      " 5   fuel           2599 non-null   object \n",
      " 6   odometer       2599 non-null   float64\n",
      " 7   title_status   2599 non-null   object \n",
      " 8   transmission   2599 non-null   object \n",
      " 9   description    2599 non-null   object \n",
      " 10  state          2599 non-null   object \n",
      " 11  lat            2599 non-null   float64\n",
      " 12  long           2599 non-null   float64\n",
      " 13  price_lof      2599 non-null   int64  \n",
      " 14  price_lof_nof  2599 non-null   float64\n",
      "dtypes: float64(6), int64(1), object(8)\n",
      "memory usage: 324.9+ KB\n"
     ]
    }
   ],
   "source": [
    "data_lof.info()"
   ]
  },
  {
   "cell_type": "code",
   "execution_count": 71,
   "id": "d662f942",
   "metadata": {},
   "outputs": [],
   "source": [
    "# "
   ]
  },
  {
   "cell_type": "code",
   "execution_count": 72,
   "id": "c5aa4b97",
   "metadata": {},
   "outputs": [],
   "source": [
    "from sklearn.preprocessing import RobustScaler"
   ]
  },
  {
   "cell_type": "code",
   "execution_count": null,
   "id": "b4660ca1",
   "metadata": {},
   "outputs": [],
   "source": []
  },
  {
   "cell_type": "code",
   "execution_count": null,
   "id": "05ddeeb7",
   "metadata": {},
   "outputs": [],
   "source": []
  },
  {
   "cell_type": "code",
   "execution_count": null,
   "id": "7dd2bd7b",
   "metadata": {},
   "outputs": [],
   "source": []
  },
  {
   "cell_type": "code",
   "execution_count": null,
   "id": "ee477df7",
   "metadata": {},
   "outputs": [],
   "source": []
  },
  {
   "cell_type": "code",
   "execution_count": null,
   "id": "3b69e9e6",
   "metadata": {},
   "outputs": [],
   "source": []
  },
  {
   "cell_type": "code",
   "execution_count": null,
   "id": "4813180a",
   "metadata": {},
   "outputs": [],
   "source": []
  },
  {
   "cell_type": "code",
   "execution_count": null,
   "id": "c9749a67",
   "metadata": {},
   "outputs": [],
   "source": []
  },
  {
   "cell_type": "code",
   "execution_count": null,
   "id": "505e222d",
   "metadata": {},
   "outputs": [],
   "source": []
  },
  {
   "cell_type": "code",
   "execution_count": null,
   "id": "9adb5bcc",
   "metadata": {},
   "outputs": [],
   "source": []
  },
  {
   "cell_type": "code",
   "execution_count": null,
   "id": "a8080970",
   "metadata": {},
   "outputs": [],
   "source": []
  },
  {
   "cell_type": "code",
   "execution_count": null,
   "id": "355f73f5",
   "metadata": {},
   "outputs": [],
   "source": []
  }
 ],
 "metadata": {
  "kernelspec": {
   "display_name": "Python 3 (ipykernel)",
   "language": "python",
   "name": "python3"
  },
  "language_info": {
   "codemirror_mode": {
    "name": "ipython",
    "version": 3
   },
   "file_extension": ".py",
   "mimetype": "text/x-python",
   "name": "python",
   "nbconvert_exporter": "python",
   "pygments_lexer": "ipython3",
   "version": "3.10.4"
  }
 },
 "nbformat": 4,
 "nbformat_minor": 5
}
