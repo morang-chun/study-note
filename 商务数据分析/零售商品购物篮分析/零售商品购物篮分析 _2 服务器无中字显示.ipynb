{
 "cells": [
  {
   "cell_type": "code",
   "execution_count": 1,
   "id": "6e73fcb6",
   "metadata": {},
   "outputs": [],
   "source": [
    "import pandas as pd\n",
    "data = pd.read_csv('./GoodsOrder.csv',encoding='gbk')\n",
    "types = pd.read_csv('./GoodsTypes.csv',encoding='gbk')"
   ]
  },
  {
   "cell_type": "code",
   "execution_count": 2,
   "id": "98033b8d",
   "metadata": {},
   "outputs": [
    {
     "data": {
      "text/html": [
       "<div>\n",
       "<style scoped>\n",
       "    .dataframe tbody tr th:only-of-type {\n",
       "        vertical-align: middle;\n",
       "    }\n",
       "\n",
       "    .dataframe tbody tr th {\n",
       "        vertical-align: top;\n",
       "    }\n",
       "\n",
       "    .dataframe thead th {\n",
       "        text-align: right;\n",
       "    }\n",
       "</style>\n",
       "<table border=\"1\" class=\"dataframe\">\n",
       "  <thead>\n",
       "    <tr style=\"text-align: right;\">\n",
       "      <th></th>\n",
       "      <th>id</th>\n",
       "      <th>Goods</th>\n",
       "    </tr>\n",
       "  </thead>\n",
       "  <tbody>\n",
       "    <tr>\n",
       "      <th>0</th>\n",
       "      <td>1</td>\n",
       "      <td>柑橘类水果</td>\n",
       "    </tr>\n",
       "    <tr>\n",
       "      <th>1</th>\n",
       "      <td>1</td>\n",
       "      <td>人造黄油</td>\n",
       "    </tr>\n",
       "    <tr>\n",
       "      <th>2</th>\n",
       "      <td>1</td>\n",
       "      <td>即食汤</td>\n",
       "    </tr>\n",
       "    <tr>\n",
       "      <th>3</th>\n",
       "      <td>1</td>\n",
       "      <td>半成品面包</td>\n",
       "    </tr>\n",
       "    <tr>\n",
       "      <th>4</th>\n",
       "      <td>2</td>\n",
       "      <td>咖啡</td>\n",
       "    </tr>\n",
       "  </tbody>\n",
       "</table>\n",
       "</div>"
      ],
      "text/plain": [
       "   id  Goods\n",
       "0   1  柑橘类水果\n",
       "1   1   人造黄油\n",
       "2   1    即食汤\n",
       "3   1  半成品面包\n",
       "4   2     咖啡"
      ]
     },
     "execution_count": 2,
     "metadata": {},
     "output_type": "execute_result"
    }
   ],
   "source": [
    "data.head()"
   ]
  },
  {
   "cell_type": "code",
   "execution_count": 3,
   "id": "618b5224",
   "metadata": {},
   "outputs": [
    {
     "data": {
      "text/html": [
       "<div>\n",
       "<style scoped>\n",
       "    .dataframe tbody tr th:only-of-type {\n",
       "        vertical-align: middle;\n",
       "    }\n",
       "\n",
       "    .dataframe tbody tr th {\n",
       "        vertical-align: top;\n",
       "    }\n",
       "\n",
       "    .dataframe thead th {\n",
       "        text-align: right;\n",
       "    }\n",
       "</style>\n",
       "<table border=\"1\" class=\"dataframe\">\n",
       "  <thead>\n",
       "    <tr style=\"text-align: right;\">\n",
       "      <th></th>\n",
       "      <th>Goods</th>\n",
       "      <th>Types</th>\n",
       "    </tr>\n",
       "  </thead>\n",
       "  <tbody>\n",
       "    <tr>\n",
       "      <th>0</th>\n",
       "      <td>白饭</td>\n",
       "      <td>熟食</td>\n",
       "    </tr>\n",
       "    <tr>\n",
       "      <th>1</th>\n",
       "      <td>白酒</td>\n",
       "      <td>酒精饮料</td>\n",
       "    </tr>\n",
       "    <tr>\n",
       "      <th>2</th>\n",
       "      <td>白兰地</td>\n",
       "      <td>酒精饮料</td>\n",
       "    </tr>\n",
       "    <tr>\n",
       "      <th>3</th>\n",
       "      <td>白面包</td>\n",
       "      <td>西点</td>\n",
       "    </tr>\n",
       "    <tr>\n",
       "      <th>4</th>\n",
       "      <td>半成品面包</td>\n",
       "      <td>西点</td>\n",
       "    </tr>\n",
       "  </tbody>\n",
       "</table>\n",
       "</div>"
      ],
      "text/plain": [
       "   Goods Types\n",
       "0     白饭    熟食\n",
       "1     白酒  酒精饮料\n",
       "2    白兰地  酒精饮料\n",
       "3    白面包    西点\n",
       "4  半成品面包    西点"
      ]
     },
     "execution_count": 3,
     "metadata": {},
     "output_type": "execute_result"
    }
   ],
   "source": [
    "types.head()"
   ]
  },
  {
   "cell_type": "markdown",
   "id": "4460b6cb",
   "metadata": {},
   "source": [
    "# 探索性分析"
   ]
  },
  {
   "cell_type": "code",
   "execution_count": 4,
   "id": "ec270e73",
   "metadata": {},
   "outputs": [],
   "source": [
    "import numpy as np"
   ]
  },
  {
   "cell_type": "code",
   "execution_count": 5,
   "id": "cd07baa0",
   "metadata": {},
   "outputs": [
    {
     "name": "stdout",
     "output_type": "stream",
     "text": [
      "<class 'pandas.core.frame.DataFrame'>\n",
      "RangeIndex: 43285 entries, 0 to 43284\n",
      "Data columns (total 2 columns):\n",
      " #   Column  Non-Null Count  Dtype \n",
      "---  ------  --------------  ----- \n",
      " 0   id      43285 non-null  int64 \n",
      " 1   Goods   43285 non-null  object\n",
      "dtypes: int64(1), object(1)\n",
      "memory usage: 676.5+ KB\n"
     ]
    }
   ],
   "source": [
    "data.info()"
   ]
  },
  {
   "cell_type": "code",
   "execution_count": 6,
   "id": "180c89dc",
   "metadata": {},
   "outputs": [
    {
     "data": {
      "text/plain": [
       "count    43285.000000\n",
       "mean      4907.985723\n",
       "std       2843.314189\n",
       "min          1.000000\n",
       "25%       2455.000000\n",
       "50%       4826.000000\n",
       "75%       7381.000000\n",
       "max       9835.000000\n",
       "Name: id, dtype: float64"
      ]
     },
     "execution_count": 6,
     "metadata": {},
     "output_type": "execute_result"
    }
   ],
   "source": [
    "data['id'].describe()"
   ]
  },
  {
   "cell_type": "markdown",
   "id": "9cec1d24",
   "metadata": {},
   "source": [
    "# 绘制条形图分析热销商品"
   ]
  },
  {
   "cell_type": "markdown",
   "id": "bf0a323c",
   "metadata": {},
   "source": [
    "## 销量排行前10 的商品的销量及其占比"
   ]
  },
  {
   "cell_type": "code",
   "execution_count": 7,
   "id": "35da10fd",
   "metadata": {},
   "outputs": [],
   "source": [
    "group = data.groupby(['Goods']).count().reset_index()"
   ]
  },
  {
   "cell_type": "code",
   "execution_count": 8,
   "id": "a8ff2299",
   "metadata": {},
   "outputs": [],
   "source": [
    "sort = group.sort_values('id',ascending=False)"
   ]
  },
  {
   "cell_type": "code",
   "execution_count": 9,
   "id": "327ffa74",
   "metadata": {},
   "outputs": [
    {
     "name": "stdout",
     "output_type": "stream",
     "text": [
      "销量排行前10 的商品的销量：\n",
      "      Goods    id\n",
      "6     全脂牛奶  2513\n",
      "7     其他蔬菜  1903\n",
      "154    面包卷  1809\n",
      "133    苏打水  1715\n",
      "149     酸奶  1372\n",
      "98     瓶装水  1087\n",
      "69   根茎类蔬菜  1072\n",
      "84    热带水果  1032\n",
      "142    购物袋   969\n",
      "159     香肠   924\n"
     ]
    }
   ],
   "source": [
    "print('销量排行前10 的商品的销量：\\n',sort[:10])"
   ]
  },
  {
   "cell_type": "code",
   "execution_count": 10,
   "id": "8fcb46a4",
   "metadata": {},
   "outputs": [],
   "source": [
    "data_nums = data.shape[0]"
   ]
  },
  {
   "cell_type": "code",
   "execution_count": 11,
   "id": "e502f4c6",
   "metadata": {},
   "outputs": [
    {
     "name": "stdout",
     "output_type": "stream",
     "text": [
      "全脂牛奶 2513 0.058057063647914985\n",
      "其他蔬菜 1903 0.043964421855146124\n",
      "面包卷 1809 0.04179276885757191\n",
      "苏打水 1715 0.03962111585999769\n",
      "酸奶 1372 0.03169689268799815\n",
      "瓶装水 1087 0.025112625620884833\n",
      "根茎类蔬菜 1072 0.0247660852489315\n",
      "热带水果 1032 0.02384197759038928\n",
      "购物袋 969 0.022386508028185283\n",
      "香肠 924 0.021346886912325287\n"
     ]
    }
   ],
   "source": [
    "for index,row in sort[:10].iterrows():\n",
    "    print(row['Goods'],row['id'],row['id']/data_nums)"
   ]
  },
  {
   "cell_type": "markdown",
   "id": "2166eda2",
   "metadata": {},
   "source": [
    "## 绘制条形图展示销量排行前10的商品的销量"
   ]
  },
  {
   "cell_type": "code",
   "execution_count": 12,
   "id": "d82901e0",
   "metadata": {},
   "outputs": [],
   "source": [
    "import matplotlib.pyplot as plt\n",
    "# 设置字体\n",
    "plt.rcParams['font.sans-serif']=['SimHei']"
   ]
  },
  {
   "cell_type": "code",
   "execution_count": 13,
   "id": "31ceeeba",
   "metadata": {},
   "outputs": [
    {
     "name": "stderr",
     "output_type": "stream",
     "text": [
      "findfont: Font family ['sans-serif'] not found. Falling back to DejaVu Sans.\n",
      "findfont: Generic family 'sans-serif' not found because none of the following families were found: SimHei\n",
      "/usr/local/python3/lib/python3.10/site-packages/IPython/core/pylabtools.py:151: UserWarning: Glyph 21830 (\\N{CJK UNIFIED IDEOGRAPH-5546}) missing from current font.\n",
      "  fig.canvas.print_figure(bytes_io, **kw)\n",
      "/usr/local/python3/lib/python3.10/site-packages/IPython/core/pylabtools.py:151: UserWarning: Glyph 21697 (\\N{CJK UNIFIED IDEOGRAPH-54C1}) missing from current font.\n",
      "  fig.canvas.print_figure(bytes_io, **kw)\n",
      "/usr/local/python3/lib/python3.10/site-packages/IPython/core/pylabtools.py:151: UserWarning: Glyph 30340 (\\N{CJK UNIFIED IDEOGRAPH-7684}) missing from current font.\n",
      "  fig.canvas.print_figure(bytes_io, **kw)\n",
      "/usr/local/python3/lib/python3.10/site-packages/IPython/core/pylabtools.py:151: UserWarning: Glyph 38144 (\\N{CJK UNIFIED IDEOGRAPH-9500}) missing from current font.\n",
      "  fig.canvas.print_figure(bytes_io, **kw)\n",
      "/usr/local/python3/lib/python3.10/site-packages/IPython/core/pylabtools.py:151: UserWarning: Glyph 37327 (\\N{CJK UNIFIED IDEOGRAPH-91CF}) missing from current font.\n",
      "  fig.canvas.print_figure(bytes_io, **kw)\n",
      "findfont: Font family ['sans-serif'] not found. Falling back to DejaVu Sans.\n",
      "findfont: Generic family 'sans-serif' not found because none of the following families were found: SimHei\n",
      "/usr/local/python3/lib/python3.10/site-packages/IPython/core/pylabtools.py:151: UserWarning: Glyph 20840 (\\N{CJK UNIFIED IDEOGRAPH-5168}) missing from current font.\n",
      "  fig.canvas.print_figure(bytes_io, **kw)\n",
      "/usr/local/python3/lib/python3.10/site-packages/IPython/core/pylabtools.py:151: UserWarning: Glyph 33026 (\\N{CJK UNIFIED IDEOGRAPH-8102}) missing from current font.\n",
      "  fig.canvas.print_figure(bytes_io, **kw)\n",
      "/usr/local/python3/lib/python3.10/site-packages/IPython/core/pylabtools.py:151: UserWarning: Glyph 29275 (\\N{CJK UNIFIED IDEOGRAPH-725B}) missing from current font.\n",
      "  fig.canvas.print_figure(bytes_io, **kw)\n",
      "/usr/local/python3/lib/python3.10/site-packages/IPython/core/pylabtools.py:151: UserWarning: Glyph 22902 (\\N{CJK UNIFIED IDEOGRAPH-5976}) missing from current font.\n",
      "  fig.canvas.print_figure(bytes_io, **kw)\n",
      "/usr/local/python3/lib/python3.10/site-packages/IPython/core/pylabtools.py:151: UserWarning: Glyph 20854 (\\N{CJK UNIFIED IDEOGRAPH-5176}) missing from current font.\n",
      "  fig.canvas.print_figure(bytes_io, **kw)\n",
      "/usr/local/python3/lib/python3.10/site-packages/IPython/core/pylabtools.py:151: UserWarning: Glyph 20182 (\\N{CJK UNIFIED IDEOGRAPH-4ED6}) missing from current font.\n",
      "  fig.canvas.print_figure(bytes_io, **kw)\n",
      "/usr/local/python3/lib/python3.10/site-packages/IPython/core/pylabtools.py:151: UserWarning: Glyph 34092 (\\N{CJK UNIFIED IDEOGRAPH-852C}) missing from current font.\n",
      "  fig.canvas.print_figure(bytes_io, **kw)\n",
      "/usr/local/python3/lib/python3.10/site-packages/IPython/core/pylabtools.py:151: UserWarning: Glyph 33756 (\\N{CJK UNIFIED IDEOGRAPH-83DC}) missing from current font.\n",
      "  fig.canvas.print_figure(bytes_io, **kw)\n",
      "/usr/local/python3/lib/python3.10/site-packages/IPython/core/pylabtools.py:151: UserWarning: Glyph 38754 (\\N{CJK UNIFIED IDEOGRAPH-9762}) missing from current font.\n",
      "  fig.canvas.print_figure(bytes_io, **kw)\n",
      "/usr/local/python3/lib/python3.10/site-packages/IPython/core/pylabtools.py:151: UserWarning: Glyph 21253 (\\N{CJK UNIFIED IDEOGRAPH-5305}) missing from current font.\n",
      "  fig.canvas.print_figure(bytes_io, **kw)\n",
      "/usr/local/python3/lib/python3.10/site-packages/IPython/core/pylabtools.py:151: UserWarning: Glyph 21367 (\\N{CJK UNIFIED IDEOGRAPH-5377}) missing from current font.\n",
      "  fig.canvas.print_figure(bytes_io, **kw)\n",
      "/usr/local/python3/lib/python3.10/site-packages/IPython/core/pylabtools.py:151: UserWarning: Glyph 33487 (\\N{CJK UNIFIED IDEOGRAPH-82CF}) missing from current font.\n",
      "  fig.canvas.print_figure(bytes_io, **kw)\n",
      "/usr/local/python3/lib/python3.10/site-packages/IPython/core/pylabtools.py:151: UserWarning: Glyph 25171 (\\N{CJK UNIFIED IDEOGRAPH-6253}) missing from current font.\n",
      "  fig.canvas.print_figure(bytes_io, **kw)\n",
      "/usr/local/python3/lib/python3.10/site-packages/IPython/core/pylabtools.py:151: UserWarning: Glyph 27700 (\\N{CJK UNIFIED IDEOGRAPH-6C34}) missing from current font.\n",
      "  fig.canvas.print_figure(bytes_io, **kw)\n",
      "/usr/local/python3/lib/python3.10/site-packages/IPython/core/pylabtools.py:151: UserWarning: Glyph 37240 (\\N{CJK UNIFIED IDEOGRAPH-9178}) missing from current font.\n",
      "  fig.canvas.print_figure(bytes_io, **kw)\n",
      "/usr/local/python3/lib/python3.10/site-packages/IPython/core/pylabtools.py:151: UserWarning: Glyph 29942 (\\N{CJK UNIFIED IDEOGRAPH-74F6}) missing from current font.\n",
      "  fig.canvas.print_figure(bytes_io, **kw)\n",
      "/usr/local/python3/lib/python3.10/site-packages/IPython/core/pylabtools.py:151: UserWarning: Glyph 35013 (\\N{CJK UNIFIED IDEOGRAPH-88C5}) missing from current font.\n",
      "  fig.canvas.print_figure(bytes_io, **kw)\n",
      "/usr/local/python3/lib/python3.10/site-packages/IPython/core/pylabtools.py:151: UserWarning: Glyph 26681 (\\N{CJK UNIFIED IDEOGRAPH-6839}) missing from current font.\n",
      "  fig.canvas.print_figure(bytes_io, **kw)\n",
      "/usr/local/python3/lib/python3.10/site-packages/IPython/core/pylabtools.py:151: UserWarning: Glyph 33550 (\\N{CJK UNIFIED IDEOGRAPH-830E}) missing from current font.\n",
      "  fig.canvas.print_figure(bytes_io, **kw)\n",
      "/usr/local/python3/lib/python3.10/site-packages/IPython/core/pylabtools.py:151: UserWarning: Glyph 31867 (\\N{CJK UNIFIED IDEOGRAPH-7C7B}) missing from current font.\n",
      "  fig.canvas.print_figure(bytes_io, **kw)\n",
      "/usr/local/python3/lib/python3.10/site-packages/IPython/core/pylabtools.py:151: UserWarning: Glyph 28909 (\\N{CJK UNIFIED IDEOGRAPH-70ED}) missing from current font.\n",
      "  fig.canvas.print_figure(bytes_io, **kw)\n",
      "/usr/local/python3/lib/python3.10/site-packages/IPython/core/pylabtools.py:151: UserWarning: Glyph 24102 (\\N{CJK UNIFIED IDEOGRAPH-5E26}) missing from current font.\n",
      "  fig.canvas.print_figure(bytes_io, **kw)\n",
      "/usr/local/python3/lib/python3.10/site-packages/IPython/core/pylabtools.py:151: UserWarning: Glyph 26524 (\\N{CJK UNIFIED IDEOGRAPH-679C}) missing from current font.\n",
      "  fig.canvas.print_figure(bytes_io, **kw)\n",
      "/usr/local/python3/lib/python3.10/site-packages/IPython/core/pylabtools.py:151: UserWarning: Glyph 36141 (\\N{CJK UNIFIED IDEOGRAPH-8D2D}) missing from current font.\n",
      "  fig.canvas.print_figure(bytes_io, **kw)\n",
      "/usr/local/python3/lib/python3.10/site-packages/IPython/core/pylabtools.py:151: UserWarning: Glyph 29289 (\\N{CJK UNIFIED IDEOGRAPH-7269}) missing from current font.\n",
      "  fig.canvas.print_figure(bytes_io, **kw)\n",
      "/usr/local/python3/lib/python3.10/site-packages/IPython/core/pylabtools.py:151: UserWarning: Glyph 34955 (\\N{CJK UNIFIED IDEOGRAPH-888B}) missing from current font.\n",
      "  fig.canvas.print_figure(bytes_io, **kw)\n",
      "/usr/local/python3/lib/python3.10/site-packages/IPython/core/pylabtools.py:151: UserWarning: Glyph 39321 (\\N{CJK UNIFIED IDEOGRAPH-9999}) missing from current font.\n",
      "  fig.canvas.print_figure(bytes_io, **kw)\n",
      "/usr/local/python3/lib/python3.10/site-packages/IPython/core/pylabtools.py:151: UserWarning: Glyph 32928 (\\N{CJK UNIFIED IDEOGRAPH-80A0}) missing from current font.\n",
      "  fig.canvas.print_figure(bytes_io, **kw)\n",
      "/usr/local/python3/lib/python3.10/site-packages/IPython/core/pylabtools.py:151: UserWarning: Glyph 21517 (\\N{CJK UNIFIED IDEOGRAPH-540D}) missing from current font.\n",
      "  fig.canvas.print_figure(bytes_io, **kw)\n",
      "/usr/local/python3/lib/python3.10/site-packages/IPython/core/pylabtools.py:151: UserWarning: Glyph 31216 (\\N{CJK UNIFIED IDEOGRAPH-79F0}) missing from current font.\n",
      "  fig.canvas.print_figure(bytes_io, **kw)\n"
     ]
    },
    {
     "data": {
      "image/png": "[encoded data removed]",
      "text/plain": [
       "<Figure size 576x432 with 1 Axes>"
      ]
     },
     "metadata": {
      "needs_background": "light"
     },
     "output_type": "display_data"
    }
   ],
   "source": [
    "x = sort[:10]['Goods']\n",
    "y = sort[:10]['id']\n",
    "plt.figure(figsize=(8,6))\n",
    "# plt.rc('font',size=12)\n",
    "plt.barh(x,y)\n",
    "# plt.rcParams['font.sans-serif'] = 'SimHei'\n",
    "plt.xlabel('销量')\n",
    "plt.ylabel('商品名称')\n",
    "plt.title('商品的销量TOP10')\n",
    "plt.show()"
   ]
  },
  {
   "cell_type": "markdown",
   "id": "c829aa84",
   "metadata": {},
   "source": [
    "##  绘制饼图分析商品结构"
   ]
  },
  {
   "cell_type": "code",
   "execution_count": 14,
   "id": "38b40b80",
   "metadata": {},
   "outputs": [],
   "source": [
    "group1 = data.groupby(['Goods']).count().reset_index()\n",
    "sort = group1.sort_values('id',ascending=False).reset_index()\n",
    "data_nums = data.shape[0]\n",
    "del sort['index']"
   ]
  },
  {
   "cell_type": "code",
   "execution_count": 15,
   "id": "b25ce689",
   "metadata": {},
   "outputs": [],
   "source": [
    "sort_links = pd.merge(sort,types)#根据type合并两个DataFrame"
   ]
  },
  {
   "cell_type": "code",
   "execution_count": 16,
   "id": "4dca4961",
   "metadata": {},
   "outputs": [],
   "source": [
    "# 根据类别求和，求每个商品类别的总量，排序\n",
    "sort_link = sort_links.groupby(['Types']).sum().reset_index()\n",
    "sort_link = sort_link.sort_values('id',ascending=False).reset_index()\n",
    "del sort_link['index']"
   ]
  },
  {
   "cell_type": "code",
   "execution_count": 17,
   "id": "bd2bfa5f",
   "metadata": {},
   "outputs": [
    {
     "name": "stdout",
     "output_type": "stream",
     "text": [
      "各类别商品的销量及其占比:\n",
      "    Types    id   percent\n",
      "0  非酒精饮料  7594  0.175442\n",
      "1     西点  7192  0.166155\n",
      "2     果蔬  7146  0.165092\n",
      "3   米粮调料  5185  0.119787\n",
      "4     百货  5141  0.118771\n",
      "5     肉类  4870  0.112510\n",
      "6   酒精饮料  2287  0.052836\n",
      "7    食品类  1870  0.043202\n",
      "8     零食  1459  0.033707\n",
      "9     熟食   541  0.012499\n"
     ]
    }
   ],
   "source": [
    "# 求百分比，然后更换列名，最后输出到文件\n",
    "sort_link['count']=sort_link.apply(lambda line:line['id']/data_nums,axis=1)\n",
    "sort_link.rename(columns={'count':'percent'},inplace=True)\n",
    "print('各类别商品的销量及其占比:\\n',sort_link)\n",
    "outfile = './precent.csv'\n",
    "sort_link.to_csv(outfile,index=False,header=True,encoding='gbk')\n"
   ]
  },
  {
   "cell_type": "markdown",
   "id": "d25167a8",
   "metadata": {},
   "source": [
    "### 绘制饼图展示每一类商品销量占比"
   ]
  },
  {
   "cell_type": "code",
   "execution_count": 18,
   "id": "2fbc3e7f",
   "metadata": {},
   "outputs": [
    {
     "name": "stderr",
     "output_type": "stream",
     "text": [
      "findfont: Font family ['sans-serif'] not found. Falling back to DejaVu Sans.\n",
      "findfont: Generic family 'sans-serif' not found because none of the following families were found: SimHei\n",
      "/usr/local/python3/lib/python3.10/site-packages/IPython/core/pylabtools.py:151: UserWarning: Glyph 21508 (\\N{CJK UNIFIED IDEOGRAPH-5404}) missing from current font.\n",
      "  fig.canvas.print_figure(bytes_io, **kw)\n",
      "/usr/local/python3/lib/python3.10/site-packages/IPython/core/pylabtools.py:151: UserWarning: Glyph 31867 (\\N{CJK UNIFIED IDEOGRAPH-7C7B}) missing from current font.\n",
      "  fig.canvas.print_figure(bytes_io, **kw)\n",
      "/usr/local/python3/lib/python3.10/site-packages/IPython/core/pylabtools.py:151: UserWarning: Glyph 21035 (\\N{CJK UNIFIED IDEOGRAPH-522B}) missing from current font.\n",
      "  fig.canvas.print_figure(bytes_io, **kw)\n",
      "/usr/local/python3/lib/python3.10/site-packages/IPython/core/pylabtools.py:151: UserWarning: Glyph 21830 (\\N{CJK UNIFIED IDEOGRAPH-5546}) missing from current font.\n",
      "  fig.canvas.print_figure(bytes_io, **kw)\n",
      "/usr/local/python3/lib/python3.10/site-packages/IPython/core/pylabtools.py:151: UserWarning: Glyph 21697 (\\N{CJK UNIFIED IDEOGRAPH-54C1}) missing from current font.\n",
      "  fig.canvas.print_figure(bytes_io, **kw)\n",
      "/usr/local/python3/lib/python3.10/site-packages/IPython/core/pylabtools.py:151: UserWarning: Glyph 38144 (\\N{CJK UNIFIED IDEOGRAPH-9500}) missing from current font.\n",
      "  fig.canvas.print_figure(bytes_io, **kw)\n",
      "/usr/local/python3/lib/python3.10/site-packages/IPython/core/pylabtools.py:151: UserWarning: Glyph 37327 (\\N{CJK UNIFIED IDEOGRAPH-91CF}) missing from current font.\n",
      "  fig.canvas.print_figure(bytes_io, **kw)\n",
      "/usr/local/python3/lib/python3.10/site-packages/IPython/core/pylabtools.py:151: UserWarning: Glyph 21344 (\\N{CJK UNIFIED IDEOGRAPH-5360}) missing from current font.\n",
      "  fig.canvas.print_figure(bytes_io, **kw)\n",
      "/usr/local/python3/lib/python3.10/site-packages/IPython/core/pylabtools.py:151: UserWarning: Glyph 27604 (\\N{CJK UNIFIED IDEOGRAPH-6BD4}) missing from current font.\n",
      "  fig.canvas.print_figure(bytes_io, **kw)\n",
      "/usr/local/python3/lib/python3.10/site-packages/IPython/core/pylabtools.py:151: UserWarning: Glyph 38750 (\\N{CJK UNIFIED IDEOGRAPH-975E}) missing from current font.\n",
      "  fig.canvas.print_figure(bytes_io, **kw)\n",
      "/usr/local/python3/lib/python3.10/site-packages/IPython/core/pylabtools.py:151: UserWarning: Glyph 37202 (\\N{CJK UNIFIED IDEOGRAPH-9152}) missing from current font.\n",
      "  fig.canvas.print_figure(bytes_io, **kw)\n",
      "/usr/local/python3/lib/python3.10/site-packages/IPython/core/pylabtools.py:151: UserWarning: Glyph 31934 (\\N{CJK UNIFIED IDEOGRAPH-7CBE}) missing from current font.\n",
      "  fig.canvas.print_figure(bytes_io, **kw)\n",
      "/usr/local/python3/lib/python3.10/site-packages/IPython/core/pylabtools.py:151: UserWarning: Glyph 39278 (\\N{CJK UNIFIED IDEOGRAPH-996E}) missing from current font.\n",
      "  fig.canvas.print_figure(bytes_io, **kw)\n",
      "/usr/local/python3/lib/python3.10/site-packages/IPython/core/pylabtools.py:151: UserWarning: Glyph 26009 (\\N{CJK UNIFIED IDEOGRAPH-6599}) missing from current font.\n",
      "  fig.canvas.print_figure(bytes_io, **kw)\n",
      "/usr/local/python3/lib/python3.10/site-packages/IPython/core/pylabtools.py:151: UserWarning: Glyph 35199 (\\N{CJK UNIFIED IDEOGRAPH-897F}) missing from current font.\n",
      "  fig.canvas.print_figure(bytes_io, **kw)\n",
      "/usr/local/python3/lib/python3.10/site-packages/IPython/core/pylabtools.py:151: UserWarning: Glyph 28857 (\\N{CJK UNIFIED IDEOGRAPH-70B9}) missing from current font.\n",
      "  fig.canvas.print_figure(bytes_io, **kw)\n",
      "/usr/local/python3/lib/python3.10/site-packages/IPython/core/pylabtools.py:151: UserWarning: Glyph 26524 (\\N{CJK UNIFIED IDEOGRAPH-679C}) missing from current font.\n",
      "  fig.canvas.print_figure(bytes_io, **kw)\n",
      "/usr/local/python3/lib/python3.10/site-packages/IPython/core/pylabtools.py:151: UserWarning: Glyph 34092 (\\N{CJK UNIFIED IDEOGRAPH-852C}) missing from current font.\n",
      "  fig.canvas.print_figure(bytes_io, **kw)\n",
      "/usr/local/python3/lib/python3.10/site-packages/IPython/core/pylabtools.py:151: UserWarning: Glyph 31859 (\\N{CJK UNIFIED IDEOGRAPH-7C73}) missing from current font.\n",
      "  fig.canvas.print_figure(bytes_io, **kw)\n",
      "/usr/local/python3/lib/python3.10/site-packages/IPython/core/pylabtools.py:151: UserWarning: Glyph 31918 (\\N{CJK UNIFIED IDEOGRAPH-7CAE}) missing from current font.\n",
      "  fig.canvas.print_figure(bytes_io, **kw)\n",
      "/usr/local/python3/lib/python3.10/site-packages/IPython/core/pylabtools.py:151: UserWarning: Glyph 35843 (\\N{CJK UNIFIED IDEOGRAPH-8C03}) missing from current font.\n",
      "  fig.canvas.print_figure(bytes_io, **kw)\n",
      "/usr/local/python3/lib/python3.10/site-packages/IPython/core/pylabtools.py:151: UserWarning: Glyph 30334 (\\N{CJK UNIFIED IDEOGRAPH-767E}) missing from current font.\n",
      "  fig.canvas.print_figure(bytes_io, **kw)\n",
      "/usr/local/python3/lib/python3.10/site-packages/IPython/core/pylabtools.py:151: UserWarning: Glyph 36135 (\\N{CJK UNIFIED IDEOGRAPH-8D27}) missing from current font.\n",
      "  fig.canvas.print_figure(bytes_io, **kw)\n",
      "/usr/local/python3/lib/python3.10/site-packages/IPython/core/pylabtools.py:151: UserWarning: Glyph 32905 (\\N{CJK UNIFIED IDEOGRAPH-8089}) missing from current font.\n",
      "  fig.canvas.print_figure(bytes_io, **kw)\n",
      "/usr/local/python3/lib/python3.10/site-packages/IPython/core/pylabtools.py:151: UserWarning: Glyph 39135 (\\N{CJK UNIFIED IDEOGRAPH-98DF}) missing from current font.\n",
      "  fig.canvas.print_figure(bytes_io, **kw)\n",
      "/usr/local/python3/lib/python3.10/site-packages/IPython/core/pylabtools.py:151: UserWarning: Glyph 38646 (\\N{CJK UNIFIED IDEOGRAPH-96F6}) missing from current font.\n",
      "  fig.canvas.print_figure(bytes_io, **kw)\n",
      "/usr/local/python3/lib/python3.10/site-packages/IPython/core/pylabtools.py:151: UserWarning: Glyph 29087 (\\N{CJK UNIFIED IDEOGRAPH-719F}) missing from current font.\n",
      "  fig.canvas.print_figure(bytes_io, **kw)\n"
     ]
    },
    {
     "data": {
      "image/png": "[encoded data removed]",
      "text/plain": [
       "<Figure size 432x288 with 1 Axes>"
      ]
     },
     "metadata": {},
     "output_type": "display_data"
    }
   ],
   "source": [
    "data1 = sort_link['percent']\n",
    "labels = sort_link['Types']\n",
    "plt.rc('font',size=12)\n",
    "plt.pie(data1,labels=labels,autopct='%1.2f%%')\n",
    "plt.title('各类别商品销量占比')\n",
    "plt.show()"
   ]
  },
  {
   "cell_type": "markdown",
   "id": "cef931e7",
   "metadata": {},
   "source": [
    "## 查看销量第一的非酒精饮料的内部商品结构，绘制饼图显示其销量占比情况"
   ]
  },
  {
   "cell_type": "code",
   "execution_count": 19,
   "id": "2cd720c4",
   "metadata": {},
   "outputs": [],
   "source": [
    "# 先筛选非酒精饮料类别的商品，求百分比\n",
    "selected = sort_links.loc[sort_links['Types']=='非酒精饮料']"
   ]
  },
  {
   "cell_type": "code",
   "execution_count": 20,
   "id": "49b159e3",
   "metadata": {},
   "outputs": [
    {
     "name": "stdout",
     "output_type": "stream",
     "text": [
      "非酒精饮料的内部商品的销量及其占比:\n",
      "         Goods  count  Types  child_percent\n",
      "0        全脂牛奶   2513  非酒精饮料       0.330919\n",
      "3         苏打水   1715  非酒精饮料       0.225836\n",
      "5         瓶装水   1087  非酒精饮料       0.143139\n",
      "16     水果/蔬菜汁    711  非酒精饮料       0.093627\n",
      "22         咖啡    571  非酒精饮料       0.075191\n",
      "38   超高温杀菌的牛奶    329  非酒精饮料       0.043324\n",
      "45       其他饮料    279  非酒精饮料       0.036740\n",
      "51       一般饮料    256  非酒精饮料       0.033711\n",
      "101      速溶咖啡     73  非酒精饮料       0.009613\n",
      "125         茶     38  非酒精饮料       0.005004\n",
      "143      可可饮料     22  非酒精饮料       0.002897\n"
     ]
    },
    {
     "name": "stderr",
     "output_type": "stream",
     "text": [
      "/tmp/ipykernel_36542/896555734.py:2: SettingWithCopyWarning: \n",
      "A value is trying to be set on a copy of a slice from a DataFrame.\n",
      "Try using .loc[row_indexer,col_indexer] = value instead\n",
      "\n",
      "See the caveats in the documentation: https://pandas.pydata.org/pandas-docs/stable/user_guide/indexing.html#returning-a-view-versus-a-copy\n",
      "  selected['child_percent'] = selected.apply(lambda line:line['id']/child_nums,axis=1)#求百分比\n",
      "/tmp/ipykernel_36542/896555734.py:3: SettingWithCopyWarning: \n",
      "A value is trying to be set on a copy of a slice from a DataFrame\n",
      "\n",
      "See the caveats in the documentation: https://pandas.pydata.org/pandas-docs/stable/user_guide/indexing.html#returning-a-view-versus-a-copy\n",
      "  selected.rename(columns={'id':'count'},inplace=True)\n"
     ]
    }
   ],
   "source": [
    "child_nums = selected['id'].sum()#对所有的非酒精饮料进行求和\n",
    "selected['child_percent'] = selected.apply(lambda line:line['id']/child_nums,axis=1)#求百分比\n",
    "selected.rename(columns={'id':'count'},inplace=True)\n",
    "print('非酒精饮料的内部商品的销量及其占比:\\n',selected)\n",
    "outfile2 = './child_percent.csv'\n",
    "sort_link.to_csv(outfile2,index=False,header=True,encoding='gbk')\n"
   ]
  },
  {
   "cell_type": "markdown",
   "id": "4168518a",
   "metadata": {},
   "source": [
    "### 绘制饼图展示"
   ]
  },
  {
   "cell_type": "code",
   "execution_count": 21,
   "id": "ec35b056",
   "metadata": {},
   "outputs": [
    {
     "name": "stderr",
     "output_type": "stream",
     "text": [
      "/usr/local/python3/lib/python3.10/site-packages/IPython/core/pylabtools.py:151: UserWarning: Glyph 38750 (\\N{CJK UNIFIED IDEOGRAPH-975E}) missing from current font.\n",
      "  fig.canvas.print_figure(bytes_io, **kw)\n",
      "/usr/local/python3/lib/python3.10/site-packages/IPython/core/pylabtools.py:151: UserWarning: Glyph 37202 (\\N{CJK UNIFIED IDEOGRAPH-9152}) missing from current font.\n",
      "  fig.canvas.print_figure(bytes_io, **kw)\n",
      "/usr/local/python3/lib/python3.10/site-packages/IPython/core/pylabtools.py:151: UserWarning: Glyph 31934 (\\N{CJK UNIFIED IDEOGRAPH-7CBE}) missing from current font.\n",
      "  fig.canvas.print_figure(bytes_io, **kw)\n",
      "/usr/local/python3/lib/python3.10/site-packages/IPython/core/pylabtools.py:151: UserWarning: Glyph 39278 (\\N{CJK UNIFIED IDEOGRAPH-996E}) missing from current font.\n",
      "  fig.canvas.print_figure(bytes_io, **kw)\n",
      "/usr/local/python3/lib/python3.10/site-packages/IPython/core/pylabtools.py:151: UserWarning: Glyph 26009 (\\N{CJK UNIFIED IDEOGRAPH-6599}) missing from current font.\n",
      "  fig.canvas.print_figure(bytes_io, **kw)\n",
      "/usr/local/python3/lib/python3.10/site-packages/IPython/core/pylabtools.py:151: UserWarning: Glyph 20869 (\\N{CJK UNIFIED IDEOGRAPH-5185}) missing from current font.\n",
      "  fig.canvas.print_figure(bytes_io, **kw)\n",
      "/usr/local/python3/lib/python3.10/site-packages/IPython/core/pylabtools.py:151: UserWarning: Glyph 37096 (\\N{CJK UNIFIED IDEOGRAPH-90E8}) missing from current font.\n",
      "  fig.canvas.print_figure(bytes_io, **kw)\n",
      "/usr/local/python3/lib/python3.10/site-packages/IPython/core/pylabtools.py:151: UserWarning: Glyph 21508 (\\N{CJK UNIFIED IDEOGRAPH-5404}) missing from current font.\n",
      "  fig.canvas.print_figure(bytes_io, **kw)\n",
      "/usr/local/python3/lib/python3.10/site-packages/IPython/core/pylabtools.py:151: UserWarning: Glyph 21830 (\\N{CJK UNIFIED IDEOGRAPH-5546}) missing from current font.\n",
      "  fig.canvas.print_figure(bytes_io, **kw)\n",
      "/usr/local/python3/lib/python3.10/site-packages/IPython/core/pylabtools.py:151: UserWarning: Glyph 21697 (\\N{CJK UNIFIED IDEOGRAPH-54C1}) missing from current font.\n",
      "  fig.canvas.print_figure(bytes_io, **kw)\n",
      "/usr/local/python3/lib/python3.10/site-packages/IPython/core/pylabtools.py:151: UserWarning: Glyph 30340 (\\N{CJK UNIFIED IDEOGRAPH-7684}) missing from current font.\n",
      "  fig.canvas.print_figure(bytes_io, **kw)\n",
      "/usr/local/python3/lib/python3.10/site-packages/IPython/core/pylabtools.py:151: UserWarning: Glyph 38144 (\\N{CJK UNIFIED IDEOGRAPH-9500}) missing from current font.\n",
      "  fig.canvas.print_figure(bytes_io, **kw)\n",
      "/usr/local/python3/lib/python3.10/site-packages/IPython/core/pylabtools.py:151: UserWarning: Glyph 37327 (\\N{CJK UNIFIED IDEOGRAPH-91CF}) missing from current font.\n",
      "  fig.canvas.print_figure(bytes_io, **kw)\n",
      "/usr/local/python3/lib/python3.10/site-packages/IPython/core/pylabtools.py:151: UserWarning: Glyph 21344 (\\N{CJK UNIFIED IDEOGRAPH-5360}) missing from current font.\n",
      "  fig.canvas.print_figure(bytes_io, **kw)\n",
      "/usr/local/python3/lib/python3.10/site-packages/IPython/core/pylabtools.py:151: UserWarning: Glyph 27604 (\\N{CJK UNIFIED IDEOGRAPH-6BD4}) missing from current font.\n",
      "  fig.canvas.print_figure(bytes_io, **kw)\n",
      "/usr/local/python3/lib/python3.10/site-packages/IPython/core/pylabtools.py:151: UserWarning: Glyph 20840 (\\N{CJK UNIFIED IDEOGRAPH-5168}) missing from current font.\n",
      "  fig.canvas.print_figure(bytes_io, **kw)\n",
      "/usr/local/python3/lib/python3.10/site-packages/IPython/core/pylabtools.py:151: UserWarning: Glyph 33026 (\\N{CJK UNIFIED IDEOGRAPH-8102}) missing from current font.\n",
      "  fig.canvas.print_figure(bytes_io, **kw)\n",
      "/usr/local/python3/lib/python3.10/site-packages/IPython/core/pylabtools.py:151: UserWarning: Glyph 29275 (\\N{CJK UNIFIED IDEOGRAPH-725B}) missing from current font.\n",
      "  fig.canvas.print_figure(bytes_io, **kw)\n",
      "/usr/local/python3/lib/python3.10/site-packages/IPython/core/pylabtools.py:151: UserWarning: Glyph 22902 (\\N{CJK UNIFIED IDEOGRAPH-5976}) missing from current font.\n",
      "  fig.canvas.print_figure(bytes_io, **kw)\n",
      "/usr/local/python3/lib/python3.10/site-packages/IPython/core/pylabtools.py:151: UserWarning: Glyph 33487 (\\N{CJK UNIFIED IDEOGRAPH-82CF}) missing from current font.\n",
      "  fig.canvas.print_figure(bytes_io, **kw)\n",
      "/usr/local/python3/lib/python3.10/site-packages/IPython/core/pylabtools.py:151: UserWarning: Glyph 25171 (\\N{CJK UNIFIED IDEOGRAPH-6253}) missing from current font.\n",
      "  fig.canvas.print_figure(bytes_io, **kw)\n",
      "/usr/local/python3/lib/python3.10/site-packages/IPython/core/pylabtools.py:151: UserWarning: Glyph 27700 (\\N{CJK UNIFIED IDEOGRAPH-6C34}) missing from current font.\n",
      "  fig.canvas.print_figure(bytes_io, **kw)\n",
      "/usr/local/python3/lib/python3.10/site-packages/IPython/core/pylabtools.py:151: UserWarning: Glyph 29942 (\\N{CJK UNIFIED IDEOGRAPH-74F6}) missing from current font.\n",
      "  fig.canvas.print_figure(bytes_io, **kw)\n",
      "/usr/local/python3/lib/python3.10/site-packages/IPython/core/pylabtools.py:151: UserWarning: Glyph 35013 (\\N{CJK UNIFIED IDEOGRAPH-88C5}) missing from current font.\n",
      "  fig.canvas.print_figure(bytes_io, **kw)\n",
      "/usr/local/python3/lib/python3.10/site-packages/IPython/core/pylabtools.py:151: UserWarning: Glyph 26524 (\\N{CJK UNIFIED IDEOGRAPH-679C}) missing from current font.\n",
      "  fig.canvas.print_figure(bytes_io, **kw)\n",
      "/usr/local/python3/lib/python3.10/site-packages/IPython/core/pylabtools.py:151: UserWarning: Glyph 34092 (\\N{CJK UNIFIED IDEOGRAPH-852C}) missing from current font.\n",
      "  fig.canvas.print_figure(bytes_io, **kw)\n",
      "/usr/local/python3/lib/python3.10/site-packages/IPython/core/pylabtools.py:151: UserWarning: Glyph 33756 (\\N{CJK UNIFIED IDEOGRAPH-83DC}) missing from current font.\n",
      "  fig.canvas.print_figure(bytes_io, **kw)\n",
      "/usr/local/python3/lib/python3.10/site-packages/IPython/core/pylabtools.py:151: UserWarning: Glyph 27713 (\\N{CJK UNIFIED IDEOGRAPH-6C41}) missing from current font.\n",
      "  fig.canvas.print_figure(bytes_io, **kw)\n",
      "/usr/local/python3/lib/python3.10/site-packages/IPython/core/pylabtools.py:151: UserWarning: Glyph 21654 (\\N{CJK UNIFIED IDEOGRAPH-5496}) missing from current font.\n",
      "  fig.canvas.print_figure(bytes_io, **kw)\n",
      "/usr/local/python3/lib/python3.10/site-packages/IPython/core/pylabtools.py:151: UserWarning: Glyph 21857 (\\N{CJK UNIFIED IDEOGRAPH-5561}) missing from current font.\n",
      "  fig.canvas.print_figure(bytes_io, **kw)\n",
      "/usr/local/python3/lib/python3.10/site-packages/IPython/core/pylabtools.py:151: UserWarning: Glyph 36229 (\\N{CJK UNIFIED IDEOGRAPH-8D85}) missing from current font.\n",
      "  fig.canvas.print_figure(bytes_io, **kw)\n",
      "/usr/local/python3/lib/python3.10/site-packages/IPython/core/pylabtools.py:151: UserWarning: Glyph 39640 (\\N{CJK UNIFIED IDEOGRAPH-9AD8}) missing from current font.\n",
      "  fig.canvas.print_figure(bytes_io, **kw)\n",
      "/usr/local/python3/lib/python3.10/site-packages/IPython/core/pylabtools.py:151: UserWarning: Glyph 28201 (\\N{CJK UNIFIED IDEOGRAPH-6E29}) missing from current font.\n",
      "  fig.canvas.print_figure(bytes_io, **kw)\n",
      "/usr/local/python3/lib/python3.10/site-packages/IPython/core/pylabtools.py:151: UserWarning: Glyph 26432 (\\N{CJK UNIFIED IDEOGRAPH-6740}) missing from current font.\n",
      "  fig.canvas.print_figure(bytes_io, **kw)\n",
      "/usr/local/python3/lib/python3.10/site-packages/IPython/core/pylabtools.py:151: UserWarning: Glyph 33740 (\\N{CJK UNIFIED IDEOGRAPH-83CC}) missing from current font.\n",
      "  fig.canvas.print_figure(bytes_io, **kw)\n",
      "/usr/local/python3/lib/python3.10/site-packages/IPython/core/pylabtools.py:151: UserWarning: Glyph 20854 (\\N{CJK UNIFIED IDEOGRAPH-5176}) missing from current font.\n",
      "  fig.canvas.print_figure(bytes_io, **kw)\n",
      "/usr/local/python3/lib/python3.10/site-packages/IPython/core/pylabtools.py:151: UserWarning: Glyph 20182 (\\N{CJK UNIFIED IDEOGRAPH-4ED6}) missing from current font.\n",
      "  fig.canvas.print_figure(bytes_io, **kw)\n",
      "/usr/local/python3/lib/python3.10/site-packages/IPython/core/pylabtools.py:151: UserWarning: Glyph 19968 (\\N{CJK UNIFIED IDEOGRAPH-4E00}) missing from current font.\n",
      "  fig.canvas.print_figure(bytes_io, **kw)\n",
      "/usr/local/python3/lib/python3.10/site-packages/IPython/core/pylabtools.py:151: UserWarning: Glyph 33324 (\\N{CJK UNIFIED IDEOGRAPH-822C}) missing from current font.\n",
      "  fig.canvas.print_figure(bytes_io, **kw)\n",
      "/usr/local/python3/lib/python3.10/site-packages/IPython/core/pylabtools.py:151: UserWarning: Glyph 36895 (\\N{CJK UNIFIED IDEOGRAPH-901F}) missing from current font.\n",
      "  fig.canvas.print_figure(bytes_io, **kw)\n",
      "/usr/local/python3/lib/python3.10/site-packages/IPython/core/pylabtools.py:151: UserWarning: Glyph 28342 (\\N{CJK UNIFIED IDEOGRAPH-6EB6}) missing from current font.\n",
      "  fig.canvas.print_figure(bytes_io, **kw)\n",
      "/usr/local/python3/lib/python3.10/site-packages/IPython/core/pylabtools.py:151: UserWarning: Glyph 33590 (\\N{CJK UNIFIED IDEOGRAPH-8336}) missing from current font.\n",
      "  fig.canvas.print_figure(bytes_io, **kw)\n",
      "/usr/local/python3/lib/python3.10/site-packages/IPython/core/pylabtools.py:151: UserWarning: Glyph 21487 (\\N{CJK UNIFIED IDEOGRAPH-53EF}) missing from current font.\n",
      "  fig.canvas.print_figure(bytes_io, **kw)\n"
     ]
    },
    {
     "data": {
      "image/png": "[encoded data removed]",
      "text/plain": [
       "<Figure size 576x432 with 1 Axes>"
      ]
     },
     "metadata": {},
     "output_type": "display_data"
    }
   ],
   "source": [
    "data2 = selected['child_percent']\n",
    "labels = selected['Goods']\n",
    "plt.figure(figsize=(8,6))\n",
    "explode = (0.02,0.03,0.04,0.05,0.06,0.07,0.08,0.08,0.3,0.1,0.3)#设置每一块分割出的间隙大小\n",
    "plt.pie(data2,explode=explode,labels=labels,autopct='%1.2f%%',pctdistance=1.1,labeldistance=1.2)\n",
    "plt.title('非酒精饮料内部各商品的销量占比')\n",
    "plt.axis('equal')\n",
    "plt.show()"
   ]
  },
  {
   "cell_type": "markdown",
   "id": "0b89d6a5",
   "metadata": {},
   "source": [
    "# 数据预处理"
   ]
  },
  {
   "cell_type": "code",
   "execution_count": 22,
   "id": "4637f735",
   "metadata": {},
   "outputs": [],
   "source": [
    "# 根据id 对 Goods 列合并，使用','将各商品隔开\n",
    "data['Goods'] = data['Goods'].apply(lambda x:','+x)\n",
    "data = data.groupby('id').sum().reset_index()\n",
    "\n",
    "# 对合并的商品列转换数据格式\n",
    "data['Goods'] = data['Goods'].apply(lambda x:[x[1:]])\n",
    "data_list = list(data['Goods'])\n",
    "\n"
   ]
  },
  {
   "cell_type": "code",
   "execution_count": 23,
   "id": "ebb5f538",
   "metadata": {},
   "outputs": [
    {
     "name": "stdout",
     "output_type": "stream",
     "text": [
      "数据转换结果的前5各元素：\n",
      " [['柑橘类水果', '人造黄油', '即食汤', '半成品面包'], ['咖啡', '热带水果', '酸奶'], ['全脂牛奶'], ['奶油乳酪', '肉泥', '仁果类水果', '酸奶'], ['炼乳', '长面包', '其他蔬菜', '全脂牛奶']]\n"
     ]
    }
   ],
   "source": [
    "# 分割商品名称，每个商品为独立元素\n",
    "data_translation = []\n",
    "for i in data_list:\n",
    "    p = i[0].split(',')\n",
    "    data_translation.append(p)\n",
    "    \n",
    "print('数据转换结果的前5各元素：\\n',data_translation[:5])"
   ]
  },
  {
   "cell_type": "markdown",
   "id": "379f9267",
   "metadata": {},
   "source": [
    "# 构建模型--关联规则分析"
   ]
  },
  {
   "cell_type": "code",
   "execution_count": 30,
   "id": "04ab273a",
   "metadata": {},
   "outputs": [],
   "source": [
    "from mlxtend.preprocessing import TransactionEncoder \n",
    "from mlxtend.frequent_patterns import apriori"
   ]
  },
  {
   "cell_type": "code",
   "execution_count": 31,
   "id": "2518742f",
   "metadata": {},
   "outputs": [],
   "source": [
    "te = TransactionEncoder()\n",
    "te_ary = te.fit(data_translation).transform(data_translation)\n",
    "df = pd.DataFrame(te_ary,columns=te.columns_)"
   ]
  },
  {
   "cell_type": "code",
   "execution_count": 32,
   "id": "4e1b2bd1",
   "metadata": {},
   "outputs": [],
   "source": [
    " freq = apriori(df,min_support=0.01,use_colnames=True)"
   ]
  },
  {
   "cell_type": "code",
   "execution_count": 33,
   "id": "0d64b45c",
   "metadata": {},
   "outputs": [
    {
     "data": {
      "text/html": [
       "<div>\n",
       "<style scoped>\n",
       "    .dataframe tbody tr th:only-of-type {\n",
       "        vertical-align: middle;\n",
       "    }\n",
       "\n",
       "    .dataframe tbody tr th {\n",
       "        vertical-align: top;\n",
       "    }\n",
       "\n",
       "    .dataframe thead th {\n",
       "        text-align: right;\n",
       "    }\n",
       "</style>\n",
       "<table border=\"1\" class=\"dataframe\">\n",
       "  <thead>\n",
       "    <tr style=\"text-align: right;\">\n",
       "      <th></th>\n",
       "      <th>support</th>\n",
       "      <th>itemsets</th>\n",
       "    </tr>\n",
       "  </thead>\n",
       "  <tbody>\n",
       "    <tr>\n",
       "      <th>0</th>\n",
       "      <td>0.019227</td>\n",
       "      <td>(一般清洁剂)</td>\n",
       "    </tr>\n",
       "    <tr>\n",
       "      <th>1</th>\n",
       "      <td>0.025839</td>\n",
       "      <td>(一般肉类)</td>\n",
       "    </tr>\n",
       "    <tr>\n",
       "      <th>2</th>\n",
       "      <td>0.026043</td>\n",
       "      <td>(一般饮料)</td>\n",
       "    </tr>\n",
       "    <tr>\n",
       "      <th>3</th>\n",
       "      <td>0.058596</td>\n",
       "      <td>(人造黄油)</td>\n",
       "    </tr>\n",
       "    <tr>\n",
       "      <th>4</th>\n",
       "      <td>0.075687</td>\n",
       "      <td>(仁果类水果)</td>\n",
       "    </tr>\n",
       "    <tr>\n",
       "      <th>...</th>\n",
       "      <td>...</td>\n",
       "      <td>...</td>\n",
       "    </tr>\n",
       "    <tr>\n",
       "      <th>328</th>\n",
       "      <td>0.012920</td>\n",
       "      <td>(酸奶, 根茎类蔬菜, 其他蔬菜)</td>\n",
       "    </tr>\n",
       "    <tr>\n",
       "      <th>329</th>\n",
       "      <td>0.012208</td>\n",
       "      <td>(根茎类蔬菜, 面包卷, 其他蔬菜)</td>\n",
       "    </tr>\n",
       "    <tr>\n",
       "      <th>330</th>\n",
       "      <td>0.012309</td>\n",
       "      <td>(酸奶, 热带水果, 其他蔬菜)</td>\n",
       "    </tr>\n",
       "    <tr>\n",
       "      <th>331</th>\n",
       "      <td>0.010173</td>\n",
       "      <td>(酸奶, 酸奶油, 其他蔬菜)</td>\n",
       "    </tr>\n",
       "    <tr>\n",
       "      <th>332</th>\n",
       "      <td>0.011495</td>\n",
       "      <td>(酸奶, 面包卷, 其他蔬菜)</td>\n",
       "    </tr>\n",
       "  </tbody>\n",
       "</table>\n",
       "<p>333 rows × 2 columns</p>\n",
       "</div>"
      ],
      "text/plain": [
       "      support            itemsets\n",
       "0    0.019227             (一般清洁剂)\n",
       "1    0.025839              (一般肉类)\n",
       "2    0.026043              (一般饮料)\n",
       "3    0.058596              (人造黄油)\n",
       "4    0.075687             (仁果类水果)\n",
       "..        ...                 ...\n",
       "328  0.012920   (酸奶, 根茎类蔬菜, 其他蔬菜)\n",
       "329  0.012208  (根茎类蔬菜, 面包卷, 其他蔬菜)\n",
       "330  0.012309    (酸奶, 热带水果, 其他蔬菜)\n",
       "331  0.010173     (酸奶, 酸奶油, 其他蔬菜)\n",
       "332  0.011495     (酸奶, 面包卷, 其他蔬菜)\n",
       "\n",
       "[333 rows x 2 columns]"
      ]
     },
     "execution_count": 33,
     "metadata": {},
     "output_type": "execute_result"
    }
   ],
   "source": [
    "freq"
   ]
  },
  {
   "cell_type": "code",
   "execution_count": 39,
   "id": "1acfce4f",
   "metadata": {},
   "outputs": [],
   "source": [
    "outfile3 = './freq.csv'\n",
    "freq.to_csv(outfile3,index=False,header=True,encoding='gbk')"
   ]
  },
  {
   "cell_type": "code",
   "execution_count": 36,
   "id": "2504223e",
   "metadata": {},
   "outputs": [],
   "source": [
    "from mlxtend.frequent_patterns import association_rules\n",
    "# 计算关联规则\n",
    "result = association_rules(freq,metric='confidence',min_threshold=0.6)"
   ]
  },
  {
   "cell_type": "code",
   "execution_count": null,
   "id": "d8fe26d7",
   "metadata": {},
   "outputs": [],
   "source": []
  },
  {
   "cell_type": "code",
   "execution_count": null,
   "id": "2df7e4e4",
   "metadata": {},
   "outputs": [],
   "source": []
  },
  {
   "cell_type": "code",
   "execution_count": null,
   "id": "77382505",
   "metadata": {},
   "outputs": [],
   "source": []
  },
  {
   "cell_type": "code",
   "execution_count": null,
   "id": "2a1b5d05",
   "metadata": {},
   "outputs": [],
   "source": []
  },
  {
   "cell_type": "code",
   "execution_count": null,
   "id": "1c67fa68",
   "metadata": {},
   "outputs": [],
   "source": []
  },
  {
   "cell_type": "code",
   "execution_count": null,
   "id": "34770814",
   "metadata": {},
   "outputs": [],
   "source": []
  },
  {
   "cell_type": "code",
   "execution_count": null,
   "id": "f5ed90f4",
   "metadata": {},
   "outputs": [],
   "source": []
  }
 ],
 "metadata": {
  "kernelspec": {
   "display_name": "Python 3 (ipykernel)",
   "language": "python",
   "name": "python3"
  },
  "language_info": {
   "codemirror_mode": {
    "name": "ipython",
    "version": 3
   },
   "file_extension": ".py",
   "mimetype": "text/x-python",
   "name": "python",
   "nbconvert_exporter": "python",
   "pygments_lexer": "ipython3",
   "version": "3.10.4"
  }
 },
 "nbformat": 4,
 "nbformat_minor": 5
}
