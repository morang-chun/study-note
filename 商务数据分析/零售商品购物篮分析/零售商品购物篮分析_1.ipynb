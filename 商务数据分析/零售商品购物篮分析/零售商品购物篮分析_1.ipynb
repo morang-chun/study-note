{
 "cells": [
  {
   "cell_type": "code",
   "execution_count": 1,
   "id": "6e73fcb6",
   "metadata": {},
   "outputs": [],
   "source": [
    "import pandas as pd\n",
    "data = pd.read_csv('./GoodsOrder.csv',encoding='gbk')\n",
    "types = pd.read_csv('./GoodsTypes.csv',encoding='gbk')"
   ]
  },
  {
   "cell_type": "code",
   "execution_count": 2,
   "id": "98033b8d",
   "metadata": {},
   "outputs": [
    {
     "data": {
      "text/html": [
       "<div>\n",
       "<style scoped>\n",
       "    .dataframe tbody tr th:only-of-type {\n",
       "        vertical-align: middle;\n",
       "    }\n",
       "\n",
       "    .dataframe tbody tr th {\n",
       "        vertical-align: top;\n",
       "    }\n",
       "\n",
       "    .dataframe thead th {\n",
       "        text-align: right;\n",
       "    }\n",
       "</style>\n",
       "<table border=\"1\" class=\"dataframe\">\n",
       "  <thead>\n",
       "    <tr style=\"text-align: right;\">\n",
       "      <th></th>\n",
       "      <th>id</th>\n",
       "      <th>Goods</th>\n",
       "    </tr>\n",
       "  </thead>\n",
       "  <tbody>\n",
       "    <tr>\n",
       "      <th>0</th>\n",
       "      <td>1</td>\n",
       "      <td>柑橘类水果</td>\n",
       "    </tr>\n",
       "    <tr>\n",
       "      <th>1</th>\n",
       "      <td>1</td>\n",
       "      <td>人造黄油</td>\n",
       "    </tr>\n",
       "    <tr>\n",
       "      <th>2</th>\n",
       "      <td>1</td>\n",
       "      <td>即食汤</td>\n",
       "    </tr>\n",
       "    <tr>\n",
       "      <th>3</th>\n",
       "      <td>1</td>\n",
       "      <td>半成品面包</td>\n",
       "    </tr>\n",
       "    <tr>\n",
       "      <th>4</th>\n",
       "      <td>2</td>\n",
       "      <td>咖啡</td>\n",
       "    </tr>\n",
       "  </tbody>\n",
       "</table>\n",
       "</div>"
      ],
      "text/plain": [
       "   id  Goods\n",
       "0   1  柑橘类水果\n",
       "1   1   人造黄油\n",
       "2   1    即食汤\n",
       "3   1  半成品面包\n",
       "4   2     咖啡"
      ]
     },
     "execution_count": 2,
     "metadata": {},
     "output_type": "execute_result"
    }
   ],
   "source": [
    "data.head()"
   ]
  },
  {
   "cell_type": "code",
   "execution_count": 3,
   "id": "618b5224",
   "metadata": {},
   "outputs": [
    {
     "data": {
      "text/html": [
       "<div>\n",
       "<style scoped>\n",
       "    .dataframe tbody tr th:only-of-type {\n",
       "        vertical-align: middle;\n",
       "    }\n",
       "\n",
       "    .dataframe tbody tr th {\n",
       "        vertical-align: top;\n",
       "    }\n",
       "\n",
       "    .dataframe thead th {\n",
       "        text-align: right;\n",
       "    }\n",
       "</style>\n",
       "<table border=\"1\" class=\"dataframe\">\n",
       "  <thead>\n",
       "    <tr style=\"text-align: right;\">\n",
       "      <th></th>\n",
       "      <th>Goods</th>\n",
       "      <th>Types</th>\n",
       "    </tr>\n",
       "  </thead>\n",
       "  <tbody>\n",
       "    <tr>\n",
       "      <th>0</th>\n",
       "      <td>白饭</td>\n",
       "      <td>熟食</td>\n",
       "    </tr>\n",
       "    <tr>\n",
       "      <th>1</th>\n",
       "      <td>白酒</td>\n",
       "      <td>酒精饮料</td>\n",
       "    </tr>\n",
       "    <tr>\n",
       "      <th>2</th>\n",
       "      <td>白兰地</td>\n",
       "      <td>酒精饮料</td>\n",
       "    </tr>\n",
       "    <tr>\n",
       "      <th>3</th>\n",
       "      <td>白面包</td>\n",
       "      <td>西点</td>\n",
       "    </tr>\n",
       "    <tr>\n",
       "      <th>4</th>\n",
       "      <td>半成品面包</td>\n",
       "      <td>西点</td>\n",
       "    </tr>\n",
       "  </tbody>\n",
       "</table>\n",
       "</div>"
      ],
      "text/plain": [
       "   Goods Types\n",
       "0     白饭    熟食\n",
       "1     白酒  酒精饮料\n",
       "2    白兰地  酒精饮料\n",
       "3    白面包    西点\n",
       "4  半成品面包    西点"
      ]
     },
     "execution_count": 3,
     "metadata": {},
     "output_type": "execute_result"
    }
   ],
   "source": [
    "types.head()"
   ]
  },
  {
   "cell_type": "markdown",
   "id": "4460b6cb",
   "metadata": {},
   "source": [
    "# 探索性分析"
   ]
  },
  {
   "cell_type": "code",
   "execution_count": 4,
   "id": "ec270e73",
   "metadata": {},
   "outputs": [],
   "source": [
    "import numpy as np"
   ]
  },
  {
   "cell_type": "code",
   "execution_count": 5,
   "id": "cd07baa0",
   "metadata": {},
   "outputs": [
    {
     "name": "stdout",
     "output_type": "stream",
     "text": [
      "<class 'pandas.core.frame.DataFrame'>\n",
      "RangeIndex: 43285 entries, 0 to 43284\n",
      "Data columns (total 2 columns):\n",
      " #   Column  Non-Null Count  Dtype \n",
      "---  ------  --------------  ----- \n",
      " 0   id      43285 non-null  int64 \n",
      " 1   Goods   43285 non-null  object\n",
      "dtypes: int64(1), object(1)\n",
      "memory usage: 676.5+ KB\n"
     ]
    }
   ],
   "source": [
    "data.info()"
   ]
  },
  {
   "cell_type": "code",
   "execution_count": 6,
   "id": "180c89dc",
   "metadata": {},
   "outputs": [
    {
     "data": {
      "text/plain": [
       "count    43285.000000\n",
       "mean      4907.985723\n",
       "std       2843.314189\n",
       "min          1.000000\n",
       "25%       2455.000000\n",
       "50%       4826.000000\n",
       "75%       7381.000000\n",
       "max       9835.000000\n",
       "Name: id, dtype: float64"
      ]
     },
     "execution_count": 6,
     "metadata": {},
     "output_type": "execute_result"
    }
   ],
   "source": [
    "data['id'].describe()"
   ]
  },
  {
   "cell_type": "markdown",
   "id": "9cec1d24",
   "metadata": {},
   "source": [
    "# 绘制条形图分析热销商品"
   ]
  },
  {
   "cell_type": "markdown",
   "id": "bf0a323c",
   "metadata": {},
   "source": [
    "## 销量排行前10 的商品的销量及其占比"
   ]
  },
  {
   "cell_type": "code",
   "execution_count": 7,
   "id": "35da10fd",
   "metadata": {},
   "outputs": [],
   "source": [
    "group = data.groupby(['Goods']).count().reset_index()"
   ]
  },
  {
   "cell_type": "code",
   "execution_count": 8,
   "id": "a8ff2299",
   "metadata": {},
   "outputs": [],
   "source": [
    "sort = group.sort_values('id',ascending=False)"
   ]
  },
  {
   "cell_type": "code",
   "execution_count": 9,
   "id": "327ffa74",
   "metadata": {},
   "outputs": [
    {
     "name": "stdout",
     "output_type": "stream",
     "text": [
      "销量排行前10 的商品的销量：\n",
      "      Goods    id\n",
      "6     全脂牛奶  2513\n",
      "7     其他蔬菜  1903\n",
      "154    面包卷  1809\n",
      "133    苏打水  1715\n",
      "149     酸奶  1372\n",
      "98     瓶装水  1087\n",
      "69   根茎类蔬菜  1072\n",
      "84    热带水果  1032\n",
      "142    购物袋   969\n",
      "159     香肠   924\n"
     ]
    }
   ],
   "source": [
    "print('销量排行前10 的商品的销量：\\n',sort[:10])"
   ]
  },
  {
   "cell_type": "code",
   "execution_count": 10,
   "id": "8fcb46a4",
   "metadata": {},
   "outputs": [],
   "source": [
    "data_nums = data.shape[0]"
   ]
  },
  {
   "cell_type": "code",
   "execution_count": 11,
   "id": "e502f4c6",
   "metadata": {},
   "outputs": [
    {
     "name": "stdout",
     "output_type": "stream",
     "text": [
      "全脂牛奶 2513 0.058057063647914985\n",
      "其他蔬菜 1903 0.043964421855146124\n",
      "面包卷 1809 0.04179276885757191\n",
      "苏打水 1715 0.03962111585999769\n",
      "酸奶 1372 0.03169689268799815\n",
      "瓶装水 1087 0.025112625620884833\n",
      "根茎类蔬菜 1072 0.0247660852489315\n",
      "热带水果 1032 0.02384197759038928\n",
      "购物袋 969 0.022386508028185283\n",
      "香肠 924 0.021346886912325287\n"
     ]
    }
   ],
   "source": [
    "for index,row in sort[:10].iterrows():\n",
    "    print(row['Goods'],row['id'],row['id']/data_nums)"
   ]
  },
  {
   "cell_type": "markdown",
   "id": "2166eda2",
   "metadata": {},
   "source": [
    "## 绘制条形图展示销量排行前10的商品的销量"
   ]
  },
  {
   "cell_type": "code",
   "execution_count": 12,
   "id": "d82901e0",
   "metadata": {},
   "outputs": [],
   "source": [
    "import matplotlib.pyplot as plt\n",
    "# 设置字体\n",
    "plt.rcParams['font.sans-serif']=['SimHei']"
   ]
  },
  {
   "cell_type": "code",
   "execution_count": 13,
   "id": "31ceeeba",
   "metadata": {},
   "outputs": [
    {
     "data": {
      "image/png": "[encoded data removed]",
      "text/plain": [
       "<Figure size 576x432 with 1 Axes>"
      ]
     },
     "metadata": {
      "needs_background": "light"
     },
     "output_type": "display_data"
    }
   ],
   "source": [
    "x = sort[:10]['Goods']\n",
    "y = sort[:10]['id']\n",
    "plt.figure(figsize=(8,6))\n",
    "# plt.rc('font',size=12)\n",
    "plt.barh(x,y)\n",
    "# plt.rcParams['font.sans-serif'] = 'SimHei'\n",
    "plt.xlabel('销量')\n",
    "plt.ylabel('商品名称')\n",
    "plt.title('商品的销量TOP10')\n",
    "plt.show()"
   ]
  },
  {
   "cell_type": "markdown",
   "id": "c829aa84",
   "metadata": {},
   "source": [
    "##  绘制饼图分析商品结构"
   ]
  },
  {
   "cell_type": "code",
   "execution_count": 14,
   "id": "38b40b80",
   "metadata": {},
   "outputs": [],
   "source": [
    "group1 = data.groupby(['Goods']).count().reset_index()\n",
    "sort = group1.sort_values('id',ascending=False).reset_index()\n",
    "data_nums = data.shape[0]\n",
    "del sort['index']"
   ]
  },
  {
   "cell_type": "code",
   "execution_count": 16,
   "id": "b25ce689",
   "metadata": {},
   "outputs": [],
   "source": [
    "sort_links = pd.merge(sort,types)#根据type合并两个DataFrame"
   ]
  },
  {
   "cell_type": "code",
   "execution_count": 17,
   "id": "4dca4961",
   "metadata": {},
   "outputs": [],
   "source": [
    "# 根据类别求和，求每个商品类别的总量，排序\n",
    "sort_link = sort_links.groupby(['Types']).sum().reset_index()\n",
    "sort_link = sort_link.sort_values('id',ascending=False).reset_index()\n",
    "del sort_link['index']"
   ]
  },
  {
   "cell_type": "code",
   "execution_count": 19,
   "id": "bd2bfa5f",
   "metadata": {},
   "outputs": [
    {
     "name": "stdout",
     "output_type": "stream",
     "text": [
      "各类别商品的销量及其占比:\n",
      "    Types    id   percent\n",
      "0  非酒精饮料  7594  0.175442\n",
      "1     西点  7192  0.166155\n",
      "2     果蔬  7146  0.165092\n",
      "3   米粮调料  5185  0.119787\n",
      "4     百货  5141  0.118771\n",
      "5     肉类  4870  0.112510\n",
      "6   酒精饮料  2287  0.052836\n",
      "7    食品类  1870  0.043202\n",
      "8     零食  1459  0.033707\n",
      "9     熟食   541  0.012499\n"
     ]
    }
   ],
   "source": [
    "# 求百分比，然后更换列名，最后输出到文件\n",
    "sort_link['count']=sort_link.apply(lambda line:line['id']/data_nums,axis=1)\n",
    "sort_link.rename(columns={'count':'percent'},inplace=True)\n",
    "print('各类别商品的销量及其占比:\\n',sort_link)\n",
    "outfile = './precent.csv'\n",
    "sort_link.to_csv(outfile,index=False,header=True,encoding='gbk')\n"
   ]
  },
  {
   "cell_type": "markdown",
   "id": "d25167a8",
   "metadata": {},
   "source": [
    "### 绘制饼图展示每一类商品销量占比"
   ]
  },
  {
   "cell_type": "code",
   "execution_count": 20,
   "id": "2fbc3e7f",
   "metadata": {},
   "outputs": [
    {
     "data": {
      "image/png": "[encoded data removed]",
      "text/plain": [
       "<Figure size 432x288 with 1 Axes>"
      ]
     },
     "metadata": {},
     "output_type": "display_data"
    }
   ],
   "source": [
    "data1 = sort_link['percent']\n",
    "labels = sort_link['Types']\n",
    "plt.rc('font',size=12)\n",
    "plt.pie(data1,labels=labels,autopct='%1.2f%%')\n",
    "plt.title('各类别商品销量占比')\n",
    "plt.show()"
   ]
  },
  {
   "cell_type": "markdown",
   "id": "cef931e7",
   "metadata": {},
   "source": [
    "## 查看销量第一的非酒精饮料的内部商品结构，绘制饼图显示其销量占比情况"
   ]
  },
  {
   "cell_type": "code",
   "execution_count": 21,
   "id": "2cd720c4",
   "metadata": {},
   "outputs": [],
   "source": [
    "# 先筛选非酒精饮料类别的商品，求百分比\n",
    "selected = sort_links.loc[sort_links['Types']=='非酒精饮料']"
   ]
  },
  {
   "cell_type": "code",
   "execution_count": 22,
   "id": "49b159e3",
   "metadata": {},
   "outputs": [
    {
     "name": "stdout",
     "output_type": "stream",
     "text": [
      "非酒精饮料的内部商品的销量及其占比:\n",
      "         Goods  count  Types  child_percent\n",
      "0        全脂牛奶   2513  非酒精饮料       0.330919\n",
      "3         苏打水   1715  非酒精饮料       0.225836\n",
      "5         瓶装水   1087  非酒精饮料       0.143139\n",
      "16     水果/蔬菜汁    711  非酒精饮料       0.093627\n",
      "22         咖啡    571  非酒精饮料       0.075191\n",
      "38   超高温杀菌的牛奶    329  非酒精饮料       0.043324\n",
      "45       其他饮料    279  非酒精饮料       0.036740\n",
      "51       一般饮料    256  非酒精饮料       0.033711\n",
      "101      速溶咖啡     73  非酒精饮料       0.009613\n",
      "125         茶     38  非酒精饮料       0.005004\n",
      "143      可可饮料     22  非酒精饮料       0.002897\n"
     ]
    },
    {
     "name": "stderr",
     "output_type": "stream",
     "text": [
      "C:\\Users\\cloud\\AppData\\Local\\Temp/ipykernel_3220/17364503.py:2: SettingWithCopyWarning: \n",
      "A value is trying to be set on a copy of a slice from a DataFrame.\n",
      "Try using .loc[row_indexer,col_indexer] = value instead\n",
      "\n",
      "See the caveats in the documentation: https://pandas.pydata.org/pandas-docs/stable/user_guide/indexing.html#returning-a-view-versus-a-copy\n",
      "  selected['child_percent'] = selected.apply(lambda line:line['id']/child_nums,axis=1)#求百分比\n",
      "C:\\ProgramData\\Anaconda3\\lib\\site-packages\\pandas\\core\\frame.py:5039: SettingWithCopyWarning: \n",
      "A value is trying to be set on a copy of a slice from a DataFrame\n",
      "\n",
      "See the caveats in the documentation: https://pandas.pydata.org/pandas-docs/stable/user_guide/indexing.html#returning-a-view-versus-a-copy\n",
      "  return super().rename(\n"
     ]
    }
   ],
   "source": [
    "child_nums = selected['id'].sum()#对所有的非酒精饮料进行求和\n",
    "selected['child_percent'] = selected.apply(lambda line:line['id']/child_nums,axis=1)#求百分比\n",
    "selected.rename(columns={'id':'count'},inplace=True)\n",
    "print('非酒精饮料的内部商品的销量及其占比:\\n',selected)\n",
    "outfile2 = './child_percent.csv'\n",
    "sort_link.to_csv(outfile2,index=False,header=True,encoding='gbk')\n"
   ]
  },
  {
   "cell_type": "markdown",
   "id": "4168518a",
   "metadata": {},
   "source": [
    "### 绘制饼图展示"
   ]
  },
  {
   "cell_type": "code",
   "execution_count": 23,
   "id": "ec35b056",
   "metadata": {},
   "outputs": [
    {
     "name": "stderr",
     "output_type": "stream",
     "text": [
      "C:\\Users\\cloud\\AppData\\Local\\Temp/ipykernel_3220/2460021619.py:5: MatplotlibDeprecationWarning: normalize=None does not normalize if the sum is less than 1 but this behavior is deprecated since 3.3 until two minor releases later. After the deprecation period the default value will be normalize=True. To prevent normalization pass normalize=False \n",
      "  plt.pie(data2,explode=explode,labels=labels,autopct='%1.2f%%',pctdistance=1.1,labeldistance=1.2)\n"
     ]
    },
    {
     "data": {
      "image/png": "[encoded data removed]",
      "text/plain": [
       "<Figure size 576x432 with 1 Axes>"
      ]
     },
     "metadata": {},
     "output_type": "display_data"
    }
   ],
   "source": [
    "data2 = selected['child_percent']\n",
    "labels = selected['Goods']\n",
    "plt.figure(figsize=(8,6))\n",
    "explode = (0.02,0.03,0.04,0.05,0.06,0.07,0.08,0.08,0.3,0.1,0.3)#设置每一块分割出的间隙大小\n",
    "plt.pie(data2,explode=explode,labels=labels,autopct='%1.2f%%',pctdistance=1.1,labeldistance=1.2)\n",
    "plt.title('非酒精饮料内部各商品的销量占比')\n",
    "plt.axis('equal')\n",
    "plt.show()"
   ]
  },
  {
   "cell_type": "markdown",
   "id": "0b89d6a5",
   "metadata": {},
   "source": [
    "# 数据预处理"
   ]
  },
  {
   "cell_type": "code",
   "execution_count": 24,
   "id": "4637f735",
   "metadata": {},
   "outputs": [],
   "source": [
    "# 根据id 对 Goods 列合并，使用','将各商品隔开\n",
    "data['Goods'] = data['Goods'].apply(lambda x:','+x)\n",
    "data = data.groupby('id').sum().reset_index()\n",
    "\n",
    "# 对合并的商品列转换数据格式\n",
    "data['Goods'] = data['Goods'].apply(lambda x:[x[1:]])\n",
    "data_list = list(data['Goods'])\n",
    "\n"
   ]
  },
  {
   "cell_type": "code",
   "execution_count": 31,
   "id": "ebb5f538",
   "metadata": {},
   "outputs": [
    {
     "name": "stdout",
     "output_type": "stream",
     "text": [
      "数据转换结果的前5各元素：\n",
      " [['柑橘类水果', '人造黄油', '即食汤', '半成品面包'], ['咖啡', '热带水果', '酸奶'], ['全脂牛奶'], ['奶油乳酪', '肉泥', '仁果类水果', '酸奶'], ['炼乳', '长面包', '其他蔬菜', '全脂牛奶']]\n"
     ]
    }
   ],
   "source": [
    "# 分割商品名称，每个商品为独立元素\n",
    "data_translation = []\n",
    "for i in data_list:\n",
    "    p = i[0].split(',')\n",
    "    data_translation.append(p)\n",
    "    \n",
    "print('数据转换结果的前5各元素：\\n',data_translation[:5])"
   ]
  },
  {
   "cell_type": "markdown",
   "id": "379f9267",
   "metadata": {},
   "source": [
    "# 构建模型--关联规则分析"
   ]
  },
  {
   "cell_type": "code",
   "execution_count": 32,
   "id": "a27014bb",
   "metadata": {
    "collapsed": true
   },
   "outputs": [
    {
     "ename": "SyntaxError",
     "evalue": "Missing parentheses in call to 'print'. Did you mean print(freqSet-conseq,'-->',conseq,'conf:',conf)? (apriori.py, line 79)",
     "output_type": "error",
     "traceback": [
      "Traceback \u001b[1;36m(most recent call last)\u001b[0m:\n",
      "  File \u001b[0;32m\"C:\\ProgramData\\Anaconda3\\lib\\site-packages\\IPython\\core\\interactiveshell.py\"\u001b[0m, line \u001b[0;32m3444\u001b[0m, in \u001b[0;35mrun_code\u001b[0m\n    exec(code_obj, self.user_global_ns, self.user_ns)\n",
      "\u001b[1;36m  File \u001b[1;32m\"C:\\Users\\cloud\\AppData\\Local\\Temp/ipykernel_3220/790441466.py\"\u001b[1;36m, line \u001b[1;32m1\u001b[1;36m, in \u001b[1;35m<module>\u001b[1;36m\u001b[0m\n\u001b[1;33m    import apriori\u001b[0m\n",
      "\u001b[1;36m  File \u001b[1;32m\"C:\\ProgramData\\Anaconda3\\lib\\site-packages\\apriori.py\"\u001b[1;36m, line \u001b[1;32m79\u001b[0m\n\u001b[1;33m    print freqSet-conseq,'-->',conseq,'conf:',conf\u001b[0m\n\u001b[1;37m          ^\u001b[0m\n\u001b[1;31mSyntaxError\u001b[0m\u001b[1;31m:\u001b[0m Missing parentheses in call to 'print'. Did you mean print(freqSet-conseq,'-->',conseq,'conf:',conf)?\n"
     ]
    }
   ],
   "source": [
    "import apriori "
   ]
  },
  {
   "cell_type": "code",
   "execution_count": 33,
   "id": "49238480",
   "metadata": {
    "scrolled": true
   },
   "outputs": [
    {
     "ename": "NameError",
     "evalue": "name 'apriori' is not defined",
     "output_type": "error",
     "traceback": [
      "\u001b[1;31m---------------------------------------------------------------------------\u001b[0m",
      "\u001b[1;31mNameError\u001b[0m                                 Traceback (most recent call last)",
      "\u001b[1;32m~\\AppData\\Local\\Temp/ipykernel_3220/1428180007.py\u001b[0m in \u001b[0;36m<module>\u001b[1;34m\u001b[0m\n\u001b[0;32m      1\u001b[0m \u001b[0mdataSet\u001b[0m \u001b[1;33m=\u001b[0m \u001b[0mdata_translation\u001b[0m\u001b[1;33m\u001b[0m\u001b[1;33m\u001b[0m\u001b[0m\n\u001b[1;32m----> 2\u001b[1;33m \u001b[0mL\u001b[0m\u001b[1;33m,\u001b[0m\u001b[0msupportData\u001b[0m \u001b[1;33m=\u001b[0m \u001b[0mapriori\u001b[0m\u001b[1;33m(\u001b[0m\u001b[0mdataSet\u001b[0m\u001b[1;33m,\u001b[0m\u001b[0mminSupport\u001b[0m\u001b[1;33m=\u001b[0m\u001b[1;36m0.02\u001b[0m\u001b[1;33m)\u001b[0m\u001b[1;33m\u001b[0m\u001b[1;33m\u001b[0m\u001b[0m\n\u001b[0m\u001b[0;32m      3\u001b[0m \u001b[0mrule\u001b[0m \u001b[1;33m=\u001b[0m \u001b[0mgen_rule\u001b[0m\u001b[1;33m(\u001b[0m\u001b[0mL\u001b[0m\u001b[1;33m,\u001b[0m\u001b[0msupportData\u001b[0m\u001b[1;33m,\u001b[0m\u001b[0mminConf\u001b[0m \u001b[1;33m=\u001b[0m \u001b[1;36m.35\u001b[0m\u001b[1;33m)\u001b[0m\u001b[1;33m\u001b[0m\u001b[1;33m\u001b[0m\u001b[0m\n",
      "\u001b[1;31mNameError\u001b[0m: name 'apriori' is not defined"
     ]
    }
   ],
   "source": [
    "dataSet = data_translation\n",
    "L,supportData = apriori(dataSet,minSupport=0.02)\n",
    "rule = gen_rule(L,supportData,minConf = .35)"
   ]
  },
  {
   "cell_type": "code",
   "execution_count": 37,
   "id": "04ab273a",
   "metadata": {},
   "outputs": [
    {
     "ename": "ModuleNotFoundError",
     "evalue": "No module named 'mlxtend'",
     "output_type": "error",
     "traceback": [
      "\u001b[1;31m---------------------------------------------------------------------------\u001b[0m",
      "\u001b[1;31mModuleNotFoundError\u001b[0m                       Traceback (most recent call last)",
      "\u001b[1;32m~\\AppData\\Local\\Temp/ipykernel_3220/1701536186.py\u001b[0m in \u001b[0;36m<module>\u001b[1;34m\u001b[0m\n\u001b[1;32m----> 1\u001b[1;33m \u001b[1;32mfrom\u001b[0m \u001b[0mmlxtend\u001b[0m\u001b[1;33m.\u001b[0m\u001b[0mpreprocessing\u001b[0m \u001b[1;32mimport\u001b[0m \u001b[0mTransactionEncoder\u001b[0m\u001b[1;33m\u001b[0m\u001b[1;33m\u001b[0m\u001b[0m\n\u001b[0m\u001b[0;32m      2\u001b[0m \u001b[1;32mfrom\u001b[0m \u001b[0mmlxtend\u001b[0m\u001b[1;33m.\u001b[0m\u001b[0mfrequent_patterns\u001b[0m \u001b[1;32mimport\u001b[0m \u001b[0mapriori\u001b[0m\u001b[1;33m\u001b[0m\u001b[1;33m\u001b[0m\u001b[0m\n",
      "\u001b[1;31mModuleNotFoundError\u001b[0m: No module named 'mlxtend'"
     ]
    }
   ],
   "source": [
    "from mlxtend.preprocessing import TransactionEncoder \n",
    "from mlxtend.frequent_patterns import apriori"
   ]
  },
  {
   "cell_type": "code",
   "execution_count": null,
   "id": "2518742f",
   "metadata": {},
   "outputs": [],
   "source": [
    "te = TransactionEncoder()\n",
    "te_ary = te.fit(data_translation).transform(data_translation)\n",
    "df = pd.DataFrame(te_ary,columns=te.columns_)"
   ]
  },
  {
   "cell_type": "code",
   "execution_count": null,
   "id": "4e1b2bd1",
   "metadata": {},
   "outputs": [],
   "source": [
    " freq = apriori(df,min_support=0.01,use_colnames=True)"
   ]
  },
  {
   "cell_type": "code",
   "execution_count": null,
   "id": "0d64b45c",
   "metadata": {},
   "outputs": [],
   "source": [
    "freq"
   ]
  },
  {
   "cell_type": "code",
   "execution_count": null,
   "id": "2504223e",
   "metadata": {},
   "outputs": [],
   "source": [
    "from mlxtend.frequent_patterns import association_rules\n",
    "# 计算关联规则\n",
    "result = association_rules(freq,metric='confidence',min_threshold=.6)"
   ]
  },
  {
   "cell_type": "code",
   "execution_count": null,
   "id": "42555741",
   "metadata": {},
   "outputs": [],
   "source": []
  },
  {
   "cell_type": "code",
   "execution_count": null,
   "id": "d8fe26d7",
   "metadata": {},
   "outputs": [],
   "source": []
  },
  {
   "cell_type": "code",
   "execution_count": null,
   "id": "2df7e4e4",
   "metadata": {},
   "outputs": [],
   "source": []
  },
  {
   "cell_type": "code",
   "execution_count": null,
   "id": "77382505",
   "metadata": {},
   "outputs": [],
   "source": []
  },
  {
   "cell_type": "code",
   "execution_count": null,
   "id": "2a1b5d05",
   "metadata": {},
   "outputs": [],
   "source": []
  },
  {
   "cell_type": "code",
   "execution_count": null,
   "id": "1c67fa68",
   "metadata": {},
   "outputs": [],
   "source": []
  },
  {
   "cell_type": "code",
   "execution_count": null,
   "id": "34770814",
   "metadata": {},
   "outputs": [],
   "source": []
  },
  {
   "cell_type": "code",
   "execution_count": null,
   "id": "f5ed90f4",
   "metadata": {},
   "outputs": [],
   "source": []
  }
 ],
 "metadata": {
  "kernelspec": {
   "display_name": "Python 3 (ipykernel)",
   "language": "python",
   "name": "python3"
  },
  "language_info": {
   "codemirror_mode": {
    "name": "ipython",
    "version": 3
   },
   "file_extension": ".py",
   "mimetype": "text/x-python",
   "name": "python",
   "nbconvert_exporter": "python",
   "pygments_lexer": "ipython3",
   "version": "3.9.7"
  }
 },
 "nbformat": 4,
 "nbformat_minor": 5
}
