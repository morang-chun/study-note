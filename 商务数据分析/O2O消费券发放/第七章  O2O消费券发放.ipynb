{
 "cells": [
  {
   "cell_type": "code",
   "execution_count": 1,
   "id": "a8d023f1",
   "metadata": {},
   "outputs": [],
   "source": [
    "import pandas as pd\n",
    "import numpy as np"
   ]
  },
  {
   "cell_type": "markdown",
   "id": "78a0dd08",
   "metadata": {},
   "source": [
    "# 数据集"
   ]
  },
  {
   "cell_type": "markdown",
   "id": "0328bef5",
   "metadata": {},
   "source": [
    "数据样本包括训练样本和测试样本。\n",
    "\n",
    "其中，训练样本共有1648881条记录，是用户在2016年1月1日至2016年6月30日之间的真实线下消费行为信息。\n",
    "\n",
    "测试样本为用户在2016年7月领取商户优惠券信息，其中不包含消费日期。\n",
    "\n",
    "总的数据属性包含用户ID、商品ID、优惠券ID、用户距门店距离、领取优惠券日期、消费日期等6个属性。\n"
   ]
  },
  {
   "cell_type": "code",
   "execution_count": 2,
   "id": "9f92c5fb",
   "metadata": {},
   "outputs": [],
   "source": [
    "# 读取训练样本和测试样本\n",
    "data_train = pd.read_csv(\"D:/datasets/商务数据分析/7/data/train.csv\")\n",
    "data_test = pd.read_csv(\"D:/datasets/商务数据分析/7/data/test.csv\")"
   ]
  },
  {
   "cell_type": "markdown",
   "id": "fc237884",
   "metadata": {},
   "source": [
    "# 目标"
   ]
  },
  {
   "cell_type": "markdown",
   "id": "5cd500fa",
   "metadata": {},
   "source": [
    "本案例的目标是预测用户在领取优惠券15天以内的使用情况。\n",
    "\n",
    "为了将该问题转化为二分类问题，将领取优惠券后15天以内使用的样本标记为正类样本，15天以内没使用的样本标记为负样本。\n",
    "\n",
    "确定此案例的问题是分类问题后，然后结合用户使用优惠券的情景和实际业务场景，主要需要建立用户指标和商户指标。\n",
    "\n",
    "使用这两个指标衡量用户使用优惠券的情况。最后根据这些指标建立分类模型，预测用户在领取优惠券15天以内的使用情况。\n"
   ]
  },
  {
   "cell_type": "markdown",
   "id": "525da39c",
   "metadata": {},
   "source": [
    "#  探索性分析"
   ]
  },
  {
   "cell_type": "markdown",
   "id": "580f1de2",
   "metadata": {},
   "source": [
    "原始数据集中包括用户ID、商户ID、优惠券ID、优惠率、用户经常活动的地点与商家最近的门店距离等信息，需要对原始数据从多个维度进行探索性分析，本案例主要包括数据描述性统计分析、分析用户消费行为信息、分析商户投放优惠券信息等，了解用户的消费行为及商户投放优惠券的情况。\n"
   ]
  },
  {
   "cell_type": "markdown",
   "id": "ed6d0451",
   "metadata": {},
   "source": [
    "描述性统计分析。\n",
    "\n",
    "对训练样本、测试样本进行描述性统计分析，分别得到训练和测试样本的属性观测值中的空值个数、最大值和最小值。\n",
    "\n",
    "\n"
   ]
  },
  {
   "cell_type": "markdown",
   "id": "67109b4f",
   "metadata": {},
   "source": [
    "### 训练样本的描述性统计分析"
   ]
  },
  {
   "cell_type": "code",
   "execution_count": 3,
   "id": "2e20d6a9",
   "metadata": {
    "scrolled": true
   },
   "outputs": [],
   "source": [
    "\n",
    "explore_train =data_train.describe(percentiles=[],include=\"all\").T # percentiles参数是指定计算多少的分位数表（如1/4分位数、中位数等）"
   ]
  },
  {
   "cell_type": "code",
   "execution_count": 4,
   "id": "986f7edf",
   "metadata": {},
   "outputs": [
    {
     "data": {
      "text/html": [
       "<div>\n",
       "<style scoped>\n",
       "    .dataframe tbody tr th:only-of-type {\n",
       "        vertical-align: middle;\n",
       "    }\n",
       "\n",
       "    .dataframe tbody tr th {\n",
       "        vertical-align: top;\n",
       "    }\n",
       "\n",
       "    .dataframe thead th {\n",
       "        text-align: right;\n",
       "    }\n",
       "</style>\n",
       "<table border=\"1\" class=\"dataframe\">\n",
       "  <thead>\n",
       "    <tr style=\"text-align: right;\">\n",
       "      <th></th>\n",
       "      <th>count</th>\n",
       "      <th>unique</th>\n",
       "      <th>top</th>\n",
       "      <th>freq</th>\n",
       "      <th>mean</th>\n",
       "      <th>std</th>\n",
       "      <th>min</th>\n",
       "      <th>50%</th>\n",
       "      <th>max</th>\n",
       "    </tr>\n",
       "  </thead>\n",
       "  <tbody>\n",
       "    <tr>\n",
       "      <th>user_id</th>\n",
       "      <td>1648881.0</td>\n",
       "      <td>NaN</td>\n",
       "      <td>NaN</td>\n",
       "      <td>NaN</td>\n",
       "      <td>3688954.810486</td>\n",
       "      <td>2123594.842488</td>\n",
       "      <td>4.0</td>\n",
       "      <td>3694837.0</td>\n",
       "      <td>7361032.0</td>\n",
       "    </tr>\n",
       "    <tr>\n",
       "      <th>merchant_id</th>\n",
       "      <td>1648881.0</td>\n",
       "      <td>NaN</td>\n",
       "      <td>NaN</td>\n",
       "      <td>NaN</td>\n",
       "      <td>4040.951813</td>\n",
       "      <td>2438.159893</td>\n",
       "      <td>1.0</td>\n",
       "      <td>3532.0</td>\n",
       "      <td>8856.0</td>\n",
       "    </tr>\n",
       "    <tr>\n",
       "      <th>coupon_id</th>\n",
       "      <td>947279.0</td>\n",
       "      <td>NaN</td>\n",
       "      <td>NaN</td>\n",
       "      <td>NaN</td>\n",
       "      <td>6811.363212</td>\n",
       "      <td>4155.866533</td>\n",
       "      <td>1.0</td>\n",
       "      <td>7430.0</td>\n",
       "      <td>14045.0</td>\n",
       "    </tr>\n",
       "    <tr>\n",
       "      <th>discount_rate</th>\n",
       "      <td>947279</td>\n",
       "      <td>45</td>\n",
       "      <td>30:5</td>\n",
       "      <td>250742</td>\n",
       "      <td>NaN</td>\n",
       "      <td>NaN</td>\n",
       "      <td>NaN</td>\n",
       "      <td>NaN</td>\n",
       "      <td>NaN</td>\n",
       "    </tr>\n",
       "    <tr>\n",
       "      <th>distance</th>\n",
       "      <td>1648881.0</td>\n",
       "      <td>NaN</td>\n",
       "      <td>NaN</td>\n",
       "      <td>NaN</td>\n",
       "      <td>2.361636</td>\n",
       "      <td>3.483974</td>\n",
       "      <td>0.0</td>\n",
       "      <td>0.0</td>\n",
       "      <td>10.0</td>\n",
       "    </tr>\n",
       "    <tr>\n",
       "      <th>date_received</th>\n",
       "      <td>947279.0</td>\n",
       "      <td>NaN</td>\n",
       "      <td>NaN</td>\n",
       "      <td>NaN</td>\n",
       "      <td>20160314.145041</td>\n",
       "      <td>176.963561</td>\n",
       "      <td>20160101.0</td>\n",
       "      <td>20160321.0</td>\n",
       "      <td>20160615.0</td>\n",
       "    </tr>\n",
       "    <tr>\n",
       "      <th>date</th>\n",
       "      <td>768767.0</td>\n",
       "      <td>NaN</td>\n",
       "      <td>NaN</td>\n",
       "      <td>NaN</td>\n",
       "      <td>20160398.685118</td>\n",
       "      <td>162.081545</td>\n",
       "      <td>20160101.0</td>\n",
       "      <td>20160416.0</td>\n",
       "      <td>20160630.0</td>\n",
       "    </tr>\n",
       "  </tbody>\n",
       "</table>\n",
       "</div>"
      ],
      "text/plain": [
       "                   count unique   top    freq             mean  \\\n",
       "user_id        1648881.0    NaN   NaN     NaN   3688954.810486   \n",
       "merchant_id    1648881.0    NaN   NaN     NaN      4040.951813   \n",
       "coupon_id       947279.0    NaN   NaN     NaN      6811.363212   \n",
       "discount_rate     947279     45  30:5  250742              NaN   \n",
       "distance       1648881.0    NaN   NaN     NaN         2.361636   \n",
       "date_received   947279.0    NaN   NaN     NaN  20160314.145041   \n",
       "date            768767.0    NaN   NaN     NaN  20160398.685118   \n",
       "\n",
       "                          std         min         50%         max  \n",
       "user_id        2123594.842488         4.0   3694837.0   7361032.0  \n",
       "merchant_id       2438.159893         1.0      3532.0      8856.0  \n",
       "coupon_id         4155.866533         1.0      7430.0     14045.0  \n",
       "discount_rate             NaN         NaN         NaN         NaN  \n",
       "distance             3.483974         0.0         0.0        10.0  \n",
       "date_received      176.963561  20160101.0  20160321.0  20160615.0  \n",
       "date               162.081545  20160101.0  20160416.0  20160630.0  "
      ]
     },
     "execution_count": 4,
     "metadata": {},
     "output_type": "execute_result"
    }
   ],
   "source": [
    "explore_train "
   ]
  },
  {
   "cell_type": "code",
   "execution_count": 5,
   "id": "ca32d460",
   "metadata": {},
   "outputs": [],
   "source": [
    "explore_train['null']=data_train.isnull().sum()"
   ]
  },
  {
   "cell_type": "code",
   "execution_count": 6,
   "id": "3be4185f",
   "metadata": {},
   "outputs": [
    {
     "data": {
      "text/html": [
       "<div>\n",
       "<style scoped>\n",
       "    .dataframe tbody tr th:only-of-type {\n",
       "        vertical-align: middle;\n",
       "    }\n",
       "\n",
       "    .dataframe tbody tr th {\n",
       "        vertical-align: top;\n",
       "    }\n",
       "\n",
       "    .dataframe thead th {\n",
       "        text-align: right;\n",
       "    }\n",
       "</style>\n",
       "<table border=\"1\" class=\"dataframe\">\n",
       "  <thead>\n",
       "    <tr style=\"text-align: right;\">\n",
       "      <th></th>\n",
       "      <th>count</th>\n",
       "      <th>unique</th>\n",
       "      <th>top</th>\n",
       "      <th>freq</th>\n",
       "      <th>mean</th>\n",
       "      <th>std</th>\n",
       "      <th>min</th>\n",
       "      <th>50%</th>\n",
       "      <th>max</th>\n",
       "      <th>null</th>\n",
       "    </tr>\n",
       "  </thead>\n",
       "  <tbody>\n",
       "    <tr>\n",
       "      <th>user_id</th>\n",
       "      <td>1648881.0</td>\n",
       "      <td>NaN</td>\n",
       "      <td>NaN</td>\n",
       "      <td>NaN</td>\n",
       "      <td>3688954.810486</td>\n",
       "      <td>2123594.842488</td>\n",
       "      <td>4.0</td>\n",
       "      <td>3694837.0</td>\n",
       "      <td>7361032.0</td>\n",
       "      <td>0</td>\n",
       "    </tr>\n",
       "    <tr>\n",
       "      <th>merchant_id</th>\n",
       "      <td>1648881.0</td>\n",
       "      <td>NaN</td>\n",
       "      <td>NaN</td>\n",
       "      <td>NaN</td>\n",
       "      <td>4040.951813</td>\n",
       "      <td>2438.159893</td>\n",
       "      <td>1.0</td>\n",
       "      <td>3532.0</td>\n",
       "      <td>8856.0</td>\n",
       "      <td>0</td>\n",
       "    </tr>\n",
       "    <tr>\n",
       "      <th>coupon_id</th>\n",
       "      <td>947279.0</td>\n",
       "      <td>NaN</td>\n",
       "      <td>NaN</td>\n",
       "      <td>NaN</td>\n",
       "      <td>6811.363212</td>\n",
       "      <td>4155.866533</td>\n",
       "      <td>1.0</td>\n",
       "      <td>7430.0</td>\n",
       "      <td>14045.0</td>\n",
       "      <td>701602</td>\n",
       "    </tr>\n",
       "    <tr>\n",
       "      <th>discount_rate</th>\n",
       "      <td>947279</td>\n",
       "      <td>45</td>\n",
       "      <td>30:5</td>\n",
       "      <td>250742</td>\n",
       "      <td>NaN</td>\n",
       "      <td>NaN</td>\n",
       "      <td>NaN</td>\n",
       "      <td>NaN</td>\n",
       "      <td>NaN</td>\n",
       "      <td>701602</td>\n",
       "    </tr>\n",
       "    <tr>\n",
       "      <th>distance</th>\n",
       "      <td>1648881.0</td>\n",
       "      <td>NaN</td>\n",
       "      <td>NaN</td>\n",
       "      <td>NaN</td>\n",
       "      <td>2.361636</td>\n",
       "      <td>3.483974</td>\n",
       "      <td>0.0</td>\n",
       "      <td>0.0</td>\n",
       "      <td>10.0</td>\n",
       "      <td>0</td>\n",
       "    </tr>\n",
       "    <tr>\n",
       "      <th>date_received</th>\n",
       "      <td>947279.0</td>\n",
       "      <td>NaN</td>\n",
       "      <td>NaN</td>\n",
       "      <td>NaN</td>\n",
       "      <td>20160314.145041</td>\n",
       "      <td>176.963561</td>\n",
       "      <td>20160101.0</td>\n",
       "      <td>20160321.0</td>\n",
       "      <td>20160615.0</td>\n",
       "      <td>701602</td>\n",
       "    </tr>\n",
       "    <tr>\n",
       "      <th>date</th>\n",
       "      <td>768767.0</td>\n",
       "      <td>NaN</td>\n",
       "      <td>NaN</td>\n",
       "      <td>NaN</td>\n",
       "      <td>20160398.685118</td>\n",
       "      <td>162.081545</td>\n",
       "      <td>20160101.0</td>\n",
       "      <td>20160416.0</td>\n",
       "      <td>20160630.0</td>\n",
       "      <td>880114</td>\n",
       "    </tr>\n",
       "  </tbody>\n",
       "</table>\n",
       "</div>"
      ],
      "text/plain": [
       "                   count unique   top    freq             mean  \\\n",
       "user_id        1648881.0    NaN   NaN     NaN   3688954.810486   \n",
       "merchant_id    1648881.0    NaN   NaN     NaN      4040.951813   \n",
       "coupon_id       947279.0    NaN   NaN     NaN      6811.363212   \n",
       "discount_rate     947279     45  30:5  250742              NaN   \n",
       "distance       1648881.0    NaN   NaN     NaN         2.361636   \n",
       "date_received   947279.0    NaN   NaN     NaN  20160314.145041   \n",
       "date            768767.0    NaN   NaN     NaN  20160398.685118   \n",
       "\n",
       "                          std         min         50%         max    null  \n",
       "user_id        2123594.842488         4.0   3694837.0   7361032.0       0  \n",
       "merchant_id       2438.159893         1.0      3532.0      8856.0       0  \n",
       "coupon_id         4155.866533         1.0      7430.0     14045.0  701602  \n",
       "discount_rate             NaN         NaN         NaN         NaN  701602  \n",
       "distance             3.483974         0.0         0.0        10.0       0  \n",
       "date_received      176.963561  20160101.0  20160321.0  20160615.0  701602  \n",
       "date               162.081545  20160101.0  20160416.0  20160630.0  880114  "
      ]
     },
     "execution_count": 6,
     "metadata": {},
     "output_type": "execute_result"
    }
   ],
   "source": [
    "explore_train"
   ]
  },
  {
   "cell_type": "code",
   "execution_count": null,
   "id": "343d6058",
   "metadata": {},
   "outputs": [],
   "source": []
  },
  {
   "cell_type": "code",
   "execution_count": 7,
   "id": "6045dff8",
   "metadata": {},
   "outputs": [],
   "source": [
    "explore_train=explore_train[['null', 'max', 'min']]"
   ]
  },
  {
   "cell_type": "code",
   "execution_count": 8,
   "id": "7d434d2a",
   "metadata": {},
   "outputs": [],
   "source": [
    "explore_train.columns = ['空值数', '最大值', '最小值']"
   ]
  },
  {
   "cell_type": "code",
   "execution_count": 9,
   "id": "6350a563",
   "metadata": {},
   "outputs": [
    {
     "data": {
      "text/html": [
       "<div>\n",
       "<style scoped>\n",
       "    .dataframe tbody tr th:only-of-type {\n",
       "        vertical-align: middle;\n",
       "    }\n",
       "\n",
       "    .dataframe tbody tr th {\n",
       "        vertical-align: top;\n",
       "    }\n",
       "\n",
       "    .dataframe thead th {\n",
       "        text-align: right;\n",
       "    }\n",
       "</style>\n",
       "<table border=\"1\" class=\"dataframe\">\n",
       "  <thead>\n",
       "    <tr style=\"text-align: right;\">\n",
       "      <th></th>\n",
       "      <th>空值数</th>\n",
       "      <th>最大值</th>\n",
       "      <th>最小值</th>\n",
       "    </tr>\n",
       "  </thead>\n",
       "  <tbody>\n",
       "    <tr>\n",
       "      <th>user_id</th>\n",
       "      <td>0</td>\n",
       "      <td>7361032.0</td>\n",
       "      <td>4.0</td>\n",
       "    </tr>\n",
       "    <tr>\n",
       "      <th>merchant_id</th>\n",
       "      <td>0</td>\n",
       "      <td>8856.0</td>\n",
       "      <td>1.0</td>\n",
       "    </tr>\n",
       "    <tr>\n",
       "      <th>coupon_id</th>\n",
       "      <td>701602</td>\n",
       "      <td>14045.0</td>\n",
       "      <td>1.0</td>\n",
       "    </tr>\n",
       "    <tr>\n",
       "      <th>discount_rate</th>\n",
       "      <td>701602</td>\n",
       "      <td>NaN</td>\n",
       "      <td>NaN</td>\n",
       "    </tr>\n",
       "    <tr>\n",
       "      <th>distance</th>\n",
       "      <td>0</td>\n",
       "      <td>10.0</td>\n",
       "      <td>0.0</td>\n",
       "    </tr>\n",
       "    <tr>\n",
       "      <th>date_received</th>\n",
       "      <td>701602</td>\n",
       "      <td>20160615.0</td>\n",
       "      <td>20160101.0</td>\n",
       "    </tr>\n",
       "    <tr>\n",
       "      <th>date</th>\n",
       "      <td>880114</td>\n",
       "      <td>20160630.0</td>\n",
       "      <td>20160101.0</td>\n",
       "    </tr>\n",
       "  </tbody>\n",
       "</table>\n",
       "</div>"
      ],
      "text/plain": [
       "                  空值数         最大值         最小值\n",
       "user_id             0   7361032.0         4.0\n",
       "merchant_id         0      8856.0         1.0\n",
       "coupon_id      701602     14045.0         1.0\n",
       "discount_rate  701602         NaN         NaN\n",
       "distance            0        10.0         0.0\n",
       "date_received  701602  20160615.0  20160101.0\n",
       "date           880114  20160630.0  20160101.0"
      ]
     },
     "execution_count": 9,
     "metadata": {},
     "output_type": "execute_result"
    }
   ],
   "source": [
    "explore_train"
   ]
  },
  {
   "cell_type": "markdown",
   "id": "1c0f8d77",
   "metadata": {},
   "source": [
    "###  测试样本的描述性统计分析"
   ]
  },
  {
   "cell_type": "code",
   "execution_count": 10,
   "id": "322c5251",
   "metadata": {},
   "outputs": [],
   "source": [
    "\n",
    "explore_test = data_test.describe(percentiles = [], include = 'all').T \n",
    "explore_test['null'] = data_test.isnull().sum()  # 统计缺失值\n",
    "explore_test = explore_test[['null', 'max', 'min']]\n",
    "explore_test.columns = ['空值数', '最大值', '最小值']  # 表头重命名"
   ]
  },
  {
   "cell_type": "code",
   "execution_count": 11,
   "id": "39aec8ce",
   "metadata": {},
   "outputs": [
    {
     "data": {
      "text/html": [
       "<div>\n",
       "<style scoped>\n",
       "    .dataframe tbody tr th:only-of-type {\n",
       "        vertical-align: middle;\n",
       "    }\n",
       "\n",
       "    .dataframe tbody tr th {\n",
       "        vertical-align: top;\n",
       "    }\n",
       "\n",
       "    .dataframe thead th {\n",
       "        text-align: right;\n",
       "    }\n",
       "</style>\n",
       "<table border=\"1\" class=\"dataframe\">\n",
       "  <thead>\n",
       "    <tr style=\"text-align: right;\">\n",
       "      <th></th>\n",
       "      <th>空值数</th>\n",
       "      <th>最大值</th>\n",
       "      <th>最小值</th>\n",
       "    </tr>\n",
       "  </thead>\n",
       "  <tbody>\n",
       "    <tr>\n",
       "      <th>user_id</th>\n",
       "      <td>0</td>\n",
       "      <td>7361024.0</td>\n",
       "      <td>209.0</td>\n",
       "    </tr>\n",
       "    <tr>\n",
       "      <th>merchant_id</th>\n",
       "      <td>0</td>\n",
       "      <td>8856.0</td>\n",
       "      <td>6.0</td>\n",
       "    </tr>\n",
       "    <tr>\n",
       "      <th>coupon_id</th>\n",
       "      <td>0</td>\n",
       "      <td>14045.0</td>\n",
       "      <td>3.0</td>\n",
       "    </tr>\n",
       "    <tr>\n",
       "      <th>discount_rate</th>\n",
       "      <td>0</td>\n",
       "      <td>NaN</td>\n",
       "      <td>NaN</td>\n",
       "    </tr>\n",
       "    <tr>\n",
       "      <th>distance</th>\n",
       "      <td>0</td>\n",
       "      <td>10.0</td>\n",
       "      <td>0.0</td>\n",
       "    </tr>\n",
       "    <tr>\n",
       "      <th>date_received</th>\n",
       "      <td>0</td>\n",
       "      <td>20160731.0</td>\n",
       "      <td>20160701.0</td>\n",
       "    </tr>\n",
       "  </tbody>\n",
       "</table>\n",
       "</div>"
      ],
      "text/plain": [
       "               空值数         最大值         最小值\n",
       "user_id          0   7361024.0       209.0\n",
       "merchant_id      0      8856.0         6.0\n",
       "coupon_id        0     14045.0         3.0\n",
       "discount_rate    0         NaN         NaN\n",
       "distance         0        10.0         0.0\n",
       "date_received    0  20160731.0  20160701.0"
      ]
     },
     "execution_count": 11,
     "metadata": {},
     "output_type": "execute_result"
    }
   ],
   "source": [
    "explore_test"
   ]
  },
  {
   "cell_type": "markdown",
   "id": "ed9b5fa4",
   "metadata": {},
   "source": [
    "### 导出描述性统计分析结果"
   ]
  },
  {
   "cell_type": "code",
   "execution_count": 12,
   "id": "f477f909",
   "metadata": {},
   "outputs": [],
   "source": [
    "\n",
    "explore_train.to_csv(\"D:/datasets/商务数据分析/7/data/train_result.csv\") \n",
    "explore_test.to_csv(\"D:/datasets/商务数据分析/7/data/result_test.csv\")\n"
   ]
  },
  {
   "cell_type": "markdown",
   "id": "1f16bfd7",
   "metadata": {},
   "source": [
    "\n",
    "### 分析用户消费行为信息。\n",
    "\n"
   ]
  },
  {
   "cell_type": "markdown",
   "id": "26bba37b",
   "metadata": {},
   "source": [
    "#### 数据格式转化"
   ]
  },
  {
   "cell_type": "code",
   "execution_count": 13,
   "id": "1074c396",
   "metadata": {},
   "outputs": [
    {
     "data": {
      "text/html": [
       "<div>\n",
       "<style scoped>\n",
       "    .dataframe tbody tr th:only-of-type {\n",
       "        vertical-align: middle;\n",
       "    }\n",
       "\n",
       "    .dataframe tbody tr th {\n",
       "        vertical-align: top;\n",
       "    }\n",
       "\n",
       "    .dataframe thead th {\n",
       "        text-align: right;\n",
       "    }\n",
       "</style>\n",
       "<table border=\"1\" class=\"dataframe\">\n",
       "  <thead>\n",
       "    <tr style=\"text-align: right;\">\n",
       "      <th></th>\n",
       "      <th>user_id</th>\n",
       "      <th>merchant_id</th>\n",
       "      <th>coupon_id</th>\n",
       "      <th>discount_rate</th>\n",
       "      <th>distance</th>\n",
       "      <th>date_received</th>\n",
       "      <th>date</th>\n",
       "    </tr>\n",
       "  </thead>\n",
       "  <tbody>\n",
       "    <tr>\n",
       "      <th>0</th>\n",
       "      <td>1439408</td>\n",
       "      <td>2632</td>\n",
       "      <td>NaN</td>\n",
       "      <td>NaN</td>\n",
       "      <td>0</td>\n",
       "      <td>NaN</td>\n",
       "      <td>20160217.0</td>\n",
       "    </tr>\n",
       "    <tr>\n",
       "      <th>1</th>\n",
       "      <td>1439408</td>\n",
       "      <td>4663</td>\n",
       "      <td>11002.0</td>\n",
       "      <td>150:20</td>\n",
       "      <td>1</td>\n",
       "      <td>20160528.0</td>\n",
       "      <td>NaN</td>\n",
       "    </tr>\n",
       "    <tr>\n",
       "      <th>2</th>\n",
       "      <td>1439408</td>\n",
       "      <td>2632</td>\n",
       "      <td>8591.0</td>\n",
       "      <td>20:1</td>\n",
       "      <td>0</td>\n",
       "      <td>20160217.0</td>\n",
       "      <td>NaN</td>\n",
       "    </tr>\n",
       "    <tr>\n",
       "      <th>3</th>\n",
       "      <td>1439408</td>\n",
       "      <td>2632</td>\n",
       "      <td>1078.0</td>\n",
       "      <td>20:1</td>\n",
       "      <td>0</td>\n",
       "      <td>20160319.0</td>\n",
       "      <td>NaN</td>\n",
       "    </tr>\n",
       "    <tr>\n",
       "      <th>4</th>\n",
       "      <td>1439408</td>\n",
       "      <td>2632</td>\n",
       "      <td>8591.0</td>\n",
       "      <td>20:1</td>\n",
       "      <td>0</td>\n",
       "      <td>20160613.0</td>\n",
       "      <td>NaN</td>\n",
       "    </tr>\n",
       "    <tr>\n",
       "      <th>...</th>\n",
       "      <td>...</td>\n",
       "      <td>...</td>\n",
       "      <td>...</td>\n",
       "      <td>...</td>\n",
       "      <td>...</td>\n",
       "      <td>...</td>\n",
       "      <td>...</td>\n",
       "    </tr>\n",
       "    <tr>\n",
       "      <th>1648876</th>\n",
       "      <td>212662</td>\n",
       "      <td>3532</td>\n",
       "      <td>NaN</td>\n",
       "      <td>NaN</td>\n",
       "      <td>1</td>\n",
       "      <td>NaN</td>\n",
       "      <td>20160322.0</td>\n",
       "    </tr>\n",
       "    <tr>\n",
       "      <th>1648877</th>\n",
       "      <td>212662</td>\n",
       "      <td>3021</td>\n",
       "      <td>3739.0</td>\n",
       "      <td>30:1</td>\n",
       "      <td>6</td>\n",
       "      <td>20160508.0</td>\n",
       "      <td>20160602.0</td>\n",
       "    </tr>\n",
       "    <tr>\n",
       "      <th>1648878</th>\n",
       "      <td>212662</td>\n",
       "      <td>2934</td>\n",
       "      <td>NaN</td>\n",
       "      <td>NaN</td>\n",
       "      <td>2</td>\n",
       "      <td>NaN</td>\n",
       "      <td>20160321.0</td>\n",
       "    </tr>\n",
       "    <tr>\n",
       "      <th>1648879</th>\n",
       "      <td>752472</td>\n",
       "      <td>7113</td>\n",
       "      <td>1633.0</td>\n",
       "      <td>50:10</td>\n",
       "      <td>6</td>\n",
       "      <td>20160613.0</td>\n",
       "      <td>NaN</td>\n",
       "    </tr>\n",
       "    <tr>\n",
       "      <th>1648880</th>\n",
       "      <td>752472</td>\n",
       "      <td>3621</td>\n",
       "      <td>2705.0</td>\n",
       "      <td>20:5</td>\n",
       "      <td>0</td>\n",
       "      <td>20160523.0</td>\n",
       "      <td>NaN</td>\n",
       "    </tr>\n",
       "  </tbody>\n",
       "</table>\n",
       "<p>1648881 rows × 7 columns</p>\n",
       "</div>"
      ],
      "text/plain": [
       "         user_id  merchant_id  coupon_id discount_rate  distance  \\\n",
       "0        1439408         2632        NaN           NaN         0   \n",
       "1        1439408         4663    11002.0        150:20         1   \n",
       "2        1439408         2632     8591.0          20:1         0   \n",
       "3        1439408         2632     1078.0          20:1         0   \n",
       "4        1439408         2632     8591.0          20:1         0   \n",
       "...          ...          ...        ...           ...       ...   \n",
       "1648876   212662         3532        NaN           NaN         1   \n",
       "1648877   212662         3021     3739.0          30:1         6   \n",
       "1648878   212662         2934        NaN           NaN         2   \n",
       "1648879   752472         7113     1633.0         50:10         6   \n",
       "1648880   752472         3621     2705.0          20:5         0   \n",
       "\n",
       "         date_received        date  \n",
       "0                  NaN  20160217.0  \n",
       "1           20160528.0         NaN  \n",
       "2           20160217.0         NaN  \n",
       "3           20160319.0         NaN  \n",
       "4           20160613.0         NaN  \n",
       "...                ...         ...  \n",
       "1648876            NaN  20160322.0  \n",
       "1648877     20160508.0  20160602.0  \n",
       "1648878            NaN  20160321.0  \n",
       "1648879     20160613.0         NaN  \n",
       "1648880     20160523.0         NaN  \n",
       "\n",
       "[1648881 rows x 7 columns]"
      ]
     },
     "execution_count": 13,
     "metadata": {},
     "output_type": "execute_result"
    }
   ],
   "source": [
    "data_train"
   ]
  },
  {
   "cell_type": "code",
   "execution_count": 14,
   "id": "f4d54b20",
   "metadata": {},
   "outputs": [
    {
     "name": "stdout",
     "output_type": "stream",
     "text": [
      "<class 'pandas.core.frame.DataFrame'>\n",
      "RangeIndex: 1648881 entries, 0 to 1648880\n",
      "Data columns (total 7 columns):\n",
      " #   Column         Non-Null Count    Dtype  \n",
      "---  ------         --------------    -----  \n",
      " 0   user_id        1648881 non-null  int64  \n",
      " 1   merchant_id    1648881 non-null  int64  \n",
      " 2   coupon_id      947279 non-null   float64\n",
      " 3   discount_rate  947279 non-null   object \n",
      " 4   distance       1648881 non-null  int64  \n",
      " 5   date_received  947279 non-null   float64\n",
      " 6   date           768767 non-null   float64\n",
      "dtypes: float64(3), int64(3), object(1)\n",
      "memory usage: 88.1+ MB\n"
     ]
    }
   ],
   "source": [
    "data_train.info()"
   ]
  },
  {
   "cell_type": "code",
   "execution_count": 15,
   "id": "99365380",
   "metadata": {},
   "outputs": [],
   "source": [
    "data1=data_train.copy()"
   ]
  },
  {
   "cell_type": "code",
   "execution_count": 16,
   "id": "55e04678",
   "metadata": {},
   "outputs": [],
   "source": [
    "data1['date'] = data1['date'].astype('str').apply(lambda x:x.split('.')[0])"
   ]
  },
  {
   "cell_type": "code",
   "execution_count": 17,
   "id": "5e7fb271",
   "metadata": {},
   "outputs": [
    {
     "name": "stdout",
     "output_type": "stream",
     "text": [
      "<class 'pandas.core.frame.DataFrame'>\n",
      "RangeIndex: 1648881 entries, 0 to 1648880\n",
      "Data columns (total 7 columns):\n",
      " #   Column         Non-Null Count    Dtype  \n",
      "---  ------         --------------    -----  \n",
      " 0   user_id        1648881 non-null  int64  \n",
      " 1   merchant_id    1648881 non-null  int64  \n",
      " 2   coupon_id      947279 non-null   float64\n",
      " 3   discount_rate  947279 non-null   object \n",
      " 4   distance       1648881 non-null  int64  \n",
      " 5   date_received  947279 non-null   float64\n",
      " 6   date           1648881 non-null  object \n",
      "dtypes: float64(2), int64(3), object(2)\n",
      "memory usage: 88.1+ MB\n"
     ]
    }
   ],
   "source": [
    "data1.info()"
   ]
  },
  {
   "cell_type": "code",
   "execution_count": 18,
   "id": "bc3899ad",
   "metadata": {},
   "outputs": [
    {
     "data": {
      "text/html": [
       "<div>\n",
       "<style scoped>\n",
       "    .dataframe tbody tr th:only-of-type {\n",
       "        vertical-align: middle;\n",
       "    }\n",
       "\n",
       "    .dataframe tbody tr th {\n",
       "        vertical-align: top;\n",
       "    }\n",
       "\n",
       "    .dataframe thead th {\n",
       "        text-align: right;\n",
       "    }\n",
       "</style>\n",
       "<table border=\"1\" class=\"dataframe\">\n",
       "  <thead>\n",
       "    <tr style=\"text-align: right;\">\n",
       "      <th></th>\n",
       "      <th>user_id</th>\n",
       "      <th>merchant_id</th>\n",
       "      <th>coupon_id</th>\n",
       "      <th>discount_rate</th>\n",
       "      <th>distance</th>\n",
       "      <th>date_received</th>\n",
       "      <th>date</th>\n",
       "    </tr>\n",
       "  </thead>\n",
       "  <tbody>\n",
       "    <tr>\n",
       "      <th>0</th>\n",
       "      <td>1439408</td>\n",
       "      <td>2632</td>\n",
       "      <td>NaN</td>\n",
       "      <td>NaN</td>\n",
       "      <td>0</td>\n",
       "      <td>NaN</td>\n",
       "      <td>20160217</td>\n",
       "    </tr>\n",
       "    <tr>\n",
       "      <th>1</th>\n",
       "      <td>1439408</td>\n",
       "      <td>4663</td>\n",
       "      <td>11002.0</td>\n",
       "      <td>150:20</td>\n",
       "      <td>1</td>\n",
       "      <td>20160528.0</td>\n",
       "      <td>nan</td>\n",
       "    </tr>\n",
       "    <tr>\n",
       "      <th>2</th>\n",
       "      <td>1439408</td>\n",
       "      <td>2632</td>\n",
       "      <td>8591.0</td>\n",
       "      <td>20:1</td>\n",
       "      <td>0</td>\n",
       "      <td>20160217.0</td>\n",
       "      <td>nan</td>\n",
       "    </tr>\n",
       "    <tr>\n",
       "      <th>3</th>\n",
       "      <td>1439408</td>\n",
       "      <td>2632</td>\n",
       "      <td>1078.0</td>\n",
       "      <td>20:1</td>\n",
       "      <td>0</td>\n",
       "      <td>20160319.0</td>\n",
       "      <td>nan</td>\n",
       "    </tr>\n",
       "    <tr>\n",
       "      <th>4</th>\n",
       "      <td>1439408</td>\n",
       "      <td>2632</td>\n",
       "      <td>8591.0</td>\n",
       "      <td>20:1</td>\n",
       "      <td>0</td>\n",
       "      <td>20160613.0</td>\n",
       "      <td>nan</td>\n",
       "    </tr>\n",
       "    <tr>\n",
       "      <th>...</th>\n",
       "      <td>...</td>\n",
       "      <td>...</td>\n",
       "      <td>...</td>\n",
       "      <td>...</td>\n",
       "      <td>...</td>\n",
       "      <td>...</td>\n",
       "      <td>...</td>\n",
       "    </tr>\n",
       "    <tr>\n",
       "      <th>1648876</th>\n",
       "      <td>212662</td>\n",
       "      <td>3532</td>\n",
       "      <td>NaN</td>\n",
       "      <td>NaN</td>\n",
       "      <td>1</td>\n",
       "      <td>NaN</td>\n",
       "      <td>20160322</td>\n",
       "    </tr>\n",
       "    <tr>\n",
       "      <th>1648877</th>\n",
       "      <td>212662</td>\n",
       "      <td>3021</td>\n",
       "      <td>3739.0</td>\n",
       "      <td>30:1</td>\n",
       "      <td>6</td>\n",
       "      <td>20160508.0</td>\n",
       "      <td>20160602</td>\n",
       "    </tr>\n",
       "    <tr>\n",
       "      <th>1648878</th>\n",
       "      <td>212662</td>\n",
       "      <td>2934</td>\n",
       "      <td>NaN</td>\n",
       "      <td>NaN</td>\n",
       "      <td>2</td>\n",
       "      <td>NaN</td>\n",
       "      <td>20160321</td>\n",
       "    </tr>\n",
       "    <tr>\n",
       "      <th>1648879</th>\n",
       "      <td>752472</td>\n",
       "      <td>7113</td>\n",
       "      <td>1633.0</td>\n",
       "      <td>50:10</td>\n",
       "      <td>6</td>\n",
       "      <td>20160613.0</td>\n",
       "      <td>nan</td>\n",
       "    </tr>\n",
       "    <tr>\n",
       "      <th>1648880</th>\n",
       "      <td>752472</td>\n",
       "      <td>3621</td>\n",
       "      <td>2705.0</td>\n",
       "      <td>20:5</td>\n",
       "      <td>0</td>\n",
       "      <td>20160523.0</td>\n",
       "      <td>nan</td>\n",
       "    </tr>\n",
       "  </tbody>\n",
       "</table>\n",
       "<p>1648881 rows × 7 columns</p>\n",
       "</div>"
      ],
      "text/plain": [
       "         user_id  merchant_id  coupon_id discount_rate  distance  \\\n",
       "0        1439408         2632        NaN           NaN         0   \n",
       "1        1439408         4663    11002.0        150:20         1   \n",
       "2        1439408         2632     8591.0          20:1         0   \n",
       "3        1439408         2632     1078.0          20:1         0   \n",
       "4        1439408         2632     8591.0          20:1         0   \n",
       "...          ...          ...        ...           ...       ...   \n",
       "1648876   212662         3532        NaN           NaN         1   \n",
       "1648877   212662         3021     3739.0          30:1         6   \n",
       "1648878   212662         2934        NaN           NaN         2   \n",
       "1648879   752472         7113     1633.0         50:10         6   \n",
       "1648880   752472         3621     2705.0          20:5         0   \n",
       "\n",
       "         date_received      date  \n",
       "0                  NaN  20160217  \n",
       "1           20160528.0       nan  \n",
       "2           20160217.0       nan  \n",
       "3           20160319.0       nan  \n",
       "4           20160613.0       nan  \n",
       "...                ...       ...  \n",
       "1648876            NaN  20160322  \n",
       "1648877     20160508.0  20160602  \n",
       "1648878            NaN  20160321  \n",
       "1648879     20160613.0       nan  \n",
       "1648880     20160523.0       nan  \n",
       "\n",
       "[1648881 rows x 7 columns]"
      ]
     },
     "execution_count": 18,
     "metadata": {},
     "output_type": "execute_result"
    }
   ],
   "source": [
    "data1"
   ]
  },
  {
   "cell_type": "code",
   "execution_count": 19,
   "id": "d5ce4cd1",
   "metadata": {},
   "outputs": [],
   "source": [
    "data1['date'] = pd.to_datetime(data1['date'])  # 将date转为datetime类型"
   ]
  },
  {
   "cell_type": "code",
   "execution_count": 20,
   "id": "9791a1fe",
   "metadata": {},
   "outputs": [
    {
     "data": {
      "text/html": [
       "<div>\n",
       "<style scoped>\n",
       "    .dataframe tbody tr th:only-of-type {\n",
       "        vertical-align: middle;\n",
       "    }\n",
       "\n",
       "    .dataframe tbody tr th {\n",
       "        vertical-align: top;\n",
       "    }\n",
       "\n",
       "    .dataframe thead th {\n",
       "        text-align: right;\n",
       "    }\n",
       "</style>\n",
       "<table border=\"1\" class=\"dataframe\">\n",
       "  <thead>\n",
       "    <tr style=\"text-align: right;\">\n",
       "      <th></th>\n",
       "      <th>user_id</th>\n",
       "      <th>merchant_id</th>\n",
       "      <th>coupon_id</th>\n",
       "      <th>discount_rate</th>\n",
       "      <th>distance</th>\n",
       "      <th>date_received</th>\n",
       "      <th>date</th>\n",
       "    </tr>\n",
       "  </thead>\n",
       "  <tbody>\n",
       "    <tr>\n",
       "      <th>0</th>\n",
       "      <td>1439408</td>\n",
       "      <td>2632</td>\n",
       "      <td>NaN</td>\n",
       "      <td>NaN</td>\n",
       "      <td>0</td>\n",
       "      <td>NaN</td>\n",
       "      <td>2016-02-17</td>\n",
       "    </tr>\n",
       "    <tr>\n",
       "      <th>1</th>\n",
       "      <td>1439408</td>\n",
       "      <td>4663</td>\n",
       "      <td>11002.0</td>\n",
       "      <td>150:20</td>\n",
       "      <td>1</td>\n",
       "      <td>20160528.0</td>\n",
       "      <td>NaT</td>\n",
       "    </tr>\n",
       "    <tr>\n",
       "      <th>2</th>\n",
       "      <td>1439408</td>\n",
       "      <td>2632</td>\n",
       "      <td>8591.0</td>\n",
       "      <td>20:1</td>\n",
       "      <td>0</td>\n",
       "      <td>20160217.0</td>\n",
       "      <td>NaT</td>\n",
       "    </tr>\n",
       "    <tr>\n",
       "      <th>3</th>\n",
       "      <td>1439408</td>\n",
       "      <td>2632</td>\n",
       "      <td>1078.0</td>\n",
       "      <td>20:1</td>\n",
       "      <td>0</td>\n",
       "      <td>20160319.0</td>\n",
       "      <td>NaT</td>\n",
       "    </tr>\n",
       "    <tr>\n",
       "      <th>4</th>\n",
       "      <td>1439408</td>\n",
       "      <td>2632</td>\n",
       "      <td>8591.0</td>\n",
       "      <td>20:1</td>\n",
       "      <td>0</td>\n",
       "      <td>20160613.0</td>\n",
       "      <td>NaT</td>\n",
       "    </tr>\n",
       "    <tr>\n",
       "      <th>...</th>\n",
       "      <td>...</td>\n",
       "      <td>...</td>\n",
       "      <td>...</td>\n",
       "      <td>...</td>\n",
       "      <td>...</td>\n",
       "      <td>...</td>\n",
       "      <td>...</td>\n",
       "    </tr>\n",
       "    <tr>\n",
       "      <th>1648876</th>\n",
       "      <td>212662</td>\n",
       "      <td>3532</td>\n",
       "      <td>NaN</td>\n",
       "      <td>NaN</td>\n",
       "      <td>1</td>\n",
       "      <td>NaN</td>\n",
       "      <td>2016-03-22</td>\n",
       "    </tr>\n",
       "    <tr>\n",
       "      <th>1648877</th>\n",
       "      <td>212662</td>\n",
       "      <td>3021</td>\n",
       "      <td>3739.0</td>\n",
       "      <td>30:1</td>\n",
       "      <td>6</td>\n",
       "      <td>20160508.0</td>\n",
       "      <td>2016-06-02</td>\n",
       "    </tr>\n",
       "    <tr>\n",
       "      <th>1648878</th>\n",
       "      <td>212662</td>\n",
       "      <td>2934</td>\n",
       "      <td>NaN</td>\n",
       "      <td>NaN</td>\n",
       "      <td>2</td>\n",
       "      <td>NaN</td>\n",
       "      <td>2016-03-21</td>\n",
       "    </tr>\n",
       "    <tr>\n",
       "      <th>1648879</th>\n",
       "      <td>752472</td>\n",
       "      <td>7113</td>\n",
       "      <td>1633.0</td>\n",
       "      <td>50:10</td>\n",
       "      <td>6</td>\n",
       "      <td>20160613.0</td>\n",
       "      <td>NaT</td>\n",
       "    </tr>\n",
       "    <tr>\n",
       "      <th>1648880</th>\n",
       "      <td>752472</td>\n",
       "      <td>3621</td>\n",
       "      <td>2705.0</td>\n",
       "      <td>20:5</td>\n",
       "      <td>0</td>\n",
       "      <td>20160523.0</td>\n",
       "      <td>NaT</td>\n",
       "    </tr>\n",
       "  </tbody>\n",
       "</table>\n",
       "<p>1648881 rows × 7 columns</p>\n",
       "</div>"
      ],
      "text/plain": [
       "         user_id  merchant_id  coupon_id discount_rate  distance  \\\n",
       "0        1439408         2632        NaN           NaN         0   \n",
       "1        1439408         4663    11002.0        150:20         1   \n",
       "2        1439408         2632     8591.0          20:1         0   \n",
       "3        1439408         2632     1078.0          20:1         0   \n",
       "4        1439408         2632     8591.0          20:1         0   \n",
       "...          ...          ...        ...           ...       ...   \n",
       "1648876   212662         3532        NaN           NaN         1   \n",
       "1648877   212662         3021     3739.0          30:1         6   \n",
       "1648878   212662         2934        NaN           NaN         2   \n",
       "1648879   752472         7113     1633.0         50:10         6   \n",
       "1648880   752472         3621     2705.0          20:5         0   \n",
       "\n",
       "         date_received       date  \n",
       "0                  NaN 2016-02-17  \n",
       "1           20160528.0        NaT  \n",
       "2           20160217.0        NaT  \n",
       "3           20160319.0        NaT  \n",
       "4           20160613.0        NaT  \n",
       "...                ...        ...  \n",
       "1648876            NaN 2016-03-22  \n",
       "1648877     20160508.0 2016-06-02  \n",
       "1648878            NaN 2016-03-21  \n",
       "1648879     20160613.0        NaT  \n",
       "1648880     20160523.0        NaT  \n",
       "\n",
       "[1648881 rows x 7 columns]"
      ]
     },
     "execution_count": 20,
     "metadata": {},
     "output_type": "execute_result"
    }
   ],
   "source": [
    "data1"
   ]
  },
  {
   "cell_type": "code",
   "execution_count": 21,
   "id": "4c522ca4",
   "metadata": {},
   "outputs": [
    {
     "name": "stdout",
     "output_type": "stream",
     "text": [
      "<class 'pandas.core.frame.DataFrame'>\n",
      "RangeIndex: 1648881 entries, 0 to 1648880\n",
      "Data columns (total 7 columns):\n",
      " #   Column         Non-Null Count    Dtype         \n",
      "---  ------         --------------    -----         \n",
      " 0   user_id        1648881 non-null  int64         \n",
      " 1   merchant_id    1648881 non-null  int64         \n",
      " 2   coupon_id      947279 non-null   float64       \n",
      " 3   discount_rate  947279 non-null   object        \n",
      " 4   distance       1648881 non-null  int64         \n",
      " 5   date_received  947279 non-null   float64       \n",
      " 6   date           768767 non-null   datetime64[ns]\n",
      "dtypes: datetime64[ns](1), float64(2), int64(3), object(1)\n",
      "memory usage: 88.1+ MB\n"
     ]
    }
   ],
   "source": [
    "data1.info()"
   ]
  },
  {
   "cell_type": "code",
   "execution_count": 22,
   "id": "7f1af30c",
   "metadata": {},
   "outputs": [],
   "source": [
    "# 提取月份\n",
    "data_month = data1['date'].apply(lambda x : x.month)  "
   ]
  },
  {
   "cell_type": "code",
   "execution_count": 23,
   "id": "c0bb66c9",
   "metadata": {},
   "outputs": [
    {
     "data": {
      "text/plain": [
       "0          2.0\n",
       "1          NaN\n",
       "2          NaN\n",
       "3          NaN\n",
       "4          NaN\n",
       "          ... \n",
       "1648876    3.0\n",
       "1648877    6.0\n",
       "1648878    3.0\n",
       "1648879    NaN\n",
       "1648880    NaN\n",
       "Name: date, Length: 1648881, dtype: float64"
      ]
     },
     "execution_count": 23,
     "metadata": {},
     "output_type": "execute_result"
    }
   ],
   "source": [
    "data_month"
   ]
  },
  {
   "cell_type": "code",
   "execution_count": 24,
   "id": "407386d0",
   "metadata": {},
   "outputs": [],
   "source": [
    "data_count = data_month.value_counts().sort_index(ascending=True)"
   ]
  },
  {
   "cell_type": "code",
   "execution_count": 25,
   "id": "b98687eb",
   "metadata": {},
   "outputs": [
    {
     "data": {
      "text/plain": [
       "1.0     96789\n",
       "2.0     78031\n",
       "3.0    146298\n",
       "4.0    129135\n",
       "5.0    182776\n",
       "6.0    135738\n",
       "Name: date, dtype: int64"
      ]
     },
     "execution_count": 25,
     "metadata": {},
     "output_type": "execute_result"
    }
   ],
   "source": [
    "# 对各月份用户消费次数进行统计\n",
    "data_count"
   ]
  },
  {
   "cell_type": "code",
   "execution_count": 26,
   "id": "78d071ec",
   "metadata": {
    "scrolled": true
   },
   "outputs": [
    {
     "data": {
      "text/plain": [
       "Text(0.5, 1.0, '2016年各月用户消费次数')"
      ]
     },
     "execution_count": 26,
     "metadata": {},
     "output_type": "execute_result"
    },
    {
     "data": {
      "image/png": "[encoded data removed]",
      "text/plain": [
       "<Figure size 720x216 with 1 Axes>"
      ]
     },
     "metadata": {
      "needs_background": "light"
     },
     "output_type": "display_data"
    }
   ],
   "source": [
    "import matplotlib.pyplot as plt\n",
    "fig = plt.figure(figsize=(10, 3))  # 设置画布大小\n",
    "plt.rcParams['font.sans-serif'] = 'SimHei'  # 设置中文显示\n",
    "plt.rcParams['axes.unicode_minus'] = False  #负号\n",
    "plt.rc('font', size=12)\n",
    "plt.plot(data_count.index, data_count, color='#0504aa',\n",
    "         linewidth=3.0, linestyle='-.')\n",
    "plt.xlabel('月份')\n",
    "plt.ylabel('消费次数')\n",
    "plt.xticks([1,2,3,4,5,6],[\"1月\",\"2月\",\"3月\",\"4月\",\"5月\",\"6月\"])\n",
    "plt.yticks([100000,150000,200000],[\"10万\",\"15万\",\"20万\"])\n",
    "plt.title('2016年各月用户消费次数')"
   ]
  },
  {
   "cell_type": "raw",
   "id": "f6ab624d",
   "metadata": {},
   "source": [
    "import matplotlib.pyplot as plt\n",
    "x=[i for i in range(100)]\n",
    "y=[i*i for i in x]\n",
    "y2=1000*np.sin(x)\n",
    "fig = plt.figure(figsize=(10, 3))  # 设置画布大小\n",
    "plt.rcParams['font.sans-serif'] = 'SimHei'  # 设置中文显示\n",
    "plt.rcParams['axes.unicode_minus'] = False  #负号\n",
    "plt.rc('font', size=12)\n",
    "plt.plot(x, y, color='#0504aa',\n",
    "         linewidth=3.0, linestyle='-.',label=\"line1\")\n",
    "plt.plot(x, y2, color='y',\n",
    "         linewidth=3.0, linestyle='--',label=\"line2\")\n",
    "plt.xlabel('月份')\n",
    "plt.ylabel('消费次数')\n",
    "plt.legend()\n",
    "#plt.xticks([10,20,30,40,50,60],[\"1月\",\"2月\",\"3月\",\"4月\",\"5月\",\"6月\"])\n",
    "#plt.yticks([1000,5000,10000],[\"0万\",\"15万\",\"20万\"])\n",
    "plt.title('2016年各月用户消费次数')"
   ]
  },
  {
   "cell_type": "code",
   "execution_count": 27,
   "id": "5d7e5472",
   "metadata": {},
   "outputs": [
    {
     "data": {
      "text/plain": [
       "array([<AxesSubplot:ylabel='date'>], dtype=object)"
      ]
     },
     "execution_count": 27,
     "metadata": {},
     "output_type": "execute_result"
    },
    {
     "data": {
      "image/png": "[encoded data removed]",
      "text/plain": [
       "<Figure size 432x288 with 1 Axes>"
      ]
     },
     "metadata": {},
     "output_type": "display_data"
    }
   ],
   "source": [
    "pd.DataFrame(data_count).plot(kind=\"pie\",subplots=True,legend=False,title=\"2016年各月用户消费次数\")"
   ]
  },
  {
   "cell_type": "code",
   "execution_count": 28,
   "id": "3d3e4829",
   "metadata": {},
   "outputs": [
    {
     "data": {
      "text/html": [
       "<div>\n",
       "<style scoped>\n",
       "    .dataframe tbody tr th:only-of-type {\n",
       "        vertical-align: middle;\n",
       "    }\n",
       "\n",
       "    .dataframe tbody tr th {\n",
       "        vertical-align: top;\n",
       "    }\n",
       "\n",
       "    .dataframe thead th {\n",
       "        text-align: right;\n",
       "    }\n",
       "</style>\n",
       "<table border=\"1\" class=\"dataframe\">\n",
       "  <thead>\n",
       "    <tr style=\"text-align: right;\">\n",
       "      <th></th>\n",
       "      <th>user_id</th>\n",
       "      <th>merchant_id</th>\n",
       "      <th>coupon_id</th>\n",
       "      <th>discount_rate</th>\n",
       "      <th>distance</th>\n",
       "      <th>date_received</th>\n",
       "      <th>date</th>\n",
       "    </tr>\n",
       "  </thead>\n",
       "  <tbody>\n",
       "    <tr>\n",
       "      <th>0</th>\n",
       "      <td>1439408</td>\n",
       "      <td>2632</td>\n",
       "      <td>NaN</td>\n",
       "      <td>NaN</td>\n",
       "      <td>0</td>\n",
       "      <td>NaN</td>\n",
       "      <td>2016-02-17</td>\n",
       "    </tr>\n",
       "    <tr>\n",
       "      <th>1</th>\n",
       "      <td>1439408</td>\n",
       "      <td>4663</td>\n",
       "      <td>11002.0</td>\n",
       "      <td>150:20</td>\n",
       "      <td>1</td>\n",
       "      <td>20160528.0</td>\n",
       "      <td>NaT</td>\n",
       "    </tr>\n",
       "    <tr>\n",
       "      <th>2</th>\n",
       "      <td>1439408</td>\n",
       "      <td>2632</td>\n",
       "      <td>8591.0</td>\n",
       "      <td>20:1</td>\n",
       "      <td>0</td>\n",
       "      <td>20160217.0</td>\n",
       "      <td>NaT</td>\n",
       "    </tr>\n",
       "    <tr>\n",
       "      <th>3</th>\n",
       "      <td>1439408</td>\n",
       "      <td>2632</td>\n",
       "      <td>1078.0</td>\n",
       "      <td>20:1</td>\n",
       "      <td>0</td>\n",
       "      <td>20160319.0</td>\n",
       "      <td>NaT</td>\n",
       "    </tr>\n",
       "    <tr>\n",
       "      <th>4</th>\n",
       "      <td>1439408</td>\n",
       "      <td>2632</td>\n",
       "      <td>8591.0</td>\n",
       "      <td>20:1</td>\n",
       "      <td>0</td>\n",
       "      <td>20160613.0</td>\n",
       "      <td>NaT</td>\n",
       "    </tr>\n",
       "    <tr>\n",
       "      <th>...</th>\n",
       "      <td>...</td>\n",
       "      <td>...</td>\n",
       "      <td>...</td>\n",
       "      <td>...</td>\n",
       "      <td>...</td>\n",
       "      <td>...</td>\n",
       "      <td>...</td>\n",
       "    </tr>\n",
       "    <tr>\n",
       "      <th>1648876</th>\n",
       "      <td>212662</td>\n",
       "      <td>3532</td>\n",
       "      <td>NaN</td>\n",
       "      <td>NaN</td>\n",
       "      <td>1</td>\n",
       "      <td>NaN</td>\n",
       "      <td>2016-03-22</td>\n",
       "    </tr>\n",
       "    <tr>\n",
       "      <th>1648877</th>\n",
       "      <td>212662</td>\n",
       "      <td>3021</td>\n",
       "      <td>3739.0</td>\n",
       "      <td>30:1</td>\n",
       "      <td>6</td>\n",
       "      <td>20160508.0</td>\n",
       "      <td>2016-06-02</td>\n",
       "    </tr>\n",
       "    <tr>\n",
       "      <th>1648878</th>\n",
       "      <td>212662</td>\n",
       "      <td>2934</td>\n",
       "      <td>NaN</td>\n",
       "      <td>NaN</td>\n",
       "      <td>2</td>\n",
       "      <td>NaN</td>\n",
       "      <td>2016-03-21</td>\n",
       "    </tr>\n",
       "    <tr>\n",
       "      <th>1648879</th>\n",
       "      <td>752472</td>\n",
       "      <td>7113</td>\n",
       "      <td>1633.0</td>\n",
       "      <td>50:10</td>\n",
       "      <td>6</td>\n",
       "      <td>20160613.0</td>\n",
       "      <td>NaT</td>\n",
       "    </tr>\n",
       "    <tr>\n",
       "      <th>1648880</th>\n",
       "      <td>752472</td>\n",
       "      <td>3621</td>\n",
       "      <td>2705.0</td>\n",
       "      <td>20:5</td>\n",
       "      <td>0</td>\n",
       "      <td>20160523.0</td>\n",
       "      <td>NaT</td>\n",
       "    </tr>\n",
       "  </tbody>\n",
       "</table>\n",
       "<p>1648881 rows × 7 columns</p>\n",
       "</div>"
      ],
      "text/plain": [
       "         user_id  merchant_id  coupon_id discount_rate  distance  \\\n",
       "0        1439408         2632        NaN           NaN         0   \n",
       "1        1439408         4663    11002.0        150:20         1   \n",
       "2        1439408         2632     8591.0          20:1         0   \n",
       "3        1439408         2632     1078.0          20:1         0   \n",
       "4        1439408         2632     8591.0          20:1         0   \n",
       "...          ...          ...        ...           ...       ...   \n",
       "1648876   212662         3532        NaN           NaN         1   \n",
       "1648877   212662         3021     3739.0          30:1         6   \n",
       "1648878   212662         2934        NaN           NaN         2   \n",
       "1648879   752472         7113     1633.0         50:10         6   \n",
       "1648880   752472         3621     2705.0          20:5         0   \n",
       "\n",
       "         date_received       date  \n",
       "0                  NaN 2016-02-17  \n",
       "1           20160528.0        NaT  \n",
       "2           20160217.0        NaT  \n",
       "3           20160319.0        NaT  \n",
       "4           20160613.0        NaT  \n",
       "...                ...        ...  \n",
       "1648876            NaN 2016-03-22  \n",
       "1648877     20160508.0 2016-06-02  \n",
       "1648878            NaN 2016-03-21  \n",
       "1648879     20160613.0        NaT  \n",
       "1648880     20160523.0        NaT  \n",
       "\n",
       "[1648881 rows x 7 columns]"
      ]
     },
     "execution_count": 28,
     "metadata": {},
     "output_type": "execute_result"
    }
   ],
   "source": [
    "data1"
   ]
  },
  {
   "cell_type": "code",
   "execution_count": 29,
   "id": "dc7c51da",
   "metadata": {},
   "outputs": [],
   "source": [
    "#处理data_received字段\n",
    "data1['date_received'] = data1['date_received'].astype('str').apply(lambda x:x.split('.')[0])\n",
    "data1['date_received'] = pd.to_datetime(data1['date_received']) "
   ]
  },
  {
   "cell_type": "code",
   "execution_count": 30,
   "id": "6bf0aa97",
   "metadata": {
    "scrolled": false
   },
   "outputs": [
    {
     "data": {
      "text/html": [
       "<div>\n",
       "<style scoped>\n",
       "    .dataframe tbody tr th:only-of-type {\n",
       "        vertical-align: middle;\n",
       "    }\n",
       "\n",
       "    .dataframe tbody tr th {\n",
       "        vertical-align: top;\n",
       "    }\n",
       "\n",
       "    .dataframe thead th {\n",
       "        text-align: right;\n",
       "    }\n",
       "</style>\n",
       "<table border=\"1\" class=\"dataframe\">\n",
       "  <thead>\n",
       "    <tr style=\"text-align: right;\">\n",
       "      <th></th>\n",
       "      <th>user_id</th>\n",
       "      <th>merchant_id</th>\n",
       "      <th>coupon_id</th>\n",
       "      <th>discount_rate</th>\n",
       "      <th>distance</th>\n",
       "      <th>date_received</th>\n",
       "      <th>date</th>\n",
       "    </tr>\n",
       "  </thead>\n",
       "  <tbody>\n",
       "    <tr>\n",
       "      <th>0</th>\n",
       "      <td>1439408</td>\n",
       "      <td>2632</td>\n",
       "      <td>NaN</td>\n",
       "      <td>NaN</td>\n",
       "      <td>0</td>\n",
       "      <td>NaT</td>\n",
       "      <td>2016-02-17</td>\n",
       "    </tr>\n",
       "    <tr>\n",
       "      <th>1</th>\n",
       "      <td>1439408</td>\n",
       "      <td>4663</td>\n",
       "      <td>11002.0</td>\n",
       "      <td>150:20</td>\n",
       "      <td>1</td>\n",
       "      <td>2016-05-28</td>\n",
       "      <td>NaT</td>\n",
       "    </tr>\n",
       "    <tr>\n",
       "      <th>2</th>\n",
       "      <td>1439408</td>\n",
       "      <td>2632</td>\n",
       "      <td>8591.0</td>\n",
       "      <td>20:1</td>\n",
       "      <td>0</td>\n",
       "      <td>2016-02-17</td>\n",
       "      <td>NaT</td>\n",
       "    </tr>\n",
       "    <tr>\n",
       "      <th>3</th>\n",
       "      <td>1439408</td>\n",
       "      <td>2632</td>\n",
       "      <td>1078.0</td>\n",
       "      <td>20:1</td>\n",
       "      <td>0</td>\n",
       "      <td>2016-03-19</td>\n",
       "      <td>NaT</td>\n",
       "    </tr>\n",
       "    <tr>\n",
       "      <th>4</th>\n",
       "      <td>1439408</td>\n",
       "      <td>2632</td>\n",
       "      <td>8591.0</td>\n",
       "      <td>20:1</td>\n",
       "      <td>0</td>\n",
       "      <td>2016-06-13</td>\n",
       "      <td>NaT</td>\n",
       "    </tr>\n",
       "    <tr>\n",
       "      <th>...</th>\n",
       "      <td>...</td>\n",
       "      <td>...</td>\n",
       "      <td>...</td>\n",
       "      <td>...</td>\n",
       "      <td>...</td>\n",
       "      <td>...</td>\n",
       "      <td>...</td>\n",
       "    </tr>\n",
       "    <tr>\n",
       "      <th>1648876</th>\n",
       "      <td>212662</td>\n",
       "      <td>3532</td>\n",
       "      <td>NaN</td>\n",
       "      <td>NaN</td>\n",
       "      <td>1</td>\n",
       "      <td>NaT</td>\n",
       "      <td>2016-03-22</td>\n",
       "    </tr>\n",
       "    <tr>\n",
       "      <th>1648877</th>\n",
       "      <td>212662</td>\n",
       "      <td>3021</td>\n",
       "      <td>3739.0</td>\n",
       "      <td>30:1</td>\n",
       "      <td>6</td>\n",
       "      <td>2016-05-08</td>\n",
       "      <td>2016-06-02</td>\n",
       "    </tr>\n",
       "    <tr>\n",
       "      <th>1648878</th>\n",
       "      <td>212662</td>\n",
       "      <td>2934</td>\n",
       "      <td>NaN</td>\n",
       "      <td>NaN</td>\n",
       "      <td>2</td>\n",
       "      <td>NaT</td>\n",
       "      <td>2016-03-21</td>\n",
       "    </tr>\n",
       "    <tr>\n",
       "      <th>1648879</th>\n",
       "      <td>752472</td>\n",
       "      <td>7113</td>\n",
       "      <td>1633.0</td>\n",
       "      <td>50:10</td>\n",
       "      <td>6</td>\n",
       "      <td>2016-06-13</td>\n",
       "      <td>NaT</td>\n",
       "    </tr>\n",
       "    <tr>\n",
       "      <th>1648880</th>\n",
       "      <td>752472</td>\n",
       "      <td>3621</td>\n",
       "      <td>2705.0</td>\n",
       "      <td>20:5</td>\n",
       "      <td>0</td>\n",
       "      <td>2016-05-23</td>\n",
       "      <td>NaT</td>\n",
       "    </tr>\n",
       "  </tbody>\n",
       "</table>\n",
       "<p>1648881 rows × 7 columns</p>\n",
       "</div>"
      ],
      "text/plain": [
       "         user_id  merchant_id  coupon_id discount_rate  distance  \\\n",
       "0        1439408         2632        NaN           NaN         0   \n",
       "1        1439408         4663    11002.0        150:20         1   \n",
       "2        1439408         2632     8591.0          20:1         0   \n",
       "3        1439408         2632     1078.0          20:1         0   \n",
       "4        1439408         2632     8591.0          20:1         0   \n",
       "...          ...          ...        ...           ...       ...   \n",
       "1648876   212662         3532        NaN           NaN         1   \n",
       "1648877   212662         3021     3739.0          30:1         6   \n",
       "1648878   212662         2934        NaN           NaN         2   \n",
       "1648879   752472         7113     1633.0         50:10         6   \n",
       "1648880   752472         3621     2705.0          20:5         0   \n",
       "\n",
       "        date_received       date  \n",
       "0                 NaT 2016-02-17  \n",
       "1          2016-05-28        NaT  \n",
       "2          2016-02-17        NaT  \n",
       "3          2016-03-19        NaT  \n",
       "4          2016-06-13        NaT  \n",
       "...               ...        ...  \n",
       "1648876           NaT 2016-03-22  \n",
       "1648877    2016-05-08 2016-06-02  \n",
       "1648878           NaT 2016-03-21  \n",
       "1648879    2016-06-13        NaT  \n",
       "1648880    2016-05-23        NaT  \n",
       "\n",
       "[1648881 rows x 7 columns]"
      ]
     },
     "execution_count": 30,
     "metadata": {},
     "output_type": "execute_result"
    }
   ],
   "source": [
    "data1"
   ]
  },
  {
   "cell_type": "code",
   "execution_count": 31,
   "id": "dc2b86e4",
   "metadata": {},
   "outputs": [],
   "source": [
    "# 提取领券日期的月份\n",
    "received_month = data1['date_received'].apply(lambda x :x.month)\n",
    "month_count = received_month.value_counts().sort_index(ascending=True)"
   ]
  },
  {
   "cell_type": "code",
   "execution_count": 32,
   "id": "fd671dba",
   "metadata": {},
   "outputs": [
    {
     "data": {
      "text/plain": [
       "1.0    339266\n",
       "2.0    118699\n",
       "3.0     93010\n",
       "4.0    126168\n",
       "5.0    188325\n",
       "6.0     81811\n",
       "Name: date_received, dtype: int64"
      ]
     },
     "execution_count": 32,
     "metadata": {},
     "output_type": "execute_result"
    }
   ],
   "source": [
    "month_count"
   ]
  },
  {
   "cell_type": "code",
   "execution_count": 33,
   "id": "b4c1d587",
   "metadata": {},
   "outputs": [
    {
     "data": {
      "text/plain": [
       "<AxesSubplot:title={'center':'用户领券次数'}>"
      ]
     },
     "execution_count": 33,
     "metadata": {},
     "output_type": "execute_result"
    },
    {
     "data": {
      "image/png": "[encoded data removed]",
      "text/plain": [
       "<Figure size 432x288 with 1 Axes>"
      ]
     },
     "metadata": {
      "needs_background": "light"
     },
     "output_type": "display_data"
    }
   ],
   "source": [
    "pd.DataFrame(month_count).plot(kind=\"line\",title=\"用户领券次数\")"
   ]
  },
  {
   "cell_type": "code",
   "execution_count": 34,
   "id": "f06e6d9d",
   "metadata": {},
   "outputs": [
    {
     "data": {
      "text/plain": [
       "<AxesSubplot:title={'center':'用户领券次数'}>"
      ]
     },
     "execution_count": 34,
     "metadata": {},
     "output_type": "execute_result"
    },
    {
     "data": {
      "image/png": "[encoded data removed]",
      "text/plain": [
       "<Figure size 432x288 with 1 Axes>"
      ]
     },
     "metadata": {
      "needs_background": "light"
     },
     "output_type": "display_data"
    }
   ],
   "source": [
    "pd.DataFrame(month_count).plot(kind=\"bar\",title=\"用户领券次数\")"
   ]
  },
  {
   "cell_type": "code",
   "execution_count": null,
   "id": "fafcfa96",
   "metadata": {},
   "outputs": [],
   "source": []
  },
  {
   "cell_type": "code",
   "execution_count": 35,
   "id": "0ee6ab21",
   "metadata": {},
   "outputs": [
    {
     "data": {
      "text/plain": [
       "array([<AxesSubplot:ylabel='月'>], dtype=object)"
      ]
     },
     "execution_count": 35,
     "metadata": {},
     "output_type": "execute_result"
    },
    {
     "data": {
      "image/png": "[encoded data removed]",
      "text/plain": [
       "<Figure size 432x288 with 1 Axes>"
      ]
     },
     "metadata": {},
     "output_type": "display_data"
    }
   ],
   "source": [
    "pd.DataFrame(month_count).plot(kind=\"pie\",subplots=True,legend=False,ylabel=\"月\",title=\"用户领券次数\")"
   ]
  },
  {
   "cell_type": "code",
   "execution_count": 36,
   "id": "27a8956f",
   "metadata": {},
   "outputs": [
    {
     "data": {
      "text/html": [
       "<div>\n",
       "<style scoped>\n",
       "    .dataframe tbody tr th:only-of-type {\n",
       "        vertical-align: middle;\n",
       "    }\n",
       "\n",
       "    .dataframe tbody tr th {\n",
       "        vertical-align: top;\n",
       "    }\n",
       "\n",
       "    .dataframe thead th {\n",
       "        text-align: right;\n",
       "    }\n",
       "</style>\n",
       "<table border=\"1\" class=\"dataframe\">\n",
       "  <thead>\n",
       "    <tr style=\"text-align: right;\">\n",
       "      <th></th>\n",
       "      <th>user_id</th>\n",
       "      <th>merchant_id</th>\n",
       "      <th>coupon_id</th>\n",
       "      <th>discount_rate</th>\n",
       "      <th>distance</th>\n",
       "      <th>date_received</th>\n",
       "      <th>date</th>\n",
       "    </tr>\n",
       "  </thead>\n",
       "  <tbody>\n",
       "    <tr>\n",
       "      <th>6</th>\n",
       "      <td>1439408</td>\n",
       "      <td>2632</td>\n",
       "      <td>8591.0</td>\n",
       "      <td>20:1</td>\n",
       "      <td>0</td>\n",
       "      <td>2016-05-16</td>\n",
       "      <td>2016-06-13</td>\n",
       "    </tr>\n",
       "    <tr>\n",
       "      <th>30</th>\n",
       "      <td>1113008</td>\n",
       "      <td>1361</td>\n",
       "      <td>11166.0</td>\n",
       "      <td>20:1</td>\n",
       "      <td>0</td>\n",
       "      <td>2016-05-15</td>\n",
       "      <td>2016-05-21</td>\n",
       "    </tr>\n",
       "    <tr>\n",
       "      <th>35</th>\n",
       "      <td>2881376</td>\n",
       "      <td>8390</td>\n",
       "      <td>7531.0</td>\n",
       "      <td>20:5</td>\n",
       "      <td>0</td>\n",
       "      <td>2016-03-21</td>\n",
       "      <td>2016-03-29</td>\n",
       "    </tr>\n",
       "    <tr>\n",
       "      <th>64</th>\n",
       "      <td>114747</td>\n",
       "      <td>6901</td>\n",
       "      <td>2366.0</td>\n",
       "      <td>30:5</td>\n",
       "      <td>0</td>\n",
       "      <td>2016-05-23</td>\n",
       "      <td>2016-06-05</td>\n",
       "    </tr>\n",
       "    <tr>\n",
       "      <th>70</th>\n",
       "      <td>114747</td>\n",
       "      <td>5341</td>\n",
       "      <td>111.0</td>\n",
       "      <td>30:5</td>\n",
       "      <td>0</td>\n",
       "      <td>2016-01-27</td>\n",
       "      <td>2016-02-21</td>\n",
       "    </tr>\n",
       "    <tr>\n",
       "      <th>...</th>\n",
       "      <td>...</td>\n",
       "      <td>...</td>\n",
       "      <td>...</td>\n",
       "      <td>...</td>\n",
       "      <td>...</td>\n",
       "      <td>...</td>\n",
       "      <td>...</td>\n",
       "    </tr>\n",
       "    <tr>\n",
       "      <th>1648833</th>\n",
       "      <td>1437872</td>\n",
       "      <td>7706</td>\n",
       "      <td>416.0</td>\n",
       "      <td>100:10</td>\n",
       "      <td>4</td>\n",
       "      <td>2016-01-29</td>\n",
       "      <td>2016-02-02</td>\n",
       "    </tr>\n",
       "    <tr>\n",
       "      <th>1648870</th>\n",
       "      <td>212662</td>\n",
       "      <td>2934</td>\n",
       "      <td>5686.0</td>\n",
       "      <td>30:5</td>\n",
       "      <td>2</td>\n",
       "      <td>2016-03-21</td>\n",
       "      <td>2016-03-30</td>\n",
       "    </tr>\n",
       "    <tr>\n",
       "      <th>1648874</th>\n",
       "      <td>212662</td>\n",
       "      <td>3021</td>\n",
       "      <td>3739.0</td>\n",
       "      <td>30:1</td>\n",
       "      <td>6</td>\n",
       "      <td>2016-05-04</td>\n",
       "      <td>2016-05-08</td>\n",
       "    </tr>\n",
       "    <tr>\n",
       "      <th>1648875</th>\n",
       "      <td>212662</td>\n",
       "      <td>2934</td>\n",
       "      <td>5686.0</td>\n",
       "      <td>30:5</td>\n",
       "      <td>2</td>\n",
       "      <td>2016-03-21</td>\n",
       "      <td>2016-03-22</td>\n",
       "    </tr>\n",
       "    <tr>\n",
       "      <th>1648877</th>\n",
       "      <td>212662</td>\n",
       "      <td>3021</td>\n",
       "      <td>3739.0</td>\n",
       "      <td>30:1</td>\n",
       "      <td>6</td>\n",
       "      <td>2016-05-08</td>\n",
       "      <td>2016-06-02</td>\n",
       "    </tr>\n",
       "  </tbody>\n",
       "</table>\n",
       "<p>67165 rows × 7 columns</p>\n",
       "</div>"
      ],
      "text/plain": [
       "         user_id  merchant_id  coupon_id discount_rate  distance  \\\n",
       "6        1439408         2632     8591.0          20:1         0   \n",
       "30       1113008         1361    11166.0          20:1         0   \n",
       "35       2881376         8390     7531.0          20:5         0   \n",
       "64        114747         6901     2366.0          30:5         0   \n",
       "70        114747         5341      111.0          30:5         0   \n",
       "...          ...          ...        ...           ...       ...   \n",
       "1648833  1437872         7706      416.0        100:10         4   \n",
       "1648870   212662         2934     5686.0          30:5         2   \n",
       "1648874   212662         3021     3739.0          30:1         6   \n",
       "1648875   212662         2934     5686.0          30:5         2   \n",
       "1648877   212662         3021     3739.0          30:1         6   \n",
       "\n",
       "        date_received       date  \n",
       "6          2016-05-16 2016-06-13  \n",
       "30         2016-05-15 2016-05-21  \n",
       "35         2016-03-21 2016-03-29  \n",
       "64         2016-05-23 2016-06-05  \n",
       "70         2016-01-27 2016-02-21  \n",
       "...               ...        ...  \n",
       "1648833    2016-01-29 2016-02-02  \n",
       "1648870    2016-03-21 2016-03-30  \n",
       "1648874    2016-05-04 2016-05-08  \n",
       "1648875    2016-03-21 2016-03-22  \n",
       "1648877    2016-05-08 2016-06-02  \n",
       "\n",
       "[67165 rows x 7 columns]"
      ]
     },
     "execution_count": 36,
     "metadata": {},
     "output_type": "execute_result"
    }
   ],
   "source": [
    "data1[data1['date'].notnull()&data1['coupon_id'].notnull()]"
   ]
  },
  {
   "cell_type": "code",
   "execution_count": 37,
   "id": "97614d67",
   "metadata": {},
   "outputs": [],
   "source": [
    "# 获取领券消费数据\n",
    "cop_distance = data1[data1['date'].notnull()&data1[\n",
    "        'coupon_id'].notnull()][['user_id','distance','date','discount_rate']]"
   ]
  },
  {
   "cell_type": "code",
   "execution_count": 38,
   "id": "aaf28d1e",
   "metadata": {},
   "outputs": [
    {
     "data": {
      "text/html": [
       "<div>\n",
       "<style scoped>\n",
       "    .dataframe tbody tr th:only-of-type {\n",
       "        vertical-align: middle;\n",
       "    }\n",
       "\n",
       "    .dataframe tbody tr th {\n",
       "        vertical-align: top;\n",
       "    }\n",
       "\n",
       "    .dataframe thead th {\n",
       "        text-align: right;\n",
       "    }\n",
       "</style>\n",
       "<table border=\"1\" class=\"dataframe\">\n",
       "  <thead>\n",
       "    <tr style=\"text-align: right;\">\n",
       "      <th></th>\n",
       "      <th>user_id</th>\n",
       "      <th>distance</th>\n",
       "      <th>date</th>\n",
       "      <th>discount_rate</th>\n",
       "    </tr>\n",
       "  </thead>\n",
       "  <tbody>\n",
       "    <tr>\n",
       "      <th>6</th>\n",
       "      <td>1439408</td>\n",
       "      <td>0</td>\n",
       "      <td>2016-06-13</td>\n",
       "      <td>20:1</td>\n",
       "    </tr>\n",
       "    <tr>\n",
       "      <th>30</th>\n",
       "      <td>1113008</td>\n",
       "      <td>0</td>\n",
       "      <td>2016-05-21</td>\n",
       "      <td>20:1</td>\n",
       "    </tr>\n",
       "    <tr>\n",
       "      <th>35</th>\n",
       "      <td>2881376</td>\n",
       "      <td>0</td>\n",
       "      <td>2016-03-29</td>\n",
       "      <td>20:5</td>\n",
       "    </tr>\n",
       "    <tr>\n",
       "      <th>64</th>\n",
       "      <td>114747</td>\n",
       "      <td>0</td>\n",
       "      <td>2016-06-05</td>\n",
       "      <td>30:5</td>\n",
       "    </tr>\n",
       "    <tr>\n",
       "      <th>70</th>\n",
       "      <td>114747</td>\n",
       "      <td>0</td>\n",
       "      <td>2016-02-21</td>\n",
       "      <td>30:5</td>\n",
       "    </tr>\n",
       "    <tr>\n",
       "      <th>...</th>\n",
       "      <td>...</td>\n",
       "      <td>...</td>\n",
       "      <td>...</td>\n",
       "      <td>...</td>\n",
       "    </tr>\n",
       "    <tr>\n",
       "      <th>1648833</th>\n",
       "      <td>1437872</td>\n",
       "      <td>4</td>\n",
       "      <td>2016-02-02</td>\n",
       "      <td>100:10</td>\n",
       "    </tr>\n",
       "    <tr>\n",
       "      <th>1648870</th>\n",
       "      <td>212662</td>\n",
       "      <td>2</td>\n",
       "      <td>2016-03-30</td>\n",
       "      <td>30:5</td>\n",
       "    </tr>\n",
       "    <tr>\n",
       "      <th>1648874</th>\n",
       "      <td>212662</td>\n",
       "      <td>6</td>\n",
       "      <td>2016-05-08</td>\n",
       "      <td>30:1</td>\n",
       "    </tr>\n",
       "    <tr>\n",
       "      <th>1648875</th>\n",
       "      <td>212662</td>\n",
       "      <td>2</td>\n",
       "      <td>2016-03-22</td>\n",
       "      <td>30:5</td>\n",
       "    </tr>\n",
       "    <tr>\n",
       "      <th>1648877</th>\n",
       "      <td>212662</td>\n",
       "      <td>6</td>\n",
       "      <td>2016-06-02</td>\n",
       "      <td>30:1</td>\n",
       "    </tr>\n",
       "  </tbody>\n",
       "</table>\n",
       "<p>67165 rows × 4 columns</p>\n",
       "</div>"
      ],
      "text/plain": [
       "         user_id  distance       date discount_rate\n",
       "6        1439408         0 2016-06-13          20:1\n",
       "30       1113008         0 2016-05-21          20:1\n",
       "35       2881376         0 2016-03-29          20:5\n",
       "64        114747         0 2016-06-05          30:5\n",
       "70        114747         0 2016-02-21          30:5\n",
       "...          ...       ...        ...           ...\n",
       "1648833  1437872         4 2016-02-02        100:10\n",
       "1648870   212662         2 2016-03-30          30:5\n",
       "1648874   212662         6 2016-05-08          30:1\n",
       "1648875   212662         2 2016-03-22          30:5\n",
       "1648877   212662         6 2016-06-02          30:1\n",
       "\n",
       "[67165 rows x 4 columns]"
      ]
     },
     "execution_count": 38,
     "metadata": {},
     "output_type": "execute_result"
    }
   ],
   "source": [
    "cop_distance"
   ]
  },
  {
   "cell_type": "code",
   "execution_count": 39,
   "id": "4dbc0e0c",
   "metadata": {},
   "outputs": [],
   "source": [
    "# 统计1~7月领券消费次数\n",
    "date_month = cop_distance['date'].apply(lambda x :x.month)\n"
   ]
  },
  {
   "cell_type": "code",
   "execution_count": 40,
   "id": "ec71cf65",
   "metadata": {},
   "outputs": [
    {
     "data": {
      "text/plain": [
       "6          6\n",
       "30         5\n",
       "35         3\n",
       "64         6\n",
       "70         2\n",
       "          ..\n",
       "1648833    2\n",
       "1648870    3\n",
       "1648874    5\n",
       "1648875    3\n",
       "1648877    6\n",
       "Name: date, Length: 67165, dtype: int64"
      ]
     },
     "execution_count": 40,
     "metadata": {},
     "output_type": "execute_result"
    }
   ],
   "source": [
    "date_month"
   ]
  },
  {
   "cell_type": "code",
   "execution_count": 41,
   "id": "32f4daf0",
   "metadata": {},
   "outputs": [],
   "source": [
    "datemonth_count = date_month.value_counts().sort_index(ascending=True)"
   ]
  },
  {
   "cell_type": "code",
   "execution_count": null,
   "id": "25fad340",
   "metadata": {},
   "outputs": [],
   "source": []
  },
  {
   "cell_type": "code",
   "execution_count": null,
   "id": "6694eef3",
   "metadata": {},
   "outputs": [],
   "source": []
  },
  {
   "cell_type": "code",
   "execution_count": 42,
   "id": "d2a8cee2",
   "metadata": {},
   "outputs": [],
   "source": [
    "datemonth_countlist = list(datemonth_count)  # 转为列表\n",
    "#datemonth_countlist.append(0)  # 列表末尾追加一个数字0"
   ]
  },
  {
   "cell_type": "code",
   "execution_count": 43,
   "id": "fcd64c6c",
   "metadata": {},
   "outputs": [
    {
     "data": {
      "text/plain": [
       "[4992, 12271, 11253, 7964, 17980, 12705]"
      ]
     },
     "execution_count": 43,
     "metadata": {},
     "output_type": "execute_result"
    }
   ],
   "source": [
    "datemonth_countlist"
   ]
  },
  {
   "cell_type": "code",
   "execution_count": 44,
   "id": "44e94b8e",
   "metadata": {},
   "outputs": [
    {
     "data": {
      "text/plain": [
       "<Figure size 576x360 with 0 Axes>"
      ]
     },
     "metadata": {},
     "output_type": "display_data"
    }
   ],
   "source": [
    "import matplotlib.pyplot as plt\n",
    "fig = plt.figure(figsize=(8, 5))  # 设置画布大小 \n",
    "name_list = [i for i in range(1,7)]\n"
   ]
  },
  {
   "cell_type": "code",
   "execution_count": 45,
   "id": "5e93ef0f",
   "metadata": {},
   "outputs": [
    {
     "data": {
      "text/plain": [
       "Text(0.5, 1.0, '2016年各月用户领券次数与领券消费次数')"
      ]
     },
     "execution_count": 45,
     "metadata": {},
     "output_type": "execute_result"
    },
    {
     "data": {
      "image/png": "[encoded data removed]",
      "text/plain": [
       "<Figure size 432x288 with 1 Axes>"
      ]
     },
     "metadata": {
      "needs_background": "light"
     },
     "output_type": "display_data"
    }
   ],
   "source": [
    "x=[i for i in range(len(datemonth_count))]\n",
    "width = 0.2; alpha = 0.7 # width设置宽度大小,alpha为透明度\n",
    "for i in range(len(x)):\n",
    "    x[i] = x[i]-width\n",
    "\n",
    "plt.bar(x,height = list(month_count),\n",
    "        width = width,label='用户领券',alpha=alpha, color='#0504aa')\n",
    "for i in range(len(x)):\n",
    "    x[i] = x[i] + width\n",
    "#width=0.3\n",
    "plt.bar(x,height = datemonth_countlist,\n",
    "        width = width,label='用户领券消费',alpha=alpha, color='skyblue') \n",
    "for i in range(len(x)):\n",
    "    x[i] = x[i] + width\n",
    "#widthth=0.1\n",
    "plt.bar(x,height = datemonth_countlist,\n",
    "        width = width,label='用户领券消费',alpha=alpha, color='y') \n",
    "plt.legend()  # 图例\n",
    "plt.xlabel('月份')\n",
    "plt.ylabel('次数')\n",
    "plt.title('2016年各月用户领券次数与领券消费次数')"
   ]
  },
  {
   "cell_type": "markdown",
   "id": "faed4504",
   "metadata": {},
   "source": [
    "分析商户投放优惠券信息。"
   ]
  },
  {
   "cell_type": "code",
   "execution_count": 46,
   "id": "7a524ca5",
   "metadata": {},
   "outputs": [],
   "source": [
    "# 提取商户发放优惠券数据 \n",
    "coupon_data = data1.loc[data1['coupon_id'].notnull(),['merchant_id','coupon_id']]\n"
   ]
  },
  {
   "cell_type": "code",
   "execution_count": 47,
   "id": "e5e710a0",
   "metadata": {},
   "outputs": [
    {
     "data": {
      "text/html": [
       "<div>\n",
       "<style scoped>\n",
       "    .dataframe tbody tr th:only-of-type {\n",
       "        vertical-align: middle;\n",
       "    }\n",
       "\n",
       "    .dataframe tbody tr th {\n",
       "        vertical-align: top;\n",
       "    }\n",
       "\n",
       "    .dataframe thead th {\n",
       "        text-align: right;\n",
       "    }\n",
       "</style>\n",
       "<table border=\"1\" class=\"dataframe\">\n",
       "  <thead>\n",
       "    <tr style=\"text-align: right;\">\n",
       "      <th></th>\n",
       "      <th>merchant_id</th>\n",
       "      <th>coupon_id</th>\n",
       "    </tr>\n",
       "  </thead>\n",
       "  <tbody>\n",
       "    <tr>\n",
       "      <th>1</th>\n",
       "      <td>4663</td>\n",
       "      <td>11002.0</td>\n",
       "    </tr>\n",
       "    <tr>\n",
       "      <th>2</th>\n",
       "      <td>2632</td>\n",
       "      <td>8591.0</td>\n",
       "    </tr>\n",
       "    <tr>\n",
       "      <th>3</th>\n",
       "      <td>2632</td>\n",
       "      <td>1078.0</td>\n",
       "    </tr>\n",
       "    <tr>\n",
       "      <th>4</th>\n",
       "      <td>2632</td>\n",
       "      <td>8591.0</td>\n",
       "    </tr>\n",
       "    <tr>\n",
       "      <th>6</th>\n",
       "      <td>2632</td>\n",
       "      <td>8591.0</td>\n",
       "    </tr>\n",
       "    <tr>\n",
       "      <th>...</th>\n",
       "      <td>...</td>\n",
       "      <td>...</td>\n",
       "    </tr>\n",
       "    <tr>\n",
       "      <th>1648874</th>\n",
       "      <td>3021</td>\n",
       "      <td>3739.0</td>\n",
       "    </tr>\n",
       "    <tr>\n",
       "      <th>1648875</th>\n",
       "      <td>2934</td>\n",
       "      <td>5686.0</td>\n",
       "    </tr>\n",
       "    <tr>\n",
       "      <th>1648877</th>\n",
       "      <td>3021</td>\n",
       "      <td>3739.0</td>\n",
       "    </tr>\n",
       "    <tr>\n",
       "      <th>1648879</th>\n",
       "      <td>7113</td>\n",
       "      <td>1633.0</td>\n",
       "    </tr>\n",
       "    <tr>\n",
       "      <th>1648880</th>\n",
       "      <td>3621</td>\n",
       "      <td>2705.0</td>\n",
       "    </tr>\n",
       "  </tbody>\n",
       "</table>\n",
       "<p>947279 rows × 2 columns</p>\n",
       "</div>"
      ],
      "text/plain": [
       "         merchant_id  coupon_id\n",
       "1               4663    11002.0\n",
       "2               2632     8591.0\n",
       "3               2632     1078.0\n",
       "4               2632     8591.0\n",
       "6               2632     8591.0\n",
       "...              ...        ...\n",
       "1648874         3021     3739.0\n",
       "1648875         2934     5686.0\n",
       "1648877         3021     3739.0\n",
       "1648879         7113     1633.0\n",
       "1648880         3621     2705.0\n",
       "\n",
       "[947279 rows x 2 columns]"
      ]
     },
     "execution_count": 47,
     "metadata": {},
     "output_type": "execute_result"
    }
   ],
   "source": [
    "coupon_data"
   ]
  },
  {
   "cell_type": "code",
   "execution_count": 48,
   "id": "58262244",
   "metadata": {},
   "outputs": [],
   "source": [
    "merchant_count = coupon_data['merchant_id'].value_counts()"
   ]
  },
  {
   "cell_type": "code",
   "execution_count": 49,
   "id": "213e83ef",
   "metadata": {},
   "outputs": [
    {
     "data": {
      "text/plain": [
       "3381    117818\n",
       "450      60092\n",
       "760      43182\n",
       "5341     34135\n",
       "2709     33535\n",
       "         ...  \n",
       "1341         1\n",
       "5874         1\n",
       "6462         1\n",
       "4339         1\n",
       "5240         1\n",
       "Name: merchant_id, Length: 5363, dtype: int64"
      ]
     },
     "execution_count": 49,
     "metadata": {},
     "output_type": "execute_result"
    }
   ],
   "source": [
    "merchant_count"
   ]
  },
  {
   "cell_type": "code",
   "execution_count": 50,
   "id": "d2096c71",
   "metadata": {},
   "outputs": [
    {
     "name": "stdout",
     "output_type": "stream",
     "text": [
      "参与投放优惠券商户总数为： 5363\n",
      "商户最多发放优惠券117818张\n",
      "商户最少发放优惠券1张\n"
     ]
    }
   ],
   "source": [
    "print('参与投放优惠券商户总数为：',merchant_count.shape[0])\n",
    "print('商户最多发放优惠券{max_count}张\\n商户最少发放优惠券{min_count}张'.\n",
    "      format(max_count=merchant_count.max(), min_count=merchant_count.min()))"
   ]
  },
  {
   "cell_type": "code",
   "execution_count": 51,
   "id": "48b847c4",
   "metadata": {},
   "outputs": [
    {
     "data": {
      "text/plain": [
       "array([117818,  60092,  43182,  34135,  33535,  30887,  26329,  23709,\n",
       "        19358,  19235], dtype=int64)"
      ]
     },
     "execution_count": 51,
     "metadata": {},
     "output_type": "execute_result"
    }
   ],
   "source": [
    "merchant_count[:10].values"
   ]
  },
  {
   "cell_type": "code",
   "execution_count": 52,
   "id": "33819775",
   "metadata": {},
   "outputs": [
    {
     "data": {
      "text/plain": [
       "Text(0.5, 1.0, '投放优惠券数量前10名商户ID')"
      ]
     },
     "execution_count": 52,
     "metadata": {},
     "output_type": "execute_result"
    },
    {
     "data": {
      "image/png": "[encoded data removed]",
      "text/plain": [
       "<Figure size 576x360 with 1 Axes>"
      ]
     },
     "metadata": {
      "needs_background": "light"
     },
     "output_type": "display_data"
    }
   ],
   "source": [
    "# 绘制直方图分析商家投放数量\n",
    "import matplotlib.pyplot as plt\n",
    "fig = plt.figure(figsize=(8, 5))  # 设置画布大小\n",
    "plt.rc('font', size=12)\n",
    "plt.bar([i for i in range(10)],\n",
    "        height=merchant_count[:10].values, width=0.5,\n",
    "        alpha=0.8, color='#0504aa')\n",
    "plt.xticks(range(len(merchant_count[:10])), merchant_count[:10].index)\n",
    "plt.xlabel('商户ID')\n",
    "plt.ylabel('发放优惠券数量')\n",
    "plt.title('投放优惠券数量前10名商户ID')"
   ]
  },
  {
   "cell_type": "code",
   "execution_count": 53,
   "id": "22929f91",
   "metadata": {},
   "outputs": [],
   "source": [
    "use_data = data1.loc[data1['coupon_id'].notnull()&data1['date'].notnull(),['merchant_id','coupon_id']]\n"
   ]
  },
  {
   "cell_type": "code",
   "execution_count": 54,
   "id": "e04bdc5c",
   "metadata": {},
   "outputs": [],
   "source": [
    "use_count=use_data[\"merchant_id\"].value_counts()"
   ]
  },
  {
   "cell_type": "code",
   "execution_count": 55,
   "id": "52afaa88",
   "metadata": {},
   "outputs": [
    {
     "data": {
      "text/plain": [
       "3381    117818\n",
       "450      60092\n",
       "760      43182\n",
       "5341     34135\n",
       "2709     33535\n",
       "         ...  \n",
       "1341         1\n",
       "5874         1\n",
       "6462         1\n",
       "4339         1\n",
       "5240         1\n",
       "Name: merchant_id, Length: 5363, dtype: int64"
      ]
     },
     "execution_count": 55,
     "metadata": {},
     "output_type": "execute_result"
    }
   ],
   "source": [
    "merchant_count"
   ]
  },
  {
   "cell_type": "code",
   "execution_count": 56,
   "id": "a22cdb01",
   "metadata": {},
   "outputs": [
    {
     "data": {
      "text/plain": [
       "5341    5522\n",
       "760     2984\n",
       "6485    2876\n",
       "3381    2388\n",
       "2099    1660\n",
       "        ... \n",
       "6438       1\n",
       "4263       1\n",
       "5926       1\n",
       "5798       1\n",
       "2113       1\n",
       "Name: merchant_id, Length: 3738, dtype: int64"
      ]
     },
     "execution_count": 56,
     "metadata": {},
     "output_type": "execute_result"
    }
   ],
   "source": [
    "use_count"
   ]
  },
  {
   "cell_type": "code",
   "execution_count": 57,
   "id": "c31c0e1e",
   "metadata": {},
   "outputs": [],
   "source": [
    "u_m_count=pd.merge(merchant_count,use_count,left_on=merchant_count.index,right_on=use_count.index)"
   ]
  },
  {
   "cell_type": "code",
   "execution_count": 58,
   "id": "b8b21ed9",
   "metadata": {},
   "outputs": [
    {
     "data": {
      "text/plain": [
       "array(['3381', '450', '760', '5341', '2709', '1569', '7555', '4660',\n",
       "       '6454', '3621', '1433', '2099', '6434', '6901', '1469', '7019',\n",
       "       '4860', '6485', '5717', '4663'], dtype=object)"
      ]
     },
     "execution_count": 58,
     "metadata": {},
     "output_type": "execute_result"
    }
   ],
   "source": [
    "u_m_count.iloc[:20,0].astype(\"str\").values"
   ]
  },
  {
   "cell_type": "code",
   "execution_count": 59,
   "id": "feb8693f",
   "metadata": {},
   "outputs": [
    {
     "data": {
      "text/plain": [
       "<AxesSubplot:xlabel='商户ID', ylabel='券数量'>"
      ]
     },
     "execution_count": 59,
     "metadata": {},
     "output_type": "execute_result"
    },
    {
     "data": {
      "image/png": "[encoded data removed]",
      "text/plain": [
       "<Figure size 432x288 with 1 Axes>"
      ]
     },
     "metadata": {
      "needs_background": "light"
     },
     "output_type": "display_data"
    }
   ],
   "source": [
    "u_m_count.iloc[:20,1:].plot(kind=\"bar\",xlabel=\"商户ID\",\n",
    "                           ylabel=\"券数量\",width=0.6)"
   ]
  },
  {
   "cell_type": "code",
   "execution_count": 60,
   "id": "d66bb060",
   "metadata": {},
   "outputs": [
    {
     "data": {
      "text/plain": [
       "Text(0.5, 1.0, '2016年各月用户领券次数与领券消费次数')"
      ]
     },
     "execution_count": 60,
     "metadata": {},
     "output_type": "execute_result"
    },
    {
     "data": {
      "image/png": "[encoded data removed]",
      "text/plain": [
       "<Figure size 432x288 with 1 Axes>"
      ]
     },
     "metadata": {
      "needs_background": "light"
     },
     "output_type": "display_data"
    }
   ],
   "source": [
    "x=[i for i in range(20)]\n",
    "width = 0.2; alpha = 0.7 # width设置宽度大小,alpha为透明度\n",
    "for i in range(len(x)):\n",
    "    x[i] = x[i]-width\n",
    "plt.bar(x,height = list(u_m_count.iloc[:20,1]),\n",
    "        width = width,label='用户领券sh数量',alpha=alpha, color='#0504aa')\n",
    "for i in range(len(x)):\n",
    "    x[i] = x[i] + width\n",
    "#width=0.3\n",
    "plt.bar(x,height =list(u_m_count.iloc[:20,2]),\n",
    "        width = width,label='用户领券消费次数',alpha=alpha, color='y') \n",
    "plt.legend()  # 图例\n",
    "plt.xlabel('商户ID')\n",
    "plt.ylabel('次数')\n",
    "plt.xticks(ticks=[i for i in range(20)], labels=u_m_count.iloc[:20,0],rotation=60)\n",
    "plt.title('2016年各月用户领券次数与领券消费次数')"
   ]
  },
  {
   "cell_type": "code",
   "execution_count": 61,
   "id": "1ee327c0",
   "metadata": {},
   "outputs": [],
   "source": [
    "u_m_count[\"比例\"]=u_m_count.iloc[:,2]/u_m_count.iloc[:,1]"
   ]
  },
  {
   "cell_type": "code",
   "execution_count": 62,
   "id": "fdae3dc8",
   "metadata": {},
   "outputs": [],
   "source": [
    "umd=u_m_count.sort_values(by=\"比例\",ascending=False)"
   ]
  },
  {
   "cell_type": "code",
   "execution_count": 63,
   "id": "77bab66c",
   "metadata": {},
   "outputs": [
    {
     "data": {
      "text/html": [
       "<div>\n",
       "<style scoped>\n",
       "    .dataframe tbody tr th:only-of-type {\n",
       "        vertical-align: middle;\n",
       "    }\n",
       "\n",
       "    .dataframe tbody tr th {\n",
       "        vertical-align: top;\n",
       "    }\n",
       "\n",
       "    .dataframe thead th {\n",
       "        text-align: right;\n",
       "    }\n",
       "</style>\n",
       "<table border=\"1\" class=\"dataframe\">\n",
       "  <thead>\n",
       "    <tr style=\"text-align: right;\">\n",
       "      <th></th>\n",
       "      <th>key_0</th>\n",
       "      <th>merchant_id_x</th>\n",
       "      <th>merchant_id_y</th>\n",
       "      <th>比例</th>\n",
       "    </tr>\n",
       "  </thead>\n",
       "  <tbody>\n",
       "    <tr>\n",
       "      <th>45</th>\n",
       "      <td>4142</td>\n",
       "      <td>3383</td>\n",
       "      <td>1360</td>\n",
       "      <td>0.402010</td>\n",
       "    </tr>\n",
       "    <tr>\n",
       "      <th>65</th>\n",
       "      <td>7910</td>\n",
       "      <td>1717</td>\n",
       "      <td>643</td>\n",
       "      <td>0.374490</td>\n",
       "    </tr>\n",
       "    <tr>\n",
       "      <th>75</th>\n",
       "      <td>7903</td>\n",
       "      <td>1390</td>\n",
       "      <td>495</td>\n",
       "      <td>0.356115</td>\n",
       "    </tr>\n",
       "    <tr>\n",
       "      <th>72</th>\n",
       "      <td>6135</td>\n",
       "      <td>1483</td>\n",
       "      <td>489</td>\n",
       "      <td>0.329737</td>\n",
       "    </tr>\n",
       "    <tr>\n",
       "      <th>80</th>\n",
       "      <td>6683</td>\n",
       "      <td>1243</td>\n",
       "      <td>407</td>\n",
       "      <td>0.327434</td>\n",
       "    </tr>\n",
       "    <tr>\n",
       "      <th>...</th>\n",
       "      <td>...</td>\n",
       "      <td>...</td>\n",
       "      <td>...</td>\n",
       "      <td>...</td>\n",
       "    </tr>\n",
       "    <tr>\n",
       "      <th>54</th>\n",
       "      <td>4909</td>\n",
       "      <td>2339</td>\n",
       "      <td>5</td>\n",
       "      <td>0.002138</td>\n",
       "    </tr>\n",
       "    <tr>\n",
       "      <th>37</th>\n",
       "      <td>8077</td>\n",
       "      <td>5227</td>\n",
       "      <td>11</td>\n",
       "      <td>0.002104</td>\n",
       "    </tr>\n",
       "    <tr>\n",
       "      <th>29</th>\n",
       "      <td>6424</td>\n",
       "      <td>7456</td>\n",
       "      <td>13</td>\n",
       "      <td>0.001744</td>\n",
       "    </tr>\n",
       "    <tr>\n",
       "      <th>43</th>\n",
       "      <td>2046</td>\n",
       "      <td>3463</td>\n",
       "      <td>6</td>\n",
       "      <td>0.001733</td>\n",
       "    </tr>\n",
       "    <tr>\n",
       "      <th>7</th>\n",
       "      <td>4660</td>\n",
       "      <td>23709</td>\n",
       "      <td>31</td>\n",
       "      <td>0.001308</td>\n",
       "    </tr>\n",
       "  </tbody>\n",
       "</table>\n",
       "<p>92 rows × 4 columns</p>\n",
       "</div>"
      ],
      "text/plain": [
       "    key_0  merchant_id_x  merchant_id_y        比例\n",
       "45   4142           3383           1360  0.402010\n",
       "65   7910           1717            643  0.374490\n",
       "75   7903           1390            495  0.356115\n",
       "72   6135           1483            489  0.329737\n",
       "80   6683           1243            407  0.327434\n",
       "..    ...            ...            ...       ...\n",
       "54   4909           2339              5  0.002138\n",
       "37   8077           5227             11  0.002104\n",
       "29   6424           7456             13  0.001744\n",
       "43   2046           3463              6  0.001733\n",
       "7    4660          23709             31  0.001308\n",
       "\n",
       "[92 rows x 4 columns]"
      ]
     },
     "execution_count": 63,
     "metadata": {},
     "output_type": "execute_result"
    }
   ],
   "source": [
    "umd[umd[\"merchant_id_x\"]>1000]"
   ]
  },
  {
   "cell_type": "code",
   "execution_count": null,
   "id": "e4af30d5",
   "metadata": {},
   "outputs": [],
   "source": []
  },
  {
   "cell_type": "code",
   "execution_count": 64,
   "id": "8cb4ba4c",
   "metadata": {},
   "outputs": [
    {
     "name": "stdout",
     "output_type": "stream",
     "text": [
      "数据形状: (768767, 3)\n"
     ]
    }
   ],
   "source": [
    "# 提取用户消费次数数据\n",
    "date_distance = data1.loc[data1['date'].notnull()&data1[\n",
    "        'distance'].notnull(),['user_id','distance','date']]\n",
    "print('数据形状:', date_distance.shape)"
   ]
  },
  {
   "cell_type": "code",
   "execution_count": 65,
   "id": "fe3452e7",
   "metadata": {},
   "outputs": [],
   "source": [
    "# 统计用户消费次数\n",
    "dis_count = date_distance['distance'].value_counts()"
   ]
  },
  {
   "cell_type": "code",
   "execution_count": 66,
   "id": "c1e6c4b9",
   "metadata": {},
   "outputs": [
    {
     "data": {
      "text/plain": [
       "0     524743\n",
       "1      91952\n",
       "2      40619\n",
       "10     36231\n",
       "3      23515\n",
       "4      15830\n",
       "5      11273\n",
       "6       8428\n",
       "7       6429\n",
       "8       5417\n",
       "9       4330\n",
       "Name: distance, dtype: int64"
      ]
     },
     "execution_count": 66,
     "metadata": {},
     "output_type": "execute_result"
    }
   ],
   "source": [
    "dis_count"
   ]
  },
  {
   "cell_type": "code",
   "execution_count": 67,
   "id": "d943c5ec",
   "metadata": {},
   "outputs": [
    {
     "data": {
      "text/plain": [
       "Text(0.5, 1.0, '用户到门店消费的距离比例')"
      ]
     },
     "execution_count": 67,
     "metadata": {},
     "output_type": "execute_result"
    },
    {
     "data": {
      "image/png": "[encoded data removed]",
      "text/plain": [
       "<Figure size 720x720 with 1 Axes>"
      ]
     },
     "metadata": {},
     "output_type": "display_data"
    }
   ],
   "source": [
    "# 绘制用户到门店消费的距离比例饼图\n",
    "fig = plt.figure(figsize=(10, 10))  # 设置画布大小\n",
    "plt.pie(x=dis_count, labels=dis_count.index,\n",
    "        pctdistance=.5,autopct='%1.1f%%', radius=0.8)\n",
    "# pctdistance是数据标签的距离圆心位置\n",
    "plt.title('用户到门店消费的距离比例')"
   ]
  },
  {
   "cell_type": "code",
   "execution_count": 68,
   "id": "9c96825b",
   "metadata": {
    "scrolled": true
   },
   "outputs": [
    {
     "name": "stdout",
     "output_type": "stream",
     "text": [
      "数据形状: (67165, 4)\n"
     ]
    }
   ],
   "source": [
    "# 提取用户领券到店铺消费距离数据\n",
    "cop_distance = data1.loc[data1['date'].notnull()&data1[\n",
    "        'distance'].notnull()&data1['coupon_id'].notnull(),[\n",
    "                'user_id', 'distance', 'date', 'discount_rate']]\n",
    "print('数据形状:', cop_distance.shape) \n"
   ]
  },
  {
   "cell_type": "code",
   "execution_count": 69,
   "id": "ded5e96e",
   "metadata": {},
   "outputs": [],
   "source": [
    "cop_count = cop_distance['distance'].value_counts()"
   ]
  },
  {
   "cell_type": "code",
   "execution_count": 70,
   "id": "ab5a0add",
   "metadata": {},
   "outputs": [
    {
     "name": "stdout",
     "output_type": "stream",
     "text": [
      "数据形状: (701602, 4)\n"
     ]
    }
   ],
   "source": [
    "# 提取用户未用券到店铺消费距离数据\n",
    "nocop_distance = data1.loc[data1['date'].notnull()&data1[\n",
    "        'distance'].notnull()&data1['coupon_id'].isnull(),[\n",
    "                'user_id', 'distance', 'date', 'discount_rate']]\n",
    "print('数据形状:', nocop_distance.shape)\n",
    "nocop_count = nocop_distance['distance'].value_counts()"
   ]
  },
  {
   "cell_type": "code",
   "execution_count": 71,
   "id": "16214be4",
   "metadata": {},
   "outputs": [
    {
     "data": {
      "text/plain": [
       "Text(0.5, 1.0, '用户没用券直接到门店消费的距离比例')"
      ]
     },
     "execution_count": 71,
     "metadata": {},
     "output_type": "execute_result"
    },
    {
     "data": {
      "image/png": "[encoded data removed]",
      "text/plain": [
       "<Figure size 864x432 with 2 Axes>"
      ]
     },
     "metadata": {},
     "output_type": "display_data"
    }
   ],
   "source": [
    "# 绘制用户持券到门店消费的距离比例饼图比例饼图\n",
    "plt.figure(figsize=(12,6))  # 设置画布大小\n",
    "#fig = plt.figure(figsize=(5, 6))  \n",
    "plt.subplot(1,2,1)  # 子图\n",
    "plt.pie(x=cop_count, labels=cop_count.index, pctdistance=1.5,\n",
    "       autopct='%1.1f%%')\n",
    "# pctdistance是数据标签的距离圆心位置\n",
    "\n",
    "plt.title('用户持券到门店消费的距离比例')\n",
    "\n",
    "# 绘制用户未持券直接到门店消费的距离比例饼图\n",
    "plt.subplot(1,2,2)\n",
    "plt.pie(x=nocop_count, labels=nocop_count.index, pctdistance=1.5,\n",
    "       autopct='%1.1f%%')\n",
    "plt.title('用户没用券直接到门店消费的距离比例')"
   ]
  },
  {
   "cell_type": "markdown",
   "id": "aeff000b",
   "metadata": {},
   "source": [
    "## 结论"
   ]
  },
  {
   "cell_type": "markdown",
   "id": "acf12918",
   "metadata": {},
   "source": [
    "ID为3381的商户发放数量高达117818张，其次是ID为760和450的商户，其他商户投放优惠券数量都低于45000，说明大部分商户的优惠券发放数量在45000以内，只有少部分商户超过45000。\n",
    "\n",
    "大部分用户更偏向近距离消费，其中消费距离不足500m的用户占到所有用户中的68.3%，但出现4.7%的用户却选择大于等于5km外门店进行消费，可以看出这部分用户对该品牌门店的消费依赖性。\n",
    "\n",
    "两个饼图的分布情况类似，无论是否持券消费，大部分用户都偏向去近距离的门店消费。而只有少部分用户愿意选择去5km外的门店进行消费，说明这些用户对门店有一定的依赖性。\n"
   ]
  },
  {
   "cell_type": "markdown",
   "id": "f12baad3",
   "metadata": {},
   "source": [
    "  "
   ]
  },
  {
   "cell_type": "markdown",
   "id": "63d09f7b",
   "metadata": {},
   "source": [
    "# 数据预处理"
   ]
  },
  {
   "cell_type": "code",
   "execution_count": 72,
   "id": "1d048019",
   "metadata": {},
   "outputs": [],
   "source": [
    "# 数据清洗后数据表\n",
    "cleanfile_train = 'clean_train.csv'  \n",
    "cleanfile_test = 'clean_test.csv'"
   ]
  },
  {
   "cell_type": "code",
   "execution_count": 73,
   "id": "0ba713f7",
   "metadata": {},
   "outputs": [],
   "source": [
    "# 训练样本和测试样本进行合并，方便数据清洗\n",
    "data = pd.concat([data_train, data_test], axis=0, join='outer')"
   ]
  },
  {
   "cell_type": "code",
   "execution_count": 74,
   "id": "1b9291d5",
   "metadata": {},
   "outputs": [],
   "source": [
    "# 对整个dataframe的空值进行处理\n",
    "# 原数据中缺失值为\"null\"字符串,设置为 numpy.nan\n",
    "data.iloc[:, :5] = data.iloc[:, :5].applymap(\n",
    "        lambda x:np.nan if x == 'null' else x)\n",
    "\n",
    "# 对日期类型的空值设置为 None（方便后面整列转成时间类型）\n",
    "data.iloc[:, 5:] = data.iloc[:, 5:].applymap(\n",
    "        lambda x: None if x == 'null' else x)"
   ]
  },
  {
   "cell_type": "code",
   "execution_count": 75,
   "id": "a803f1b4",
   "metadata": {},
   "outputs": [],
   "source": [
    "# 处理data_received字段\n",
    "data['date_received'] = data['date_received'].astype('str').apply(\n",
    "        lambda x:x.split('.')[0])\n",
    "# 转为datetime格式\n",
    "data['date_received'] = pd.to_datetime(data['date_received'])\n",
    "\n",
    "# 处理date字段\n",
    "data['date'] = data[ 'date'].astype('str').apply(lambda x:x.split('.')[0])\n",
    "data['date'] = pd.to_datetime(data['date'])"
   ]
  },
  {
   "cell_type": "code",
   "execution_count": 76,
   "id": "96ae6962",
   "metadata": {},
   "outputs": [],
   "source": [
    "# 满减优惠改写成折扣率形式\n",
    "data['discount_rate'] = data['discount_rate'].fillna('null')\n",
    "def discount(x):\n",
    "    if ':' in x :\n",
    "        split = x.split(':')\n",
    "        discount_rate = (int(split[0])-int(split[1]))/int(split[0])\n",
    "        return round(discount_rate, 2)\n",
    "    elif x == 'null':\n",
    "        return np.nan\n",
    "    else :\n",
    "        return float(x) \n",
    "\n",
    "data['discount_rate'] = data['discount_rate'].map(discount)"
   ]
  },
  {
   "cell_type": "code",
   "execution_count": 77,
   "id": "1f2550da",
   "metadata": {},
   "outputs": [
    {
     "data": {
      "text/plain": [
       "0          True\n",
       "1          True\n",
       "2          True\n",
       "3          True\n",
       "4          True\n",
       "          ...  \n",
       "100664    False\n",
       "100665    False\n",
       "100666    False\n",
       "100667    False\n",
       "100668    False\n",
       "Name: date_received, Length: 1749550, dtype: bool"
      ]
     },
     "execution_count": 77,
     "metadata": {},
     "output_type": "execute_result"
    }
   ],
   "source": [
    "received_month = data['date_received'].apply(lambda x :x.month)\n",
    "received_month.value_counts()\n",
    "received_month != 7"
   ]
  },
  {
   "cell_type": "code",
   "execution_count": 78,
   "id": "908653c6",
   "metadata": {},
   "outputs": [
    {
     "name": "stderr",
     "output_type": "stream",
     "text": [
      "C:\\Users\\itliu\\AppData\\Local\\Programs\\Python\\Python39\\lib\\site-packages\\pandas\\core\\frame.py:4308: SettingWithCopyWarning: \n",
      "A value is trying to be set on a copy of a slice from a DataFrame\n",
      "\n",
      "See the caveats in the documentation: https://pandas.pydata.org/pandas-docs/stable/user_guide/indexing.html#returning-a-view-versus-a-copy\n",
      "  return super().drop(\n"
     ]
    }
   ],
   "source": [
    "# 根据领券月份，提取清洗后的训练样本和测试样本\n",
    "\n",
    "clean_train = data.loc[received_month != 7, :]  # 提取清洗后训练样本\n",
    "clean_test = data.loc[received_month == 7, :]  # 提取清洗后测试样本\n",
    "clean_test.drop('date', axis=1, inplace=True)  # 删除date列\n",
    "\n"
   ]
  },
  {
   "cell_type": "code",
   "execution_count": 79,
   "id": "b9d9d0d2",
   "metadata": {},
   "outputs": [],
   "source": [
    "# 导出数据\n",
    "clean_train.to_csv(cleanfile_train, index=False)\n",
    "clean_test.to_csv(cleanfile_test, index=False)"
   ]
  },
  {
   "cell_type": "code",
   "execution_count": null,
   "id": "dbdfac39",
   "metadata": {},
   "outputs": [],
   "source": []
  },
  {
   "cell_type": "code",
   "execution_count": 80,
   "id": "3ff5d796",
   "metadata": {},
   "outputs": [],
   "source": [
    "# 用户、商户、优惠券的特征结果表\n",
    "userfile = 'data_user.csv'  \n",
    "merchantfile = 'data_merchant.csv'\n",
    "couponfile = 'data_coupon.csv'\n",
    "train_quality = clean_train.copy()"
   ]
  },
  {
   "cell_type": "code",
   "execution_count": 81,
   "id": "18e597f3",
   "metadata": {},
   "outputs": [
    {
     "data": {
      "text/plain": [
       "0          False\n",
       "1          False\n",
       "2          False\n",
       "3          False\n",
       "4          False\n",
       "           ...  \n",
       "1648876    False\n",
       "1648877     True\n",
       "1648878    False\n",
       "1648879    False\n",
       "1648880    False\n",
       "Length: 1648881, dtype: bool"
      ]
     },
     "execution_count": 81,
     "metadata": {},
     "output_type": "execute_result"
    }
   ],
   "source": [
    "train_quality[['date_received','date']].count(axis=1)==2"
   ]
  },
  {
   "cell_type": "code",
   "execution_count": 82,
   "id": "e4d98043",
   "metadata": {},
   "outputs": [
    {
     "data": {
      "text/plain": [
       "user_id\n",
       "4          0\n",
       "35         0\n",
       "36         0\n",
       "64         0\n",
       "110        0\n",
       "          ..\n",
       "7360941    2\n",
       "7360961    0\n",
       "7360967    0\n",
       "7361024    0\n",
       "7361032    0\n",
       "Length: 485469, dtype: int64"
      ]
     },
     "execution_count": 82,
     "metadata": {},
     "output_type": "execute_result"
    }
   ],
   "source": [
    "(train_quality[['date_received','date']].count(axis=1) == 2).groupby(train_quality['user_id']).sum()"
   ]
  },
  {
   "cell_type": "code",
   "execution_count": 83,
   "id": "5cb2a98e",
   "metadata": {},
   "outputs": [],
   "source": [
    "data_user = pd.DataFrame()\n",
    "data_user['user_use_coupon_times'] = (train_quality[['date_received','date']].count(axis=1) == 2).groupby(train_quality['user_id']).sum()"
   ]
  },
  {
   "cell_type": "code",
   "execution_count": 84,
   "id": "12b70573",
   "metadata": {},
   "outputs": [
    {
     "data": {
      "text/html": [
       "<div>\n",
       "<style scoped>\n",
       "    .dataframe tbody tr th:only-of-type {\n",
       "        vertical-align: middle;\n",
       "    }\n",
       "\n",
       "    .dataframe tbody tr th {\n",
       "        vertical-align: top;\n",
       "    }\n",
       "\n",
       "    .dataframe thead th {\n",
       "        text-align: right;\n",
       "    }\n",
       "</style>\n",
       "<table border=\"1\" class=\"dataframe\">\n",
       "  <thead>\n",
       "    <tr style=\"text-align: right;\">\n",
       "      <th></th>\n",
       "      <th>user_use_coupon_times</th>\n",
       "    </tr>\n",
       "    <tr>\n",
       "      <th>user_id</th>\n",
       "      <th></th>\n",
       "    </tr>\n",
       "  </thead>\n",
       "  <tbody>\n",
       "    <tr>\n",
       "      <th>4</th>\n",
       "      <td>0</td>\n",
       "    </tr>\n",
       "    <tr>\n",
       "      <th>35</th>\n",
       "      <td>0</td>\n",
       "    </tr>\n",
       "    <tr>\n",
       "      <th>36</th>\n",
       "      <td>0</td>\n",
       "    </tr>\n",
       "    <tr>\n",
       "      <th>64</th>\n",
       "      <td>0</td>\n",
       "    </tr>\n",
       "    <tr>\n",
       "      <th>110</th>\n",
       "      <td>0</td>\n",
       "    </tr>\n",
       "    <tr>\n",
       "      <th>...</th>\n",
       "      <td>...</td>\n",
       "    </tr>\n",
       "    <tr>\n",
       "      <th>7360941</th>\n",
       "      <td>2</td>\n",
       "    </tr>\n",
       "    <tr>\n",
       "      <th>7360961</th>\n",
       "      <td>0</td>\n",
       "    </tr>\n",
       "    <tr>\n",
       "      <th>7360967</th>\n",
       "      <td>0</td>\n",
       "    </tr>\n",
       "    <tr>\n",
       "      <th>7361024</th>\n",
       "      <td>0</td>\n",
       "    </tr>\n",
       "    <tr>\n",
       "      <th>7361032</th>\n",
       "      <td>0</td>\n",
       "    </tr>\n",
       "  </tbody>\n",
       "</table>\n",
       "<p>485469 rows × 1 columns</p>\n",
       "</div>"
      ],
      "text/plain": [
       "         user_use_coupon_times\n",
       "user_id                       \n",
       "4                            0\n",
       "35                           0\n",
       "36                           0\n",
       "64                           0\n",
       "110                          0\n",
       "...                        ...\n",
       "7360941                      2\n",
       "7360961                      0\n",
       "7360967                      0\n",
       "7361024                      0\n",
       "7361032                      0\n",
       "\n",
       "[485469 rows x 1 columns]"
      ]
     },
     "execution_count": 84,
     "metadata": {},
     "output_type": "execute_result"
    }
   ],
   "source": [
    "data_user"
   ]
  },
  {
   "cell_type": "code",
   "execution_count": null,
   "id": "a37f08ea",
   "metadata": {},
   "outputs": [],
   "source": []
  },
  {
   "cell_type": "code",
   "execution_count": 85,
   "id": "8df6d034",
   "metadata": {},
   "outputs": [],
   "source": [
    "# 优惠券\n",
    "    # 优惠券流行度=被使用优惠券/发放优惠券总数 (9364,)\n",
    "data_coupon = pd.DataFrame()\n"
   ]
  },
  {
   "cell_type": "code",
   "execution_count": 86,
   "id": "1bc9f508",
   "metadata": {},
   "outputs": [
    {
     "data": {
      "text/html": [
       "<div>\n",
       "<style scoped>\n",
       "    .dataframe tbody tr th:only-of-type {\n",
       "        vertical-align: middle;\n",
       "    }\n",
       "\n",
       "    .dataframe tbody tr th {\n",
       "        vertical-align: top;\n",
       "    }\n",
       "\n",
       "    .dataframe thead th {\n",
       "        text-align: right;\n",
       "    }\n",
       "</style>\n",
       "<table border=\"1\" class=\"dataframe\">\n",
       "  <thead>\n",
       "    <tr style=\"text-align: right;\">\n",
       "      <th></th>\n",
       "    </tr>\n",
       "  </thead>\n",
       "  <tbody>\n",
       "  </tbody>\n",
       "</table>\n",
       "</div>"
      ],
      "text/plain": [
       "Empty DataFrame\n",
       "Columns: []\n",
       "Index: []"
      ]
     },
     "execution_count": 86,
     "metadata": {},
     "output_type": "execute_result"
    }
   ],
   "source": [
    "data_coupon"
   ]
  },
  {
   "cell_type": "code",
   "execution_count": 91,
   "id": "1c2fc813",
   "metadata": {},
   "outputs": [
    {
     "data": {
      "text/plain": [
       "0          False\n",
       "1          False\n",
       "2          False\n",
       "3          False\n",
       "4          False\n",
       "           ...  \n",
       "1648876    False\n",
       "1648877    False\n",
       "1648878    False\n",
       "1648879    False\n",
       "1648880    False\n",
       "Length: 1648881, dtype: bool"
      ]
     },
     "execution_count": 91,
     "metadata": {},
     "output_type": "execute_result"
    }
   ],
   "source": [
    "(train_quality['date'] - train_quality['date_received']).dt.days<=15"
   ]
  },
  {
   "cell_type": "code",
   "execution_count": 87,
   "id": "71791b1d",
   "metadata": {},
   "outputs": [],
   "source": [
    "day_fifteen = (train_quality['date'] - train_quality['date_received']).dt.days<=15\n"
   ]
  },
  {
   "cell_type": "code",
   "execution_count": 92,
   "id": "10a592bf",
   "metadata": {},
   "outputs": [
    {
     "data": {
      "text/html": [
       "<div>\n",
       "<style scoped>\n",
       "    .dataframe tbody tr th:only-of-type {\n",
       "        vertical-align: middle;\n",
       "    }\n",
       "\n",
       "    .dataframe tbody tr th {\n",
       "        vertical-align: top;\n",
       "    }\n",
       "\n",
       "    .dataframe thead th {\n",
       "        text-align: right;\n",
       "    }\n",
       "</style>\n",
       "<table border=\"1\" class=\"dataframe\">\n",
       "  <thead>\n",
       "    <tr style=\"text-align: right;\">\n",
       "      <th></th>\n",
       "      <th>date_received</th>\n",
       "      <th>date</th>\n",
       "    </tr>\n",
       "  </thead>\n",
       "  <tbody>\n",
       "    <tr>\n",
       "      <th>30</th>\n",
       "      <td>2016-05-15</td>\n",
       "      <td>2016-05-21</td>\n",
       "    </tr>\n",
       "    <tr>\n",
       "      <th>35</th>\n",
       "      <td>2016-03-21</td>\n",
       "      <td>2016-03-29</td>\n",
       "    </tr>\n",
       "    <tr>\n",
       "      <th>64</th>\n",
       "      <td>2016-05-23</td>\n",
       "      <td>2016-06-05</td>\n",
       "    </tr>\n",
       "    <tr>\n",
       "      <th>71</th>\n",
       "      <td>2016-02-07</td>\n",
       "      <td>2016-02-18</td>\n",
       "    </tr>\n",
       "    <tr>\n",
       "      <th>72</th>\n",
       "      <td>2016-01-27</td>\n",
       "      <td>2016-01-28</td>\n",
       "    </tr>\n",
       "    <tr>\n",
       "      <th>...</th>\n",
       "      <td>...</td>\n",
       "      <td>...</td>\n",
       "    </tr>\n",
       "    <tr>\n",
       "      <th>1648822</th>\n",
       "      <td>2016-02-07</td>\n",
       "      <td>2016-02-11</td>\n",
       "    </tr>\n",
       "    <tr>\n",
       "      <th>1648833</th>\n",
       "      <td>2016-01-29</td>\n",
       "      <td>2016-02-02</td>\n",
       "    </tr>\n",
       "    <tr>\n",
       "      <th>1648870</th>\n",
       "      <td>2016-03-21</td>\n",
       "      <td>2016-03-30</td>\n",
       "    </tr>\n",
       "    <tr>\n",
       "      <th>1648874</th>\n",
       "      <td>2016-05-04</td>\n",
       "      <td>2016-05-08</td>\n",
       "    </tr>\n",
       "    <tr>\n",
       "      <th>1648875</th>\n",
       "      <td>2016-03-21</td>\n",
       "      <td>2016-03-22</td>\n",
       "    </tr>\n",
       "  </tbody>\n",
       "</table>\n",
       "<p>57060 rows × 2 columns</p>\n",
       "</div>"
      ],
      "text/plain": [
       "        date_received       date\n",
       "30         2016-05-15 2016-05-21\n",
       "35         2016-03-21 2016-03-29\n",
       "64         2016-05-23 2016-06-05\n",
       "71         2016-02-07 2016-02-18\n",
       "72         2016-01-27 2016-01-28\n",
       "...               ...        ...\n",
       "1648822    2016-02-07 2016-02-11\n",
       "1648833    2016-01-29 2016-02-02\n",
       "1648870    2016-03-21 2016-03-30\n",
       "1648874    2016-05-04 2016-05-08\n",
       "1648875    2016-03-21 2016-03-22\n",
       "\n",
       "[57060 rows x 2 columns]"
      ]
     },
     "execution_count": 92,
     "metadata": {},
     "output_type": "execute_result"
    }
   ],
   "source": [
    "train_quality.loc[day_fifteen, ['date_received', 'date']]"
   ]
  },
  {
   "cell_type": "code",
   "execution_count": 94,
   "id": "c9dcf3a5",
   "metadata": {},
   "outputs": [
    {
     "data": {
      "text/plain": [
       "30         True\n",
       "35         True\n",
       "64         True\n",
       "71         True\n",
       "72         True\n",
       "           ... \n",
       "1648822    True\n",
       "1648833    True\n",
       "1648870    True\n",
       "1648874    True\n",
       "1648875    True\n",
       "Length: 57060, dtype: bool"
      ]
     },
     "execution_count": 94,
     "metadata": {},
     "output_type": "execute_result"
    }
   ],
   "source": [
    "(train_quality.loc[day_fifteen, ['date_received', 'date']].count(axis=1)==2)"
   ]
  },
  {
   "cell_type": "code",
   "execution_count": 97,
   "id": "7440f67b",
   "metadata": {},
   "outputs": [],
   "source": [
    "s1=(train_quality.loc[day_fifteen, ['date_received', 'date']].count(axis=1)==2).groupby(train_quality[\"coupon_id\"]).sum()"
   ]
  },
  {
   "cell_type": "code",
   "execution_count": 98,
   "id": "c2b78783",
   "metadata": {},
   "outputs": [],
   "source": [
    " s2=(train_quality.loc[day_fifteen, 'date':'date'].count(axis=1)).groupby(train_quality[\"coupon_id\"]).sum()"
   ]
  },
  {
   "cell_type": "code",
   "execution_count": 100,
   "id": "1abd7156",
   "metadata": {},
   "outputs": [
    {
     "data": {
      "text/plain": [
       "0"
      ]
     },
     "execution_count": 100,
     "metadata": {},
     "output_type": "execute_result"
    }
   ],
   "source": [
    "sum(s1-s2)"
   ]
  },
  {
   "cell_type": "code",
   "execution_count": 105,
   "id": "0429d89a",
   "metadata": {},
   "outputs": [],
   "source": [
    "s3=train_quality[train_quality[\"coupon_id\"].notnull()].groupby(\"coupon_id\").count()"
   ]
  },
  {
   "cell_type": "code",
   "execution_count": 112,
   "id": "846bb348",
   "metadata": {},
   "outputs": [
    {
     "data": {
      "text/plain": [
       "1.0"
      ]
     },
     "execution_count": 112,
     "metadata": {},
     "output_type": "execute_result"
    }
   ],
   "source": [
    "max(s3[\"date\"]/s3[\"date_received\"])"
   ]
  },
  {
   "cell_type": "code",
   "execution_count": 88,
   "id": "375a140b",
   "metadata": {},
   "outputs": [
    {
     "ename": "SyntaxError",
     "evalue": "'return' outside function (3829764115.py, line 6)",
     "output_type": "error",
     "traceback": [
      "\u001b[1;36m  File \u001b[1;32m\"C:\\Users\\itliu\\AppData\\Local\\Temp\\ipykernel_7228\\3829764115.py\"\u001b[1;36m, line \u001b[1;32m6\u001b[0m\n\u001b[1;33m    return data_user, data_merchant, data_coupon\u001b[0m\n\u001b[1;37m    ^\u001b[0m\n\u001b[1;31mSyntaxError\u001b[0m\u001b[1;31m:\u001b[0m 'return' outside function\n"
     ]
    }
   ],
   "source": [
    "data_coupon['coupon_fifteen_used_count'] = (train_quality.loc[day_fifteen, ['date_received', 'date']].count(axis=1)==2).groupby(train_quality[\"coupon_id\"]).sum()\n",
    "coupon_consume_times = (train_quality.loc[day_fifteen, 'date':'date'].count(axis=1)).groupby(train_quality[\"coupon_id\"]).sum()\n",
    "\n",
    "data_coupon['coupon_used_rate'] = data_coupon['coupon_fifteen_used_count']/coupon_consume_times\n",
    "data_coupon['coupon_used_rate'] = data_coupon['coupon_used_rate'].fillna(0)\n"
   ]
  },
  {
   "cell_type": "code",
   "execution_count": null,
   "id": "4fc37f88",
   "metadata": {},
   "outputs": [],
   "source": []
  },
  {
   "cell_type": "code",
   "execution_count": null,
   "id": "fd5cd2b2",
   "metadata": {},
   "outputs": [],
   "source": []
  },
  {
   "cell_type": "code",
   "execution_count": null,
   "id": "80dc3d05",
   "metadata": {},
   "outputs": [],
   "source": []
  },
  {
   "cell_type": "code",
   "execution_count": null,
   "id": "0eb44f75",
   "metadata": {},
   "outputs": [],
   "source": []
  },
  {
   "cell_type": "code",
   "execution_count": null,
   "id": "81a520a1",
   "metadata": {},
   "outputs": [],
   "source": [
    "# 导入自定义用户、商户、优惠券的特征包\n",
    "from feature_name import feature_name\n",
    "data_user, data_merchant, data_coupon = feature_name(train_quality=train_quality)\n",
    "data_user.to_csv(userfile, index=False)  # 导出data_user表\n",
    "data_merchant.to_csv(merchantfile, index=False)  # 导出data_merchant数据表\n",
    "data_coupon.to_csv(couponfile, index=False)   #导出data_coupon数据表"
   ]
  },
  {
   "cell_type": "code",
   "execution_count": null,
   "id": "10eef4a7",
   "metadata": {},
   "outputs": [],
   "source": []
  },
  {
   "cell_type": "code",
   "execution_count": null,
   "id": "4395aed8",
   "metadata": {},
   "outputs": [],
   "source": [
    "# 对训练样本与指标类型表进行拼接\n",
    "train_merge = pd.merge(data_user, train_quality, on='user_id')\n",
    "train_merge = pd.merge(train_merge, data_merchant, on=\"merchant_id\")\n",
    "train_merge = pd.merge(train_merge, data_coupon, on='coupon_id', how='left')\n",
    "train_merge.isnull().sum()  # 统计缺失值\n",
    "train_merge.iloc[:,-2:] = train_merge.iloc[:, -2:].fillna(0)  # 缺失值填充\n",
    "print('构建指标后训练样本的形状：', train_merge.shape)\n",
    "trainfile = 'train_cleaned.csv'  # 导出数据\n",
    "train_merge.to_csv(trainfile, index=False)\n",
    "\n"
   ]
  },
  {
   "cell_type": "code",
   "execution_count": null,
   "id": "885f3441",
   "metadata": {},
   "outputs": [],
   "source": [
    "# 对测试样本与指标类型表进行拼接\n",
    "test_merge = pd.merge(data_test, data_user, on='user_id')\n",
    "test_merge = pd.merge(test_merge, data_merchant, on='merchant_id')\n",
    "test_merge = pd.merge(test_merge, data_coupon, on='coupon_id', how='left')\n",
    "test_merge.isnull().sum()  # 统计缺失值\n",
    "test_merge.iloc[:,-2:] = test_merge.iloc[:,-2:].fillna(0)  # 缺失值填充\n",
    "print('构建指标后测试样本的形状：', test_merge.shape)\n",
    "testfile = 'test_cleaned.csv'  # 导出数据\n",
    "test=test_merge\n",
    "test_merge.to_csv(testfile, index=False)"
   ]
  },
  {
   "cell_type": "code",
   "execution_count": null,
   "id": "40e9ea13",
   "metadata": {},
   "outputs": [],
   "source": []
  },
  {
   "cell_type": "code",
   "execution_count": null,
   "id": "b33be0a9",
   "metadata": {},
   "outputs": [],
   "source": [
    "# 建立训练样本分类标签\n",
    "train_merge[\"class\"] = 0  # 标签0\n",
    "train_merge.loc[(train_merge['date']-\n",
    "                 train_merge['date_received']).dt.days<=15, 'class']=1  # 标签1\n",
    "\n",
    "# 删除非正负样本的数据（用户未领券的记录）\n",
    "print(train_merge.shape)\n",
    "train_merge = train_merge[train_merge['coupon_id'].notnull()]\n",
    "print(train_merge.shape)\n",
    "train_class=train_merge.copy()\n",
    "trainfile_class = 'train_class.csv'  # 导出数据\n",
    "train_merge.to_csv(trainfile_class, index=False)"
   ]
  },
  {
   "cell_type": "code",
   "execution_count": null,
   "id": "d14a6e11",
   "metadata": {},
   "outputs": [],
   "source": []
  },
  {
   "cell_type": "markdown",
   "id": "33442c2b",
   "metadata": {},
   "source": [
    "## 模型构建"
   ]
  },
  {
   "cell_type": "markdown",
   "id": "bffc4f96",
   "metadata": {},
   "source": [
    "### 决策树分类模型\n",
    "\n"
   ]
  },
  {
   "cell_type": "code",
   "execution_count": null,
   "id": "709f3faf",
   "metadata": {},
   "outputs": [],
   "source": []
  },
  {
   "cell_type": "code",
   "execution_count": null,
   "id": "c12e2807",
   "metadata": {},
   "outputs": [],
   "source": []
  },
  {
   "cell_type": "markdown",
   "id": "0d87802e",
   "metadata": {},
   "source": [
    "### XGBoost分类模型"
   ]
  },
  {
   "cell_type": "code",
   "execution_count": null,
   "id": "f508f06c",
   "metadata": {},
   "outputs": [],
   "source": []
  },
  {
   "cell_type": "code",
   "execution_count": null,
   "id": "caf23f4d",
   "metadata": {},
   "outputs": [],
   "source": [
    "import pandas as pd\n",
    "testfile = 'test_cleaned.csv'  # 已预处理和贴标签训练数据\n",
    "trainfile_class= 'train_class.csv'  # 已预处理测试数据\n",
    "train_class = pd.read_csv(trainfile_class)\n",
    "test = pd.read_csv(testfile)\n",
    "# 删除列\n"
   ]
  },
  {
   "cell_type": "code",
   "execution_count": null,
   "id": "a892a523",
   "metadata": {},
   "outputs": [],
   "source": [
    "x_train = train_class.drop(['user_id', 'merchant_id','coupon_id',\n",
    "                            'date_received', 'date'], axis=1)\n",
    "x_test = test.drop(['user_id', 'merchant_id', \n",
    "                    'coupon_id', 'date_received'], axis=1)\n",
    "\n",
    "# 决策树建模\n"
   ]
  },
  {
   "cell_type": "code",
   "execution_count": null,
   "id": "eec9860f",
   "metadata": {},
   "outputs": [],
   "source": [
    "？？？"
   ]
  },
  {
   "cell_type": "code",
   "execution_count": null,
   "id": "ed280226",
   "metadata": {},
   "outputs": [],
   "source": [
    "from sklearn.tree import DecisionTreeClassifier\n",
    "model_dt1 = DecisionTreeClassifier(random_state=123).fit(\n",
    "        x_train.iloc[:, :-1], x_train.iloc[:, -1])\n",
    "\n",
    "# 预测结果\n"
   ]
  },
  {
   "cell_type": "code",
   "execution_count": null,
   "id": "ec00644a",
   "metadata": {},
   "outputs": [],
   "source": [
    "pre_dt = model_dt1.predict(x_test)\n",
    "\n",
    "# DataFrame存放决策预测结果\n",
    "dt_class = test[['user_id', 'merchant_id','coupon_id']]\n",
    "dt_class['class'] = pre_dt\n",
    "dtfile_pre = 'dt_class.csv'  # 导出数据\n",
    "dt_class.to_csv(dtfile_pre, index=False)"
   ]
  },
  {
   "cell_type": "code",
   "execution_count": null,
   "id": "55352379",
   "metadata": {},
   "outputs": [],
   "source": [
    "import xgboost as xgb\n",
    "\n",
    "# xgboost模型\n",
    "model_test = xgb.XGBClassifier(max_depth=8,learning_rate=0.1,n_estimators=160,\n",
    "                          silent=True,objective='binary:logistic')\n",
    "# max_depth是数的最大深度，默认值为6，避免过拟合\n",
    "# learning_rate为学习率，n_estimators为总共迭代的次数，即决策树的个数\n",
    "# binary:logistic 二分类的逻辑回归，返回预测的概率(不是类别)\n",
    "\n",
    "# 模型训练\n",
    "model_test.fit(x_train.iloc[:, :-1], x_train.iloc[:, -1])\n",
    "\n",
    "# 模型预测\n",
    "y_pred = model.predict(x_test)\n",
    "\n",
    "# DataFrame存放xgboost预测结果\n",
    "xgb_class = test[['user_id', 'merchant_id', 'coupon_id']]\n",
    "xgb_class['class'] = y_pred\n",
    "xgbfile_pre = 'xgb_class.csv'  # xgboost预测结果\n",
    "xgb_class.to_csv(xgbfile_pre, index=False)"
   ]
  },
  {
   "cell_type": "markdown",
   "id": "6a5a6f51",
   "metadata": {},
   "source": [
    "## 模型评价"
   ]
  },
  {
   "cell_type": "code",
   "execution_count": null,
   "id": "ce98f2a3",
   "metadata": {},
   "outputs": [],
   "source": [
    "\n",
    "\n",
    "# 代码7-13\n",
    "\n",
    "from sklearn import metrics\n",
    "from sklearn.model_selection import train_test_split\n",
    "from sklearn.metrics import precision_score, recall_score, f1_score\n",
    "from sklearn.metrics import accuracy_score\n",
    "\n",
    "# 将训练样本划分训练样本和验证样本\n",
    "x_train1, x_test1, y_train1, y_test1 = train_test_split(x_train.iloc[:, :-1],\n",
    "                                                        x_train.iloc[:, -1],\n",
    "                                                        test_size=0.3,\n",
    "                                                        random_state=10)\n",
    "\n",
    "# 决策树建模\n",
    "model_dt_evaluate = DecisionTreeClassifier(max_leaf_nodes=16,\n",
    "                                           random_state=123).fit(x_train1, y_train1)\n",
    "model_dt_pre = model_dt_evaluate.predict(x_test1)  # 预测结果\n",
    "\n",
    "# 决策树模型评价指标值\n",
    "print(metrics.classification_report(y_test1, model_dt_pre))\n",
    "dt_evaluate_accuracy = accuracy_score(y_test1, model_dt_pre)\n",
    "print('准确率为%.2f%%:' % (dt_evaluate_accuracy*100.0))\n",
    "dt_evaluate_p = precision_score(y_test1, model_dt_pre)\n",
    "print('精确率为%.2f%%'% (dt_evaluate_p*100.0))\n",
    "dt_evaluate_recall = recall_score(y_test1, model_dt_pre)\n",
    "print('召回率为%.2f%%:'%(dt_evaluate_recall*100.0))\n",
    "dt_evaluate_f1 = f1_score(y_test1, model_dt_pre)\n",
    "print('F1值为%.2f%%:'%(dt_evaluate_f1*100.0))\n",
    "\n",
    "# xgboost模型\n",
    "model_xgb_evaluate = xgb.XGBClassifier(max_depth=8, learning_rate=0.1,\n",
    "                                       n_estimators=160, silent=True, \n",
    "                                       objective='binary:logistic')\n",
    "model_xgb_evaluate.fit(x_train1, y_train1)\n",
    "\n",
    "# 对验证样本进行预测\n",
    "model_xgb_pre = model_xgb_evaluate.predict(x_test1)\n",
    "\n",
    "# xgboost模型评价指标\n",
    "print(metrics.classification_report(y_test1, model_xgb_pre))\n",
    "xfb_evaluate_accuracy = accuracy_score(y_test1, model_xgb_pre)\n",
    "print('准确率为:%.2f%%' % (xfb_evaluate_accuracy*100.0))\n",
    "xfb_evaluate_p = precision_score(y_test1, model_xgb_pre)\n",
    "print('精确率为:%.2f%%'% (xfb_evaluate_p*100.0))\n",
    "xfb_evaluate_recall = recall_score(y_test1, model_xgb_pre)\n",
    "print('召回率为:%.2f%%'%(xfb_evaluate_recall*100.0))\n",
    "xfb_evaluate_f1 = f1_score(y_test1, model_xgb_pre)\n",
    "print('F1值为:%.2f%%'%(xfb_evaluate_f1*100.0))\n",
    "\n",
    "\n",
    "\n",
    "# 代码7-14\n",
    "\n",
    "from matplotlib import pyplot as plt\n",
    "from xgboost import plot_importance\n",
    "\n",
    "# 显示重要指标\n",
    "plot_importance(model_xgb_evaluate)\n",
    "plt.show()"
   ]
  },
  {
   "cell_type": "code",
   "execution_count": null,
   "id": "4a6a6ba7",
   "metadata": {},
   "outputs": [],
   "source": []
  },
  {
   "cell_type": "code",
   "execution_count": null,
   "id": "b03478c1",
   "metadata": {},
   "outputs": [],
   "source": []
  }
 ],
 "metadata": {
  "kernelspec": {
   "display_name": "Python 3 (ipykernel)",
   "language": "python",
   "name": "python3"
  },
  "language_info": {
   "codemirror_mode": {
    "name": "ipython",
    "version": 3
   },
   "file_extension": ".py",
   "mimetype": "text/x-python",
   "name": "python",
   "nbconvert_exporter": "python",
   "pygments_lexer": "ipython3",
   "version": "3.9.5"
  }
 },
 "nbformat": 4,
 "nbformat_minor": 5
}
