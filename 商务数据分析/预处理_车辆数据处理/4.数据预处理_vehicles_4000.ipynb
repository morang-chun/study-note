{
 "cells": [
  {
   "cell_type": "code",
   "execution_count": 1,
   "id": "6076c0ec",
   "metadata": {},
   "outputs": [],
   "source": [
    "import pandas as pd\n",
    "import numpy as np\n",
    "from pandas import cut # 等距离散化\n",
    "from pandas import qcut # 等频离散化\n",
    "from sklearn.preprocessing import Binarizer # 二值化\n",
    "from sklearn.impute import SimpleImputer # 缺失值处理\n",
    "from sklearn.neighbors import LocalOutlierFactor # 离群值处理\n",
    "from sklearn.preprocessing import StandardScaler # 标准化\n",
    "from sklearn.preprocessing import MinMaxScaler # 标准化\n",
    "from sklearn.preprocessing import RobustScaler # 标准化\n",
    "from sklearn.preprocessing import OneHotEncoder # 特征编码\n",
    "from sklearn.preprocessing import LabelEncoder # 特征编码\n",
    "import matplotlib.pyplot as plt\n",
    "%matplotlib inline\n",
    "from sklearn.model_selection import train_test_split\n",
    "import warnings\n",
    "warnings.filterwarnings(\"ignore\") # 不显示warnings"
   ]
  },
  {
   "cell_type": "code",
   "execution_count": 2,
   "id": "fa2dc659",
   "metadata": {},
   "outputs": [],
   "source": [
    "data = pd.read_csv(\"./vehicles_4000.csv\",index_col=0)\n",
    "data_copy = data.copy()"
   ]
  },
  {
   "cell_type": "markdown",
   "id": "3a7f1c49",
   "metadata": {},
   "source": [
    "# 一、探索性分析"
   ]
  },
  {
   "cell_type": "code",
   "execution_count": 3,
   "id": "339de625",
   "metadata": {},
   "outputs": [
    {
     "data": {
      "text/html": [
       "<div>\n",
       "<style scoped>\n",
       "    .dataframe tbody tr th:only-of-type {\n",
       "        vertical-align: middle;\n",
       "    }\n",
       "\n",
       "    .dataframe tbody tr th {\n",
       "        vertical-align: top;\n",
       "    }\n",
       "\n",
       "    .dataframe thead th {\n",
       "        text-align: right;\n",
       "    }\n",
       "</style>\n",
       "<table border=\"1\" class=\"dataframe\">\n",
       "  <thead>\n",
       "    <tr style=\"text-align: right;\">\n",
       "      <th></th>\n",
       "      <th>id</th>\n",
       "      <th>url</th>\n",
       "      <th>region</th>\n",
       "      <th>region_url</th>\n",
       "      <th>price</th>\n",
       "      <th>year</th>\n",
       "      <th>manufacturer</th>\n",
       "      <th>model</th>\n",
       "      <th>condition</th>\n",
       "      <th>cylinders</th>\n",
       "      <th>...</th>\n",
       "      <th>drive</th>\n",
       "      <th>size</th>\n",
       "      <th>type</th>\n",
       "      <th>paint_color</th>\n",
       "      <th>image_url</th>\n",
       "      <th>description</th>\n",
       "      <th>county</th>\n",
       "      <th>state</th>\n",
       "      <th>lat</th>\n",
       "      <th>long</th>\n",
       "    </tr>\n",
       "  </thead>\n",
       "  <tbody>\n",
       "    <tr>\n",
       "      <th>0</th>\n",
       "      <td>7184791621</td>\n",
       "      <td>https://duluth.craigslist.org/ctd/d/duluth-200...</td>\n",
       "      <td>duluth / superior</td>\n",
       "      <td>https://duluth.craigslist.org</td>\n",
       "      <td>6995</td>\n",
       "      <td>2000.0</td>\n",
       "      <td>gmc</td>\n",
       "      <td>new sierra 1500</td>\n",
       "      <td>excellent</td>\n",
       "      <td>8 cylinders</td>\n",
       "      <td>...</td>\n",
       "      <td>4wd</td>\n",
       "      <td>NaN</td>\n",
       "      <td>NaN</td>\n",
       "      <td>red</td>\n",
       "      <td>https://images.craigslist.org/00n0n_f06ykBMcdh...</td>\n",
       "      <td>2000 *** GMC New Sierra 1500 Ext Cab 157.5  WB...</td>\n",
       "      <td>NaN</td>\n",
       "      <td>mn</td>\n",
       "      <td>46.8433</td>\n",
       "      <td>-92.2550</td>\n",
       "    </tr>\n",
       "    <tr>\n",
       "      <th>1</th>\n",
       "      <td>7184773187</td>\n",
       "      <td>https://duluth.craigslist.org/cto/d/saginaw-20...</td>\n",
       "      <td>duluth / superior</td>\n",
       "      <td>https://duluth.craigslist.org</td>\n",
       "      <td>8750</td>\n",
       "      <td>2013.0</td>\n",
       "      <td>hyundai</td>\n",
       "      <td>sonata</td>\n",
       "      <td>excellent</td>\n",
       "      <td>4 cylinders</td>\n",
       "      <td>...</td>\n",
       "      <td>fwd</td>\n",
       "      <td>NaN</td>\n",
       "      <td>NaN</td>\n",
       "      <td>grey</td>\n",
       "      <td>https://images.craigslist.org/00d0d_kgZ6xoeRw2...</td>\n",
       "      <td>For Sale:  2013 Hyundai Sonata GLS - $8750.  O...</td>\n",
       "      <td>NaN</td>\n",
       "      <td>mn</td>\n",
       "      <td>46.9074</td>\n",
       "      <td>-92.4638</td>\n",
       "    </tr>\n",
       "    <tr>\n",
       "      <th>2</th>\n",
       "      <td>7193375964</td>\n",
       "      <td>https://newhaven.craigslist.org/cto/d/stratfor...</td>\n",
       "      <td>new haven</td>\n",
       "      <td>https://newhaven.craigslist.org</td>\n",
       "      <td>10900</td>\n",
       "      <td>2013.0</td>\n",
       "      <td>toyota</td>\n",
       "      <td>prius</td>\n",
       "      <td>good</td>\n",
       "      <td>4 cylinders</td>\n",
       "      <td>...</td>\n",
       "      <td>fwd</td>\n",
       "      <td>NaN</td>\n",
       "      <td>NaN</td>\n",
       "      <td>blue</td>\n",
       "      <td>https://images.craigslist.org/00d0d_3sHGxPbY2O...</td>\n",
       "      <td>2013 Prius V Model Two. One owner—must sell my...</td>\n",
       "      <td>NaN</td>\n",
       "      <td>ct</td>\n",
       "      <td>41.1770</td>\n",
       "      <td>-73.1336</td>\n",
       "    </tr>\n",
       "    <tr>\n",
       "      <th>3</th>\n",
       "      <td>7195108810</td>\n",
       "      <td>https://albuquerque.craigslist.org/cto/d/albuq...</td>\n",
       "      <td>albuquerque</td>\n",
       "      <td>https://albuquerque.craigslist.org</td>\n",
       "      <td>12500</td>\n",
       "      <td>2003.0</td>\n",
       "      <td>mitsubishi</td>\n",
       "      <td>lancer</td>\n",
       "      <td>good</td>\n",
       "      <td>4 cylinders</td>\n",
       "      <td>...</td>\n",
       "      <td>4wd</td>\n",
       "      <td>mid-size</td>\n",
       "      <td>sedan</td>\n",
       "      <td>grey</td>\n",
       "      <td>https://images.craigslist.org/00m0m_4a8Pb6JbMG...</td>\n",
       "      <td>2003 Mitsubishi Lancer Evolution, silver.  Abo...</td>\n",
       "      <td>NaN</td>\n",
       "      <td>nm</td>\n",
       "      <td>35.1868</td>\n",
       "      <td>-106.6650</td>\n",
       "    </tr>\n",
       "    <tr>\n",
       "      <th>4</th>\n",
       "      <td>7184712241</td>\n",
       "      <td>https://duluth.craigslist.org/ctd/d/rush-city-...</td>\n",
       "      <td>duluth / superior</td>\n",
       "      <td>https://duluth.craigslist.org</td>\n",
       "      <td>16995</td>\n",
       "      <td>2007.0</td>\n",
       "      <td>gmc</td>\n",
       "      <td>sierra classic 2500hd</td>\n",
       "      <td>good</td>\n",
       "      <td>8 cylinders</td>\n",
       "      <td>...</td>\n",
       "      <td>4wd</td>\n",
       "      <td>full-size</td>\n",
       "      <td>truck</td>\n",
       "      <td>white</td>\n",
       "      <td>https://images.craigslist.org/01414_g093aPtSMW...</td>\n",
       "      <td>**Bad Credit, No Credit... No Problem!**2007 G...</td>\n",
       "      <td>NaN</td>\n",
       "      <td>mn</td>\n",
       "      <td>45.6836</td>\n",
       "      <td>-92.9648</td>\n",
       "    </tr>\n",
       "  </tbody>\n",
       "</table>\n",
       "<p>5 rows × 25 columns</p>\n",
       "</div>"
      ],
      "text/plain": [
       "           id                                                url  \\\n",
       "0  7184791621  https://duluth.craigslist.org/ctd/d/duluth-200...   \n",
       "1  7184773187  https://duluth.craigslist.org/cto/d/saginaw-20...   \n",
       "2  7193375964  https://newhaven.craigslist.org/cto/d/stratfor...   \n",
       "3  7195108810  https://albuquerque.craigslist.org/cto/d/albuq...   \n",
       "4  7184712241  https://duluth.craigslist.org/ctd/d/rush-city-...   \n",
       "\n",
       "              region                          region_url  price    year  \\\n",
       "0  duluth / superior       https://duluth.craigslist.org   6995  2000.0   \n",
       "1  duluth / superior       https://duluth.craigslist.org   8750  2013.0   \n",
       "2          new haven     https://newhaven.craigslist.org  10900  2013.0   \n",
       "3        albuquerque  https://albuquerque.craigslist.org  12500  2003.0   \n",
       "4  duluth / superior       https://duluth.craigslist.org  16995  2007.0   \n",
       "\n",
       "  manufacturer                  model  condition    cylinders  ... drive  \\\n",
       "0          gmc        new sierra 1500  excellent  8 cylinders  ...   4wd   \n",
       "1      hyundai                 sonata  excellent  4 cylinders  ...   fwd   \n",
       "2       toyota                  prius       good  4 cylinders  ...   fwd   \n",
       "3   mitsubishi                 lancer       good  4 cylinders  ...   4wd   \n",
       "4          gmc  sierra classic 2500hd       good  8 cylinders  ...   4wd   \n",
       "\n",
       "        size   type paint_color  \\\n",
       "0        NaN    NaN         red   \n",
       "1        NaN    NaN        grey   \n",
       "2        NaN    NaN        blue   \n",
       "3   mid-size  sedan        grey   \n",
       "4  full-size  truck       white   \n",
       "\n",
       "                                           image_url  \\\n",
       "0  https://images.craigslist.org/00n0n_f06ykBMcdh...   \n",
       "1  https://images.craigslist.org/00d0d_kgZ6xoeRw2...   \n",
       "2  https://images.craigslist.org/00d0d_3sHGxPbY2O...   \n",
       "3  https://images.craigslist.org/00m0m_4a8Pb6JbMG...   \n",
       "4  https://images.craigslist.org/01414_g093aPtSMW...   \n",
       "\n",
       "                                         description county state      lat  \\\n",
       "0  2000 *** GMC New Sierra 1500 Ext Cab 157.5  WB...    NaN    mn  46.8433   \n",
       "1  For Sale:  2013 Hyundai Sonata GLS - $8750.  O...    NaN    mn  46.9074   \n",
       "2  2013 Prius V Model Two. One owner—must sell my...    NaN    ct  41.1770   \n",
       "3  2003 Mitsubishi Lancer Evolution, silver.  Abo...    NaN    nm  35.1868   \n",
       "4  **Bad Credit, No Credit... No Problem!**2007 G...    NaN    mn  45.6836   \n",
       "\n",
       "       long  \n",
       "0  -92.2550  \n",
       "1  -92.4638  \n",
       "2  -73.1336  \n",
       "3 -106.6650  \n",
       "4  -92.9648  \n",
       "\n",
       "[5 rows x 25 columns]"
      ]
     },
     "execution_count": 3,
     "metadata": {},
     "output_type": "execute_result"
    }
   ],
   "source": [
    "data.head()"
   ]
  },
  {
   "cell_type": "code",
   "execution_count": 4,
   "id": "18b6254a",
   "metadata": {},
   "outputs": [
    {
     "data": {
      "text/html": [
       "<div>\n",
       "<style scoped>\n",
       "    .dataframe tbody tr th:only-of-type {\n",
       "        vertical-align: middle;\n",
       "    }\n",
       "\n",
       "    .dataframe tbody tr th {\n",
       "        vertical-align: top;\n",
       "    }\n",
       "\n",
       "    .dataframe thead th {\n",
       "        text-align: right;\n",
       "    }\n",
       "</style>\n",
       "<table border=\"1\" class=\"dataframe\">\n",
       "  <thead>\n",
       "    <tr style=\"text-align: right;\">\n",
       "      <th></th>\n",
       "      <th>id</th>\n",
       "      <th>url</th>\n",
       "      <th>region</th>\n",
       "      <th>region_url</th>\n",
       "      <th>price</th>\n",
       "      <th>year</th>\n",
       "      <th>manufacturer</th>\n",
       "      <th>model</th>\n",
       "      <th>condition</th>\n",
       "      <th>cylinders</th>\n",
       "      <th>...</th>\n",
       "      <th>drive</th>\n",
       "      <th>size</th>\n",
       "      <th>type</th>\n",
       "      <th>paint_color</th>\n",
       "      <th>image_url</th>\n",
       "      <th>description</th>\n",
       "      <th>county</th>\n",
       "      <th>state</th>\n",
       "      <th>lat</th>\n",
       "      <th>long</th>\n",
       "    </tr>\n",
       "  </thead>\n",
       "  <tbody>\n",
       "    <tr>\n",
       "      <th>3995</th>\n",
       "      <td>7190378980</td>\n",
       "      <td>https://reno.craigslist.org/ctd/d/rancho-cordo...</td>\n",
       "      <td>reno / tahoe</td>\n",
       "      <td>https://reno.craigslist.org</td>\n",
       "      <td>29999</td>\n",
       "      <td>2018.0</td>\n",
       "      <td>gmc</td>\n",
       "      <td>acadia</td>\n",
       "      <td>excellent</td>\n",
       "      <td>6 cylinders</td>\n",
       "      <td>...</td>\n",
       "      <td>4wd</td>\n",
       "      <td>NaN</td>\n",
       "      <td>SUV</td>\n",
       "      <td>red</td>\n",
       "      <td>https://images.craigslist.org/00404_brCEJoTMCP...</td>\n",
       "      <td>Finance @ www.ElegantAutoSales.net Call ☏ 916−...</td>\n",
       "      <td>NaN</td>\n",
       "      <td>ca</td>\n",
       "      <td>38.615</td>\n",
       "      <td>-121.272</td>\n",
       "    </tr>\n",
       "    <tr>\n",
       "      <th>3996</th>\n",
       "      <td>7190378750</td>\n",
       "      <td>https://reno.craigslist.org/ctd/d/rancho-cordo...</td>\n",
       "      <td>reno / tahoe</td>\n",
       "      <td>https://reno.craigslist.org</td>\n",
       "      <td>59999</td>\n",
       "      <td>2014.0</td>\n",
       "      <td>NaN</td>\n",
       "      <td>Maserati GranTurismo</td>\n",
       "      <td>excellent</td>\n",
       "      <td>8 cylinders</td>\n",
       "      <td>...</td>\n",
       "      <td>rwd</td>\n",
       "      <td>NaN</td>\n",
       "      <td>coupe</td>\n",
       "      <td>grey</td>\n",
       "      <td>https://images.craigslist.org/00X0X_hZUFzA4HC5...</td>\n",
       "      <td>Finance @ www.ElegantAutoSales.net Call ☏ 916−...</td>\n",
       "      <td>NaN</td>\n",
       "      <td>ca</td>\n",
       "      <td>38.615</td>\n",
       "      <td>-121.272</td>\n",
       "    </tr>\n",
       "    <tr>\n",
       "      <th>3997</th>\n",
       "      <td>7190378403</td>\n",
       "      <td>https://reno.craigslist.org/ctd/d/rancho-cordo...</td>\n",
       "      <td>reno / tahoe</td>\n",
       "      <td>https://reno.craigslist.org</td>\n",
       "      <td>19999</td>\n",
       "      <td>2017.0</td>\n",
       "      <td>subaru</td>\n",
       "      <td>forester</td>\n",
       "      <td>excellent</td>\n",
       "      <td>4 cylinders</td>\n",
       "      <td>...</td>\n",
       "      <td>4wd</td>\n",
       "      <td>NaN</td>\n",
       "      <td>SUV</td>\n",
       "      <td>blue</td>\n",
       "      <td>https://images.craigslist.org/00y0y_fjmLHl9Q0D...</td>\n",
       "      <td>Finance @ www.ElegantAutoSales.net Call ☏ 916−...</td>\n",
       "      <td>NaN</td>\n",
       "      <td>ca</td>\n",
       "      <td>38.615</td>\n",
       "      <td>-121.272</td>\n",
       "    </tr>\n",
       "    <tr>\n",
       "      <th>3998</th>\n",
       "      <td>7190378203</td>\n",
       "      <td>https://reno.craigslist.org/ctd/d/rancho-cordo...</td>\n",
       "      <td>reno / tahoe</td>\n",
       "      <td>https://reno.craigslist.org</td>\n",
       "      <td>15999</td>\n",
       "      <td>2013.0</td>\n",
       "      <td>bmw</td>\n",
       "      <td>x5</td>\n",
       "      <td>excellent</td>\n",
       "      <td>6 cylinders</td>\n",
       "      <td>...</td>\n",
       "      <td>4wd</td>\n",
       "      <td>NaN</td>\n",
       "      <td>SUV</td>\n",
       "      <td>white</td>\n",
       "      <td>https://images.craigslist.org/00p0p_hUwup1ZJV6...</td>\n",
       "      <td>Finance @ www.ElegantAutoSales.net Call ☏ 916−...</td>\n",
       "      <td>NaN</td>\n",
       "      <td>ca</td>\n",
       "      <td>38.615</td>\n",
       "      <td>-121.272</td>\n",
       "    </tr>\n",
       "    <tr>\n",
       "      <th>3999</th>\n",
       "      <td>7190377968</td>\n",
       "      <td>https://reno.craigslist.org/ctd/d/rancho-cordo...</td>\n",
       "      <td>reno / tahoe</td>\n",
       "      <td>https://reno.craigslist.org</td>\n",
       "      <td>7999</td>\n",
       "      <td>2003.0</td>\n",
       "      <td>audi</td>\n",
       "      <td>allroad</td>\n",
       "      <td>excellent</td>\n",
       "      <td>6 cylinders</td>\n",
       "      <td>...</td>\n",
       "      <td>4wd</td>\n",
       "      <td>NaN</td>\n",
       "      <td>SUV</td>\n",
       "      <td>grey</td>\n",
       "      <td>https://images.craigslist.org/00c0c_c6cvLYu4yn...</td>\n",
       "      <td>Finance @ www.ElegantAutoSales.net Call ☏ 916−...</td>\n",
       "      <td>NaN</td>\n",
       "      <td>ca</td>\n",
       "      <td>38.615</td>\n",
       "      <td>-121.272</td>\n",
       "    </tr>\n",
       "  </tbody>\n",
       "</table>\n",
       "<p>5 rows × 25 columns</p>\n",
       "</div>"
      ],
      "text/plain": [
       "              id                                                url  \\\n",
       "3995  7190378980  https://reno.craigslist.org/ctd/d/rancho-cordo...   \n",
       "3996  7190378750  https://reno.craigslist.org/ctd/d/rancho-cordo...   \n",
       "3997  7190378403  https://reno.craigslist.org/ctd/d/rancho-cordo...   \n",
       "3998  7190378203  https://reno.craigslist.org/ctd/d/rancho-cordo...   \n",
       "3999  7190377968  https://reno.craigslist.org/ctd/d/rancho-cordo...   \n",
       "\n",
       "            region                   region_url  price    year manufacturer  \\\n",
       "3995  reno / tahoe  https://reno.craigslist.org  29999  2018.0          gmc   \n",
       "3996  reno / tahoe  https://reno.craigslist.org  59999  2014.0          NaN   \n",
       "3997  reno / tahoe  https://reno.craigslist.org  19999  2017.0       subaru   \n",
       "3998  reno / tahoe  https://reno.craigslist.org  15999  2013.0          bmw   \n",
       "3999  reno / tahoe  https://reno.craigslist.org   7999  2003.0         audi   \n",
       "\n",
       "                     model  condition    cylinders  ... drive  size   type  \\\n",
       "3995                acadia  excellent  6 cylinders  ...   4wd   NaN    SUV   \n",
       "3996  Maserati GranTurismo  excellent  8 cylinders  ...   rwd   NaN  coupe   \n",
       "3997              forester  excellent  4 cylinders  ...   4wd   NaN    SUV   \n",
       "3998                    x5  excellent  6 cylinders  ...   4wd   NaN    SUV   \n",
       "3999               allroad  excellent  6 cylinders  ...   4wd   NaN    SUV   \n",
       "\n",
       "     paint_color                                          image_url  \\\n",
       "3995         red  https://images.craigslist.org/00404_brCEJoTMCP...   \n",
       "3996        grey  https://images.craigslist.org/00X0X_hZUFzA4HC5...   \n",
       "3997        blue  https://images.craigslist.org/00y0y_fjmLHl9Q0D...   \n",
       "3998       white  https://images.craigslist.org/00p0p_hUwup1ZJV6...   \n",
       "3999        grey  https://images.craigslist.org/00c0c_c6cvLYu4yn...   \n",
       "\n",
       "                                            description county state     lat  \\\n",
       "3995  Finance @ www.ElegantAutoSales.net Call ☏ 916−...    NaN    ca  38.615   \n",
       "3996  Finance @ www.ElegantAutoSales.net Call ☏ 916−...    NaN    ca  38.615   \n",
       "3997  Finance @ www.ElegantAutoSales.net Call ☏ 916−...    NaN    ca  38.615   \n",
       "3998  Finance @ www.ElegantAutoSales.net Call ☏ 916−...    NaN    ca  38.615   \n",
       "3999  Finance @ www.ElegantAutoSales.net Call ☏ 916−...    NaN    ca  38.615   \n",
       "\n",
       "         long  \n",
       "3995 -121.272  \n",
       "3996 -121.272  \n",
       "3997 -121.272  \n",
       "3998 -121.272  \n",
       "3999 -121.272  \n",
       "\n",
       "[5 rows x 25 columns]"
      ]
     },
     "execution_count": 4,
     "metadata": {},
     "output_type": "execute_result"
    }
   ],
   "source": [
    "data.tail()"
   ]
  },
  {
   "cell_type": "code",
   "execution_count": 5,
   "id": "384640c6",
   "metadata": {},
   "outputs": [
    {
     "data": {
      "text/html": [
       "<div>\n",
       "<style scoped>\n",
       "    .dataframe tbody tr th:only-of-type {\n",
       "        vertical-align: middle;\n",
       "    }\n",
       "\n",
       "    .dataframe tbody tr th {\n",
       "        vertical-align: top;\n",
       "    }\n",
       "\n",
       "    .dataframe thead th {\n",
       "        text-align: right;\n",
       "    }\n",
       "</style>\n",
       "<table border=\"1\" class=\"dataframe\">\n",
       "  <thead>\n",
       "    <tr style=\"text-align: right;\">\n",
       "      <th></th>\n",
       "      <th>id</th>\n",
       "      <th>url</th>\n",
       "      <th>region</th>\n",
       "      <th>region_url</th>\n",
       "      <th>price</th>\n",
       "      <th>year</th>\n",
       "      <th>manufacturer</th>\n",
       "      <th>model</th>\n",
       "      <th>condition</th>\n",
       "      <th>cylinders</th>\n",
       "      <th>...</th>\n",
       "      <th>drive</th>\n",
       "      <th>size</th>\n",
       "      <th>type</th>\n",
       "      <th>paint_color</th>\n",
       "      <th>image_url</th>\n",
       "      <th>description</th>\n",
       "      <th>county</th>\n",
       "      <th>state</th>\n",
       "      <th>lat</th>\n",
       "      <th>long</th>\n",
       "    </tr>\n",
       "  </thead>\n",
       "  <tbody>\n",
       "    <tr>\n",
       "      <th>3499</th>\n",
       "      <td>7191433781</td>\n",
       "      <td>https://reno.craigslist.org/ctd/d/sacramento-2...</td>\n",
       "      <td>reno / tahoe</td>\n",
       "      <td>https://reno.craigslist.org</td>\n",
       "      <td>39995</td>\n",
       "      <td>2014.0</td>\n",
       "      <td>toyota</td>\n",
       "      <td>tundra</td>\n",
       "      <td>excellent</td>\n",
       "      <td>NaN</td>\n",
       "      <td>...</td>\n",
       "      <td>4wd</td>\n",
       "      <td>NaN</td>\n",
       "      <td>pickup</td>\n",
       "      <td>white</td>\n",
       "      <td>https://images.craigslist.org/00b0b_c5FmchQtF7...</td>\n",
       "      <td>2014 *** Toyota Tundra Limited 4x4 4dr Double ...</td>\n",
       "      <td>NaN</td>\n",
       "      <td>ca</td>\n",
       "      <td>38.6242</td>\n",
       "      <td>-121.4010</td>\n",
       "    </tr>\n",
       "    <tr>\n",
       "      <th>524</th>\n",
       "      <td>7184277276</td>\n",
       "      <td>https://winchester.craigslist.org/ctd/d/fisher...</td>\n",
       "      <td>winchester</td>\n",
       "      <td>https://winchester.craigslist.org</td>\n",
       "      <td>3995</td>\n",
       "      <td>2000.0</td>\n",
       "      <td>infiniti</td>\n",
       "      <td>i30</td>\n",
       "      <td>excellent</td>\n",
       "      <td>6 cylinders</td>\n",
       "      <td>...</td>\n",
       "      <td>fwd</td>\n",
       "      <td>mid-size</td>\n",
       "      <td>sedan</td>\n",
       "      <td>green</td>\n",
       "      <td>https://images.craigslist.org/00404_909ABaJuly...</td>\n",
       "      <td>2000 Infiniti I30 Touring 4dr Sedan Sedan   EX...</td>\n",
       "      <td>NaN</td>\n",
       "      <td>va</td>\n",
       "      <td>38.9674</td>\n",
       "      <td>-78.4096</td>\n",
       "    </tr>\n",
       "    <tr>\n",
       "      <th>1342</th>\n",
       "      <td>7185557326</td>\n",
       "      <td>https://bellingham.craigslist.org/ctd/d/bellin...</td>\n",
       "      <td>bellingham</td>\n",
       "      <td>https://bellingham.craigslist.org</td>\n",
       "      <td>38500</td>\n",
       "      <td>2018.0</td>\n",
       "      <td>ford</td>\n",
       "      <td>f-150</td>\n",
       "      <td>NaN</td>\n",
       "      <td>6 cylinders</td>\n",
       "      <td>...</td>\n",
       "      <td>4wd</td>\n",
       "      <td>NaN</td>\n",
       "      <td>truck</td>\n",
       "      <td>NaN</td>\n",
       "      <td>https://images.craigslist.org/00f0f_2i1JYewwwQ...</td>\n",
       "      <td>2018 Ford F-150 XLT Truck         STOCK #:  F2...</td>\n",
       "      <td>NaN</td>\n",
       "      <td>wa</td>\n",
       "      <td>48.7550</td>\n",
       "      <td>-122.4660</td>\n",
       "    </tr>\n",
       "  </tbody>\n",
       "</table>\n",
       "<p>3 rows × 25 columns</p>\n",
       "</div>"
      ],
      "text/plain": [
       "              id                                                url  \\\n",
       "3499  7191433781  https://reno.craigslist.org/ctd/d/sacramento-2...   \n",
       "524   7184277276  https://winchester.craigslist.org/ctd/d/fisher...   \n",
       "1342  7185557326  https://bellingham.craigslist.org/ctd/d/bellin...   \n",
       "\n",
       "            region                         region_url  price    year  \\\n",
       "3499  reno / tahoe        https://reno.craigslist.org  39995  2014.0   \n",
       "524     winchester  https://winchester.craigslist.org   3995  2000.0   \n",
       "1342    bellingham  https://bellingham.craigslist.org  38500  2018.0   \n",
       "\n",
       "     manufacturer   model  condition    cylinders  ... drive      size  \\\n",
       "3499       toyota  tundra  excellent          NaN  ...   4wd       NaN   \n",
       "524      infiniti     i30  excellent  6 cylinders  ...   fwd  mid-size   \n",
       "1342         ford   f-150        NaN  6 cylinders  ...   4wd       NaN   \n",
       "\n",
       "        type paint_color                                          image_url  \\\n",
       "3499  pickup       white  https://images.craigslist.org/00b0b_c5FmchQtF7...   \n",
       "524    sedan       green  https://images.craigslist.org/00404_909ABaJuly...   \n",
       "1342   truck         NaN  https://images.craigslist.org/00f0f_2i1JYewwwQ...   \n",
       "\n",
       "                                            description county state      lat  \\\n",
       "3499  2014 *** Toyota Tundra Limited 4x4 4dr Double ...    NaN    ca  38.6242   \n",
       "524   2000 Infiniti I30 Touring 4dr Sedan Sedan   EX...    NaN    va  38.9674   \n",
       "1342  2018 Ford F-150 XLT Truck         STOCK #:  F2...    NaN    wa  48.7550   \n",
       "\n",
       "          long  \n",
       "3499 -121.4010  \n",
       "524   -78.4096  \n",
       "1342 -122.4660  \n",
       "\n",
       "[3 rows x 25 columns]"
      ]
     },
     "execution_count": 5,
     "metadata": {},
     "output_type": "execute_result"
    }
   ],
   "source": [
    "data.sample(3)"
   ]
  },
  {
   "cell_type": "code",
   "execution_count": 6,
   "id": "acd1ef39",
   "metadata": {},
   "outputs": [
    {
     "name": "stdout",
     "output_type": "stream",
     "text": [
      "<class 'pandas.core.frame.DataFrame'>\n",
      "Int64Index: 4000 entries, 0 to 3999\n",
      "Data columns (total 25 columns):\n",
      " #   Column        Non-Null Count  Dtype  \n",
      "---  ------        --------------  -----  \n",
      " 0   id            4000 non-null   int64  \n",
      " 1   url           4000 non-null   object \n",
      " 2   region        4000 non-null   object \n",
      " 3   region_url    4000 non-null   object \n",
      " 4   price         4000 non-null   int64  \n",
      " 5   year          3999 non-null   float64\n",
      " 6   manufacturer  3831 non-null   object \n",
      " 7   model         3946 non-null   object \n",
      " 8   condition     1995 non-null   object \n",
      " 9   cylinders     2331 non-null   object \n",
      " 10  fuel          3992 non-null   object \n",
      " 11  odometer      3385 non-null   float64\n",
      " 12  title_status  3990 non-null   object \n",
      " 13  transmission  3981 non-null   object \n",
      " 14  vin           2512 non-null   object \n",
      " 15  drive         2847 non-null   object \n",
      " 16  size          1052 non-null   object \n",
      " 17  type          3101 non-null   object \n",
      " 18  paint_color   2665 non-null   object \n",
      " 19  image_url     4000 non-null   object \n",
      " 20  description   4000 non-null   object \n",
      " 21  county        0 non-null      float64\n",
      " 22  state         4000 non-null   object \n",
      " 23  lat           3988 non-null   float64\n",
      " 24  long          3988 non-null   float64\n",
      "dtypes: float64(5), int64(2), object(18)\n",
      "memory usage: 812.5+ KB\n"
     ]
    }
   ],
   "source": [
    "data.info()"
   ]
  },
  {
   "cell_type": "code",
   "execution_count": 7,
   "id": "ffd8e580",
   "metadata": {},
   "outputs": [
    {
     "data": {
      "text/plain": [
       "id                 0\n",
       "url                0\n",
       "region             0\n",
       "region_url         0\n",
       "price              0\n",
       "year               1\n",
       "manufacturer     169\n",
       "model             54\n",
       "condition       2005\n",
       "cylinders       1669\n",
       "fuel               8\n",
       "odometer         615\n",
       "title_status      10\n",
       "transmission      19\n",
       "vin             1488\n",
       "drive           1153\n",
       "size            2948\n",
       "type             899\n",
       "paint_color     1335\n",
       "image_url          0\n",
       "description        0\n",
       "county          4000\n",
       "state              0\n",
       "lat               12\n",
       "long              12\n",
       "dtype: int64"
      ]
     },
     "execution_count": 7,
     "metadata": {},
     "output_type": "execute_result"
    }
   ],
   "source": [
    "data.isnull().sum()"
   ]
  },
  {
   "cell_type": "code",
   "execution_count": 8,
   "id": "6ea872e7",
   "metadata": {},
   "outputs": [
    {
     "data": {
      "text/html": [
       "<div>\n",
       "<style scoped>\n",
       "    .dataframe tbody tr th:only-of-type {\n",
       "        vertical-align: middle;\n",
       "    }\n",
       "\n",
       "    .dataframe tbody tr th {\n",
       "        vertical-align: top;\n",
       "    }\n",
       "\n",
       "    .dataframe thead th {\n",
       "        text-align: right;\n",
       "    }\n",
       "</style>\n",
       "<table border=\"1\" class=\"dataframe\">\n",
       "  <thead>\n",
       "    <tr style=\"text-align: right;\">\n",
       "      <th></th>\n",
       "      <th>id</th>\n",
       "      <th>price</th>\n",
       "      <th>year</th>\n",
       "      <th>odometer</th>\n",
       "      <th>county</th>\n",
       "      <th>lat</th>\n",
       "      <th>long</th>\n",
       "    </tr>\n",
       "  </thead>\n",
       "  <tbody>\n",
       "    <tr>\n",
       "      <th>count</th>\n",
       "      <td>4.000000e+03</td>\n",
       "      <td>4.000000e+03</td>\n",
       "      <td>3999.000000</td>\n",
       "      <td>3.385000e+03</td>\n",
       "      <td>0.0</td>\n",
       "      <td>3988.000000</td>\n",
       "      <td>3988.000000</td>\n",
       "    </tr>\n",
       "    <tr>\n",
       "      <th>mean</th>\n",
       "      <td>7.188352e+09</td>\n",
       "      <td>2.001030e+04</td>\n",
       "      <td>2010.144536</td>\n",
       "      <td>8.985422e+04</td>\n",
       "      <td>NaN</td>\n",
       "      <td>40.568278</td>\n",
       "      <td>-106.995927</td>\n",
       "    </tr>\n",
       "    <tr>\n",
       "      <th>std</th>\n",
       "      <td>4.098174e+06</td>\n",
       "      <td>1.604683e+05</td>\n",
       "      <td>10.578448</td>\n",
       "      <td>8.748926e+04</td>\n",
       "      <td>NaN</td>\n",
       "      <td>6.959093</td>\n",
       "      <td>15.982171</td>\n",
       "    </tr>\n",
       "    <tr>\n",
       "      <th>min</th>\n",
       "      <td>7.179432e+09</td>\n",
       "      <td>0.000000e+00</td>\n",
       "      <td>1900.000000</td>\n",
       "      <td>0.000000e+00</td>\n",
       "      <td>NaN</td>\n",
       "      <td>7.815840</td>\n",
       "      <td>-123.823000</td>\n",
       "    </tr>\n",
       "    <tr>\n",
       "      <th>25%</th>\n",
       "      <td>7.185234e+09</td>\n",
       "      <td>5.990000e+03</td>\n",
       "      <td>2007.000000</td>\n",
       "      <td>3.611100e+04</td>\n",
       "      <td>NaN</td>\n",
       "      <td>35.088000</td>\n",
       "      <td>-119.824000</td>\n",
       "    </tr>\n",
       "    <tr>\n",
       "      <th>50%</th>\n",
       "      <td>7.187247e+09</td>\n",
       "      <td>1.250000e+04</td>\n",
       "      <td>2013.000000</td>\n",
       "      <td>7.900000e+04</td>\n",
       "      <td>NaN</td>\n",
       "      <td>39.772150</td>\n",
       "      <td>-116.359000</td>\n",
       "    </tr>\n",
       "    <tr>\n",
       "      <th>75%</th>\n",
       "      <td>7.191358e+09</td>\n",
       "      <td>2.299900e+04</td>\n",
       "      <td>2017.000000</td>\n",
       "      <td>1.286470e+05</td>\n",
       "      <td>NaN</td>\n",
       "      <td>46.384400</td>\n",
       "      <td>-95.124700</td>\n",
       "    </tr>\n",
       "    <tr>\n",
       "      <th>max</th>\n",
       "      <td>7.195198e+09</td>\n",
       "      <td>9.999999e+06</td>\n",
       "      <td>2020.000000</td>\n",
       "      <td>2.564237e+06</td>\n",
       "      <td>NaN</td>\n",
       "      <td>48.970600</td>\n",
       "      <td>-71.977400</td>\n",
       "    </tr>\n",
       "  </tbody>\n",
       "</table>\n",
       "</div>"
      ],
      "text/plain": [
       "                 id         price         year      odometer  county  \\\n",
       "count  4.000000e+03  4.000000e+03  3999.000000  3.385000e+03     0.0   \n",
       "mean   7.188352e+09  2.001030e+04  2010.144536  8.985422e+04     NaN   \n",
       "std    4.098174e+06  1.604683e+05    10.578448  8.748926e+04     NaN   \n",
       "min    7.179432e+09  0.000000e+00  1900.000000  0.000000e+00     NaN   \n",
       "25%    7.185234e+09  5.990000e+03  2007.000000  3.611100e+04     NaN   \n",
       "50%    7.187247e+09  1.250000e+04  2013.000000  7.900000e+04     NaN   \n",
       "75%    7.191358e+09  2.299900e+04  2017.000000  1.286470e+05     NaN   \n",
       "max    7.195198e+09  9.999999e+06  2020.000000  2.564237e+06     NaN   \n",
       "\n",
       "               lat         long  \n",
       "count  3988.000000  3988.000000  \n",
       "mean     40.568278  -106.995927  \n",
       "std       6.959093    15.982171  \n",
       "min       7.815840  -123.823000  \n",
       "25%      35.088000  -119.824000  \n",
       "50%      39.772150  -116.359000  \n",
       "75%      46.384400   -95.124700  \n",
       "max      48.970600   -71.977400  "
      ]
     },
     "execution_count": 8,
     "metadata": {},
     "output_type": "execute_result"
    }
   ],
   "source": [
    "data.describe()"
   ]
  },
  {
   "cell_type": "code",
   "execution_count": 9,
   "id": "9733a523",
   "metadata": {},
   "outputs": [
    {
     "data": {
      "text/html": [
       "<div>\n",
       "<style scoped>\n",
       "    .dataframe tbody tr th:only-of-type {\n",
       "        vertical-align: middle;\n",
       "    }\n",
       "\n",
       "    .dataframe tbody tr th {\n",
       "        vertical-align: top;\n",
       "    }\n",
       "\n",
       "    .dataframe thead th {\n",
       "        text-align: right;\n",
       "    }\n",
       "</style>\n",
       "<table border=\"1\" class=\"dataframe\">\n",
       "  <thead>\n",
       "    <tr style=\"text-align: right;\">\n",
       "      <th></th>\n",
       "      <th>id</th>\n",
       "      <th>url</th>\n",
       "      <th>region</th>\n",
       "      <th>region_url</th>\n",
       "      <th>price</th>\n",
       "      <th>year</th>\n",
       "      <th>manufacturer</th>\n",
       "      <th>model</th>\n",
       "      <th>condition</th>\n",
       "      <th>cylinders</th>\n",
       "      <th>...</th>\n",
       "      <th>drive</th>\n",
       "      <th>size</th>\n",
       "      <th>type</th>\n",
       "      <th>paint_color</th>\n",
       "      <th>image_url</th>\n",
       "      <th>description</th>\n",
       "      <th>county</th>\n",
       "      <th>state</th>\n",
       "      <th>lat</th>\n",
       "      <th>long</th>\n",
       "    </tr>\n",
       "  </thead>\n",
       "  <tbody>\n",
       "    <tr>\n",
       "      <th>count</th>\n",
       "      <td>4.000000e+03</td>\n",
       "      <td>4000</td>\n",
       "      <td>4000</td>\n",
       "      <td>4000</td>\n",
       "      <td>4.000000e+03</td>\n",
       "      <td>3999.000000</td>\n",
       "      <td>3831</td>\n",
       "      <td>3946</td>\n",
       "      <td>1995</td>\n",
       "      <td>2331</td>\n",
       "      <td>...</td>\n",
       "      <td>2847</td>\n",
       "      <td>1052</td>\n",
       "      <td>3101</td>\n",
       "      <td>2665</td>\n",
       "      <td>4000</td>\n",
       "      <td>4000</td>\n",
       "      <td>0.0</td>\n",
       "      <td>4000</td>\n",
       "      <td>3988.000000</td>\n",
       "      <td>3988.000000</td>\n",
       "    </tr>\n",
       "    <tr>\n",
       "      <th>unique</th>\n",
       "      <td>NaN</td>\n",
       "      <td>4000</td>\n",
       "      <td>25</td>\n",
       "      <td>26</td>\n",
       "      <td>NaN</td>\n",
       "      <td>NaN</td>\n",
       "      <td>35</td>\n",
       "      <td>1774</td>\n",
       "      <td>6</td>\n",
       "      <td>8</td>\n",
       "      <td>...</td>\n",
       "      <td>3</td>\n",
       "      <td>4</td>\n",
       "      <td>13</td>\n",
       "      <td>12</td>\n",
       "      <td>3762</td>\n",
       "      <td>3852</td>\n",
       "      <td>NaN</td>\n",
       "      <td>12</td>\n",
       "      <td>NaN</td>\n",
       "      <td>NaN</td>\n",
       "    </tr>\n",
       "    <tr>\n",
       "      <th>top</th>\n",
       "      <td>NaN</td>\n",
       "      <td>https://duluth.craigslist.org/ctd/d/duluth-200...</td>\n",
       "      <td>kennewick-pasco-richland</td>\n",
       "      <td>https://kpr.craigslist.org</td>\n",
       "      <td>NaN</td>\n",
       "      <td>NaN</td>\n",
       "      <td>ford</td>\n",
       "      <td>f-150</td>\n",
       "      <td>excellent</td>\n",
       "      <td>4 cylinders</td>\n",
       "      <td>...</td>\n",
       "      <td>4wd</td>\n",
       "      <td>full-size</td>\n",
       "      <td>SUV</td>\n",
       "      <td>white</td>\n",
       "      <td>https://images.craigslist.org/00X0X_6D1pEb70p5...</td>\n",
       "      <td>Biggest Public Auction in Southern Cali   Suba...</td>\n",
       "      <td>NaN</td>\n",
       "      <td>wa</td>\n",
       "      <td>NaN</td>\n",
       "      <td>NaN</td>\n",
       "    </tr>\n",
       "    <tr>\n",
       "      <th>freq</th>\n",
       "      <td>NaN</td>\n",
       "      <td>1</td>\n",
       "      <td>668</td>\n",
       "      <td>668</td>\n",
       "      <td>NaN</td>\n",
       "      <td>NaN</td>\n",
       "      <td>751</td>\n",
       "      <td>85</td>\n",
       "      <td>988</td>\n",
       "      <td>919</td>\n",
       "      <td>...</td>\n",
       "      <td>1477</td>\n",
       "      <td>506</td>\n",
       "      <td>875</td>\n",
       "      <td>747</td>\n",
       "      <td>4</td>\n",
       "      <td>4</td>\n",
       "      <td>NaN</td>\n",
       "      <td>1269</td>\n",
       "      <td>NaN</td>\n",
       "      <td>NaN</td>\n",
       "    </tr>\n",
       "    <tr>\n",
       "      <th>mean</th>\n",
       "      <td>7.188352e+09</td>\n",
       "      <td>NaN</td>\n",
       "      <td>NaN</td>\n",
       "      <td>NaN</td>\n",
       "      <td>2.001030e+04</td>\n",
       "      <td>2010.144536</td>\n",
       "      <td>NaN</td>\n",
       "      <td>NaN</td>\n",
       "      <td>NaN</td>\n",
       "      <td>NaN</td>\n",
       "      <td>...</td>\n",
       "      <td>NaN</td>\n",
       "      <td>NaN</td>\n",
       "      <td>NaN</td>\n",
       "      <td>NaN</td>\n",
       "      <td>NaN</td>\n",
       "      <td>NaN</td>\n",
       "      <td>NaN</td>\n",
       "      <td>NaN</td>\n",
       "      <td>40.568278</td>\n",
       "      <td>-106.995927</td>\n",
       "    </tr>\n",
       "    <tr>\n",
       "      <th>std</th>\n",
       "      <td>4.098174e+06</td>\n",
       "      <td>NaN</td>\n",
       "      <td>NaN</td>\n",
       "      <td>NaN</td>\n",
       "      <td>1.604683e+05</td>\n",
       "      <td>10.578448</td>\n",
       "      <td>NaN</td>\n",
       "      <td>NaN</td>\n",
       "      <td>NaN</td>\n",
       "      <td>NaN</td>\n",
       "      <td>...</td>\n",
       "      <td>NaN</td>\n",
       "      <td>NaN</td>\n",
       "      <td>NaN</td>\n",
       "      <td>NaN</td>\n",
       "      <td>NaN</td>\n",
       "      <td>NaN</td>\n",
       "      <td>NaN</td>\n",
       "      <td>NaN</td>\n",
       "      <td>6.959093</td>\n",
       "      <td>15.982171</td>\n",
       "    </tr>\n",
       "    <tr>\n",
       "      <th>min</th>\n",
       "      <td>7.179432e+09</td>\n",
       "      <td>NaN</td>\n",
       "      <td>NaN</td>\n",
       "      <td>NaN</td>\n",
       "      <td>0.000000e+00</td>\n",
       "      <td>1900.000000</td>\n",
       "      <td>NaN</td>\n",
       "      <td>NaN</td>\n",
       "      <td>NaN</td>\n",
       "      <td>NaN</td>\n",
       "      <td>...</td>\n",
       "      <td>NaN</td>\n",
       "      <td>NaN</td>\n",
       "      <td>NaN</td>\n",
       "      <td>NaN</td>\n",
       "      <td>NaN</td>\n",
       "      <td>NaN</td>\n",
       "      <td>NaN</td>\n",
       "      <td>NaN</td>\n",
       "      <td>7.815840</td>\n",
       "      <td>-123.823000</td>\n",
       "    </tr>\n",
       "    <tr>\n",
       "      <th>25%</th>\n",
       "      <td>7.185234e+09</td>\n",
       "      <td>NaN</td>\n",
       "      <td>NaN</td>\n",
       "      <td>NaN</td>\n",
       "      <td>5.990000e+03</td>\n",
       "      <td>2007.000000</td>\n",
       "      <td>NaN</td>\n",
       "      <td>NaN</td>\n",
       "      <td>NaN</td>\n",
       "      <td>NaN</td>\n",
       "      <td>...</td>\n",
       "      <td>NaN</td>\n",
       "      <td>NaN</td>\n",
       "      <td>NaN</td>\n",
       "      <td>NaN</td>\n",
       "      <td>NaN</td>\n",
       "      <td>NaN</td>\n",
       "      <td>NaN</td>\n",
       "      <td>NaN</td>\n",
       "      <td>35.088000</td>\n",
       "      <td>-119.824000</td>\n",
       "    </tr>\n",
       "    <tr>\n",
       "      <th>50%</th>\n",
       "      <td>7.187247e+09</td>\n",
       "      <td>NaN</td>\n",
       "      <td>NaN</td>\n",
       "      <td>NaN</td>\n",
       "      <td>1.250000e+04</td>\n",
       "      <td>2013.000000</td>\n",
       "      <td>NaN</td>\n",
       "      <td>NaN</td>\n",
       "      <td>NaN</td>\n",
       "      <td>NaN</td>\n",
       "      <td>...</td>\n",
       "      <td>NaN</td>\n",
       "      <td>NaN</td>\n",
       "      <td>NaN</td>\n",
       "      <td>NaN</td>\n",
       "      <td>NaN</td>\n",
       "      <td>NaN</td>\n",
       "      <td>NaN</td>\n",
       "      <td>NaN</td>\n",
       "      <td>39.772150</td>\n",
       "      <td>-116.359000</td>\n",
       "    </tr>\n",
       "    <tr>\n",
       "      <th>75%</th>\n",
       "      <td>7.191358e+09</td>\n",
       "      <td>NaN</td>\n",
       "      <td>NaN</td>\n",
       "      <td>NaN</td>\n",
       "      <td>2.299900e+04</td>\n",
       "      <td>2017.000000</td>\n",
       "      <td>NaN</td>\n",
       "      <td>NaN</td>\n",
       "      <td>NaN</td>\n",
       "      <td>NaN</td>\n",
       "      <td>...</td>\n",
       "      <td>NaN</td>\n",
       "      <td>NaN</td>\n",
       "      <td>NaN</td>\n",
       "      <td>NaN</td>\n",
       "      <td>NaN</td>\n",
       "      <td>NaN</td>\n",
       "      <td>NaN</td>\n",
       "      <td>NaN</td>\n",
       "      <td>46.384400</td>\n",
       "      <td>-95.124700</td>\n",
       "    </tr>\n",
       "    <tr>\n",
       "      <th>max</th>\n",
       "      <td>7.195198e+09</td>\n",
       "      <td>NaN</td>\n",
       "      <td>NaN</td>\n",
       "      <td>NaN</td>\n",
       "      <td>9.999999e+06</td>\n",
       "      <td>2020.000000</td>\n",
       "      <td>NaN</td>\n",
       "      <td>NaN</td>\n",
       "      <td>NaN</td>\n",
       "      <td>NaN</td>\n",
       "      <td>...</td>\n",
       "      <td>NaN</td>\n",
       "      <td>NaN</td>\n",
       "      <td>NaN</td>\n",
       "      <td>NaN</td>\n",
       "      <td>NaN</td>\n",
       "      <td>NaN</td>\n",
       "      <td>NaN</td>\n",
       "      <td>NaN</td>\n",
       "      <td>48.970600</td>\n",
       "      <td>-71.977400</td>\n",
       "    </tr>\n",
       "  </tbody>\n",
       "</table>\n",
       "<p>11 rows × 25 columns</p>\n",
       "</div>"
      ],
      "text/plain": [
       "                  id                                                url  \\\n",
       "count   4.000000e+03                                               4000   \n",
       "unique           NaN                                               4000   \n",
       "top              NaN  https://duluth.craigslist.org/ctd/d/duluth-200...   \n",
       "freq             NaN                                                  1   \n",
       "mean    7.188352e+09                                                NaN   \n",
       "std     4.098174e+06                                                NaN   \n",
       "min     7.179432e+09                                                NaN   \n",
       "25%     7.185234e+09                                                NaN   \n",
       "50%     7.187247e+09                                                NaN   \n",
       "75%     7.191358e+09                                                NaN   \n",
       "max     7.195198e+09                                                NaN   \n",
       "\n",
       "                          region                  region_url         price  \\\n",
       "count                       4000                        4000  4.000000e+03   \n",
       "unique                        25                          26           NaN   \n",
       "top     kennewick-pasco-richland  https://kpr.craigslist.org           NaN   \n",
       "freq                         668                         668           NaN   \n",
       "mean                         NaN                         NaN  2.001030e+04   \n",
       "std                          NaN                         NaN  1.604683e+05   \n",
       "min                          NaN                         NaN  0.000000e+00   \n",
       "25%                          NaN                         NaN  5.990000e+03   \n",
       "50%                          NaN                         NaN  1.250000e+04   \n",
       "75%                          NaN                         NaN  2.299900e+04   \n",
       "max                          NaN                         NaN  9.999999e+06   \n",
       "\n",
       "               year manufacturer  model  condition    cylinders  ... drive  \\\n",
       "count   3999.000000         3831   3946       1995         2331  ...  2847   \n",
       "unique          NaN           35   1774          6            8  ...     3   \n",
       "top             NaN         ford  f-150  excellent  4 cylinders  ...   4wd   \n",
       "freq            NaN          751     85        988          919  ...  1477   \n",
       "mean    2010.144536          NaN    NaN        NaN          NaN  ...   NaN   \n",
       "std       10.578448          NaN    NaN        NaN          NaN  ...   NaN   \n",
       "min     1900.000000          NaN    NaN        NaN          NaN  ...   NaN   \n",
       "25%     2007.000000          NaN    NaN        NaN          NaN  ...   NaN   \n",
       "50%     2013.000000          NaN    NaN        NaN          NaN  ...   NaN   \n",
       "75%     2017.000000          NaN    NaN        NaN          NaN  ...   NaN   \n",
       "max     2020.000000          NaN    NaN        NaN          NaN  ...   NaN   \n",
       "\n",
       "             size  type paint_color  \\\n",
       "count        1052  3101        2665   \n",
       "unique          4    13          12   \n",
       "top     full-size   SUV       white   \n",
       "freq          506   875         747   \n",
       "mean          NaN   NaN         NaN   \n",
       "std           NaN   NaN         NaN   \n",
       "min           NaN   NaN         NaN   \n",
       "25%           NaN   NaN         NaN   \n",
       "50%           NaN   NaN         NaN   \n",
       "75%           NaN   NaN         NaN   \n",
       "max           NaN   NaN         NaN   \n",
       "\n",
       "                                                image_url  \\\n",
       "count                                                4000   \n",
       "unique                                               3762   \n",
       "top     https://images.craigslist.org/00X0X_6D1pEb70p5...   \n",
       "freq                                                    4   \n",
       "mean                                                  NaN   \n",
       "std                                                   NaN   \n",
       "min                                                   NaN   \n",
       "25%                                                   NaN   \n",
       "50%                                                   NaN   \n",
       "75%                                                   NaN   \n",
       "max                                                   NaN   \n",
       "\n",
       "                                              description county state  \\\n",
       "count                                                4000    0.0  4000   \n",
       "unique                                               3852    NaN    12   \n",
       "top     Biggest Public Auction in Southern Cali   Suba...    NaN    wa   \n",
       "freq                                                    4    NaN  1269   \n",
       "mean                                                  NaN    NaN   NaN   \n",
       "std                                                   NaN    NaN   NaN   \n",
       "min                                                   NaN    NaN   NaN   \n",
       "25%                                                   NaN    NaN   NaN   \n",
       "50%                                                   NaN    NaN   NaN   \n",
       "75%                                                   NaN    NaN   NaN   \n",
       "max                                                   NaN    NaN   NaN   \n",
       "\n",
       "                lat         long  \n",
       "count   3988.000000  3988.000000  \n",
       "unique          NaN          NaN  \n",
       "top             NaN          NaN  \n",
       "freq            NaN          NaN  \n",
       "mean      40.568278  -106.995927  \n",
       "std        6.959093    15.982171  \n",
       "min        7.815840  -123.823000  \n",
       "25%       35.088000  -119.824000  \n",
       "50%       39.772150  -116.359000  \n",
       "75%       46.384400   -95.124700  \n",
       "max       48.970600   -71.977400  \n",
       "\n",
       "[11 rows x 25 columns]"
      ]
     },
     "execution_count": 9,
     "metadata": {},
     "output_type": "execute_result"
    }
   ],
   "source": [
    "data.describe(include='all') # include 为 object 时指定非数值型数据"
   ]
  },
  {
   "cell_type": "code",
   "execution_count": 10,
   "id": "c36eceab",
   "metadata": {},
   "outputs": [],
   "source": [
    "data1 = data.dropna(axis=1,thresh=int(len(data))*0.8)"
   ]
  },
  {
   "cell_type": "code",
   "execution_count": 11,
   "id": "d38cdb82",
   "metadata": {},
   "outputs": [
    {
     "name": "stdout",
     "output_type": "stream",
     "text": [
      "<class 'pandas.core.frame.DataFrame'>\n",
      "Int64Index: 4000 entries, 0 to 3999\n",
      "Data columns (total 17 columns):\n",
      " #   Column        Non-Null Count  Dtype  \n",
      "---  ------        --------------  -----  \n",
      " 0   id            4000 non-null   int64  \n",
      " 1   url           4000 non-null   object \n",
      " 2   region        4000 non-null   object \n",
      " 3   region_url    4000 non-null   object \n",
      " 4   price         4000 non-null   int64  \n",
      " 5   year          3999 non-null   float64\n",
      " 6   manufacturer  3831 non-null   object \n",
      " 7   model         3946 non-null   object \n",
      " 8   fuel          3992 non-null   object \n",
      " 9   odometer      3385 non-null   float64\n",
      " 10  title_status  3990 non-null   object \n",
      " 11  transmission  3981 non-null   object \n",
      " 12  image_url     4000 non-null   object \n",
      " 13  description   4000 non-null   object \n",
      " 14  state         4000 non-null   object \n",
      " 15  lat           3988 non-null   float64\n",
      " 16  long          3988 non-null   float64\n",
      "dtypes: float64(4), int64(2), object(11)\n",
      "memory usage: 562.5+ KB\n"
     ]
    }
   ],
   "source": [
    "data1.info()"
   ]
  },
  {
   "cell_type": "code",
   "execution_count": 12,
   "id": "5999d7be",
   "metadata": {},
   "outputs": [],
   "source": [
    "data2 = data1.dropna()"
   ]
  },
  {
   "cell_type": "code",
   "execution_count": 13,
   "id": "a3ae8f90",
   "metadata": {},
   "outputs": [
    {
     "name": "stdout",
     "output_type": "stream",
     "text": [
      "<class 'pandas.core.frame.DataFrame'>\n",
      "Int64Index: 3225 entries, 0 to 3999\n",
      "Data columns (total 17 columns):\n",
      " #   Column        Non-Null Count  Dtype  \n",
      "---  ------        --------------  -----  \n",
      " 0   id            3225 non-null   int64  \n",
      " 1   url           3225 non-null   object \n",
      " 2   region        3225 non-null   object \n",
      " 3   region_url    3225 non-null   object \n",
      " 4   price         3225 non-null   int64  \n",
      " 5   year          3225 non-null   float64\n",
      " 6   manufacturer  3225 non-null   object \n",
      " 7   model         3225 non-null   object \n",
      " 8   fuel          3225 non-null   object \n",
      " 9   odometer      3225 non-null   float64\n",
      " 10  title_status  3225 non-null   object \n",
      " 11  transmission  3225 non-null   object \n",
      " 12  image_url     3225 non-null   object \n",
      " 13  description   3225 non-null   object \n",
      " 14  state         3225 non-null   object \n",
      " 15  lat           3225 non-null   float64\n",
      " 16  long          3225 non-null   float64\n",
      "dtypes: float64(4), int64(2), object(11)\n",
      "memory usage: 453.5+ KB\n"
     ]
    }
   ],
   "source": [
    "data2.info()"
   ]
  },
  {
   "cell_type": "markdown",
   "id": "ee32e08f",
   "metadata": {},
   "source": [
    "# 二、缺失值处理"
   ]
  },
  {
   "cell_type": "code",
   "execution_count": 15,
   "id": "28aa7568",
   "metadata": {},
   "outputs": [],
   "source": [
    "data11=data.drop(columns=['id','url','region_url','image_url','description','lat','long'])"
   ]
  },
  {
   "cell_type": "code",
   "execution_count": 16,
   "id": "25776185",
   "metadata": {},
   "outputs": [],
   "source": [
    "data12=data11.dropna(axis=1,thresh=int(len(data)*0.8))"
   ]
  },
  {
   "cell_type": "code",
   "execution_count": 17,
   "id": "2e07b15f",
   "metadata": {},
   "outputs": [
    {
     "name": "stdout",
     "output_type": "stream",
     "text": [
      "<class 'pandas.core.frame.DataFrame'>\n",
      "Int64Index: 4000 entries, 0 to 3999\n",
      "Data columns (total 10 columns):\n",
      " #   Column        Non-Null Count  Dtype  \n",
      "---  ------        --------------  -----  \n",
      " 0   region        4000 non-null   object \n",
      " 1   price         4000 non-null   int64  \n",
      " 2   year          3999 non-null   float64\n",
      " 3   manufacturer  3831 non-null   object \n",
      " 4   model         3946 non-null   object \n",
      " 5   fuel          3992 non-null   object \n",
      " 6   odometer      3385 non-null   float64\n",
      " 7   title_status  3990 non-null   object \n",
      " 8   transmission  3981 non-null   object \n",
      " 9   state         4000 non-null   object \n",
      "dtypes: float64(2), int64(1), object(7)\n",
      "memory usage: 343.8+ KB\n"
     ]
    }
   ],
   "source": [
    "data12.info()"
   ]
  },
  {
   "cell_type": "code",
   "execution_count": 18,
   "id": "ef4d5701",
   "metadata": {},
   "outputs": [],
   "source": [
    "data13 = data12.dropna()"
   ]
  },
  {
   "cell_type": "code",
   "execution_count": 19,
   "id": "22387dae",
   "metadata": {},
   "outputs": [
    {
     "name": "stdout",
     "output_type": "stream",
     "text": [
      "<class 'pandas.core.frame.DataFrame'>\n",
      "Int64Index: 3234 entries, 0 to 3999\n",
      "Data columns (total 10 columns):\n",
      " #   Column        Non-Null Count  Dtype  \n",
      "---  ------        --------------  -----  \n",
      " 0   region        3234 non-null   object \n",
      " 1   price         3234 non-null   int64  \n",
      " 2   year          3234 non-null   float64\n",
      " 3   manufacturer  3234 non-null   object \n",
      " 4   model         3234 non-null   object \n",
      " 5   fuel          3234 non-null   object \n",
      " 6   odometer      3234 non-null   float64\n",
      " 7   title_status  3234 non-null   object \n",
      " 8   transmission  3234 non-null   object \n",
      " 9   state         3234 non-null   object \n",
      "dtypes: float64(2), int64(1), object(7)\n",
      "memory usage: 277.9+ KB\n"
     ]
    }
   ],
   "source": [
    "data13.info()"
   ]
  },
  {
   "cell_type": "markdown",
   "id": "0d27dd5a",
   "metadata": {},
   "source": [
    "**<font size='4'>2.1 SimpleImputer填充</font>**<br>"
   ]
  },
  {
   "cell_type": "code",
   "execution_count": 20,
   "id": "18b5799a",
   "metadata": {},
   "outputs": [],
   "source": [
    "data21 = data12.copy()"
   ]
  },
  {
   "cell_type": "code",
   "execution_count": 21,
   "id": "3398581b",
   "metadata": {},
   "outputs": [
    {
     "name": "stdout",
     "output_type": "stream",
     "text": [
      "<class 'pandas.core.frame.DataFrame'>\n",
      "Int64Index: 4000 entries, 0 to 3999\n",
      "Data columns (total 10 columns):\n",
      " #   Column        Non-Null Count  Dtype  \n",
      "---  ------        --------------  -----  \n",
      " 0   region        4000 non-null   object \n",
      " 1   price         4000 non-null   int64  \n",
      " 2   year          3999 non-null   float64\n",
      " 3   manufacturer  3831 non-null   object \n",
      " 4   model         3946 non-null   object \n",
      " 5   fuel          3992 non-null   object \n",
      " 6   odometer      3385 non-null   float64\n",
      " 7   title_status  3990 non-null   object \n",
      " 8   transmission  3981 non-null   object \n",
      " 9   state         4000 non-null   object \n",
      "dtypes: float64(2), int64(1), object(7)\n",
      "memory usage: 343.8+ KB\n"
     ]
    }
   ],
   "source": [
    "data21.info()"
   ]
  },
  {
   "cell_type": "code",
   "execution_count": 22,
   "id": "0899c137",
   "metadata": {},
   "outputs": [],
   "source": [
    "imp_mean = SimpleImputer(missing_values=np.nan,strategy='mean')\n",
    "imp_mean.fit(data21[[\"odometer\",\"year\"]])\n",
    "data21[[\"odometer\",\"year\"]]=imp_mean.transform(data21[[\"odometer\",\"year\"]])"
   ]
  },
  {
   "cell_type": "code",
   "execution_count": 23,
   "id": "e591721b",
   "metadata": {},
   "outputs": [],
   "source": [
    "imp_mode=SimpleImputer(missing_values=np.nan,strategy=\"most_frequent\")\n",
    "data21[[\"manufacturer\",\"model\",\"fuel\",\"title_status\",\"transmission\"]]=\\\n",
    "imp_mode.fit_transform(data21[[\"manufacturer\",\"model\",\"fuel\",\"title_status\",\"transmission\"]])"
   ]
  },
  {
   "cell_type": "code",
   "execution_count": 24,
   "id": "4acdfe91",
   "metadata": {},
   "outputs": [
    {
     "name": "stdout",
     "output_type": "stream",
     "text": [
      "<class 'pandas.core.frame.DataFrame'>\n",
      "Int64Index: 4000 entries, 0 to 3999\n",
      "Data columns (total 10 columns):\n",
      " #   Column        Non-Null Count  Dtype  \n",
      "---  ------        --------------  -----  \n",
      " 0   region        4000 non-null   object \n",
      " 1   price         4000 non-null   int64  \n",
      " 2   year          4000 non-null   float64\n",
      " 3   manufacturer  4000 non-null   object \n",
      " 4   model         4000 non-null   object \n",
      " 5   fuel          4000 non-null   object \n",
      " 6   odometer      4000 non-null   float64\n",
      " 7   title_status  4000 non-null   object \n",
      " 8   transmission  4000 non-null   object \n",
      " 9   state         4000 non-null   object \n",
      "dtypes: float64(2), int64(1), object(7)\n",
      "memory usage: 343.8+ KB\n"
     ]
    }
   ],
   "source": [
    "data21.info()"
   ]
  },
  {
   "cell_type": "markdown",
   "id": "11332e1c",
   "metadata": {},
   "source": [
    "**<font size='4'>2.2 fillna填充</font>**<br>"
   ]
  },
  {
   "cell_type": "code",
   "execution_count": 25,
   "id": "1facb781",
   "metadata": {},
   "outputs": [],
   "source": [
    "data22=data.dropna(axis=1,thresh=int(len(data)*.8))"
   ]
  },
  {
   "cell_type": "code",
   "execution_count": 26,
   "id": "d9207cab",
   "metadata": {},
   "outputs": [
    {
     "name": "stdout",
     "output_type": "stream",
     "text": [
      "<class 'pandas.core.frame.DataFrame'>\n",
      "Int64Index: 4000 entries, 0 to 3999\n",
      "Data columns (total 17 columns):\n",
      " #   Column        Non-Null Count  Dtype  \n",
      "---  ------        --------------  -----  \n",
      " 0   id            4000 non-null   int64  \n",
      " 1   url           4000 non-null   object \n",
      " 2   region        4000 non-null   object \n",
      " 3   region_url    4000 non-null   object \n",
      " 4   price         4000 non-null   int64  \n",
      " 5   year          3999 non-null   float64\n",
      " 6   manufacturer  3831 non-null   object \n",
      " 7   model         3946 non-null   object \n",
      " 8   fuel          3992 non-null   object \n",
      " 9   odometer      3385 non-null   float64\n",
      " 10  title_status  3990 non-null   object \n",
      " 11  transmission  3981 non-null   object \n",
      " 12  image_url     4000 non-null   object \n",
      " 13  description   4000 non-null   object \n",
      " 14  state         4000 non-null   object \n",
      " 15  lat           3988 non-null   float64\n",
      " 16  long          3988 non-null   float64\n",
      "dtypes: float64(4), int64(2), object(11)\n",
      "memory usage: 562.5+ KB\n"
     ]
    }
   ],
   "source": [
    "data22.info()"
   ]
  },
  {
   "cell_type": "code",
   "execution_count": 27,
   "id": "ff58c2d9",
   "metadata": {},
   "outputs": [],
   "source": [
    "for i in data22.columns:\n",
    "    data22[[i]]=data22[[i]].fillna(method=\"ffill\")"
   ]
  },
  {
   "cell_type": "code",
   "execution_count": 28,
   "id": "33fd671a",
   "metadata": {},
   "outputs": [
    {
     "name": "stdout",
     "output_type": "stream",
     "text": [
      "<class 'pandas.core.frame.DataFrame'>\n",
      "Int64Index: 4000 entries, 0 to 3999\n",
      "Data columns (total 17 columns):\n",
      " #   Column        Non-Null Count  Dtype  \n",
      "---  ------        --------------  -----  \n",
      " 0   id            4000 non-null   int64  \n",
      " 1   url           4000 non-null   object \n",
      " 2   region        4000 non-null   object \n",
      " 3   region_url    4000 non-null   object \n",
      " 4   price         4000 non-null   int64  \n",
      " 5   year          4000 non-null   float64\n",
      " 6   manufacturer  4000 non-null   object \n",
      " 7   model         4000 non-null   object \n",
      " 8   fuel          4000 non-null   object \n",
      " 9   odometer      4000 non-null   float64\n",
      " 10  title_status  4000 non-null   object \n",
      " 11  transmission  4000 non-null   object \n",
      " 12  image_url     4000 non-null   object \n",
      " 13  description   4000 non-null   object \n",
      " 14  state         4000 non-null   object \n",
      " 15  lat           4000 non-null   float64\n",
      " 16  long          4000 non-null   float64\n",
      "dtypes: float64(4), int64(2), object(11)\n",
      "memory usage: 562.5+ KB\n"
     ]
    }
   ],
   "source": [
    "data22.info()"
   ]
  },
  {
   "cell_type": "markdown",
   "id": "0a8249c9",
   "metadata": {},
   "source": [
    "# 三、特征编码"
   ]
  },
  {
   "cell_type": "markdown",
   "id": "64fcff66",
   "metadata": {},
   "source": [
    "**<font size='4'>3.1 Label编码</font>**<br>"
   ]
  },
  {
   "cell_type": "code",
   "execution_count": 29,
   "id": "c50fd341",
   "metadata": {},
   "outputs": [],
   "source": [
    "data31 = data21.copy()"
   ]
  },
  {
   "cell_type": "code",
   "execution_count": 30,
   "id": "698c28fe",
   "metadata": {},
   "outputs": [
    {
     "data": {
      "text/plain": [
       "automatic    3618\n",
       "manual        304\n",
       "other          78\n",
       "Name: transmission, dtype: int64"
      ]
     },
     "execution_count": 30,
     "metadata": {},
     "output_type": "execute_result"
    }
   ],
   "source": [
    "data31['transmission'].value_counts()"
   ]
  },
  {
   "cell_type": "code",
   "execution_count": 31,
   "id": "5c1c226b",
   "metadata": {},
   "outputs": [
    {
     "data": {
      "text/plain": [
       "LabelEncoder()"
      ]
     },
     "execution_count": 31,
     "metadata": {},
     "output_type": "execute_result"
    }
   ],
   "source": [
    "LBE = LabelEncoder()\n",
    "LBE.fit(data31[['transmission']])"
   ]
  },
  {
   "cell_type": "code",
   "execution_count": 32,
   "id": "342ecb08",
   "metadata": {},
   "outputs": [
    {
     "data": {
      "text/plain": [
       "array(['automatic', 'manual', 'other'], dtype=object)"
      ]
     },
     "execution_count": 32,
     "metadata": {},
     "output_type": "execute_result"
    }
   ],
   "source": [
    "LBE.classes_"
   ]
  },
  {
   "cell_type": "code",
   "execution_count": 33,
   "id": "b62796d0",
   "metadata": {},
   "outputs": [],
   "source": [
    "data31['transmission'] = LBE.transform(data31.transmission.values)"
   ]
  },
  {
   "cell_type": "code",
   "execution_count": 34,
   "id": "54d8ee24",
   "metadata": {},
   "outputs": [
    {
     "data": {
      "text/html": [
       "<div>\n",
       "<style scoped>\n",
       "    .dataframe tbody tr th:only-of-type {\n",
       "        vertical-align: middle;\n",
       "    }\n",
       "\n",
       "    .dataframe tbody tr th {\n",
       "        vertical-align: top;\n",
       "    }\n",
       "\n",
       "    .dataframe thead th {\n",
       "        text-align: right;\n",
       "    }\n",
       "</style>\n",
       "<table border=\"1\" class=\"dataframe\">\n",
       "  <thead>\n",
       "    <tr style=\"text-align: right;\">\n",
       "      <th></th>\n",
       "      <th>region</th>\n",
       "      <th>price</th>\n",
       "      <th>year</th>\n",
       "      <th>manufacturer</th>\n",
       "      <th>model</th>\n",
       "      <th>fuel</th>\n",
       "      <th>odometer</th>\n",
       "      <th>title_status</th>\n",
       "      <th>transmission</th>\n",
       "      <th>state</th>\n",
       "    </tr>\n",
       "  </thead>\n",
       "  <tbody>\n",
       "    <tr>\n",
       "      <th>0</th>\n",
       "      <td>duluth / superior</td>\n",
       "      <td>6995</td>\n",
       "      <td>2000.0</td>\n",
       "      <td>gmc</td>\n",
       "      <td>new sierra 1500</td>\n",
       "      <td>gas</td>\n",
       "      <td>167783.000000</td>\n",
       "      <td>clean</td>\n",
       "      <td>0</td>\n",
       "      <td>mn</td>\n",
       "    </tr>\n",
       "    <tr>\n",
       "      <th>1</th>\n",
       "      <td>duluth / superior</td>\n",
       "      <td>8750</td>\n",
       "      <td>2013.0</td>\n",
       "      <td>hyundai</td>\n",
       "      <td>sonata</td>\n",
       "      <td>gas</td>\n",
       "      <td>90821.000000</td>\n",
       "      <td>clean</td>\n",
       "      <td>0</td>\n",
       "      <td>mn</td>\n",
       "    </tr>\n",
       "    <tr>\n",
       "      <th>2</th>\n",
       "      <td>new haven</td>\n",
       "      <td>10900</td>\n",
       "      <td>2013.0</td>\n",
       "      <td>toyota</td>\n",
       "      <td>prius</td>\n",
       "      <td>hybrid</td>\n",
       "      <td>92800.000000</td>\n",
       "      <td>clean</td>\n",
       "      <td>0</td>\n",
       "      <td>ct</td>\n",
       "    </tr>\n",
       "    <tr>\n",
       "      <th>3</th>\n",
       "      <td>albuquerque</td>\n",
       "      <td>12500</td>\n",
       "      <td>2003.0</td>\n",
       "      <td>mitsubishi</td>\n",
       "      <td>lancer</td>\n",
       "      <td>gas</td>\n",
       "      <td>89854.224815</td>\n",
       "      <td>clean</td>\n",
       "      <td>1</td>\n",
       "      <td>nm</td>\n",
       "    </tr>\n",
       "    <tr>\n",
       "      <th>4</th>\n",
       "      <td>duluth / superior</td>\n",
       "      <td>16995</td>\n",
       "      <td>2007.0</td>\n",
       "      <td>gmc</td>\n",
       "      <td>sierra classic 2500hd</td>\n",
       "      <td>diesel</td>\n",
       "      <td>254217.000000</td>\n",
       "      <td>clean</td>\n",
       "      <td>0</td>\n",
       "      <td>mn</td>\n",
       "    </tr>\n",
       "  </tbody>\n",
       "</table>\n",
       "</div>"
      ],
      "text/plain": [
       "              region  price    year manufacturer                  model  \\\n",
       "0  duluth / superior   6995  2000.0          gmc        new sierra 1500   \n",
       "1  duluth / superior   8750  2013.0      hyundai                 sonata   \n",
       "2          new haven  10900  2013.0       toyota                  prius   \n",
       "3        albuquerque  12500  2003.0   mitsubishi                 lancer   \n",
       "4  duluth / superior  16995  2007.0          gmc  sierra classic 2500hd   \n",
       "\n",
       "     fuel       odometer title_status  transmission state  \n",
       "0     gas  167783.000000        clean             0    mn  \n",
       "1     gas   90821.000000        clean             0    mn  \n",
       "2  hybrid   92800.000000        clean             0    ct  \n",
       "3     gas   89854.224815        clean             1    nm  \n",
       "4  diesel  254217.000000        clean             0    mn  "
      ]
     },
     "execution_count": 34,
     "metadata": {},
     "output_type": "execute_result"
    }
   ],
   "source": [
    "data31.head()"
   ]
  },
  {
   "cell_type": "markdown",
   "id": "42d73bcc",
   "metadata": {},
   "source": [
    "**<font size='4'>3.2 map编码</font>**<br>"
   ]
  },
  {
   "cell_type": "code",
   "execution_count": 35,
   "id": "d233eeea",
   "metadata": {},
   "outputs": [],
   "source": [
    "data32 = data31.copy()"
   ]
  },
  {
   "cell_type": "code",
   "execution_count": 36,
   "id": "3d42451e",
   "metadata": {},
   "outputs": [
    {
     "data": {
      "text/plain": [
       "gas         3555\n",
       "diesel       284\n",
       "other        111\n",
       "hybrid        37\n",
       "electric      13\n",
       "Name: fuel, dtype: int64"
      ]
     },
     "execution_count": 36,
     "metadata": {},
     "output_type": "execute_result"
    }
   ],
   "source": [
    "data32.fuel.value_counts()"
   ]
  },
  {
   "cell_type": "code",
   "execution_count": 37,
   "id": "68b5b6dc",
   "metadata": {},
   "outputs": [],
   "source": [
    "data32[\"fuel\"] = data32.fuel.map({\"gas\":0,\"diesel\":1,\"other\":2,\"hybrid\":3,\"electric\":4})"
   ]
  },
  {
   "cell_type": "code",
   "execution_count": 38,
   "id": "823808c8",
   "metadata": {},
   "outputs": [
    {
     "name": "stdout",
     "output_type": "stream",
     "text": [
      "<class 'pandas.core.frame.DataFrame'>\n",
      "Int64Index: 4000 entries, 0 to 3999\n",
      "Data columns (total 10 columns):\n",
      " #   Column        Non-Null Count  Dtype  \n",
      "---  ------        --------------  -----  \n",
      " 0   region        4000 non-null   object \n",
      " 1   price         4000 non-null   int64  \n",
      " 2   year          4000 non-null   float64\n",
      " 3   manufacturer  4000 non-null   object \n",
      " 4   model         4000 non-null   object \n",
      " 5   fuel          4000 non-null   int64  \n",
      " 6   odometer      4000 non-null   float64\n",
      " 7   title_status  4000 non-null   object \n",
      " 8   transmission  4000 non-null   int32  \n",
      " 9   state         4000 non-null   object \n",
      "dtypes: float64(2), int32(1), int64(2), object(5)\n",
      "memory usage: 328.1+ KB\n"
     ]
    }
   ],
   "source": [
    "data32.info()"
   ]
  },
  {
   "cell_type": "code",
   "execution_count": 39,
   "id": "05eb98ef",
   "metadata": {},
   "outputs": [
    {
     "data": {
      "text/html": [
       "<div>\n",
       "<style scoped>\n",
       "    .dataframe tbody tr th:only-of-type {\n",
       "        vertical-align: middle;\n",
       "    }\n",
       "\n",
       "    .dataframe tbody tr th {\n",
       "        vertical-align: top;\n",
       "    }\n",
       "\n",
       "    .dataframe thead th {\n",
       "        text-align: right;\n",
       "    }\n",
       "</style>\n",
       "<table border=\"1\" class=\"dataframe\">\n",
       "  <thead>\n",
       "    <tr style=\"text-align: right;\">\n",
       "      <th></th>\n",
       "      <th>region</th>\n",
       "      <th>price</th>\n",
       "      <th>year</th>\n",
       "      <th>manufacturer</th>\n",
       "      <th>model</th>\n",
       "      <th>fuel</th>\n",
       "      <th>odometer</th>\n",
       "      <th>title_status</th>\n",
       "      <th>transmission</th>\n",
       "      <th>state</th>\n",
       "    </tr>\n",
       "  </thead>\n",
       "  <tbody>\n",
       "    <tr>\n",
       "      <th>0</th>\n",
       "      <td>duluth / superior</td>\n",
       "      <td>6995</td>\n",
       "      <td>2000.0</td>\n",
       "      <td>gmc</td>\n",
       "      <td>new sierra 1500</td>\n",
       "      <td>0</td>\n",
       "      <td>167783.000000</td>\n",
       "      <td>clean</td>\n",
       "      <td>0</td>\n",
       "      <td>mn</td>\n",
       "    </tr>\n",
       "    <tr>\n",
       "      <th>1</th>\n",
       "      <td>duluth / superior</td>\n",
       "      <td>8750</td>\n",
       "      <td>2013.0</td>\n",
       "      <td>hyundai</td>\n",
       "      <td>sonata</td>\n",
       "      <td>0</td>\n",
       "      <td>90821.000000</td>\n",
       "      <td>clean</td>\n",
       "      <td>0</td>\n",
       "      <td>mn</td>\n",
       "    </tr>\n",
       "    <tr>\n",
       "      <th>2</th>\n",
       "      <td>new haven</td>\n",
       "      <td>10900</td>\n",
       "      <td>2013.0</td>\n",
       "      <td>toyota</td>\n",
       "      <td>prius</td>\n",
       "      <td>3</td>\n",
       "      <td>92800.000000</td>\n",
       "      <td>clean</td>\n",
       "      <td>0</td>\n",
       "      <td>ct</td>\n",
       "    </tr>\n",
       "    <tr>\n",
       "      <th>3</th>\n",
       "      <td>albuquerque</td>\n",
       "      <td>12500</td>\n",
       "      <td>2003.0</td>\n",
       "      <td>mitsubishi</td>\n",
       "      <td>lancer</td>\n",
       "      <td>0</td>\n",
       "      <td>89854.224815</td>\n",
       "      <td>clean</td>\n",
       "      <td>1</td>\n",
       "      <td>nm</td>\n",
       "    </tr>\n",
       "    <tr>\n",
       "      <th>4</th>\n",
       "      <td>duluth / superior</td>\n",
       "      <td>16995</td>\n",
       "      <td>2007.0</td>\n",
       "      <td>gmc</td>\n",
       "      <td>sierra classic 2500hd</td>\n",
       "      <td>1</td>\n",
       "      <td>254217.000000</td>\n",
       "      <td>clean</td>\n",
       "      <td>0</td>\n",
       "      <td>mn</td>\n",
       "    </tr>\n",
       "  </tbody>\n",
       "</table>\n",
       "</div>"
      ],
      "text/plain": [
       "              region  price    year manufacturer                  model  fuel  \\\n",
       "0  duluth / superior   6995  2000.0          gmc        new sierra 1500     0   \n",
       "1  duluth / superior   8750  2013.0      hyundai                 sonata     0   \n",
       "2          new haven  10900  2013.0       toyota                  prius     3   \n",
       "3        albuquerque  12500  2003.0   mitsubishi                 lancer     0   \n",
       "4  duluth / superior  16995  2007.0          gmc  sierra classic 2500hd     1   \n",
       "\n",
       "        odometer title_status  transmission state  \n",
       "0  167783.000000        clean             0    mn  \n",
       "1   90821.000000        clean             0    mn  \n",
       "2   92800.000000        clean             0    ct  \n",
       "3   89854.224815        clean             1    nm  \n",
       "4  254217.000000        clean             0    mn  "
      ]
     },
     "execution_count": 39,
     "metadata": {},
     "output_type": "execute_result"
    }
   ],
   "source": [
    "data32.head()"
   ]
  },
  {
   "cell_type": "markdown",
   "id": "9c28a99a",
   "metadata": {},
   "source": [
    "**<font size='4'>3.3 get_dummies</font>**<br>"
   ]
  },
  {
   "cell_type": "code",
   "execution_count": 40,
   "id": "9d7f6c73",
   "metadata": {},
   "outputs": [],
   "source": [
    "data33=pd.get_dummies(data['fuel'],prefix=\"T\",drop_first=True)"
   ]
  },
  {
   "cell_type": "code",
   "execution_count": 41,
   "id": "9a4407a5",
   "metadata": {
    "scrolled": true
   },
   "outputs": [
    {
     "name": "stdout",
     "output_type": "stream",
     "text": [
      "<class 'pandas.core.frame.DataFrame'>\n",
      "Int64Index: 4000 entries, 0 to 3999\n",
      "Data columns (total 4 columns):\n",
      " #   Column      Non-Null Count  Dtype\n",
      "---  ------      --------------  -----\n",
      " 0   T_electric  4000 non-null   uint8\n",
      " 1   T_gas       4000 non-null   uint8\n",
      " 2   T_hybrid    4000 non-null   uint8\n",
      " 3   T_other     4000 non-null   uint8\n",
      "dtypes: uint8(4)\n",
      "memory usage: 46.9 KB\n"
     ]
    }
   ],
   "source": [
    "data33.info()"
   ]
  },
  {
   "cell_type": "code",
   "execution_count": 42,
   "id": "a1ca6210",
   "metadata": {},
   "outputs": [
    {
     "data": {
      "text/html": [
       "<div>\n",
       "<style scoped>\n",
       "    .dataframe tbody tr th:only-of-type {\n",
       "        vertical-align: middle;\n",
       "    }\n",
       "\n",
       "    .dataframe tbody tr th {\n",
       "        vertical-align: top;\n",
       "    }\n",
       "\n",
       "    .dataframe thead th {\n",
       "        text-align: right;\n",
       "    }\n",
       "</style>\n",
       "<table border=\"1\" class=\"dataframe\">\n",
       "  <thead>\n",
       "    <tr style=\"text-align: right;\">\n",
       "      <th></th>\n",
       "      <th>T_electric</th>\n",
       "      <th>T_gas</th>\n",
       "      <th>T_hybrid</th>\n",
       "      <th>T_other</th>\n",
       "    </tr>\n",
       "  </thead>\n",
       "  <tbody>\n",
       "    <tr>\n",
       "      <th>0</th>\n",
       "      <td>0</td>\n",
       "      <td>1</td>\n",
       "      <td>0</td>\n",
       "      <td>0</td>\n",
       "    </tr>\n",
       "    <tr>\n",
       "      <th>1</th>\n",
       "      <td>0</td>\n",
       "      <td>1</td>\n",
       "      <td>0</td>\n",
       "      <td>0</td>\n",
       "    </tr>\n",
       "    <tr>\n",
       "      <th>2</th>\n",
       "      <td>0</td>\n",
       "      <td>0</td>\n",
       "      <td>1</td>\n",
       "      <td>0</td>\n",
       "    </tr>\n",
       "    <tr>\n",
       "      <th>3</th>\n",
       "      <td>0</td>\n",
       "      <td>1</td>\n",
       "      <td>0</td>\n",
       "      <td>0</td>\n",
       "    </tr>\n",
       "    <tr>\n",
       "      <th>4</th>\n",
       "      <td>0</td>\n",
       "      <td>0</td>\n",
       "      <td>0</td>\n",
       "      <td>0</td>\n",
       "    </tr>\n",
       "  </tbody>\n",
       "</table>\n",
       "</div>"
      ],
      "text/plain": [
       "   T_electric  T_gas  T_hybrid  T_other\n",
       "0           0      1         0        0\n",
       "1           0      1         0        0\n",
       "2           0      0         1        0\n",
       "3           0      1         0        0\n",
       "4           0      0         0        0"
      ]
     },
     "execution_count": 42,
     "metadata": {},
     "output_type": "execute_result"
    }
   ],
   "source": [
    "data33.head()"
   ]
  },
  {
   "cell_type": "markdown",
   "id": "cc96e6dd",
   "metadata": {},
   "source": [
    "**<font size='4'>3.4 OneHot编码</font>**<br>"
   ]
  },
  {
   "cell_type": "code",
   "execution_count": 43,
   "id": "b5b56c68",
   "metadata": {},
   "outputs": [],
   "source": [
    "OHE=OneHotEncoder(drop='first') # 实例化对象，并删除第一行"
   ]
  },
  {
   "cell_type": "code",
   "execution_count": 44,
   "id": "0d475a0c",
   "metadata": {},
   "outputs": [],
   "source": [
    "data34 = data21.copy()"
   ]
  },
  {
   "cell_type": "code",
   "execution_count": 45,
   "id": "30867deb",
   "metadata": {},
   "outputs": [],
   "source": [
    "data341 = OHE.fit_transform(data34[[\"transmission\"]])"
   ]
  },
  {
   "cell_type": "code",
   "execution_count": 46,
   "id": "e6ea7b24",
   "metadata": {},
   "outputs": [],
   "source": [
    "data342 = pd.DataFrame(data341.toarray())"
   ]
  },
  {
   "cell_type": "code",
   "execution_count": 47,
   "id": "c2345b21",
   "metadata": {},
   "outputs": [
    {
     "data": {
      "text/html": [
       "<div>\n",
       "<style scoped>\n",
       "    .dataframe tbody tr th:only-of-type {\n",
       "        vertical-align: middle;\n",
       "    }\n",
       "\n",
       "    .dataframe tbody tr th {\n",
       "        vertical-align: top;\n",
       "    }\n",
       "\n",
       "    .dataframe thead th {\n",
       "        text-align: right;\n",
       "    }\n",
       "</style>\n",
       "<table border=\"1\" class=\"dataframe\">\n",
       "  <thead>\n",
       "    <tr style=\"text-align: right;\">\n",
       "      <th></th>\n",
       "      <th>0</th>\n",
       "      <th>1</th>\n",
       "    </tr>\n",
       "  </thead>\n",
       "  <tbody>\n",
       "    <tr>\n",
       "      <th>0</th>\n",
       "      <td>0.0</td>\n",
       "      <td>0.0</td>\n",
       "    </tr>\n",
       "    <tr>\n",
       "      <th>1</th>\n",
       "      <td>0.0</td>\n",
       "      <td>0.0</td>\n",
       "    </tr>\n",
       "    <tr>\n",
       "      <th>2</th>\n",
       "      <td>0.0</td>\n",
       "      <td>0.0</td>\n",
       "    </tr>\n",
       "    <tr>\n",
       "      <th>3</th>\n",
       "      <td>1.0</td>\n",
       "      <td>0.0</td>\n",
       "    </tr>\n",
       "    <tr>\n",
       "      <th>4</th>\n",
       "      <td>0.0</td>\n",
       "      <td>0.0</td>\n",
       "    </tr>\n",
       "    <tr>\n",
       "      <th>...</th>\n",
       "      <td>...</td>\n",
       "      <td>...</td>\n",
       "    </tr>\n",
       "    <tr>\n",
       "      <th>3995</th>\n",
       "      <td>0.0</td>\n",
       "      <td>0.0</td>\n",
       "    </tr>\n",
       "    <tr>\n",
       "      <th>3996</th>\n",
       "      <td>0.0</td>\n",
       "      <td>0.0</td>\n",
       "    </tr>\n",
       "    <tr>\n",
       "      <th>3997</th>\n",
       "      <td>0.0</td>\n",
       "      <td>0.0</td>\n",
       "    </tr>\n",
       "    <tr>\n",
       "      <th>3998</th>\n",
       "      <td>0.0</td>\n",
       "      <td>0.0</td>\n",
       "    </tr>\n",
       "    <tr>\n",
       "      <th>3999</th>\n",
       "      <td>0.0</td>\n",
       "      <td>0.0</td>\n",
       "    </tr>\n",
       "  </tbody>\n",
       "</table>\n",
       "<p>4000 rows × 2 columns</p>\n",
       "</div>"
      ],
      "text/plain": [
       "        0    1\n",
       "0     0.0  0.0\n",
       "1     0.0  0.0\n",
       "2     0.0  0.0\n",
       "3     1.0  0.0\n",
       "4     0.0  0.0\n",
       "...   ...  ...\n",
       "3995  0.0  0.0\n",
       "3996  0.0  0.0\n",
       "3997  0.0  0.0\n",
       "3998  0.0  0.0\n",
       "3999  0.0  0.0\n",
       "\n",
       "[4000 rows x 2 columns]"
      ]
     },
     "execution_count": 47,
     "metadata": {},
     "output_type": "execute_result"
    }
   ],
   "source": [
    "data342"
   ]
  },
  {
   "cell_type": "markdown",
   "id": "a683ec1f",
   "metadata": {},
   "source": [
    "# 四、离群值的处理、统计（箱线图）"
   ]
  },
  {
   "cell_type": "code",
   "execution_count": 48,
   "id": "e31d388f",
   "metadata": {},
   "outputs": [
    {
     "data": {
      "text/html": [
       "<div>\n",
       "<style scoped>\n",
       "    .dataframe tbody tr th:only-of-type {\n",
       "        vertical-align: middle;\n",
       "    }\n",
       "\n",
       "    .dataframe tbody tr th {\n",
       "        vertical-align: top;\n",
       "    }\n",
       "\n",
       "    .dataframe thead th {\n",
       "        text-align: right;\n",
       "    }\n",
       "</style>\n",
       "<table border=\"1\" class=\"dataframe\">\n",
       "  <thead>\n",
       "    <tr style=\"text-align: right;\">\n",
       "      <th></th>\n",
       "      <th>price</th>\n",
       "      <th>year</th>\n",
       "      <th>fuel</th>\n",
       "      <th>odometer</th>\n",
       "      <th>transmission</th>\n",
       "    </tr>\n",
       "  </thead>\n",
       "  <tbody>\n",
       "    <tr>\n",
       "      <th>count</th>\n",
       "      <td>4.000000e+03</td>\n",
       "      <td>4000.000000</td>\n",
       "      <td>4000.000000</td>\n",
       "      <td>4.000000e+03</td>\n",
       "      <td>4000.000000</td>\n",
       "    </tr>\n",
       "    <tr>\n",
       "      <th>mean</th>\n",
       "      <td>2.001030e+04</td>\n",
       "      <td>2010.144536</td>\n",
       "      <td>0.167250</td>\n",
       "      <td>8.985422e+04</td>\n",
       "      <td>0.115000</td>\n",
       "    </tr>\n",
       "    <tr>\n",
       "      <th>std</th>\n",
       "      <td>1.604683e+05</td>\n",
       "      <td>10.577125</td>\n",
       "      <td>0.537912</td>\n",
       "      <td>8.048116e+04</td>\n",
       "      <td>0.375247</td>\n",
       "    </tr>\n",
       "    <tr>\n",
       "      <th>min</th>\n",
       "      <td>0.000000e+00</td>\n",
       "      <td>1900.000000</td>\n",
       "      <td>0.000000</td>\n",
       "      <td>0.000000e+00</td>\n",
       "      <td>0.000000</td>\n",
       "    </tr>\n",
       "    <tr>\n",
       "      <th>25%</th>\n",
       "      <td>5.990000e+03</td>\n",
       "      <td>2007.000000</td>\n",
       "      <td>0.000000</td>\n",
       "      <td>4.249200e+04</td>\n",
       "      <td>0.000000</td>\n",
       "    </tr>\n",
       "    <tr>\n",
       "      <th>50%</th>\n",
       "      <td>1.250000e+04</td>\n",
       "      <td>2013.000000</td>\n",
       "      <td>0.000000</td>\n",
       "      <td>8.985422e+04</td>\n",
       "      <td>0.000000</td>\n",
       "    </tr>\n",
       "    <tr>\n",
       "      <th>75%</th>\n",
       "      <td>2.299900e+04</td>\n",
       "      <td>2017.000000</td>\n",
       "      <td>0.000000</td>\n",
       "      <td>1.178922e+05</td>\n",
       "      <td>0.000000</td>\n",
       "    </tr>\n",
       "    <tr>\n",
       "      <th>max</th>\n",
       "      <td>9.999999e+06</td>\n",
       "      <td>2020.000000</td>\n",
       "      <td>4.000000</td>\n",
       "      <td>2.564237e+06</td>\n",
       "      <td>2.000000</td>\n",
       "    </tr>\n",
       "  </tbody>\n",
       "</table>\n",
       "</div>"
      ],
      "text/plain": [
       "              price         year         fuel      odometer  transmission\n",
       "count  4.000000e+03  4000.000000  4000.000000  4.000000e+03   4000.000000\n",
       "mean   2.001030e+04  2010.144536     0.167250  8.985422e+04      0.115000\n",
       "std    1.604683e+05    10.577125     0.537912  8.048116e+04      0.375247\n",
       "min    0.000000e+00  1900.000000     0.000000  0.000000e+00      0.000000\n",
       "25%    5.990000e+03  2007.000000     0.000000  4.249200e+04      0.000000\n",
       "50%    1.250000e+04  2013.000000     0.000000  8.985422e+04      0.000000\n",
       "75%    2.299900e+04  2017.000000     0.000000  1.178922e+05      0.000000\n",
       "max    9.999999e+06  2020.000000     4.000000  2.564237e+06      2.000000"
      ]
     },
     "execution_count": 48,
     "metadata": {},
     "output_type": "execute_result"
    }
   ],
   "source": [
    "data32.describe()"
   ]
  },
  {
   "cell_type": "markdown",
   "id": "bf78be78",
   "metadata": {},
   "source": [
    "**<font size='4'>4.1 3西格玛</font>**<br>"
   ]
  },
  {
   "cell_type": "code",
   "execution_count": 49,
   "id": "2c8bd383",
   "metadata": {},
   "outputs": [],
   "source": [
    "mean_ = data32.price.mean()"
   ]
  },
  {
   "cell_type": "code",
   "execution_count": 50,
   "id": "095fe299",
   "metadata": {},
   "outputs": [],
   "source": [
    "std_ = data32.price.std()"
   ]
  },
  {
   "cell_type": "code",
   "execution_count": 51,
   "id": "9cc7c989",
   "metadata": {},
   "outputs": [
    {
     "data": {
      "text/plain": [
       "(20010.2955, 160468.29947739185)"
      ]
     },
     "execution_count": 51,
     "metadata": {},
     "output_type": "execute_result"
    }
   ],
   "source": [
    "mean_,std_"
   ]
  },
  {
   "cell_type": "code",
   "execution_count": 52,
   "id": "f9666915",
   "metadata": {},
   "outputs": [],
   "source": [
    "data41 = data32[data32.price<mean_+3*std_][data32.price>mean_-3*std_] # 保留3西格玛内的样本"
   ]
  },
  {
   "cell_type": "code",
   "execution_count": 53,
   "id": "e4eb3931",
   "metadata": {},
   "outputs": [
    {
     "data": {
      "text/html": [
       "<div>\n",
       "<style scoped>\n",
       "    .dataframe tbody tr th:only-of-type {\n",
       "        vertical-align: middle;\n",
       "    }\n",
       "\n",
       "    .dataframe tbody tr th {\n",
       "        vertical-align: top;\n",
       "    }\n",
       "\n",
       "    .dataframe thead th {\n",
       "        text-align: right;\n",
       "    }\n",
       "</style>\n",
       "<table border=\"1\" class=\"dataframe\">\n",
       "  <thead>\n",
       "    <tr style=\"text-align: right;\">\n",
       "      <th></th>\n",
       "      <th>price</th>\n",
       "    </tr>\n",
       "  </thead>\n",
       "  <tbody>\n",
       "    <tr>\n",
       "      <th>count</th>\n",
       "      <td>3998.000000</td>\n",
       "    </tr>\n",
       "    <tr>\n",
       "      <th>mean</th>\n",
       "      <td>17145.118309</td>\n",
       "    </tr>\n",
       "    <tr>\n",
       "      <th>std</th>\n",
       "      <td>17079.489800</td>\n",
       "    </tr>\n",
       "    <tr>\n",
       "      <th>min</th>\n",
       "      <td>0.000000</td>\n",
       "    </tr>\n",
       "    <tr>\n",
       "      <th>25%</th>\n",
       "      <td>5990.000000</td>\n",
       "    </tr>\n",
       "    <tr>\n",
       "      <th>50%</th>\n",
       "      <td>12500.000000</td>\n",
       "    </tr>\n",
       "    <tr>\n",
       "      <th>75%</th>\n",
       "      <td>22999.000000</td>\n",
       "    </tr>\n",
       "    <tr>\n",
       "      <th>max</th>\n",
       "      <td>239999.000000</td>\n",
       "    </tr>\n",
       "  </tbody>\n",
       "</table>\n",
       "</div>"
      ],
      "text/plain": [
       "               price\n",
       "count    3998.000000\n",
       "mean    17145.118309\n",
       "std     17079.489800\n",
       "min         0.000000\n",
       "25%      5990.000000\n",
       "50%     12500.000000\n",
       "75%     22999.000000\n",
       "max    239999.000000"
      ]
     },
     "execution_count": 53,
     "metadata": {},
     "output_type": "execute_result"
    }
   ],
   "source": [
    "data41[['price']].describe()"
   ]
  },
  {
   "cell_type": "markdown",
   "id": "4834f65c",
   "metadata": {},
   "source": [
    "**<font size='4'>4.2 箱线图</font>**<br>"
   ]
  },
  {
   "cell_type": "code",
   "execution_count": 54,
   "id": "f384cdc9",
   "metadata": {},
   "outputs": [
    {
     "data": {
      "image/png": "[encoded data removed]",
      "text/plain": [
       "<Figure size 360x432 with 1 Axes>"
      ]
     },
     "metadata": {
      "needs_background": "light"
     },
     "output_type": "display_data"
    }
   ],
   "source": [
    "# plt.figure(figsize=(25,22))\n",
    "data41[['price']].plot(kind='box',figsize=(5,6))\n",
    "plt.show()"
   ]
  },
  {
   "cell_type": "code",
   "execution_count": 55,
   "id": "07b85aba",
   "metadata": {},
   "outputs": [],
   "source": [
    "data_desc = data41[['price']].describe()"
   ]
  },
  {
   "cell_type": "code",
   "execution_count": 56,
   "id": "cf2adceb",
   "metadata": {},
   "outputs": [
    {
     "data": {
      "text/html": [
       "<div>\n",
       "<style scoped>\n",
       "    .dataframe tbody tr th:only-of-type {\n",
       "        vertical-align: middle;\n",
       "    }\n",
       "\n",
       "    .dataframe tbody tr th {\n",
       "        vertical-align: top;\n",
       "    }\n",
       "\n",
       "    .dataframe thead th {\n",
       "        text-align: right;\n",
       "    }\n",
       "</style>\n",
       "<table border=\"1\" class=\"dataframe\">\n",
       "  <thead>\n",
       "    <tr style=\"text-align: right;\">\n",
       "      <th></th>\n",
       "      <th>price</th>\n",
       "    </tr>\n",
       "  </thead>\n",
       "  <tbody>\n",
       "    <tr>\n",
       "      <th>count</th>\n",
       "      <td>3998.000000</td>\n",
       "    </tr>\n",
       "    <tr>\n",
       "      <th>mean</th>\n",
       "      <td>17145.118309</td>\n",
       "    </tr>\n",
       "    <tr>\n",
       "      <th>std</th>\n",
       "      <td>17079.489800</td>\n",
       "    </tr>\n",
       "    <tr>\n",
       "      <th>min</th>\n",
       "      <td>0.000000</td>\n",
       "    </tr>\n",
       "    <tr>\n",
       "      <th>25%</th>\n",
       "      <td>5990.000000</td>\n",
       "    </tr>\n",
       "    <tr>\n",
       "      <th>50%</th>\n",
       "      <td>12500.000000</td>\n",
       "    </tr>\n",
       "    <tr>\n",
       "      <th>75%</th>\n",
       "      <td>22999.000000</td>\n",
       "    </tr>\n",
       "    <tr>\n",
       "      <th>max</th>\n",
       "      <td>239999.000000</td>\n",
       "    </tr>\n",
       "  </tbody>\n",
       "</table>\n",
       "</div>"
      ],
      "text/plain": [
       "               price\n",
       "count    3998.000000\n",
       "mean    17145.118309\n",
       "std     17079.489800\n",
       "min         0.000000\n",
       "25%      5990.000000\n",
       "50%     12500.000000\n",
       "75%     22999.000000\n",
       "max    239999.000000"
      ]
     },
     "execution_count": 56,
     "metadata": {},
     "output_type": "execute_result"
    }
   ],
   "source": [
    "data_desc"
   ]
  },
  {
   "cell_type": "code",
   "execution_count": 57,
   "id": "eb8acf98",
   "metadata": {},
   "outputs": [],
   "source": [
    "data_desc = data_desc.T"
   ]
  },
  {
   "cell_type": "code",
   "execution_count": 58,
   "id": "fc2cbae4",
   "metadata": {},
   "outputs": [
    {
     "data": {
      "text/html": [
       "<div>\n",
       "<style scoped>\n",
       "    .dataframe tbody tr th:only-of-type {\n",
       "        vertical-align: middle;\n",
       "    }\n",
       "\n",
       "    .dataframe tbody tr th {\n",
       "        vertical-align: top;\n",
       "    }\n",
       "\n",
       "    .dataframe thead th {\n",
       "        text-align: right;\n",
       "    }\n",
       "</style>\n",
       "<table border=\"1\" class=\"dataframe\">\n",
       "  <thead>\n",
       "    <tr style=\"text-align: right;\">\n",
       "      <th></th>\n",
       "      <th>count</th>\n",
       "      <th>mean</th>\n",
       "      <th>std</th>\n",
       "      <th>min</th>\n",
       "      <th>25%</th>\n",
       "      <th>50%</th>\n",
       "      <th>75%</th>\n",
       "      <th>max</th>\n",
       "    </tr>\n",
       "  </thead>\n",
       "  <tbody>\n",
       "    <tr>\n",
       "      <th>price</th>\n",
       "      <td>3998.0</td>\n",
       "      <td>17145.118309</td>\n",
       "      <td>17079.4898</td>\n",
       "      <td>0.0</td>\n",
       "      <td>5990.0</td>\n",
       "      <td>12500.0</td>\n",
       "      <td>22999.0</td>\n",
       "      <td>239999.0</td>\n",
       "    </tr>\n",
       "  </tbody>\n",
       "</table>\n",
       "</div>"
      ],
      "text/plain": [
       "        count          mean         std  min     25%      50%      75%  \\\n",
       "price  3998.0  17145.118309  17079.4898  0.0  5990.0  12500.0  22999.0   \n",
       "\n",
       "            max  \n",
       "price  239999.0  "
      ]
     },
     "execution_count": 58,
     "metadata": {},
     "output_type": "execute_result"
    }
   ],
   "source": [
    "data_desc"
   ]
  },
  {
   "cell_type": "code",
   "execution_count": 59,
   "id": "ce1873d6",
   "metadata": {},
   "outputs": [],
   "source": [
    "IQR = data_desc[\"75%\"].values-data_desc[\"25%\"].values"
   ]
  },
  {
   "cell_type": "code",
   "execution_count": 64,
   "id": "4a05dbe0",
   "metadata": {},
   "outputs": [],
   "source": [
    "max = data_desc[\"75%\"].values+1.5*IQR\n",
    "min = data_desc[\"25%\"].values-1.5*IQR"
   ]
  },
  {
   "cell_type": "code",
   "execution_count": 65,
   "id": "c0ca8fec",
   "metadata": {},
   "outputs": [
    {
     "data": {
      "text/plain": [
       "(48512.5, -19523.5)"
      ]
     },
     "execution_count": 65,
     "metadata": {},
     "output_type": "execute_result"
    }
   ],
   "source": [
    "max[0],min[0]"
   ]
  },
  {
   "cell_type": "code",
   "execution_count": 66,
   "id": "e6345623",
   "metadata": {},
   "outputs": [
    {
     "name": "stdout",
     "output_type": "stream",
     "text": [
      "<class 'pandas.core.frame.DataFrame'>\n",
      "Int64Index: 3998 entries, 0 to 3999\n",
      "Data columns (total 10 columns):\n",
      " #   Column        Non-Null Count  Dtype  \n",
      "---  ------        --------------  -----  \n",
      " 0   region        3998 non-null   object \n",
      " 1   price         3998 non-null   int64  \n",
      " 2   year          3998 non-null   float64\n",
      " 3   manufacturer  3998 non-null   object \n",
      " 4   model         3998 non-null   object \n",
      " 5   fuel          3998 non-null   int64  \n",
      " 6   odometer      3998 non-null   float64\n",
      " 7   title_status  3998 non-null   object \n",
      " 8   transmission  3998 non-null   int32  \n",
      " 9   state         3998 non-null   object \n",
      "dtypes: float64(2), int32(1), int64(2), object(5)\n",
      "memory usage: 328.0+ KB\n"
     ]
    }
   ],
   "source": [
    "data41.info()"
   ]
  },
  {
   "cell_type": "code",
   "execution_count": 67,
   "id": "295dd7a9",
   "metadata": {},
   "outputs": [],
   "source": [
    "data42 = data41[data41.price<max[0]][data41.price>min[0]]"
   ]
  },
  {
   "cell_type": "code",
   "execution_count": 68,
   "id": "a67c577c",
   "metadata": {},
   "outputs": [
    {
     "data": {
      "text/html": [
       "<div>\n",
       "<style scoped>\n",
       "    .dataframe tbody tr th:only-of-type {\n",
       "        vertical-align: middle;\n",
       "    }\n",
       "\n",
       "    .dataframe tbody tr th {\n",
       "        vertical-align: top;\n",
       "    }\n",
       "\n",
       "    .dataframe thead th {\n",
       "        text-align: right;\n",
       "    }\n",
       "</style>\n",
       "<table border=\"1\" class=\"dataframe\">\n",
       "  <thead>\n",
       "    <tr style=\"text-align: right;\">\n",
       "      <th></th>\n",
       "      <th>price</th>\n",
       "    </tr>\n",
       "  </thead>\n",
       "  <tbody>\n",
       "    <tr>\n",
       "      <th>count</th>\n",
       "      <td>3803.000000</td>\n",
       "    </tr>\n",
       "    <tr>\n",
       "      <th>mean</th>\n",
       "      <td>14636.246121</td>\n",
       "    </tr>\n",
       "    <tr>\n",
       "      <th>std</th>\n",
       "      <td>11824.339725</td>\n",
       "    </tr>\n",
       "    <tr>\n",
       "      <th>min</th>\n",
       "      <td>0.000000</td>\n",
       "    </tr>\n",
       "    <tr>\n",
       "      <th>25%</th>\n",
       "      <td>5500.000000</td>\n",
       "    </tr>\n",
       "    <tr>\n",
       "      <th>50%</th>\n",
       "      <td>11750.000000</td>\n",
       "    </tr>\n",
       "    <tr>\n",
       "      <th>75%</th>\n",
       "      <td>20984.000000</td>\n",
       "    </tr>\n",
       "    <tr>\n",
       "      <th>max</th>\n",
       "      <td>48000.000000</td>\n",
       "    </tr>\n",
       "  </tbody>\n",
       "</table>\n",
       "</div>"
      ],
      "text/plain": [
       "              price\n",
       "count   3803.000000\n",
       "mean   14636.246121\n",
       "std    11824.339725\n",
       "min        0.000000\n",
       "25%     5500.000000\n",
       "50%    11750.000000\n",
       "75%    20984.000000\n",
       "max    48000.000000"
      ]
     },
     "execution_count": 68,
     "metadata": {},
     "output_type": "execute_result"
    }
   ],
   "source": [
    "data42[['price']].describe()"
   ]
  },
  {
   "cell_type": "code",
   "execution_count": 69,
   "id": "64edafb0",
   "metadata": {},
   "outputs": [
    {
     "data": {
      "image/png": "[encoded data removed]",
      "text/plain": [
       "<Figure size 360x432 with 1 Axes>"
      ]
     },
     "metadata": {
      "needs_background": "light"
     },
     "output_type": "display_data"
    }
   ],
   "source": [
    "data42[['odometer']].plot(kind='box',figsize=(5,6))\n",
    "plt.show()"
   ]
  },
  {
   "cell_type": "code",
   "execution_count": 70,
   "id": "35342247",
   "metadata": {},
   "outputs": [],
   "source": [
    "mean_o = data42.odometer.mean()\n",
    "std_o = data42.odometer.std()\n",
    "data422 = data42[data42.odometer<mean_o+3*std_o][data42.odometer>mean_o-3*std_o] # 保留3西格玛内的样本"
   ]
  },
  {
   "cell_type": "code",
   "execution_count": 71,
   "id": "a42f703f",
   "metadata": {},
   "outputs": [],
   "source": [
    "data_desc_2 = data422[['odometer']].describe().T\n",
    "IQR_o = data_desc_2[\"75%\"].values-data_desc_2[\"25%\"].values\n",
    "max_o = data_desc_2[\"75%\"].values+1.5*IQR_o\n",
    "min_o = data_desc_2[\"25%\"].values-1.5*IQR_o\n",
    "data423 = data422[data422.price<max_o[0]][data422.price>min_o[0]]"
   ]
  },
  {
   "cell_type": "code",
   "execution_count": 72,
   "id": "27c7afc3",
   "metadata": {},
   "outputs": [
    {
     "name": "stdout",
     "output_type": "stream",
     "text": [
      "<class 'pandas.core.frame.DataFrame'>\n",
      "Int64Index: 3795 entries, 0 to 3999\n",
      "Data columns (total 10 columns):\n",
      " #   Column        Non-Null Count  Dtype  \n",
      "---  ------        --------------  -----  \n",
      " 0   region        3795 non-null   object \n",
      " 1   price         3795 non-null   int64  \n",
      " 2   year          3795 non-null   float64\n",
      " 3   manufacturer  3795 non-null   object \n",
      " 4   model         3795 non-null   object \n",
      " 5   fuel          3795 non-null   int64  \n",
      " 6   odometer      3795 non-null   float64\n",
      " 7   title_status  3795 non-null   object \n",
      " 8   transmission  3795 non-null   int32  \n",
      " 9   state         3795 non-null   object \n",
      "dtypes: float64(2), int32(1), int64(2), object(5)\n",
      "memory usage: 311.3+ KB\n"
     ]
    }
   ],
   "source": [
    "data423.info()"
   ]
  },
  {
   "cell_type": "code",
   "execution_count": 73,
   "id": "91bfd68f",
   "metadata": {},
   "outputs": [
    {
     "data": {
      "text/html": [
       "<div>\n",
       "<style scoped>\n",
       "    .dataframe tbody tr th:only-of-type {\n",
       "        vertical-align: middle;\n",
       "    }\n",
       "\n",
       "    .dataframe tbody tr th {\n",
       "        vertical-align: top;\n",
       "    }\n",
       "\n",
       "    .dataframe thead th {\n",
       "        text-align: right;\n",
       "    }\n",
       "</style>\n",
       "<table border=\"1\" class=\"dataframe\">\n",
       "  <thead>\n",
       "    <tr style=\"text-align: right;\">\n",
       "      <th></th>\n",
       "      <th>odometer</th>\n",
       "    </tr>\n",
       "  </thead>\n",
       "  <tbody>\n",
       "    <tr>\n",
       "      <th>count</th>\n",
       "      <td>3795.000000</td>\n",
       "    </tr>\n",
       "    <tr>\n",
       "      <th>mean</th>\n",
       "      <td>90467.894569</td>\n",
       "    </tr>\n",
       "    <tr>\n",
       "      <th>std</th>\n",
       "      <td>56242.138696</td>\n",
       "    </tr>\n",
       "    <tr>\n",
       "      <th>min</th>\n",
       "      <td>0.000000</td>\n",
       "    </tr>\n",
       "    <tr>\n",
       "      <th>25%</th>\n",
       "      <td>46967.000000</td>\n",
       "    </tr>\n",
       "    <tr>\n",
       "      <th>50%</th>\n",
       "      <td>89854.224815</td>\n",
       "    </tr>\n",
       "    <tr>\n",
       "      <th>75%</th>\n",
       "      <td>120715.500000</td>\n",
       "    </tr>\n",
       "    <tr>\n",
       "      <th>max</th>\n",
       "      <td>336400.000000</td>\n",
       "    </tr>\n",
       "  </tbody>\n",
       "</table>\n",
       "</div>"
      ],
      "text/plain": [
       "            odometer\n",
       "count    3795.000000\n",
       "mean    90467.894569\n",
       "std     56242.138696\n",
       "min         0.000000\n",
       "25%     46967.000000\n",
       "50%     89854.224815\n",
       "75%    120715.500000\n",
       "max    336400.000000"
      ]
     },
     "execution_count": 73,
     "metadata": {},
     "output_type": "execute_result"
    }
   ],
   "source": [
    "data423[['odometer']].describe()"
   ]
  },
  {
   "cell_type": "markdown",
   "id": "b6b82d88",
   "metadata": {},
   "source": [
    "**<font size='4'>4.3 LocalOutlierFactor(局部离群因子)</font>**<br>"
   ]
  },
  {
   "cell_type": "code",
   "execution_count": 74,
   "id": "27417554",
   "metadata": {},
   "outputs": [],
   "source": [
    "from sklearn.neighbors import LocalOutlierFactor\n",
    "lout = LocalOutlierFactor(n_neighbors=30,\n",
    "algorithm=\"auto\", # 指定用来计算最近邻居的算法，例如auto ball_tree kd_tree brute\n",
    "leaf_size=20,\n",
    "metric=\"minkowski\", # 指定计算邻居间距离的方法，根据algorithm不同，适用的metric方法也有不同\n",
    "p=2, # p用来指定metric=minkowski的情况下的p参数。\n",
    "metric_params= None,\n",
    "contamination=0.1, #  设置样本中异常点的比例，\n",
    "n_jobs=1, # 并行任务数，设置为-1表示使用所有CPU进行工作\n",
    "novelty=True  # 指定是否用来做新颖性检测                      \n",
    ")\n",
    "lout.fit(data32[['odometer']])\n",
    "data32[\"odometer_IO\"] = lout.predict(data32[[\"odometer\"]])"
   ]
  },
  {
   "cell_type": "code",
   "execution_count": 75,
   "id": "8332d545",
   "metadata": {},
   "outputs": [
    {
     "data": {
      "text/plain": [
       "odometer_IO\n",
       " 1             3634\n",
       "-1              366\n",
       "dtype: int64"
      ]
     },
     "execution_count": 75,
     "metadata": {},
     "output_type": "execute_result"
    }
   ],
   "source": [
    "data32[[\"odometer_IO\"]].value_counts()"
   ]
  },
  {
   "cell_type": "code",
   "execution_count": 76,
   "id": "48a8d2de",
   "metadata": {},
   "outputs": [
    {
     "data": {
      "text/html": [
       "<div>\n",
       "<style scoped>\n",
       "    .dataframe tbody tr th:only-of-type {\n",
       "        vertical-align: middle;\n",
       "    }\n",
       "\n",
       "    .dataframe tbody tr th {\n",
       "        vertical-align: top;\n",
       "    }\n",
       "\n",
       "    .dataframe thead th {\n",
       "        text-align: right;\n",
       "    }\n",
       "</style>\n",
       "<table border=\"1\" class=\"dataframe\">\n",
       "  <thead>\n",
       "    <tr style=\"text-align: right;\">\n",
       "      <th></th>\n",
       "      <th>region</th>\n",
       "      <th>price</th>\n",
       "      <th>year</th>\n",
       "      <th>manufacturer</th>\n",
       "      <th>model</th>\n",
       "      <th>fuel</th>\n",
       "      <th>odometer</th>\n",
       "      <th>title_status</th>\n",
       "      <th>transmission</th>\n",
       "      <th>state</th>\n",
       "      <th>odometer_IO</th>\n",
       "    </tr>\n",
       "  </thead>\n",
       "  <tbody>\n",
       "    <tr>\n",
       "      <th>1</th>\n",
       "      <td>duluth / superior</td>\n",
       "      <td>8750</td>\n",
       "      <td>2013.0</td>\n",
       "      <td>hyundai</td>\n",
       "      <td>sonata</td>\n",
       "      <td>0</td>\n",
       "      <td>90821.0</td>\n",
       "      <td>clean</td>\n",
       "      <td>0</td>\n",
       "      <td>mn</td>\n",
       "      <td>-1</td>\n",
       "    </tr>\n",
       "    <tr>\n",
       "      <th>9</th>\n",
       "      <td>duluth / superior</td>\n",
       "      <td>12995</td>\n",
       "      <td>2004.0</td>\n",
       "      <td>ram</td>\n",
       "      <td>2500</td>\n",
       "      <td>1</td>\n",
       "      <td>309621.0</td>\n",
       "      <td>clean</td>\n",
       "      <td>0</td>\n",
       "      <td>mn</td>\n",
       "      <td>-1</td>\n",
       "    </tr>\n",
       "    <tr>\n",
       "      <th>15</th>\n",
       "      <td>duluth / superior</td>\n",
       "      <td>10995</td>\n",
       "      <td>2011.0</td>\n",
       "      <td>chevrolet</td>\n",
       "      <td>silverado 1500</td>\n",
       "      <td>0</td>\n",
       "      <td>208016.0</td>\n",
       "      <td>clean</td>\n",
       "      <td>0</td>\n",
       "      <td>mn</td>\n",
       "      <td>-1</td>\n",
       "    </tr>\n",
       "    <tr>\n",
       "      <th>22</th>\n",
       "      <td>duluth / superior</td>\n",
       "      <td>7500</td>\n",
       "      <td>2009.0</td>\n",
       "      <td>ford</td>\n",
       "      <td>f-150</td>\n",
       "      <td>0</td>\n",
       "      <td>271000.0</td>\n",
       "      <td>clean</td>\n",
       "      <td>0</td>\n",
       "      <td>mn</td>\n",
       "      <td>-1</td>\n",
       "    </tr>\n",
       "    <tr>\n",
       "      <th>28</th>\n",
       "      <td>albuquerque</td>\n",
       "      <td>9900</td>\n",
       "      <td>2003.0</td>\n",
       "      <td>chevrolet</td>\n",
       "      <td>silverado</td>\n",
       "      <td>1</td>\n",
       "      <td>299000.0</td>\n",
       "      <td>clean</td>\n",
       "      <td>0</td>\n",
       "      <td>nm</td>\n",
       "      <td>-1</td>\n",
       "    </tr>\n",
       "    <tr>\n",
       "      <th>...</th>\n",
       "      <td>...</td>\n",
       "      <td>...</td>\n",
       "      <td>...</td>\n",
       "      <td>...</td>\n",
       "      <td>...</td>\n",
       "      <td>...</td>\n",
       "      <td>...</td>\n",
       "      <td>...</td>\n",
       "      <td>...</td>\n",
       "      <td>...</td>\n",
       "      <td>...</td>\n",
       "    </tr>\n",
       "    <tr>\n",
       "      <th>3898</th>\n",
       "      <td>albuquerque</td>\n",
       "      <td>42310</td>\n",
       "      <td>2020.0</td>\n",
       "      <td>jeep</td>\n",
       "      <td>gladiator</td>\n",
       "      <td>0</td>\n",
       "      <td>2400.0</td>\n",
       "      <td>clean</td>\n",
       "      <td>0</td>\n",
       "      <td>nm</td>\n",
       "      <td>-1</td>\n",
       "    </tr>\n",
       "    <tr>\n",
       "      <th>3940</th>\n",
       "      <td>albuquerque</td>\n",
       "      <td>6500</td>\n",
       "      <td>2014.0</td>\n",
       "      <td>toyota</td>\n",
       "      <td>s</td>\n",
       "      <td>0</td>\n",
       "      <td>119.0</td>\n",
       "      <td>salvage</td>\n",
       "      <td>0</td>\n",
       "      <td>nm</td>\n",
       "      <td>-1</td>\n",
       "    </tr>\n",
       "    <tr>\n",
       "      <th>3963</th>\n",
       "      <td>reno / tahoe</td>\n",
       "      <td>9995</td>\n",
       "      <td>2010.0</td>\n",
       "      <td>bmw</td>\n",
       "      <td>3 series</td>\n",
       "      <td>0</td>\n",
       "      <td>107538.0</td>\n",
       "      <td>clean</td>\n",
       "      <td>0</td>\n",
       "      <td>ca</td>\n",
       "      <td>-1</td>\n",
       "    </tr>\n",
       "    <tr>\n",
       "      <th>3970</th>\n",
       "      <td>reno / tahoe</td>\n",
       "      <td>27995</td>\n",
       "      <td>2009.0</td>\n",
       "      <td>ford</td>\n",
       "      <td>f-150</td>\n",
       "      <td>0</td>\n",
       "      <td>72110.0</td>\n",
       "      <td>clean</td>\n",
       "      <td>0</td>\n",
       "      <td>ca</td>\n",
       "      <td>-1</td>\n",
       "    </tr>\n",
       "    <tr>\n",
       "      <th>3997</th>\n",
       "      <td>reno / tahoe</td>\n",
       "      <td>19999</td>\n",
       "      <td>2017.0</td>\n",
       "      <td>subaru</td>\n",
       "      <td>forester</td>\n",
       "      <td>0</td>\n",
       "      <td>71000.0</td>\n",
       "      <td>clean</td>\n",
       "      <td>0</td>\n",
       "      <td>ca</td>\n",
       "      <td>-1</td>\n",
       "    </tr>\n",
       "  </tbody>\n",
       "</table>\n",
       "<p>366 rows × 11 columns</p>\n",
       "</div>"
      ],
      "text/plain": [
       "                 region  price    year manufacturer           model  fuel  \\\n",
       "1     duluth / superior   8750  2013.0      hyundai          sonata     0   \n",
       "9     duluth / superior  12995  2004.0          ram            2500     1   \n",
       "15    duluth / superior  10995  2011.0    chevrolet  silverado 1500     0   \n",
       "22    duluth / superior   7500  2009.0         ford           f-150     0   \n",
       "28          albuquerque   9900  2003.0    chevrolet       silverado     1   \n",
       "...                 ...    ...     ...          ...             ...   ...   \n",
       "3898        albuquerque  42310  2020.0         jeep       gladiator     0   \n",
       "3940        albuquerque   6500  2014.0       toyota               s     0   \n",
       "3963       reno / tahoe   9995  2010.0          bmw        3 series     0   \n",
       "3970       reno / tahoe  27995  2009.0         ford           f-150     0   \n",
       "3997       reno / tahoe  19999  2017.0       subaru        forester     0   \n",
       "\n",
       "      odometer title_status  transmission state  odometer_IO  \n",
       "1      90821.0        clean             0    mn           -1  \n",
       "9     309621.0        clean             0    mn           -1  \n",
       "15    208016.0        clean             0    mn           -1  \n",
       "22    271000.0        clean             0    mn           -1  \n",
       "28    299000.0        clean             0    nm           -1  \n",
       "...        ...          ...           ...   ...          ...  \n",
       "3898    2400.0        clean             0    nm           -1  \n",
       "3940     119.0      salvage             0    nm           -1  \n",
       "3963  107538.0        clean             0    ca           -1  \n",
       "3970   72110.0        clean             0    ca           -1  \n",
       "3997   71000.0        clean             0    ca           -1  \n",
       "\n",
       "[366 rows x 11 columns]"
      ]
     },
     "execution_count": 76,
     "metadata": {},
     "output_type": "execute_result"
    }
   ],
   "source": [
    "data32[data32.odometer_IO==-1]"
   ]
  },
  {
   "cell_type": "code",
   "execution_count": 77,
   "id": "f83860e9",
   "metadata": {},
   "outputs": [],
   "source": [
    "data32[\"LOF\"] = -lout.negative_outlier_factor_ # #保存离群因子"
   ]
  },
  {
   "cell_type": "code",
   "execution_count": 78,
   "id": "022d94ac",
   "metadata": {},
   "outputs": [
    {
     "data": {
      "text/html": [
       "<div>\n",
       "<style scoped>\n",
       "    .dataframe tbody tr th:only-of-type {\n",
       "        vertical-align: middle;\n",
       "    }\n",
       "\n",
       "    .dataframe tbody tr th {\n",
       "        vertical-align: top;\n",
       "    }\n",
       "\n",
       "    .dataframe thead th {\n",
       "        text-align: right;\n",
       "    }\n",
       "</style>\n",
       "<table border=\"1\" class=\"dataframe\">\n",
       "  <thead>\n",
       "    <tr style=\"text-align: right;\">\n",
       "      <th></th>\n",
       "      <th>LOF</th>\n",
       "      <th>odometer</th>\n",
       "      <th>odometer_IO</th>\n",
       "    </tr>\n",
       "  </thead>\n",
       "  <tbody>\n",
       "    <tr>\n",
       "      <th>3934</th>\n",
       "      <td>1.000814</td>\n",
       "      <td>136201.0</td>\n",
       "      <td>1</td>\n",
       "    </tr>\n",
       "    <tr>\n",
       "      <th>3482</th>\n",
       "      <td>1.029793</td>\n",
       "      <td>31372.0</td>\n",
       "      <td>1</td>\n",
       "    </tr>\n",
       "    <tr>\n",
       "      <th>878</th>\n",
       "      <td>1.105978</td>\n",
       "      <td>88652.0</td>\n",
       "      <td>-1</td>\n",
       "    </tr>\n",
       "    <tr>\n",
       "      <th>1405</th>\n",
       "      <td>1.020652</td>\n",
       "      <td>256000.0</td>\n",
       "      <td>1</td>\n",
       "    </tr>\n",
       "    <tr>\n",
       "      <th>3507</th>\n",
       "      <td>1.046536</td>\n",
       "      <td>31157.0</td>\n",
       "      <td>1</td>\n",
       "    </tr>\n",
       "    <tr>\n",
       "      <th>2992</th>\n",
       "      <td>1.023126</td>\n",
       "      <td>201457.0</td>\n",
       "      <td>1</td>\n",
       "    </tr>\n",
       "    <tr>\n",
       "      <th>1869</th>\n",
       "      <td>1.718786</td>\n",
       "      <td>90719.0</td>\n",
       "      <td>-1</td>\n",
       "    </tr>\n",
       "    <tr>\n",
       "      <th>1771</th>\n",
       "      <td>1.035179</td>\n",
       "      <td>59504.0</td>\n",
       "      <td>1</td>\n",
       "    </tr>\n",
       "    <tr>\n",
       "      <th>1897</th>\n",
       "      <td>1.030748</td>\n",
       "      <td>103950.0</td>\n",
       "      <td>1</td>\n",
       "    </tr>\n",
       "    <tr>\n",
       "      <th>1406</th>\n",
       "      <td>1.040236</td>\n",
       "      <td>136602.0</td>\n",
       "      <td>1</td>\n",
       "    </tr>\n",
       "  </tbody>\n",
       "</table>\n",
       "</div>"
      ],
      "text/plain": [
       "           LOF  odometer  odometer_IO\n",
       "3934  1.000814  136201.0            1\n",
       "3482  1.029793   31372.0            1\n",
       "878   1.105978   88652.0           -1\n",
       "1405  1.020652  256000.0            1\n",
       "3507  1.046536   31157.0            1\n",
       "2992  1.023126  201457.0            1\n",
       "1869  1.718786   90719.0           -1\n",
       "1771  1.035179   59504.0            1\n",
       "1897  1.030748  103950.0            1\n",
       "1406  1.040236  136602.0            1"
      ]
     },
     "execution_count": 78,
     "metadata": {},
     "output_type": "execute_result"
    }
   ],
   "source": [
    "data32[[\"LOF\",\"odometer\",\"odometer_IO\"]][data32[\"LOF\"]>1].sample(10)"
   ]
  },
  {
   "cell_type": "code",
   "execution_count": 79,
   "id": "c7dd06fa",
   "metadata": {},
   "outputs": [],
   "source": [
    "# 删除LOF>1.5的所有行\n",
    "rows  = [x for x in data32.index if data32.loc[x]['LOF']>1.5]  \n",
    "data43 = data32.drop(rows, axis=0)"
   ]
  },
  {
   "cell_type": "code",
   "execution_count": 80,
   "id": "29d3dd50",
   "metadata": {},
   "outputs": [
    {
     "data": {
      "text/html": [
       "<div>\n",
       "<style scoped>\n",
       "    .dataframe tbody tr th:only-of-type {\n",
       "        vertical-align: middle;\n",
       "    }\n",
       "\n",
       "    .dataframe tbody tr th {\n",
       "        vertical-align: top;\n",
       "    }\n",
       "\n",
       "    .dataframe thead th {\n",
       "        text-align: right;\n",
       "    }\n",
       "</style>\n",
       "<table border=\"1\" class=\"dataframe\">\n",
       "  <thead>\n",
       "    <tr style=\"text-align: right;\">\n",
       "      <th></th>\n",
       "      <th>region</th>\n",
       "      <th>price</th>\n",
       "      <th>year</th>\n",
       "      <th>manufacturer</th>\n",
       "      <th>model</th>\n",
       "      <th>fuel</th>\n",
       "      <th>odometer</th>\n",
       "      <th>title_status</th>\n",
       "      <th>transmission</th>\n",
       "      <th>state</th>\n",
       "      <th>odometer_IO</th>\n",
       "      <th>LOF</th>\n",
       "    </tr>\n",
       "  </thead>\n",
       "  <tbody>\n",
       "    <tr>\n",
       "      <th>0</th>\n",
       "      <td>duluth / superior</td>\n",
       "      <td>6995</td>\n",
       "      <td>2000.0</td>\n",
       "      <td>gmc</td>\n",
       "      <td>new sierra 1500</td>\n",
       "      <td>0</td>\n",
       "      <td>167783.000000</td>\n",
       "      <td>clean</td>\n",
       "      <td>0</td>\n",
       "      <td>mn</td>\n",
       "      <td>1</td>\n",
       "      <td>0.983312</td>\n",
       "    </tr>\n",
       "    <tr>\n",
       "      <th>1</th>\n",
       "      <td>duluth / superior</td>\n",
       "      <td>8750</td>\n",
       "      <td>2013.0</td>\n",
       "      <td>hyundai</td>\n",
       "      <td>sonata</td>\n",
       "      <td>0</td>\n",
       "      <td>90821.000000</td>\n",
       "      <td>clean</td>\n",
       "      <td>0</td>\n",
       "      <td>mn</td>\n",
       "      <td>-1</td>\n",
       "      <td>1.379508</td>\n",
       "    </tr>\n",
       "    <tr>\n",
       "      <th>2</th>\n",
       "      <td>new haven</td>\n",
       "      <td>10900</td>\n",
       "      <td>2013.0</td>\n",
       "      <td>toyota</td>\n",
       "      <td>prius</td>\n",
       "      <td>3</td>\n",
       "      <td>92800.000000</td>\n",
       "      <td>clean</td>\n",
       "      <td>0</td>\n",
       "      <td>ct</td>\n",
       "      <td>1</td>\n",
       "      <td>0.969601</td>\n",
       "    </tr>\n",
       "    <tr>\n",
       "      <th>3</th>\n",
       "      <td>albuquerque</td>\n",
       "      <td>12500</td>\n",
       "      <td>2003.0</td>\n",
       "      <td>mitsubishi</td>\n",
       "      <td>lancer</td>\n",
       "      <td>0</td>\n",
       "      <td>89854.224815</td>\n",
       "      <td>clean</td>\n",
       "      <td>1</td>\n",
       "      <td>nm</td>\n",
       "      <td>1</td>\n",
       "      <td>1.000000</td>\n",
       "    </tr>\n",
       "    <tr>\n",
       "      <th>4</th>\n",
       "      <td>duluth / superior</td>\n",
       "      <td>16995</td>\n",
       "      <td>2007.0</td>\n",
       "      <td>gmc</td>\n",
       "      <td>sierra classic 2500hd</td>\n",
       "      <td>1</td>\n",
       "      <td>254217.000000</td>\n",
       "      <td>clean</td>\n",
       "      <td>0</td>\n",
       "      <td>mn</td>\n",
       "      <td>1</td>\n",
       "      <td>1.009017</td>\n",
       "    </tr>\n",
       "  </tbody>\n",
       "</table>\n",
       "</div>"
      ],
      "text/plain": [
       "              region  price    year manufacturer                  model  fuel  \\\n",
       "0  duluth / superior   6995  2000.0          gmc        new sierra 1500     0   \n",
       "1  duluth / superior   8750  2013.0      hyundai                 sonata     0   \n",
       "2          new haven  10900  2013.0       toyota                  prius     3   \n",
       "3        albuquerque  12500  2003.0   mitsubishi                 lancer     0   \n",
       "4  duluth / superior  16995  2007.0          gmc  sierra classic 2500hd     1   \n",
       "\n",
       "        odometer title_status  transmission state  odometer_IO       LOF  \n",
       "0  167783.000000        clean             0    mn            1  0.983312  \n",
       "1   90821.000000        clean             0    mn           -1  1.379508  \n",
       "2   92800.000000        clean             0    ct            1  0.969601  \n",
       "3   89854.224815        clean             1    nm            1  1.000000  \n",
       "4  254217.000000        clean             0    mn            1  1.009017  "
      ]
     },
     "execution_count": 80,
     "metadata": {},
     "output_type": "execute_result"
    }
   ],
   "source": [
    "data43.head()"
   ]
  },
  {
   "cell_type": "code",
   "execution_count": 81,
   "id": "ffbe17ea",
   "metadata": {},
   "outputs": [
    {
     "data": {
      "text/html": [
       "<div>\n",
       "<style scoped>\n",
       "    .dataframe tbody tr th:only-of-type {\n",
       "        vertical-align: middle;\n",
       "    }\n",
       "\n",
       "    .dataframe tbody tr th {\n",
       "        vertical-align: top;\n",
       "    }\n",
       "\n",
       "    .dataframe thead th {\n",
       "        text-align: right;\n",
       "    }\n",
       "</style>\n",
       "<table border=\"1\" class=\"dataframe\">\n",
       "  <thead>\n",
       "    <tr style=\"text-align: right;\">\n",
       "      <th></th>\n",
       "      <th>odometer</th>\n",
       "    </tr>\n",
       "  </thead>\n",
       "  <tbody>\n",
       "    <tr>\n",
       "      <th>count</th>\n",
       "      <td>3894.000000</td>\n",
       "    </tr>\n",
       "    <tr>\n",
       "      <th>mean</th>\n",
       "      <td>87931.376030</td>\n",
       "    </tr>\n",
       "    <tr>\n",
       "      <th>std</th>\n",
       "      <td>54787.929353</td>\n",
       "    </tr>\n",
       "    <tr>\n",
       "      <th>min</th>\n",
       "      <td>0.000000</td>\n",
       "    </tr>\n",
       "    <tr>\n",
       "      <th>25%</th>\n",
       "      <td>43445.000000</td>\n",
       "    </tr>\n",
       "    <tr>\n",
       "      <th>50%</th>\n",
       "      <td>89854.224815</td>\n",
       "    </tr>\n",
       "    <tr>\n",
       "      <th>75%</th>\n",
       "      <td>117992.250000</td>\n",
       "    </tr>\n",
       "    <tr>\n",
       "      <th>max</th>\n",
       "      <td>277000.000000</td>\n",
       "    </tr>\n",
       "  </tbody>\n",
       "</table>\n",
       "</div>"
      ],
      "text/plain": [
       "            odometer\n",
       "count    3894.000000\n",
       "mean    87931.376030\n",
       "std     54787.929353\n",
       "min         0.000000\n",
       "25%     43445.000000\n",
       "50%     89854.224815\n",
       "75%    117992.250000\n",
       "max    277000.000000"
      ]
     },
     "execution_count": 81,
     "metadata": {},
     "output_type": "execute_result"
    }
   ],
   "source": [
    "data43[['odometer']].describe()"
   ]
  },
  {
   "cell_type": "code",
   "execution_count": 82,
   "id": "05b47dfb",
   "metadata": {},
   "outputs": [],
   "source": [
    "data43.drop(columns=['odometer_IO','LOF'],inplace=True)"
   ]
  },
  {
   "cell_type": "code",
   "execution_count": 83,
   "id": "20ee10db",
   "metadata": {
    "scrolled": false
   },
   "outputs": [
    {
     "data": {
      "text/html": [
       "<div>\n",
       "<style scoped>\n",
       "    .dataframe tbody tr th:only-of-type {\n",
       "        vertical-align: middle;\n",
       "    }\n",
       "\n",
       "    .dataframe tbody tr th {\n",
       "        vertical-align: top;\n",
       "    }\n",
       "\n",
       "    .dataframe thead th {\n",
       "        text-align: right;\n",
       "    }\n",
       "</style>\n",
       "<table border=\"1\" class=\"dataframe\">\n",
       "  <thead>\n",
       "    <tr style=\"text-align: right;\">\n",
       "      <th></th>\n",
       "      <th>region</th>\n",
       "      <th>price</th>\n",
       "      <th>year</th>\n",
       "      <th>manufacturer</th>\n",
       "      <th>model</th>\n",
       "      <th>fuel</th>\n",
       "      <th>odometer</th>\n",
       "      <th>title_status</th>\n",
       "      <th>transmission</th>\n",
       "      <th>state</th>\n",
       "    </tr>\n",
       "  </thead>\n",
       "  <tbody>\n",
       "    <tr>\n",
       "      <th>0</th>\n",
       "      <td>duluth / superior</td>\n",
       "      <td>6995</td>\n",
       "      <td>2000.0</td>\n",
       "      <td>gmc</td>\n",
       "      <td>new sierra 1500</td>\n",
       "      <td>0</td>\n",
       "      <td>167783.000000</td>\n",
       "      <td>clean</td>\n",
       "      <td>0</td>\n",
       "      <td>mn</td>\n",
       "    </tr>\n",
       "    <tr>\n",
       "      <th>1</th>\n",
       "      <td>duluth / superior</td>\n",
       "      <td>8750</td>\n",
       "      <td>2013.0</td>\n",
       "      <td>hyundai</td>\n",
       "      <td>sonata</td>\n",
       "      <td>0</td>\n",
       "      <td>90821.000000</td>\n",
       "      <td>clean</td>\n",
       "      <td>0</td>\n",
       "      <td>mn</td>\n",
       "    </tr>\n",
       "    <tr>\n",
       "      <th>2</th>\n",
       "      <td>new haven</td>\n",
       "      <td>10900</td>\n",
       "      <td>2013.0</td>\n",
       "      <td>toyota</td>\n",
       "      <td>prius</td>\n",
       "      <td>3</td>\n",
       "      <td>92800.000000</td>\n",
       "      <td>clean</td>\n",
       "      <td>0</td>\n",
       "      <td>ct</td>\n",
       "    </tr>\n",
       "    <tr>\n",
       "      <th>3</th>\n",
       "      <td>albuquerque</td>\n",
       "      <td>12500</td>\n",
       "      <td>2003.0</td>\n",
       "      <td>mitsubishi</td>\n",
       "      <td>lancer</td>\n",
       "      <td>0</td>\n",
       "      <td>89854.224815</td>\n",
       "      <td>clean</td>\n",
       "      <td>1</td>\n",
       "      <td>nm</td>\n",
       "    </tr>\n",
       "    <tr>\n",
       "      <th>4</th>\n",
       "      <td>duluth / superior</td>\n",
       "      <td>16995</td>\n",
       "      <td>2007.0</td>\n",
       "      <td>gmc</td>\n",
       "      <td>sierra classic 2500hd</td>\n",
       "      <td>1</td>\n",
       "      <td>254217.000000</td>\n",
       "      <td>clean</td>\n",
       "      <td>0</td>\n",
       "      <td>mn</td>\n",
       "    </tr>\n",
       "  </tbody>\n",
       "</table>\n",
       "</div>"
      ],
      "text/plain": [
       "              region  price    year manufacturer                  model  fuel  \\\n",
       "0  duluth / superior   6995  2000.0          gmc        new sierra 1500     0   \n",
       "1  duluth / superior   8750  2013.0      hyundai                 sonata     0   \n",
       "2          new haven  10900  2013.0       toyota                  prius     3   \n",
       "3        albuquerque  12500  2003.0   mitsubishi                 lancer     0   \n",
       "4  duluth / superior  16995  2007.0          gmc  sierra classic 2500hd     1   \n",
       "\n",
       "        odometer title_status  transmission state  \n",
       "0  167783.000000        clean             0    mn  \n",
       "1   90821.000000        clean             0    mn  \n",
       "2   92800.000000        clean             0    ct  \n",
       "3   89854.224815        clean             1    nm  \n",
       "4  254217.000000        clean             0    mn  "
      ]
     },
     "execution_count": 83,
     "metadata": {},
     "output_type": "execute_result"
    }
   ],
   "source": [
    "data43.head()"
   ]
  },
  {
   "cell_type": "markdown",
   "id": "49086882",
   "metadata": {},
   "source": [
    "# 五、标准化"
   ]
  },
  {
   "cell_type": "markdown",
   "id": "280bccf3",
   "metadata": {},
   "source": [
    "**<font size='4'>5.1 Z分数标准化</font>**<br>"
   ]
  },
  {
   "cell_type": "code",
   "execution_count": 84,
   "id": "86a81eb7",
   "metadata": {},
   "outputs": [
    {
     "data": {
      "text/plain": [
       "StandardScaler()"
      ]
     },
     "execution_count": 84,
     "metadata": {},
     "output_type": "execute_result"
    }
   ],
   "source": [
    "from sklearn.preprocessing import StandardScaler\n",
    "std = StandardScaler(copy=True)\n",
    "std.fit(data42[['price']])"
   ]
  },
  {
   "cell_type": "code",
   "execution_count": 85,
   "id": "3b061db8",
   "metadata": {},
   "outputs": [
    {
     "data": {
      "text/plain": [
       "(array([14636.24612148]), array([1.39778246e+08]), array([11822.78501597]))"
      ]
     },
     "execution_count": 85,
     "metadata": {},
     "output_type": "execute_result"
    }
   ],
   "source": [
    "std.mean_,std.var_,std.scale_"
   ]
  },
  {
   "cell_type": "code",
   "execution_count": 86,
   "id": "08c260e4",
   "metadata": {},
   "outputs": [],
   "source": [
    "data42[[\"price_std\"]] = std.transform(data42[[\"price\"]])"
   ]
  },
  {
   "cell_type": "code",
   "execution_count": 87,
   "id": "7b1d7507",
   "metadata": {
    "scrolled": true
   },
   "outputs": [
    {
     "data": {
      "text/html": [
       "<div>\n",
       "<style scoped>\n",
       "    .dataframe tbody tr th:only-of-type {\n",
       "        vertical-align: middle;\n",
       "    }\n",
       "\n",
       "    .dataframe tbody tr th {\n",
       "        vertical-align: top;\n",
       "    }\n",
       "\n",
       "    .dataframe thead th {\n",
       "        text-align: right;\n",
       "    }\n",
       "</style>\n",
       "<table border=\"1\" class=\"dataframe\">\n",
       "  <thead>\n",
       "    <tr style=\"text-align: right;\">\n",
       "      <th></th>\n",
       "      <th>price</th>\n",
       "      <th>price_std</th>\n",
       "    </tr>\n",
       "  </thead>\n",
       "  <tbody>\n",
       "    <tr>\n",
       "      <th>0</th>\n",
       "      <td>6995</td>\n",
       "      <td>-0.646315</td>\n",
       "    </tr>\n",
       "    <tr>\n",
       "      <th>1</th>\n",
       "      <td>8750</td>\n",
       "      <td>-0.497873</td>\n",
       "    </tr>\n",
       "    <tr>\n",
       "      <th>2</th>\n",
       "      <td>10900</td>\n",
       "      <td>-0.316021</td>\n",
       "    </tr>\n",
       "    <tr>\n",
       "      <th>3</th>\n",
       "      <td>12500</td>\n",
       "      <td>-0.180689</td>\n",
       "    </tr>\n",
       "    <tr>\n",
       "      <th>4</th>\n",
       "      <td>16995</td>\n",
       "      <td>0.199509</td>\n",
       "    </tr>\n",
       "    <tr>\n",
       "      <th>5</th>\n",
       "      <td>13995</td>\n",
       "      <td>-0.054238</td>\n",
       "    </tr>\n",
       "    <tr>\n",
       "      <th>6</th>\n",
       "      <td>7995</td>\n",
       "      <td>-0.561733</td>\n",
       "    </tr>\n",
       "    <tr>\n",
       "      <th>7</th>\n",
       "      <td>8995</td>\n",
       "      <td>-0.477150</td>\n",
       "    </tr>\n",
       "    <tr>\n",
       "      <th>8</th>\n",
       "      <td>10995</td>\n",
       "      <td>-0.307985</td>\n",
       "    </tr>\n",
       "    <tr>\n",
       "      <th>9</th>\n",
       "      <td>12995</td>\n",
       "      <td>-0.138821</td>\n",
       "    </tr>\n",
       "    <tr>\n",
       "      <th>10</th>\n",
       "      <td>10995</td>\n",
       "      <td>-0.307985</td>\n",
       "    </tr>\n",
       "    <tr>\n",
       "      <th>11</th>\n",
       "      <td>12450</td>\n",
       "      <td>-0.184918</td>\n",
       "    </tr>\n",
       "    <tr>\n",
       "      <th>12</th>\n",
       "      <td>15995</td>\n",
       "      <td>0.114927</td>\n",
       "    </tr>\n",
       "    <tr>\n",
       "      <th>13</th>\n",
       "      <td>11995</td>\n",
       "      <td>-0.223403</td>\n",
       "    </tr>\n",
       "    <tr>\n",
       "      <th>14</th>\n",
       "      <td>10995</td>\n",
       "      <td>-0.307985</td>\n",
       "    </tr>\n",
       "  </tbody>\n",
       "</table>\n",
       "</div>"
      ],
      "text/plain": [
       "    price  price_std\n",
       "0    6995  -0.646315\n",
       "1    8750  -0.497873\n",
       "2   10900  -0.316021\n",
       "3   12500  -0.180689\n",
       "4   16995   0.199509\n",
       "5   13995  -0.054238\n",
       "6    7995  -0.561733\n",
       "7    8995  -0.477150\n",
       "8   10995  -0.307985\n",
       "9   12995  -0.138821\n",
       "10  10995  -0.307985\n",
       "11  12450  -0.184918\n",
       "12  15995   0.114927\n",
       "13  11995  -0.223403\n",
       "14  10995  -0.307985"
      ]
     },
     "execution_count": 87,
     "metadata": {},
     "output_type": "execute_result"
    }
   ],
   "source": [
    "data42[['price','price_std']].head(15)"
   ]
  },
  {
   "cell_type": "code",
   "execution_count": 88,
   "id": "d4a45047",
   "metadata": {},
   "outputs": [],
   "source": [
    "price = list(data42.price.values)\n",
    "price_std = list(data42.price_std.values)"
   ]
  },
  {
   "cell_type": "code",
   "execution_count": 89,
   "id": "a75f40eb",
   "metadata": {},
   "outputs": [
    {
     "data": {
      "text/plain": [
       "(array([385., 266., 314., 377., 321., 234., 180., 237., 223., 186., 157.,\n",
       "        129.,  69., 104.,  79.,  90.,  59.,  50.,  52.,  59.,  69.,  27.,\n",
       "         58.,  38.,  40.]),\n",
       " array([-1.2379694 , -1.07557112, -0.91317284, -0.75077455, -0.58837627,\n",
       "        -0.42597798, -0.2635797 , -0.10118142,  0.06121687,  0.22361515,\n",
       "         0.38601344,  0.54841172,  0.71081001,  0.87320829,  1.03560657,\n",
       "         1.19800486,  1.36040314,  1.52280143,  1.68519971,  1.84759799,\n",
       "         2.00999628,  2.17239456,  2.33479285,  2.49719113,  2.65958941,\n",
       "         2.8219877 ]),\n",
       " <BarContainer object of 25 artists>)"
      ]
     },
     "execution_count": 89,
     "metadata": {},
     "output_type": "execute_result"
    },
    {
     "data": {
      "image/png": "[encoded data removed]",
      "text/plain": [
       "<Figure size 720x360 with 2 Axes>"
      ]
     },
     "metadata": {
      "needs_background": "light"
     },
     "output_type": "display_data"
    }
   ],
   "source": [
    "plt.figure(figsize=(10,5))\n",
    "plt.subplot(211)\n",
    "plt.hist(x=price,bins=25,rwidth=0.7) # 未标准化的price数量分布\n",
    "plt.subplot(212)\n",
    "plt.hist(x=price_std,bins=25,rwidth=0.7) # 标准化后price数量分布"
   ]
  },
  {
   "cell_type": "code",
   "execution_count": 90,
   "id": "1d79b412",
   "metadata": {},
   "outputs": [
    {
     "data": {
      "text/plain": [
       "<AxesSubplot:ylabel='Density'>"
      ]
     },
     "execution_count": 90,
     "metadata": {},
     "output_type": "execute_result"
    },
    {
     "data": {
      "image/png": "[encoded data removed]",
      "text/plain": [
       "<Figure size 720x360 with 2 Axes>"
      ]
     },
     "metadata": {
      "needs_background": "light"
     },
     "output_type": "display_data"
    }
   ],
   "source": [
    "import seaborn as sns\n",
    "plt.figure(figsize=(10,5))\n",
    "plt.subplot(211)\n",
    "sns.distplot(price) # 未标准化的price数量分布\n",
    "plt.subplot(212)\n",
    "sns.distplot(price_std) # 标准化后price数量分布"
   ]
  },
  {
   "cell_type": "markdown",
   "id": "fda3ced6",
   "metadata": {},
   "source": [
    "**<font size='4'>5.2 MinMaxScaler标准化</font>**<br>"
   ]
  },
  {
   "cell_type": "code",
   "execution_count": 91,
   "id": "3f517756",
   "metadata": {},
   "outputs": [
    {
     "data": {
      "text/html": [
       "<div>\n",
       "<style scoped>\n",
       "    .dataframe tbody tr th:only-of-type {\n",
       "        vertical-align: middle;\n",
       "    }\n",
       "\n",
       "    .dataframe tbody tr th {\n",
       "        vertical-align: top;\n",
       "    }\n",
       "\n",
       "    .dataframe thead th {\n",
       "        text-align: right;\n",
       "    }\n",
       "</style>\n",
       "<table border=\"1\" class=\"dataframe\">\n",
       "  <thead>\n",
       "    <tr style=\"text-align: right;\">\n",
       "      <th></th>\n",
       "      <th>region</th>\n",
       "      <th>price</th>\n",
       "      <th>year</th>\n",
       "      <th>manufacturer</th>\n",
       "      <th>model</th>\n",
       "      <th>fuel</th>\n",
       "      <th>odometer</th>\n",
       "      <th>title_status</th>\n",
       "      <th>transmission</th>\n",
       "      <th>state</th>\n",
       "      <th>price_std</th>\n",
       "      <th>price_mm</th>\n",
       "    </tr>\n",
       "  </thead>\n",
       "  <tbody>\n",
       "    <tr>\n",
       "      <th>0</th>\n",
       "      <td>duluth / superior</td>\n",
       "      <td>6995</td>\n",
       "      <td>2000.0</td>\n",
       "      <td>gmc</td>\n",
       "      <td>new sierra 1500</td>\n",
       "      <td>0</td>\n",
       "      <td>167783.000000</td>\n",
       "      <td>clean</td>\n",
       "      <td>0</td>\n",
       "      <td>mn</td>\n",
       "      <td>-0.646315</td>\n",
       "      <td>0.145729</td>\n",
       "    </tr>\n",
       "    <tr>\n",
       "      <th>1</th>\n",
       "      <td>duluth / superior</td>\n",
       "      <td>8750</td>\n",
       "      <td>2013.0</td>\n",
       "      <td>hyundai</td>\n",
       "      <td>sonata</td>\n",
       "      <td>0</td>\n",
       "      <td>90821.000000</td>\n",
       "      <td>clean</td>\n",
       "      <td>0</td>\n",
       "      <td>mn</td>\n",
       "      <td>-0.497873</td>\n",
       "      <td>0.182292</td>\n",
       "    </tr>\n",
       "    <tr>\n",
       "      <th>2</th>\n",
       "      <td>new haven</td>\n",
       "      <td>10900</td>\n",
       "      <td>2013.0</td>\n",
       "      <td>toyota</td>\n",
       "      <td>prius</td>\n",
       "      <td>3</td>\n",
       "      <td>92800.000000</td>\n",
       "      <td>clean</td>\n",
       "      <td>0</td>\n",
       "      <td>ct</td>\n",
       "      <td>-0.316021</td>\n",
       "      <td>0.227083</td>\n",
       "    </tr>\n",
       "    <tr>\n",
       "      <th>3</th>\n",
       "      <td>albuquerque</td>\n",
       "      <td>12500</td>\n",
       "      <td>2003.0</td>\n",
       "      <td>mitsubishi</td>\n",
       "      <td>lancer</td>\n",
       "      <td>0</td>\n",
       "      <td>89854.224815</td>\n",
       "      <td>clean</td>\n",
       "      <td>1</td>\n",
       "      <td>nm</td>\n",
       "      <td>-0.180689</td>\n",
       "      <td>0.260417</td>\n",
       "    </tr>\n",
       "    <tr>\n",
       "      <th>4</th>\n",
       "      <td>duluth / superior</td>\n",
       "      <td>16995</td>\n",
       "      <td>2007.0</td>\n",
       "      <td>gmc</td>\n",
       "      <td>sierra classic 2500hd</td>\n",
       "      <td>1</td>\n",
       "      <td>254217.000000</td>\n",
       "      <td>clean</td>\n",
       "      <td>0</td>\n",
       "      <td>mn</td>\n",
       "      <td>0.199509</td>\n",
       "      <td>0.354063</td>\n",
       "    </tr>\n",
       "  </tbody>\n",
       "</table>\n",
       "</div>"
      ],
      "text/plain": [
       "              region  price    year manufacturer                  model  fuel  \\\n",
       "0  duluth / superior   6995  2000.0          gmc        new sierra 1500     0   \n",
       "1  duluth / superior   8750  2013.0      hyundai                 sonata     0   \n",
       "2          new haven  10900  2013.0       toyota                  prius     3   \n",
       "3        albuquerque  12500  2003.0   mitsubishi                 lancer     0   \n",
       "4  duluth / superior  16995  2007.0          gmc  sierra classic 2500hd     1   \n",
       "\n",
       "        odometer title_status  transmission state  price_std  price_mm  \n",
       "0  167783.000000        clean             0    mn  -0.646315  0.145729  \n",
       "1   90821.000000        clean             0    mn  -0.497873  0.182292  \n",
       "2   92800.000000        clean             0    ct  -0.316021  0.227083  \n",
       "3   89854.224815        clean             1    nm  -0.180689  0.260417  \n",
       "4  254217.000000        clean             0    mn   0.199509  0.354063  "
      ]
     },
     "execution_count": 91,
     "metadata": {},
     "output_type": "execute_result"
    }
   ],
   "source": [
    "from sklearn.preprocessing import MinMaxScaler\n",
    "mm = MinMaxScaler(copy=False)\n",
    "data42['price_mm']=mm.fit_transform(data42[['price']])\n",
    "data42.head()"
   ]
  },
  {
   "cell_type": "code",
   "execution_count": 92,
   "id": "ad41a6d6",
   "metadata": {},
   "outputs": [
    {
     "data": {
      "text/plain": [
       "(array([385., 266., 314., 377., 321., 234., 180., 237., 223., 186., 157.,\n",
       "        129.,  69., 104.,  79.,  90.,  59.,  50.,  52.,  59.,  69.,  27.,\n",
       "         58.,  38.,  40.]),\n",
       " array([0.  , 0.04, 0.08, 0.12, 0.16, 0.2 , 0.24, 0.28, 0.32, 0.36, 0.4 ,\n",
       "        0.44, 0.48, 0.52, 0.56, 0.6 , 0.64, 0.68, 0.72, 0.76, 0.8 , 0.84,\n",
       "        0.88, 0.92, 0.96, 1.  ]),\n",
       " <BarContainer object of 25 artists>)"
      ]
     },
     "execution_count": 92,
     "metadata": {},
     "output_type": "execute_result"
    },
    {
     "data": {
      "image/png": "[encoded data removed]",
      "text/plain": [
       "<Figure size 720x360 with 2 Axes>"
      ]
     },
     "metadata": {
      "needs_background": "light"
     },
     "output_type": "display_data"
    }
   ],
   "source": [
    "plt.figure(figsize=(10,5))\n",
    "plt.subplot(211)\n",
    "plt.hist(x=price,bins=25,rwidth=0.7) # 未标准化的price数量分布\n",
    "plt.subplot(212)\n",
    "price_mm = list(data42.price_mm.values)\n",
    "plt.hist(x=price_mm,bins=25,rwidth=0.7) # 标准化后price数量分布"
   ]
  },
  {
   "cell_type": "markdown",
   "id": "656c5a70",
   "metadata": {},
   "source": [
    "**<font size='4'>5.3 RobustScaler标准化</font>**<br>"
   ]
  },
  {
   "cell_type": "code",
   "execution_count": 93,
   "id": "f3f906a3",
   "metadata": {},
   "outputs": [
    {
     "data": {
      "text/html": [
       "<div>\n",
       "<style scoped>\n",
       "    .dataframe tbody tr th:only-of-type {\n",
       "        vertical-align: middle;\n",
       "    }\n",
       "\n",
       "    .dataframe tbody tr th {\n",
       "        vertical-align: top;\n",
       "    }\n",
       "\n",
       "    .dataframe thead th {\n",
       "        text-align: right;\n",
       "    }\n",
       "</style>\n",
       "<table border=\"1\" class=\"dataframe\">\n",
       "  <thead>\n",
       "    <tr style=\"text-align: right;\">\n",
       "      <th></th>\n",
       "      <th>region</th>\n",
       "      <th>price</th>\n",
       "      <th>year</th>\n",
       "      <th>manufacturer</th>\n",
       "      <th>model</th>\n",
       "      <th>fuel</th>\n",
       "      <th>odometer</th>\n",
       "      <th>title_status</th>\n",
       "      <th>transmission</th>\n",
       "      <th>state</th>\n",
       "      <th>price_std</th>\n",
       "      <th>price_mm</th>\n",
       "      <th>price_rob</th>\n",
       "    </tr>\n",
       "  </thead>\n",
       "  <tbody>\n",
       "    <tr>\n",
       "      <th>0</th>\n",
       "      <td>duluth / superior</td>\n",
       "      <td>6995</td>\n",
       "      <td>2000.0</td>\n",
       "      <td>gmc</td>\n",
       "      <td>new sierra 1500</td>\n",
       "      <td>0</td>\n",
       "      <td>167783.000000</td>\n",
       "      <td>clean</td>\n",
       "      <td>0</td>\n",
       "      <td>mn</td>\n",
       "      <td>-0.646315</td>\n",
       "      <td>0.145729</td>\n",
       "      <td>-0.307091</td>\n",
       "    </tr>\n",
       "    <tr>\n",
       "      <th>1</th>\n",
       "      <td>duluth / superior</td>\n",
       "      <td>8750</td>\n",
       "      <td>2013.0</td>\n",
       "      <td>hyundai</td>\n",
       "      <td>sonata</td>\n",
       "      <td>0</td>\n",
       "      <td>90821.000000</td>\n",
       "      <td>clean</td>\n",
       "      <td>0</td>\n",
       "      <td>mn</td>\n",
       "      <td>-0.497873</td>\n",
       "      <td>0.182292</td>\n",
       "      <td>-0.193748</td>\n",
       "    </tr>\n",
       "    <tr>\n",
       "      <th>2</th>\n",
       "      <td>new haven</td>\n",
       "      <td>10900</td>\n",
       "      <td>2013.0</td>\n",
       "      <td>toyota</td>\n",
       "      <td>prius</td>\n",
       "      <td>3</td>\n",
       "      <td>92800.000000</td>\n",
       "      <td>clean</td>\n",
       "      <td>0</td>\n",
       "      <td>ct</td>\n",
       "      <td>-0.316021</td>\n",
       "      <td>0.227083</td>\n",
       "      <td>-0.054895</td>\n",
       "    </tr>\n",
       "    <tr>\n",
       "      <th>3</th>\n",
       "      <td>albuquerque</td>\n",
       "      <td>12500</td>\n",
       "      <td>2003.0</td>\n",
       "      <td>mitsubishi</td>\n",
       "      <td>lancer</td>\n",
       "      <td>0</td>\n",
       "      <td>89854.224815</td>\n",
       "      <td>clean</td>\n",
       "      <td>1</td>\n",
       "      <td>nm</td>\n",
       "      <td>-0.180689</td>\n",
       "      <td>0.260417</td>\n",
       "      <td>0.048437</td>\n",
       "    </tr>\n",
       "    <tr>\n",
       "      <th>4</th>\n",
       "      <td>duluth / superior</td>\n",
       "      <td>16995</td>\n",
       "      <td>2007.0</td>\n",
       "      <td>gmc</td>\n",
       "      <td>sierra classic 2500hd</td>\n",
       "      <td>1</td>\n",
       "      <td>254217.000000</td>\n",
       "      <td>clean</td>\n",
       "      <td>0</td>\n",
       "      <td>mn</td>\n",
       "      <td>0.199509</td>\n",
       "      <td>0.354063</td>\n",
       "      <td>0.338737</td>\n",
       "    </tr>\n",
       "  </tbody>\n",
       "</table>\n",
       "</div>"
      ],
      "text/plain": [
       "              region  price    year manufacturer                  model  fuel  \\\n",
       "0  duluth / superior   6995  2000.0          gmc        new sierra 1500     0   \n",
       "1  duluth / superior   8750  2013.0      hyundai                 sonata     0   \n",
       "2          new haven  10900  2013.0       toyota                  prius     3   \n",
       "3        albuquerque  12500  2003.0   mitsubishi                 lancer     0   \n",
       "4  duluth / superior  16995  2007.0          gmc  sierra classic 2500hd     1   \n",
       "\n",
       "        odometer title_status  transmission state  price_std  price_mm  \\\n",
       "0  167783.000000        clean             0    mn  -0.646315  0.145729   \n",
       "1   90821.000000        clean             0    mn  -0.497873  0.182292   \n",
       "2   92800.000000        clean             0    ct  -0.316021  0.227083   \n",
       "3   89854.224815        clean             1    nm  -0.180689  0.260417   \n",
       "4  254217.000000        clean             0    mn   0.199509  0.354063   \n",
       "\n",
       "   price_rob  \n",
       "0  -0.307091  \n",
       "1  -0.193748  \n",
       "2  -0.054895  \n",
       "3   0.048437  \n",
       "4   0.338737  "
      ]
     },
     "execution_count": 93,
     "metadata": {},
     "output_type": "execute_result"
    }
   ],
   "source": [
    "from sklearn.preprocessing import RobustScaler\n",
    "rob = RobustScaler(\n",
    "with_centering=True, # 如果为True，则在标准化之前将数据居中\n",
    "with_scaling=True, # 如果为True，则将数据缩放到分位数范围\n",
    "quantile_range=(25.0, 75.0), # 用于计算scale_的分位数范围\n",
    "copy=True # 如果为False，请尝试避免复制并改为直接替换\n",
    ")\n",
    "\n",
    "data42['price_rob']=rob.fit_transform(data42[['price']])\n",
    "data42.head()"
   ]
  },
  {
   "cell_type": "code",
   "execution_count": 94,
   "id": "1253821d",
   "metadata": {},
   "outputs": [
    {
     "data": {
      "text/plain": [
       "(array([385., 266., 314., 377., 321., 234., 180., 237., 223., 186., 157.,\n",
       "        129.,  69., 104.,  79.,  90.,  59.,  50.,  52.,  59.,  69.,  27.,\n",
       "         58.,  38.,  40.]),\n",
       " array([-0.75884784, -0.63484888, -0.51084991, -0.38685094, -0.26285198,\n",
       "        -0.13885301, -0.01485404,  0.10914492,  0.23314389,  0.35714286,\n",
       "         0.48114182,  0.60514079,  0.72913976,  0.85313872,  0.97713769,\n",
       "         1.10113666,  1.22513562,  1.34913459,  1.47313356,  1.59713252,\n",
       "         1.72113149,  1.84513046,  1.96912942,  2.09312839,  2.21712736,\n",
       "         2.34112632]),\n",
       " <BarContainer object of 25 artists>)"
      ]
     },
     "execution_count": 94,
     "metadata": {},
     "output_type": "execute_result"
    },
    {
     "data": {
      "image/png": "[encoded data removed]",
      "text/plain": [
       "<Figure size 720x360 with 2 Axes>"
      ]
     },
     "metadata": {
      "needs_background": "light"
     },
     "output_type": "display_data"
    }
   ],
   "source": [
    "plt.figure(figsize=(10,5))\n",
    "plt.subplot(211)\n",
    "plt.hist(x=price,bins=25,rwidth=0.7) # 未标准化的price数量分布\n",
    "plt.subplot(212)\n",
    "price_rob = list(data42.price_rob.values)\n",
    "plt.hist(x=price_rob,bins=25,rwidth=0.7) # 标准化后price数量分布"
   ]
  },
  {
   "cell_type": "markdown",
   "id": "8d9ab634",
   "metadata": {},
   "source": [
    "# 六、离散化"
   ]
  },
  {
   "cell_type": "markdown",
   "id": "d21999f8",
   "metadata": {},
   "source": [
    "**<font size='4'>6.1 二值化</font>**<br>"
   ]
  },
  {
   "cell_type": "code",
   "execution_count": 95,
   "id": "ed02aa65",
   "metadata": {},
   "outputs": [
    {
     "data": {
      "text/html": [
       "<div>\n",
       "<style scoped>\n",
       "    .dataframe tbody tr th:only-of-type {\n",
       "        vertical-align: middle;\n",
       "    }\n",
       "\n",
       "    .dataframe tbody tr th {\n",
       "        vertical-align: top;\n",
       "    }\n",
       "\n",
       "    .dataframe thead th {\n",
       "        text-align: right;\n",
       "    }\n",
       "</style>\n",
       "<table border=\"1\" class=\"dataframe\">\n",
       "  <thead>\n",
       "    <tr style=\"text-align: right;\">\n",
       "      <th></th>\n",
       "      <th>price_Binarized</th>\n",
       "      <th>price</th>\n",
       "    </tr>\n",
       "  </thead>\n",
       "  <tbody>\n",
       "    <tr>\n",
       "      <th>0</th>\n",
       "      <td>1</td>\n",
       "      <td>6995</td>\n",
       "    </tr>\n",
       "    <tr>\n",
       "      <th>1</th>\n",
       "      <td>1</td>\n",
       "      <td>8750</td>\n",
       "    </tr>\n",
       "    <tr>\n",
       "      <th>2</th>\n",
       "      <td>1</td>\n",
       "      <td>10900</td>\n",
       "    </tr>\n",
       "    <tr>\n",
       "      <th>3</th>\n",
       "      <td>1</td>\n",
       "      <td>12500</td>\n",
       "    </tr>\n",
       "    <tr>\n",
       "      <th>4</th>\n",
       "      <td>1</td>\n",
       "      <td>16995</td>\n",
       "    </tr>\n",
       "  </tbody>\n",
       "</table>\n",
       "</div>"
      ],
      "text/plain": [
       "   price_Binarized  price\n",
       "0                1   6995\n",
       "1                1   8750\n",
       "2                1  10900\n",
       "3                1  12500\n",
       "4                1  16995"
      ]
     },
     "execution_count": 95,
     "metadata": {},
     "output_type": "execute_result"
    }
   ],
   "source": [
    "from sklearn.preprocessing import Binarizer\n",
    "#二值化，阈值设置为10，返回值为二值化后的数据\n",
    "Bir = Binarizer(threshold=1000)\n",
    "data61 = data42.copy()\n",
    "data61[\"price_Binarized\"] = Bir.fit_transform(data61[[\"price\"]])\n",
    "data61[[\"price_Binarized\",\"price\"]].head()"
   ]
  },
  {
   "cell_type": "code",
   "execution_count": 96,
   "id": "a947a191",
   "metadata": {},
   "outputs": [
    {
     "data": {
      "text/plain": [
       "1    3485\n",
       "0     318\n",
       "Name: price_Binarized, dtype: int64"
      ]
     },
     "execution_count": 96,
     "metadata": {},
     "output_type": "execute_result"
    }
   ],
   "source": [
    "data61.price_Binarized.value_counts()"
   ]
  },
  {
   "cell_type": "code",
   "execution_count": 97,
   "id": "ba29a353",
   "metadata": {},
   "outputs": [
    {
     "data": {
      "text/html": [
       "<div>\n",
       "<style scoped>\n",
       "    .dataframe tbody tr th:only-of-type {\n",
       "        vertical-align: middle;\n",
       "    }\n",
       "\n",
       "    .dataframe tbody tr th {\n",
       "        vertical-align: top;\n",
       "    }\n",
       "\n",
       "    .dataframe thead th {\n",
       "        text-align: right;\n",
       "    }\n",
       "</style>\n",
       "<table border=\"1\" class=\"dataframe\">\n",
       "  <thead>\n",
       "    <tr style=\"text-align: right;\">\n",
       "      <th></th>\n",
       "      <th>price_Binarized</th>\n",
       "      <th>price</th>\n",
       "    </tr>\n",
       "  </thead>\n",
       "  <tbody>\n",
       "    <tr>\n",
       "      <th>0</th>\n",
       "      <td>0</td>\n",
       "      <td>6995</td>\n",
       "    </tr>\n",
       "    <tr>\n",
       "      <th>1</th>\n",
       "      <td>0</td>\n",
       "      <td>8750</td>\n",
       "    </tr>\n",
       "    <tr>\n",
       "      <th>2</th>\n",
       "      <td>1</td>\n",
       "      <td>10900</td>\n",
       "    </tr>\n",
       "    <tr>\n",
       "      <th>3</th>\n",
       "      <td>1</td>\n",
       "      <td>12500</td>\n",
       "    </tr>\n",
       "    <tr>\n",
       "      <th>4</th>\n",
       "      <td>1</td>\n",
       "      <td>16995</td>\n",
       "    </tr>\n",
       "  </tbody>\n",
       "</table>\n",
       "</div>"
      ],
      "text/plain": [
       "   price_Binarized  price\n",
       "0                0   6995\n",
       "1                0   8750\n",
       "2                1  10900\n",
       "3                1  12500\n",
       "4                1  16995"
      ]
     },
     "execution_count": 97,
     "metadata": {},
     "output_type": "execute_result"
    }
   ],
   "source": [
    "from sklearn.preprocessing import Binarizer\n",
    "#二值化，阈值设置为10，返回值为二值化后的数据\n",
    "Bir = Binarizer(threshold=10000)\n",
    "data612 = data42.copy()\n",
    "data612[\"price_Binarized\"] = Bir.fit_transform(data612[[\"price\"]])\n",
    "data612[[\"price_Binarized\",\"price\"]].head()"
   ]
  },
  {
   "cell_type": "code",
   "execution_count": 98,
   "id": "516a05e2",
   "metadata": {},
   "outputs": [
    {
     "data": {
      "text/plain": [
       "1    2044\n",
       "0    1759\n",
       "Name: price_Binarized, dtype: int64"
      ]
     },
     "execution_count": 98,
     "metadata": {},
     "output_type": "execute_result"
    }
   ],
   "source": [
    "data612.price_Binarized.value_counts()"
   ]
  },
  {
   "cell_type": "markdown",
   "id": "e9d4b02f",
   "metadata": {},
   "source": [
    "**<font size='4'>6.2 等距离散化</font>**<br>"
   ]
  },
  {
   "cell_type": "code",
   "execution_count": 99,
   "id": "a0388648",
   "metadata": {},
   "outputs": [],
   "source": [
    "#等距离散化，各个类比依次命名Price_Number_Label_0...\n",
    "n=5\n",
    "d1 = pd.cut(data42[\"price\"], n, labels =[\"Price_Number_Label_\"+str(i) for i in range(n)])"
   ]
  },
  {
   "cell_type": "code",
   "execution_count": 100,
   "id": "e3276fc2",
   "metadata": {
    "scrolled": true
   },
   "outputs": [
    {
     "data": {
      "text/plain": [
       "Price_Number_Label_0    1663\n",
       "Price_Number_Label_1    1060\n",
       "Price_Number_Label_2     538\n",
       "Price_Number_Label_3     310\n",
       "Price_Number_Label_4     232\n",
       "Name: price, dtype: int64"
      ]
     },
     "execution_count": 100,
     "metadata": {},
     "output_type": "execute_result"
    }
   ],
   "source": [
    "d1.value_counts()"
   ]
  },
  {
   "cell_type": "code",
   "execution_count": 101,
   "id": "1320a416",
   "metadata": {},
   "outputs": [],
   "source": [
    "data62 = data42.copy()\n",
    "data62[\"price_cut\"] = pd.cut(data42[\"price\"], n, labels =[i for i in range(n)])"
   ]
  },
  {
   "cell_type": "code",
   "execution_count": 102,
   "id": "3b8429da",
   "metadata": {},
   "outputs": [
    {
     "data": {
      "text/plain": [
       "0    1663\n",
       "1    1060\n",
       "2     538\n",
       "3     310\n",
       "4     232\n",
       "Name: price_cut, dtype: int64"
      ]
     },
     "execution_count": 102,
     "metadata": {},
     "output_type": "execute_result"
    }
   ],
   "source": [
    "data62[\"price_cut\"].value_counts()"
   ]
  },
  {
   "cell_type": "markdown",
   "id": "eec05a23",
   "metadata": {},
   "source": [
    "**<font size='4'>6.3 等频离散化</font>**<br>"
   ]
  },
  {
   "cell_type": "code",
   "execution_count": 103,
   "id": "2dce26eb",
   "metadata": {},
   "outputs": [],
   "source": [
    "n=10\n",
    "d2 = pd.qcut(data42[\"price\"], n, labels =[\"Price_Number_Label_\"+str(i) for i in range(n)])"
   ]
  },
  {
   "cell_type": "code",
   "execution_count": 104,
   "id": "3571ed6b",
   "metadata": {},
   "outputs": [
    {
     "data": {
      "text/plain": [
       "Price_Number_Label_1    399\n",
       "Price_Number_Label_5    393\n",
       "Price_Number_Label_7    386\n",
       "Price_Number_Label_0    385\n",
       "Price_Number_Label_4    381\n",
       "Price_Number_Label_9    380\n",
       "Price_Number_Label_3    375\n",
       "Price_Number_Label_8    374\n",
       "Price_Number_Label_6    368\n",
       "Price_Number_Label_2    362\n",
       "Name: price, dtype: int64"
      ]
     },
     "execution_count": 104,
     "metadata": {},
     "output_type": "execute_result"
    }
   ],
   "source": [
    "d2.value_counts()"
   ]
  },
  {
   "cell_type": "code",
   "execution_count": 105,
   "id": "e43a1173",
   "metadata": {},
   "outputs": [],
   "source": [
    "data63 = data42.copy()\n",
    "data63[\"price_qcut\"] = pd.cut(data42[\"price\"], n, labels =[i for i in range(n)])"
   ]
  },
  {
   "cell_type": "code",
   "execution_count": 106,
   "id": "1c4096b6",
   "metadata": {},
   "outputs": [
    {
     "data": {
      "text/plain": [
       "1    855\n",
       "0    808\n",
       "3    549\n",
       "2    511\n",
       "4    334\n",
       "5    204\n",
       "6    173\n",
       "7    137\n",
       "8    131\n",
       "9    101\n",
       "Name: price_qcut, dtype: int64"
      ]
     },
     "execution_count": 106,
     "metadata": {},
     "output_type": "execute_result"
    }
   ],
   "source": [
    "data63[\"price_qcut\"].value_counts()"
   ]
  },
  {
   "cell_type": "markdown",
   "id": "17e77684",
   "metadata": {},
   "source": [
    "**<font size='4'>6.4 K-means离散化</font>**<br>"
   ]
  },
  {
   "cell_type": "code",
   "execution_count": 107,
   "id": "37c401cd",
   "metadata": {
    "scrolled": true
   },
   "outputs": [],
   "source": [
    "data64 = data42[['price']].copy().dropna()\n",
    "n = 4\n",
    "from sklearn.cluster import KMeans\n",
    "kmodel = KMeans(n_clusters = n) # 实例化\n",
    "kmodel.fit(data64) # fit模型\n",
    "center_ = pd.DataFrame(kmodel.cluster_centers_).sort_values(0)  # 输出聚类中心，并排序(按“0”特征升序)\n",
    "l_ = center_.rolling(2).mean().iloc[1:] # 移动平均求相邻两项中点，作为分界点\n",
    "l_ = [data64.min()[0]] + list(l_[0]) + [data64.max()[0]] # 附加边界点"
   ]
  },
  {
   "cell_type": "code",
   "execution_count": 108,
   "id": "296024a1",
   "metadata": {},
   "outputs": [
    {
     "data": {
      "text/plain": [
       "[0, 10120.048159090915, 20624.936960241423, 32951.51575438629, 48000]"
      ]
     },
     "execution_count": 108,
     "metadata": {},
     "output_type": "execute_result"
    }
   ],
   "source": [
    "l_"
   ]
  },
  {
   "cell_type": "code",
   "execution_count": 109,
   "id": "ae65b433",
   "metadata": {},
   "outputs": [],
   "source": [
    "data64[\"kmeans\"] = kmodel.predict(data64)"
   ]
  },
  {
   "cell_type": "code",
   "execution_count": 110,
   "id": "6f00af90",
   "metadata": {},
   "outputs": [
    {
     "data": {
      "text/plain": [
       "1    1759\n",
       "2    1081\n",
       "3     572\n",
       "0     391\n",
       "Name: kmeans, dtype: int64"
      ]
     },
     "execution_count": 110,
     "metadata": {},
     "output_type": "execute_result"
    }
   ],
   "source": [
    "data64.kmeans.value_counts()"
   ]
  },
  {
   "cell_type": "code",
   "execution_count": 111,
   "id": "447f000a",
   "metadata": {},
   "outputs": [],
   "source": [
    "d3 = pd.cut(data64.iloc[:,0], l_, labels =  ['price_0','price_1','price_2','price_3'],include_lowest=True) \n",
    "# include_lowest=True表示包含边界最小值包含数据的最小值"
   ]
  },
  {
   "cell_type": "code",
   "execution_count": 112,
   "id": "6e45f05d",
   "metadata": {
    "scrolled": true
   },
   "outputs": [
    {
     "data": {
      "text/plain": [
       "price_0    1759\n",
       "price_1    1081\n",
       "price_2     572\n",
       "price_3     391\n",
       "Name: price, dtype: int64"
      ]
     },
     "execution_count": 112,
     "metadata": {},
     "output_type": "execute_result"
    }
   ],
   "source": [
    "d3.value_counts()"
   ]
  },
  {
   "cell_type": "code",
   "execution_count": 113,
   "id": "7308ffde",
   "metadata": {},
   "outputs": [],
   "source": [
    "d3 = pd.DataFrame(d3)"
   ]
  },
  {
   "cell_type": "code",
   "execution_count": 114,
   "id": "c747e91e",
   "metadata": {},
   "outputs": [
    {
     "data": {
      "text/plain": [
       "([<matplotlib.axis.XTick at 0x1ba43b80a00>,\n",
       "  <matplotlib.axis.XTick at 0x1ba43b809d0>,\n",
       "  <matplotlib.axis.XTick at 0x1ba43b78dc0>,\n",
       "  <matplotlib.axis.XTick at 0x1ba444b4910>],\n",
       " [Text(0, 0, 'price_0'),\n",
       "  Text(1, 0, 'price_1'),\n",
       "  Text(2, 0, 'price_2'),\n",
       "  Text(3, 0, 'price_3')])"
      ]
     },
     "execution_count": 114,
     "metadata": {},
     "output_type": "execute_result"
    },
    {
     "data": {
      "image/png": "[encoded data removed]",
      "text/plain": [
       "<Figure size 432x288 with 1 Axes>"
      ]
     },
     "metadata": {
      "needs_background": "light"
     },
     "output_type": "display_data"
    }
   ],
   "source": [
    "plt.bar(range(4),d3.value_counts().values)\n",
    "plt.xticks(range(4),['price_0','price_1','price_2','price_3'])"
   ]
  },
  {
   "cell_type": "code",
   "execution_count": null,
   "id": "763c6eb8",
   "metadata": {},
   "outputs": [],
   "source": []
  }
 ],
 "metadata": {
  "kernelspec": {
   "display_name": "Python 3 (ipykernel)",
   "language": "python",
   "name": "python3"
  },
  "language_info": {
   "codemirror_mode": {
    "name": "ipython",
    "version": 3
   },
   "file_extension": ".py",
   "mimetype": "text/x-python",
   "name": "python",
   "nbconvert_exporter": "python",
   "pygments_lexer": "ipython3",
   "version": "3.9.7"
  }
 },
 "nbformat": 4,
 "nbformat_minor": 5
}
