{
 "cells": [
  {
   "cell_type": "code",
   "execution_count": 1,
   "id": "2903b7da",
   "metadata": {},
   "outputs": [],
   "source": [
    "import pandas as pd\n"
   ]
  },
  {
   "cell_type": "code",
   "execution_count": 2,
   "id": "5d77c0fc",
   "metadata": {},
   "outputs": [],
   "source": [
    "# 读入数据\n",
    "data = pd.read_csv(\"./vehicles_4000.csv\")"
   ]
  },
  {
   "cell_type": "code",
   "execution_count": 3,
   "id": "cc2b734b",
   "metadata": {},
   "outputs": [
    {
     "name": "stdout",
     "output_type": "stream",
     "text": [
      "<class 'pandas.core.frame.DataFrame'>\n",
      "RangeIndex: 4000 entries, 0 to 3999\n",
      "Data columns (total 26 columns):\n",
      " #   Column        Non-Null Count  Dtype  \n",
      "---  ------        --------------  -----  \n",
      " 0   Unnamed: 0    4000 non-null   int64  \n",
      " 1   id            4000 non-null   int64  \n",
      " 2   url           4000 non-null   object \n",
      " 3   region        4000 non-null   object \n",
      " 4   region_url    4000 non-null   object \n",
      " 5   price         4000 non-null   int64  \n",
      " 6   year          3999 non-null   float64\n",
      " 7   manufacturer  3831 non-null   object \n",
      " 8   model         3946 non-null   object \n",
      " 9   condition     1995 non-null   object \n",
      " 10  cylinders     2331 non-null   object \n",
      " 11  fuel          3992 non-null   object \n",
      " 12  odometer      3385 non-null   float64\n",
      " 13  title_status  3990 non-null   object \n",
      " 14  transmission  3981 non-null   object \n",
      " 15  vin           2512 non-null   object \n",
      " 16  drive         2847 non-null   object \n",
      " 17  size          1052 non-null   object \n",
      " 18  type          3101 non-null   object \n",
      " 19  paint_color   2665 non-null   object \n",
      " 20  image_url     4000 non-null   object \n",
      " 21  description   4000 non-null   object \n",
      " 22  county        0 non-null      float64\n",
      " 23  state         4000 non-null   object \n",
      " 24  lat           3988 non-null   float64\n",
      " 25  long          3988 non-null   float64\n",
      "dtypes: float64(5), int64(3), object(18)\n",
      "memory usage: 812.6+ KB\n"
     ]
    }
   ],
   "source": [
    "# 查看数据信息\n",
    "data.info()\n",
    "# 第一是原始数据的索引\n",
    "# county 数据有问题"
   ]
  },
  {
   "cell_type": "code",
   "execution_count": 4,
   "id": "d1e0a494",
   "metadata": {},
   "outputs": [],
   "source": [
    "# 删除数据 axis=1，是列，当数据量不足80%的时候删除即空值大于20%，inplace 表示覆盖原表，如果为false的时候，则需要将其赋值\n",
    "data.dropna(axis = 1,thresh = int(len(data)*0.8),inplace=True)"
   ]
  },
  {
   "cell_type": "code",
   "execution_count": 5,
   "id": "842bc8eb",
   "metadata": {},
   "outputs": [
    {
     "name": "stdout",
     "output_type": "stream",
     "text": [
      "<class 'pandas.core.frame.DataFrame'>\n",
      "RangeIndex: 4000 entries, 0 to 3999\n",
      "Data columns (total 18 columns):\n",
      " #   Column        Non-Null Count  Dtype  \n",
      "---  ------        --------------  -----  \n",
      " 0   Unnamed: 0    4000 non-null   int64  \n",
      " 1   id            4000 non-null   int64  \n",
      " 2   url           4000 non-null   object \n",
      " 3   region        4000 non-null   object \n",
      " 4   region_url    4000 non-null   object \n",
      " 5   price         4000 non-null   int64  \n",
      " 6   year          3999 non-null   float64\n",
      " 7   manufacturer  3831 non-null   object \n",
      " 8   model         3946 non-null   object \n",
      " 9   fuel          3992 non-null   object \n",
      " 10  odometer      3385 non-null   float64\n",
      " 11  title_status  3990 non-null   object \n",
      " 12  transmission  3981 non-null   object \n",
      " 13  image_url     4000 non-null   object \n",
      " 14  description   4000 non-null   object \n",
      " 15  state         4000 non-null   object \n",
      " 16  lat           3988 non-null   float64\n",
      " 17  long          3988 non-null   float64\n",
      "dtypes: float64(4), int64(3), object(11)\n",
      "memory usage: 562.6+ KB\n"
     ]
    }
   ],
   "source": [
    "data.info()"
   ]
  },
  {
   "cell_type": "code",
   "execution_count": 6,
   "id": "eb32ae54",
   "metadata": {},
   "outputs": [
    {
     "data": {
      "text/plain": [
       "Index(['Unnamed: 0', 'id', 'url', 'region', 'region_url', 'price', 'year',\n",
       "       'manufacturer', 'model', 'fuel', 'odometer', 'title_status',\n",
       "       'transmission', 'image_url', 'description', 'state', 'lat', 'long'],\n",
       "      dtype='object')"
      ]
     },
     "execution_count": 6,
     "metadata": {},
     "output_type": "execute_result"
    }
   ],
   "source": [
    "data.columns"
   ]
  },
  {
   "cell_type": "code",
   "execution_count": 7,
   "id": "6a648dcd",
   "metadata": {},
   "outputs": [],
   "source": [
    "# 删除不需要的列\n",
    "data = data.drop([\"Unnamed: 0\",\"id\",\"url\",\"region_url\",\"image_url\"],axis=1)"
   ]
  },
  {
   "cell_type": "code",
   "execution_count": 8,
   "id": "ee8a9836",
   "metadata": {},
   "outputs": [
    {
     "name": "stdout",
     "output_type": "stream",
     "text": [
      "<class 'pandas.core.frame.DataFrame'>\n",
      "RangeIndex: 4000 entries, 0 to 3999\n",
      "Data columns (total 13 columns):\n",
      " #   Column        Non-Null Count  Dtype  \n",
      "---  ------        --------------  -----  \n",
      " 0   region        4000 non-null   object \n",
      " 1   price         4000 non-null   int64  \n",
      " 2   year          3999 non-null   float64\n",
      " 3   manufacturer  3831 non-null   object \n",
      " 4   model         3946 non-null   object \n",
      " 5   fuel          3992 non-null   object \n",
      " 6   odometer      3385 non-null   float64\n",
      " 7   title_status  3990 non-null   object \n",
      " 8   transmission  3981 non-null   object \n",
      " 9   description   4000 non-null   object \n",
      " 10  state         4000 non-null   object \n",
      " 11  lat           3988 non-null   float64\n",
      " 12  long          3988 non-null   float64\n",
      "dtypes: float64(4), int64(1), object(8)\n",
      "memory usage: 406.4+ KB\n"
     ]
    }
   ],
   "source": [
    "data.info()"
   ]
  },
  {
   "cell_type": "code",
   "execution_count": 9,
   "id": "39ff2e8e",
   "metadata": {},
   "outputs": [],
   "source": [
    "data_1 = data.fillna(\"ffill\")"
   ]
  },
  {
   "cell_type": "code",
   "execution_count": 10,
   "id": "098da5a6",
   "metadata": {},
   "outputs": [
    {
     "name": "stdout",
     "output_type": "stream",
     "text": [
      "<class 'pandas.core.frame.DataFrame'>\n",
      "RangeIndex: 4000 entries, 0 to 3999\n",
      "Data columns (total 13 columns):\n",
      " #   Column        Non-Null Count  Dtype \n",
      "---  ------        --------------  ----- \n",
      " 0   region        4000 non-null   object\n",
      " 1   price         4000 non-null   int64 \n",
      " 2   year          4000 non-null   object\n",
      " 3   manufacturer  4000 non-null   object\n",
      " 4   model         4000 non-null   object\n",
      " 5   fuel          4000 non-null   object\n",
      " 6   odometer      4000 non-null   object\n",
      " 7   title_status  4000 non-null   object\n",
      " 8   transmission  4000 non-null   object\n",
      " 9   description   4000 non-null   object\n",
      " 10  state         4000 non-null   object\n",
      " 11  lat           4000 non-null   object\n",
      " 12  long          4000 non-null   object\n",
      "dtypes: int64(1), object(12)\n",
      "memory usage: 406.4+ KB\n"
     ]
    }
   ],
   "source": [
    "data_1.info()"
   ]
  },
  {
   "cell_type": "code",
   "execution_count": 11,
   "id": "82a07fe1",
   "metadata": {},
   "outputs": [
    {
     "name": "stdout",
     "output_type": "stream",
     "text": [
      "<class 'pandas.core.frame.DataFrame'>\n",
      "RangeIndex: 4000 entries, 0 to 3999\n",
      "Data columns (total 13 columns):\n",
      " #   Column        Non-Null Count  Dtype  \n",
      "---  ------        --------------  -----  \n",
      " 0   region        4000 non-null   object \n",
      " 1   price         4000 non-null   int64  \n",
      " 2   year          3999 non-null   float64\n",
      " 3   manufacturer  3831 non-null   object \n",
      " 4   model         3946 non-null   object \n",
      " 5   fuel          3992 non-null   object \n",
      " 6   odometer      3385 non-null   float64\n",
      " 7   title_status  3990 non-null   object \n",
      " 8   transmission  3981 non-null   object \n",
      " 9   description   4000 non-null   object \n",
      " 10  state         4000 non-null   object \n",
      " 11  lat           3988 non-null   float64\n",
      " 12  long          3988 non-null   float64\n",
      "dtypes: float64(4), int64(1), object(8)\n",
      "memory usage: 406.4+ KB\n"
     ]
    }
   ],
   "source": [
    "data.info()"
   ]
  },
  {
   "cell_type": "code",
   "execution_count": 12,
   "id": "580323ee",
   "metadata": {},
   "outputs": [],
   "source": [
    "# 浮点数用众数来填充\n",
    "from sklearn.impute import SimpleImputer\n",
    "import numpy as np"
   ]
  },
  {
   "cell_type": "code",
   "execution_count": 13,
   "id": "1a2f3c54",
   "metadata": {},
   "outputs": [],
   "source": [
    "si_mean = SimpleImputer(missing_values=np.nan,strategy=\"mean\")"
   ]
  },
  {
   "cell_type": "code",
   "execution_count": 14,
   "id": "231abff2",
   "metadata": {},
   "outputs": [],
   "source": [
    "data[[\"price\",\"year\",\"odometer\",\"lat\",\"long\"]]=si_mean .fit_transform(data[[\"price\",\"year\",\"odometer\",\"lat\",\"long\"]])"
   ]
  },
  {
   "cell_type": "code",
   "execution_count": 15,
   "id": "ecdaf5f7",
   "metadata": {},
   "outputs": [],
   "source": [
    "si_most = SimpleImputer(missing_values=np.nan,strategy=\"most_frequent\")"
   ]
  },
  {
   "cell_type": "code",
   "execution_count": 16,
   "id": "7cda46d6",
   "metadata": {},
   "outputs": [],
   "source": [
    "data[[\"manufacturer\",\"model\",\"fuel\",\"title_status\",\"transmission\"]] = si_most.fit_transform(data[[\"manufacturer\",\"model\",\"fuel\",\"title_status\",\"transmission\"]])"
   ]
  },
  {
   "cell_type": "code",
   "execution_count": 17,
   "id": "ef64ace3",
   "metadata": {},
   "outputs": [
    {
     "name": "stdout",
     "output_type": "stream",
     "text": [
      "<class 'pandas.core.frame.DataFrame'>\n",
      "RangeIndex: 4000 entries, 0 to 3999\n",
      "Data columns (total 13 columns):\n",
      " #   Column        Non-Null Count  Dtype  \n",
      "---  ------        --------------  -----  \n",
      " 0   region        4000 non-null   object \n",
      " 1   price         4000 non-null   float64\n",
      " 2   year          4000 non-null   float64\n",
      " 3   manufacturer  4000 non-null   object \n",
      " 4   model         4000 non-null   object \n",
      " 5   fuel          4000 non-null   object \n",
      " 6   odometer      4000 non-null   float64\n",
      " 7   title_status  4000 non-null   object \n",
      " 8   transmission  4000 non-null   object \n",
      " 9   description   4000 non-null   object \n",
      " 10  state         4000 non-null   object \n",
      " 11  lat           4000 non-null   float64\n",
      " 12  long          4000 non-null   float64\n",
      "dtypes: float64(5), object(8)\n",
      "memory usage: 406.4+ KB\n"
     ]
    }
   ],
   "source": [
    "data.info()"
   ]
  },
  {
   "cell_type": "code",
   "execution_count": 18,
   "id": "58d289ed",
   "metadata": {},
   "outputs": [],
   "source": [
    "# 离群值检测处理\n",
    "# 均值和方差\n",
    "price_mean=data.price.mean()"
   ]
  },
  {
   "cell_type": "code",
   "execution_count": 19,
   "id": "c0c07c0f",
   "metadata": {},
   "outputs": [],
   "source": [
    "price_std = data.price.std()"
   ]
  },
  {
   "cell_type": "code",
   "execution_count": 20,
   "id": "6a74448b",
   "metadata": {},
   "outputs": [],
   "source": [
    "# 取中间的数据,去掉离群值\n",
    "data_z  =  data[data.price >= price_mean - 3*price_std] [data.price <= price_mean + 3*price_std]"
   ]
  },
  {
   "cell_type": "code",
   "execution_count": 21,
   "id": "6a342074",
   "metadata": {},
   "outputs": [],
   "source": [
    "# 描述数据集price，转置一下数据\n",
    "sst = data[[\"price\"]].describe().T"
   ]
  },
  {
   "cell_type": "code",
   "execution_count": 22,
   "id": "4f70e2ee",
   "metadata": {},
   "outputs": [],
   "source": [
    "IQR = sst[\"75%\"]-sst[\"25%\"]"
   ]
  },
  {
   "cell_type": "code",
   "execution_count": 23,
   "id": "aa51141f",
   "metadata": {},
   "outputs": [
    {
     "data": {
      "text/plain": [
       "price    17009.0\n",
       "dtype: float64"
      ]
     },
     "execution_count": 23,
     "metadata": {},
     "output_type": "execute_result"
    }
   ],
   "source": [
    "IQR"
   ]
  },
  {
   "cell_type": "code",
   "execution_count": 24,
   "id": "4c6d289b",
   "metadata": {},
   "outputs": [],
   "source": [
    "IQR=IQR[0]"
   ]
  },
  {
   "cell_type": "code",
   "execution_count": 25,
   "id": "76440d1e",
   "metadata": {},
   "outputs": [],
   "source": [
    "max = sst[\"50%\"][0]+1.5*IQR"
   ]
  },
  {
   "cell_type": "code",
   "execution_count": 26,
   "id": "5e2db4e9",
   "metadata": {},
   "outputs": [],
   "source": [
    "min = sst[\"50%\"][0]-1.5*IQR"
   ]
  },
  {
   "cell_type": "code",
   "execution_count": 27,
   "id": "5179874d",
   "metadata": {},
   "outputs": [
    {
     "data": {
      "text/plain": [
       "(17009.0, -13013.5, 38013.5)"
      ]
     },
     "execution_count": 27,
     "metadata": {},
     "output_type": "execute_result"
    }
   ],
   "source": [
    "IQR,min,max"
   ]
  },
  {
   "cell_type": "code",
   "execution_count": 28,
   "id": "7c19a9da",
   "metadata": {},
   "outputs": [],
   "source": [
    "data_MM = data[data[\"price\"]>min][data[\"price\"]<max]"
   ]
  },
  {
   "cell_type": "code",
   "execution_count": 29,
   "id": "906d3acf",
   "metadata": {},
   "outputs": [
    {
     "data": {
      "text/plain": [
       "<AxesSubplot:>"
      ]
     },
     "execution_count": 29,
     "metadata": {},
     "output_type": "execute_result"
    },
    {
     "data": {
      "image/png": "[encoded data removed]",
      "text/plain": [
       "<Figure size 432x288 with 1 Axes>"
      ]
     },
     "metadata": {
      "needs_background": "light"
     },
     "output_type": "display_data"
    }
   ],
   "source": [
    "data[[\"price\"]].plot(kind='box')"
   ]
  },
  {
   "cell_type": "code",
   "execution_count": 30,
   "id": "817d37e7",
   "metadata": {},
   "outputs": [
    {
     "data": {
      "text/plain": [
       "<AxesSubplot:>"
      ]
     },
     "execution_count": 30,
     "metadata": {},
     "output_type": "execute_result"
    },
    {
     "data": {
      "image/png": "[encoded data removed]",
      "text/plain": [
       "<Figure size 432x288 with 1 Axes>"
      ]
     },
     "metadata": {
      "needs_background": "light"
     },
     "output_type": "display_data"
    }
   ],
   "source": [
    "data_MM[[\"price\"]].plot(kind=\"box\")"
   ]
  },
  {
   "cell_type": "code",
   "execution_count": 31,
   "id": "6f9d5002",
   "metadata": {},
   "outputs": [],
   "source": [
    "#  离群因子"
   ]
  },
  {
   "cell_type": "code",
   "execution_count": 32,
   "id": "26dff73f",
   "metadata": {},
   "outputs": [],
   "source": [
    "from sklearn.preprocessing import RobustScaler\n",
    "from sklearn.neighbors import LocalOutlierFactor"
   ]
  },
  {
   "cell_type": "code",
   "execution_count": 33,
   "id": "e2075c13",
   "metadata": {},
   "outputs": [],
   "source": [
    "lof = LocalOutlierFactor(novelty=True)"
   ]
  },
  {
   "cell_type": "code",
   "execution_count": 34,
   "id": "839c56d2",
   "metadata": {},
   "outputs": [
    {
     "data": {
      "text/plain": [
       "LocalOutlierFactor(novelty=True)"
      ]
     },
     "execution_count": 34,
     "metadata": {},
     "output_type": "execute_result"
    }
   ],
   "source": [
    "lof.fit(data[[\"price\"]])"
   ]
  },
  {
   "cell_type": "code",
   "execution_count": 35,
   "id": "b4818794",
   "metadata": {},
   "outputs": [],
   "source": [
    "data[\"price_lof\"] =  lof.predict(data[[\"price\"]])"
   ]
  },
  {
   "cell_type": "code",
   "execution_count": 36,
   "id": "b2eb0021",
   "metadata": {},
   "outputs": [
    {
     "name": "stdout",
     "output_type": "stream",
     "text": [
      "<class 'pandas.core.frame.DataFrame'>\n",
      "RangeIndex: 4000 entries, 0 to 3999\n",
      "Data columns (total 14 columns):\n",
      " #   Column        Non-Null Count  Dtype  \n",
      "---  ------        --------------  -----  \n",
      " 0   region        4000 non-null   object \n",
      " 1   price         4000 non-null   float64\n",
      " 2   year          4000 non-null   float64\n",
      " 3   manufacturer  4000 non-null   object \n",
      " 4   model         4000 non-null   object \n",
      " 5   fuel          4000 non-null   object \n",
      " 6   odometer      4000 non-null   float64\n",
      " 7   title_status  4000 non-null   object \n",
      " 8   transmission  4000 non-null   object \n",
      " 9   description   4000 non-null   object \n",
      " 10  state         4000 non-null   object \n",
      " 11  lat           4000 non-null   float64\n",
      " 12  long          4000 non-null   float64\n",
      " 13  price_lof     4000 non-null   int32  \n",
      "dtypes: float64(5), int32(1), object(8)\n",
      "memory usage: 422.0+ KB\n"
     ]
    }
   ],
   "source": [
    "data.info()"
   ]
  },
  {
   "cell_type": "code",
   "execution_count": 37,
   "id": "dc8beea0",
   "metadata": {},
   "outputs": [
    {
     "data": {
      "text/html": [
       "<div>\n",
       "<style scoped>\n",
       "    .dataframe tbody tr th:only-of-type {\n",
       "        vertical-align: middle;\n",
       "    }\n",
       "\n",
       "    .dataframe tbody tr th {\n",
       "        vertical-align: top;\n",
       "    }\n",
       "\n",
       "    .dataframe thead th {\n",
       "        text-align: right;\n",
       "    }\n",
       "</style>\n",
       "<table border=\"1\" class=\"dataframe\">\n",
       "  <thead>\n",
       "    <tr style=\"text-align: right;\">\n",
       "      <th></th>\n",
       "      <th>price_lof</th>\n",
       "    </tr>\n",
       "  </thead>\n",
       "  <tbody>\n",
       "    <tr>\n",
       "      <th>0</th>\n",
       "      <td>1</td>\n",
       "    </tr>\n",
       "    <tr>\n",
       "      <th>1</th>\n",
       "      <td>1</td>\n",
       "    </tr>\n",
       "    <tr>\n",
       "      <th>2</th>\n",
       "      <td>-1</td>\n",
       "    </tr>\n",
       "    <tr>\n",
       "      <th>3</th>\n",
       "      <td>1</td>\n",
       "    </tr>\n",
       "    <tr>\n",
       "      <th>4</th>\n",
       "      <td>1</td>\n",
       "    </tr>\n",
       "    <tr>\n",
       "      <th>...</th>\n",
       "      <td>...</td>\n",
       "    </tr>\n",
       "    <tr>\n",
       "      <th>3995</th>\n",
       "      <td>1</td>\n",
       "    </tr>\n",
       "    <tr>\n",
       "      <th>3996</th>\n",
       "      <td>1</td>\n",
       "    </tr>\n",
       "    <tr>\n",
       "      <th>3997</th>\n",
       "      <td>1</td>\n",
       "    </tr>\n",
       "    <tr>\n",
       "      <th>3998</th>\n",
       "      <td>1</td>\n",
       "    </tr>\n",
       "    <tr>\n",
       "      <th>3999</th>\n",
       "      <td>1</td>\n",
       "    </tr>\n",
       "  </tbody>\n",
       "</table>\n",
       "<p>4000 rows × 1 columns</p>\n",
       "</div>"
      ],
      "text/plain": [
       "      price_lof\n",
       "0             1\n",
       "1             1\n",
       "2            -1\n",
       "3             1\n",
       "4             1\n",
       "...         ...\n",
       "3995          1\n",
       "3996          1\n",
       "3997          1\n",
       "3998          1\n",
       "3999          1\n",
       "\n",
       "[4000 rows x 1 columns]"
      ]
     },
     "execution_count": 37,
     "metadata": {},
     "output_type": "execute_result"
    }
   ],
   "source": [
    "data[[\"price_lof\"]]"
   ]
  },
  {
   "cell_type": "code",
   "execution_count": 38,
   "id": "3a8c9d26",
   "metadata": {},
   "outputs": [
    {
     "data": {
      "text/html": [
       "<div>\n",
       "<style scoped>\n",
       "    .dataframe tbody tr th:only-of-type {\n",
       "        vertical-align: middle;\n",
       "    }\n",
       "\n",
       "    .dataframe tbody tr th {\n",
       "        vertical-align: top;\n",
       "    }\n",
       "\n",
       "    .dataframe thead th {\n",
       "        text-align: right;\n",
       "    }\n",
       "</style>\n",
       "<table border=\"1\" class=\"dataframe\">\n",
       "  <thead>\n",
       "    <tr style=\"text-align: right;\">\n",
       "      <th></th>\n",
       "      <th>price</th>\n",
       "      <th>price_lof</th>\n",
       "    </tr>\n",
       "  </thead>\n",
       "  <tbody>\n",
       "    <tr>\n",
       "      <th>0</th>\n",
       "      <td>6995.0</td>\n",
       "      <td>1</td>\n",
       "    </tr>\n",
       "    <tr>\n",
       "      <th>1</th>\n",
       "      <td>8750.0</td>\n",
       "      <td>1</td>\n",
       "    </tr>\n",
       "    <tr>\n",
       "      <th>2</th>\n",
       "      <td>10900.0</td>\n",
       "      <td>-1</td>\n",
       "    </tr>\n",
       "    <tr>\n",
       "      <th>3</th>\n",
       "      <td>12500.0</td>\n",
       "      <td>1</td>\n",
       "    </tr>\n",
       "    <tr>\n",
       "      <th>4</th>\n",
       "      <td>16995.0</td>\n",
       "      <td>1</td>\n",
       "    </tr>\n",
       "    <tr>\n",
       "      <th>...</th>\n",
       "      <td>...</td>\n",
       "      <td>...</td>\n",
       "    </tr>\n",
       "    <tr>\n",
       "      <th>3995</th>\n",
       "      <td>29999.0</td>\n",
       "      <td>1</td>\n",
       "    </tr>\n",
       "    <tr>\n",
       "      <th>3996</th>\n",
       "      <td>59999.0</td>\n",
       "      <td>1</td>\n",
       "    </tr>\n",
       "    <tr>\n",
       "      <th>3997</th>\n",
       "      <td>19999.0</td>\n",
       "      <td>1</td>\n",
       "    </tr>\n",
       "    <tr>\n",
       "      <th>3998</th>\n",
       "      <td>15999.0</td>\n",
       "      <td>1</td>\n",
       "    </tr>\n",
       "    <tr>\n",
       "      <th>3999</th>\n",
       "      <td>7999.0</td>\n",
       "      <td>1</td>\n",
       "    </tr>\n",
       "  </tbody>\n",
       "</table>\n",
       "<p>4000 rows × 2 columns</p>\n",
       "</div>"
      ],
      "text/plain": [
       "        price  price_lof\n",
       "0      6995.0          1\n",
       "1      8750.0          1\n",
       "2     10900.0         -1\n",
       "3     12500.0          1\n",
       "4     16995.0          1\n",
       "...       ...        ...\n",
       "3995  29999.0          1\n",
       "3996  59999.0          1\n",
       "3997  19999.0          1\n",
       "3998  15999.0          1\n",
       "3999   7999.0          1\n",
       "\n",
       "[4000 rows x 2 columns]"
      ]
     },
     "execution_count": 38,
     "metadata": {},
     "output_type": "execute_result"
    }
   ],
   "source": [
    "data[[\"price\",\"price_lof\"]]"
   ]
  },
  {
   "cell_type": "code",
   "execution_count": 39,
   "id": "9a5c3a03",
   "metadata": {},
   "outputs": [
    {
     "data": {
      "text/plain": [
       " 1    2755\n",
       "-1    1245\n",
       "Name: price_lof, dtype: int64"
      ]
     },
     "execution_count": 39,
     "metadata": {},
     "output_type": "execute_result"
    }
   ],
   "source": [
    "# 离群因子输出\n",
    "data[\"price_lof\"].value_counts()\n"
   ]
  },
  {
   "cell_type": "code",
   "execution_count": 40,
   "id": "e1fe4466",
   "metadata": {},
   "outputs": [],
   "source": [
    "data[\"price_lof_nof\"] = -lof.negative_outlier_factor_"
   ]
  },
  {
   "cell_type": "code",
   "execution_count": 41,
   "id": "ccc20a9e",
   "metadata": {},
   "outputs": [
    {
     "data": {
      "text/html": [
       "<div>\n",
       "<style scoped>\n",
       "    .dataframe tbody tr th:only-of-type {\n",
       "        vertical-align: middle;\n",
       "    }\n",
       "\n",
       "    .dataframe tbody tr th {\n",
       "        vertical-align: top;\n",
       "    }\n",
       "\n",
       "    .dataframe thead th {\n",
       "        text-align: right;\n",
       "    }\n",
       "</style>\n",
       "<table border=\"1\" class=\"dataframe\">\n",
       "  <thead>\n",
       "    <tr style=\"text-align: right;\">\n",
       "      <th></th>\n",
       "      <th>price</th>\n",
       "      <th>price_lof_nof</th>\n",
       "    </tr>\n",
       "  </thead>\n",
       "  <tbody>\n",
       "    <tr>\n",
       "      <th>0</th>\n",
       "      <td>6995.0</td>\n",
       "      <td>1.000000</td>\n",
       "    </tr>\n",
       "    <tr>\n",
       "      <th>1</th>\n",
       "      <td>8750.0</td>\n",
       "      <td>1.486872</td>\n",
       "    </tr>\n",
       "    <tr>\n",
       "      <th>2</th>\n",
       "      <td>10900.0</td>\n",
       "      <td>1.914553</td>\n",
       "    </tr>\n",
       "    <tr>\n",
       "      <th>3</th>\n",
       "      <td>12500.0</td>\n",
       "      <td>0.990210</td>\n",
       "    </tr>\n",
       "    <tr>\n",
       "      <th>4</th>\n",
       "      <td>16995.0</td>\n",
       "      <td>1.000000</td>\n",
       "    </tr>\n",
       "    <tr>\n",
       "      <th>...</th>\n",
       "      <td>...</td>\n",
       "      <td>...</td>\n",
       "    </tr>\n",
       "    <tr>\n",
       "      <th>3995</th>\n",
       "      <td>29999.0</td>\n",
       "      <td>1.000000</td>\n",
       "    </tr>\n",
       "    <tr>\n",
       "      <th>3996</th>\n",
       "      <td>59999.0</td>\n",
       "      <td>0.983304</td>\n",
       "    </tr>\n",
       "    <tr>\n",
       "      <th>3997</th>\n",
       "      <td>19999.0</td>\n",
       "      <td>1.000000</td>\n",
       "    </tr>\n",
       "    <tr>\n",
       "      <th>3998</th>\n",
       "      <td>15999.0</td>\n",
       "      <td>1.010500</td>\n",
       "    </tr>\n",
       "    <tr>\n",
       "      <th>3999</th>\n",
       "      <td>7999.0</td>\n",
       "      <td>1.015862</td>\n",
       "    </tr>\n",
       "  </tbody>\n",
       "</table>\n",
       "<p>4000 rows × 2 columns</p>\n",
       "</div>"
      ],
      "text/plain": [
       "        price  price_lof_nof\n",
       "0      6995.0       1.000000\n",
       "1      8750.0       1.486872\n",
       "2     10900.0       1.914553\n",
       "3     12500.0       0.990210\n",
       "4     16995.0       1.000000\n",
       "...       ...            ...\n",
       "3995  29999.0       1.000000\n",
       "3996  59999.0       0.983304\n",
       "3997  19999.0       1.000000\n",
       "3998  15999.0       1.010500\n",
       "3999   7999.0       1.015862\n",
       "\n",
       "[4000 rows x 2 columns]"
      ]
     },
     "execution_count": 41,
     "metadata": {},
     "output_type": "execute_result"
    }
   ],
   "source": [
    "data[[\"price\",\"price_lof_nof\"]]"
   ]
  },
  {
   "cell_type": "code",
   "execution_count": 42,
   "id": "ddad5b1d",
   "metadata": {},
   "outputs": [],
   "source": [
    "data_lof=data[data.price_lof_nof<1.4]"
   ]
  },
  {
   "cell_type": "code",
   "execution_count": 43,
   "id": "c0a561bb",
   "metadata": {},
   "outputs": [
    {
     "name": "stdout",
     "output_type": "stream",
     "text": [
      "<class 'pandas.core.frame.DataFrame'>\n",
      "Int64Index: 2602 entries, 0 to 3999\n",
      "Data columns (total 15 columns):\n",
      " #   Column         Non-Null Count  Dtype  \n",
      "---  ------         --------------  -----  \n",
      " 0   region         2602 non-null   object \n",
      " 1   price          2602 non-null   float64\n",
      " 2   year           2602 non-null   float64\n",
      " 3   manufacturer   2602 non-null   object \n",
      " 4   model          2602 non-null   object \n",
      " 5   fuel           2602 non-null   object \n",
      " 6   odometer       2602 non-null   float64\n",
      " 7   title_status   2602 non-null   object \n",
      " 8   transmission   2602 non-null   object \n",
      " 9   description    2602 non-null   object \n",
      " 10  state          2602 non-null   object \n",
      " 11  lat            2602 non-null   float64\n",
      " 12  long           2602 non-null   float64\n",
      " 13  price_lof      2602 non-null   int32  \n",
      " 14  price_lof_nof  2602 non-null   float64\n",
      "dtypes: float64(6), int32(1), object(8)\n",
      "memory usage: 315.1+ KB\n"
     ]
    }
   ],
   "source": [
    "data_lof.info()"
   ]
  },
  {
   "cell_type": "code",
   "execution_count": 71,
   "id": "d662f942",
   "metadata": {},
   "outputs": [],
   "source": [
    "# "
   ]
  },
  {
   "cell_type": "code",
   "execution_count": 44,
   "id": "c5aa4b97",
   "metadata": {},
   "outputs": [
    {
     "data": {
      "text/plain": [
       "StandardScaler()"
      ]
     },
     "execution_count": 44,
     "metadata": {},
     "output_type": "execute_result"
    }
   ],
   "source": [
    "from sklearn.preprocessing import StandardScaler\n",
    "scalerl = StandardScaler(copy=True)\n",
    "scalerl.fit(data[[\"odometer\"]])"
   ]
  },
  {
   "cell_type": "code",
   "execution_count": 45,
   "id": "5bb77cc9",
   "metadata": {},
   "outputs": [
    {
     "data": {
      "text/plain": [
       "(array([89854.22481536]), array([6.47559766e+09]), array([80471.09830192]))"
      ]
     },
     "execution_count": 45,
     "metadata": {},
     "output_type": "execute_result"
    }
   ],
   "source": [
    "scalerl.mean_,scalerl.var_,scalerl.scale_"
   ]
  },
  {
   "cell_type": "code",
   "execution_count": 46,
   "id": "0087ce8a",
   "metadata": {},
   "outputs": [],
   "source": [
    "data[\"odometer_StanderScaled\"] = scalerl.transform(data[['odometer']])"
   ]
  },
  {
   "cell_type": "code",
   "execution_count": 47,
   "id": "1abec003",
   "metadata": {},
   "outputs": [
    {
     "data": {
      "text/html": [
       "<div>\n",
       "<style scoped>\n",
       "    .dataframe tbody tr th:only-of-type {\n",
       "        vertical-align: middle;\n",
       "    }\n",
       "\n",
       "    .dataframe tbody tr th {\n",
       "        vertical-align: top;\n",
       "    }\n",
       "\n",
       "    .dataframe thead th {\n",
       "        text-align: right;\n",
       "    }\n",
       "</style>\n",
       "<table border=\"1\" class=\"dataframe\">\n",
       "  <thead>\n",
       "    <tr style=\"text-align: right;\">\n",
       "      <th></th>\n",
       "      <th>odometer_StanderScaled</th>\n",
       "      <th>odometer</th>\n",
       "    </tr>\n",
       "  </thead>\n",
       "  <tbody>\n",
       "    <tr>\n",
       "      <th>0</th>\n",
       "      <td>0.968407</td>\n",
       "      <td>167783.000000</td>\n",
       "    </tr>\n",
       "    <tr>\n",
       "      <th>1</th>\n",
       "      <td>0.012014</td>\n",
       "      <td>90821.000000</td>\n",
       "    </tr>\n",
       "    <tr>\n",
       "      <th>2</th>\n",
       "      <td>0.036607</td>\n",
       "      <td>92800.000000</td>\n",
       "    </tr>\n",
       "    <tr>\n",
       "      <th>3</th>\n",
       "      <td>0.000000</td>\n",
       "      <td>89854.224815</td>\n",
       "    </tr>\n",
       "    <tr>\n",
       "      <th>4</th>\n",
       "      <td>2.042507</td>\n",
       "      <td>254217.000000</td>\n",
       "    </tr>\n",
       "    <tr>\n",
       "      <th>5</th>\n",
       "      <td>1.224685</td>\n",
       "      <td>188406.000000</td>\n",
       "    </tr>\n",
       "    <tr>\n",
       "      <th>6</th>\n",
       "      <td>0.227035</td>\n",
       "      <td>108124.000000</td>\n",
       "    </tr>\n",
       "    <tr>\n",
       "      <th>7</th>\n",
       "      <td>1.096043</td>\n",
       "      <td>178054.000000</td>\n",
       "    </tr>\n",
       "    <tr>\n",
       "      <th>8</th>\n",
       "      <td>0.999176</td>\n",
       "      <td>170259.000000</td>\n",
       "    </tr>\n",
       "    <tr>\n",
       "      <th>9</th>\n",
       "      <td>2.731003</td>\n",
       "      <td>309621.000000</td>\n",
       "    </tr>\n",
       "    <tr>\n",
       "      <th>10</th>\n",
       "      <td>1.503779</td>\n",
       "      <td>210865.000000</td>\n",
       "    </tr>\n",
       "    <tr>\n",
       "      <th>11</th>\n",
       "      <td>0.759338</td>\n",
       "      <td>150959.000000</td>\n",
       "    </tr>\n",
       "    <tr>\n",
       "      <th>12</th>\n",
       "      <td>1.660419</td>\n",
       "      <td>223470.000000</td>\n",
       "    </tr>\n",
       "    <tr>\n",
       "      <th>13</th>\n",
       "      <td>1.004457</td>\n",
       "      <td>170684.000000</td>\n",
       "    </tr>\n",
       "    <tr>\n",
       "      <th>14</th>\n",
       "      <td>0.666994</td>\n",
       "      <td>143528.000000</td>\n",
       "    </tr>\n",
       "  </tbody>\n",
       "</table>\n",
       "</div>"
      ],
      "text/plain": [
       "    odometer_StanderScaled       odometer\n",
       "0                 0.968407  167783.000000\n",
       "1                 0.012014   90821.000000\n",
       "2                 0.036607   92800.000000\n",
       "3                 0.000000   89854.224815\n",
       "4                 2.042507  254217.000000\n",
       "5                 1.224685  188406.000000\n",
       "6                 0.227035  108124.000000\n",
       "7                 1.096043  178054.000000\n",
       "8                 0.999176  170259.000000\n",
       "9                 2.731003  309621.000000\n",
       "10                1.503779  210865.000000\n",
       "11                0.759338  150959.000000\n",
       "12                1.660419  223470.000000\n",
       "13                1.004457  170684.000000\n",
       "14                0.666994  143528.000000"
      ]
     },
     "execution_count": 47,
     "metadata": {},
     "output_type": "execute_result"
    }
   ],
   "source": [
    "data[['odometer_StanderScaled',\"odometer\"]] .head(15)"
   ]
  },
  {
   "cell_type": "code",
   "execution_count": 52,
   "id": "06acd609",
   "metadata": {},
   "outputs": [
    {
     "data": {
      "text/plain": [
       "(array([2.764e+03, 1.086e+03, 1.360e+02, 7.000e+00, 1.000e+00, 0.000e+00,\n",
       "        0.000e+00, 0.000e+00, 1.000e+00, 2.000e+00, 0.000e+00, 0.000e+00,\n",
       "        0.000e+00, 0.000e+00, 1.000e+00, 0.000e+00, 1.000e+00, 0.000e+00,\n",
       "        0.000e+00, 0.000e+00, 0.000e+00, 0.000e+00, 0.000e+00, 0.000e+00,\n",
       "        1.000e+00]),\n",
       " array([      0.  ,  102569.48,  205138.96,  307708.44,  410277.92,\n",
       "         512847.4 ,  615416.88,  717986.36,  820555.84,  923125.32,\n",
       "        1025694.8 , 1128264.28, 1230833.76, 1333403.24, 1435972.72,\n",
       "        1538542.2 , 1641111.68, 1743681.16, 1846250.64, 1948820.12,\n",
       "        2051389.6 , 2153959.08, 2256528.56, 2359098.04, 2461667.52,\n",
       "        2564237.  ]),\n",
       " <BarContainer object of 25 artists>)"
      ]
     },
     "execution_count": 52,
     "metadata": {},
     "output_type": "execute_result"
    },
    {
     "data": {
      "image/png": "[encoded data removed]",
      "text/plain": [
       "<Figure size 432x288 with 1 Axes>"
      ]
     },
     "metadata": {
      "needs_background": "light"
     },
     "output_type": "display_data"
    }
   ],
   "source": [
    "import matplotlib.pyplot as plt\n",
    "plt.hist(data[[\"odometer\"]],bins=25)"
   ]
  },
  {
   "cell_type": "code",
   "execution_count": 53,
   "id": "58eddd43",
   "metadata": {},
   "outputs": [
    {
     "data": {
      "text/plain": [
       "(array([2.764e+03, 1.086e+03, 1.360e+02, 7.000e+00, 1.000e+00, 0.000e+00,\n",
       "        0.000e+00, 0.000e+00, 1.000e+00, 2.000e+00, 0.000e+00, 0.000e+00,\n",
       "        0.000e+00, 0.000e+00, 1.000e+00, 0.000e+00, 1.000e+00, 0.000e+00,\n",
       "        0.000e+00, 0.000e+00, 0.000e+00, 0.000e+00, 0.000e+00, 0.000e+00,\n",
       "        1.000e+00]),\n",
       " array([-1.11660244,  0.15801021,  1.43262286,  2.70723551,  3.98184817,\n",
       "         5.25646082,  6.53107347,  7.80568612,  9.08029877, 10.35491142,\n",
       "        11.62952408, 12.90413673, 14.17874938, 15.45336203, 16.72797468,\n",
       "        18.00258734, 19.27719999, 20.55181264, 21.82642529, 23.10103794,\n",
       "        24.37565059, 25.65026325, 26.9248759 , 28.19948855, 29.4741012 ,\n",
       "        30.74871385]),\n",
       " <BarContainer object of 25 artists>)"
      ]
     },
     "execution_count": 53,
     "metadata": {},
     "output_type": "execute_result"
    },
    {
     "data": {
      "image/png": "[encoded data removed]",
      "text/plain": [
       "<Figure size 432x288 with 1 Axes>"
      ]
     },
     "metadata": {
      "needs_background": "light"
     },
     "output_type": "display_data"
    }
   ],
   "source": [
    "plt.hist(data[['odometer_StanderScaled']],bins= 25)"
   ]
  },
  {
   "cell_type": "code",
   "execution_count": 54,
   "id": "228b2ed8",
   "metadata": {},
   "outputs": [
    {
     "data": {
      "text/plain": [
       "<seaborn.axisgrid.FacetGrid at 0x273b29d0130>"
      ]
     },
     "execution_count": 54,
     "metadata": {},
     "output_type": "execute_result"
    },
    {
     "data": {
      "image/png": "[encoded data removed]",
      "text/plain": [
       "<Figure size 360x360 with 1 Axes>"
      ]
     },
     "metadata": {
      "needs_background": "light"
     },
     "output_type": "display_data"
    }
   ],
   "source": [
    "import seaborn as sns\n",
    "sns.displot(data[\"odometer_StanderScaled\"])"
   ]
  },
  {
   "cell_type": "markdown",
   "id": "4bca553b",
   "metadata": {},
   "source": [
    "# 考虑离群值的标准化"
   ]
  },
  {
   "cell_type": "code",
   "execution_count": 55,
   "id": "24b831d5",
   "metadata": {},
   "outputs": [],
   "source": [
    "from sklearn.preprocessing import RobustScaler\n",
    "rob = RobustScaler(\n",
    "with_centering=True,\n",
    "with_scaling=True,\n",
    "quantile_range=(25.0,75.0),\n",
    "copy=True)\n",
    "filtered_columns = [\"odometer\"]"
   ]
  },
  {
   "cell_type": "code",
   "execution_count": 56,
   "id": "320d5916",
   "metadata": {},
   "outputs": [
    {
     "data": {
      "text/plain": [
       "RobustScaler()"
      ]
     },
     "execution_count": 56,
     "metadata": {},
     "output_type": "execute_result"
    }
   ],
   "source": [
    "rob.fit(data[[\"odometer\"]])"
   ]
  },
  {
   "cell_type": "code",
   "execution_count": 57,
   "id": "7331e245",
   "metadata": {},
   "outputs": [
    {
     "data": {
      "text/plain": [
       "(array([89854.22481536]), (25.0, 75.0), array([75400.25]), False)"
      ]
     },
     "execution_count": 57,
     "metadata": {},
     "output_type": "execute_result"
    }
   ],
   "source": [
    "rob.center_,rob.quantile_range,rob.scale_,rob.unit_variance"
   ]
  },
  {
   "cell_type": "code",
   "execution_count": 58,
   "id": "9f95986b",
   "metadata": {},
   "outputs": [],
   "source": [
    "data[\"rob\"] = rob.transform(data[['odometer']])"
   ]
  },
  {
   "cell_type": "code",
   "execution_count": 59,
   "id": "eb9b8d57",
   "metadata": {},
   "outputs": [
    {
     "data": {
      "text/plain": [
       "<AxesSubplot:ylabel='Frequency'>"
      ]
     },
     "execution_count": 59,
     "metadata": {},
     "output_type": "execute_result"
    },
    {
     "data": {
      "image/png": "[encoded data removed]",
      "text/plain": [
       "<Figure size 360x360 with 1 Axes>"
      ]
     },
     "metadata": {
      "needs_background": "light"
     },
     "output_type": "display_data"
    }
   ],
   "source": [
    "data[\"rob\"].plot(kind='hist',bins=25,figsize=(5,5))"
   ]
  },
  {
   "cell_type": "markdown",
   "id": "9c6091ef",
   "metadata": {},
   "source": [
    "# 等距离散化"
   ]
  },
  {
   "cell_type": "code",
   "execution_count": 62,
   "id": "293644e4",
   "metadata": {},
   "outputs": [],
   "source": [
    "from pandas import cut\n",
    "n = 10\n",
    "d1 = pd.cut(data['odometer'],n,labels=['odometer_Number_label_'+str(i) for i in range(n)])"
   ]
  },
  {
   "cell_type": "code",
   "execution_count": 63,
   "id": "6b8ae85f",
   "metadata": {},
   "outputs": [
    {
     "data": {
      "text/plain": [
       "2981    odometer_Number_label_0\n",
       "3757    odometer_Number_label_0\n",
       "789     odometer_Number_label_0\n",
       "1258    odometer_Number_label_0\n",
       "3087    odometer_Number_label_0\n",
       "1450    odometer_Number_label_0\n",
       "362     odometer_Number_label_0\n",
       "2262    odometer_Number_label_0\n",
       "2074    odometer_Number_label_0\n",
       "2424    odometer_Number_label_0\n",
       "3698    odometer_Number_label_0\n",
       "3973    odometer_Number_label_0\n",
       "3299    odometer_Number_label_0\n",
       "768     odometer_Number_label_0\n",
       "2115    odometer_Number_label_0\n",
       "987     odometer_Number_label_0\n",
       "1297    odometer_Number_label_0\n",
       "123     odometer_Number_label_0\n",
       "1716    odometer_Number_label_0\n",
       "1526    odometer_Number_label_9\n",
       "3484    odometer_Number_label_0\n",
       "2788    odometer_Number_label_0\n",
       "1822    odometer_Number_label_0\n",
       "959     odometer_Number_label_0\n",
       "1213    odometer_Number_label_0\n",
       "Name: odometer, dtype: category\n",
       "Categories (10, object): ['odometer_Number_label_0' < 'odometer_Number_label_1' < 'odometer_Number_label_2' < 'odometer_Number_label_3' ... 'odometer_Number_label_6' < 'odometer_Number_label_7' < 'odometer_Number_label_8' < 'odometer_Number_label_9']"
      ]
     },
     "execution_count": 63,
     "metadata": {},
     "output_type": "execute_result"
    }
   ],
   "source": [
    "d1.sample(25)"
   ]
  },
  {
   "cell_type": "code",
   "execution_count": null,
   "id": "2b105292",
   "metadata": {},
   "outputs": [],
   "source": []
  },
  {
   "cell_type": "code",
   "execution_count": null,
   "id": "b106b73a",
   "metadata": {},
   "outputs": [],
   "source": []
  },
  {
   "cell_type": "code",
   "execution_count": null,
   "id": "aab28368",
   "metadata": {},
   "outputs": [],
   "source": []
  },
  {
   "cell_type": "code",
   "execution_count": null,
   "id": "34d68f9f",
   "metadata": {},
   "outputs": [],
   "source": []
  },
  {
   "cell_type": "code",
   "execution_count": null,
   "id": "c014e20b",
   "metadata": {},
   "outputs": [],
   "source": []
  },
  {
   "cell_type": "code",
   "execution_count": null,
   "id": "d40973b5",
   "metadata": {},
   "outputs": [],
   "source": []
  },
  {
   "cell_type": "code",
   "execution_count": null,
   "id": "6ec81318",
   "metadata": {},
   "outputs": [],
   "source": []
  },
  {
   "cell_type": "code",
   "execution_count": null,
   "id": "b4660ca1",
   "metadata": {},
   "outputs": [],
   "source": []
  },
  {
   "cell_type": "code",
   "execution_count": null,
   "id": "05ddeeb7",
   "metadata": {},
   "outputs": [],
   "source": []
  },
  {
   "cell_type": "code",
   "execution_count": null,
   "id": "7dd2bd7b",
   "metadata": {},
   "outputs": [],
   "source": []
  },
  {
   "cell_type": "code",
   "execution_count": null,
   "id": "ee477df7",
   "metadata": {},
   "outputs": [],
   "source": []
  },
  {
   "cell_type": "code",
   "execution_count": null,
   "id": "3b69e9e6",
   "metadata": {},
   "outputs": [],
   "source": []
  },
  {
   "cell_type": "code",
   "execution_count": null,
   "id": "4813180a",
   "metadata": {},
   "outputs": [],
   "source": []
  },
  {
   "cell_type": "code",
   "execution_count": null,
   "id": "c9749a67",
   "metadata": {},
   "outputs": [],
   "source": []
  },
  {
   "cell_type": "code",
   "execution_count": null,
   "id": "505e222d",
   "metadata": {},
   "outputs": [],
   "source": []
  },
  {
   "cell_type": "code",
   "execution_count": null,
   "id": "9adb5bcc",
   "metadata": {},
   "outputs": [],
   "source": []
  },
  {
   "cell_type": "code",
   "execution_count": null,
   "id": "a8080970",
   "metadata": {},
   "outputs": [],
   "source": []
  },
  {
   "cell_type": "code",
   "execution_count": null,
   "id": "355f73f5",
   "metadata": {},
   "outputs": [],
   "source": []
  }
 ],
 "metadata": {
  "kernelspec": {
   "display_name": "Python 3 (ipykernel)",
   "language": "python",
   "name": "python3"
  },
  "language_info": {
   "codemirror_mode": {
    "name": "ipython",
    "version": 3
   },
   "file_extension": ".py",
   "mimetype": "text/x-python",
   "name": "python",
   "nbconvert_exporter": "python",
   "pygments_lexer": "ipython3",
   "version": "3.9.7"
  }
 },
 "nbformat": 4,
 "nbformat_minor": 5
}
