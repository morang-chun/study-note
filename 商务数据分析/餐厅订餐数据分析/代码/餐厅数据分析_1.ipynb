{
 "cells": [
  {
   "cell_type": "code",
   "execution_count": 1,
   "id": "aada6f2c",
   "metadata": {},
   "outputs": [],
   "source": [
    "import pandas as pd\n",
    "inputfile0 = 'E:/NOTE/0302/03【商务数据分析】/代码/餐厅订餐数据分析/数据集/users.csv'  # 客户信息表路径\n",
    "inputfile1 = 'E:/NOTE/0302/03【商务数据分析】/代码/餐厅订餐数据分析/数据集/meal_dishes_detail.csv'  # 菜品详情表路径\n",
    "inputfile2 = 'E:/NOTE/0302/03【商务数据分析】/代码/餐厅订餐数据分析/数据集/meal_order_info.csv'  # 订单表路径\n",
    "inputfile3 = 'E:/NOTE/0302/03【商务数据分析】/代码/餐厅订餐数据分析/数据集/meal_order_detail.csv'  # 订单详情表路径\n",
    "users = pd.read_csv(inputfile0, encoding = 'gbk')\n",
    "dish = pd.read_csv(inputfile1, encoding = 'utf-8')\n",
    "info = pd.read_csv(inputfile2, encoding = 'utf-8')\n",
    "detail = pd.read_csv(inputfile3, encoding = 'utf-8')"
   ]
  },
  {
   "cell_type": "code",
   "execution_count": 2,
   "id": "e5d2d43d",
   "metadata": {},
   "outputs": [
    {
     "data": {
      "text/html": [
       "<div>\n",
       "<style scoped>\n",
       "    .dataframe tbody tr th:only-of-type {\n",
       "        vertical-align: middle;\n",
       "    }\n",
       "\n",
       "    .dataframe tbody tr th {\n",
       "        vertical-align: top;\n",
       "    }\n",
       "\n",
       "    .dataframe thead th {\n",
       "        text-align: right;\n",
       "    }\n",
       "</style>\n",
       "<table border=\"1\" class=\"dataframe\">\n",
       "  <thead>\n",
       "    <tr style=\"text-align: right;\">\n",
       "      <th></th>\n",
       "      <th>USER_ID</th>\n",
       "      <th>MYID</th>\n",
       "      <th>ACCOUNT</th>\n",
       "      <th>NAME</th>\n",
       "      <th>ORGANIZE_ID</th>\n",
       "      <th>ORGANIZE_NAME</th>\n",
       "      <th>DUTY_ID</th>\n",
       "      <th>TITLE_ID</th>\n",
       "      <th>PASSWORD</th>\n",
       "      <th>EMAIL</th>\n",
       "      <th>...</th>\n",
       "      <th>TEL</th>\n",
       "      <th>stuNo</th>\n",
       "      <th>qq</th>\n",
       "      <th>weixin</th>\n",
       "      <th>meal_arithmetic_id</th>\n",
       "      <th>arithmetic_name</th>\n",
       "      <th>sex</th>\n",
       "      <th>poo</th>\n",
       "      <th>address</th>\n",
       "      <th>age</th>\n",
       "    </tr>\n",
       "  </thead>\n",
       "  <tbody>\n",
       "    <tr>\n",
       "      <th>0</th>\n",
       "      <td>1</td>\n",
       "      <td>admin</td>\n",
       "      <td>超级管理员</td>\n",
       "      <td>admin</td>\n",
       "      <td>130</td>\n",
       "      <td>根目录</td>\n",
       "      <td>NaN</td>\n",
       "      <td>NaN</td>\n",
       "      <td>202cb962ac59075b964b07152d234b70</td>\n",
       "      <td>12@qq.com</td>\n",
       "      <td>...</td>\n",
       "      <td>1.306543e+10</td>\n",
       "      <td>ab</td>\n",
       "      <td>398125079.0</td>\n",
       "      <td>398125079.0</td>\n",
       "      <td>NaN</td>\n",
       "      <td>22</td>\n",
       "      <td>男</td>\n",
       "      <td>广东广州</td>\n",
       "      <td>泰迪科技</td>\n",
       "      <td>23.0</td>\n",
       "    </tr>\n",
       "    <tr>\n",
       "      <th>1</th>\n",
       "      <td>981</td>\n",
       "      <td>NaN</td>\n",
       "      <td>老师</td>\n",
       "      <td>teacher</td>\n",
       "      <td>328</td>\n",
       "      <td>统计班</td>\n",
       "      <td>NaN</td>\n",
       "      <td>NaN</td>\n",
       "      <td>202cb962ac59075b964b07152d234b70</td>\n",
       "      <td>NaN</td>\n",
       "      <td>...</td>\n",
       "      <td>NaN</td>\n",
       "      <td>NaN</td>\n",
       "      <td>NaN</td>\n",
       "      <td>NaN</td>\n",
       "      <td>87.0</td>\n",
       "      <td>基于物品的协同过滤</td>\n",
       "      <td>NaN</td>\n",
       "      <td>NaN</td>\n",
       "      <td>NaN</td>\n",
       "      <td>NaN</td>\n",
       "    </tr>\n",
       "    <tr>\n",
       "      <th>2</th>\n",
       "      <td>982</td>\n",
       "      <td>NaN</td>\n",
       "      <td>叶亦凯</td>\n",
       "      <td>sx</td>\n",
       "      <td>328</td>\n",
       "      <td>统计班</td>\n",
       "      <td>NaN</td>\n",
       "      <td>NaN</td>\n",
       "      <td>202cb962ac59075b964b07152d234b70</td>\n",
       "      <td>NaN</td>\n",
       "      <td>...</td>\n",
       "      <td>1.868888e+10</td>\n",
       "      <td>2017002</td>\n",
       "      <td>NaN</td>\n",
       "      <td>NaN</td>\n",
       "      <td>86.0</td>\n",
       "      <td>关联规则</td>\n",
       "      <td>男</td>\n",
       "      <td>广东广州</td>\n",
       "      <td>广州</td>\n",
       "      <td>21.0</td>\n",
       "    </tr>\n",
       "    <tr>\n",
       "      <th>3</th>\n",
       "      <td>983</td>\n",
       "      <td>NaN</td>\n",
       "      <td>邓彬彬</td>\n",
       "      <td>lyy</td>\n",
       "      <td>328</td>\n",
       "      <td>统计班</td>\n",
       "      <td>NaN</td>\n",
       "      <td>NaN</td>\n",
       "      <td>202cb962ac59075b964b07152d234b70</td>\n",
       "      <td>NaN</td>\n",
       "      <td>...</td>\n",
       "      <td>1.868888e+10</td>\n",
       "      <td>2017003</td>\n",
       "      <td>NaN</td>\n",
       "      <td>NaN</td>\n",
       "      <td>86.0</td>\n",
       "      <td>关联规则</td>\n",
       "      <td>女</td>\n",
       "      <td>广东广州</td>\n",
       "      <td>广州</td>\n",
       "      <td>21.0</td>\n",
       "    </tr>\n",
       "    <tr>\n",
       "      <th>4</th>\n",
       "      <td>984</td>\n",
       "      <td>NaN</td>\n",
       "      <td>张建涛</td>\n",
       "      <td>zad</td>\n",
       "      <td>328</td>\n",
       "      <td>统计班</td>\n",
       "      <td>NaN</td>\n",
       "      <td>NaN</td>\n",
       "      <td>202cb962ac59075b964b07152d234b70</td>\n",
       "      <td>NaN</td>\n",
       "      <td>...</td>\n",
       "      <td>1.868888e+10</td>\n",
       "      <td>2017004</td>\n",
       "      <td>NaN</td>\n",
       "      <td>NaN</td>\n",
       "      <td>86.0</td>\n",
       "      <td>关联规则</td>\n",
       "      <td>男</td>\n",
       "      <td>广东广州</td>\n",
       "      <td>广州</td>\n",
       "      <td>22.0</td>\n",
       "    </tr>\n",
       "  </tbody>\n",
       "</table>\n",
       "<p>5 rows × 37 columns</p>\n",
       "</div>"
      ],
      "text/plain": [
       "   USER_ID   MYID ACCOUNT     NAME  ORGANIZE_ID ORGANIZE_NAME  DUTY_ID  \\\n",
       "0        1  admin   超级管理员    admin          130           根目录      NaN   \n",
       "1      981    NaN      老师  teacher          328           统计班      NaN   \n",
       "2      982    NaN     叶亦凯       sx          328           统计班      NaN   \n",
       "3      983    NaN     邓彬彬      lyy          328           统计班      NaN   \n",
       "4      984    NaN     张建涛      zad          328           统计班      NaN   \n",
       "\n",
       "   TITLE_ID                          PASSWORD      EMAIL  ...           TEL  \\\n",
       "0       NaN  202cb962ac59075b964b07152d234b70  12@qq.com  ...  1.306543e+10   \n",
       "1       NaN  202cb962ac59075b964b07152d234b70        NaN  ...           NaN   \n",
       "2       NaN  202cb962ac59075b964b07152d234b70        NaN  ...  1.868888e+10   \n",
       "3       NaN  202cb962ac59075b964b07152d234b70        NaN  ...  1.868888e+10   \n",
       "4       NaN  202cb962ac59075b964b07152d234b70        NaN  ...  1.868888e+10   \n",
       "\n",
       "     stuNo           qq       weixin meal_arithmetic_id  arithmetic_name  sex  \\\n",
       "0       ab  398125079.0  398125079.0                NaN               22    男   \n",
       "1      NaN          NaN          NaN               87.0        基于物品的协同过滤  NaN   \n",
       "2  2017002          NaN          NaN               86.0             关联规则    男   \n",
       "3  2017003          NaN          NaN               86.0             关联规则    女   \n",
       "4  2017004          NaN          NaN               86.0             关联规则    男   \n",
       "\n",
       "    poo  address   age  \n",
       "0  广东广州     泰迪科技  23.0  \n",
       "1   NaN      NaN   NaN  \n",
       "2  广东广州       广州  21.0  \n",
       "3  广东广州       广州  21.0  \n",
       "4  广东广州       广州  22.0  \n",
       "\n",
       "[5 rows x 37 columns]"
      ]
     },
     "execution_count": 2,
     "metadata": {},
     "output_type": "execute_result"
    }
   ],
   "source": [
    "users.head()"
   ]
  },
  {
   "cell_type": "code",
   "execution_count": 3,
   "id": "4ad240e1",
   "metadata": {},
   "outputs": [
    {
     "data": {
      "text/html": [
       "<div>\n",
       "<style scoped>\n",
       "    .dataframe tbody tr th:only-of-type {\n",
       "        vertical-align: middle;\n",
       "    }\n",
       "\n",
       "    .dataframe tbody tr th {\n",
       "        vertical-align: top;\n",
       "    }\n",
       "\n",
       "    .dataframe thead th {\n",
       "        text-align: right;\n",
       "    }\n",
       "</style>\n",
       "<table border=\"1\" class=\"dataframe\">\n",
       "  <thead>\n",
       "    <tr style=\"text-align: right;\">\n",
       "      <th></th>\n",
       "      <th>id</th>\n",
       "      <th>dishes_class_id</th>\n",
       "      <th>dishes_name</th>\n",
       "      <th>price</th>\n",
       "      <th>amt_discount</th>\n",
       "      <th>sortorder</th>\n",
       "      <th>bar_code</th>\n",
       "      <th>cost</th>\n",
       "      <th>is_info_menu_item</th>\n",
       "      <th>balance_price</th>\n",
       "      <th>...</th>\n",
       "      <th>weight</th>\n",
       "      <th>taste</th>\n",
       "      <th>description</th>\n",
       "      <th>ingredients</th>\n",
       "      <th>label</th>\n",
       "      <th>creation_method</th>\n",
       "      <th>dishes_characteristic</th>\n",
       "      <th>dept_name</th>\n",
       "      <th>dishes_class_name</th>\n",
       "      <th>dept_id</th>\n",
       "    </tr>\n",
       "  </thead>\n",
       "  <tbody>\n",
       "    <tr>\n",
       "      <th>0</th>\n",
       "      <td>610071</td>\n",
       "      <td>3610</td>\n",
       "      <td>42度海之蓝</td>\n",
       "      <td>99</td>\n",
       "      <td>0</td>\n",
       "      <td>0</td>\n",
       "      <td>NaN</td>\n",
       "      <td>50.0</td>\n",
       "      <td>NaN</td>\n",
       "      <td>NaN</td>\n",
       "      <td>...</td>\n",
       "      <td>1</td>\n",
       "      <td>辣</td>\n",
       "      <td>NaN</td>\n",
       "      <td>高粱，水，大麦，豌豆</td>\n",
       "      <td>清香</td>\n",
       "      <td>NaN</td>\n",
       "      <td>NaN</td>\n",
       "      <td>统计17级</td>\n",
       "      <td>白酒类</td>\n",
       "      <td>330</td>\n",
       "    </tr>\n",
       "    <tr>\n",
       "      <th>1</th>\n",
       "      <td>609947</td>\n",
       "      <td>3613</td>\n",
       "      <td>北冰洋汽水</td>\n",
       "      <td>5</td>\n",
       "      <td>0</td>\n",
       "      <td>0</td>\n",
       "      <td>NaN</td>\n",
       "      <td>2.0</td>\n",
       "      <td>NaN</td>\n",
       "      <td>NaN</td>\n",
       "      <td>...</td>\n",
       "      <td>1</td>\n",
       "      <td>果味</td>\n",
       "      <td>NaN</td>\n",
       "      <td>橙子，水</td>\n",
       "      <td>果味</td>\n",
       "      <td>NaN</td>\n",
       "      <td>NaN</td>\n",
       "      <td>统计17级</td>\n",
       "      <td>饮料类</td>\n",
       "      <td>330</td>\n",
       "    </tr>\n",
       "    <tr>\n",
       "      <th>2</th>\n",
       "      <td>610068</td>\n",
       "      <td>3610</td>\n",
       "      <td>38度剑南春</td>\n",
       "      <td>80</td>\n",
       "      <td>0</td>\n",
       "      <td>0</td>\n",
       "      <td>NaN</td>\n",
       "      <td>30.0</td>\n",
       "      <td>NaN</td>\n",
       "      <td>NaN</td>\n",
       "      <td>...</td>\n",
       "      <td>1</td>\n",
       "      <td>爽口</td>\n",
       "      <td>NaN</td>\n",
       "      <td>水，高粱，小麦等</td>\n",
       "      <td>浓香</td>\n",
       "      <td>NaN</td>\n",
       "      <td>NaN</td>\n",
       "      <td>统计17级</td>\n",
       "      <td>白酒类</td>\n",
       "      <td>330</td>\n",
       "    </tr>\n",
       "    <tr>\n",
       "      <th>3</th>\n",
       "      <td>610069</td>\n",
       "      <td>3610</td>\n",
       "      <td>50度古井贡酒</td>\n",
       "      <td>90</td>\n",
       "      <td>0</td>\n",
       "      <td>0</td>\n",
       "      <td>NaN</td>\n",
       "      <td>20.0</td>\n",
       "      <td>NaN</td>\n",
       "      <td>NaN</td>\n",
       "      <td>...</td>\n",
       "      <td>1</td>\n",
       "      <td>爽口</td>\n",
       "      <td>NaN</td>\n",
       "      <td>，水，高粱，小麦，玉米，糯米，大米</td>\n",
       "      <td>浓香</td>\n",
       "      <td>NaN</td>\n",
       "      <td>NaN</td>\n",
       "      <td>统计17级</td>\n",
       "      <td>白酒类</td>\n",
       "      <td>330</td>\n",
       "    </tr>\n",
       "    <tr>\n",
       "      <th>4</th>\n",
       "      <td>610070</td>\n",
       "      <td>3610</td>\n",
       "      <td>52度泸州老窖</td>\n",
       "      <td>159</td>\n",
       "      <td>0</td>\n",
       "      <td>0</td>\n",
       "      <td>NaN</td>\n",
       "      <td>85.0</td>\n",
       "      <td>NaN</td>\n",
       "      <td>NaN</td>\n",
       "      <td>...</td>\n",
       "      <td>1</td>\n",
       "      <td>清香</td>\n",
       "      <td>NaN</td>\n",
       "      <td>红皮糯高粱</td>\n",
       "      <td>清香</td>\n",
       "      <td>NaN</td>\n",
       "      <td>NaN</td>\n",
       "      <td>统计17级</td>\n",
       "      <td>白酒类</td>\n",
       "      <td>330</td>\n",
       "    </tr>\n",
       "  </tbody>\n",
       "</table>\n",
       "<p>5 rows × 24 columns</p>\n",
       "</div>"
      ],
      "text/plain": [
       "       id  dishes_class_id dishes_name  price  amt_discount  sortorder  \\\n",
       "0  610071             3610      42度海之蓝     99             0          0   \n",
       "1  609947             3613      北冰洋汽水       5             0          0   \n",
       "2  610068             3610     38度剑南春      80             0          0   \n",
       "3  610069             3610     50度古井贡酒     90             0          0   \n",
       "4  610070             3610    52度泸州老窖     159             0          0   \n",
       "\n",
       "   bar_code  cost  is_info_menu_item  balance_price  ...  weight  taste  \\\n",
       "0       NaN  50.0                NaN            NaN  ...       1      辣   \n",
       "1       NaN   2.0                NaN            NaN  ...       1     果味   \n",
       "2       NaN  30.0                NaN            NaN  ...       1     爽口   \n",
       "3       NaN  20.0                NaN            NaN  ...       1     爽口   \n",
       "4       NaN  85.0                NaN            NaN  ...       1     清香   \n",
       "\n",
       "  description        ingredients  label creation_method dishes_characteristic  \\\n",
       "0         NaN         高粱，水，大麦，豌豆     清香             NaN                   NaN   \n",
       "1         NaN               橙子，水     果味             NaN                   NaN   \n",
       "2         NaN           水，高粱，小麦等     浓香             NaN                   NaN   \n",
       "3         NaN  ，水，高粱，小麦，玉米，糯米，大米     浓香             NaN                   NaN   \n",
       "4         NaN              红皮糯高粱     清香             NaN                   NaN   \n",
       "\n",
       "  dept_name dishes_class_name  dept_id  \n",
       "0     统计17级               白酒类      330  \n",
       "1     统计17级               饮料类      330  \n",
       "2     统计17级               白酒类      330  \n",
       "3     统计17级               白酒类      330  \n",
       "4     统计17级               白酒类      330  \n",
       "\n",
       "[5 rows x 24 columns]"
      ]
     },
     "execution_count": 3,
     "metadata": {},
     "output_type": "execute_result"
    }
   ],
   "source": [
    "dish.head()"
   ]
  },
  {
   "cell_type": "code",
   "execution_count": 4,
   "id": "943d0c2c",
   "metadata": {},
   "outputs": [
    {
     "data": {
      "text/html": [
       "<div>\n",
       "<style scoped>\n",
       "    .dataframe tbody tr th:only-of-type {\n",
       "        vertical-align: middle;\n",
       "    }\n",
       "\n",
       "    .dataframe tbody tr th {\n",
       "        vertical-align: top;\n",
       "    }\n",
       "\n",
       "    .dataframe thead th {\n",
       "        text-align: right;\n",
       "    }\n",
       "</style>\n",
       "<table border=\"1\" class=\"dataframe\">\n",
       "  <thead>\n",
       "    <tr style=\"text-align: right;\">\n",
       "      <th></th>\n",
       "      <th>info_id</th>\n",
       "      <th>emp_id</th>\n",
       "      <th>number_consumers</th>\n",
       "      <th>mode</th>\n",
       "      <th>dining_table_id</th>\n",
       "      <th>dining_table_name</th>\n",
       "      <th>expenditure</th>\n",
       "      <th>dishes_count</th>\n",
       "      <th>accounts_payable</th>\n",
       "      <th>use_start_time</th>\n",
       "      <th>...</th>\n",
       "      <th>lock_time</th>\n",
       "      <th>cashier_id</th>\n",
       "      <th>pc_id</th>\n",
       "      <th>order_number</th>\n",
       "      <th>org_id</th>\n",
       "      <th>print_doc_bill_num</th>\n",
       "      <th>lock_table_info</th>\n",
       "      <th>order_status</th>\n",
       "      <th>phone</th>\n",
       "      <th>name</th>\n",
       "    </tr>\n",
       "  </thead>\n",
       "  <tbody>\n",
       "    <tr>\n",
       "      <th>0</th>\n",
       "      <td>417</td>\n",
       "      <td>1442</td>\n",
       "      <td>4</td>\n",
       "      <td>NaN</td>\n",
       "      <td>1501</td>\n",
       "      <td>1022</td>\n",
       "      <td>165</td>\n",
       "      <td>5</td>\n",
       "      <td>165</td>\n",
       "      <td>2016/8/1 11:05:36</td>\n",
       "      <td>...</td>\n",
       "      <td>2016/8/1 11:11:46</td>\n",
       "      <td>NaN</td>\n",
       "      <td>NaN</td>\n",
       "      <td>NaN</td>\n",
       "      <td>330</td>\n",
       "      <td>NaN</td>\n",
       "      <td>NaN</td>\n",
       "      <td>1</td>\n",
       "      <td>18688880641</td>\n",
       "      <td>苗宇怡</td>\n",
       "    </tr>\n",
       "    <tr>\n",
       "      <th>1</th>\n",
       "      <td>301</td>\n",
       "      <td>1095</td>\n",
       "      <td>3</td>\n",
       "      <td>NaN</td>\n",
       "      <td>1430</td>\n",
       "      <td>1031</td>\n",
       "      <td>321</td>\n",
       "      <td>6</td>\n",
       "      <td>321</td>\n",
       "      <td>2016/8/1 11:15:57</td>\n",
       "      <td>...</td>\n",
       "      <td>2016/8/1 11:31:55</td>\n",
       "      <td>NaN</td>\n",
       "      <td>NaN</td>\n",
       "      <td>NaN</td>\n",
       "      <td>328</td>\n",
       "      <td>NaN</td>\n",
       "      <td>NaN</td>\n",
       "      <td>1</td>\n",
       "      <td>18688880174</td>\n",
       "      <td>赵颖</td>\n",
       "    </tr>\n",
       "    <tr>\n",
       "      <th>2</th>\n",
       "      <td>413</td>\n",
       "      <td>1147</td>\n",
       "      <td>6</td>\n",
       "      <td>NaN</td>\n",
       "      <td>1488</td>\n",
       "      <td>1009</td>\n",
       "      <td>854</td>\n",
       "      <td>15</td>\n",
       "      <td>854</td>\n",
       "      <td>2016/8/1 12:42:52</td>\n",
       "      <td>...</td>\n",
       "      <td>2016/8/1 12:54:37</td>\n",
       "      <td>NaN</td>\n",
       "      <td>NaN</td>\n",
       "      <td>NaN</td>\n",
       "      <td>330</td>\n",
       "      <td>NaN</td>\n",
       "      <td>NaN</td>\n",
       "      <td>1</td>\n",
       "      <td>18688880276</td>\n",
       "      <td>徐毅凡</td>\n",
       "    </tr>\n",
       "    <tr>\n",
       "      <th>3</th>\n",
       "      <td>415</td>\n",
       "      <td>1166</td>\n",
       "      <td>4</td>\n",
       "      <td>NaN</td>\n",
       "      <td>1502</td>\n",
       "      <td>1023</td>\n",
       "      <td>466</td>\n",
       "      <td>10</td>\n",
       "      <td>466</td>\n",
       "      <td>2016/8/1 12:51:38</td>\n",
       "      <td>...</td>\n",
       "      <td>2016/8/1 13:08:20</td>\n",
       "      <td>NaN</td>\n",
       "      <td>NaN</td>\n",
       "      <td>NaN</td>\n",
       "      <td>330</td>\n",
       "      <td>NaN</td>\n",
       "      <td>NaN</td>\n",
       "      <td>1</td>\n",
       "      <td>18688880231</td>\n",
       "      <td>张大鹏</td>\n",
       "    </tr>\n",
       "    <tr>\n",
       "      <th>4</th>\n",
       "      <td>392</td>\n",
       "      <td>1094</td>\n",
       "      <td>10</td>\n",
       "      <td>NaN</td>\n",
       "      <td>1499</td>\n",
       "      <td>1020</td>\n",
       "      <td>704</td>\n",
       "      <td>24</td>\n",
       "      <td>704</td>\n",
       "      <td>2016/8/1 12:58:44</td>\n",
       "      <td>...</td>\n",
       "      <td>2016/8/1 13:07:16</td>\n",
       "      <td>NaN</td>\n",
       "      <td>NaN</td>\n",
       "      <td>NaN</td>\n",
       "      <td>330</td>\n",
       "      <td>NaN</td>\n",
       "      <td>NaN</td>\n",
       "      <td>1</td>\n",
       "      <td>18688880173</td>\n",
       "      <td>孙熙凯</td>\n",
       "    </tr>\n",
       "  </tbody>\n",
       "</table>\n",
       "<p>5 rows × 21 columns</p>\n",
       "</div>"
      ],
      "text/plain": [
       "   info_id  emp_id  number_consumers  mode  dining_table_id  \\\n",
       "0      417    1442                 4   NaN             1501   \n",
       "1      301    1095                 3   NaN             1430   \n",
       "2      413    1147                 6   NaN             1488   \n",
       "3      415    1166                 4   NaN             1502   \n",
       "4      392    1094                10   NaN             1499   \n",
       "\n",
       "   dining_table_name  expenditure  dishes_count  accounts_payable  \\\n",
       "0               1022          165             5               165   \n",
       "1               1031          321             6               321   \n",
       "2               1009          854            15               854   \n",
       "3               1023          466            10               466   \n",
       "4               1020          704            24               704   \n",
       "\n",
       "      use_start_time  ...          lock_time cashier_id  pc_id  order_number  \\\n",
       "0  2016/8/1 11:05:36  ...  2016/8/1 11:11:46        NaN    NaN           NaN   \n",
       "1  2016/8/1 11:15:57  ...  2016/8/1 11:31:55        NaN    NaN           NaN   \n",
       "2  2016/8/1 12:42:52  ...  2016/8/1 12:54:37        NaN    NaN           NaN   \n",
       "3  2016/8/1 12:51:38  ...  2016/8/1 13:08:20        NaN    NaN           NaN   \n",
       "4  2016/8/1 12:58:44  ...  2016/8/1 13:07:16        NaN    NaN           NaN   \n",
       "\n",
       "   org_id  print_doc_bill_num  lock_table_info  order_status        phone  \\\n",
       "0     330                 NaN              NaN             1  18688880641   \n",
       "1     328                 NaN              NaN             1  18688880174   \n",
       "2     330                 NaN              NaN             1  18688880276   \n",
       "3     330                 NaN              NaN             1  18688880231   \n",
       "4     330                 NaN              NaN             1  18688880173   \n",
       "\n",
       "   name  \n",
       "0   苗宇怡  \n",
       "1    赵颖  \n",
       "2   徐毅凡  \n",
       "3   张大鹏  \n",
       "4   孙熙凯  \n",
       "\n",
       "[5 rows x 21 columns]"
      ]
     },
     "execution_count": 4,
     "metadata": {},
     "output_type": "execute_result"
    }
   ],
   "source": [
    "info.head()"
   ]
  },
  {
   "cell_type": "code",
   "execution_count": 26,
   "id": "9a00c3d2",
   "metadata": {},
   "outputs": [
    {
     "data": {
      "image/png": "[encoded data removed]",
      "text/plain": [
       "<Figure size 432x288 with 1 Axes>"
      ]
     },
     "metadata": {
      "needs_background": "light"
     },
     "output_type": "display_data"
    }
   ],
   "source": [
    "outputfile0 = 'sale_day.csv'  # 每日的用餐人数和营业额数据文件\n",
    "outputfile1 = 'sale_sum.csv'  # 营业额数据文件\n",
    "# 提取订单状态为1的数据\n",
    "info_1 = info[info['order_status'].isin(['1'])]\n",
    "info_1 = info_1.reset_index(drop=True)\n",
    "# 统计每日用餐人数与营业额\n",
    "for i,k in enumerate(info_1['use_start_time']):\n",
    "    y = k.split()\n",
    "    y = pd.to_datetime(y[0])\n",
    "    info_1.loc[i,'use_start_time'] = y\n",
    "groupbyday = info_1[['use_start_time','number_consumers','accounts_payable']].groupby(by='use_start_time')\n",
    "sale_day = groupbyday.sum()\n",
    "# 导出每日的用餐人数和营业额\n",
    "sale_day.columns = ['人数','销量']\n",
    "sale_day.to_csv(outputfile0,encoding=\"utf-8_sig\")\n",
    "# 单独导出营业额，之后会用到\n",
    "sale_sum = sale_day.iloc[:28,1]\n",
    "sale_sum.to_csv(outputfile1,encoding=\"utf-8_sig\",header=1)\n",
    "\n",
    "# 每日用餐人数折线图\n",
    "plt.rcParams['font.sans-serif']=['SimHei']\n",
    "plt.rcParams['axes.unicode_minus'] = False\n",
    "plt.title('每日用餐人数折线图')\n",
    "plt.xlabel('日期')\n",
    "plt.ylabel('用餐人数')\n",
    "plt.plot(sale_day['人数'])\n",
    "plt.show()\n"
   ]
  },
  {
   "cell_type": "code",
   "execution_count": 27,
   "id": "8b5a5428",
   "metadata": {},
   "outputs": [
    {
     "data": {
      "image/png": "[encoded data removed]",
      "text/plain": [
       "<Figure size 432x288 with 1 Axes>"
      ]
     },
     "metadata": {
      "needs_background": "light"
     },
     "output_type": "display_data"
    }
   ],
   "source": [
    "# 画出每日营业额的折线图\n",
    "# 清空画板\n",
    "plt.figure()\n",
    "plt.title('每日营业额的折线图')\n",
    "plt.xlabel('日期')\n",
    "plt.ylabel('营业额')\n",
    "plt.plot(sale_day['销量'])\n",
    "plt.show()"
   ]
  },
  {
   "cell_type": "code",
   "execution_count": 6,
   "id": "e84588a3",
   "metadata": {},
   "outputs": [
    {
     "name": "stderr",
     "output_type": "stream",
     "text": [
      "C:\\ProgramData\\Anaconda3\\lib\\site-packages\\pandas\\core\\indexing.py:1732: SettingWithCopyWarning: \n",
      "A value is trying to be set on a copy of a slice from a DataFrame\n",
      "\n",
      "See the caveats in the documentation: https://pandas.pydata.org/pandas-docs/stable/user_guide/indexing.html#returning-a-view-versus-a-copy\n",
      "  self._setitem_single_block(indexer, value, name)\n"
     ]
    },
    {
     "data": {
      "text/plain": [
       "([0, 1, 2, 3, 4, 5, 6, 7, 8, 9],\n",
       " [Text(0, 0, ''),\n",
       "  Text(0, 0, ''),\n",
       "  Text(0, 0, ''),\n",
       "  Text(0, 0, ''),\n",
       "  Text(0, 0, ''),\n",
       "  Text(0, 0, ''),\n",
       "  Text(0, 0, ''),\n",
       "  Text(0, 0, ''),\n",
       "  Text(0, 0, ''),\n",
       "  Text(0, 0, '')])"
      ]
     },
     "execution_count": 6,
     "metadata": {},
     "output_type": "execute_result"
    },
    {
     "data": {
      "image/png": "[encoded data removed]",
      "text/plain": [
       "<Figure size 576x504 with 1 Axes>"
      ]
     },
     "metadata": {
      "needs_background": "light"
     },
     "output_type": "display_data"
    }
   ],
   "source": [
    "import numpy as np\n",
    "import matplotlib.pyplot as plt\n",
    "plt.rcParams['font.sans-serif'] = 'SimHei' ## 设置中文显示\n",
    "%matplotlib inline\n",
    "outputfile0 = 'sales_volume.csv'  # 菜品热销度数据文件\n",
    "# 计算菜品热销度\n",
    "detail['dishes_name'] = detail['dishes_name'].\\\n",
    "apply(lambda x:x.replace(' ', '').\\\n",
    "      replace('\\n', '').replace('\\r', ''))\n",
    "\n",
    "\n",
    "\n",
    "detail['place_order_time'] = pd.to_datetime(detail['place_order_time'])\n",
    "detail_data = detail[(detail['place_order_time'] >= pd.to_datetime('20160801')) & \n",
    "                     (detail['place_order_time'] <= pd.to_datetime('20180831'))]\n",
    "sales_volume = pd.DataFrame(detail_data.groupby(by=['dishes_name'])[ 'counts'].count())\n",
    "sales_volume['dishes_name'] = sales_volume.index.tolist()\n",
    "sales_volume = sales_volume.reset_index(drop=True)\n",
    "Qmax = np.max(sales_volume['counts'])\n",
    "Qmin = np.min(sales_volume['counts'])\n",
    "sales_volume['sales_hot'] = 0\n",
    "for i in range(sales_volume.shape[0]):\n",
    "    sales_volume['sales_hot'].iloc[i] = round((sales_volume['counts'].iloc[i]-Qmin)/(Qmax-Qmin),2)\n",
    "sales_volume = sales_volume.sort_values(by='sales_hot', ascending = False)\n",
    "sales_volume.to_csv(outputfile0, encoding='utf-8_sig')\n",
    "sales_volume.head(10)\n",
    "plt.figure(figsize=(8, 7))\n",
    "plt.rc('font', size=12)\n",
    "plt.bar(sales_volume.head(10)['dishes_name'],sales_volume.head(10)['counts'])\n",
    "plt.title('热销度前10名的菜品')\n",
    "plt.xlabel('菜品名称')\n",
    "plt.ylabel('销售数量')\n",
    "plt.xticks(rotation=90)\n"
   ]
  },
  {
   "cell_type": "code",
   "execution_count": 7,
   "id": "64f2a14f",
   "metadata": {},
   "outputs": [],
   "source": [
    "#菜品名称删除回车符和空格\n",
    "detail['dishes_name'] = detail['dishes_name'].apply(lambda x:x.replace(' ','').replace('\\n','').replace('\\r',''))\n",
    "\n",
    "# 删除白饭记录\n",
    "drop_index = detail[(detail.dishes_name == ('白饭/小碗')) | (detail.dishes_name == ('白饭/大碗'))].index.tolist()\n",
    "detail = detail.drop(drop_index)"
   ]
  },
  {
   "cell_type": "code",
   "execution_count": 8,
   "id": "c03a8764",
   "metadata": {},
   "outputs": [],
   "source": [
    "# 统计订单状态为0或2的订单占比\n",
    "info_id = info[['info_id']][(info.order_status == 0) | (info.order_status == 2)][\"info_id\"].tolist()\n",
    "proportion = len(info_id) / info.shape[0]"
   ]
  },
  {
   "cell_type": "code",
   "execution_count": 10,
   "id": "2ec0563e",
   "metadata": {},
   "outputs": [],
   "source": [
    "# 删除detail数据中的无意义订单\n",
    "nomean_index = detail[detail['order_id'].apply(lambda x:x in info_id)].index.tolist()\n",
    "detail = detail.drop(nomean_index)"
   ]
  },
  {
   "cell_type": "code",
   "execution_count": 28,
   "id": "74400140",
   "metadata": {},
   "outputs": [
    {
     "name": "stderr",
     "output_type": "stream",
     "text": [
      "C:\\Users\\cloud\\AppData\\Local\\Temp/ipykernel_8176/2706217525.py:18: SettingWithCopyWarning: \n",
      "A value is trying to be set on a copy of a slice from a DataFrame.\n",
      "Try using .loc[row_indexer,col_indexer] = value instead\n",
      "\n",
      "See the caveats in the documentation: https://pandas.pydata.org/pandas-docs/stable/user_guide/indexing.html#returning-a-view-versus-a-copy\n",
      "  profit['rate'] = 0\n",
      "C:\\ProgramData\\Anaconda3\\lib\\site-packages\\pandas\\core\\indexing.py:1732: SettingWithCopyWarning: \n",
      "A value is trying to be set on a copy of a slice from a DataFrame\n",
      "\n",
      "See the caveats in the documentation: https://pandas.pydata.org/pandas-docs/stable/user_guide/indexing.html#returning-a-view-versus-a-copy\n",
      "  self._setitem_single_block(indexer, value, name)\n",
      "C:\\ProgramData\\Anaconda3\\lib\\site-packages\\pandas\\core\\indexing.py:1965: SettingWithCopyWarning: \n",
      "A value is trying to be set on a copy of a slice from a DataFrame\n",
      "\n",
      "See the caveats in the documentation: https://pandas.pydata.org/pandas-docs/stable/user_guide/indexing.html#returning-a-view-versus-a-copy\n",
      "  self.obj._check_is_chained_assignment_possible()\n"
     ]
    }
   ],
   "source": [
    "# 提取订单状态为1的数据\n",
    "# 筛选属性\n",
    "info_1_ = info_1[['info_id', 'emp_id', 'number_consumers', 'expenditure',\n",
    "                  'dishes_count', 'accounts_payable', 'use_start_time', \n",
    "                  'lock_time', 'order_status', 'phone', 'name']]\n",
    "detail = detail[['detail_id', 'order_id', 'dishes_id', 'dishes_name', \n",
    "                 'counts', 'amounts', 'place_order_time', 'emp_id']]\n",
    "# 写出处理后的订单表和订单详情表\n",
    "info_1_.to_csv(outputfile0 , index=0, header=1, encoding='utf-8_sig')\n",
    "detail.to_csv(outputfile1, index=0, header=1, encoding='utf-8_sig')\n",
    "\n",
    "outputfile0 = 'profit.csv'  # 毛利率数据文件\n",
    "# 计算毛利率\n",
    "# 菜品删除回车符\n",
    "dish['dishes_name'] = dish['dishes_name'].apply(lambda x:\n",
    "x.replace(' ', '').replace('\\n', '').replace('\\r', ''))\n",
    "profit = dish[['id', 'dishes_name', 'price', 'cost', 'recommend_percent']]\n",
    "profit['rate'] = 0\n",
    "dish.head()\n",
    "profit.head()\n",
    "for i in range(profit.shape[0]):\n",
    "    profit['rate'].iloc[i] = round((profit[\"price\"].iloc[i]-profit[\"cost\"].iloc[i])\n",
    "    /profit[\"price\"].iloc[i],2)\n",
    "profit.to_csv(outputfile0, encoding='utf-8_sig')\n",
    "\n"
   ]
  },
  {
   "cell_type": "code",
   "execution_count": 45,
   "id": "0923d119",
   "metadata": {},
   "outputs": [],
   "source": [
    "import warnings\n",
    "import itertools\n",
    "import pandas as pd\n",
    "import statsmodels.api as sm\n",
    "import matplotlib.pyplot as plt\n",
    "from statsmodels.graphics.tsaplots import plot_acf,plot_pacf\n",
    "from statsmodels.tsa.stattools import adfuller as ADF\n",
    "from statsmodels.stats.diagnostic import acorr_ljungbox"
   ]
  },
  {
   "cell_type": "code",
   "execution_count": 30,
   "id": "3dc39643",
   "metadata": {},
   "outputs": [],
   "source": [
    "# 读取数据\n",
    "inputfile = 'E:/NOTE/0302/03【商务数据分析】/代码/餐厅订餐数据分析/数据集/sale_sum.csv'  # 营业额数据文件\n",
    "data = pd.read_csv(inputfile , encoding=\"utf-8\",index_col='use_start_time')\n",
    "data = pd.Series(data['销量'].values, index=pd.to_datetime(data.index))"
   ]
  },
  {
   "cell_type": "code",
   "execution_count": 31,
   "id": "fb947f57",
   "metadata": {},
   "outputs": [
    {
     "data": {
      "image/png": "[encoded data removed]",
      "text/plain": [
       "<Figure size 576x288 with 1 Axes>"
      ]
     },
     "metadata": {
      "needs_background": "light"
     },
     "output_type": "display_data"
    }
   ],
   "source": [
    "# 时序图\n",
    "data.plot(figsize=(8, 4))\n",
    "plt.show()\n",
    "plt.close()"
   ]
  },
  {
   "cell_type": "code",
   "execution_count": 32,
   "id": "2bb9d2c6",
   "metadata": {},
   "outputs": [
    {
     "data": {
      "image/png": "[encoded data removed]",
      "text/plain": [
       "<Figure size 432x288 with 1 Axes>"
      ]
     },
     "metadata": {
      "needs_background": "light"
     },
     "output_type": "display_data"
    }
   ],
   "source": [
    "# 自相关图\n",
    "plot_acf(data)\n",
    "plt.show()\n",
    "plt.close()"
   ]
  },
  {
   "cell_type": "code",
   "execution_count": 33,
   "id": "7fe4964c",
   "metadata": {},
   "outputs": [
    {
     "name": "stdout",
     "output_type": "stream",
     "text": [
      "原始序列的ADF检验结果为： (-1.0879729286131623, 0.7198442532820362, 6, 21, {'1%': -3.7883858816542486, '5%': -3.013097747543462, '10%': -2.6463967573696143}, 358.3307334978672)\n"
     ]
    }
   ],
   "source": [
    "# 平稳性检测\n",
    "print('原始序列的ADF检验结果为：', ADF(data))\n",
    "# 返回值依次为adf、pvalue、usedlag、nobs、critical values、icbest、regresults、resstore"
   ]
  },
  {
   "cell_type": "code",
   "execution_count": 36,
   "id": "b7b34010",
   "metadata": {},
   "outputs": [],
   "source": [
    "# 差分后的结果\n",
    "D_data = data.diff(7).dropna()\n",
    "D_data.columns = ['销量差分']"
   ]
  },
  {
   "cell_type": "code",
   "execution_count": 43,
   "id": "51b61bf3",
   "metadata": {},
   "outputs": [
    {
     "data": {
      "image/png": "[encoded data removed]",
      "text/plain": [
       "<Figure size 432x288 with 1 Axes>"
      ]
     },
     "execution_count": 43,
     "metadata": {},
     "output_type": "execute_result"
    },
    {
     "data": {
      "image/png": "[encoded data removed]",
      "text/plain": [
       "<Figure size 432x288 with 1 Axes>"
      ]
     },
     "metadata": {
      "needs_background": "light"
     },
     "output_type": "display_data"
    }
   ],
   "source": [
    "# 自相关图\n",
    "plot_acf(D_data)\n",
    "\n",
    "#plt.close()"
   ]
  },
  {
   "cell_type": "code",
   "execution_count": 46,
   "id": "f5f87239",
   "metadata": {},
   "outputs": [
    {
     "data": {
      "image/png": "[encoded data removed]",
      "text/plain": [
       "<Figure size 432x288 with 1 Axes>"
      ]
     },
     "execution_count": 46,
     "metadata": {},
     "output_type": "execute_result"
    },
    {
     "data": {
      "image/png": "[encoded data removed]",
      "text/plain": [
       "<Figure size 432x288 with 1 Axes>"
      ]
     },
     "metadata": {
      "needs_background": "light"
     },
     "output_type": "display_data"
    }
   ],
   "source": [
    "plot_pacf(D_data,lags=7)"
   ]
  },
  {
   "cell_type": "code",
   "execution_count": 47,
   "id": "ad74edaa",
   "metadata": {},
   "outputs": [
    {
     "name": "stdout",
     "output_type": "stream",
     "text": [
      "ADF检验结果为： (-3.2890140147797324, 0.01537674737942683, 6, 14, {'1%': -4.01203360058309, '5%': -3.1041838775510207, '10%': -2.6909873469387753}, 193.76036454884934)\n"
     ]
    }
   ],
   "source": [
    "print('ADF检验结果为：',ADF(D_data))"
   ]
  },
  {
   "cell_type": "code",
   "execution_count": 38,
   "id": "f55f7c01",
   "metadata": {},
   "outputs": [
    {
     "name": "stdout",
     "output_type": "stream",
     "text": [
      "差分序列的白噪声检验结果为： (array([4.1572609]), array([0.04145639]))\n"
     ]
    }
   ],
   "source": [
    "# 白噪声检验\n",
    "print('差分序列的白噪声检验结果为：', acorr_ljungbox(data, lags=1))  # 返回统计量和p值"
   ]
  },
  {
   "cell_type": "code",
   "execution_count": 39,
   "id": "952bb9a1",
   "metadata": {},
   "outputs": [
    {
     "name": "stdout",
     "output_type": "stream",
     "text": [
      "季节性ARIMA模型的参数组合的例子如下\n",
      "SARIMAX: (0, 0, 1) x (0, 0, 1, 7)\n",
      "SARIMAX: (0, 0, 1) x (0, 1, 0, 7)\n",
      "SARIMAX: (0, 1, 0) x (0, 1, 1, 7)\n",
      "SARIMAX: (0, 1, 0) x (1, 0, 0, 7)\n",
      "SARIMAX: ...\n"
     ]
    }
   ],
   "source": [
    "# 定p,d和q的值，先令它们分别为0、1、2\n",
    "p = d = q = range(0, 2)\n",
    "\n",
    "# 列出所有可能的组合\n",
    "pdq = list(itertools.product(p, d, q))\n",
    "\n",
    "# 列出所有seasonal的参数组合。其中周期为7\n",
    "seasonal_pdq = [(x[0], x[1], x[2], 7) for x in list(itertools.product(p, d, q))]\n",
    "print('季节性ARIMA模型的参数组合的例子如下')\n",
    "print('SARIMAX: {} x {}'.format(pdq[1], seasonal_pdq[1]))\n",
    "print('SARIMAX: {} x {}'.format(pdq[1], seasonal_pdq[2]))\n",
    "print('SARIMAX: {} x {}'.format(pdq[2], seasonal_pdq[3]))\n",
    "print('SARIMAX: {} x {}'.format(pdq[2], seasonal_pdq[4]))\n",
    "print('SARIMAX: ...')"
   ]
  },
  {
   "cell_type": "code",
   "execution_count": 58,
   "id": "c3523cb6",
   "metadata": {},
   "outputs": [
    {
     "name": "stdout",
     "output_type": "stream",
     "text": [
      "ARIMA(0, 0, 0)x(0, 0, 0, 7)7 - BIC:614.2962021298721\n",
      "ARIMA(0, 0, 0)x(0, 0, 1, 7)7 - BIC:885.7625290164823\n",
      "ARIMA(0, 0, 0)x(0, 1, 0, 7)7 - BIC:387.20925205914534\n",
      "ARIMA(0, 0, 0)x(0, 1, 1, 7)7 - BIC:258.14276293640273\n",
      "ARIMA(0, 0, 0)x(1, 0, 0, 7)7 - BIC:408.1696912121337\n",
      "ARIMA(0, 0, 0)x(1, 0, 1, 7)7 - BIC:589.7697784794865\n",
      "ARIMA(0, 0, 0)x(1, 1, 0, 7)7 - BIC:269.79820675793326\n",
      "ARIMA(0, 0, 0)x(1, 1, 1, 7)7 - BIC:248.4419096887282\n",
      "ARIMA(0, 0, 1)x(0, 0, 0, 7)7 - BIC:572.1344094401051\n",
      "ARIMA(0, 0, 1)x(0, 0, 1, 7)7 - BIC:3854.9552587736152\n",
      "ARIMA(0, 0, 1)x(0, 1, 0, 7)7 - BIC:370.62616716883974\n",
      "ARIMA(0, 0, 1)x(0, 1, 1, 7)7 - BIC:240.49989384849465\n",
      "ARIMA(0, 0, 1)x(1, 0, 0, 7)7 - BIC:409.89151704713083\n",
      "ARIMA(0, 0, 1)x(1, 0, 1, 7)7 - BIC:3742.971343087656\n",
      "ARIMA(0, 0, 1)x(1, 1, 0, 7)7 - BIC:271.23374624643805\n",
      "ARIMA(0, 0, 1)x(1, 1, 1, 7)7 - BIC:232.2215871297007\n",
      "ARIMA(0, 1, 0)x(0, 0, 0, 7)7 - BIC:571.0633847736324\n",
      "ARIMA(0, 1, 0)x(0, 0, 1, 7)7 - BIC:904.4972245571828\n",
      "ARIMA(0, 1, 0)x(0, 1, 0, 7)7 - BIC:379.6676792992207\n",
      "ARIMA(0, 1, 0)x(0, 1, 1, 7)7 - BIC:244.92678199473426\n",
      "ARIMA(0, 1, 0)x(1, 0, 0, 7)7 - BIC:400.887895763929\n",
      "ARIMA(0, 1, 0)x(1, 0, 1, 7)7 - BIC:817.9223899006324\n",
      "ARIMA(0, 1, 0)x(1, 1, 0, 7)7 - BIC:253.69983945853707\n",
      "ARIMA(0, 1, 0)x(1, 1, 1, 7)7 - BIC:237.2591924575413\n",
      "ARIMA(0, 1, 1)x(0, 0, 0, 7)7 - BIC:550.9481268183055\n",
      "ARIMA(0, 1, 1)x(0, 0, 1, 7)7 - BIC:2698.8022410142585\n",
      "ARIMA(0, 1, 1)x(0, 1, 0, 7)7 - BIC:357.0257930397699\n",
      "ARIMA(0, 1, 1)x(0, 1, 1, 7)7 - BIC:222.1713539917152\n",
      "ARIMA(0, 1, 1)x(1, 0, 0, 7)7 - BIC:427.6574653015916\n",
      "ARIMA(0, 1, 1)x(1, 0, 1, 7)7 - BIC:1093.3079252915309\n",
      "ARIMA(0, 1, 1)x(1, 1, 0, 7)7 - BIC:256.9543817378052\n",
      "ARIMA(0, 1, 1)x(1, 1, 1, 7)7 - BIC:217.73597044343222\n",
      "ARIMA(1, 0, 0)x(0, 0, 0, 7)7 - BIC:592.1210613353036\n",
      "ARIMA(1, 0, 0)x(0, 0, 1, 7)7 - BIC:2798.585695902419\n",
      "ARIMA(1, 0, 0)x(0, 1, 0, 7)7 - BIC:389.0153878091273\n",
      "ARIMA(1, 0, 0)x(0, 1, 1, 7)7 - BIC:259.732211606672\n",
      "ARIMA(1, 0, 0)x(1, 0, 0, 7)7 - BIC:423.2356208173213\n",
      "ARIMA(1, 0, 0)x(1, 0, 1, 7)7 - BIC:687.5516915466605\n",
      "ARIMA(1, 0, 0)x(1, 1, 0, 7)7 - BIC:253.09740744453805\n",
      "ARIMA(1, 0, 0)x(1, 1, 1, 7)7 - BIC:245.93276123679775\n",
      "ARIMA(1, 0, 1)x(0, 0, 0, 7)7 - BIC:565.3063246462316\n",
      "ARIMA(1, 0, 1)x(0, 0, 1, 7)7 - BIC:2554.2421760567286\n",
      "ARIMA(1, 0, 1)x(0, 1, 0, 7)7 - BIC:372.01035203415915\n",
      "ARIMA(1, 0, 1)x(0, 1, 1, 7)7 - BIC:241.11025713584644\n",
      "ARIMA(1, 0, 1)x(1, 0, 0, 7)7 - BIC:390.6696527405117\n",
      "ARIMA(1, 0, 1)x(1, 0, 1, 7)7 - BIC:2005.7716939112706\n",
      "ARIMA(1, 0, 1)x(1, 1, 0, 7)7 - BIC:254.5227127858428\n",
      "ARIMA(1, 0, 1)x(1, 1, 1, 7)7 - BIC:234.39040913558108\n",
      "ARIMA(1, 1, 0)x(0, 0, 0, 7)7 - BIC:572.8853597706438\n",
      "ARIMA(1, 1, 0)x(0, 0, 1, 7)7 - BIC:789.0330962772173\n",
      "ARIMA(1, 1, 0)x(0, 1, 0, 7)7 - BIC:376.5532579461879\n",
      "ARIMA(1, 1, 0)x(0, 1, 1, 7)7 - BIC:242.65209902319788\n",
      "ARIMA(1, 1, 0)x(1, 0, 0, 7)7 - BIC:404.67406567612557\n",
      "ARIMA(1, 1, 0)x(1, 0, 1, 7)7 - BIC:2202.8378786058665\n",
      "ARIMA(1, 1, 0)x(1, 1, 0, 7)7 - BIC:236.1331278079407\n",
      "ARIMA(1, 1, 0)x(1, 1, 1, 7)7 - BIC:236.37236505095692\n",
      "ARIMA(1, 1, 1)x(0, 0, 0, 7)7 - BIC:547.6667172017866\n",
      "ARIMA(1, 1, 1)x(0, 0, 1, 7)7 - BIC:2792.4791313710866\n",
      "ARIMA(1, 1, 1)x(0, 1, 0, 7)7 - BIC:357.73044203605014\n",
      "ARIMA(1, 1, 1)x(0, 1, 1, 7)7 - BIC:224.15048532356758\n",
      "ARIMA(1, 1, 1)x(1, 0, 0, 7)7 - BIC:408.1470923917895\n",
      "ARIMA(1, 1, 1)x(1, 0, 1, 7)7 - BIC:1545.9936093617073\n",
      "ARIMA(1, 1, 1)x(1, 1, 0, 7)7 - BIC:236.42654639693302\n",
      "ARIMA(1, 1, 1)x(1, 1, 1, 7)7 - BIC:213.86966069747282\n"
     ]
    }
   ],
   "source": [
    "warnings.filterwarnings(\"ignore\")  # 忽略warning\n",
    "\n",
    "for param in pdq:\n",
    "    for param_seasonal in seasonal_pdq:\n",
    "        try:\n",
    "            mod = sm.tsa.statespace.SARIMAX(data,\n",
    "                                            order=param,\n",
    "                                            seasonal_order=param_seasonal,\n",
    "                                            enforce_stationarity=False,\n",
    "                                            enforce_invertibility=False)\n",
    "            results = mod.fit()\n",
    "            print('ARIMA{}x{}7 - BIC:{}'.format(param, param_seasonal, results.aic))\n",
    "        except:\n",
    "            continue\n",
    "        \n",
    "# 通过上述尝试找出AIC最低时pdq的值，为ARIMA(1, 1, 0)x(1, 1, 0, 7)7 "
   ]
  },
  {
   "cell_type": "code",
   "execution_count": 48,
   "id": "63c62ae9",
   "metadata": {},
   "outputs": [],
   "source": [
    "# 建立模型\n",
    "mod = sm.tsa.statespace.SARIMAX(data,\n",
    "                                order=(1, 1, 0),\n",
    "                                seasonal_order=(1, 1, 0, 7),\n",
    "                                enforce_stationarity=False,\n",
    "                                enforce_invertibility=False)\n",
    "results = mod.fit()"
   ]
  },
  {
   "cell_type": "code",
   "execution_count": 57,
   "id": "9427418a",
   "metadata": {},
   "outputs": [
    {
     "data": {
      "text/plain": [
       "2016-08-29    12694.447067\n",
       "2016-08-30     7998.312261\n",
       "2016-08-31    12513.436520\n",
       "2016-09-01    13347.990316\n",
       "2016-09-02    14080.776765\n",
       "2016-09-03    44510.440089\n",
       "2016-09-04    39415.180275\n",
       "2016-09-05     9991.675293\n",
       "2016-09-06    11061.452061\n",
       "Freq: D, Name: predicted_mean, dtype: float64"
      ]
     },
     "execution_count": 57,
     "metadata": {},
     "output_type": "execute_result"
    }
   ],
   "source": [
    "results.predict(start = pd.to_datetime(\"2016-08-29\"),end = pd.to_datetime(\"2016-09-6\"))"
   ]
  },
  {
   "cell_type": "code",
   "execution_count": 49,
   "id": "e1300851",
   "metadata": {},
   "outputs": [
    {
     "name": "stdout",
     "output_type": "stream",
     "text": [
      "预测后3天的销量为：\n",
      " 2016-08-29    12694.447067\n",
      "2016-08-30     7998.312261\n",
      "2016-08-31    12513.436520\n",
      "Freq: D, Name: predicted_mean, dtype: float64\n"
     ]
    }
   ],
   "source": [
    "# 预测之后3天的销量数据\n",
    "pred_sale = results.get_forecast(steps=3)\n",
    "# 得到预测的置信区间\n",
    "pred_ci = pred_sale.conf_int()\n",
    "# 取平均值为预测值\n",
    "forecast_sale = pred_sale.predicted_mean\n",
    "print('预测后3天的销量为：\\n',forecast_sale)"
   ]
  },
  {
   "cell_type": "code",
   "execution_count": 50,
   "id": "8feb3630",
   "metadata": {},
   "outputs": [
    {
     "data": {
      "image/png": "[encoded data removed]",
      "text/plain": [
       "<Figure size 576x288 with 1 Axes>"
      ]
     },
     "metadata": {
      "needs_background": "light"
     },
     "output_type": "display_data"
    }
   ],
   "source": [
    "# 画出预测结果的时序图\n",
    "ax = data.plot(label='observed', figsize=(8, 4))\n",
    "a=forecast_sale.index\n",
    "b=forecast_sale.values\n",
    "ax.scatter(a,b,c = 'r',marker = 'o')  \n",
    "forecast_sale.plot(ax=ax, label='Forecast')\n",
    "ax.fill_between(pred_ci.index,\n",
    "                pred_ci.iloc[:, 0],\n",
    "                pred_ci.iloc[:, 1], color='k', alpha=.25)\n",
    "ax.set_xlabel('日期')\n",
    "ax.set_ylabel('销量')\n",
    "plt.show()"
   ]
  },
  {
   "cell_type": "code",
   "execution_count": 53,
   "id": "ce79ed58",
   "metadata": {
    "collapsed": true
   },
   "outputs": [
    {
     "ename": "FileNotFoundError",
     "evalue": "[Errno 2] No such file or directory: 'E:/NOTE/0302/03【商务数据分析】/代码/餐厅订餐数据分析/数据集/detail_clear.csv '",
     "output_type": "error",
     "traceback": [
      "\u001b[1;31m---------------------------------------------------------------------------\u001b[0m",
      "\u001b[1;31mFileNotFoundError\u001b[0m                         Traceback (most recent call last)",
      "\u001b[1;32m~\\AppData\\Local\\Temp/ipykernel_8176/670212552.py\u001b[0m in \u001b[0;36m<module>\u001b[1;34m\u001b[0m\n\u001b[1;32m----> 1\u001b[1;33m \u001b[0mdetail\u001b[0m \u001b[1;33m=\u001b[0m \u001b[0mpd\u001b[0m\u001b[1;33m.\u001b[0m\u001b[0mread_csv\u001b[0m\u001b[1;33m(\u001b[0m\u001b[1;34m'E:/NOTE/0302/03【商务数据分析】/代码/餐厅订餐数据分析/数据集/detail_clear.csv '\u001b[0m\u001b[1;33m,\u001b[0m \u001b[0mencoding\u001b[0m \u001b[1;33m=\u001b[0m \u001b[1;34m'utf-8'\u001b[0m\u001b[1;33m)\u001b[0m\u001b[1;33m\u001b[0m\u001b[1;33m\u001b[0m\u001b[0m\n\u001b[0m",
      "\u001b[1;32mC:\\ProgramData\\Anaconda3\\lib\\site-packages\\pandas\\util\\_decorators.py\u001b[0m in \u001b[0;36mwrapper\u001b[1;34m(*args, **kwargs)\u001b[0m\n\u001b[0;32m    309\u001b[0m                     \u001b[0mstacklevel\u001b[0m\u001b[1;33m=\u001b[0m\u001b[0mstacklevel\u001b[0m\u001b[1;33m,\u001b[0m\u001b[1;33m\u001b[0m\u001b[1;33m\u001b[0m\u001b[0m\n\u001b[0;32m    310\u001b[0m                 )\n\u001b[1;32m--> 311\u001b[1;33m             \u001b[1;32mreturn\u001b[0m \u001b[0mfunc\u001b[0m\u001b[1;33m(\u001b[0m\u001b[1;33m*\u001b[0m\u001b[0margs\u001b[0m\u001b[1;33m,\u001b[0m \u001b[1;33m**\u001b[0m\u001b[0mkwargs\u001b[0m\u001b[1;33m)\u001b[0m\u001b[1;33m\u001b[0m\u001b[1;33m\u001b[0m\u001b[0m\n\u001b[0m\u001b[0;32m    312\u001b[0m \u001b[1;33m\u001b[0m\u001b[0m\n\u001b[0;32m    313\u001b[0m         \u001b[1;32mreturn\u001b[0m \u001b[0mwrapper\u001b[0m\u001b[1;33m\u001b[0m\u001b[1;33m\u001b[0m\u001b[0m\n",
      "\u001b[1;32mC:\\ProgramData\\Anaconda3\\lib\\site-packages\\pandas\\io\\parsers\\readers.py\u001b[0m in \u001b[0;36mread_csv\u001b[1;34m(filepath_or_buffer, sep, delimiter, header, names, index_col, usecols, squeeze, prefix, mangle_dupe_cols, dtype, engine, converters, true_values, false_values, skipinitialspace, skiprows, skipfooter, nrows, na_values, keep_default_na, na_filter, verbose, skip_blank_lines, parse_dates, infer_datetime_format, keep_date_col, date_parser, dayfirst, cache_dates, iterator, chunksize, compression, thousands, decimal, lineterminator, quotechar, quoting, doublequote, escapechar, comment, encoding, encoding_errors, dialect, error_bad_lines, warn_bad_lines, on_bad_lines, delim_whitespace, low_memory, memory_map, float_precision, storage_options)\u001b[0m\n\u001b[0;32m    584\u001b[0m     \u001b[0mkwds\u001b[0m\u001b[1;33m.\u001b[0m\u001b[0mupdate\u001b[0m\u001b[1;33m(\u001b[0m\u001b[0mkwds_defaults\u001b[0m\u001b[1;33m)\u001b[0m\u001b[1;33m\u001b[0m\u001b[1;33m\u001b[0m\u001b[0m\n\u001b[0;32m    585\u001b[0m \u001b[1;33m\u001b[0m\u001b[0m\n\u001b[1;32m--> 586\u001b[1;33m     \u001b[1;32mreturn\u001b[0m \u001b[0m_read\u001b[0m\u001b[1;33m(\u001b[0m\u001b[0mfilepath_or_buffer\u001b[0m\u001b[1;33m,\u001b[0m \u001b[0mkwds\u001b[0m\u001b[1;33m)\u001b[0m\u001b[1;33m\u001b[0m\u001b[1;33m\u001b[0m\u001b[0m\n\u001b[0m\u001b[0;32m    587\u001b[0m \u001b[1;33m\u001b[0m\u001b[0m\n\u001b[0;32m    588\u001b[0m \u001b[1;33m\u001b[0m\u001b[0m\n",
      "\u001b[1;32mC:\\ProgramData\\Anaconda3\\lib\\site-packages\\pandas\\io\\parsers\\readers.py\u001b[0m in \u001b[0;36m_read\u001b[1;34m(filepath_or_buffer, kwds)\u001b[0m\n\u001b[0;32m    480\u001b[0m \u001b[1;33m\u001b[0m\u001b[0m\n\u001b[0;32m    481\u001b[0m     \u001b[1;31m# Create the parser.\u001b[0m\u001b[1;33m\u001b[0m\u001b[1;33m\u001b[0m\u001b[0m\n\u001b[1;32m--> 482\u001b[1;33m     \u001b[0mparser\u001b[0m \u001b[1;33m=\u001b[0m \u001b[0mTextFileReader\u001b[0m\u001b[1;33m(\u001b[0m\u001b[0mfilepath_or_buffer\u001b[0m\u001b[1;33m,\u001b[0m \u001b[1;33m**\u001b[0m\u001b[0mkwds\u001b[0m\u001b[1;33m)\u001b[0m\u001b[1;33m\u001b[0m\u001b[1;33m\u001b[0m\u001b[0m\n\u001b[0m\u001b[0;32m    483\u001b[0m \u001b[1;33m\u001b[0m\u001b[0m\n\u001b[0;32m    484\u001b[0m     \u001b[1;32mif\u001b[0m \u001b[0mchunksize\u001b[0m \u001b[1;32mor\u001b[0m \u001b[0miterator\u001b[0m\u001b[1;33m:\u001b[0m\u001b[1;33m\u001b[0m\u001b[1;33m\u001b[0m\u001b[0m\n",
      "\u001b[1;32mC:\\ProgramData\\Anaconda3\\lib\\site-packages\\pandas\\io\\parsers\\readers.py\u001b[0m in \u001b[0;36m__init__\u001b[1;34m(self, f, engine, **kwds)\u001b[0m\n\u001b[0;32m    809\u001b[0m             \u001b[0mself\u001b[0m\u001b[1;33m.\u001b[0m\u001b[0moptions\u001b[0m\u001b[1;33m[\u001b[0m\u001b[1;34m\"has_index_names\"\u001b[0m\u001b[1;33m]\u001b[0m \u001b[1;33m=\u001b[0m \u001b[0mkwds\u001b[0m\u001b[1;33m[\u001b[0m\u001b[1;34m\"has_index_names\"\u001b[0m\u001b[1;33m]\u001b[0m\u001b[1;33m\u001b[0m\u001b[1;33m\u001b[0m\u001b[0m\n\u001b[0;32m    810\u001b[0m \u001b[1;33m\u001b[0m\u001b[0m\n\u001b[1;32m--> 811\u001b[1;33m         \u001b[0mself\u001b[0m\u001b[1;33m.\u001b[0m\u001b[0m_engine\u001b[0m \u001b[1;33m=\u001b[0m \u001b[0mself\u001b[0m\u001b[1;33m.\u001b[0m\u001b[0m_make_engine\u001b[0m\u001b[1;33m(\u001b[0m\u001b[0mself\u001b[0m\u001b[1;33m.\u001b[0m\u001b[0mengine\u001b[0m\u001b[1;33m)\u001b[0m\u001b[1;33m\u001b[0m\u001b[1;33m\u001b[0m\u001b[0m\n\u001b[0m\u001b[0;32m    812\u001b[0m \u001b[1;33m\u001b[0m\u001b[0m\n\u001b[0;32m    813\u001b[0m     \u001b[1;32mdef\u001b[0m \u001b[0mclose\u001b[0m\u001b[1;33m(\u001b[0m\u001b[0mself\u001b[0m\u001b[1;33m)\u001b[0m\u001b[1;33m:\u001b[0m\u001b[1;33m\u001b[0m\u001b[1;33m\u001b[0m\u001b[0m\n",
      "\u001b[1;32mC:\\ProgramData\\Anaconda3\\lib\\site-packages\\pandas\\io\\parsers\\readers.py\u001b[0m in \u001b[0;36m_make_engine\u001b[1;34m(self, engine)\u001b[0m\n\u001b[0;32m   1038\u001b[0m             )\n\u001b[0;32m   1039\u001b[0m         \u001b[1;31m# error: Too many arguments for \"ParserBase\"\u001b[0m\u001b[1;33m\u001b[0m\u001b[1;33m\u001b[0m\u001b[0m\n\u001b[1;32m-> 1040\u001b[1;33m         \u001b[1;32mreturn\u001b[0m \u001b[0mmapping\u001b[0m\u001b[1;33m[\u001b[0m\u001b[0mengine\u001b[0m\u001b[1;33m]\u001b[0m\u001b[1;33m(\u001b[0m\u001b[0mself\u001b[0m\u001b[1;33m.\u001b[0m\u001b[0mf\u001b[0m\u001b[1;33m,\u001b[0m \u001b[1;33m**\u001b[0m\u001b[0mself\u001b[0m\u001b[1;33m.\u001b[0m\u001b[0moptions\u001b[0m\u001b[1;33m)\u001b[0m  \u001b[1;31m# type: ignore[call-arg]\u001b[0m\u001b[1;33m\u001b[0m\u001b[1;33m\u001b[0m\u001b[0m\n\u001b[0m\u001b[0;32m   1041\u001b[0m \u001b[1;33m\u001b[0m\u001b[0m\n\u001b[0;32m   1042\u001b[0m     \u001b[1;32mdef\u001b[0m \u001b[0m_failover_to_python\u001b[0m\u001b[1;33m(\u001b[0m\u001b[0mself\u001b[0m\u001b[1;33m)\u001b[0m\u001b[1;33m:\u001b[0m\u001b[1;33m\u001b[0m\u001b[1;33m\u001b[0m\u001b[0m\n",
      "\u001b[1;32mC:\\ProgramData\\Anaconda3\\lib\\site-packages\\pandas\\io\\parsers\\c_parser_wrapper.py\u001b[0m in \u001b[0;36m__init__\u001b[1;34m(self, src, **kwds)\u001b[0m\n\u001b[0;32m     49\u001b[0m \u001b[1;33m\u001b[0m\u001b[0m\n\u001b[0;32m     50\u001b[0m         \u001b[1;31m# open handles\u001b[0m\u001b[1;33m\u001b[0m\u001b[1;33m\u001b[0m\u001b[0m\n\u001b[1;32m---> 51\u001b[1;33m         \u001b[0mself\u001b[0m\u001b[1;33m.\u001b[0m\u001b[0m_open_handles\u001b[0m\u001b[1;33m(\u001b[0m\u001b[0msrc\u001b[0m\u001b[1;33m,\u001b[0m \u001b[0mkwds\u001b[0m\u001b[1;33m)\u001b[0m\u001b[1;33m\u001b[0m\u001b[1;33m\u001b[0m\u001b[0m\n\u001b[0m\u001b[0;32m     52\u001b[0m         \u001b[1;32massert\u001b[0m \u001b[0mself\u001b[0m\u001b[1;33m.\u001b[0m\u001b[0mhandles\u001b[0m \u001b[1;32mis\u001b[0m \u001b[1;32mnot\u001b[0m \u001b[1;32mNone\u001b[0m\u001b[1;33m\u001b[0m\u001b[1;33m\u001b[0m\u001b[0m\n\u001b[0;32m     53\u001b[0m \u001b[1;33m\u001b[0m\u001b[0m\n",
      "\u001b[1;32mC:\\ProgramData\\Anaconda3\\lib\\site-packages\\pandas\\io\\parsers\\base_parser.py\u001b[0m in \u001b[0;36m_open_handles\u001b[1;34m(self, src, kwds)\u001b[0m\n\u001b[0;32m    220\u001b[0m         \u001b[0mLet\u001b[0m \u001b[0mthe\u001b[0m \u001b[0mreaders\u001b[0m \u001b[0mopen\u001b[0m \u001b[0mIOHandles\u001b[0m \u001b[0mafter\u001b[0m \u001b[0mthey\u001b[0m \u001b[0mare\u001b[0m \u001b[0mdone\u001b[0m \u001b[1;32mwith\u001b[0m \u001b[0mtheir\u001b[0m \u001b[0mpotential\u001b[0m \u001b[0mraises\u001b[0m\u001b[1;33m.\u001b[0m\u001b[1;33m\u001b[0m\u001b[1;33m\u001b[0m\u001b[0m\n\u001b[0;32m    221\u001b[0m         \"\"\"\n\u001b[1;32m--> 222\u001b[1;33m         self.handles = get_handle(\n\u001b[0m\u001b[0;32m    223\u001b[0m             \u001b[0msrc\u001b[0m\u001b[1;33m,\u001b[0m\u001b[1;33m\u001b[0m\u001b[1;33m\u001b[0m\u001b[0m\n\u001b[0;32m    224\u001b[0m             \u001b[1;34m\"r\"\u001b[0m\u001b[1;33m,\u001b[0m\u001b[1;33m\u001b[0m\u001b[1;33m\u001b[0m\u001b[0m\n",
      "\u001b[1;32mC:\\ProgramData\\Anaconda3\\lib\\site-packages\\pandas\\io\\common.py\u001b[0m in \u001b[0;36mget_handle\u001b[1;34m(path_or_buf, mode, encoding, compression, memory_map, is_text, errors, storage_options)\u001b[0m\n\u001b[0;32m    700\u001b[0m         \u001b[1;32mif\u001b[0m \u001b[0mioargs\u001b[0m\u001b[1;33m.\u001b[0m\u001b[0mencoding\u001b[0m \u001b[1;32mand\u001b[0m \u001b[1;34m\"b\"\u001b[0m \u001b[1;32mnot\u001b[0m \u001b[1;32min\u001b[0m \u001b[0mioargs\u001b[0m\u001b[1;33m.\u001b[0m\u001b[0mmode\u001b[0m\u001b[1;33m:\u001b[0m\u001b[1;33m\u001b[0m\u001b[1;33m\u001b[0m\u001b[0m\n\u001b[0;32m    701\u001b[0m             \u001b[1;31m# Encoding\u001b[0m\u001b[1;33m\u001b[0m\u001b[1;33m\u001b[0m\u001b[0m\n\u001b[1;32m--> 702\u001b[1;33m             handle = open(\n\u001b[0m\u001b[0;32m    703\u001b[0m                 \u001b[0mhandle\u001b[0m\u001b[1;33m,\u001b[0m\u001b[1;33m\u001b[0m\u001b[1;33m\u001b[0m\u001b[0m\n\u001b[0;32m    704\u001b[0m                 \u001b[0mioargs\u001b[0m\u001b[1;33m.\u001b[0m\u001b[0mmode\u001b[0m\u001b[1;33m,\u001b[0m\u001b[1;33m\u001b[0m\u001b[1;33m\u001b[0m\u001b[0m\n",
      "\u001b[1;31mFileNotFoundError\u001b[0m: [Errno 2] No such file or directory: 'E:/NOTE/0302/03【商务数据分析】/代码/餐厅订餐数据分析/数据集/detail_clear.csv '"
     ]
    }
   ],
   "source": [
    "detail = pd.read_csv('E:/NOTE/0302/03【商务数据分析】/代码/餐厅订餐数据分析/数据集/detail_clear.csv ', encoding = 'utf-8')"
   ]
  },
  {
   "cell_type": "code",
   "execution_count": null,
   "id": "1f525dd0",
   "metadata": {},
   "outputs": [],
   "source": []
  },
  {
   "cell_type": "code",
   "execution_count": null,
   "id": "02819cef",
   "metadata": {},
   "outputs": [],
   "source": []
  },
  {
   "cell_type": "code",
   "execution_count": null,
   "id": "d600ed56",
   "metadata": {},
   "outputs": [],
   "source": []
  },
  {
   "cell_type": "code",
   "execution_count": null,
   "id": "6b0ef606",
   "metadata": {},
   "outputs": [],
   "source": []
  },
  {
   "cell_type": "code",
   "execution_count": null,
   "id": "c79a4e9b",
   "metadata": {},
   "outputs": [],
   "source": []
  },
  {
   "cell_type": "code",
   "execution_count": null,
   "id": "6f814379",
   "metadata": {},
   "outputs": [],
   "source": []
  }
 ],
 "metadata": {
  "kernelspec": {
   "display_name": "Python 3 (ipykernel)",
   "language": "python",
   "name": "python3"
  },
  "language_info": {
   "codemirror_mode": {
    "name": "ipython",
    "version": 3
   },
   "file_extension": ".py",
   "mimetype": "text/x-python",
   "name": "python",
   "nbconvert_exporter": "python",
   "pygments_lexer": "ipython3",
   "version": "3.9.7"
  }
 },
 "nbformat": 4,
 "nbformat_minor": 5
}
