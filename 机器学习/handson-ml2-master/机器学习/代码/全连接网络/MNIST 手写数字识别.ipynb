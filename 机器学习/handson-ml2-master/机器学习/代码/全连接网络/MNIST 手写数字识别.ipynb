{
 "cells": [
  {
   "cell_type": "markdown",
   "id": "5675bdb2",
   "metadata": {},
   "source": [
    "# MNIST 手写数字识别"
   ]
  },
  {
   "cell_type": "code",
   "execution_count": 2,
   "id": "825bf5bd",
   "metadata": {},
   "outputs": [],
   "source": [
    "import tensorflow as tf\n",
    "import pandas as pd\n",
    "import matplotlib.pyplot as plt\n",
    "from sklearn.metrics import accuracy_score,f1_score,confusion_matrix\n",
    "import seaborn as sn\n",
    "from sklearn.metrics import classification_report \n",
    "import numpy as np\n",
    "import warnings\n",
    "warnings.filterwarnings(\"ignore\")\n",
    "%matplotlib inline"
   ]
  },
  {
   "cell_type": "code",
   "execution_count": 3,
   "id": "66062789",
   "metadata": {},
   "outputs": [],
   "source": [
    "import ssl\n",
    "ssl._create_default_https_context = ssl._create_unverified_context#下载数据集"
   ]
  },
  {
   "cell_type": "code",
   "execution_count": 4,
   "id": "d239b6d4",
   "metadata": {},
   "outputs": [],
   "source": [
    "(X_train,y_train),(X_test,y_test)=tf.keras.datasets.mnist.load_data()"
   ]
  },
  {
   "cell_type": "code",
   "execution_count": 5,
   "id": "ad9fac60",
   "metadata": {},
   "outputs": [
    {
     "data": {
      "text/plain": [
       "(60000, 28, 28)"
      ]
     },
     "execution_count": 5,
     "metadata": {},
     "output_type": "execute_result"
    }
   ],
   "source": [
    " #数据集有60000张图片\n",
    "X_train.shape"
   ]
  },
  {
   "cell_type": "code",
   "execution_count": 6,
   "id": "66b44695",
   "metadata": {},
   "outputs": [
    {
     "data": {
      "text/plain": [
       "(60000,)"
      ]
     },
     "execution_count": 6,
     "metadata": {},
     "output_type": "execute_result"
    }
   ],
   "source": [
    "y_train.shape"
   ]
  },
  {
   "cell_type": "code",
   "execution_count": 7,
   "id": "aa3d1cf4",
   "metadata": {},
   "outputs": [
    {
     "data": {
      "text/plain": [
       "(10000, 28, 28)"
      ]
     },
     "execution_count": 7,
     "metadata": {},
     "output_type": "execute_result"
    }
   ],
   "source": [
    "X_test.shape"
   ]
  },
  {
   "cell_type": "code",
   "execution_count": 8,
   "id": "bf405f7d",
   "metadata": {},
   "outputs": [
    {
     "data": {
      "text/plain": [
       "(10000,)"
      ]
     },
     "execution_count": 8,
     "metadata": {},
     "output_type": "execute_result"
    }
   ],
   "source": [
    "y_test.shape"
   ]
  },
  {
   "cell_type": "code",
   "execution_count": 9,
   "id": "bf41b6a8",
   "metadata": {},
   "outputs": [
    {
     "data": {
      "text/plain": [
       "<matplotlib.image.AxesImage at 0x7efaba14eaa0>"
      ]
     },
     "execution_count": 9,
     "metadata": {},
     "output_type": "execute_result"
    },
    {
     "data": {
      "image/png": "[encoded data removed]",
      "text/plain": [
       "<Figure size 432x288 with 1 Axes>"
      ]
     },
     "metadata": {
      "needs_background": "light"
     },
     "output_type": "display_data"
    }
   ],
   "source": [
    "plt.imshow(X_train[0])  #显示第0张图片 \n"
   ]
  },
  {
   "cell_type": "code",
   "execution_count": 10,
   "id": "c9530dfa",
   "metadata": {},
   "outputs": [
    {
     "data": {
      "text/plain": [
       "<matplotlib.image.AxesImage at 0x7efab4bef070>"
      ]
     },
     "execution_count": 10,
     "metadata": {},
     "output_type": "execute_result"
    },
    {
     "data": {
      "image/png": "[encoded data removed]",
      "text/plain": [
       "<Figure size 432x288 with 1 Axes>"
      ]
     },
     "metadata": {
      "needs_background": "light"
     },
     "output_type": "display_data"
    }
   ],
   "source": [
    "plt.imshow(X_train[0],cmap=\"binary\")"
   ]
  },
  {
   "cell_type": "code",
   "execution_count": 11,
   "id": "bd79e7a9",
   "metadata": {},
   "outputs": [
    {
     "name": "stderr",
     "output_type": "stream",
     "text": [
      "2022-10-14 10:20:19.308802: W tensorflow/stream_executor/platform/default/dso_loader.cc:64] Could not load dynamic library 'libcuda.so.1'; dlerror: libcuda.so.1: cannot open shared object file: No such file or directory\n",
      "2022-10-14 10:20:19.309115: W tensorflow/stream_executor/cuda/cuda_driver.cc:269] failed call to cuInit: UNKNOWN ERROR (303)\n",
      "2022-10-14 10:20:19.309166: I tensorflow/stream_executor/cuda/cuda_diagnostics.cc:156] kernel driver does not appear to be running on this host (localhost.localdomain): /proc/driver/nvidia/version does not exist\n",
      "2022-10-14 10:20:19.310636: I tensorflow/core/platform/cpu_feature_guard.cc:193] This TensorFlow binary is optimized with oneAPI Deep Neural Network Library (oneDNN) to use the following CPU instructions in performance-critical operations:  AVX2 AVX512F AVX512_VNNI FMA\n",
      "To enable them in other operations, rebuild TensorFlow with the appropriate compiler flags.\n"
     ]
    }
   ],
   "source": [
    "#创建神经网络\n",
    "model = tf.keras.models.Sequential()\n",
    "model.add(tf.keras.layers.Flatten(input_shape = (28,28)))\n",
    "model.add(tf.keras.layers.Dense(1024,activation = \"relu\"))\n",
    "model.add(tf.keras.layers.Dense(1024,activation = \"relu\"))\n",
    "model.add(tf.keras.layers.Dense(10,activation = \"softmax\"))"
   ]
  },
  {
   "cell_type": "code",
   "execution_count": 12,
   "id": "f0e06fd0",
   "metadata": {},
   "outputs": [
    {
     "name": "stdout",
     "output_type": "stream",
     "text": [
      "Model: \"sequential\"\n",
      "_________________________________________________________________\n",
      " Layer (type)                Output Shape              Param #   \n",
      "=================================================================\n",
      " flatten (Flatten)           (None, 784)               0         \n",
      "                                                                 \n",
      " dense (Dense)               (None, 1024)              803840    \n",
      "                                                                 \n",
      " dense_1 (Dense)             (None, 1024)              1049600   \n",
      "                                                                 \n",
      " dense_2 (Dense)             (None, 10)                10250     \n",
      "                                                                 \n",
      "=================================================================\n",
      "Total params: 1,863,690\n",
      "Trainable params: 1,863,690\n",
      "Non-trainable params: 0\n",
      "_________________________________________________________________\n"
     ]
    }
   ],
   "source": [
    "#一定要有的，看模型长什么样子\n",
    "model.summary()"
   ]
  },
  {
   "cell_type": "code",
   "execution_count": 13,
   "id": "5c5ce524",
   "metadata": {},
   "outputs": [],
   "source": [
    "model.compile(optimizer=\"adam\",\n",
    "              loss=\"sparse_categorical_crossentropy\",  \n",
    "             metrics=[\"acc\"])"
   ]
  },
  {
   "cell_type": "code",
   "execution_count": 14,
   "id": "072fb336",
   "metadata": {},
   "outputs": [
    {
     "data": {
      "text/plain": [
       "((60000, 28, 28), (60000,))"
      ]
     },
     "execution_count": 14,
     "metadata": {},
     "output_type": "execute_result"
    }
   ],
   "source": [
    "X_train.shape,y_train.shape"
   ]
  },
  {
   "cell_type": "code",
   "execution_count": 15,
   "id": "f6255d5f",
   "metadata": {},
   "outputs": [
    {
     "name": "stdout",
     "output_type": "stream",
     "text": [
      "Epoch 1/15\n",
      "750/750 [==============================] - 9s 11ms/step - loss: 2.4253 - acc: 0.9054 - val_loss: 0.3850 - val_acc: 0.9354\n",
      "Epoch 2/15\n",
      "750/750 [==============================] - 8s 11ms/step - loss: 0.2099 - acc: 0.9554 - val_loss: 0.2293 - val_acc: 0.9544\n",
      "Epoch 3/15\n",
      "750/750 [==============================] - 8s 11ms/step - loss: 0.1477 - acc: 0.9646 - val_loss: 0.2703 - val_acc: 0.9491\n",
      "Epoch 4/15\n",
      "750/750 [==============================] - 8s 11ms/step - loss: 0.1468 - acc: 0.9641 - val_loss: 0.2326 - val_acc: 0.9584\n",
      "Epoch 5/15\n",
      "750/750 [==============================] - 8s 11ms/step - loss: 0.1300 - acc: 0.9683 - val_loss: 0.2382 - val_acc: 0.9542\n",
      "Epoch 6/15\n",
      "750/750 [==============================] - 9s 11ms/step - loss: 0.1227 - acc: 0.9703 - val_loss: 0.2665 - val_acc: 0.9533\n",
      "Epoch 7/15\n",
      "750/750 [==============================] - 8s 11ms/step - loss: 0.1377 - acc: 0.9679 - val_loss: 0.1923 - val_acc: 0.9609\n",
      "Epoch 8/15\n",
      "750/750 [==============================] - 8s 11ms/step - loss: 0.1278 - acc: 0.9714 - val_loss: 0.2998 - val_acc: 0.9541\n",
      "Epoch 9/15\n",
      "750/750 [==============================] - 8s 11ms/step - loss: 0.1178 - acc: 0.9731 - val_loss: 0.1591 - val_acc: 0.9644\n",
      "Epoch 10/15\n",
      "750/750 [==============================] - 8s 11ms/step - loss: 0.1063 - acc: 0.9749 - val_loss: 0.1850 - val_acc: 0.9583\n",
      "Epoch 11/15\n",
      "750/750 [==============================] - 8s 11ms/step - loss: 0.1079 - acc: 0.9766 - val_loss: 0.2377 - val_acc: 0.9609\n",
      "Epoch 12/15\n",
      "750/750 [==============================] - 8s 11ms/step - loss: 0.0881 - acc: 0.9796 - val_loss: 0.2112 - val_acc: 0.9647\n",
      "Epoch 13/15\n",
      "750/750 [==============================] - 8s 11ms/step - loss: 0.0785 - acc: 0.9815 - val_loss: 0.2157 - val_acc: 0.9668\n",
      "Epoch 14/15\n",
      "750/750 [==============================] - 8s 11ms/step - loss: 0.0968 - acc: 0.9800 - val_loss: 0.2296 - val_acc: 0.9620\n",
      "Epoch 15/15\n",
      "750/750 [==============================] - 8s 11ms/step - loss: 0.0721 - acc: 0.9834 - val_loss: 0.2127 - val_acc: 0.9671\n"
     ]
    },
    {
     "data": {
      "text/plain": [
       "<keras.callbacks.History at 0x7efab4352e30>"
      ]
     },
     "execution_count": 15,
     "metadata": {},
     "output_type": "execute_result"
    }
   ],
   "source": [
    "#训练模型\n",
    "model.fit(X_train,y_train,epochs=15,batch_size=64,validation_split=0.2)"
   ]
  },
  {
   "cell_type": "code",
   "execution_count": 16,
   "id": "1af7d1cc",
   "metadata": {},
   "outputs": [
    {
     "name": "stdout",
     "output_type": "stream",
     "text": [
      "313/313 [==============================] - 1s 4ms/step\n"
     ]
    }
   ],
   "source": [
    "pre = model.predict(X_test)"
   ]
  },
  {
   "cell_type": "code",
   "execution_count": 17,
   "id": "86580bc0",
   "metadata": {},
   "outputs": [],
   "source": [
    "#plt.plot(his.history.epochs,his.history.get(\"loss\"))"
   ]
  },
  {
   "cell_type": "code",
   "execution_count": 18,
   "id": "9259e9d8",
   "metadata": {},
   "outputs": [],
   "source": [
    "#pre=model.predict(X_train)"
   ]
  },
  {
   "cell_type": "code",
   "execution_count": 19,
   "id": "8e745bcb",
   "metadata": {},
   "outputs": [],
   "source": [
    "# 使用numpy返回最大的索引，即预测概率最大的值\n",
    "pred=np.argmax(pre,axis=1)"
   ]
  },
  {
   "cell_type": "code",
   "execution_count": 20,
   "id": "bf0f006e",
   "metadata": {},
   "outputs": [
    {
     "data": {
      "text/plain": [
       "array([4.9044378e-24, 2.0682157e-19, 6.5958051e-20, 2.4342607e-14,\n",
       "       6.3243518e-27, 1.4838148e-35, 0.0000000e+00, 9.9999994e-01,\n",
       "       1.1239022e-21, 6.3468262e-09], dtype=float32)"
      ]
     },
     "execution_count": 20,
     "metadata": {},
     "output_type": "execute_result"
    }
   ],
   "source": [
    "pre[0]"
   ]
  },
  {
   "cell_type": "code",
   "execution_count": 21,
   "id": "eb23ddbf",
   "metadata": {},
   "outputs": [
    {
     "name": "stdout",
     "output_type": "stream",
     "text": [
      "              precision    recall  f1-score   support\n",
      "\n",
      "           0       0.98      0.99      0.98       980\n",
      "           1       0.99      0.98      0.99      1135\n",
      "           2       0.98      0.95      0.97      1032\n",
      "           3       0.96      0.98      0.97      1010\n",
      "           4       0.97      0.97      0.97       982\n",
      "           5       0.98      0.95      0.97       892\n",
      "           6       0.98      0.98      0.98       958\n",
      "           7       0.98      0.97      0.97      1028\n",
      "           8       0.92      0.97      0.94       974\n",
      "           9       0.97      0.95      0.96      1009\n",
      "\n",
      "    accuracy                           0.97     10000\n",
      "   macro avg       0.97      0.97      0.97     10000\n",
      "weighted avg       0.97      0.97      0.97     10000\n",
      "\n"
     ]
    }
   ],
   "source": [
    "# 测试集上训练的情况\n",
    "print(classification_report(y_test,pred))"
   ]
  },
  {
   "cell_type": "code",
   "execution_count": 22,
   "id": "67c6d272",
   "metadata": {},
   "outputs": [
    {
     "name": "stdout",
     "output_type": "stream",
     "text": [
      "1875/1875 [==============================] - 8s 4ms/step\n"
     ]
    }
   ],
   "source": [
    "pre_ = model.predict(X_train)"
   ]
  },
  {
   "cell_type": "code",
   "execution_count": 23,
   "id": "d0f58428",
   "metadata": {},
   "outputs": [],
   "source": [
    "pre_d = np.argmax(pre_,axis=1)"
   ]
  },
  {
   "cell_type": "code",
   "execution_count": 24,
   "id": "30b55b57",
   "metadata": {},
   "outputs": [
    {
     "name": "stdout",
     "output_type": "stream",
     "text": [
      "              precision    recall  f1-score   support\n",
      "\n",
      "           0       0.99      0.99      0.99      5923\n",
      "           1       0.99      0.99      0.99      6742\n",
      "           2       0.99      0.97      0.98      5958\n",
      "           3       0.98      0.98      0.98      6131\n",
      "           4       0.98      0.99      0.98      5842\n",
      "           5       0.99      0.98      0.98      5421\n",
      "           6       0.99      0.99      0.99      5918\n",
      "           7       0.99      0.99      0.99      6265\n",
      "           8       0.95      0.99      0.97      5851\n",
      "           9       0.98      0.97      0.97      5949\n",
      "\n",
      "    accuracy                           0.98     60000\n",
      "   macro avg       0.98      0.98      0.98     60000\n",
      "weighted avg       0.98      0.98      0.98     60000\n",
      "\n"
     ]
    }
   ],
   "source": [
    "# 训练集上训练的情况\n",
    "print(classification_report(y_train,pre_d))"
   ]
  },
  {
   "cell_type": "code",
   "execution_count": null,
   "id": "05e9d048",
   "metadata": {},
   "outputs": [],
   "source": []
  },
  {
   "cell_type": "markdown",
   "id": "7d7fc5dd",
   "metadata": {},
   "source": [
    "# 卷积神经网络"
   ]
  },
  {
   "cell_type": "code",
   "execution_count": 56,
   "id": "fc1085c9",
   "metadata": {},
   "outputs": [],
   "source": [
    "import tensorflow as tf\n",
    "import pandas as pd\n",
    "import matplotlib.pyplot as plt\n",
    "from sklearn.metrics import accuracy_score,f1_score,confusion_matrix\n",
    "# import seaborn as sn11sae\n",
    "from sklearn.metrics import classification_report \n",
    "import numpy as np\n",
    "import warnings\n",
    "warnings.filterwarnings(\"ignore\")\n",
    "%matplotlib inline"
   ]
  },
  {
   "cell_type": "code",
   "execution_count": 57,
   "id": "10414959",
   "metadata": {},
   "outputs": [],
   "source": [
    "import ssl\n",
    "ssl._create_default_https_context = ssl._create_unverified_context#下载数据集"
   ]
  },
  {
   "cell_type": "code",
   "execution_count": 58,
   "id": "acbc1d07",
   "metadata": {},
   "outputs": [],
   "source": [
    "(train_image,train_label),(test_image,test_label) = tf.keras.datasets.mnist.load_data()"
   ]
  },
  {
   "cell_type": "code",
   "execution_count": 59,
   "id": "b71c2e88",
   "metadata": {},
   "outputs": [],
   "source": [
    "model = tf.keras.Sequential()\n",
    "model.add(tf.keras.layers.Conv2D(64,(3,3),input_shape=(28,28,1),padding=\"same\",activation=\"relu\"))\n",
    "model.add(tf.keras.layers.BatchNormalization())\n",
    "model.add(tf.keras.layers.MaxPooling2D())\n",
    "model.add(tf.keras.layers.Conv2D(128,(3,3),padding = \"same\",activation=\"relu\"))\n",
    "model.add(tf.keras.layers.BatchNormalization())\n",
    "model.add(tf.keras.layers.Conv2D(1024,(3,3),padding = \"same\",activation=\"relu\"))\n",
    "model.add(tf.keras.layers.GlobalAveragePooling2D())\n",
    "model.add(tf.keras.layers.Dense(256,activation=\"relu\"))\n",
    "model.add(tf.keras.layers.Dense(10,activation=\"softmax\"))"
   ]
  },
  {
   "cell_type": "code",
   "execution_count": 60,
   "id": "1ce5eb3d",
   "metadata": {},
   "outputs": [],
   "source": [
    "model.compile(optimizer=tf.keras.optimizers.RMSprop(learning_rate=1e-4),\n",
    "              loss=\"categorical_crossentropy\",  \n",
    "             metrics=[\"acc\"])"
   ]
  },
  {
   "cell_type": "code",
   "execution_count": 61,
   "id": "c209bba4",
   "metadata": {},
   "outputs": [],
   "source": [
    "train_label = tf.keras.utils.to_categorical(train_label)\n",
    "test_label = tf.keras.utils.to_categorical(test_label)"
   ]
  },
  {
   "cell_type": "code",
   "execution_count": 62,
   "id": "e7062d0d",
   "metadata": {},
   "outputs": [
    {
     "name": "stdout",
     "output_type": "stream",
     "text": [
      "Epoch 1/5\n",
      "1875/1875 [==============================] - 386s 205ms/step - loss: 0.2971 - acc: 0.9159 - val_loss: 0.0839 - val_acc: 0.9748\n",
      "Epoch 2/5\n",
      "1875/1875 [==============================] - 410s 219ms/step - loss: 0.0801 - acc: 0.9763 - val_loss: 0.0557 - val_acc: 0.9829\n",
      "Epoch 3/5\n",
      "1875/1875 [==============================] - 390s 208ms/step - loss: 0.0577 - acc: 0.9822 - val_loss: 0.0614 - val_acc: 0.9811\n",
      "Epoch 4/5\n",
      "1875/1875 [==============================] - 388s 207ms/step - loss: 0.0467 - acc: 0.9855 - val_loss: 0.0615 - val_acc: 0.9795\n",
      "Epoch 5/5\n",
      "1875/1875 [==============================] - 344s 183ms/step - loss: 0.0407 - acc: 0.9873 - val_loss: 0.0432 - val_acc: 0.9853\n"
     ]
    }
   ],
   "source": [
    "#训练模型\n",
    "his = model.fit(train_image,train_label,epochs=5,batch_size=32,validation_data=(test_image,test_label))"
   ]
  },
  {
   "cell_type": "code",
   "execution_count": 63,
   "id": "5478d188",
   "metadata": {},
   "outputs": [
    {
     "data": {
      "text/plain": [
       "<matplotlib.legend.Legend at 0x7ef878181270>"
      ]
     },
     "execution_count": 63,
     "metadata": {},
     "output_type": "execute_result"
    },
    {
     "data": {
      "image/png": "[encoded data removed]",
      "text/plain": [
       "<Figure size 432x288 with 1 Axes>"
      ]
     },
     "metadata": {
      "needs_background": "light"
     },
     "output_type": "display_data"
    }
   ],
   "source": [
    "plt.plot(his.epoch,his.history.get(\"loss\"),\"y\",label=\"Training loss\")\n",
    "plt.plot(his.epoch,his.history.get(\"val_loss\"),\"b\",label=\"Test loss\")\n",
    "plt.legend()"
   ]
  },
  {
   "cell_type": "code",
   "execution_count": 64,
   "id": "d18934f3",
   "metadata": {},
   "outputs": [
    {
     "name": "stdout",
     "output_type": "stream",
     "text": [
      "313/313 [==============================] - 21s 67ms/step\n"
     ]
    }
   ],
   "source": [
    "pred = model.predict(test_image)"
   ]
  },
  {
   "cell_type": "code",
   "execution_count": 65,
   "id": "b5b0f51b",
   "metadata": {},
   "outputs": [],
   "source": [
    "i = 24"
   ]
  },
  {
   "cell_type": "code",
   "execution_count": 66,
   "id": "8747b957",
   "metadata": {},
   "outputs": [
    {
     "data": {
      "text/plain": [
       "4"
      ]
     },
     "execution_count": 66,
     "metadata": {},
     "output_type": "execute_result"
    }
   ],
   "source": [
    "np.argmax(pred[i])"
   ]
  },
  {
   "cell_type": "code",
   "execution_count": 67,
   "id": "60f67093",
   "metadata": {},
   "outputs": [
    {
     "data": {
      "text/plain": [
       "4"
      ]
     },
     "execution_count": 67,
     "metadata": {},
     "output_type": "execute_result"
    }
   ],
   "source": [
    "np.argmax(test_label[i])"
   ]
  },
  {
   "cell_type": "code",
   "execution_count": null,
   "id": "c2e79196",
   "metadata": {},
   "outputs": [],
   "source": []
  },
  {
   "cell_type": "code",
   "execution_count": null,
   "id": "68f76581",
   "metadata": {},
   "outputs": [],
   "source": []
  },
  {
   "cell_type": "code",
   "execution_count": null,
   "id": "b174520d",
   "metadata": {},
   "outputs": [],
   "source": []
  },
  {
   "cell_type": "code",
   "execution_count": null,
   "id": "6be91680",
   "metadata": {},
   "outputs": [],
   "source": []
  },
  {
   "cell_type": "code",
   "execution_count": null,
   "id": "124940cc",
   "metadata": {},
   "outputs": [],
   "source": []
  },
  {
   "cell_type": "code",
   "execution_count": null,
   "id": "5078f845",
   "metadata": {},
   "outputs": [],
   "source": []
  }
 ],
 "metadata": {
  "kernelspec": {
   "display_name": "Python 3 (ipykernel)",
   "language": "python",
   "name": "python3"
  },
  "language_info": {
   "codemirror_mode": {
    "name": "ipython",
    "version": 3
   },
   "file_extension": ".py",
   "mimetype": "text/x-python",
   "name": "python",
   "nbconvert_exporter": "python",
   "pygments_lexer": "ipython3",
   "version": "3.10.4"
  }
 },
 "nbformat": 4,
 "nbformat_minor": 5
}
