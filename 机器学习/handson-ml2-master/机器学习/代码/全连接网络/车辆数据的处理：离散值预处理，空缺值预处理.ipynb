{
 "cells": [
  {
   "cell_type": "code",
   "execution_count": null,
   "id": "f1472cdb",
   "metadata": {},
   "outputs": [],
   "source": [
    "import pandas as pd"
   ]
  },
  {
   "cell_type": "code",
   "execution_count": null,
   "id": "15599cde",
   "metadata": {},
   "outputs": [],
   "source": [
    "data=pd.read_csv(\"../datasets/vehicles_4000.csv\")"
   ]
  },
  {
   "cell_type": "code",
   "execution_count": null,
   "id": "cf6f9173",
   "metadata": {},
   "outputs": [],
   "source": [
    "data.info()"
   ]
  },
  {
   "cell_type": "code",
   "execution_count": null,
   "id": "9bf5dff8",
   "metadata": {},
   "outputs": [],
   "source": [
    "data.dropna(axis=1,thresh=int(len(data)*0.8),inplace=True)"
   ]
  },
  {
   "cell_type": "raw",
   "id": "6fd5d0bd",
   "metadata": {},
   "source": [
    "#data=data.dropna(axis=1,thresh=int(len(data)*0.8))"
   ]
  },
  {
   "cell_type": "code",
   "execution_count": null,
   "id": "aae7717d",
   "metadata": {},
   "outputs": [],
   "source": [
    "data.info()"
   ]
  },
  {
   "cell_type": "code",
   "execution_count": null,
   "id": "5f0baa62",
   "metadata": {},
   "outputs": [],
   "source": [
    "data.columns"
   ]
  },
  {
   "cell_type": "code",
   "execution_count": null,
   "id": "3b39b42b",
   "metadata": {},
   "outputs": [],
   "source": [
    "data=data.drop([\"Unnamed: 0\",\"id\",\"url\",\n",
    "           \"region_url\",\"image_url\"],axis=1)"
   ]
  },
  {
   "cell_type": "code",
   "execution_count": null,
   "id": "036b1644",
   "metadata": {},
   "outputs": [],
   "source": [
    "data.info()"
   ]
  },
  {
   "cell_type": "markdown",
   "id": "d2b69661",
   "metadata": {},
   "source": [
    "# 缺省值处理"
   ]
  },
  {
   "cell_type": "code",
   "execution_count": null,
   "id": "e4e49296",
   "metadata": {},
   "outputs": [],
   "source": [
    "data_1=data.fillna(\"ffill\")"
   ]
  },
  {
   "cell_type": "code",
   "execution_count": null,
   "id": "69918a38",
   "metadata": {},
   "outputs": [],
   "source": [
    "data_1.info()"
   ]
  },
  {
   "cell_type": "code",
   "execution_count": null,
   "id": "6f8769dc",
   "metadata": {},
   "outputs": [],
   "source": [
    "data.info()"
   ]
  },
  {
   "cell_type": "code",
   "execution_count": null,
   "id": "074f86fb",
   "metadata": {},
   "outputs": [],
   "source": [
    "from sklearn.impute import  SimpleImputer\n",
    "import numpy as np"
   ]
  },
  {
   "cell_type": "code",
   "execution_count": null,
   "id": "f6206f23",
   "metadata": {},
   "outputs": [],
   "source": [
    "si_mean=SimpleImputer(missing_values=np.nan,strategy=\"mean\")"
   ]
  },
  {
   "cell_type": "code",
   "execution_count": null,
   "id": "fa4f6d3c",
   "metadata": {},
   "outputs": [],
   "source": [
    "data[[\"price\",\"year\",\"odometer\",\"lat\",\"long\"]]=si_mean.fit_transform(data[[\"price\",\"year\",\n",
    "                            \"odometer\",\"lat\",\"long\"]])"
   ]
  },
  {
   "cell_type": "code",
   "execution_count": null,
   "id": "743ab99e",
   "metadata": {},
   "outputs": [],
   "source": [
    "data.info()"
   ]
  },
  {
   "cell_type": "code",
   "execution_count": null,
   "id": "b55a55fb",
   "metadata": {},
   "outputs": [],
   "source": [
    "si_most=SimpleImputer(missing_values=np.nan,strategy=\"most_frequent\")"
   ]
  },
  {
   "cell_type": "code",
   "execution_count": null,
   "id": "453b9613",
   "metadata": {},
   "outputs": [],
   "source": [
    "data.columns"
   ]
  },
  {
   "cell_type": "code",
   "execution_count": null,
   "id": "17b63f35",
   "metadata": {},
   "outputs": [],
   "source": [
    "data[['manufacturer', 'model', 'fuel','title_status', 'transmission']]\n",
    "=si_most.fit_transform(data[['manufacturer', \n",
    "                             'model', 'fuel',\n",
    "                             'title_status', \n",
    "                             'transmission']])"
   ]
  },
  {
   "cell_type": "code",
   "execution_count": null,
   "id": "a0ad02f6",
   "metadata": {},
   "outputs": [],
   "source": [
    "data.info()"
   ]
  },
  {
   "cell_type": "markdown",
   "id": "951d5d84",
   "metadata": {},
   "source": [
    "# 离群值检测与处理"
   ]
  },
  {
   "cell_type": "markdown",
   "id": "7bbe9300",
   "metadata": {},
   "source": [
    "### z_Score"
   ]
  },
  {
   "cell_type": "code",
   "execution_count": null,
   "id": "844d160e",
   "metadata": {},
   "outputs": [],
   "source": [
    "price_mean=data.price.mean()"
   ]
  },
  {
   "cell_type": "code",
   "execution_count": null,
   "id": "95cd8f7c",
   "metadata": {},
   "outputs": [],
   "source": [
    "price_std=data.price.std()"
   ]
  },
  {
   "cell_type": "code",
   "execution_count": null,
   "id": "adf9dafd",
   "metadata": {},
   "outputs": [],
   "source": [
    "data_z=data[data.price>=price_mean-3*price_std][data.price<=price_mean+3*price_std]"
   ]
  },
  {
   "cell_type": "code",
   "execution_count": null,
   "id": "2dfdb2c1",
   "metadata": {},
   "outputs": [],
   "source": [
    "data_z.info()"
   ]
  },
  {
   "cell_type": "code",
   "execution_count": null,
   "id": "30390cbb",
   "metadata": {},
   "outputs": [],
   "source": [
    "sst=data[[\"price\"]].describe().T"
   ]
  },
  {
   "cell_type": "code",
   "execution_count": null,
   "id": "c2b090fc",
   "metadata": {},
   "outputs": [],
   "source": [
    "sst"
   ]
  },
  {
   "cell_type": "code",
   "execution_count": null,
   "id": "f3ab6a56",
   "metadata": {},
   "outputs": [],
   "source": [
    "IQR=sst[\"75%\"]-sst[\"25%\"]"
   ]
  },
  {
   "cell_type": "code",
   "execution_count": null,
   "id": "84b7d7b2",
   "metadata": {},
   "outputs": [],
   "source": [
    "IQR=IQR[0]"
   ]
  },
  {
   "cell_type": "code",
   "execution_count": null,
   "id": "a1ee8ec8",
   "metadata": {},
   "outputs": [],
   "source": [
    "max=sst[\"50%\"][0]+1.5*IQR"
   ]
  },
  {
   "cell_type": "code",
   "execution_count": null,
   "id": "a5441c06",
   "metadata": {},
   "outputs": [],
   "source": [
    "min=sst[\"50%\"][0]-1.5*IQR"
   ]
  },
  {
   "cell_type": "code",
   "execution_count": null,
   "id": "6b3d7bad",
   "metadata": {},
   "outputs": [],
   "source": [
    "IQR,min,max"
   ]
  },
  {
   "cell_type": "code",
   "execution_count": null,
   "id": "cc2a1e5b",
   "metadata": {},
   "outputs": [],
   "source": [
    "data_MM=data[data[\"price\"]>min][data[\"price\"]<max]"
   ]
  },
  {
   "cell_type": "code",
   "execution_count": null,
   "id": "b3c80cc1",
   "metadata": {},
   "outputs": [],
   "source": [
    "data_MM.info()"
   ]
  },
  {
   "cell_type": "code",
   "execution_count": null,
   "id": "363f93ca",
   "metadata": {},
   "outputs": [],
   "source": [
    "data[[\"price\"]].plot(kind=\"box\")"
   ]
  },
  {
   "cell_type": "code",
   "execution_count": null,
   "id": "0413f6fa",
   "metadata": {},
   "outputs": [],
   "source": [
    "data_MM[[\"price\"]].plot(kind=\"box\")"
   ]
  },
  {
   "cell_type": "code",
   "execution_count": null,
   "id": "7bfd716b",
   "metadata": {},
   "outputs": [],
   "source": [
    "from sklearn.neighbors import LocalOutlierFactor"
   ]
  },
  {
   "cell_type": "code",
   "execution_count": null,
   "id": "1b833a61",
   "metadata": {},
   "outputs": [],
   "source": [
    "lof=LocalOutlierFactor(novelty=True)"
   ]
  },
  {
   "cell_type": "code",
   "execution_count": null,
   "id": "85a94c0e",
   "metadata": {},
   "outputs": [],
   "source": [
    "lof.fit(data[[\"price\"]])"
   ]
  },
  {
   "cell_type": "code",
   "execution_count": null,
   "id": "74053b45",
   "metadata": {},
   "outputs": [],
   "source": [
    "data[\"price_lof\"]=lof.predict(data[[\"price\"]])"
   ]
  },
  {
   "cell_type": "code",
   "execution_count": null,
   "id": "b9a8bc16",
   "metadata": {},
   "outputs": [],
   "source": [
    "data.info()"
   ]
  },
  {
   "cell_type": "code",
   "execution_count": null,
   "id": "c7d3d258",
   "metadata": {},
   "outputs": [],
   "source": [
    "data[[\"price\",\"price_lof\"]]"
   ]
  },
  {
   "cell_type": "code",
   "execution_count": null,
   "id": "094a0bf9",
   "metadata": {},
   "outputs": [],
   "source": [
    "data[\"price_lof\"].value_counts()"
   ]
  },
  {
   "cell_type": "code",
   "execution_count": null,
   "id": "b3936db1",
   "metadata": {},
   "outputs": [],
   "source": [
    "data[\"price_lof_nof\"]=-lof.negative_outlier_factor_"
   ]
  },
  {
   "cell_type": "code",
   "execution_count": null,
   "id": "8955dd21",
   "metadata": {},
   "outputs": [],
   "source": [
    "data[[\"price\",\"price_lof_nof\"]]"
   ]
  },
  {
   "cell_type": "code",
   "execution_count": null,
   "id": "ab67588c",
   "metadata": {},
   "outputs": [],
   "source": [
    "data_lof=data[data.price_lof_nof<1.4]"
   ]
  },
  {
   "cell_type": "code",
   "execution_count": null,
   "id": "53521956",
   "metadata": {},
   "outputs": [],
   "source": [
    "data_lof.info()"
   ]
  },
  {
   "cell_type": "code",
   "execution_count": null,
   "id": "575a261d",
   "metadata": {},
   "outputs": [],
   "source": []
  },
  {
   "cell_type": "code",
   "execution_count": null,
   "id": "bf791512",
   "metadata": {},
   "outputs": [],
   "source": []
  },
  {
   "cell_type": "code",
   "execution_count": null,
   "id": "9fa4e3bb",
   "metadata": {},
   "outputs": [],
   "source": []
  }
 ],
 "metadata": {
  "kernelspec": {
   "display_name": "Python 3 (ipykernel)",
   "language": "python",
   "name": "python3"
  },
  "language_info": {
   "codemirror_mode": {
    "name": "ipython",
    "version": 3
   },
   "file_extension": ".py",
   "mimetype": "text/x-python",
   "name": "python",
   "nbconvert_exporter": "python",
   "pygments_lexer": "ipython3",
   "version": "3.10.4"
  }
 },
 "nbformat": 4,
 "nbformat_minor": 5
}
