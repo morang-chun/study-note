{
 "cells": [
  {
   "cell_type": "code",
   "execution_count": null,
   "id": "cc78583f",
   "metadata": {},
   "outputs": [],
   "source": [
    "from tensorflow import keras\n",
    "from tensorflow.keras import layers\n",
    "import pandas as pd\n",
    "import numpy as np\n",
    "import matplotlib.pyplot as plt\n",
    "import tensorflow as  tf\n",
    "%matplotlib inline"
   ]
  },
  {
   "cell_type": "code",
   "execution_count": null,
   "id": "9419c03a",
   "metadata": {},
   "outputs": [],
   "source": [
    "print(tf.test.gpu_device_name())\n",
    "\"\"\"\n",
    "Returns the name of a GPU device if available or a empty string.\n",
    "\"\"\"\n",
    "print(tf.config.list_physical_devices(\"GPU\"))  #default cpu&gpu\n",
    "\"\"\"\n",
    "Return a list of physical devices visible to the host runtime.\n",
    "\"\"\"\n",
    "import os\n",
    "os.environ[\"CUDA_VISIBLE_DEVICES\"] = \"0\"  "
   ]
  },
  {
   "cell_type": "code",
   "execution_count": null,
   "id": "5b6c0ea1",
   "metadata": {},
   "outputs": [],
   "source": [
    "data  = pd.read_csv(\"./PRSA_data_2010.1.1-2014.12.31.csv\")"
   ]
  },
  {
   "cell_type": "code",
   "execution_count": null,
   "id": "dcb2c6b4",
   "metadata": {},
   "outputs": [],
   "source": [
    "data.info()"
   ]
  },
  {
   "cell_type": "code",
   "execution_count": null,
   "id": "1f7b6823",
   "metadata": {},
   "outputs": [],
   "source": [
    "data.describe()"
   ]
  },
  {
   "cell_type": "code",
   "execution_count": null,
   "id": "3f42893b",
   "metadata": {},
   "outputs": [],
   "source": [
    "data[data['pm2.5'].isna()]"
   ]
  },
  {
   "cell_type": "code",
   "execution_count": null,
   "id": "dc9d30a4",
   "metadata": {},
   "outputs": [],
   "source": [
    "data = data.iloc[24:].copy()"
   ]
  },
  {
   "cell_type": "code",
   "execution_count": null,
   "id": "98fd265e",
   "metadata": {},
   "outputs": [],
   "source": [
    "data.fillna(method='ffill',inplace=True)"
   ]
  },
  {
   "cell_type": "code",
   "execution_count": null,
   "id": "c4fbb42b",
   "metadata": {},
   "outputs": [],
   "source": [
    "data.drop('No',axis=1,inplace=True)"
   ]
  },
  {
   "cell_type": "code",
   "execution_count": null,
   "id": "538b0f3d",
   "metadata": {},
   "outputs": [],
   "source": [
    "import datetime\n"
   ]
  },
  {
   "cell_type": "code",
   "execution_count": null,
   "id": "2421427d",
   "metadata": {},
   "outputs": [],
   "source": [
    "#  将年月日时转换为时间型索引\n",
    "data['time'] = data.apply(lambda x: datetime.datetime(year = x['year'],month=x['month'],\n",
    "                                                     day = x['day'],\n",
    "                                                     hour = x['hour']),\n",
    "                         axis = 1)"
   ]
  },
  {
   "cell_type": "code",
   "execution_count": null,
   "id": "f4cf6813",
   "metadata": {},
   "outputs": [],
   "source": [
    "data.set_index('time',inplace=True)"
   ]
  },
  {
   "cell_type": "code",
   "execution_count": null,
   "id": "5ffe9ec3",
   "metadata": {},
   "outputs": [],
   "source": [
    "data.drop(columns=['year','month','day','hour'],inplace=True)"
   ]
  },
  {
   "cell_type": "code",
   "execution_count": null,
   "id": "513a45d0",
   "metadata": {},
   "outputs": [],
   "source": [
    "# 对cbwd为object型，需要对其编码 \n",
    "data = data.join(pd.get_dummies(data.cbwd))\n"
   ]
  },
  {
   "cell_type": "code",
   "execution_count": null,
   "id": "f4a281d4",
   "metadata": {},
   "outputs": [],
   "source": [
    "del data['cbwd']\n"
   ]
  },
  {
   "cell_type": "code",
   "execution_count": null,
   "id": "6415a28e",
   "metadata": {},
   "outputs": [],
   "source": [
    "data['pm2.5'].plot()"
   ]
  },
  {
   "cell_type": "markdown",
   "id": "73f9eee7",
   "metadata": {},
   "source": [
    "# 生成数据集\n",
    "\n",
    "时间序列数据考虑的是前一些时刻的数据与当前时刻的输出相关。时间序列的数据要进行形式变换。\n",
    "\n",
    "如用前5小时的数据预测1小时的，就要对数据按6小时，滑动窗格方式取出，其中前5小时为X，后1小时的为Y。\n",
    "\n",
    "如0：5，1：6，2：7...，n-5：n，直到最后一个样本n，每次取6小时数据。\n",
    "\n",
    "其中0：4共5小时为X，5为Y；1：5共5小时为第二个样本的X，6小时的为第二个样本Y。以此共n-4个样本。"
   ]
  },
  {
   "cell_type": "code",
   "execution_count": null,
   "id": "a859025f",
   "metadata": {},
   "outputs": [],
   "source": [
    "sequence_length = 5*24#预测使用的基础序列长度，可以根据预测结果调整\n",
    "pred = 1\n",
    "data_ = []\n",
    "#连续重叠开窗分块数据（如0:5*24+1—1,1-5*24+1,2:5*24+2，...等），\n",
    "#每一块是一个样本，得到LSTM需要的数据集。\n",
    "for i in range(len(data) - sequence_length - pred):\n",
    "    data_.append(data.iloc[i :i + sequence_length + pred])\n",
    "    \n",
    "data_ = np.array([df.values for df in data_])"
   ]
  },
  {
   "cell_type": "markdown",
   "id": "78e5f8ea",
   "metadata": {},
   "source": [
    "# 数据集划分"
   ]
  },
  {
   "cell_type": "code",
   "execution_count": null,
   "id": "a0e4e614",
   "metadata": {},
   "outputs": [],
   "source": [
    "np.random.shuffle(data_)"
   ]
  },
  {
   "cell_type": "code",
   "execution_count": null,
   "id": "30f1a6cf",
   "metadata": {},
   "outputs": [],
   "source": [
    "x = data_[:,:-pred,:]"
   ]
  },
  {
   "cell_type": "code",
   "execution_count": null,
   "id": "679054f5",
   "metadata": {},
   "outputs": [],
   "source": [
    "y = data_[:,-pred:,0]"
   ]
  },
  {
   "cell_type": "code",
   "execution_count": null,
   "id": "43314690",
   "metadata": {},
   "outputs": [],
   "source": [
    "split_0 = int(data_.shape[0]*0.7)"
   ]
  },
  {
   "cell_type": "code",
   "execution_count": null,
   "id": "0679d235",
   "metadata": {},
   "outputs": [],
   "source": [
    "split_1 = int(data_.shape[0]*0.9)"
   ]
  },
  {
   "cell_type": "code",
   "execution_count": null,
   "id": "e3337cf1",
   "metadata": {},
   "outputs": [],
   "source": [
    "train_x = x[:split_0]\n",
    "val_x = x[split_0:split_1]\n",
    "test_x = x[split_1:]"
   ]
  },
  {
   "cell_type": "code",
   "execution_count": null,
   "id": "8edcfb49",
   "metadata": {},
   "outputs": [],
   "source": [
    "train_y = y[:split_0]\n",
    "val_y = y[split_0:split_1]\n",
    "test_y = y[split_1:]"
   ]
  },
  {
   "cell_type": "markdown",
   "id": "54670a7c",
   "metadata": {},
   "source": [
    "# 建模\n",
    "activation=\"tanh\"是LSTM使用cuDNN必要条件，可以不使用cuDNN。\n",
    "\n",
    "**cuDNN**（CUDA Deep Neural Network library）：是NVIDIA打造的针对深度神经网络的加速库，是一个用于深层神经网络的GPU加速库。"
   ]
  },
  {
   "cell_type": "code",
   "execution_count": null,
   "id": "e5421d78",
   "metadata": {},
   "outputs": [],
   "source": [
    "model = keras.Sequential()\n",
    "model.add(layers.LSTM(32,input_shape = (train_x.shape[1:]),activation=\"tanh\",\n",
    "                     return_sequences=True))\n",
    "model.add(layers.LSTM(128,activation=\"tanh\",return_sequences=True))\n",
    "model.add(layers.LSTM(32,activation=\"tanh\"))\n",
    "model.add(layers.Dense(1))"
   ]
  },
  {
   "cell_type": "markdown",
   "id": "d647b207",
   "metadata": {},
   "source": [
    "注：本质上数据集划分后，用前馈神经网络，CNN都可以，只是效果上的差异。"
   ]
  },
  {
   "cell_type": "code",
   "execution_count": null,
   "id": "7509c763",
   "metadata": {},
   "outputs": [],
   "source": [
    "# CNN网络\n",
    "'''\n",
    "model_D = keras.Sequential()\n",
    "model_D.add(layers.Flatten(input_shape=(train_x.shape[1:]))) #拍平\n",
    "model_D.add(layers.Dense(16, activation='relu'))\n",
    "model_D.add(layers.Dense(4, activation='relu'))\n",
    "model_D.add(layers.Dense(1))\n",
    "model_D.compile(optimizer=keras.optimizers.Adam(), loss='mse')\n",
    "history = model_D.fit(train_x, train_y,\n",
    "                    batch_size = 128,\n",
    "                    epochs=40,\n",
    "                    validation_data=(val_x, val_y),\n",
    "                    use_multiprocessing=True\n",
    "                    )\n",
    "'''"
   ]
  },
  {
   "cell_type": "markdown",
   "id": "33b0b482",
   "metadata": {},
   "source": [
    "# 编译   "
   ]
  },
  {
   "cell_type": "code",
   "execution_count": null,
   "id": "caf91d4d",
   "metadata": {},
   "outputs": [],
   "source": [
    "model.compile(optimizer=keras.optimizers.Adam(),\n",
    "             loss=\"mae\")\n",
    "#指定优化算法，损失函数"
   ]
  },
  {
   "cell_type": "markdown",
   "id": "41694bba",
   "metadata": {},
   "source": [
    "# 训练"
   ]
  },
  {
   "cell_type": "code",
   "execution_count": null,
   "id": "bce74269",
   "metadata": {},
   "outputs": [],
   "source": [
    "# 每次128（batch_size）， 全部做完一遍需要做273次，总样本数大致为273*128。\n",
    "history = model.fit(train_x,train_y,batch_size=128,epochs=200,validation_data=(val_x,val_y))"
   ]
  },
  {
   "cell_type": "code",
   "execution_count": null,
   "id": "9ace4a38",
   "metadata": {},
   "outputs": [],
   "source": [
    "plt.plot(history.epoch, history.history.get('loss'), 'y', label='Training loss')\n",
    "plt.plot(history.epoch, history.history.get('val_loss'), 'b', label='Test loss')\n",
    "plt.legend()"
   ]
  },
  {
   "cell_type": "markdown",
   "id": "c82f6061",
   "metadata": {},
   "source": [
    "# 预测"
   ]
  },
  {
   "cell_type": "code",
   "execution_count": null,
   "id": "a16a5565",
   "metadata": {},
   "outputs": [],
   "source": [
    "pred_y=model.predict(test_x)"
   ]
  },
  {
   "cell_type": "markdown",
   "id": "14fad616",
   "metadata": {},
   "source": [
    "# 评价"
   ]
  },
  {
   "cell_type": "code",
   "execution_count": null,
   "id": "67621cc6",
   "metadata": {},
   "outputs": [],
   "source": [
    "from sklearn.metrics  import r2_score,mean_squared_error\n",
    "print(r2_score(pred_y,test_y))\n",
    "print(mean_squared_error(y_test,pred_y))"
   ]
  }
 ],
 "metadata": {
  "kernelspec": {
   "display_name": "Python 3 (ipykernel)",
   "language": "python",
   "name": "python3"
  },
  "language_info": {
   "codemirror_mode": {
    "name": "ipython",
    "version": 3
   },
   "file_extension": ".py",
   "mimetype": "text/x-python",
   "name": "python",
   "nbconvert_exporter": "python",
   "pygments_lexer": "ipython3",
   "version": "3.9.7"
  }
 },
 "nbformat": 4,
 "nbformat_minor": 5
}
