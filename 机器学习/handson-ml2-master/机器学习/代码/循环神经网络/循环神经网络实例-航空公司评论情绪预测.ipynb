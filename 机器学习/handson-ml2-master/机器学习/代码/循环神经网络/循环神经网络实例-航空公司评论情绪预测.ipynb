{
 "cells": [
  {
   "cell_type": "code",
   "execution_count": 1,
   "metadata": {},
   "outputs": [],
   "source": [
    "import tensorflow as tf\n",
    "from tensorflow import keras\n",
    "from tensorflow.keras import layers\n",
    "import numpy as np\n",
    "import pandas as pd"
   ]
  },
  {
   "cell_type": "code",
   "execution_count": 2,
   "metadata": {},
   "outputs": [],
   "source": [
    "import os\n",
    "os.environ[\"CUDA_VISIBLE_DEVICES\"] = \"0\""
   ]
  },
  {
   "cell_type": "code",
   "execution_count": 3,
   "metadata": {},
   "outputs": [],
   "source": [
    "data = pd.read_csv('d:/datasets/Tweets.csv')"
   ]
  },
  {
   "cell_type": "code",
   "execution_count": 4,
   "metadata": {},
   "outputs": [
    {
     "data": {
      "text/html": [
       "<div>\n",
       "<style scoped>\n",
       "    .dataframe tbody tr th:only-of-type {\n",
       "        vertical-align: middle;\n",
       "    }\n",
       "\n",
       "    .dataframe tbody tr th {\n",
       "        vertical-align: top;\n",
       "    }\n",
       "\n",
       "    .dataframe thead th {\n",
       "        text-align: right;\n",
       "    }\n",
       "</style>\n",
       "<table border=\"1\" class=\"dataframe\">\n",
       "  <thead>\n",
       "    <tr style=\"text-align: right;\">\n",
       "      <th></th>\n",
       "      <th>tweet_id</th>\n",
       "      <th>airline_sentiment</th>\n",
       "      <th>airline_sentiment_confidence</th>\n",
       "      <th>negativereason</th>\n",
       "      <th>negativereason_confidence</th>\n",
       "      <th>airline</th>\n",
       "      <th>airline_sentiment_gold</th>\n",
       "      <th>name</th>\n",
       "      <th>negativereason_gold</th>\n",
       "      <th>retweet_count</th>\n",
       "      <th>text</th>\n",
       "      <th>tweet_coord</th>\n",
       "      <th>tweet_created</th>\n",
       "      <th>tweet_location</th>\n",
       "      <th>user_timezone</th>\n",
       "    </tr>\n",
       "  </thead>\n",
       "  <tbody>\n",
       "    <tr>\n",
       "      <th>0</th>\n",
       "      <td>570306133677760513</td>\n",
       "      <td>neutral</td>\n",
       "      <td>1.0000</td>\n",
       "      <td>NaN</td>\n",
       "      <td>NaN</td>\n",
       "      <td>Virgin America</td>\n",
       "      <td>NaN</td>\n",
       "      <td>cairdin</td>\n",
       "      <td>NaN</td>\n",
       "      <td>0</td>\n",
       "      <td>@VirginAmerica What @dhepburn said.</td>\n",
       "      <td>NaN</td>\n",
       "      <td>2015-02-24 11:35:52 -0800</td>\n",
       "      <td>NaN</td>\n",
       "      <td>Eastern Time (US &amp; Canada)</td>\n",
       "    </tr>\n",
       "    <tr>\n",
       "      <th>1</th>\n",
       "      <td>570301130888122368</td>\n",
       "      <td>positive</td>\n",
       "      <td>0.3486</td>\n",
       "      <td>NaN</td>\n",
       "      <td>0.0000</td>\n",
       "      <td>Virgin America</td>\n",
       "      <td>NaN</td>\n",
       "      <td>jnardino</td>\n",
       "      <td>NaN</td>\n",
       "      <td>0</td>\n",
       "      <td>@VirginAmerica plus you've added commercials t...</td>\n",
       "      <td>NaN</td>\n",
       "      <td>2015-02-24 11:15:59 -0800</td>\n",
       "      <td>NaN</td>\n",
       "      <td>Pacific Time (US &amp; Canada)</td>\n",
       "    </tr>\n",
       "    <tr>\n",
       "      <th>2</th>\n",
       "      <td>570301083672813571</td>\n",
       "      <td>neutral</td>\n",
       "      <td>0.6837</td>\n",
       "      <td>NaN</td>\n",
       "      <td>NaN</td>\n",
       "      <td>Virgin America</td>\n",
       "      <td>NaN</td>\n",
       "      <td>yvonnalynn</td>\n",
       "      <td>NaN</td>\n",
       "      <td>0</td>\n",
       "      <td>@VirginAmerica I didn't today... Must mean I n...</td>\n",
       "      <td>NaN</td>\n",
       "      <td>2015-02-24 11:15:48 -0800</td>\n",
       "      <td>Lets Play</td>\n",
       "      <td>Central Time (US &amp; Canada)</td>\n",
       "    </tr>\n",
       "    <tr>\n",
       "      <th>3</th>\n",
       "      <td>570301031407624196</td>\n",
       "      <td>negative</td>\n",
       "      <td>1.0000</td>\n",
       "      <td>Bad Flight</td>\n",
       "      <td>0.7033</td>\n",
       "      <td>Virgin America</td>\n",
       "      <td>NaN</td>\n",
       "      <td>jnardino</td>\n",
       "      <td>NaN</td>\n",
       "      <td>0</td>\n",
       "      <td>@VirginAmerica it's really aggressive to blast...</td>\n",
       "      <td>NaN</td>\n",
       "      <td>2015-02-24 11:15:36 -0800</td>\n",
       "      <td>NaN</td>\n",
       "      <td>Pacific Time (US &amp; Canada)</td>\n",
       "    </tr>\n",
       "    <tr>\n",
       "      <th>4</th>\n",
       "      <td>570300817074462722</td>\n",
       "      <td>negative</td>\n",
       "      <td>1.0000</td>\n",
       "      <td>Can't Tell</td>\n",
       "      <td>1.0000</td>\n",
       "      <td>Virgin America</td>\n",
       "      <td>NaN</td>\n",
       "      <td>jnardino</td>\n",
       "      <td>NaN</td>\n",
       "      <td>0</td>\n",
       "      <td>@VirginAmerica and it's a really big bad thing...</td>\n",
       "      <td>NaN</td>\n",
       "      <td>2015-02-24 11:14:45 -0800</td>\n",
       "      <td>NaN</td>\n",
       "      <td>Pacific Time (US &amp; Canada)</td>\n",
       "    </tr>\n",
       "  </tbody>\n",
       "</table>\n",
       "</div>"
      ],
      "text/plain": [
       "             tweet_id airline_sentiment  airline_sentiment_confidence  \\\n",
       "0  570306133677760513           neutral                        1.0000   \n",
       "1  570301130888122368          positive                        0.3486   \n",
       "2  570301083672813571           neutral                        0.6837   \n",
       "3  570301031407624196          negative                        1.0000   \n",
       "4  570300817074462722          negative                        1.0000   \n",
       "\n",
       "  negativereason  negativereason_confidence         airline  \\\n",
       "0            NaN                        NaN  Virgin America   \n",
       "1            NaN                     0.0000  Virgin America   \n",
       "2            NaN                        NaN  Virgin America   \n",
       "3     Bad Flight                     0.7033  Virgin America   \n",
       "4     Can't Tell                     1.0000  Virgin America   \n",
       "\n",
       "  airline_sentiment_gold        name negativereason_gold  retweet_count  \\\n",
       "0                    NaN     cairdin                 NaN              0   \n",
       "1                    NaN    jnardino                 NaN              0   \n",
       "2                    NaN  yvonnalynn                 NaN              0   \n",
       "3                    NaN    jnardino                 NaN              0   \n",
       "4                    NaN    jnardino                 NaN              0   \n",
       "\n",
       "                                                text tweet_coord  \\\n",
       "0                @VirginAmerica What @dhepburn said.         NaN   \n",
       "1  @VirginAmerica plus you've added commercials t...         NaN   \n",
       "2  @VirginAmerica I didn't today... Must mean I n...         NaN   \n",
       "3  @VirginAmerica it's really aggressive to blast...         NaN   \n",
       "4  @VirginAmerica and it's a really big bad thing...         NaN   \n",
       "\n",
       "               tweet_created tweet_location               user_timezone  \n",
       "0  2015-02-24 11:35:52 -0800            NaN  Eastern Time (US & Canada)  \n",
       "1  2015-02-24 11:15:59 -0800            NaN  Pacific Time (US & Canada)  \n",
       "2  2015-02-24 11:15:48 -0800      Lets Play  Central Time (US & Canada)  \n",
       "3  2015-02-24 11:15:36 -0800            NaN  Pacific Time (US & Canada)  \n",
       "4  2015-02-24 11:14:45 -0800            NaN  Pacific Time (US & Canada)  "
      ]
     },
     "execution_count": 4,
     "metadata": {},
     "output_type": "execute_result"
    }
   ],
   "source": [
    "data.head()"
   ]
  },
  {
   "cell_type": "code",
   "execution_count": 5,
   "metadata": {},
   "outputs": [],
   "source": [
    "data = data[['airline_sentiment', 'text']]"
   ]
  },
  {
   "cell_type": "code",
   "execution_count": 6,
   "metadata": {},
   "outputs": [
    {
     "data": {
      "text/plain": [
       "array(['neutral', 'positive', 'negative'], dtype=object)"
      ]
     },
     "execution_count": 6,
     "metadata": {},
     "output_type": "execute_result"
    }
   ],
   "source": [
    "data.airline_sentiment.unique()"
   ]
  },
  {
   "cell_type": "code",
   "execution_count": 7,
   "metadata": {},
   "outputs": [
    {
     "data": {
      "text/plain": [
       "negative    9178\n",
       "neutral     3099\n",
       "positive    2363\n",
       "Name: airline_sentiment, dtype: int64"
      ]
     },
     "execution_count": 7,
     "metadata": {},
     "output_type": "execute_result"
    }
   ],
   "source": [
    "data.airline_sentiment.value_counts()"
   ]
  },
  {
   "cell_type": "code",
   "execution_count": 8,
   "metadata": {},
   "outputs": [],
   "source": [
    "data_p = data[data.airline_sentiment == 'positive']"
   ]
  },
  {
   "cell_type": "code",
   "execution_count": 9,
   "metadata": {},
   "outputs": [],
   "source": [
    "data_n = data[data.airline_sentiment == 'negative']"
   ]
  },
  {
   "cell_type": "code",
   "execution_count": 10,
   "metadata": {},
   "outputs": [],
   "source": [
    "data_n = data_n.iloc[:len(data_p)]"
   ]
  },
  {
   "cell_type": "code",
   "execution_count": 11,
   "metadata": {},
   "outputs": [
    {
     "data": {
      "text/plain": [
       "(2363, 2363)"
      ]
     },
     "execution_count": 11,
     "metadata": {},
     "output_type": "execute_result"
    }
   ],
   "source": [
    "len(data_n), len(data_p)"
   ]
  },
  {
   "cell_type": "code",
   "execution_count": 12,
   "metadata": {},
   "outputs": [],
   "source": [
    "data = pd.concat([data_n, data_p])"
   ]
  },
  {
   "cell_type": "code",
   "execution_count": 13,
   "metadata": {},
   "outputs": [],
   "source": [
    "data = data.sample(len(data))"
   ]
  },
  {
   "cell_type": "code",
   "execution_count": 14,
   "metadata": {},
   "outputs": [],
   "source": [
    "data['review'] = (data.airline_sentiment == 'positive').astype('int')"
   ]
  },
  {
   "cell_type": "code",
   "execution_count": 15,
   "metadata": {},
   "outputs": [],
   "source": [
    "del data['airline_sentiment']"
   ]
  },
  {
   "cell_type": "markdown",
   "metadata": {},
   "source": [
    "tf.keras.layers.Embedding  把文本向量化"
   ]
  },
  {
   "cell_type": "code",
   "execution_count": 16,
   "metadata": {},
   "outputs": [],
   "source": [
    "import re"
   ]
  },
  {
   "cell_type": "code",
   "execution_count": 17,
   "metadata": {},
   "outputs": [],
   "source": [
    "token = re.compile('[A-Za-z]+|[!?,.()]')"
   ]
  },
  {
   "cell_type": "code",
   "execution_count": 18,
   "metadata": {},
   "outputs": [],
   "source": [
    "def reg_text(text):\n",
    "    new_text = token.findall(text)\n",
    "    new_text = [word.lower() for word in new_text]\n",
    "    return new_text"
   ]
  },
  {
   "cell_type": "code",
   "execution_count": 19,
   "metadata": {},
   "outputs": [],
   "source": [
    "data['text'] = data.text.apply(reg_text)"
   ]
  },
  {
   "cell_type": "code",
   "execution_count": 20,
   "metadata": {},
   "outputs": [],
   "source": [
    "word_set = set()\n",
    "for text in data.text:\n",
    "    for word in text:\n",
    "        word_set.add(word) "
   ]
  },
  {
   "cell_type": "code",
   "execution_count": 21,
   "metadata": {},
   "outputs": [
    {
     "data": {
      "text/plain": [
       "7101"
      ]
     },
     "execution_count": 21,
     "metadata": {},
     "output_type": "execute_result"
    }
   ],
   "source": [
    "max_word = len(word_set) + 1\n",
    "max_word"
   ]
  },
  {
   "cell_type": "code",
   "execution_count": 22,
   "metadata": {},
   "outputs": [],
   "source": [
    "word_list = list(word_set)"
   ]
  },
  {
   "cell_type": "code",
   "execution_count": 23,
   "metadata": {},
   "outputs": [
    {
     "data": {
      "text/plain": [
       "2436"
      ]
     },
     "execution_count": 23,
     "metadata": {},
     "output_type": "execute_result"
    }
   ],
   "source": [
    "word_list.index('spending')"
   ]
  },
  {
   "cell_type": "code",
   "execution_count": 24,
   "metadata": {},
   "outputs": [],
   "source": [
    "word_index =  dict((word, word_list.index(word) + 1) for word in word_list)"
   ]
  },
  {
   "cell_type": "code",
   "execution_count": 25,
   "metadata": {},
   "outputs": [
    {
     "data": {
      "text/plain": [
       "{'safer': 1,\n",
       " 'razor': 2,\n",
       " 'happycamper': 3,\n",
       " 'nfl': 4,\n",
       " 'mechanical': 5,\n",
       " 'pointy': 6,\n",
       " 'bnflhpxtmw': 7,\n",
       " 'contact': 8,\n",
       " 'loc': 9,\n",
       " 'whoot': 10,\n",
       " 'contract': 11,\n",
       " 'welcome': 12,\n",
       " 'boy': 13,\n",
       " 'operate': 14,\n",
       " 'chicken': 15,\n",
       " 'blueheros': 16,\n",
       " 'powers': 17,\n",
       " 'ucvnilmb': 18,\n",
       " 'browser': 19,\n",
       " 'grandcanyon': 20,\n",
       " 'with': 21,\n",
       " 'mint': 22,\n",
       " 'ralph': 23,\n",
       " 'specially': 24,\n",
       " 'voucherwhatajoke': 25,\n",
       " 'secured': 26,\n",
       " 'makeup': 27,\n",
       " 'marketing': 28,\n",
       " 'absolute': 29,\n",
       " 'atc': 30,\n",
       " 'tired': 31,\n",
       " 'boston': 32,\n",
       " 'und': 33,\n",
       " 'session': 34,\n",
       " 'damionflight': 35,\n",
       " 'buffalo': 36,\n",
       " 'ccicanine': 37,\n",
       " 'include': 38,\n",
       " 'misfortune': 39,\n",
       " 'literally': 40,\n",
       " 'adams': 41,\n",
       " 'experiencing': 42,\n",
       " 'neveind': 43,\n",
       " 'versions': 44,\n",
       " 'air': 45,\n",
       " 'unacceptable': 46,\n",
       " 'dandy': 47,\n",
       " 'flyingainteasy': 48,\n",
       " 'delete': 49,\n",
       " 'flyquiet': 50,\n",
       " 'usa': 51,\n",
       " 'coupons': 52,\n",
       " 'batman': 53,\n",
       " 'im': 54,\n",
       " 'during': 55,\n",
       " 'oz': 56,\n",
       " 'total': 57,\n",
       " 'freaked': 58,\n",
       " 'ted': 59,\n",
       " 'blatant': 60,\n",
       " 'ill': 61,\n",
       " 'forward': 62,\n",
       " 'playlist': 63,\n",
       " 'canadian': 64,\n",
       " 'reuniting': 65,\n",
       " 'invoices': 66,\n",
       " 'cust': 67,\n",
       " 'intended': 68,\n",
       " 'eakpa': 69,\n",
       " 'amp': 70,\n",
       " 'sloppy': 71,\n",
       " 'vbctdlf': 72,\n",
       " 'ak': 73,\n",
       " 'serious': 74,\n",
       " 'passed': 75,\n",
       " 'samartzis': 76,\n",
       " 'fjkvqmbmas': 77,\n",
       " 'sunburn': 78,\n",
       " 'breakdown': 79,\n",
       " 'anniversary': 80,\n",
       " 'skiing': 81,\n",
       " 'frustratingly': 82,\n",
       " 'yelling': 83,\n",
       " 'bwood': 84,\n",
       " 'charter': 85,\n",
       " 'leaves': 86,\n",
       " 'friendlyteam': 87,\n",
       " 'claiming': 88,\n",
       " 'cockpit': 89,\n",
       " 'beach': 90,\n",
       " 'radio': 91,\n",
       " 'sunday': 92,\n",
       " 'curbside': 93,\n",
       " 'shawn': 94,\n",
       " 'oyu': 95,\n",
       " 'freddieawards': 96,\n",
       " 'es': 97,\n",
       " 'safe': 98,\n",
       " 'kmdw': 99,\n",
       " 'lostinlove': 100,\n",
       " 'lookforwardtoflywithaa': 101,\n",
       " 'trips': 102,\n",
       " 'belong': 103,\n",
       " 'hooooo': 104,\n",
       " 'snuck': 105,\n",
       " 'luck': 106,\n",
       " 'iceg': 107,\n",
       " 'helene': 108,\n",
       " 'call': 109,\n",
       " 'rbn': 110,\n",
       " 'wait': 111,\n",
       " 'tucking': 112,\n",
       " 'hung': 113,\n",
       " 'genius': 114,\n",
       " 'loyalmosaicmember': 115,\n",
       " 'whoa': 116,\n",
       " 'remain': 117,\n",
       " 'document': 118,\n",
       " 'snowstorms': 119,\n",
       " 'trying': 120,\n",
       " 'inspected': 121,\n",
       " 'themselves': 122,\n",
       " 'supporting': 123,\n",
       " 'figured': 124,\n",
       " 'upgrd': 125,\n",
       " 'remembered': 126,\n",
       " 'used': 127,\n",
       " 'xbo': 128,\n",
       " 'eri': 129,\n",
       " 'hep': 130,\n",
       " 'seats': 131,\n",
       " 'unitedhatesusall': 132,\n",
       " 'error': 133,\n",
       " 'huge': 134,\n",
       " 'energy': 135,\n",
       " 'lied': 136,\n",
       " 'svllindia': 137,\n",
       " 'sav': 138,\n",
       " 'plane': 139,\n",
       " 'lazy': 140,\n",
       " 'installing': 141,\n",
       " 'mis': 142,\n",
       " 'awake': 143,\n",
       " 'irrops': 144,\n",
       " 'aware': 145,\n",
       " 'distances': 146,\n",
       " 'home': 147,\n",
       " 'streetwise': 148,\n",
       " 'explained': 149,\n",
       " 'cc': 150,\n",
       " 'roc': 151,\n",
       " 'cnxns': 152,\n",
       " 'trqlpeinzw': 153,\n",
       " 'suit': 154,\n",
       " 'kkyby': 155,\n",
       " 'fib': 156,\n",
       " 'summit': 157,\n",
       " 'qyezhjgsb': 158,\n",
       " 'while': 159,\n",
       " 'bringing': 160,\n",
       " 'quote': 161,\n",
       " 'taiwan': 162,\n",
       " 'cheeze': 163,\n",
       " 'understand': 164,\n",
       " 'joanna': 165,\n",
       " 'plundering': 166,\n",
       " 'forgetting': 167,\n",
       " 'foreign': 168,\n",
       " 'economy': 169,\n",
       " 'honorable': 170,\n",
       " 'attempt': 171,\n",
       " 'vice': 172,\n",
       " 'large': 173,\n",
       " 'bestinclass': 174,\n",
       " 'catch': 175,\n",
       " 'answer': 176,\n",
       " 'ago': 177,\n",
       " 'communicationfail': 178,\n",
       " 'older': 179,\n",
       " 'qd': 180,\n",
       " 'palm': 181,\n",
       " 'escorted': 182,\n",
       " 'surprise': 183,\n",
       " 'despicable': 184,\n",
       " 'rigorous': 185,\n",
       " 'walkway': 186,\n",
       " 'discrimination': 187,\n",
       " 'xmas': 188,\n",
       " 'arrive': 189,\n",
       " 'q': 190,\n",
       " 'executives': 191,\n",
       " 'gratitude': 192,\n",
       " 'hoping': 193,\n",
       " 'rk': 194,\n",
       " 'westpalmbeach': 195,\n",
       " 'aisle': 196,\n",
       " 'cheer': 197,\n",
       " 'returned': 198,\n",
       " 'searched': 199,\n",
       " 'letsgo': 200,\n",
       " 'func': 201,\n",
       " 'fave': 202,\n",
       " 'rch': 203,\n",
       " 'start': 204,\n",
       " 'led': 205,\n",
       " 'graphic': 206,\n",
       " 'whyabcwhy': 207,\n",
       " 'pins': 208,\n",
       " 'currently': 209,\n",
       " 'keepitup': 210,\n",
       " 'arriving': 211,\n",
       " 'mech': 212,\n",
       " 'suffering': 213,\n",
       " 'ey': 214,\n",
       " 'beanie': 215,\n",
       " 'impress': 216,\n",
       " 'designed': 217,\n",
       " 'express': 218,\n",
       " 'contacted': 219,\n",
       " 'err': 220,\n",
       " 'broke': 221,\n",
       " 'charging': 222,\n",
       " 'brussels': 223,\n",
       " 'missing': 224,\n",
       " 'nto': 225,\n",
       " 'ig': 226,\n",
       " 'maine': 227,\n",
       " 'baggage': 228,\n",
       " 'jezziegoldz': 229,\n",
       " 'exchange': 230,\n",
       " 'difficulty': 231,\n",
       " 'disappoint': 232,\n",
       " 'harsh': 233,\n",
       " 'shut': 234,\n",
       " 'holz': 235,\n",
       " 'grant': 236,\n",
       " 'kirkwoodtiger': 237,\n",
       " 'dry': 238,\n",
       " 'destinationdragons': 239,\n",
       " 'stick': 240,\n",
       " 'insane': 241,\n",
       " 'etiquette': 242,\n",
       " 'high': 243,\n",
       " 'hug': 244,\n",
       " 'canada': 245,\n",
       " 'good': 246,\n",
       " 'entered': 247,\n",
       " 'vouchers': 248,\n",
       " 'surprisingly': 249,\n",
       " 'rps': 250,\n",
       " 'centricity': 251,\n",
       " 'deplaned': 252,\n",
       " 'gates': 253,\n",
       " 'boeingairplanes': 254,\n",
       " 'sing': 255,\n",
       " 'shambles': 256,\n",
       " 'shv': 257,\n",
       " 'minute': 258,\n",
       " 'raving': 259,\n",
       " 'asking': 260,\n",
       " 'bgr': 261,\n",
       " 'myvxexperience': 262,\n",
       " 'uk': 263,\n",
       " 'intercontinental': 264,\n",
       " 'jfk': 265,\n",
       " 'reveal': 266,\n",
       " 'kit': 267,\n",
       " 'posted': 268,\n",
       " 'schedule': 269,\n",
       " 'pack': 270,\n",
       " 'uncvsduke': 271,\n",
       " 'liwecasoe': 272,\n",
       " 'punta': 273,\n",
       " 'gold': 274,\n",
       " 'forget': 275,\n",
       " 'overheating': 276,\n",
       " 'agreement': 277,\n",
       " 'hah': 278,\n",
       " 'courier': 279,\n",
       " 'bso': 280,\n",
       " 'traveled': 281,\n",
       " 'his': 282,\n",
       " 'capital': 283,\n",
       " 'delyd': 284,\n",
       " 'customerservicewin': 285,\n",
       " 'passing': 286,\n",
       " 'guidelines': 287,\n",
       " 'guinea': 288,\n",
       " 'behavior': 289,\n",
       " 'capeair': 290,\n",
       " 'winterstorm': 291,\n",
       " 'sends': 292,\n",
       " 'extend': 293,\n",
       " 'registration': 294,\n",
       " 'change': 295,\n",
       " 'stlouis': 296,\n",
       " 'separated': 297,\n",
       " 'pairing': 298,\n",
       " 'albuquer': 299,\n",
       " 'logout': 300,\n",
       " 'prevented': 301,\n",
       " 'ottawa': 302,\n",
       " 'dfps': 303,\n",
       " 'other': 304,\n",
       " 'bna': 305,\n",
       " 'wine': 306,\n",
       " 'respects': 307,\n",
       " 'cake': 308,\n",
       " 'letter': 309,\n",
       " 'logic': 310,\n",
       " 'ass': 311,\n",
       " 'reroute': 312,\n",
       " 'wi': 313,\n",
       " 'blind': 314,\n",
       " 'sydneyairport': 315,\n",
       " 'strive': 316,\n",
       " 'biggest': 317,\n",
       " 'strategy': 318,\n",
       " 'handled': 319,\n",
       " 'warriors': 320,\n",
       " 'lose': 321,\n",
       " 'transpacific': 322,\n",
       " 'resell': 323,\n",
       " 'id': 324,\n",
       " 'substitutes': 325,\n",
       " 'csr': 326,\n",
       " 'man': 327,\n",
       " 'managed': 328,\n",
       " 'respond': 329,\n",
       " 'notes': 330,\n",
       " 'forced': 331,\n",
       " 'gqebfk': 332,\n",
       " 'kpyhcka': 333,\n",
       " 'luvintheair': 334,\n",
       " 'descending': 335,\n",
       " 'backtowinter': 336,\n",
       " 'buy': 337,\n",
       " 'effing': 338,\n",
       " 'perfectomobile': 339,\n",
       " 'inevitable': 340,\n",
       " 'miracle': 341,\n",
       " 'officially': 342,\n",
       " 'handy': 343,\n",
       " 'changed': 344,\n",
       " 'reaches': 345,\n",
       " 'toward': 346,\n",
       " 'jetbluesofly': 347,\n",
       " 'hoot': 348,\n",
       " 'fc': 349,\n",
       " 'justgetmehome': 350,\n",
       " 'annoying': 351,\n",
       " 'attention': 352,\n",
       " 'notch': 353,\n",
       " 'scale': 354,\n",
       " 'filthy': 355,\n",
       " 'sure': 356,\n",
       " 'hanger': 357,\n",
       " 'diversion': 358,\n",
       " 'cxl': 359,\n",
       " 'lou': 360,\n",
       " 'transferred': 361,\n",
       " 'reboard': 362,\n",
       " 'pattern': 363,\n",
       " 'lifevests': 364,\n",
       " 'twin': 365,\n",
       " 'or': 366,\n",
       " 'running': 367,\n",
       " 'fyvrfn': 368,\n",
       " 'exams': 369,\n",
       " 'eastern': 370,\n",
       " 'negligence': 371,\n",
       " 'flightfail': 372,\n",
       " 'serving': 373,\n",
       " 'iberia': 374,\n",
       " 'pulled': 375,\n",
       " 'design': 376,\n",
       " 'bread': 377,\n",
       " 'standbye': 378,\n",
       " 'geneva': 379,\n",
       " 'natprodexpo': 380,\n",
       " 'tr': 381,\n",
       " 'costing': 382,\n",
       " 'sorta': 383,\n",
       " 'psp': 384,\n",
       " 'failed': 385,\n",
       " 'friend': 386,\n",
       " 'extraordinaire': 387,\n",
       " 'pilot': 388,\n",
       " 'wins': 389,\n",
       " 'prior': 390,\n",
       " 'hats': 391,\n",
       " 'baseball': 392,\n",
       " 'closed': 393,\n",
       " 'detroit': 394,\n",
       " 'perceived': 395,\n",
       " 'ordnoise': 396,\n",
       " 'dtw': 397,\n",
       " 'taylor': 398,\n",
       " 'itineraries': 399,\n",
       " 'limits': 400,\n",
       " 'segs': 401,\n",
       " 'eliz': 402,\n",
       " 'kept': 403,\n",
       " 'turning': 404,\n",
       " 'covered': 405,\n",
       " 'dept': 406,\n",
       " 'legal': 407,\n",
       " 'nippon': 408,\n",
       " 'disneyprincesshalfmarathon': 409,\n",
       " 'cqmm': 410,\n",
       " 'fakesincerity': 411,\n",
       " 'flypdx': 412,\n",
       " 'taxi': 413,\n",
       " 'ssal': 414,\n",
       " 'projects': 415,\n",
       " 'jkzr': 416,\n",
       " 'submitting': 417,\n",
       " 'ready': 418,\n",
       " 'tsa': 419,\n",
       " 'nicole': 420,\n",
       " 'obvious': 421,\n",
       " 'handshake': 422,\n",
       " 'sent': 423,\n",
       " 'ute': 424,\n",
       " 'probably': 425,\n",
       " 'rosetta': 426,\n",
       " 'childish': 427,\n",
       " 'corrected': 428,\n",
       " 'stillnobags': 429,\n",
       " 'pia': 430,\n",
       " 'sits': 431,\n",
       " 'headaches': 432,\n",
       " 'hiccups': 433,\n",
       " 'communication': 434,\n",
       " 'advertising': 435,\n",
       " 'lax': 436,\n",
       " 'illiterate': 437,\n",
       " 'accepting': 438,\n",
       " 'damper': 439,\n",
       " 'prefer': 440,\n",
       " 'uno': 441,\n",
       " 'lrxdn': 442,\n",
       " 'miraculously': 443,\n",
       " 'aa': 444,\n",
       " 'buybacks': 445,\n",
       " 'dosequis': 446,\n",
       " 'improve': 447,\n",
       " 'disappoints': 448,\n",
       " 'unrelate': 449,\n",
       " 'wheel': 450,\n",
       " 'cdg': 451,\n",
       " 'colder': 452,\n",
       " 'from': 453,\n",
       " 'finishes': 454,\n",
       " 'continental': 455,\n",
       " 'mpagent': 456,\n",
       " 'populate': 457,\n",
       " 'jzq': 458,\n",
       " 'happyflier': 459,\n",
       " 'ny': 460,\n",
       " 'goodness': 461,\n",
       " 'fuel': 462,\n",
       " 'oxy': 463,\n",
       " 'transactional': 464,\n",
       " 'seeking': 465,\n",
       " 'continuing': 466,\n",
       " 'pairs': 467,\n",
       " 'thick': 468,\n",
       " 'bad': 469,\n",
       " 'still': 470,\n",
       " 'ojrsdwpkk': 471,\n",
       " 'fails': 472,\n",
       " 'normally': 473,\n",
       " 'useless': 474,\n",
       " 'nowhereland': 475,\n",
       " 'syastem': 476,\n",
       " 'shoe': 477,\n",
       " 'golf': 478,\n",
       " 'midnight': 479,\n",
       " 'noplacelikehome': 480,\n",
       " 'fan': 481,\n",
       " 'suuuuper': 482,\n",
       " 'karma': 483,\n",
       " 'words': 484,\n",
       " 'stamp': 485,\n",
       " 'airplanes': 486,\n",
       " 'customerservices': 487,\n",
       " 'fewer': 488,\n",
       " 'elevator': 489,\n",
       " 'gluten': 490,\n",
       " 'amiltx': 491,\n",
       " 'underweight': 492,\n",
       " 'away': 493,\n",
       " 'avail': 494,\n",
       " 'publicly': 495,\n",
       " 'beating': 496,\n",
       " 'aligned': 497,\n",
       " 'weds': 498,\n",
       " 'padresst': 499,\n",
       " 'fo': 500,\n",
       " 'basic': 501,\n",
       " 'ppva': 502,\n",
       " 'intern': 503,\n",
       " 'fuselage': 504,\n",
       " 'caffeine': 505,\n",
       " 'alternatively': 506,\n",
       " 'thnx': 507,\n",
       " 'hipster': 508,\n",
       " 'fun': 509,\n",
       " 'auciello': 510,\n",
       " 'helpfulness': 511,\n",
       " 'abcnetwork': 512,\n",
       " 'wedding': 513,\n",
       " 'claim': 514,\n",
       " 'awaiting': 515,\n",
       " 'pants': 516,\n",
       " 'grace': 517,\n",
       " 'frame': 518,\n",
       " 'bked': 519,\n",
       " 'lucky': 520,\n",
       " 'exicted': 521,\n",
       " 'bounce': 522,\n",
       " 'luved': 523,\n",
       " 'usual': 524,\n",
       " 'sign': 525,\n",
       " 'ap': 526,\n",
       " 'jt': 527,\n",
       " 'guaranteed': 528,\n",
       " 'late': 529,\n",
       " 'clarence': 530,\n",
       " 'approve': 531,\n",
       " 'nightmare': 532,\n",
       " 'library': 533,\n",
       " 'reason': 534,\n",
       " 'hole': 535,\n",
       " 'alert': 536,\n",
       " 'hasn': 537,\n",
       " 'stains': 538,\n",
       " 'zpjr': 539,\n",
       " 'helps': 540,\n",
       " 'returns': 541,\n",
       " 'bf': 542,\n",
       " 'aww': 543,\n",
       " 'difficulties': 544,\n",
       " 'bluetiful': 545,\n",
       " 'keambleam': 546,\n",
       " 'spends': 547,\n",
       " 'calderon': 548,\n",
       " 'capt': 549,\n",
       " 'sms': 550,\n",
       " 'messaged': 551,\n",
       " 'yuck': 552,\n",
       " 'aypyaduy': 553,\n",
       " 'aviation': 554,\n",
       " 'rzb': 555,\n",
       " 'terminal': 556,\n",
       " 'leg': 557,\n",
       " 'underserved': 558,\n",
       " 'stickingtodelta': 559,\n",
       " 'yup': 560,\n",
       " 'crucial': 561,\n",
       " 'annoyed': 562,\n",
       " 'awfulness': 563,\n",
       " 'similar': 564,\n",
       " 'cared': 565,\n",
       " 'ur': 566,\n",
       " 'student': 567,\n",
       " 'indication': 568,\n",
       " 'ravioli': 569,\n",
       " 'fall': 570,\n",
       " 'veqhghy': 571,\n",
       " 'newlifetimecustomer': 572,\n",
       " 'ia': 573,\n",
       " 'vgn': 574,\n",
       " 'boss': 575,\n",
       " 'red': 576,\n",
       " 'wasnt': 577,\n",
       " 'about': 578,\n",
       " 'abysmal': 579,\n",
       " 'cobedien': 580,\n",
       " 'kdepetro': 581,\n",
       " 'nit': 582,\n",
       " 'nola': 583,\n",
       " 'typo': 584,\n",
       " 'chicago': 585,\n",
       " 'faster': 586,\n",
       " 'confirm': 587,\n",
       " 'yo': 588,\n",
       " 'fashion': 589,\n",
       " 'flex': 590,\n",
       " 'waits': 591,\n",
       " 'stqy': 592,\n",
       " 'connections': 593,\n",
       " 'kax': 594,\n",
       " 'supp': 595,\n",
       " 'ask': 596,\n",
       " 'welldone': 597,\n",
       " 'nustgpelsf': 598,\n",
       " 'happycustomer': 599,\n",
       " 'formally': 600,\n",
       " 'dbh': 601,\n",
       " 'complimentary': 602,\n",
       " 'tripofalifetime': 603,\n",
       " 'freddie': 604,\n",
       " 'greed': 605,\n",
       " 'bounced': 606,\n",
       " 'purchased': 607,\n",
       " 'suprlfoi': 608,\n",
       " 'expensive': 609,\n",
       " 'closet': 610,\n",
       " 'choosing': 611,\n",
       " 'pretty': 612,\n",
       " 'switching': 613,\n",
       " 'vp': 614,\n",
       " 'howisthatpossible': 615,\n",
       " 'empathy': 616,\n",
       " 'brain': 617,\n",
       " 'lightbulb': 618,\n",
       " 'tsvgbrl': 619,\n",
       " 'naelah': 620,\n",
       " 'refuse': 621,\n",
       " 'onhxhco': 622,\n",
       " 'assign': 623,\n",
       " 'move': 624,\n",
       " 'internationally': 625,\n",
       " 'infographic': 626,\n",
       " 'goodspeed': 627,\n",
       " 'lostluggage': 628,\n",
       " 'aspen': 629,\n",
       " 'jeanine': 630,\n",
       " 'talents': 631,\n",
       " 'ta': 632,\n",
       " 'defibrillator': 633,\n",
       " 'experiences': 634,\n",
       " 'immediate': 635,\n",
       " 'reissue': 636,\n",
       " 'luvforsw': 637,\n",
       " 'fast': 638,\n",
       " 'lastflightwithyouever': 639,\n",
       " 'addressed': 640,\n",
       " 'milestone': 641,\n",
       " 'girlsweekend': 642,\n",
       " 'ndary': 643,\n",
       " 'providence': 644,\n",
       " 'adve': 645,\n",
       " 'accountability': 646,\n",
       " 'appears': 647,\n",
       " 'belize': 648,\n",
       " 'auto': 649,\n",
       " 'fix': 650,\n",
       " 'recognize': 651,\n",
       " 'lft': 652,\n",
       " 'vc': 653,\n",
       " 'flat': 654,\n",
       " 'traveling': 655,\n",
       " 'fees': 656,\n",
       " 'combination': 657,\n",
       " 'outfitted': 658,\n",
       " 'ipx': 659,\n",
       " 'sarcastically': 660,\n",
       " 'airports': 661,\n",
       " 'threehourslate': 662,\n",
       " 'brought': 663,\n",
       " 'bots': 664,\n",
       " 'partnership': 665,\n",
       " 'hubby': 666,\n",
       " 'caught': 667,\n",
       " 'love': 668,\n",
       " 'dot': 669,\n",
       " 'pwm': 670,\n",
       " 'errors': 671,\n",
       " 'phxskyharbor': 672,\n",
       " 'mood': 673,\n",
       " 'cking': 674,\n",
       " 'tried': 675,\n",
       " 'rectified': 676,\n",
       " 'ella': 677,\n",
       " 'soulandinspiration': 678,\n",
       " 'refreshed': 679,\n",
       " 'coupled': 680,\n",
       " 'into': 681,\n",
       " 'ball': 682,\n",
       " 'paste': 683,\n",
       " 'waivers': 684,\n",
       " 'dependable': 685,\n",
       " 'huh': 686,\n",
       " 'miles': 687,\n",
       " 'americanisbetter': 688,\n",
       " 'awhile': 689,\n",
       " 'soreback': 690,\n",
       " 'inexpensive': 691,\n",
       " 'recognized': 692,\n",
       " 'flaw': 693,\n",
       " 'committed': 694,\n",
       " 'rico': 695,\n",
       " 'layover': 696,\n",
       " 'maxabrahms': 697,\n",
       " 'mikes': 698,\n",
       " 'sarah': 699,\n",
       " 'fargo': 700,\n",
       " 'cutest': 701,\n",
       " 'provide': 702,\n",
       " 'evacuated': 703,\n",
       " 'hormones': 704,\n",
       " 'islands': 705,\n",
       " 'thanksamericanairlines': 706,\n",
       " 'll': 707,\n",
       " 'behind': 708,\n",
       " 'kleankanteen': 709,\n",
       " 'youretheworst': 710,\n",
       " 'priorities': 711,\n",
       " 'dreams': 712,\n",
       " 'bulkhead': 713,\n",
       " 'avoid': 714,\n",
       " 'competing': 715,\n",
       " 'staffed': 716,\n",
       " 'alavera': 717,\n",
       " 'beg': 718,\n",
       " 'valuable': 719,\n",
       " 'complete': 720,\n",
       " 'poker': 721,\n",
       " 'loudly': 722,\n",
       " 'america': 723,\n",
       " 'cp': 724,\n",
       " 'scolding': 725,\n",
       " 'claims': 726,\n",
       " 'kms': 727,\n",
       " 'industry': 728,\n",
       " 'sharp': 729,\n",
       " 'safely': 730,\n",
       " 'advising': 731,\n",
       " 'considered': 732,\n",
       " 'ref': 733,\n",
       " 'ewj': 734,\n",
       " 'ktm': 735,\n",
       " 'life': 736,\n",
       " 'unitedworstever': 737,\n",
       " 'sounds': 738,\n",
       " 'cnnmoney': 739,\n",
       " 'book': 740,\n",
       " 'singing': 741,\n",
       " 'cleaning': 742,\n",
       " 'pet': 743,\n",
       " 'indicate': 744,\n",
       " 'goods': 745,\n",
       " 'avgeek': 746,\n",
       " 'tasty': 747,\n",
       " 'major': 748,\n",
       " 'flightling': 749,\n",
       " 'orange': 750,\n",
       " 'before': 751,\n",
       " 'bngpli': 752,\n",
       " 'print': 753,\n",
       " 'nkafbjyari': 754,\n",
       " 'today': 755,\n",
       " 'hurry': 756,\n",
       " 'anticipate': 757,\n",
       " 'treated': 758,\n",
       " 'bellagio': 759,\n",
       " 'gracias': 760,\n",
       " 'within': 761,\n",
       " 'dc': 762,\n",
       " 'livewelltraveled': 763,\n",
       " 'consistent': 764,\n",
       " 'luggage': 765,\n",
       " 'ratings': 766,\n",
       " 'uj': 767,\n",
       " 'smh': 768,\n",
       " 'trading': 769,\n",
       " 'deane': 770,\n",
       " 'visit': 771,\n",
       " 'vacate': 772,\n",
       " 'contest': 773,\n",
       " 'ahah': 774,\n",
       " 'sna': 775,\n",
       " 'count': 776,\n",
       " 'flight': 777,\n",
       " 'bi': 778,\n",
       " 'gkap': 779,\n",
       " 'assigned': 780,\n",
       " 'brian': 781,\n",
       " 'cleveland': 782,\n",
       " 'inaccurate': 783,\n",
       " 'lowest': 784,\n",
       " 'flightledflight': 785,\n",
       " 'contd': 786,\n",
       " '.': 787,\n",
       " 'shenanigans': 788,\n",
       " 'comenity': 789,\n",
       " 'limbo': 790,\n",
       " 'woeful': 791,\n",
       " 'incubator': 792,\n",
       " 'frankly': 793,\n",
       " 'pleased': 794,\n",
       " 'sti': 795,\n",
       " 'earliest': 796,\n",
       " 'despite': 797,\n",
       " 'ph': 798,\n",
       " 'coach': 799,\n",
       " 'fortunately': 800,\n",
       " 'tactic': 801,\n",
       " 'qjbcv': 802,\n",
       " 'customers': 803,\n",
       " 'lowdown': 804,\n",
       " 'jimmy': 805,\n",
       " 'clients': 806,\n",
       " 'tmccexyaaq': 807,\n",
       " 'spots': 808,\n",
       " 'demoted': 809,\n",
       " 'allyoucanjetpass': 810,\n",
       " 'preparations': 811,\n",
       " 'cih': 812,\n",
       " 'zones': 813,\n",
       " 'thankgoodness': 814,\n",
       " 'yeniettelswood': 815,\n",
       " 'margo': 816,\n",
       " 'reinstated': 817,\n",
       " 'utah': 818,\n",
       " 'spectacular': 819,\n",
       " 'texting': 820,\n",
       " 'week': 821,\n",
       " 'buddies': 822,\n",
       " 'building': 823,\n",
       " 'flightlations': 824,\n",
       " 'fu': 825,\n",
       " 'affordable': 826,\n",
       " 'bday': 827,\n",
       " 'auction': 828,\n",
       " 'century': 829,\n",
       " 'replies': 830,\n",
       " 'waive': 831,\n",
       " 'goodgenes': 832,\n",
       " 'ithica': 833,\n",
       " 'con': 834,\n",
       " 'end': 835,\n",
       " 'ice': 836,\n",
       " 'herman': 837,\n",
       " 'link': 838,\n",
       " 'releasing': 839,\n",
       " 'helpful': 840,\n",
       " 'joke': 841,\n",
       " 'images': 842,\n",
       " 'fi': 843,\n",
       " 'hourdelay': 844,\n",
       " 'example': 845,\n",
       " 'screws': 846,\n",
       " 'representatives': 847,\n",
       " 'ricardo': 848,\n",
       " 'yourock': 849,\n",
       " 'international': 850,\n",
       " 'paperwork': 851,\n",
       " 'packages': 852,\n",
       " 'slobodin': 853,\n",
       " 'yosjhzmc': 854,\n",
       " 'latrice': 855,\n",
       " 'mistake': 856,\n",
       " 'processed': 857,\n",
       " 'zv': 858,\n",
       " 'ever': 859,\n",
       " 'husbands': 860,\n",
       " 'sotelo': 861,\n",
       " 'everythingsgonnabealright': 862,\n",
       " 'consideration': 863,\n",
       " 'accompaniments': 864,\n",
       " 'gary': 865,\n",
       " 'precipitation': 866,\n",
       " 'stream': 867,\n",
       " 'delayedl': 868,\n",
       " 'brandi': 869,\n",
       " 'statement': 870,\n",
       " 'ends': 871,\n",
       " 'quiche': 872,\n",
       " 'karajusto': 873,\n",
       " 'assure': 874,\n",
       " 'gt': 875,\n",
       " 'windows': 876,\n",
       " 'throug': 877,\n",
       " 'has': 878,\n",
       " 'terriblecustomerservice': 879,\n",
       " 'noticed': 880,\n",
       " 'allows': 881,\n",
       " 'laugh': 882,\n",
       " 'learning': 883,\n",
       " 'somebody': 884,\n",
       " 'does': 885,\n",
       " 'battles': 886,\n",
       " 'thehipmunk': 887,\n",
       " 'lighting': 888,\n",
       " 'yxn': 889,\n",
       " 'ensuring': 890,\n",
       " 'kbhym': 891,\n",
       " 'tpallini': 892,\n",
       " 'aunts': 893,\n",
       " 'accountable': 894,\n",
       " 'eager': 895,\n",
       " '?': 896,\n",
       " 'texts': 897,\n",
       " 'allergy': 898,\n",
       " 'mco': 899,\n",
       " 'belongings': 900,\n",
       " 'waking': 901,\n",
       " 'citing': 902,\n",
       " 'idiot': 903,\n",
       " 'popular': 904,\n",
       " 'docmvotwti': 905,\n",
       " 'unitedflightsever': 906,\n",
       " 'dtlguq': 907,\n",
       " 'senses': 908,\n",
       " 'smisek': 909,\n",
       " 'socket': 910,\n",
       " 'quzvmk': 911,\n",
       " 'eqyahfvz': 912,\n",
       " 'kind': 913,\n",
       " 'lmao': 914,\n",
       " 'takeoff': 915,\n",
       " 'jop': 916,\n",
       " 'omg': 917,\n",
       " 'ais': 918,\n",
       " 'peanuts': 919,\n",
       " 'cup': 920,\n",
       " 'toilets': 921,\n",
       " 'dxux': 922,\n",
       " 'kfuyyokufv': 923,\n",
       " 'vsffrd': 924,\n",
       " 'co': 925,\n",
       " 'feelbetter': 926,\n",
       " 'box': 927,\n",
       " 'classiq': 928,\n",
       " 'noneother': 929,\n",
       " 'spotify': 930,\n",
       " 'cheesy': 931,\n",
       " 'united': 932,\n",
       " 'term': 933,\n",
       " 'thirty': 934,\n",
       " 'yvonne': 935,\n",
       " 'calming': 936,\n",
       " 'going': 937,\n",
       " 'yvr': 938,\n",
       " 'disaster': 939,\n",
       " 'vahdekvoke': 940,\n",
       " 'booze': 941,\n",
       " 'weathers': 942,\n",
       " 'terminals': 943,\n",
       " 'cry': 944,\n",
       " 'canthurtasking': 945,\n",
       " 'experience': 946,\n",
       " 'barrel': 947,\n",
       " 'ts': 948,\n",
       " 'adore': 949,\n",
       " 'facebook': 950,\n",
       " 'unresolved': 951,\n",
       " 'decent': 952,\n",
       " 'replace': 953,\n",
       " 'nyt': 954,\n",
       " 'entrees': 955,\n",
       " 'trvfncedl': 956,\n",
       " 'professionals': 957,\n",
       " 'arbitrary': 958,\n",
       " 'multiple': 959,\n",
       " 'aitzl': 960,\n",
       " 'umhbh': 961,\n",
       " 'ray': 962,\n",
       " 'outward': 963,\n",
       " 'shuttle': 964,\n",
       " 'perfect': 965,\n",
       " 'full': 966,\n",
       " 'yasss': 967,\n",
       " 'operations': 968,\n",
       " 'sir': 969,\n",
       " 'benefits': 970,\n",
       " 'flightations': 971,\n",
       " 'wth': 972,\n",
       " 'isis': 973,\n",
       " 'flt': 974,\n",
       " 'snack': 975,\n",
       " 'cont': 976,\n",
       " 'cannedtweet': 977,\n",
       " 'noair': 978,\n",
       " 'resulting': 979,\n",
       " 'morning': 980,\n",
       " 'app': 981,\n",
       " 'responsibility': 982,\n",
       " 'operating': 983,\n",
       " 'manage': 984,\n",
       " 'us': 985,\n",
       " 'vjfv': 986,\n",
       " 'spoiled': 987,\n",
       " 'watch': 988,\n",
       " 'screw': 989,\n",
       " 'bags': 990,\n",
       " 'css': 991,\n",
       " 'bershawnjackson': 992,\n",
       " 'pssgrs': 993,\n",
       " 'season': 994,\n",
       " 'albany': 995,\n",
       " 'ar': 996,\n",
       " 'quickly': 997,\n",
       " 'current': 998,\n",
       " 'cnn': 999,\n",
       " 'retrieve': 1000,\n",
       " ...}"
      ]
     },
     "execution_count": 25,
     "metadata": {},
     "output_type": "execute_result"
    }
   ],
   "source": [
    "word_index"
   ]
  },
  {
   "cell_type": "code",
   "execution_count": 26,
   "metadata": {},
   "outputs": [],
   "source": [
    "data_ok = data.text.apply(lambda x: [word_index.get(word, 0) for word in x])"
   ]
  },
  {
   "cell_type": "code",
   "execution_count": 27,
   "metadata": {},
   "outputs": [
    {
     "data": {
      "text/plain": [
       "16"
      ]
     },
     "execution_count": 27,
     "metadata": {},
     "output_type": "execute_result"
    }
   ],
   "source": [
    "len(data_ok.iloc[2])"
   ]
  },
  {
   "cell_type": "code",
   "execution_count": 28,
   "metadata": {},
   "outputs": [],
   "source": [
    "maxlen = max(len(x) for x in data_ok)"
   ]
  },
  {
   "cell_type": "code",
   "execution_count": 29,
   "metadata": {},
   "outputs": [
    {
     "data": {
      "text/plain": [
       "40"
      ]
     },
     "execution_count": 29,
     "metadata": {},
     "output_type": "execute_result"
    }
   ],
   "source": [
    "maxlen"
   ]
  },
  {
   "cell_type": "code",
   "execution_count": 30,
   "metadata": {},
   "outputs": [],
   "source": [
    "data_ok = keras.preprocessing.sequence.pad_sequences(data_ok.values, maxlen=maxlen)"
   ]
  },
  {
   "cell_type": "code",
   "execution_count": 31,
   "metadata": {},
   "outputs": [
    {
     "data": {
      "text/plain": [
       "(4726, 40)"
      ]
     },
     "execution_count": 31,
     "metadata": {},
     "output_type": "execute_result"
    }
   ],
   "source": [
    "data_ok.shape"
   ]
  },
  {
   "cell_type": "code",
   "execution_count": 32,
   "metadata": {},
   "outputs": [
    {
     "data": {
      "text/plain": [
       "array([0, 1, 1, ..., 1, 1, 0])"
      ]
     },
     "execution_count": 32,
     "metadata": {},
     "output_type": "execute_result"
    }
   ],
   "source": [
    "data.review.values"
   ]
  },
  {
   "cell_type": "code",
   "execution_count": 33,
   "metadata": {},
   "outputs": [],
   "source": [
    "model = keras.Sequential()"
   ]
  },
  {
   "cell_type": "markdown",
   "metadata": {},
   "source": [
    "Embeding : 把文本映射为一个密集向量"
   ]
  },
  {
   "cell_type": "code",
   "execution_count": 34,
   "metadata": {},
   "outputs": [],
   "source": [
    "model.add(layers.Embedding(max_word, 50, input_length=maxlen))"
   ]
  },
  {
   "cell_type": "code",
   "execution_count": 35,
   "metadata": {},
   "outputs": [],
   "source": [
    "model.add(layers.LSTM(64))"
   ]
  },
  {
   "cell_type": "code",
   "execution_count": 36,
   "metadata": {},
   "outputs": [],
   "source": [
    "model.add(layers.Dense(1, activation='sigmoid'))"
   ]
  },
  {
   "cell_type": "code",
   "execution_count": 37,
   "metadata": {},
   "outputs": [
    {
     "name": "stdout",
     "output_type": "stream",
     "text": [
      "Model: \"sequential\"\n",
      "_________________________________________________________________\n",
      "Layer (type)                 Output Shape              Param #   \n",
      "=================================================================\n",
      "embedding (Embedding)        (None, 40, 50)            355050    \n",
      "_________________________________________________________________\n",
      "lstm (LSTM)                  (None, 64)                29440     \n",
      "_________________________________________________________________\n",
      "dense (Dense)                (None, 1)                 65        \n",
      "=================================================================\n",
      "Total params: 384,555\n",
      "Trainable params: 384,555\n",
      "Non-trainable params: 0\n",
      "_________________________________________________________________\n"
     ]
    }
   ],
   "source": [
    "model.summary()"
   ]
  },
  {
   "cell_type": "code",
   "execution_count": 38,
   "metadata": {},
   "outputs": [],
   "source": [
    "model.compile(optimizer='adam',\n",
    "              loss='binary_crossentropy',\n",
    "              metrics=['acc']\n",
    ")"
   ]
  },
  {
   "cell_type": "code",
   "execution_count": 39,
   "metadata": {},
   "outputs": [
    {
     "name": "stdout",
     "output_type": "stream",
     "text": [
      "Epoch 1/10\n",
      "30/30 [==============================] - 3s 15ms/step - loss: 0.6529 - acc: 0.5971 - val_loss: 0.5793 - val_acc: 0.6934\n",
      "Epoch 2/10\n",
      "30/30 [==============================] - 0s 6ms/step - loss: 0.4331 - acc: 0.8053 - val_loss: 0.2750 - val_acc: 0.8837\n",
      "Epoch 3/10\n",
      "30/30 [==============================] - 0s 7ms/step - loss: 0.1731 - acc: 0.9426 - val_loss: 0.1800 - val_acc: 0.9387\n",
      "Epoch 4/10\n",
      "30/30 [==============================] - 0s 7ms/step - loss: 0.0992 - acc: 0.9664 - val_loss: 0.1809 - val_acc: 0.9397\n",
      "Epoch 5/10\n",
      "30/30 [==============================] - 0s 7ms/step - loss: 0.0579 - acc: 0.9852 - val_loss: 0.2208 - val_acc: 0.9292\n",
      "Epoch 6/10\n",
      "30/30 [==============================] - 0s 7ms/step - loss: 0.0410 - acc: 0.9886 - val_loss: 0.2100 - val_acc: 0.9366\n",
      "Epoch 7/10\n",
      "30/30 [==============================] - 0s 7ms/step - loss: 0.0321 - acc: 0.9913 - val_loss: 0.2333 - val_acc: 0.9376\n",
      "Epoch 8/10\n",
      "30/30 [==============================] - 0s 7ms/step - loss: 0.0246 - acc: 0.9960 - val_loss: 0.2809 - val_acc: 0.9101\n",
      "Epoch 9/10\n",
      "30/30 [==============================] - 0s 7ms/step - loss: 0.0233 - acc: 0.9947 - val_loss: 0.2383 - val_acc: 0.9387\n",
      "Epoch 10/10\n",
      "30/30 [==============================] - 0s 7ms/step - loss: 0.0125 - acc: 0.9984 - val_loss: 0.2634 - val_acc: 0.9387\n"
     ]
    }
   ],
   "source": [
    "history = model.fit(data_ok, data.review.values, epochs=10, batch_size=128, validation_split=0.2)"
   ]
  },
  {
   "cell_type": "code",
   "execution_count": 40,
   "metadata": {},
   "outputs": [],
   "source": [
    "import matplotlib.pyplot as plt\n",
    "%matplotlib inline"
   ]
  },
  {
   "cell_type": "code",
   "execution_count": 41,
   "metadata": {},
   "outputs": [
    {
     "data": {
      "text/plain": [
       "<matplotlib.legend.Legend at 0x1a787943700>"
      ]
     },
     "execution_count": 41,
     "metadata": {},
     "output_type": "execute_result"
    },
    {
     "data": {
      "image/png": "[encoded data removed]",
      "text/plain": [
       "<Figure size 432x288 with 1 Axes>"
      ]
     },
     "metadata": {
      "needs_background": "light"
     },
     "output_type": "display_data"
    }
   ],
   "source": [
    "plt.plot(history.epoch, history.history.get('val_acc'), c='r', label='val_acc')\n",
    "plt.plot(history.epoch, history.history.get('acc'), c='b', label='acc')\n",
    "plt.legend()"
   ]
  },
  {
   "cell_type": "code",
   "execution_count": 42,
   "metadata": {},
   "outputs": [
    {
     "data": {
      "text/plain": [
       "<matplotlib.legend.Legend at 0x1a5eb630d90>"
      ]
     },
     "execution_count": 42,
     "metadata": {},
     "output_type": "execute_result"
    },
    {
     "data": {
      "image/png": "[encoded data removed]",
      "text/plain": [
       "<Figure size 432x288 with 1 Axes>"
      ]
     },
     "metadata": {
      "needs_background": "light"
     },
     "output_type": "display_data"
    }
   ],
   "source": [
    "plt.plot(history.epoch, history.history.get('val_loss'), c='r', label='val_loss')\n",
    "plt.plot(history.epoch, history.history.get('loss'), c='b', label='loss')\n",
    "plt.legend()"
   ]
  },
  {
   "cell_type": "markdown",
   "metadata": {},
   "source": [
    "使用循环 dropout 抑制过拟合"
   ]
  },
  {
   "cell_type": "markdown",
   "metadata": {},
   "source": [
    "对每一个时间步使用相同的 dropout 掩码"
   ]
  },
  {
   "cell_type": "code",
   "execution_count": 56,
   "metadata": {},
   "outputs": [],
   "source": [
    "def train_model():\n",
    "    model = keras.Sequential()\n",
    "    model.add(layers.Embedding(max_word, 16, input_length=maxlen))\n",
    "    model.add(layers.LSTM(64,\n",
    "                         dropout=0.2,\n",
    "                         recurrent_dropout=0.5))\n",
    "    model.add(layers.Dropout(0.5))\n",
    "    model.add(layers.Dense(1, activation='sigmoid'))\n",
    "    model.compile(optimizer=keras.optimizers.RMSprop(),\n",
    "              loss='binary_crossentropy',\n",
    "              metrics=['acc'])\n",
    "    return model"
   ]
  },
  {
   "cell_type": "code",
   "execution_count": 57,
   "metadata": {},
   "outputs": [
    {
     "name": "stdout",
     "output_type": "stream",
     "text": [
      "WARNING:tensorflow:Layer lstm_4 will not use cuDNN kernels since it doesn't meet the criteria. It will use a generic GPU kernel as fallback when running on GPU.\n"
     ]
    }
   ],
   "source": [
    "model2 = train_model()"
   ]
  },
  {
   "cell_type": "code",
   "execution_count": 45,
   "metadata": {},
   "outputs": [
    {
     "name": "stdout",
     "output_type": "stream",
     "text": [
      "Epoch 1/10\n",
      "30/30 [==============================] - 8s 207ms/step - loss: 0.6560 - acc: 0.6444 - val_loss: 0.6045 - val_acc: 0.7146\n",
      "Epoch 2/10\n",
      "30/30 [==============================] - 6s 201ms/step - loss: 0.5547 - acc: 0.7378 - val_loss: 0.4721 - val_acc: 0.7875\n",
      "Epoch 3/10\n",
      "30/30 [==============================] - 6s 201ms/step - loss: 0.3941 - acc: 0.8360 - val_loss: 0.3505 - val_acc: 0.8319\n",
      "Epoch 4/10\n",
      "30/30 [==============================] - 6s 202ms/step - loss: 0.2629 - acc: 0.9000 - val_loss: 0.2492 - val_acc: 0.8869\n",
      "Epoch 5/10\n",
      "30/30 [==============================] - 6s 201ms/step - loss: 0.1924 - acc: 0.9360 - val_loss: 0.1980 - val_acc: 0.9271\n",
      "Epoch 6/10\n",
      "30/30 [==============================] - 6s 201ms/step - loss: 0.1548 - acc: 0.9466 - val_loss: 0.1882 - val_acc: 0.9323\n",
      "Epoch 7/10\n",
      "30/30 [==============================] - 6s 201ms/step - loss: 0.1343 - acc: 0.9582 - val_loss: 0.2106 - val_acc: 0.9186\n",
      "Epoch 8/10\n",
      "30/30 [==============================] - 6s 201ms/step - loss: 0.1190 - acc: 0.9648 - val_loss: 0.1887 - val_acc: 0.9397\n",
      "Epoch 9/10\n",
      "30/30 [==============================] - 6s 200ms/step - loss: 0.1018 - acc: 0.9656 - val_loss: 0.1850 - val_acc: 0.9355\n",
      "Epoch 10/10\n",
      "30/30 [==============================] - 6s 200ms/step - loss: 0.0876 - acc: 0.9738 - val_loss: 0.1963 - val_acc: 0.9440\n"
     ]
    }
   ],
   "source": [
    "history = model2.fit(data_ok, data.review.values, epochs=10, batch_size=128, validation_split=0.2)"
   ]
  },
  {
   "cell_type": "code",
   "execution_count": 46,
   "metadata": {},
   "outputs": [
    {
     "data": {
      "text/plain": [
       "<matplotlib.legend.Legend at 0x1a5edd5f160>"
      ]
     },
     "execution_count": 46,
     "metadata": {},
     "output_type": "execute_result"
    },
    {
     "data": {
      "image/png": "[encoded data removed]",
      "text/plain": [
       "<Figure size 432x288 with 1 Axes>"
      ]
     },
     "metadata": {
      "needs_background": "light"
     },
     "output_type": "display_data"
    }
   ],
   "source": [
    "plt.plot(history.epoch, history.history.get('val_acc'), c='r', label='val_acc')\n",
    "plt.plot(history.epoch, history.history.get('acc'), c='b', label='acc')\n",
    "plt.legend()"
   ]
  },
  {
   "cell_type": "code",
   "execution_count": 47,
   "metadata": {},
   "outputs": [
    {
     "data": {
      "text/plain": [
       "<matplotlib.legend.Legend at 0x1a5eddcc610>"
      ]
     },
     "execution_count": 47,
     "metadata": {},
     "output_type": "execute_result"
    },
    {
     "data": {
      "image/png": "[encoded data removed]",
      "text/plain": [
       "<Figure size 432x288 with 1 Axes>"
      ]
     },
     "metadata": {
      "needs_background": "light"
     },
     "output_type": "display_data"
    }
   ],
   "source": [
    "plt.plot(history.epoch, history.history.get('val_loss'), c='r', label='val_loss')\n",
    "plt.plot(history.epoch, history.history.get('loss'), c='b', label='loss')\n",
    "plt.legend()"
   ]
  },
  {
   "cell_type": "markdown",
   "metadata": {},
   "source": [
    "# 使用双向 RNN"
   ]
  },
  {
   "cell_type": "code",
   "execution_count": 50,
   "metadata": {},
   "outputs": [],
   "source": [
    "def train_model():\n",
    "    model = keras.Sequential()\n",
    "    model.add(layers.Embedding(max_word, 16, input_length=maxlen))\n",
    "    model.add(layers.Bidirectional(layers.LSTM(64,\n",
    "                         dropout=0.2,\n",
    "                         recurrent_dropout=0.5)))\n",
    "    model.add(layers.Dropout(0.5))\n",
    "    model.add(layers.Dense(1, activation='sigmoid'))\n",
    "    model.compile(optimizer=keras.optimizers.RMSprop(),\n",
    "              loss='binary_crossentropy',\n",
    "              metrics=['acc'])\n",
    "    return model"
   ]
  },
  {
   "cell_type": "code",
   "execution_count": 51,
   "metadata": {},
   "outputs": [
    {
     "name": "stdout",
     "output_type": "stream",
     "text": [
      "WARNING:tensorflow:Layer lstm_3 will not use cuDNN kernels since it doesn't meet the criteria. It will use a generic GPU kernel as fallback when running on GPU.\n",
      "WARNING:tensorflow:Layer lstm_3 will not use cuDNN kernels since it doesn't meet the criteria. It will use a generic GPU kernel as fallback when running on GPU.\n",
      "WARNING:tensorflow:Layer lstm_3 will not use cuDNN kernels since it doesn't meet the criteria. It will use a generic GPU kernel as fallback when running on GPU.\n"
     ]
    }
   ],
   "source": [
    "model3 = train_model()"
   ]
  },
  {
   "cell_type": "code",
   "execution_count": null,
   "metadata": {},
   "outputs": [],
   "source": [
    "learning_rate_reduction = keras.callbacks.ReduceLROnPlateau(monitor='val_loss', patience=3, factor=0.3, min_lr=0.00001)"
   ]
  },
  {
   "cell_type": "code",
   "execution_count": null,
   "metadata": {},
   "outputs": [],
   "source": [
    "history = model3.fit(data_ok, \n",
    "                     data.review.values, \n",
    "                     epochs=30, \n",
    "                     batch_size=128, \n",
    "                     validation_split=0.2,\n",
    "                     callbacks=[learning_rate_reduction])"
   ]
  },
  {
   "cell_type": "code",
   "execution_count": null,
   "metadata": {},
   "outputs": [],
   "source": [
    "plt.plot(history.epoch, history.history.get('val_acc'), c='r', label='val_acc')\n",
    "plt.plot(history.epoch, history.history.get('acc'), c='b', label='acc')\n",
    "plt.legend()"
   ]
  },
  {
   "cell_type": "code",
   "execution_count": null,
   "metadata": {},
   "outputs": [],
   "source": [
    "plt.plot(history.epoch, history.history.get('val_loss'), c='r', label='val_loss')\n",
    "plt.plot(history.epoch, history.history.get('loss'), c='b', label='loss')\n",
    "plt.legend()"
   ]
  },
  {
   "cell_type": "code",
   "execution_count": null,
   "metadata": {},
   "outputs": [],
   "source": []
  }
 ],
 "metadata": {
  "kernelspec": {
   "display_name": "Python 3 (ipykernel)",
   "language": "python",
   "name": "python3"
  },
  "language_info": {
   "codemirror_mode": {
    "name": "ipython",
    "version": 3
   },
   "file_extension": ".py",
   "mimetype": "text/x-python",
   "name": "python",
   "nbconvert_exporter": "python",
   "pygments_lexer": "ipython3",
   "version": "3.10.4"
  }
 },
 "nbformat": 4,
 "nbformat_minor": 2
}
