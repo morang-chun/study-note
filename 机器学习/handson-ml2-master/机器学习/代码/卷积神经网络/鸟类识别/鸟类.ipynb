{
 "cells": [
  {
   "cell_type": "code",
   "execution_count": 7,
   "id": "95c61e7d",
   "metadata": {},
   "outputs": [],
   "source": [
    "import pandas as pd\n",
    "import numpy as np\n",
    "import matplotlib.pyplot as plt\n",
    "%matplotlib inline\n",
    "import tensorflow as tf\n",
    "import glob \n",
    "from sklearn.metrics import classification_report\n",
    "import random"
   ]
  },
  {
   "cell_type": "code",
   "execution_count": 2,
   "id": "57abee61",
   "metadata": {},
   "outputs": [],
   "source": [
    "path = glob.glob(\"d:/birds/*/*.jpg\")"
   ]
  },
  {
   "cell_type": "code",
   "execution_count": 3,
   "id": "399823cb",
   "metadata": {},
   "outputs": [
    {
     "data": {
      "text/plain": [
       "160"
      ]
     },
     "execution_count": 3,
     "metadata": {},
     "output_type": "execute_result"
    }
   ],
   "source": [
    "len(path)"
   ]
  },
  {
   "cell_type": "code",
   "execution_count": 18,
   "id": "72ca224a",
   "metadata": {},
   "outputs": [
    {
     "data": {
      "text/plain": [
       "(['d:/birds\\\\007.Parakeet_Auklet\\\\12.jpg',\n",
       "  'd:/birds\\\\005.Crested_Auklet\\\\31.jpg',\n",
       "  'd:/birds\\\\006.Least_Auklet\\\\25.jpg',\n",
       "  'd:/birds\\\\008.Rhinoceros_Auklet\\\\15.jpg',\n",
       "  'd:/birds\\\\008.Rhinoceros_Auklet\\\\29.jpg'],\n",
       " ['d:/birds\\\\005.Crested_Auklet\\\\19.jpg',\n",
       "  'd:/birds\\\\005.Crested_Auklet\\\\12.jpg',\n",
       "  'd:/birds\\\\005.Crested_Auklet\\\\18.jpg',\n",
       "  'd:/birds\\\\006.Least_Auklet\\\\0.jpg',\n",
       "  'd:/birds\\\\005.Crested_Auklet\\\\6.jpg'])"
      ]
     },
     "execution_count": 18,
     "metadata": {},
     "output_type": "execute_result"
    }
   ],
   "source": [
    "# 查看第一张图片和最后一张图片的路径\n",
    "path[:5],path[-5:]"
   ]
  },
  {
   "cell_type": "code",
   "execution_count": 8,
   "id": "43f75077",
   "metadata": {},
   "outputs": [],
   "source": [
    "random.shuffle(path)"
   ]
  },
  {
   "cell_type": "code",
   "execution_count": 19,
   "id": "e7e99312",
   "metadata": {},
   "outputs": [
    {
     "data": {
      "text/plain": [
       "(['d:/birds\\\\007.Parakeet_Auklet\\\\12.jpg',\n",
       "  'd:/birds\\\\005.Crested_Auklet\\\\31.jpg',\n",
       "  'd:/birds\\\\006.Least_Auklet\\\\25.jpg',\n",
       "  'd:/birds\\\\008.Rhinoceros_Auklet\\\\15.jpg',\n",
       "  'd:/birds\\\\008.Rhinoceros_Auklet\\\\29.jpg'],\n",
       " ['d:/birds\\\\005.Crested_Auklet\\\\19.jpg',\n",
       "  'd:/birds\\\\005.Crested_Auklet\\\\12.jpg',\n",
       "  'd:/birds\\\\005.Crested_Auklet\\\\18.jpg',\n",
       "  'd:/birds\\\\006.Least_Auklet\\\\0.jpg',\n",
       "  'd:/birds\\\\005.Crested_Auklet\\\\6.jpg'])"
      ]
     },
     "execution_count": 19,
     "metadata": {},
     "output_type": "execute_result"
    }
   ],
   "source": [
    "path[:5],path[-5:]"
   ]
  },
  {
   "cell_type": "code",
   "execution_count": 10,
   "id": "5567f5bb",
   "metadata": {
    "collapsed": true
   },
   "outputs": [
    {
     "data": {
      "text/plain": [
       "[2,\n",
       " 0,\n",
       " 1,\n",
       " 3,\n",
       " 3,\n",
       " 1,\n",
       " 3,\n",
       " 3,\n",
       " 2,\n",
       " 2,\n",
       " 0,\n",
       " 2,\n",
       " 3,\n",
       " 3,\n",
       " 1,\n",
       " 1,\n",
       " 2,\n",
       " 3,\n",
       " 3,\n",
       " 0,\n",
       " 0,\n",
       " 3,\n",
       " 0,\n",
       " 2,\n",
       " 1,\n",
       " 3,\n",
       " 3,\n",
       " 0,\n",
       " 0,\n",
       " 0,\n",
       " 3,\n",
       " 1,\n",
       " 0,\n",
       " 2,\n",
       " 3,\n",
       " 3,\n",
       " 1,\n",
       " 2,\n",
       " 2,\n",
       " 2,\n",
       " 0,\n",
       " 1,\n",
       " 3,\n",
       " 0,\n",
       " 1,\n",
       " 1,\n",
       " 3,\n",
       " 2,\n",
       " 3,\n",
       " 3,\n",
       " 3,\n",
       " 1,\n",
       " 1,\n",
       " 2,\n",
       " 3,\n",
       " 1,\n",
       " 1,\n",
       " 2,\n",
       " 2,\n",
       " 0,\n",
       " 1,\n",
       " 2,\n",
       " 3,\n",
       " 2,\n",
       " 0,\n",
       " 3,\n",
       " 0,\n",
       " 0,\n",
       " 1,\n",
       " 0,\n",
       " 3,\n",
       " 1,\n",
       " 2,\n",
       " 1,\n",
       " 2,\n",
       " 2,\n",
       " 3,\n",
       " 3,\n",
       " 1,\n",
       " 0,\n",
       " 3,\n",
       " 3,\n",
       " 0,\n",
       " 0,\n",
       " 0,\n",
       " 1,\n",
       " 2,\n",
       " 1,\n",
       " 1,\n",
       " 1,\n",
       " 0,\n",
       " 0,\n",
       " 3,\n",
       " 3,\n",
       " 1,\n",
       " 1,\n",
       " 2,\n",
       " 3,\n",
       " 0,\n",
       " 1,\n",
       " 3,\n",
       " 1,\n",
       " 3,\n",
       " 1,\n",
       " 2,\n",
       " 1,\n",
       " 2,\n",
       " 1,\n",
       " 2,\n",
       " 0,\n",
       " 3,\n",
       " 0,\n",
       " 0,\n",
       " 2,\n",
       " 0,\n",
       " 1,\n",
       " 2,\n",
       " 2,\n",
       " 0,\n",
       " 2,\n",
       " 1,\n",
       " 3,\n",
       " 0,\n",
       " 1,\n",
       " 2,\n",
       " 1,\n",
       " 0,\n",
       " 3,\n",
       " 1,\n",
       " 3,\n",
       " 0,\n",
       " 2,\n",
       " 3,\n",
       " 2,\n",
       " 3,\n",
       " 2,\n",
       " 1,\n",
       " 2,\n",
       " 1,\n",
       " 0,\n",
       " 2,\n",
       " 0,\n",
       " 3,\n",
       " 1,\n",
       " 2,\n",
       " 0,\n",
       " 2,\n",
       " 3,\n",
       " 1,\n",
       " 0,\n",
       " 2,\n",
       " 2,\n",
       " 2,\n",
       " 2,\n",
       " 0,\n",
       " 0,\n",
       " 0,\n",
       " 0,\n",
       " 1,\n",
       " 0]"
      ]
     },
     "execution_count": 10,
     "metadata": {},
     "output_type": "execute_result"
    }
   ],
   "source": [
    "# 打标签\n",
    "labels = [int(p.split(\"\\\\\")[1][2])-5 for p in path]\n",
    "labels\n",
    "    \n",
    "    "
   ]
  },
  {
   "cell_type": "code",
   "execution_count": 17,
   "id": "b98b56d0",
   "metadata": {
    "scrolled": true
   },
   "outputs": [
    {
     "data": {
      "text/plain": [
       "[0,\n",
       " 2,\n",
       " 3,\n",
       " 1,\n",
       " 1,\n",
       " 3,\n",
       " 1,\n",
       " 1,\n",
       " 0,\n",
       " 0,\n",
       " 2,\n",
       " 0,\n",
       " 1,\n",
       " 1,\n",
       " 3,\n",
       " 3,\n",
       " 0,\n",
       " 1,\n",
       " 1,\n",
       " 2,\n",
       " 2,\n",
       " 1,\n",
       " 2,\n",
       " 0,\n",
       " 3,\n",
       " 1,\n",
       " 1,\n",
       " 2,\n",
       " 2,\n",
       " 2,\n",
       " 1,\n",
       " 3,\n",
       " 2,\n",
       " 0,\n",
       " 1,\n",
       " 1,\n",
       " 3,\n",
       " 0,\n",
       " 0,\n",
       " 0,\n",
       " 2,\n",
       " 3,\n",
       " 1,\n",
       " 2,\n",
       " 3,\n",
       " 3,\n",
       " 1,\n",
       " 0,\n",
       " 1,\n",
       " 1,\n",
       " 1,\n",
       " 3,\n",
       " 3,\n",
       " 0,\n",
       " 1,\n",
       " 3,\n",
       " 3,\n",
       " 0,\n",
       " 0,\n",
       " 2,\n",
       " 3,\n",
       " 0,\n",
       " 1,\n",
       " 0,\n",
       " 2,\n",
       " 1,\n",
       " 2,\n",
       " 2,\n",
       " 3,\n",
       " 2,\n",
       " 1,\n",
       " 3,\n",
       " 0,\n",
       " 3,\n",
       " 0,\n",
       " 0,\n",
       " 1,\n",
       " 1,\n",
       " 3,\n",
       " 2,\n",
       " 1,\n",
       " 1,\n",
       " 2,\n",
       " 2,\n",
       " 2,\n",
       " 3,\n",
       " 0,\n",
       " 3,\n",
       " 3,\n",
       " 3,\n",
       " 2,\n",
       " 2,\n",
       " 1,\n",
       " 1,\n",
       " 3,\n",
       " 3,\n",
       " 0,\n",
       " 1,\n",
       " 2,\n",
       " 3,\n",
       " 1,\n",
       " 3,\n",
       " 1,\n",
       " 3,\n",
       " 0,\n",
       " 3,\n",
       " 0,\n",
       " 3,\n",
       " 0,\n",
       " 2,\n",
       " 1,\n",
       " 2,\n",
       " 2,\n",
       " 0,\n",
       " 2,\n",
       " 3,\n",
       " 0,\n",
       " 0,\n",
       " 2,\n",
       " 0,\n",
       " 3,\n",
       " 1,\n",
       " 2,\n",
       " 3,\n",
       " 0,\n",
       " 3,\n",
       " 2,\n",
       " 1,\n",
       " 3,\n",
       " 1,\n",
       " 2,\n",
       " 0,\n",
       " 1,\n",
       " 0,\n",
       " 1,\n",
       " 0,\n",
       " 3,\n",
       " 0,\n",
       " 3,\n",
       " 2,\n",
       " 0,\n",
       " 2,\n",
       " 1,\n",
       " 3,\n",
       " 0,\n",
       " 2,\n",
       " 0,\n",
       " 1,\n",
       " 3,\n",
       " 2,\n",
       " 0,\n",
       " 0,\n",
       " 0,\n",
       " 0,\n",
       " 2,\n",
       " 2,\n",
       " 2,\n",
       " 2,\n",
       " 3,\n",
       " 2]"
      ]
     },
     "execution_count": 17,
     "metadata": {},
     "output_type": "execute_result"
    }
   ],
   "source": [
    "# labels = [p.split(\".\")[1].split(\"_\")[0] for p in path]\n",
    "labels = []\n",
    "for p in path:\n",
    "    if p.split(\".\")[1].split(\"_\")[0]==\"Parakeet\":\n",
    "        labels.append(0)\n",
    "    elif p.split(\".\")[1].split(\"_\")[0]==\"Rhinoceros\":\n",
    "        labels.append(1)\n",
    "    elif p.split(\".\")[1].split(\"_\")[0]==\"Crested\":\n",
    "        labels.append(2)\n",
    "    else :\n",
    "        labels.append(3)\n",
    "        \n",
    "        \n",
    "    \n",
    "labels"
   ]
  },
  {
   "cell_type": "code",
   "execution_count": 13,
   "id": "4491f7f8",
   "metadata": {},
   "outputs": [
    {
     "data": {
      "text/plain": [
       "'Crested'"
      ]
     },
     "execution_count": 13,
     "metadata": {},
     "output_type": "execute_result"
    }
   ],
   "source": [
    "a = \"d:/birds\\\\005.Crested_Auklet\\\\0.jpg\"\n",
    "a.split(\".\")[1].split(\"_\")[0]"
   ]
  },
  {
   "cell_type": "code",
   "execution_count": 20,
   "id": "c9ecb875",
   "metadata": {},
   "outputs": [],
   "source": [
    "def load_and_preprocess_image(path):\n",
    "    image = tf.io.read_file(path)\n",
    "    image = tf.image.decode_jpeg(image,channels=3)\n",
    "    image = tf.image.resize(image,[256,256])\n",
    "    image = image/255.0\n",
    "    return image"
   ]
  },
  {
   "cell_type": "code",
   "execution_count": 24,
   "id": "468c28b5",
   "metadata": {},
   "outputs": [
    {
     "ename": "TypeError",
     "evalue": "where() takes from 1 to 3 positional arguments but 5 were given",
     "output_type": "error",
     "traceback": [
      "\u001b[1;31m---------------------------------------------------------------------------\u001b[0m",
      "\u001b[1;31mTypeError\u001b[0m                                 Traceback (most recent call last)",
      "\u001b[1;32m~\\AppData\\Local\\Temp/ipykernel_10016/3335032001.py\u001b[0m in \u001b[0;36m<module>\u001b[1;34m\u001b[0m\n\u001b[0;32m      3\u001b[0m \u001b[0mplt\u001b[0m\u001b[1;33m.\u001b[0m\u001b[0mimshow\u001b[0m\u001b[1;33m(\u001b[0m\u001b[0mload_and_preprocess_image\u001b[0m\u001b[1;33m(\u001b[0m\u001b[0mpath_\u001b[0m\u001b[1;33m)\u001b[0m\u001b[1;33m)\u001b[0m\u001b[1;33m\u001b[0m\u001b[1;33m\u001b[0m\u001b[0m\n\u001b[0;32m      4\u001b[0m \u001b[1;31m# plt.axes(\"off\")\u001b[0m\u001b[1;33m\u001b[0m\u001b[1;33m\u001b[0m\u001b[0m\n\u001b[1;32m----> 5\u001b[1;33m \u001b[0mprint\u001b[0m\u001b[1;33m(\u001b[0m\u001b[0mrr\u001b[0m\u001b[1;33m,\u001b[0m\u001b[0mnp\u001b[0m\u001b[1;33m.\u001b[0m\u001b[0mwhere\u001b[0m\u001b[1;33m(\u001b[0m\u001b[0mlabels\u001b[0m\u001b[1;33m[\u001b[0m\u001b[0mrr\u001b[0m\u001b[1;33m]\u001b[0m\u001b[1;33m==\u001b[0m\u001b[1;36m1\u001b[0m\u001b[1;33m,\u001b[0m\u001b[1;34m\"Parakeet\"\u001b[0m\u001b[1;33m,\u001b[0m\u001b[1;34m\"Rhinoceros\"\u001b[0m\u001b[1;33m,\u001b[0m\u001b[1;34m\"Crested\"\u001b[0m\u001b[1;33m,\u001b[0m\u001b[1;34m\"Least\"\u001b[0m\u001b[1;33m)\u001b[0m\u001b[1;33m)\u001b[0m\u001b[1;33m\u001b[0m\u001b[1;33m\u001b[0m\u001b[0m\n\u001b[0m",
      "\u001b[1;32m<__array_function__ internals>\u001b[0m in \u001b[0;36mwhere\u001b[1;34m(*args, **kwargs)\u001b[0m\n",
      "\u001b[1;31mTypeError\u001b[0m: where() takes from 1 to 3 positional arguments but 5 were given"
     ]
    },
    {
     "data": {
      "image/png": "[encoded data removed]",
      "text/plain": [
       "<Figure size 432x288 with 1 Axes>"
      ]
     },
     "metadata": {
      "needs_background": "light"
     },
     "output_type": "display_data"
    }
   ],
   "source": [
    "rr = random.randint(0,len(path))\n",
    "path_ = path[rr]\n",
    "plt.imshow(load_and_preprocess_image(path_))\n",
    "# plt.axes(\"off\")\n",
    "print(rr,np.where(labels[rr]==1,\"Parakeet\",\"Rhinoceros\",\"Crested\",\"Least\"))"
   ]
  },
  {
   "cell_type": "code",
   "execution_count": 25,
   "id": "8b8ac40d",
   "metadata": {},
   "outputs": [],
   "source": [
    "train_val_count=int(len(path)*.85)  #取85%作为训练集与验证集数据\n",
    "#含图片的路径的list转化为dataset，下同。方便后面用map函数将图片数据读入\n",
    "train_val_img_path = tf.data.Dataset.from_tensor_slices(path[:train_val_count])    #转训练集与验证集\n",
    "test_img_path=tf.data.Dataset.from_tensor_slices(path[train_val_count:])     #余下为测试集，转测试集"
   ]
  },
  {
   "cell_type": "code",
   "execution_count": 26,
   "id": "ad36f85c",
   "metadata": {},
   "outputs": [],
   "source": [
    "AUTOTUNE = tf.data.experimental.AUTOTUNE\n",
    "train_val_image_ds = train_val_img_path.map(load_and_preprocess_image, num_parallel_calls=AUTOTUNE)   \n",
    "#map，用load_and_preprocess_image函数遍历path_ds中每一个路径\n",
    "#读入图片数据保存在image_ds，训练集图片"
   ]
  },
  {
   "cell_type": "code",
   "execution_count": 27,
   "id": "c1eaf8a6",
   "metadata": {},
   "outputs": [],
   "source": [
    "test_image_ds = test_img_path.map(load_and_preprocess_image, num_parallel_calls=AUTOTUNE) \n",
    "#map，用load_and_preprocess_image函数遍历path_ds中每一个路径\n",
    "#读入图片数据保存在image_ds，测试集图片"
   ]
  },
  {
   "cell_type": "code",
   "execution_count": 30,
   "id": "ae15a2a9",
   "metadata": {},
   "outputs": [],
   "source": [
    "#将训练集的标签转为dataset，方便后面用zip将图片与标签合并。zip（x,y）,x,y为同类型变量\n",
    "train_val_label = tf.data.Dataset.from_tensor_slices(labels[:train_val_count])\n",
    "#测试集标签仅在打印分类报告时使用，保持为list\n",
    "test_label=labels[train_val_count:]"
   ]
  },
  {
   "cell_type": "code",
   "execution_count": 31,
   "id": "989e8a40",
   "metadata": {},
   "outputs": [],
   "source": [
    "#将训练集、验证集的图片与对应的标签打包，方便后面验证集、训练集划分以及模型训练\n",
    "train_val_image_label_ds = tf.data.Dataset.zip((train_val_image_ds, train_val_label))  "
   ]
  },
  {
   "cell_type": "code",
   "execution_count": 32,
   "id": "80c93551",
   "metadata": {},
   "outputs": [],
   "source": [
    "#取（训练集与验证集）中20%为为验证集的样本数量。\n",
    "val_count = int(train_val_count*0.2)   \n",
    "#训练集与验证集的样本数量减去验证集的样本数量，余下为训练集的样本数量\n",
    "train_count = train_val_count - val_count  "
   ]
  },
  {
   "cell_type": "code",
   "execution_count": 33,
   "id": "98b0bfdf",
   "metadata": {},
   "outputs": [
    {
     "data": {
      "text/plain": [
       "(27, 109)"
      ]
     },
     "execution_count": 33,
     "metadata": {},
     "output_type": "execute_result"
    }
   ],
   "source": [
    "val_count,train_count"
   ]
  },
  {
   "cell_type": "code",
   "execution_count": 34,
   "id": "fde49ce6",
   "metadata": {},
   "outputs": [],
   "source": [
    "val_image_label_ds = train_val_image_label_ds.take(val_count)  #从image_label_ds中提取验证集数据\n",
    "train_image_label_ds = train_val_image_label_ds.skip(val_count)  #提取余下的为训练集数据"
   ]
  },
  {
   "cell_type": "code",
   "execution_count": 35,
   "id": "9148d1a9",
   "metadata": {},
   "outputs": [
    {
     "data": {
      "text/plain": [
       "(<SkipDataset element_spec=(TensorSpec(shape=(256, 256, 3), dtype=tf.float32, name=None), TensorSpec(shape=(), dtype=tf.int32, name=None))>,\n",
       " <TakeDataset element_spec=(TensorSpec(shape=(256, 256, 3), dtype=tf.float32, name=None), TensorSpec(shape=(), dtype=tf.int32, name=None))>,\n",
       " <ParallelMapDataset element_spec=TensorSpec(shape=(256, 256, 3), dtype=tf.float32, name=None)>)"
      ]
     },
     "execution_count": 35,
     "metadata": {},
     "output_type": "execute_result"
    }
   ],
   "source": [
    "train_image_label_ds,val_image_label_ds,test_image_ds  #查看"
   ]
  },
  {
   "cell_type": "code",
   "execution_count": 36,
   "id": "77b01d70",
   "metadata": {},
   "outputs": [],
   "source": [
    "BATCH_SIZE =32"
   ]
  },
  {
   "cell_type": "code",
   "execution_count": 37,
   "id": "663e3e12",
   "metadata": {},
   "outputs": [],
   "source": [
    "train_data_r = train_image_label_ds.repeat()\n",
    "train_data_r_b = train_data_r.batch(BATCH_SIZE)\n",
    "train_data = train_data_r_b.prefetch(AUTOTUNE)"
   ]
  },
  {
   "cell_type": "code",
   "execution_count": 38,
   "id": "cd50e7de",
   "metadata": {},
   "outputs": [],
   "source": [
    "val_data = val_image_label_ds.batch(BATCH_SIZE)  \n",
    "test_data = test_image_ds.batch(BATCH_SIZE)"
   ]
  },
  {
   "cell_type": "code",
   "execution_count": 39,
   "id": "0ffdd486",
   "metadata": {},
   "outputs": [
    {
     "data": {
      "text/plain": [
       "(<PrefetchDataset element_spec=(TensorSpec(shape=(None, 256, 256, 3), dtype=tf.float32, name=None), TensorSpec(shape=(None,), dtype=tf.int32, name=None))>,\n",
       " <BatchDataset element_spec=(TensorSpec(shape=(None, 256, 256, 3), dtype=tf.float32, name=None), TensorSpec(shape=(None,), dtype=tf.int32, name=None))>,\n",
       " <BatchDataset element_spec=TensorSpec(shape=(None, 256, 256, 3), dtype=tf.float32, name=None)>)"
      ]
     },
     "execution_count": 39,
     "metadata": {},
     "output_type": "execute_result"
    }
   ],
   "source": [
    "train_data,val_data,test_data"
   ]
  },
  {
   "cell_type": "markdown",
   "id": "92bade74",
   "metadata": {},
   "source": [
    "# 建立模型"
   ]
  },
  {
   "cell_type": "code",
   "execution_count": 67,
   "id": "09a46d56",
   "metadata": {},
   "outputs": [],
   "source": [
    "model = tf.keras.Sequential()   #顺序模型\n",
    "model.add(tf.keras.layers.Conv2D(32, (3, 3), input_shape=(256, 256, 3), activation='relu'))\n",
    "model.add(tf.keras.layers.BatchNormalization())\n",
    "model.add(tf.keras.layers.Conv2D(32,(3,3),padding=\"same\",activation='relu'))\n",
    "model.add(tf.keras.layers.BatchNormalization())\n",
    "model.add(tf.keras.layers.GlobalAveragePooling2D())\n",
    "model.add(tf.keras.layers.Dense(32, activation='relu'))\n",
    "model.add(tf.keras.layers.Dense(1, activation='sigmoid'))"
   ]
  },
  {
   "cell_type": "code",
   "execution_count": 68,
   "id": "951c3f39",
   "metadata": {},
   "outputs": [],
   "source": [
    "# model=tf.keras.Sequential()\n",
    "# model.add(tf.keras.layers.Conv2D(64,(3,3),input_shape=(28,28,1),padding=\"same\",activation='relu'))\n",
    "# model.add(tf.keras.layers.BatchNormalization())\n",
    "# model.add(tf.keras.layers.MaxPooling2D())\n",
    "# model.add(tf.keras.layers.Conv2D(64,(3,3),padding=\"same\",activation='relu'))\n",
    "# model.add(tf.keras.layers.BatchNormalization())\n",
    "# model.add(tf.keras.layers.Conv2D(1024,(3,3),padding=\"same\",activation='relu'))\n",
    "# model.add(tf.keras.layers.GlobalAveragePooling2D())\n",
    "# model.add(tf.keras.layers.Dense(256,activation='relu'))\n",
    "# model.add(tf.keras.layers.Dense(10,activation=\"softmax\"))"
   ]
  },
  {
   "cell_type": "code",
   "execution_count": 69,
   "id": "6ee06b45",
   "metadata": {},
   "outputs": [
    {
     "name": "stdout",
     "output_type": "stream",
     "text": [
      "Model: \"sequential_1\"\n",
      "_________________________________________________________________\n",
      " Layer (type)                Output Shape              Param #   \n",
      "=================================================================\n",
      " conv2d_1 (Conv2D)           (None, 254, 254, 32)      896       \n",
      "                                                                 \n",
      " batch_normalization_1 (Batc  (None, 254, 254, 32)     128       \n",
      " hNormalization)                                                 \n",
      "                                                                 \n",
      " conv2d_2 (Conv2D)           (None, 254, 254, 32)      9248      \n",
      "                                                                 \n",
      " batch_normalization_2 (Batc  (None, 254, 254, 32)     128       \n",
      " hNormalization)                                                 \n",
      "                                                                 \n",
      " global_average_pooling2d_1   (None, 32)               0         \n",
      " (GlobalAveragePooling2D)                                        \n",
      "                                                                 \n",
      " dense_2 (Dense)             (None, 32)                1056      \n",
      "                                                                 \n",
      " dense_3 (Dense)             (None, 1)                 33        \n",
      "                                                                 \n",
      "=================================================================\n",
      "Total params: 11,489\n",
      "Trainable params: 11,361\n",
      "Non-trainable params: 128\n",
      "_________________________________________________________________\n"
     ]
    }
   ],
   "source": [
    "model.summary()"
   ]
  },
  {
   "cell_type": "code",
   "execution_count": 70,
   "id": "06f4f8db",
   "metadata": {},
   "outputs": [],
   "source": [
    "model.compile(optimizer=\"adam\",\n",
    "             loss=\"binary_crossentropy\",\n",
    "             metrics=['acc'])"
   ]
  },
  {
   "cell_type": "code",
   "execution_count": 71,
   "id": "81554906",
   "metadata": {},
   "outputs": [],
   "source": [
    "steps_per_epoch = train_count//BATCH_SIZE"
   ]
  },
  {
   "cell_type": "code",
   "execution_count": 72,
   "id": "aa7ce20f",
   "metadata": {},
   "outputs": [
    {
     "data": {
      "text/plain": [
       "3"
      ]
     },
     "execution_count": 72,
     "metadata": {},
     "output_type": "execute_result"
    }
   ],
   "source": [
    "steps_per_epoch"
   ]
  },
  {
   "cell_type": "code",
   "execution_count": 73,
   "id": "e9c96b07",
   "metadata": {},
   "outputs": [
    {
     "name": "stdout",
     "output_type": "stream",
     "text": [
      "Epoch 1/170\n",
      "3/3 [==============================] - 10s 3s/step - loss: 0.4110 - acc: 0.3021 - val_loss: 0.5169 - val_acc: 0.4074\n",
      "Epoch 2/170\n",
      "3/3 [==============================] - 9s 3s/step - loss: 0.1443 - acc: 0.2500 - val_loss: 0.4485 - val_acc: 0.4074\n",
      "Epoch 3/170\n",
      "3/3 [==============================] - 9s 3s/step - loss: 0.0182 - acc: 0.2500 - val_loss: 0.3855 - val_acc: 0.4074\n",
      "Epoch 4/170\n",
      "3/3 [==============================] - 9s 3s/step - loss: -0.1070 - acc: 0.2604 - val_loss: 0.3181 - val_acc: 0.4074\n",
      "Epoch 5/170\n",
      "3/3 [==============================] - 9s 3s/step - loss: -0.2653 - acc: 0.2500 - val_loss: 0.2524 - val_acc: 0.4074\n",
      "Epoch 6/170\n",
      "3/3 [==============================] - 9s 3s/step - loss: -0.2618 - acc: 0.2604 - val_loss: 0.1924 - val_acc: 0.4074\n",
      "Epoch 7/170\n",
      "3/3 [==============================] - 9s 3s/step - loss: -0.4442 - acc: 0.2396 - val_loss: 0.1431 - val_acc: 0.4074\n",
      "Epoch 8/170\n",
      "3/3 [==============================] - 9s 3s/step - loss: -0.5842 - acc: 0.2604 - val_loss: 0.1088 - val_acc: 0.4074\n",
      "Epoch 9/170\n",
      "3/3 [==============================] - 9s 3s/step - loss: -0.6698 - acc: 0.2500 - val_loss: 0.0848 - val_acc: 0.4074\n",
      "Epoch 10/170\n",
      "3/3 [==============================] - 9s 3s/step - loss: -0.8523 - acc: 0.2708 - val_loss: 0.0615 - val_acc: 0.4074\n",
      "Epoch 11/170\n",
      "3/3 [==============================] - 8s 3s/step - loss: -0.8099 - acc: 0.2604 - val_loss: 0.0249 - val_acc: 0.4074\n",
      "Epoch 12/170\n",
      "3/3 [==============================] - 8s 3s/step - loss: -0.9439 - acc: 0.2500 - val_loss: -0.0084 - val_acc: 0.4074\n",
      "Epoch 13/170\n",
      "3/3 [==============================] - 8s 3s/step - loss: -1.1408 - acc: 0.2500 - val_loss: -0.0470 - val_acc: 0.4074\n",
      "Epoch 14/170\n",
      "3/3 [==============================] - 9s 3s/step - loss: -1.0700 - acc: 0.2708 - val_loss: -0.0827 - val_acc: 0.4074\n",
      "Epoch 15/170\n",
      "3/3 [==============================] - 9s 3s/step - loss: -1.1865 - acc: 0.2500 - val_loss: -0.1066 - val_acc: 0.4074\n",
      "Epoch 16/170\n",
      "3/3 [==============================] - 9s 3s/step - loss: -1.4568 - acc: 0.2500 - val_loss: -0.1233 - val_acc: 0.4074\n",
      "Epoch 17/170\n",
      "3/3 [==============================] - 9s 3s/step - loss: -1.6496 - acc: 0.2500 - val_loss: -0.1483 - val_acc: 0.4074\n",
      "Epoch 18/170\n",
      "3/3 [==============================] - 9s 3s/step - loss: -1.6306 - acc: 0.2396 - val_loss: -0.1602 - val_acc: 0.4074\n",
      "Epoch 19/170\n",
      "3/3 [==============================] - 10s 3s/step - loss: -1.7861 - acc: 0.2708 - val_loss: -0.1940 - val_acc: 0.4074\n",
      "Epoch 20/170\n",
      "3/3 [==============================] - 9s 3s/step - loss: -1.8135 - acc: 0.2500 - val_loss: -0.2216 - val_acc: 0.4074\n",
      "Epoch 21/170\n",
      "3/3 [==============================] - 9s 3s/step - loss: -1.9833 - acc: 0.2500 - val_loss: -0.2676 - val_acc: 0.4074\n",
      "Epoch 22/170\n",
      "3/3 [==============================] - 9s 3s/step - loss: -2.0611 - acc: 0.2396 - val_loss: -0.3362 - val_acc: 0.4074\n",
      "Epoch 23/170\n",
      "3/3 [==============================] - 9s 3s/step - loss: -2.3066 - acc: 0.2708 - val_loss: -0.3980 - val_acc: 0.4074\n",
      "Epoch 24/170\n",
      "3/3 [==============================] - 9s 3s/step - loss: -2.5785 - acc: 0.2188 - val_loss: -0.4692 - val_acc: 0.4074\n",
      "Epoch 25/170\n",
      "3/3 [==============================] - 10s 3s/step - loss: -2.7537 - acc: 0.2500 - val_loss: -0.5485 - val_acc: 0.4074\n",
      "Epoch 26/170\n",
      "3/3 [==============================] - 9s 3s/step - loss: -2.8848 - acc: 0.2396 - val_loss: -0.6434 - val_acc: 0.4074\n",
      "Epoch 27/170\n",
      "3/3 [==============================] - 9s 3s/step - loss: -3.1319 - acc: 0.2708 - val_loss: -0.7254 - val_acc: 0.4074\n",
      "Epoch 28/170\n",
      "3/3 [==============================] - 8s 3s/step - loss: -3.0788 - acc: 0.2500 - val_loss: -0.8424 - val_acc: 0.4074\n",
      "Epoch 29/170\n",
      "3/3 [==============================] - 8s 3s/step - loss: -3.3887 - acc: 0.2500 - val_loss: -0.9678 - val_acc: 0.4074\n",
      "Epoch 30/170\n",
      "3/3 [==============================] - 8s 3s/step - loss: -3.8250 - acc: 0.2396 - val_loss: -1.0650 - val_acc: 0.4074\n",
      "Epoch 31/170\n",
      "3/3 [==============================] - 8s 3s/step - loss: -3.7953 - acc: 0.2500 - val_loss: -1.1782 - val_acc: 0.4074\n",
      "Epoch 32/170\n",
      "3/3 [==============================] - 8s 3s/step - loss: -4.1113 - acc: 0.2500 - val_loss: -1.2697 - val_acc: 0.4074\n",
      "Epoch 33/170\n",
      "3/3 [==============================] - 8s 3s/step - loss: -4.4758 - acc: 0.2500 - val_loss: -1.3184 - val_acc: 0.4074\n",
      "Epoch 34/170\n",
      "3/3 [==============================] - 8s 3s/step - loss: -5.1388 - acc: 0.2604 - val_loss: -1.3716 - val_acc: 0.4074\n",
      "Epoch 35/170\n",
      "3/3 [==============================] - 8s 3s/step - loss: -4.8053 - acc: 0.2604 - val_loss: -1.4247 - val_acc: 0.4074\n",
      "Epoch 36/170\n",
      "3/3 [==============================] - 8s 3s/step - loss: -5.0428 - acc: 0.2812 - val_loss: -1.5953 - val_acc: 0.4074\n",
      "Epoch 37/170\n",
      "3/3 [==============================] - 8s 3s/step - loss: -5.4397 - acc: 0.2604 - val_loss: -1.7443 - val_acc: 0.4074\n",
      "Epoch 38/170\n",
      "3/3 [==============================] - 8s 3s/step - loss: -5.7127 - acc: 0.2917 - val_loss: -1.7182 - val_acc: 0.4074\n",
      "Epoch 39/170\n",
      "3/3 [==============================] - 8s 3s/step - loss: -6.1566 - acc: 0.2708 - val_loss: -1.8623 - val_acc: 0.4074\n",
      "Epoch 40/170\n",
      "3/3 [==============================] - 8s 3s/step - loss: -6.2531 - acc: 0.2917 - val_loss: -1.9876 - val_acc: 0.4074\n",
      "Epoch 41/170\n",
      "3/3 [==============================] - 8s 3s/step - loss: -7.0417 - acc: 0.2604 - val_loss: -2.0028 - val_acc: 0.4074\n",
      "Epoch 42/170\n",
      "3/3 [==============================] - 8s 3s/step - loss: -7.6344 - acc: 0.2812 - val_loss: -2.0662 - val_acc: 0.4074\n",
      "Epoch 43/170\n",
      "3/3 [==============================] - 8s 3s/step - loss: -7.7289 - acc: 0.2708 - val_loss: -2.1625 - val_acc: 0.4074\n",
      "Epoch 44/170\n",
      "3/3 [==============================] - 8s 3s/step - loss: -8.3485 - acc: 0.2812 - val_loss: -2.1839 - val_acc: 0.4074\n",
      "Epoch 45/170\n",
      "3/3 [==============================] - 8s 3s/step - loss: -7.9480 - acc: 0.2708 - val_loss: -2.3998 - val_acc: 0.4074\n",
      "Epoch 46/170\n",
      "3/3 [==============================] - 8s 3s/step - loss: -8.5407 - acc: 0.2917 - val_loss: -2.4616 - val_acc: 0.4074\n",
      "Epoch 47/170\n",
      "3/3 [==============================] - 8s 3s/step - loss: -10.4248 - acc: 0.2604 - val_loss: -2.6394 - val_acc: 0.4074\n",
      "Epoch 48/170\n",
      "3/3 [==============================] - 8s 3s/step - loss: -9.9750 - acc: 0.2917 - val_loss: -2.8365 - val_acc: 0.4074\n",
      "Epoch 49/170\n",
      "3/3 [==============================] - 8s 3s/step - loss: -10.2219 - acc: 0.2500 - val_loss: -2.8247 - val_acc: 0.4074\n",
      "Epoch 50/170\n",
      "3/3 [==============================] - 8s 3s/step - loss: -10.9422 - acc: 0.2500 - val_loss: -2.9455 - val_acc: 0.4074\n",
      "Epoch 51/170\n",
      "3/3 [==============================] - 8s 3s/step - loss: -12.6356 - acc: 0.2500 - val_loss: -3.2078 - val_acc: 0.4074\n",
      "Epoch 52/170\n",
      "3/3 [==============================] - 8s 3s/step - loss: -12.4680 - acc: 0.2917 - val_loss: -2.8305 - val_acc: 0.4074\n",
      "Epoch 53/170\n",
      "3/3 [==============================] - 8s 3s/step - loss: -11.6600 - acc: 0.2708 - val_loss: -3.2655 - val_acc: 0.4074\n",
      "Epoch 54/170\n",
      "3/3 [==============================] - 8s 3s/step - loss: -13.3267 - acc: 0.2292 - val_loss: -3.4387 - val_acc: 0.4074\n",
      "Epoch 55/170\n",
      "3/3 [==============================] - 8s 3s/step - loss: -15.3452 - acc: 0.2500 - val_loss: -3.4460 - val_acc: 0.4074\n",
      "Epoch 56/170\n",
      "3/3 [==============================] - 8s 3s/step - loss: -14.9838 - acc: 0.2500 - val_loss: -3.7622 - val_acc: 0.4074\n",
      "Epoch 57/170\n",
      "3/3 [==============================] - 8s 3s/step - loss: -15.8968 - acc: 0.2396 - val_loss: -4.0403 - val_acc: 0.4074\n",
      "Epoch 58/170\n",
      "3/3 [==============================] - 8s 3s/step - loss: -16.0060 - acc: 0.2500 - val_loss: -3.6881 - val_acc: 0.4074\n",
      "Epoch 59/170\n",
      "3/3 [==============================] - 8s 3s/step - loss: -19.1436 - acc: 0.2188 - val_loss: -3.9746 - val_acc: 0.4074\n",
      "Epoch 60/170\n",
      "3/3 [==============================] - 8s 3s/step - loss: -18.3820 - acc: 0.2500 - val_loss: -3.9475 - val_acc: 0.4074\n",
      "Epoch 61/170\n",
      "3/3 [==============================] - 8s 3s/step - loss: -19.1753 - acc: 0.2604 - val_loss: -3.9180 - val_acc: 0.4074\n",
      "Epoch 62/170\n",
      "3/3 [==============================] - 8s 3s/step - loss: -18.4405 - acc: 0.2396 - val_loss: -4.1232 - val_acc: 0.4074\n",
      "Epoch 63/170\n",
      "3/3 [==============================] - 8s 3s/step - loss: -20.6203 - acc: 0.2500 - val_loss: -3.9895 - val_acc: 0.4074\n",
      "Epoch 64/170\n",
      "3/3 [==============================] - 8s 3s/step - loss: -23.0999 - acc: 0.2500 - val_loss: -3.8893 - val_acc: 0.4074\n",
      "Epoch 65/170\n",
      "3/3 [==============================] - 8s 3s/step - loss: -24.3048 - acc: 0.2396 - val_loss: -4.0642 - val_acc: 0.4074\n",
      "Epoch 66/170\n",
      "3/3 [==============================] - 9s 3s/step - loss: -24.8290 - acc: 0.2188 - val_loss: -3.7484 - val_acc: 0.4074\n",
      "Epoch 67/170\n",
      "3/3 [==============================] - 8s 3s/step - loss: -26.1299 - acc: 0.2500 - val_loss: -3.5101 - val_acc: 0.4074\n",
      "Epoch 68/170\n",
      "3/3 [==============================] - 8s 3s/step - loss: -29.8765 - acc: 0.2292 - val_loss: -3.8949 - val_acc: 0.4074\n",
      "Epoch 69/170\n",
      "3/3 [==============================] - 8s 3s/step - loss: -28.1829 - acc: 0.2604 - val_loss: -3.5280 - val_acc: 0.4074\n",
      "Epoch 70/170\n",
      "3/3 [==============================] - 8s 3s/step - loss: -26.7013 - acc: 0.2500 - val_loss: -3.8303 - val_acc: 0.4074\n",
      "Epoch 71/170\n",
      "3/3 [==============================] - 9s 3s/step - loss: -27.1518 - acc: 0.2500 - val_loss: -3.9504 - val_acc: 0.4074\n",
      "Epoch 72/170\n",
      "3/3 [==============================] - 8s 3s/step - loss: -36.3037 - acc: 0.2396 - val_loss: -3.9008 - val_acc: 0.4074\n",
      "Epoch 73/170\n",
      "3/3 [==============================] - 8s 3s/step - loss: -34.6233 - acc: 0.2500 - val_loss: -4.0953 - val_acc: 0.4074\n",
      "Epoch 74/170\n",
      "3/3 [==============================] - 8s 3s/step - loss: -38.4100 - acc: 0.2292 - val_loss: -4.0611 - val_acc: 0.4074\n",
      "Epoch 75/170\n",
      "3/3 [==============================] - 8s 3s/step - loss: -36.7490 - acc: 0.2500 - val_loss: -3.8355 - val_acc: 0.4074\n",
      "Epoch 76/170\n",
      "3/3 [==============================] - 8s 3s/step - loss: -42.5574 - acc: 0.2396 - val_loss: -4.4720 - val_acc: 0.4074\n",
      "Epoch 77/170\n",
      "3/3 [==============================] - 8s 3s/step - loss: -39.5124 - acc: 0.2604 - val_loss: -4.2814 - val_acc: 0.4074\n",
      "Epoch 78/170\n",
      "3/3 [==============================] - 8s 3s/step - loss: -38.6652 - acc: 0.2708 - val_loss: -4.4129 - val_acc: 0.4074\n",
      "Epoch 79/170\n",
      "3/3 [==============================] - 8s 3s/step - loss: -42.4680 - acc: 0.2292 - val_loss: -4.3036 - val_acc: 0.4074\n",
      "Epoch 80/170\n",
      "3/3 [==============================] - 8s 3s/step - loss: -45.1142 - acc: 0.2500 - val_loss: -4.2460 - val_acc: 0.4074\n",
      "Epoch 81/170\n",
      "3/3 [==============================] - 8s 3s/step - loss: -46.5075 - acc: 0.2500 - val_loss: -5.1374 - val_acc: 0.4074\n",
      "Epoch 82/170\n",
      "3/3 [==============================] - 8s 3s/step - loss: -51.5777 - acc: 0.2604 - val_loss: -5.4330 - val_acc: 0.4074\n",
      "Epoch 83/170\n",
      "3/3 [==============================] - 8s 3s/step - loss: -52.6703 - acc: 0.2292 - val_loss: -6.2396 - val_acc: 0.4074\n",
      "Epoch 84/170\n",
      "3/3 [==============================] - 8s 3s/step - loss: -54.1807 - acc: 0.2396 - val_loss: -7.4426 - val_acc: 0.4074\n",
      "Epoch 85/170\n",
      "3/3 [==============================] - 8s 3s/step - loss: -57.6672 - acc: 0.2396 - val_loss: -6.0975 - val_acc: 0.4074\n",
      "Epoch 86/170\n",
      "3/3 [==============================] - 8s 3s/step - loss: -56.8600 - acc: 0.2708 - val_loss: -5.9656 - val_acc: 0.4074\n",
      "Epoch 87/170\n",
      "3/3 [==============================] - 8s 3s/step - loss: -53.1990 - acc: 0.2500 - val_loss: -6.5342 - val_acc: 0.4074\n",
      "Epoch 88/170\n",
      "3/3 [==============================] - 9s 3s/step - loss: -55.4998 - acc: 0.2500 - val_loss: -7.7412 - val_acc: 0.4074\n",
      "Epoch 89/170\n",
      "3/3 [==============================] - 9s 3s/step - loss: -68.6229 - acc: 0.2292 - val_loss: -8.2927 - val_acc: 0.4074\n",
      "Epoch 90/170\n",
      "3/3 [==============================] - 9s 3s/step - loss: -68.9663 - acc: 0.2604 - val_loss: -7.4742 - val_acc: 0.4074\n",
      "Epoch 91/170\n",
      "3/3 [==============================] - 8s 3s/step - loss: -70.2396 - acc: 0.2292 - val_loss: -8.4337 - val_acc: 0.4074\n",
      "Epoch 92/170\n",
      "3/3 [==============================] - 8s 3s/step - loss: -70.2120 - acc: 0.2396 - val_loss: -9.3894 - val_acc: 0.4074\n",
      "Epoch 93/170\n",
      "3/3 [==============================] - 8s 3s/step - loss: -77.5892 - acc: 0.2396 - val_loss: -9.6289 - val_acc: 0.4074\n",
      "Epoch 94/170\n",
      "3/3 [==============================] - 8s 3s/step - loss: -72.9713 - acc: 0.2708 - val_loss: -11.2426 - val_acc: 0.4074\n",
      "Epoch 95/170\n",
      "3/3 [==============================] - 8s 3s/step - loss: -70.0472 - acc: 0.2500 - val_loss: -8.7844 - val_acc: 0.4074\n",
      "Epoch 96/170\n",
      "3/3 [==============================] - 8s 3s/step - loss: -69.2417 - acc: 0.2500 - val_loss: -7.2800 - val_acc: 0.4074\n",
      "Epoch 97/170\n",
      "3/3 [==============================] - 8s 3s/step - loss: -85.3716 - acc: 0.2396 - val_loss: -11.3846 - val_acc: 0.4074\n",
      "Epoch 98/170\n",
      "3/3 [==============================] - 8s 3s/step - loss: -88.9103 - acc: 0.2500 - val_loss: -12.1984 - val_acc: 0.4074\n",
      "Epoch 99/170\n",
      "3/3 [==============================] - 8s 3s/step - loss: -87.1004 - acc: 0.2396 - val_loss: -7.9469 - val_acc: 0.4074\n",
      "Epoch 100/170\n",
      "3/3 [==============================] - 8s 3s/step - loss: -91.5652 - acc: 0.2500 - val_loss: -6.9073 - val_acc: 0.4074\n",
      "Epoch 101/170\n",
      "3/3 [==============================] - 8s 3s/step - loss: -100.4458 - acc: 0.2396 - val_loss: -11.1417 - val_acc: 0.4074\n",
      "Epoch 102/170\n",
      "3/3 [==============================] - 9s 3s/step - loss: -89.6814 - acc: 0.2500 - val_loss: -11.4818 - val_acc: 0.4074\n",
      "Epoch 103/170\n",
      "3/3 [==============================] - 8s 3s/step - loss: -92.6160 - acc: 0.2708 - val_loss: -11.2497 - val_acc: 0.4074\n",
      "Epoch 104/170\n",
      "3/3 [==============================] - 8s 3s/step - loss: -93.6680 - acc: 0.2292 - val_loss: -8.2038 - val_acc: 0.4074\n",
      "Epoch 105/170\n",
      "3/3 [==============================] - 8s 3s/step - loss: -97.3258 - acc: 0.2604 - val_loss: -11.6629 - val_acc: 0.4074\n",
      "Epoch 106/170\n",
      "3/3 [==============================] - 8s 3s/step - loss: -105.2125 - acc: 0.2500 - val_loss: -13.5082 - val_acc: 0.4074\n",
      "Epoch 107/170\n",
      "3/3 [==============================] - 8s 3s/step - loss: -117.9737 - acc: 0.2500 - val_loss: -9.1141 - val_acc: 0.4074\n",
      "Epoch 108/170\n",
      "3/3 [==============================] - 8s 3s/step - loss: -109.8030 - acc: 0.2292 - val_loss: -12.0595 - val_acc: 0.4074\n",
      "Epoch 109/170\n",
      "3/3 [==============================] - 8s 3s/step - loss: -118.7772 - acc: 0.2500 - val_loss: -14.2535 - val_acc: 0.4074\n",
      "Epoch 110/170\n",
      "3/3 [==============================] - 8s 3s/step - loss: -120.2141 - acc: 0.2396 - val_loss: -8.8403 - val_acc: 0.4074\n",
      "Epoch 111/170\n",
      "3/3 [==============================] - 8s 3s/step - loss: -120.8036 - acc: 0.2604 - val_loss: -8.4563 - val_acc: 0.4074\n",
      "Epoch 112/170\n",
      "3/3 [==============================] - 8s 3s/step - loss: -111.5432 - acc: 0.2500 - val_loss: -10.5512 - val_acc: 0.4074\n",
      "Epoch 113/170\n",
      "3/3 [==============================] - 8s 3s/step - loss: -113.8895 - acc: 0.2604 - val_loss: -12.5889 - val_acc: 0.4074\n",
      "Epoch 114/170\n",
      "3/3 [==============================] - 8s 3s/step - loss: -142.5005 - acc: 0.2396 - val_loss: -17.6541 - val_acc: 0.4074\n",
      "Epoch 115/170\n",
      "3/3 [==============================] - 8s 3s/step - loss: -137.7247 - acc: 0.2500 - val_loss: -15.4228 - val_acc: 0.4074\n",
      "Epoch 116/170\n",
      "3/3 [==============================] - 9s 3s/step - loss: -146.2221 - acc: 0.2292 - val_loss: -9.0866 - val_acc: 0.4074\n",
      "Epoch 117/170\n",
      "3/3 [==============================] - 8s 3s/step - loss: -143.4092 - acc: 0.2500 - val_loss: -15.3207 - val_acc: 0.4074\n",
      "Epoch 118/170\n",
      "3/3 [==============================] - 8s 3s/step - loss: -153.7051 - acc: 0.2396 - val_loss: -20.8071 - val_acc: 0.4074\n",
      "Epoch 119/170\n",
      "3/3 [==============================] - 8s 3s/step - loss: -142.1015 - acc: 0.2604 - val_loss: -23.8682 - val_acc: 0.4074\n",
      "Epoch 120/170\n",
      "3/3 [==============================] - 8s 3s/step - loss: -146.5867 - acc: 0.2604 - val_loss: -22.0213 - val_acc: 0.4074\n",
      "Epoch 121/170\n",
      "3/3 [==============================] - 8s 3s/step - loss: -149.5060 - acc: 0.2396 - val_loss: -19.1046 - val_acc: 0.4074\n",
      "Epoch 122/170\n",
      "3/3 [==============================] - 8s 3s/step - loss: -159.9372 - acc: 0.2396 - val_loss: -24.3762 - val_acc: 0.4074\n",
      "Epoch 123/170\n",
      "3/3 [==============================] - 9s 3s/step - loss: -168.4225 - acc: 0.2604 - val_loss: -29.3352 - val_acc: 0.4074\n",
      "Epoch 124/170\n",
      "3/3 [==============================] - 8s 3s/step - loss: -174.7524 - acc: 0.2500 - val_loss: -31.5265 - val_acc: 0.4074\n",
      "Epoch 125/170\n",
      "3/3 [==============================] - 8s 3s/step - loss: -186.4556 - acc: 0.2396 - val_loss: -29.6677 - val_acc: 0.4074\n",
      "Epoch 126/170\n",
      "3/3 [==============================] - 8s 3s/step - loss: -187.2134 - acc: 0.2396 - val_loss: -28.0308 - val_acc: 0.4074\n",
      "Epoch 127/170\n",
      "3/3 [==============================] - 9s 3s/step - loss: -176.5569 - acc: 0.2396 - val_loss: -25.3735 - val_acc: 0.4074\n",
      "Epoch 128/170\n",
      "3/3 [==============================] - 8s 3s/step - loss: -183.2177 - acc: 0.2708 - val_loss: -28.9252 - val_acc: 0.4074\n",
      "Epoch 129/170\n",
      "3/3 [==============================] - 8s 3s/step - loss: -172.3140 - acc: 0.2500 - val_loss: -21.2443 - val_acc: 0.4074\n",
      "Epoch 130/170\n",
      "3/3 [==============================] - 8s 3s/step - loss: -184.2191 - acc: 0.2500 - val_loss: -18.2984 - val_acc: 0.4074\n",
      "Epoch 131/170\n",
      "3/3 [==============================] - 8s 3s/step - loss: -203.5513 - acc: 0.2396 - val_loss: -19.6354 - val_acc: 0.4074\n",
      "Epoch 132/170\n",
      "3/3 [==============================] - 8s 3s/step - loss: -208.8421 - acc: 0.2604 - val_loss: -18.5668 - val_acc: 0.4074\n",
      "Epoch 133/170\n",
      "3/3 [==============================] - 8s 3s/step - loss: -224.1623 - acc: 0.2188 - val_loss: -28.4641 - val_acc: 0.4074\n",
      "Epoch 134/170\n",
      "3/3 [==============================] - 8s 3s/step - loss: -216.5919 - acc: 0.2500 - val_loss: -27.3769 - val_acc: 0.4074\n",
      "Epoch 135/170\n",
      "3/3 [==============================] - 8s 3s/step - loss: -224.8688 - acc: 0.2396 - val_loss: -14.3214 - val_acc: 0.4074\n",
      "Epoch 136/170\n",
      "3/3 [==============================] - 8s 3s/step - loss: -222.1744 - acc: 0.2708 - val_loss: -21.8967 - val_acc: 0.4074\n",
      "Epoch 137/170\n",
      "3/3 [==============================] - 8s 3s/step - loss: -205.6499 - acc: 0.2500 - val_loss: -26.2513 - val_acc: 0.4074\n",
      "Epoch 138/170\n",
      "3/3 [==============================] - 8s 3s/step - loss: -208.3281 - acc: 0.2500 - val_loss: -28.0887 - val_acc: 0.4074\n",
      "Epoch 139/170\n",
      "3/3 [==============================] - 8s 3s/step - loss: -243.9575 - acc: 0.2396 - val_loss: -32.0014 - val_acc: 0.4074\n",
      "Epoch 140/170\n",
      "3/3 [==============================] - 8s 3s/step - loss: -246.0710 - acc: 0.2500 - val_loss: -27.1992 - val_acc: 0.4074\n",
      "Epoch 141/170\n",
      "3/3 [==============================] - 8s 3s/step - loss: -258.0503 - acc: 0.2396 - val_loss: -23.0066 - val_acc: 0.4074\n",
      "Epoch 142/170\n",
      "3/3 [==============================] - 8s 3s/step - loss: -260.0291 - acc: 0.2396 - val_loss: -26.1987 - val_acc: 0.4074\n",
      "Epoch 143/170\n",
      "3/3 [==============================] - 9s 3s/step - loss: -277.6003 - acc: 0.2500 - val_loss: -18.2893 - val_acc: 0.4074\n",
      "Epoch 144/170\n",
      "3/3 [==============================] - 10s 3s/step - loss: -250.6171 - acc: 0.2500 - val_loss: -28.7906 - val_acc: 0.4074\n",
      "Epoch 145/170\n",
      "3/3 [==============================] - 9s 3s/step - loss: -255.7668 - acc: 0.2708 - val_loss: -48.5460 - val_acc: 0.4074\n",
      "Epoch 146/170\n",
      "3/3 [==============================] - 9s 3s/step - loss: -256.1165 - acc: 0.2292 - val_loss: -26.9093 - val_acc: 0.4074\n",
      "Epoch 147/170\n",
      "3/3 [==============================] - 8s 3s/step - loss: -265.6535 - acc: 0.2604 - val_loss: -18.8103 - val_acc: 0.4074\n",
      "Epoch 148/170\n",
      "3/3 [==============================] - 8s 3s/step - loss: -287.3674 - acc: 0.2396 - val_loss: -28.5797 - val_acc: 0.4074\n",
      "Epoch 149/170\n",
      "3/3 [==============================] - 8s 3s/step - loss: -310.3689 - acc: 0.2604 - val_loss: -30.6377 - val_acc: 0.4074\n",
      "Epoch 150/170\n",
      "3/3 [==============================] - 8s 3s/step - loss: -305.7173 - acc: 0.2292 - val_loss: -32.5338 - val_acc: 0.4074\n",
      "Epoch 151/170\n",
      "3/3 [==============================] - 8s 3s/step - loss: -311.1036 - acc: 0.2500 - val_loss: -34.9897 - val_acc: 0.4074\n",
      "Epoch 152/170\n",
      "3/3 [==============================] - 8s 3s/step - loss: -315.6712 - acc: 0.2396 - val_loss: -23.0948 - val_acc: 0.4074\n",
      "Epoch 153/170\n",
      "3/3 [==============================] - 8s 3s/step - loss: -310.5851 - acc: 0.2604 - val_loss: -40.5232 - val_acc: 0.4074\n",
      "Epoch 154/170\n",
      "3/3 [==============================] - 8s 3s/step - loss: -291.7925 - acc: 0.2500 - val_loss: -40.7362 - val_acc: 0.4074\n",
      "Epoch 155/170\n",
      "3/3 [==============================] - 8s 3s/step - loss: -288.4336 - acc: 0.2604 - val_loss: -42.0579 - val_acc: 0.4074\n",
      "Epoch 156/170\n",
      "3/3 [==============================] - 8s 3s/step - loss: -357.3921 - acc: 0.2292 - val_loss: -55.3826 - val_acc: 0.4074\n",
      "Epoch 157/170\n",
      "3/3 [==============================] - 8s 3s/step - loss: -353.4937 - acc: 0.2604 - val_loss: -57.6701 - val_acc: 0.4074\n",
      "Epoch 158/170\n",
      "3/3 [==============================] - 8s 3s/step - loss: -350.0363 - acc: 0.2292 - val_loss: -49.5334 - val_acc: 0.4074\n",
      "Epoch 159/170\n",
      "3/3 [==============================] - 8s 3s/step - loss: -352.9239 - acc: 0.2500 - val_loss: -39.9854 - val_acc: 0.4074\n",
      "Epoch 160/170\n",
      "3/3 [==============================] - 8s 3s/step - loss: -385.6740 - acc: 0.2292 - val_loss: -42.5330 - val_acc: 0.4074\n",
      "Epoch 161/170\n",
      "3/3 [==============================] - 8s 3s/step - loss: -346.1944 - acc: 0.2708 - val_loss: -62.0781 - val_acc: 0.4074\n",
      "Epoch 162/170\n",
      "3/3 [==============================] - 8s 3s/step - loss: -345.8010 - acc: 0.2604 - val_loss: -48.3718 - val_acc: 0.4074\n",
      "Epoch 163/170\n",
      "3/3 [==============================] - 8s 3s/step - loss: -354.6104 - acc: 0.2396 - val_loss: -37.3782 - val_acc: 0.4074\n",
      "Epoch 164/170\n",
      "3/3 [==============================] - 8s 3s/step - loss: -392.0769 - acc: 0.2396 - val_loss: -67.3794 - val_acc: 0.4074\n",
      "Epoch 165/170\n",
      "3/3 [==============================] - 8s 3s/step - loss: -397.3918 - acc: 0.2500 - val_loss: -78.9884 - val_acc: 0.4074\n",
      "Epoch 166/170\n",
      "3/3 [==============================] - 8s 3s/step - loss: -410.7065 - acc: 0.2500 - val_loss: -57.6163 - val_acc: 0.4074\n",
      "Epoch 167/170\n",
      "3/3 [==============================] - 8s 3s/step - loss: -419.4165 - acc: 0.2500 - val_loss: -49.3389 - val_acc: 0.4074\n",
      "Epoch 168/170\n",
      "3/3 [==============================] - 9s 3s/step - loss: -434.0961 - acc: 0.2292 - val_loss: -51.0325 - val_acc: 0.4074\n",
      "Epoch 169/170\n",
      "3/3 [==============================] - 8s 3s/step - loss: -398.5348 - acc: 0.2500 - val_loss: -53.3484 - val_acc: 0.4074\n",
      "Epoch 170/170\n",
      "3/3 [==============================] - 8s 3s/step - loss: -417.0127 - acc: 0.2708 - val_loss: -59.9715 - val_acc: 0.4074\n"
     ]
    }
   ],
   "source": [
    "history = model.fit(train_data, epochs=170, steps_per_epoch=steps_per_epoch, validation_data=val_data)"
   ]
  },
  {
   "cell_type": "code",
   "execution_count": 74,
   "id": "29be4636",
   "metadata": {},
   "outputs": [
    {
     "data": {
      "text/plain": [
       "dict_keys(['loss', 'acc', 'val_loss', 'val_acc'])"
      ]
     },
     "execution_count": 74,
     "metadata": {},
     "output_type": "execute_result"
    }
   ],
   "source": [
    "history.history.keys()"
   ]
  },
  {
   "cell_type": "code",
   "execution_count": 75,
   "id": "7a50d649",
   "metadata": {},
   "outputs": [
    {
     "data": {
      "text/plain": [
       "<matplotlib.legend.Legend at 0x1f000396b80>"
      ]
     },
     "execution_count": 75,
     "metadata": {},
     "output_type": "execute_result"
    },
    {
     "data": {
      "image/png": "[encoded data removed]",
      "text/plain": [
       "<Figure size 432x288 with 1 Axes>"
      ]
     },
     "metadata": {
      "needs_background": "light"
     },
     "output_type": "display_data"
    }
   ],
   "source": [
    "plt.plot(history.epoch, history.history.get('acc'), label='acc')\n",
    "plt.plot(history.epoch, history.history.get('val_acc'), label='val_acc')\n",
    "plt.legend()"
   ]
  },
  {
   "cell_type": "code",
   "execution_count": 76,
   "id": "8aa97afc",
   "metadata": {},
   "outputs": [
    {
     "data": {
      "text/plain": [
       "<matplotlib.legend.Legend at 0x1f000417790>"
      ]
     },
     "execution_count": 76,
     "metadata": {},
     "output_type": "execute_result"
    },
    {
     "data": {
      "image/png": "[encoded data removed]",
      "text/plain": [
       "<Figure size 432x288 with 1 Axes>"
      ]
     },
     "metadata": {
      "needs_background": "light"
     },
     "output_type": "display_data"
    }
   ],
   "source": [
    "plt.plot(history.epoch, history.history.get('loss'), label='loss')\n",
    "plt.plot(history.epoch, history.history.get('val_loss'), label='val_loss')\n",
    "plt.legend()"
   ]
  },
  {
   "cell_type": "code",
   "execution_count": 77,
   "id": "85c2315a",
   "metadata": {},
   "outputs": [
    {
     "name": "stdout",
     "output_type": "stream",
     "text": [
      "1/1 [==============================] - 1s 1s/step\n"
     ]
    }
   ],
   "source": [
    "pred_prob=model.predict(test_data)  #预测1类的概率"
   ]
  },
  {
   "cell_type": "code",
   "execution_count": 78,
   "id": "812d499b",
   "metadata": {},
   "outputs": [],
   "source": [
    "#模型预测的结果是该图像所属不同类别的概率，属于哪个类别的概率大就属于哪个类别（np.argmax）\n",
    "pred_=np.argmax(pred_prob,axis=1)\n",
    "pred_"
   ]
  },
  {
   "cell_type": "code",
   "execution_count": 79,
   "id": "857263f1",
   "metadata": {},
   "outputs": [],
   "source": [
    "from  sklearn.metrics import classification_report  "
   ]
  },
  {
   "cell_type": "code",
   "execution_count": 80,
   "id": "b55e34e8",
   "metadata": {},
   "outputs": [
    {
     "name": "stdout",
     "output_type": "stream",
     "text": [
      "              precision    recall  f1-score   support\n",
      "\n",
      "           0       0.00      0.00      0.00         8\n",
      "           1       0.08      1.00      0.15         2\n",
      "           2       0.00      0.00      0.00         9\n",
      "           3       0.00      0.00      0.00         5\n",
      "\n",
      "    accuracy                           0.08        24\n",
      "   macro avg       0.02      0.25      0.04        24\n",
      "weighted avg       0.01      0.08      0.01        24\n",
      "\n"
     ]
    },
    {
     "name": "stderr",
     "output_type": "stream",
     "text": [
      "C:\\ProgramData\\Anaconda3\\lib\\site-packages\\sklearn\\metrics\\_classification.py:1248: UndefinedMetricWarning: Precision and F-score are ill-defined and being set to 0.0 in labels with no predicted samples. Use `zero_division` parameter to control this behavior.\n",
      "  _warn_prf(average, modifier, msg_start, len(result))\n",
      "C:\\ProgramData\\Anaconda3\\lib\\site-packages\\sklearn\\metrics\\_classification.py:1248: UndefinedMetricWarning: Precision and F-score are ill-defined and being set to 0.0 in labels with no predicted samples. Use `zero_division` parameter to control this behavior.\n",
      "  _warn_prf(average, modifier, msg_start, len(result))\n",
      "C:\\ProgramData\\Anaconda3\\lib\\site-packages\\sklearn\\metrics\\_classification.py:1248: UndefinedMetricWarning: Precision and F-score are ill-defined and being set to 0.0 in labels with no predicted samples. Use `zero_division` parameter to control this behavior.\n",
      "  _warn_prf(average, modifier, msg_start, len(result))\n"
     ]
    }
   ],
   "source": [
    "print(classification_report(test_label,pred_label))  #打印分类报告"
   ]
  },
  {
   "cell_type": "code",
   "execution_count": null,
   "id": "bf642f52",
   "metadata": {},
   "outputs": [],
   "source": []
  }
 ],
 "metadata": {
  "kernelspec": {
   "display_name": "Python 3 (ipykernel)",
   "language": "python",
   "name": "python3"
  },
  "language_info": {
   "codemirror_mode": {
    "name": "ipython",
    "version": 3
   },
   "file_extension": ".py",
   "mimetype": "text/x-python",
   "name": "python",
   "nbconvert_exporter": "python",
   "pygments_lexer": "ipython3",
   "version": "3.9.7"
  }
 },
 "nbformat": 4,
 "nbformat_minor": 5
}
