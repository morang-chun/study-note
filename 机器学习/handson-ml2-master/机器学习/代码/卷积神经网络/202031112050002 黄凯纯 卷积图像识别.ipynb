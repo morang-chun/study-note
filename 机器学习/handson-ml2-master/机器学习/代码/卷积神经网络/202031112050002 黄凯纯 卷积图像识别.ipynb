{
 "cells": [
  {
   "cell_type": "markdown",
   "id": "7d7fc5dd",
   "metadata": {},
   "source": [
    "# 卷积神经网络"
   ]
  },
  {
   "cell_type": "code",
   "execution_count": 56,
   "id": "fc1085c9",
   "metadata": {},
   "outputs": [],
   "source": [
    "import tensorflow as tf\n",
    "import pandas as pd\n",
    "import matplotlib.pyplot as plt\n",
    "from sklearn.metrics import accuracy_score,f1_score,confusion_matrix\n",
    "# import seaborn as sn11sae\n",
    "from sklearn.metrics import classification_report \n",
    "import numpy as np\n",
    "import warnings\n",
    "warnings.filterwarnings(\"ignore\")\n",
    "%matplotlib inline"
   ]
  },
  {
   "cell_type": "code",
   "execution_count": 57,
   "id": "10414959",
   "metadata": {},
   "outputs": [],
   "source": [
    "import ssl\n",
    "ssl._create_default_https_context = ssl._create_unverified_context#下载数据集"
   ]
  },
  {
   "cell_type": "code",
   "execution_count": 58,
   "id": "acbc1d07",
   "metadata": {},
   "outputs": [],
   "source": [
    "(train_image,train_label),(test_image,test_label) = tf.keras.datasets.mnist.load_data()"
   ]
  },
  {
   "cell_type": "code",
   "execution_count": 59,
   "id": "b71c2e88",
   "metadata": {},
   "outputs": [],
   "source": [
    "model = tf.keras.Sequential()\n",
    "model.add(tf.keras.layers.Conv2D(64,(3,3),input_shape=(28,28,1),padding=\"same\",activation=\"relu\"))\n",
    "model.add(tf.keras.layers.BatchNormalization())\n",
    "model.add(tf.keras.layers.MaxPooling2D())\n",
    "model.add(tf.keras.layers.Conv2D(128,(3,3),padding = \"same\",activation=\"relu\"))\n",
    "model.add(tf.keras.layers.BatchNormalization())\n",
    "model.add(tf.keras.layers.Conv2D(1024,(3,3),padding = \"same\",activation=\"relu\"))\n",
    "model.add(tf.keras.layers.GlobalAveragePooling2D())\n",
    "model.add(tf.keras.layers.Dense(256,activation=\"relu\"))\n",
    "model.add(tf.keras.layers.Dense(10,activation=\"softmax\"))"
   ]
  },
  {
   "cell_type": "code",
   "execution_count": 60,
   "id": "1ce5eb3d",
   "metadata": {},
   "outputs": [],
   "source": [
    "# 设置优化器，损失函数和准确率测评标准\n",
    "model.compile(optimizer=tf.keras.optimizers.RMSprop(learning_rate=1e-4),\n",
    "              loss=\"categorical_crossentropy\",  \n",
    "             metrics=[\"acc\"])"
   ]
  },
  {
   "cell_type": "code",
   "execution_count": 61,
   "id": "c209bba4",
   "metadata": {},
   "outputs": [],
   "source": [
    "train_label = tf.keras.utils.to_categorical(train_label)\n",
    "test_label = tf.keras.utils.to_categorical(test_label)"
   ]
  },
  {
   "cell_type": "code",
   "execution_count": 62,
   "id": "e7062d0d",
   "metadata": {},
   "outputs": [
    {
     "name": "stdout",
     "output_type": "stream",
     "text": [
      "Epoch 1/5\n",
      "1875/1875 [==============================] - 386s 205ms/step - loss: 0.2971 - acc: 0.9159 - val_loss: 0.0839 - val_acc: 0.9748\n",
      "Epoch 2/5\n",
      "1875/1875 [==============================] - 410s 219ms/step - loss: 0.0801 - acc: 0.9763 - val_loss: 0.0557 - val_acc: 0.9829\n",
      "Epoch 3/5\n",
      "1875/1875 [==============================] - 390s 208ms/step - loss: 0.0577 - acc: 0.9822 - val_loss: 0.0614 - val_acc: 0.9811\n",
      "Epoch 4/5\n",
      "1875/1875 [==============================] - 388s 207ms/step - loss: 0.0467 - acc: 0.9855 - val_loss: 0.0615 - val_acc: 0.9795\n",
      "Epoch 5/5\n",
      "1875/1875 [==============================] - 344s 183ms/step - loss: 0.0407 - acc: 0.9873 - val_loss: 0.0432 - val_acc: 0.9853\n"
     ]
    }
   ],
   "source": [
    "#训练模型\n",
    "his = model.fit(train_image,train_label,epochs=5,batch_size=32,validation_data=(test_image,test_label))"
   ]
  },
  {
   "cell_type": "code",
   "execution_count": 63,
   "id": "5478d188",
   "metadata": {},
   "outputs": [
    {
     "data": {
      "text/plain": [
       "<matplotlib.legend.Legend at 0x7ef878181270>"
      ]
     },
     "execution_count": 63,
     "metadata": {},
     "output_type": "execute_result"
    },
    {
     "data": {
      "image/png": "[encoded data removed]",
      "text/plain": [
       "<Figure size 432x288 with 1 Axes>"
      ]
     },
     "metadata": {
      "needs_background": "light"
     },
     "output_type": "display_data"
    }
   ],
   "source": [
    "plt.plot(his.epoch,his.history.get(\"loss\"),\"y\",label=\"Training loss\")\n",
    "plt.plot(his.epoch,his.history.get(\"val_loss\"),\"b\",label=\"Test loss\")\n",
    "plt.legend()"
   ]
  },
  {
   "cell_type": "code",
   "execution_count": 64,
   "id": "d18934f3",
   "metadata": {},
   "outputs": [
    {
     "name": "stdout",
     "output_type": "stream",
     "text": [
      "313/313 [==============================] - 21s 67ms/step\n"
     ]
    }
   ],
   "source": [
    "pred = model.predict(test_image)"
   ]
  },
  {
   "cell_type": "code",
   "execution_count": 65,
   "id": "b5b0f51b",
   "metadata": {},
   "outputs": [],
   "source": [
    "i = 24"
   ]
  },
  {
   "cell_type": "code",
   "execution_count": 66,
   "id": "8747b957",
   "metadata": {},
   "outputs": [
    {
     "data": {
      "text/plain": [
       "4"
      ]
     },
     "execution_count": 66,
     "metadata": {},
     "output_type": "execute_result"
    }
   ],
   "source": [
    "np.argmax(pred[i])"
   ]
  },
  {
   "cell_type": "code",
   "execution_count": 67,
   "id": "60f67093",
   "metadata": {},
   "outputs": [
    {
     "data": {
      "text/plain": [
       "4"
      ]
     },
     "execution_count": 67,
     "metadata": {},
     "output_type": "execute_result"
    }
   ],
   "source": [
    "np.argmax(test_label[i])"
   ]
  },
  {
   "cell_type": "code",
   "execution_count": 68,
   "id": "c2e79196",
   "metadata": {},
   "outputs": [],
   "source": [
    "pred_ = np.argmax(pred,axis=1)\n",
    "test_label = np.argmax(test_label,axis=1)"
   ]
  },
  {
   "cell_type": "code",
   "execution_count": 70,
   "id": "68f76581",
   "metadata": {},
   "outputs": [
    {
     "name": "stdout",
     "output_type": "stream",
     "text": [
      "              precision    recall  f1-score   support\n",
      "\n",
      "           0       0.96      0.99      0.98       980\n",
      "           1       0.99      1.00      0.99      1135\n",
      "           2       0.97      0.99      0.98      1032\n",
      "           3       0.99      0.99      0.99      1010\n",
      "           4       0.99      0.99      0.99       982\n",
      "           5       0.99      0.98      0.98       892\n",
      "           6       1.00      0.96      0.98       958\n",
      "           7       0.99      0.99      0.99      1028\n",
      "           8       0.99      0.98      0.99       974\n",
      "           9       0.98      0.98      0.98      1009\n",
      "\n",
      "    accuracy                           0.99     10000\n",
      "   macro avg       0.99      0.99      0.99     10000\n",
      "weighted avg       0.99      0.99      0.99     10000\n",
      "\n"
     ]
    }
   ],
   "source": [
    "from sklearn.metrics import confusion_matrix,classification_report,accuracy_score\n",
    "print(classification_report(test_label,pred_))"
   ]
  },
  {
   "cell_type": "code",
   "execution_count": null,
   "id": "b174520d",
   "metadata": {},
   "outputs": [],
   "source": []
  },
  {
   "cell_type": "code",
   "execution_count": null,
   "id": "6be91680",
   "metadata": {},
   "outputs": [],
   "source": []
  },
  {
   "cell_type": "code",
   "execution_count": null,
   "id": "124940cc",
   "metadata": {},
   "outputs": [],
   "source": []
  },
  {
   "cell_type": "code",
   "execution_count": null,
   "id": "5078f845",
   "metadata": {},
   "outputs": [],
   "source": []
  }
 ],
 "metadata": {
  "kernelspec": {
   "display_name": "Python 3 (ipykernel)",
   "language": "python",
   "name": "python3"
  },
  "language_info": {
   "codemirror_mode": {
    "name": "ipython",
    "version": 3
   },
   "file_extension": ".py",
   "mimetype": "text/x-python",
   "name": "python",
   "nbconvert_exporter": "python",
   "pygments_lexer": "ipython3",
   "version": "3.10.4"
  }
 },
 "nbformat": 4,
 "nbformat_minor": 5
}
