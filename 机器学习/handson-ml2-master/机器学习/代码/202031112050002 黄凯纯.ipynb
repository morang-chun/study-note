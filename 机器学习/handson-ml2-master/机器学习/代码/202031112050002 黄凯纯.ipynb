{
 "cells": [
  {
   "cell_type": "code",
   "execution_count": 1,
   "id": "620c667b",
   "metadata": {},
   "outputs": [],
   "source": [
    "import math"
   ]
  },
  {
   "cell_type": "code",
   "execution_count": 2,
   "id": "2af97710",
   "metadata": {},
   "outputs": [],
   "source": [
    "#目标 1/2*（y-outo）**2最小\n",
    "x1=0.02\n",
    "x2=0.05\n",
    "y=0.7"
   ]
  },
  {
   "cell_type": "code",
   "execution_count": 3,
   "id": "3ad7fb53",
   "metadata": {},
   "outputs": [],
   "source": [
    "#初始化权重与偏置\n",
    "w1=w2=w3=w4=w5=w6=0.01#权重"
   ]
  },
  {
   "cell_type": "code",
   "execution_count": 4,
   "id": "697aa647",
   "metadata": {},
   "outputs": [],
   "source": [
    "b1=b2=0.2#偏置\n",
    "lr=0.001#学习率"
   ]
  },
  {
   "cell_type": "code",
   "execution_count": 9,
   "id": "93bd585e",
   "metadata": {},
   "outputs": [],
   "source": [
    "for __ in range(100000):\n",
    "    \n",
    "    #前向传播\n",
    "    neth1=w1*x1+w2*x2+b1\n",
    "    neth2=w3*x1+w4*x2+b1\n",
    "    outh1=1/(1+math.exp(-neth1))\n",
    "    outh2=1/(1+math.exp(-neth2))\n",
    "    neto=w5*outh1+w6*outh2+b2\n",
    "    outo=1/(1+math.exp(-neto))\n",
    "    e=1/2*((y-outo)**2)\n",
    "    \n",
    "    #求偏导\n",
    "    de_douto=1/2*2*(y-outo)*(-1)\n",
    "    douto_dneto=outo*(1-outo)\n",
    "    dneto_dw5=outh1\n",
    "    dneto_dw6=outh2\n",
    "    dneto_douth1=w5\n",
    "\n",
    "    douth1_dneth1=outh1*(1-outh1)\n",
    "    dneth1_dw1=x1\n",
    "    dneth1_dw2=x2\n",
    "    dneto_douth2=w6\n",
    "\n",
    "    douth2_dneth2=outh2*(1-outh2)\n",
    "    dneth2_dw3=x1\n",
    "    dneth2_dw4=x2\n",
    "\n",
    "    dneth1_db1=dneth2_db1=1\n",
    "\n",
    "    de_dw5=de_douto*douto_dneto*dneto_dw5\n",
    "    de_dw6=de_douto*douto_dneto*dneto_dw6\n",
    "    de_dw1=de_douto*douto_dneto*dneto_douth1*douth1_dneth1*dneth1_dw1\n",
    "    de_dw2=de_douto*douto_dneto*dneto_douth1*douth1_dneth1*dneth1_dw2\n",
    "    de_dw3=de_douto*douto_dneto*dneto_douth2*douth2_dneth2*dneth2_dw3\n",
    "    de_dw4=de_douto*douto_dneto*dneto_douth2*douth2_dneth2*dneth2_dw4\n",
    "    dneth1_db1=dnet2_db1=1\n",
    "    de_db1=de_douto*douto_dneto*dneto_douth2*douth2_dneth2*dneth2_db1+de_douto*douto_dneto*dneto_douth1*douth1_dneth1*dneth1_db1\n",
    "    de_db2=de_douto*douto_dneto*dneto_douth2\n",
    "\n",
    "    #更新权重与偏置\n",
    "    w1=w1-lr*de_dw1\n",
    "    w2=w2-lr*de_dw2\n",
    "    w3=w3-lr*de_dw3\n",
    "    w4=w4-lr*de_dw4\n",
    "    w5=w5-lr*de_dw5\n",
    "    w6=w6-lr*de_dw6\n",
    "    b1=b1-lr*de_db1\n",
    "    b2=b2-lr*de_db2"
   ]
  },
  {
   "cell_type": "code",
   "execution_count": 10,
   "id": "16dc3d69",
   "metadata": {},
   "outputs": [
    {
     "data": {
      "text/plain": [
       "(0.7, 0.6988515074180499)"
      ]
     },
     "execution_count": 10,
     "metadata": {},
     "output_type": "execute_result"
    }
   ],
   "source": [
    "y,outo"
   ]
  },
  {
   "cell_type": "code",
   "execution_count": 11,
   "id": "a3609999",
   "metadata": {},
   "outputs": [
    {
     "data": {
      "text/plain": [
       "(0.010787845422032882,\n",
       " 0.011969613555082392,\n",
       " 0.010787845422032882,\n",
       " 0.011969613555082392,\n",
       " 0.4231838033068998,\n",
       " 0.4231838033068998,\n",
       " 0.27878454220329396,\n",
       " 0.35987285987782436)"
      ]
     },
     "execution_count": 11,
     "metadata": {},
     "output_type": "execute_result"
    }
   ],
   "source": [
    "w1,w2,w3,w4,w5,w6,b1,b2"
   ]
  },
  {
   "cell_type": "code",
   "execution_count": null,
   "id": "5cd0dfd9",
   "metadata": {},
   "outputs": [],
   "source": []
  },
  {
   "cell_type": "code",
   "execution_count": null,
   "id": "c7c04bd3",
   "metadata": {},
   "outputs": [],
   "source": []
  },
  {
   "cell_type": "code",
   "execution_count": null,
   "id": "3f3a5538",
   "metadata": {},
   "outputs": [],
   "source": []
  },
  {
   "cell_type": "code",
   "execution_count": null,
   "id": "6d4f467f",
   "metadata": {},
   "outputs": [],
   "source": []
  },
  {
   "cell_type": "code",
   "execution_count": null,
   "id": "3b3f300e",
   "metadata": {},
   "outputs": [],
   "source": []
  },
  {
   "cell_type": "code",
   "execution_count": null,
   "id": "fa50d70f",
   "metadata": {},
   "outputs": [],
   "source": []
  },
  {
   "cell_type": "code",
   "execution_count": null,
   "id": "b8d2c66a",
   "metadata": {},
   "outputs": [],
   "source": []
  },
  {
   "cell_type": "code",
   "execution_count": null,
   "id": "4823532e",
   "metadata": {},
   "outputs": [],
   "source": []
  },
  {
   "cell_type": "code",
   "execution_count": null,
   "id": "49724469",
   "metadata": {},
   "outputs": [],
   "source": []
  }
 ],
 "metadata": {
  "kernelspec": {
   "display_name": "Python 3 (ipykernel)",
   "language": "python",
   "name": "python3"
  },
  "language_info": {
   "codemirror_mode": {
    "name": "ipython",
    "version": 3
   },
   "file_extension": ".py",
   "mimetype": "text/x-python",
   "name": "python",
   "nbconvert_exporter": "python",
   "pygments_lexer": "ipython3",
   "version": "3.9.2"
  }
 },
 "nbformat": 4,
 "nbformat_minor": 5
}
