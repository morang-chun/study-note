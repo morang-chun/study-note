{
 "cells": [
  {
   "cell_type": "markdown",
   "id": "a58b5e85",
   "metadata": {},
   "source": [
    "# 2022年 大数据管理与应用20级 机器学习课程机考试题"
   ]
  },
  {
   "cell_type": "markdown",
   "id": "89d86504",
   "metadata": {},
   "source": [
    "## 学号：\n",
    "## 姓名：\n",
    "\n",
    "#填写完成后运行该代码块，双击后可以继续修改"
   ]
  },
  {
   "cell_type": "markdown",
   "id": "e0e18b9b",
   "metadata": {},
   "source": [
    "###### 说明\n",
    "1、用合适的代码替换以下的*\n",
    "\n",
    "2、请在代码中添加适当的注释   （共6分）"
   ]
  },
  {
   "cell_type": "markdown",
   "id": "7c9f5e77",
   "metadata": {},
   "source": [
    "## 时间序列预测\n",
    "\n",
    "数据集为某车型每月的销量数据，根据以下数据集，构建汽车销量模型，预测19年9月的汽车销量。"
   ]
  },
  {
   "cell_type": "markdown",
   "id": "e3ff3125",
   "metadata": {},
   "source": [
    "#以下导入常用的数据包，如果需要可自行导入。"
   ]
  },
  {
   "cell_type": "code",
   "execution_count": null,
   "id": "7d5c0e1b",
   "metadata": {},
   "outputs": [],
   "source": [
    "import pandas  as pd\n",
    "import tensorflow as tf\n",
    "import numpy as np\n",
    "from sklearn.model_selection import train_test_split\n",
    "import matplotlib.pyplot as plt\n",
    "from sklearn.metrics import mean_squared_error \n",
    "%matplotlib inline"
   ]
  },
  {
   "cell_type": "markdown",
   "id": "95cca3e5",
   "metadata": {},
   "source": [
    "#### 读入数据（5分）"
   ]
  },
  {
   "cell_type": "code",
   "execution_count": null,
   "id": "5b13f67e",
   "metadata": {
    "scrolled": true
   },
   "outputs": [],
   "source": [
    "#数据集编码中文为utf-8，第一列的名字为“Unnamed: 0”\n",
    "data=pd.read_csv(\"* 汽车销量考试用.csv\",  *=\"utf-8\",  *=\"Unnamed: 0\")"
   ]
  },
  {
   "cell_type": "code",
   "execution_count": null,
   "id": "a8035305",
   "metadata": {},
   "outputs": [],
   "source": [
    "data.info()"
   ]
  },
  {
   "cell_type": "code",
   "execution_count": null,
   "id": "f1fd770d",
   "metadata": {},
   "outputs": [],
   "source": [
    "data.head()"
   ]
  },
  {
   "cell_type": "markdown",
   "id": "f8910b55",
   "metadata": {},
   "source": [
    "#### 随机查看5个样本数据（3分）"
   ]
  },
  {
   "cell_type": "code",
   "execution_count": null,
   "id": "9e87c59c",
   "metadata": {},
   "outputs": [],
   "source": [
    "data.*"
   ]
  },
  {
   "cell_type": "markdown",
   "id": "774fb9d2",
   "metadata": {},
   "source": [
    "### 数据预处理"
   ]
  },
  {
   "cell_type": "markdown",
   "id": "d2310a30",
   "metadata": {},
   "source": [
    "#### 缺失值处理（5分）"
   ]
  },
  {
   "cell_type": "code",
   "execution_count": null,
   "id": "a86112da",
   "metadata": {},
   "outputs": [],
   "source": [
    "data=data. * (  *  =\"ffill\")  #补充完整,采用ffill填补"
   ]
  },
  {
   "cell_type": "markdown",
   "id": "b3325987",
   "metadata": {},
   "source": [
    "#### 非数值数据处理(5分)"
   ]
  },
  {
   "cell_type": "code",
   "execution_count": null,
   "id": "f421ce2d",
   "metadata": {},
   "outputs": [],
   "source": [
    "#补充完以下代码将百分比转化为对应的数值 1%=>0.01\n",
    "data.份额=data.份额.map(lambda x : *     )\n",
    "  "
   ]
  },
  {
   "cell_type": "markdown",
   "id": "d30a744c",
   "metadata": {},
   "source": [
    "#### 非数值数据处理2 (2分)"
   ]
  },
  {
   "cell_type": "markdown",
   "id": "8f7f2235",
   "metadata": {},
   "source": [
    "#删除特征年月\n",
    "del  "
   ]
  },
  {
   "cell_type": "code",
   "execution_count": null,
   "id": "1423c30a",
   "metadata": {},
   "outputs": [],
   "source": [
    "*"
   ]
  },
  {
   "cell_type": "code",
   "execution_count": null,
   "id": "72943070",
   "metadata": {
    "scrolled": true
   },
   "outputs": [],
   "source": [
    "data.info()"
   ]
  },
  {
   "cell_type": "markdown",
   "id": "ccd2e755",
   "metadata": {},
   "source": [
    "#### 时间序列数据格式转化换（5分）"
   ]
  },
  {
   "cell_type": "code",
   "execution_count": null,
   "id": "c9bd5923",
   "metadata": {},
   "outputs": [],
   "source": [
    "#用前12月的数据预测下一个月\n",
    "sequence_length=12\n",
    "data_ = []\n",
    "for i in range(  *  ):\n",
    "    data_.append(data.  *  [i: i + sequence_length +1])"
   ]
  },
  {
   "cell_type": "code",
   "execution_count": null,
   "id": "8a23fc7b",
   "metadata": {},
   "outputs": [],
   "source": [
    "data_ = np.array([df.values for df in data_])"
   ]
  },
  {
   "cell_type": "markdown",
   "id": "070d6af6",
   "metadata": {},
   "source": [
    "#### 预测的数据，取最后的12行，修改shape由（12，5）转为（1，12，5）以符合输入要求（3分）"
   ]
  },
  {
   "cell_type": "code",
   "execution_count": null,
   "id": "7f7bd2c8",
   "metadata": {},
   "outputs": [],
   "source": [
    "X_pred=data.*"
   ]
  },
  {
   "cell_type": "code",
   "execution_count": null,
   "id": "00ede6c4",
   "metadata": {},
   "outputs": [],
   "source": [
    "data_"
   ]
  },
  {
   "cell_type": "markdown",
   "id": "824dd6f2",
   "metadata": {},
   "source": [
    "#### 乱序数据(5分)"
   ]
  },
  {
   "cell_type": "code",
   "execution_count": null,
   "id": "441b925a",
   "metadata": {},
   "outputs": [],
   "source": [
    "np.random.*"
   ]
  },
  {
   "cell_type": "code",
   "execution_count": null,
   "id": "642474b4",
   "metadata": {},
   "outputs": [],
   "source": [
    "data_.shape"
   ]
  },
  {
   "cell_type": "markdown",
   "id": "414c00dc",
   "metadata": {},
   "source": [
    "#### X,y分离 （5分）"
   ]
  },
  {
   "cell_type": "code",
   "execution_count": null,
   "id": "caf32a35",
   "metadata": {},
   "outputs": [],
   "source": [
    "X=data_[*]"
   ]
  },
  {
   "cell_type": "code",
   "execution_count": null,
   "id": "6fd9abfd",
   "metadata": {},
   "outputs": [],
   "source": [
    "y=data_[*]"
   ]
  },
  {
   "cell_type": "markdown",
   "id": "40a03087",
   "metadata": {},
   "source": [
    "#### 数据集划分（训练集（70%），验证集（15%），测试集（15%））（6分）"
   ]
  },
  {
   "cell_type": "code",
   "execution_count": null,
   "id": "52943cb6",
   "metadata": {},
   "outputs": [],
   "source": [
    "X_train= *\n",
    "y_train= *"
   ]
  },
  {
   "cell_type": "code",
   "execution_count": null,
   "id": "9b6e0d6b",
   "metadata": {},
   "outputs": [],
   "source": [
    "X_val= *\n",
    "y_val= *"
   ]
  },
  {
   "cell_type": "code",
   "execution_count": null,
   "id": "cbd5d758",
   "metadata": {},
   "outputs": [],
   "source": [
    "X_test= *\n",
    "y_test= *"
   ]
  },
  {
   "cell_type": "markdown",
   "id": "da0ebcff",
   "metadata": {},
   "source": [
    "### 1、全连接神经网络预测 或者 卷积神经网络预测  （共25分）"
   ]
  },
  {
   "cell_type": "markdown",
   "id": "a8f169e5",
   "metadata": {},
   "source": [
    "#### 构建模型  （8分）"
   ]
  },
  {
   "cell_type": "code",
   "execution_count": null,
   "id": "bcf6d725",
   "metadata": {},
   "outputs": [],
   "source": [
    "model1=tf.keras.Sequential()\n",
    "model1.add(* )\n",
    "model1.add( *)\n",
    "model1.add(* )"
   ]
  },
  {
   "cell_type": "code",
   "execution_count": null,
   "id": "335e83fd",
   "metadata": {},
   "outputs": [],
   "source": [
    "model1.summary()"
   ]
  },
  {
   "cell_type": "markdown",
   "id": "0ee57ae5",
   "metadata": {},
   "source": [
    "#### 编译模型 （5分）"
   ]
  },
  {
   "cell_type": "code",
   "execution_count": null,
   "id": "dbbcb2aa",
   "metadata": {},
   "outputs": [],
   "source": [
    "#参数自选\n",
    "model1.compile(optimizer=  *  ,loss=*   ,metrics= *  )"
   ]
  },
  {
   "cell_type": "markdown",
   "id": "a50e8505",
   "metadata": {},
   "source": [
    "#### 训练模型   （3分）"
   ]
  },
  {
   "cell_type": "code",
   "execution_count": null,
   "id": "d5ee1e01",
   "metadata": {},
   "outputs": [],
   "source": [
    "#100轮，批次大小8，\n",
    "his=model1.fit(X_train,y_train,  *    ,validation_data=  *      )"
   ]
  },
  {
   "cell_type": "markdown",
   "id": "9d7ba347",
   "metadata": {},
   "source": [
    "## 可视化训练过程（4分）"
   ]
  },
  {
   "cell_type": "code",
   "execution_count": null,
   "id": "a59362f8",
   "metadata": {},
   "outputs": [],
   "source": [
    "plt.plot(* )\n",
    "plt.plot( *)\n",
    "plt.legend()"
   ]
  },
  {
   "cell_type": "markdown",
   "id": "a83fb27c",
   "metadata": {},
   "source": [
    "## 模型评价（2分）"
   ]
  },
  {
   "cell_type": "code",
   "execution_count": null,
   "id": "ffbbc05e",
   "metadata": {},
   "outputs": [],
   "source": [
    "model1.evaluate( * )"
   ]
  },
  {
   "cell_type": "markdown",
   "id": "85b6c1d7",
   "metadata": {},
   "source": [
    "### 预测 （3分）"
   ]
  },
  {
   "cell_type": "code",
   "execution_count": null,
   "id": "7232fb7e",
   "metadata": {},
   "outputs": [],
   "source": [
    "#预测19年9月的汽车销量\n",
    "model1.predict( *)"
   ]
  },
  {
   "cell_type": "markdown",
   "id": "0ec75da6",
   "metadata": {},
   "source": [
    "### 2、循环神经网络预测   （共25分）"
   ]
  },
  {
   "cell_type": "markdown",
   "id": "eaa1b283",
   "metadata": {},
   "source": [
    "###### 构建模型  （8分）"
   ]
  },
  {
   "cell_type": "code",
   "execution_count": null,
   "id": "562a5ead",
   "metadata": {},
   "outputs": [],
   "source": [
    "model2 = tf.keras.Sequential()\n",
    " *\n",
    "#按需添加layers"
   ]
  },
  {
   "cell_type": "markdown",
   "id": "a026b0c5",
   "metadata": {},
   "source": [
    "#### 编译模型 （5分）"
   ]
  },
  {
   "cell_type": "code",
   "execution_count": null,
   "id": "4757b803",
   "metadata": {},
   "outputs": [],
   "source": [
    "model2.compile(optimizer= *  ,loss= *  ,metrics=  *   )"
   ]
  },
  {
   "cell_type": "markdown",
   "id": "b2e97955",
   "metadata": {},
   "source": [
    "#### 训练模型   （3分）"
   ]
  },
  {
   "cell_type": "code",
   "execution_count": null,
   "id": "aa943b19",
   "metadata": {},
   "outputs": [],
   "source": [
    "his2=model2.fit(*  )"
   ]
  },
  {
   "cell_type": "markdown",
   "id": "272f482f",
   "metadata": {},
   "source": [
    "## 可视化训练过程（4分）"
   ]
  },
  {
   "cell_type": "code",
   "execution_count": null,
   "id": "e52f71ed",
   "metadata": {},
   "outputs": [],
   "source": [
    "plt.plot(* )\n",
    "plt.plot( *)\n",
    "plt.legend()"
   ]
  },
  {
   "cell_type": "markdown",
   "id": "82a69106",
   "metadata": {},
   "source": [
    "## 模型评价（2分）"
   ]
  },
  {
   "cell_type": "code",
   "execution_count": null,
   "id": "15d5ae55",
   "metadata": {},
   "outputs": [],
   "source": [
    "model2.evaluate( * )"
   ]
  },
  {
   "cell_type": "markdown",
   "id": "2f0b802f",
   "metadata": {},
   "source": [
    "## 预测 （3分）"
   ]
  },
  {
   "cell_type": "code",
   "execution_count": null,
   "id": "c2c37ca6",
   "metadata": {},
   "outputs": [],
   "source": [
    "model2.predict( * )"
   ]
  },
  {
   "cell_type": "code",
   "execution_count": null,
   "id": "07dd232f",
   "metadata": {},
   "outputs": [],
   "source": []
  }
 ],
 "metadata": {
  "kernelspec": {
   "display_name": "Python 3 (ipykernel)",
   "language": "python",
   "name": "python3"
  },
  "language_info": {
   "codemirror_mode": {
    "name": "ipython",
    "version": 3
   },
   "file_extension": ".py",
   "mimetype": "text/x-python",
   "name": "python",
   "nbconvert_exporter": "python",
   "pygments_lexer": "ipython3",
   "version": "3.9.5"
  }
 },
 "nbformat": 4,
 "nbformat_minor": 5
}
