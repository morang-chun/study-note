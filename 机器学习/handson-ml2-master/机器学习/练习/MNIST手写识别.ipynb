{
 "cells": [
  {
   "cell_type": "code",
   "execution_count": 45,
   "id": "618797ee",
   "metadata": {},
   "outputs": [],
   "source": [
    "import tensorflow as tf\n",
    "import numpy as np\n",
    "import pandas as pd\n",
    "import matplotlib.pyplot as plt\n",
    "from sklearn.metrics import accuracy_score,f1_score,confusion_matrix\n",
    "import seaborn as sn\n",
    "from sklearn.metrics import classification_report\n",
    "%matplotlib inline"
   ]
  },
  {
   "cell_type": "code",
   "execution_count": 46,
   "id": "dcaa173b",
   "metadata": {},
   "outputs": [],
   "source": [
    "import ssl\n",
    "ssl._create_default_https_context = ssl._create_unverified_context   #下载数据集"
   ]
  },
  {
   "cell_type": "code",
   "execution_count": 47,
   "id": "3089d355",
   "metadata": {},
   "outputs": [],
   "source": [
    "(X_train,y_train),(X_test,y_test) = tf.keras.datasets.mnist.load_data()   #y是标签"
   ]
  },
  {
   "cell_type": "code",
   "execution_count": 48,
   "id": "a5959900",
   "metadata": {},
   "outputs": [
    {
     "data": {
      "text/plain": [
       "(60000, 28, 28)"
      ]
     },
     "execution_count": 48,
     "metadata": {},
     "output_type": "execute_result"
    }
   ],
   "source": [
    "X_train.shape    #数据集有60000张图片"
   ]
  },
  {
   "cell_type": "code",
   "execution_count": 49,
   "id": "ab924de0",
   "metadata": {},
   "outputs": [
    {
     "data": {
      "text/plain": [
       "<matplotlib.image.AxesImage at 0x7f6f2c0dcaf0>"
      ]
     },
     "execution_count": 49,
     "metadata": {},
     "output_type": "execute_result"
    },
    {
     "data": {
      "image/png": "[encoded data removed]",
      "text/plain": [
       "<Figure size 432x288 with 1 Axes>"
      ]
     },
     "metadata": {
      "needs_background": "light"
     },
     "output_type": "display_data"
    }
   ],
   "source": [
    "plt.imshow(X_train[0])  #显示第0张图片  "
   ]
  },
  {
   "cell_type": "code",
   "execution_count": 50,
   "id": "af9a7747",
   "metadata": {},
   "outputs": [
    {
     "data": {
      "text/plain": [
       "<matplotlib.image.AxesImage at 0x7f6f10715ab0>"
      ]
     },
     "execution_count": 50,
     "metadata": {},
     "output_type": "execute_result"
    },
    {
     "data": {
      "image/png": "[encoded data removed]",
      "text/plain": [
       "<Figure size 432x288 with 1 Axes>"
      ]
     },
     "metadata": {
      "needs_background": "light"
     },
     "output_type": "display_data"
    }
   ],
   "source": [
    "plt.imshow(X_train[3333],cmap=\"binary\")  #不显示色彩"
   ]
  },
  {
   "cell_type": "code",
   "execution_count": 51,
   "id": "c704660a",
   "metadata": {},
   "outputs": [
    {
     "data": {
      "text/plain": [
       "(10000,)"
      ]
     },
     "execution_count": 51,
     "metadata": {},
     "output_type": "execute_result"
    }
   ],
   "source": [
    "y_test.shape"
   ]
  },
  {
   "cell_type": "code",
   "execution_count": 52,
   "id": "b487c3a7",
   "metadata": {},
   "outputs": [],
   "source": [
    "#建立神经网络\n",
    "model=tf.keras.models.Sequential()   #也可用方括号直接在圆括号内增加\n",
    "model.add(tf.keras.layers.Flatten(input_shape=(28,28))) #第一层\n",
    "model.add(tf.keras.layers.Dense(1024,activation=\"relu\"))\n",
    "model.add(tf.keras.layers.Dense(1024,activation=\"relu\"))\n",
    "model.add(tf.keras.layers.Dense(10,activation=\"softmax\"))"
   ]
  },
  {
   "cell_type": "code",
   "execution_count": 53,
   "id": "7ab7d8c2",
   "metadata": {},
   "outputs": [],
   "source": [
    "model.compile(optimizer=\"adam\",\n",
    "              loss=\"sparse_categorical_crossentropy\",  \n",
    "             metrics=[\"acc\"])  #精度"
   ]
  },
  {
   "cell_type": "code",
   "execution_count": 54,
   "id": "4bd8ec25",
   "metadata": {},
   "outputs": [
    {
     "data": {
      "text/plain": [
       "((60000, 28, 28), (60000,))"
      ]
     },
     "execution_count": 54,
     "metadata": {},
     "output_type": "execute_result"
    }
   ],
   "source": [
    "X_train.shape,y_train.shape"
   ]
  },
  {
   "cell_type": "code",
   "execution_count": 55,
   "id": "5a608343",
   "metadata": {},
   "outputs": [
    {
     "name": "stdout",
     "output_type": "stream",
     "text": [
      "Epoch 1/15\n",
      "750/750 [==============================] - 30s 38ms/step - loss: 2.7394 - acc: 0.9034 - val_loss: 0.3127 - val_acc: 0.9422\n",
      "Epoch 2/15\n",
      "750/750 [==============================] - 22s 29ms/step - loss: 0.2225 - acc: 0.9538 - val_loss: 0.2503 - val_acc: 0.9533\n",
      "Epoch 3/15\n",
      "750/750 [==============================] - 20s 27ms/step - loss: 0.1554 - acc: 0.9634 - val_loss: 0.2179 - val_acc: 0.9553\n",
      "Epoch 4/15\n",
      "750/750 [==============================] - 19s 26ms/step - loss: 0.1379 - acc: 0.9666 - val_loss: 0.2211 - val_acc: 0.9551\n",
      "Epoch 5/15\n",
      "750/750 [==============================] - 17s 23ms/step - loss: 0.1307 - acc: 0.9686 - val_loss: 0.1864 - val_acc: 0.9609\n",
      "Epoch 6/15\n",
      "750/750 [==============================] - 14s 18ms/step - loss: 0.1198 - acc: 0.9711 - val_loss: 0.2282 - val_acc: 0.9523\n",
      "Epoch 7/15\n",
      "750/750 [==============================] - 13s 17ms/step - loss: 0.1161 - acc: 0.9713 - val_loss: 0.2659 - val_acc: 0.9530\n",
      "Epoch 8/15\n",
      "750/750 [==============================] - 14s 19ms/step - loss: 0.1326 - acc: 0.9699 - val_loss: 0.2354 - val_acc: 0.9592\n",
      "Epoch 9/15\n",
      "750/750 [==============================] - 14s 18ms/step - loss: 0.1225 - acc: 0.9722 - val_loss: 0.2672 - val_acc: 0.9557\n",
      "Epoch 10/15\n",
      "750/750 [==============================] - 12s 16ms/step - loss: 0.0988 - acc: 0.9760 - val_loss: 0.1997 - val_acc: 0.9627\n",
      "Epoch 11/15\n",
      "750/750 [==============================] - 11s 15ms/step - loss: 0.1010 - acc: 0.9764 - val_loss: 0.1831 - val_acc: 0.9641\n",
      "Epoch 12/15\n",
      "750/750 [==============================] - 11s 15ms/step - loss: 0.0897 - acc: 0.9788 - val_loss: 0.1891 - val_acc: 0.9661\n",
      "Epoch 13/15\n",
      "750/750 [==============================] - 12s 17ms/step - loss: 0.0887 - acc: 0.9795 - val_loss: 0.2001 - val_acc: 0.9671\n",
      "Epoch 14/15\n",
      "750/750 [==============================] - 12s 16ms/step - loss: 0.0958 - acc: 0.9786 - val_loss: 0.2382 - val_acc: 0.9625\n",
      "Epoch 15/15\n",
      "750/750 [==============================] - 12s 16ms/step - loss: 0.1007 - acc: 0.9794 - val_loss: 0.2112 - val_acc: 0.9675\n"
     ]
    },
    {
     "data": {
      "text/plain": [
       "<keras.callbacks.History at 0x7f6f107669b0>"
      ]
     },
     "execution_count": 55,
     "metadata": {},
     "output_type": "execute_result"
    }
   ],
   "source": [
    "#训练模型\n",
    "model.fit(X_train,y_train,epochs=15,batch_size=64,validation_split=0.2)"
   ]
  },
  {
   "cell_type": "code",
   "execution_count": 56,
   "id": "72e0e06d",
   "metadata": {},
   "outputs": [],
   "source": [
    "#plt_plot(his_history.epochs,his.history.get(\"loss\"))  #看训练过程"
   ]
  },
  {
   "cell_type": "code",
   "execution_count": 65,
   "id": "b21d877f",
   "metadata": {},
   "outputs": [
    {
     "name": "stdout",
     "output_type": "stream",
     "text": [
      "313/313 [==============================] - 2s 5ms/step\n"
     ]
    }
   ],
   "source": [
    "#预测\n",
    "pre=model.predict(X_test)"
   ]
  },
  {
   "cell_type": "code",
   "execution_count": 68,
   "id": "39f70855",
   "metadata": {},
   "outputs": [],
   "source": [
    "pred=np.argmax(pre,axis=1)"
   ]
  },
  {
   "cell_type": "code",
   "execution_count": 69,
   "id": "cf406095",
   "metadata": {},
   "outputs": [
    {
     "data": {
      "text/plain": [
       "array([9.17140338e-24, 8.08005467e-20, 1.18137506e-23, 2.61278728e-17,\n",
       "       7.28775281e-21, 3.30635291e-24, 0.00000000e+00, 9.99999940e-01,\n",
       "       7.94513340e-22, 1.36627688e-12], dtype=float32)"
      ]
     },
     "execution_count": 69,
     "metadata": {},
     "output_type": "execute_result"
    }
   ],
   "source": [
    "pre[0]"
   ]
  },
  {
   "cell_type": "code",
   "execution_count": 70,
   "id": "1f04412b",
   "metadata": {},
   "outputs": [
    {
     "name": "stdout",
     "output_type": "stream",
     "text": [
      "              precision    recall  f1-score   support\n",
      "\n",
      "           0       0.99      0.97      0.98       980\n",
      "           1       0.99      0.98      0.99      1135\n",
      "           2       0.97      0.97      0.97      1032\n",
      "           3       0.97      0.97      0.97      1010\n",
      "           4       0.95      0.98      0.97       982\n",
      "           5       0.91      0.98      0.94       892\n",
      "           6       0.98      0.95      0.97       958\n",
      "           7       0.98      0.96      0.97      1028\n",
      "           8       0.96      0.97      0.96       974\n",
      "           9       0.98      0.92      0.95      1009\n",
      "\n",
      "    accuracy                           0.97     10000\n",
      "   macro avg       0.97      0.97      0.97     10000\n",
      "weighted avg       0.97      0.97      0.97     10000\n",
      "\n"
     ]
    }
   ],
   "source": [
    "#真实值\n",
    "print(classification_report(y_test,pred))  "
   ]
  },
  {
   "cell_type": "code",
   "execution_count": 71,
   "id": "b092d739",
   "metadata": {},
   "outputs": [
    {
     "name": "stdout",
     "output_type": "stream",
     "text": [
      "1875/1875 [==============================] - 10s 5ms/step\n"
     ]
    }
   ],
   "source": [
    "pre_=model.predict(X_train)"
   ]
  },
  {
   "cell_type": "code",
   "execution_count": 73,
   "id": "e9d132db",
   "metadata": {},
   "outputs": [],
   "source": [
    "pre_d=np.argmax(pre_,axis=1)"
   ]
  },
  {
   "cell_type": "code",
   "execution_count": 74,
   "id": "a4be8a5d",
   "metadata": {},
   "outputs": [
    {
     "name": "stdout",
     "output_type": "stream",
     "text": [
      "              precision    recall  f1-score   support\n",
      "\n",
      "           0       1.00      0.98      0.99      5923\n",
      "           1       0.99      0.99      0.99      6742\n",
      "           2       0.98      0.98      0.98      5958\n",
      "           3       0.98      0.98      0.98      6131\n",
      "           4       0.96      0.99      0.98      5842\n",
      "           5       0.94      0.99      0.97      5421\n",
      "           6       0.99      0.97      0.98      5918\n",
      "           7       0.99      0.98      0.99      6265\n",
      "           8       0.97      0.98      0.98      5851\n",
      "           9       0.99      0.95      0.97      5949\n",
      "\n",
      "    accuracy                           0.98     60000\n",
      "   macro avg       0.98      0.98      0.98     60000\n",
      "weighted avg       0.98      0.98      0.98     60000\n",
      "\n"
     ]
    }
   ],
   "source": [
    "print(classification_report(y_train,pre_d))"
   ]
  },
  {
   "cell_type": "code",
   "execution_count": null,
   "id": "662091c6",
   "metadata": {},
   "outputs": [],
   "source": []
  }
 ],
 "metadata": {
  "kernelspec": {
   "display_name": "Python 3 (ipykernel)",
   "language": "python",
   "name": "python3"
  },
  "language_info": {
   "codemirror_mode": {
    "name": "ipython",
    "version": 3
   },
   "file_extension": ".py",
   "mimetype": "text/x-python",
   "name": "python",
   "nbconvert_exporter": "python",
   "pygments_lexer": "ipython3",
   "version": "3.10.4"
  }
 },
 "nbformat": 4,
 "nbformat_minor": 5
}
