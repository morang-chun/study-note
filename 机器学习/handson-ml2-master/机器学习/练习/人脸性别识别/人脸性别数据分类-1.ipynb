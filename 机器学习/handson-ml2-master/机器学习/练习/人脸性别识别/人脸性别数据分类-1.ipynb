{
 "cells": [
  {
   "cell_type": "code",
   "execution_count": 1,
   "metadata": {},
   "outputs": [],
   "source": [
    "import tensorflow as tf\n",
    "import matplotlib.pyplot as plt\n",
    "%matplotlib inline\n",
    "import numpy as np\n",
    "import glob"
   ]
  },
  {
   "cell_type": "code",
   "execution_count": 2,
   "metadata": {},
   "outputs": [],
   "source": [
    "img_path=glob.glob(\"d:/datasets/20bigdata/*.jpg\")"
   ]
  },
  {
   "cell_type": "code",
   "execution_count": 3,
   "metadata": {},
   "outputs": [
    {
     "data": {
      "text/plain": [
       "3284"
      ]
     },
     "execution_count": 3,
     "metadata": {},
     "output_type": "execute_result"
    }
   ],
   "source": [
    "len(img_path)"
   ]
  },
  {
   "cell_type": "code",
   "execution_count": 4,
   "metadata": {},
   "outputs": [
    {
     "data": {
      "text/plain": [
       "(['d:/datasets/20bigdata\\\\202031101020037-f-1.jpg',\n",
       "  'd:/datasets/20bigdata\\\\202031101020037-f-10.jpg',\n",
       "  'd:/datasets/20bigdata\\\\202031101020037-f-11.jpg',\n",
       "  'd:/datasets/20bigdata\\\\202031101020037-f-12.jpg',\n",
       "  'd:/datasets/20bigdata\\\\202031101020037-f-13.jpg'],\n",
       " ['d:/datasets/20bigdata\\\\202031113010290-m-6.jpg',\n",
       "  'd:/datasets/20bigdata\\\\202031113010290-m-7.jpg',\n",
       "  'd:/datasets/20bigdata\\\\202031113010290-m-8.jpg',\n",
       "  'd:/datasets/20bigdata\\\\202031113010290-m-9.jpg',\n",
       "  'd:/datasets/20bigdata\\\\\\x7f202031101020041-m-8.jpg'])"
      ]
     },
     "execution_count": 4,
     "metadata": {},
     "output_type": "execute_result"
    }
   ],
   "source": [
    "img_path[:5],img_path[-5:]"
   ]
  },
  {
   "cell_type": "code",
   "execution_count": 5,
   "metadata": {},
   "outputs": [],
   "source": [
    "import random\n",
    "random.shuffle (img_path )"
   ]
  },
  {
   "cell_type": "code",
   "execution_count": 6,
   "metadata": {},
   "outputs": [
    {
     "data": {
      "text/plain": [
       "(['d:/datasets/20bigdata\\\\202031112050074-f-8.jpg',\n",
       "  'd:/datasets/20bigdata\\\\202031112050047-m-2.jpg',\n",
       "  'd:/datasets/20bigdata\\\\202031112050001-m-48.jpg',\n",
       "  'd:/datasets/20bigdata\\\\202031112050024-m-11.jpg',\n",
       "  'd:/datasets/20bigdata\\\\202031112050065肖梦恬-m-12.jpg'],\n",
       " ['d:/datasets/20bigdata\\\\202031112050097-f-9.jpg',\n",
       "  'd:/datasets/20bigdata\\\\202031112050085-f-23.jpg',\n",
       "  'd:/datasets/20bigdata\\\\202031112050011-m-12.jpg',\n",
       "  'd:/datasets/20bigdata\\\\202031112050034-f-36.jpg',\n",
       "  'd:/datasets/20bigdata\\\\202031112050020-f-11.jpg'])"
      ]
     },
     "execution_count": 6,
     "metadata": {},
     "output_type": "execute_result"
    }
   ],
   "source": [
    "img_path[:5],img_path[-5:]"
   ]
  },
  {
   "cell_type": "code",
   "execution_count": 7,
   "metadata": {},
   "outputs": [],
   "source": [
    "def load_and_preprocess_image(path):\n",
    "    image = tf.io.read_file(path)\n",
    "    image = tf.image.decode_jpeg(image, channels=3)\n",
    "    image = tf.image.resize(image, [128, 128])\n",
    "    image = tf.cast(image, tf.float32)\n",
    "    image = image/255.0  # normalize to [0,1] range\n",
    "    return image"
   ]
  },
  {
   "cell_type": "code",
   "execution_count": 8,
   "metadata": {
    "scrolled": true
   },
   "outputs": [],
   "source": [
    "#移除不能正常解码的图片\n",
    "img_path_r=[]   #可正常解码的文件path\n",
    "img_path_e=[]   #不可正常解码的文件path\n",
    "for rr in range(len(img_path)):\n",
    "    img_path_ = img_path[rr]\n",
    "    try:\n",
    "        image = tf.io.read_file(img_path_)\n",
    "        image = tf.image.decode_jpeg(image, channels=3)\n",
    "        img_path_r.append(img_path_)  #译码成功，添加到img_path_r\n",
    "    except:\n",
    "        img_path_e.append(img_path_)    #译码不成功，添加到img_path_e  "
   ]
  },
  {
   "cell_type": "code",
   "execution_count": 9,
   "metadata": {},
   "outputs": [
    {
     "data": {
      "text/plain": [
       "(2947, 337)"
      ]
     },
     "execution_count": 9,
     "metadata": {},
     "output_type": "execute_result"
    }
   ],
   "source": [
    "len(img_path_r),len(img_path_e)"
   ]
  },
  {
   "cell_type": "code",
   "execution_count": 10,
   "metadata": {},
   "outputs": [],
   "source": [
    "img_path=img_path_r"
   ]
  },
  {
   "cell_type": "code",
   "execution_count": 11,
   "metadata": {},
   "outputs": [],
   "source": [
    "all_image_labels=[int(p.replace(\"－\",\"-\").split(\"-\")[1]==\"f\") for p in img_path]"
   ]
  },
  {
   "cell_type": "code",
   "execution_count": 12,
   "metadata": {},
   "outputs": [
    {
     "data": {
      "text/plain": [
       "[1, 1, 0, 1, 1]"
      ]
     },
     "execution_count": 12,
     "metadata": {},
     "output_type": "execute_result"
    }
   ],
   "source": [
    "all_image_labels[-5:]"
   ]
  },
  {
   "cell_type": "raw",
   "metadata": {},
   "source": [
    "all_image_labels=[]\n",
    "for p in img_path:\n",
    "    p=p.replace(\"－\",\"-\")\n",
    "    if len(p.split(\"-\"))>1:\n",
    "        all_image_labels.append(int(p.split(\"-\")[1]==\"f\"))\n",
    "    else:\n",
    "        print(p)"
   ]
  },
  {
   "cell_type": "code",
   "execution_count": 13,
   "metadata": {},
   "outputs": [],
   "source": [
    "path_ds = tf.data.Dataset.from_tensor_slices(img_path[:int(len(img_path)*.85)])\n",
    "test_ds=tf.data.Dataset.from_tensor_slices(img_path[int(len(img_path)*.85):])"
   ]
  },
  {
   "cell_type": "code",
   "execution_count": 14,
   "metadata": {},
   "outputs": [],
   "source": [
    "AUTOTUNE = tf.data.experimental.AUTOTUNE\n",
    "image_ds = path_ds.map(load_and_preprocess_image, num_parallel_calls=AUTOTUNE)"
   ]
  },
  {
   "cell_type": "code",
   "execution_count": 15,
   "metadata": {},
   "outputs": [],
   "source": [
    "test_image_ds = test_ds.map(load_and_preprocess_image, num_parallel_calls=AUTOTUNE)"
   ]
  },
  {
   "cell_type": "code",
   "execution_count": 16,
   "metadata": {},
   "outputs": [],
   "source": [
    "label_ds = tf.data.Dataset.from_tensor_slices(tf.cast(all_image_labels[:int(len(img_path)*.85)], tf.int64))\n",
    "test_label_ds=all_image_labels[int(len(img_path)*.85):]"
   ]
  },
  {
   "cell_type": "code",
   "execution_count": 17,
   "metadata": {},
   "outputs": [],
   "source": [
    "image_label_ds = tf.data.Dataset.zip((image_ds, label_ds))"
   ]
  },
  {
   "cell_type": "code",
   "execution_count": 18,
   "metadata": {},
   "outputs": [],
   "source": [
    "#image_label_ds.shuffle(len(img_path))"
   ]
  },
  {
   "cell_type": "code",
   "execution_count": 19,
   "metadata": {},
   "outputs": [],
   "source": [
    "val_count = int(len(img_path)*0.85*0.2)\n",
    "train_count = (int(len(img_path)*0.85)) - val_count"
   ]
  },
  {
   "cell_type": "code",
   "execution_count": 20,
   "metadata": {},
   "outputs": [
    {
     "data": {
      "text/plain": [
       "(500, 2004)"
      ]
     },
     "execution_count": 20,
     "metadata": {},
     "output_type": "execute_result"
    }
   ],
   "source": [
    "val_count,train_count"
   ]
  },
  {
   "cell_type": "code",
   "execution_count": 21,
   "metadata": {},
   "outputs": [],
   "source": [
    "val_data = image_label_ds.take(val_count)\n",
    "train_data = image_label_ds.skip(val_count)\n"
   ]
  },
  {
   "cell_type": "code",
   "execution_count": 22,
   "metadata": {},
   "outputs": [
    {
     "data": {
      "text/plain": [
       "(<SkipDataset element_spec=(TensorSpec(shape=(128, 128, 3), dtype=tf.float32, name=None), TensorSpec(shape=(), dtype=tf.int64, name=None))>,\n",
       " <TakeDataset element_spec=(TensorSpec(shape=(128, 128, 3), dtype=tf.float32, name=None), TensorSpec(shape=(), dtype=tf.int64, name=None))>)"
      ]
     },
     "execution_count": 22,
     "metadata": {},
     "output_type": "execute_result"
    }
   ],
   "source": [
    "train_data,val_data"
   ]
  },
  {
   "cell_type": "code",
   "execution_count": 23,
   "metadata": {},
   "outputs": [],
   "source": [
    "BATCH_SIZE = 32"
   ]
  },
  {
   "cell_type": "code",
   "execution_count": 24,
   "metadata": {},
   "outputs": [],
   "source": [
    "train_data = train_data.repeat()\n",
    "train_data = train_data.batch(BATCH_SIZE)\n",
    "train_data = train_data.prefetch(AUTOTUNE)"
   ]
  },
  {
   "cell_type": "code",
   "execution_count": 25,
   "metadata": {},
   "outputs": [],
   "source": [
    "val_data = val_data.batch(BATCH_SIZE)\n",
    "test_data=test_image_ds.batch(BATCH_SIZE)"
   ]
  },
  {
   "cell_type": "code",
   "execution_count": 26,
   "metadata": {},
   "outputs": [
    {
     "data": {
      "text/plain": [
       "(<PrefetchDataset element_spec=(TensorSpec(shape=(None, 128, 128, 3), dtype=tf.float32, name=None), TensorSpec(shape=(None,), dtype=tf.int64, name=None))>,\n",
       " <BatchDataset element_spec=(TensorSpec(shape=(None, 128, 128, 3), dtype=tf.float32, name=None), TensorSpec(shape=(None,), dtype=tf.int64, name=None))>,\n",
       " <BatchDataset element_spec=TensorSpec(shape=(None, 128, 128, 3), dtype=tf.float32, name=None)>)"
      ]
     },
     "execution_count": 26,
     "metadata": {},
     "output_type": "execute_result"
    }
   ],
   "source": [
    "train_data,val_data,test_data"
   ]
  },
  {
   "cell_type": "markdown",
   "metadata": {},
   "source": [
    "建立模型"
   ]
  },
  {
   "cell_type": "code",
   "execution_count": 27,
   "metadata": {},
   "outputs": [],
   "source": [
    "#模型大家可以进一步调整\n",
    "model = tf.keras.Sequential()   #顺序模型\n",
    "model.add(tf.keras.layers.Conv2D(64, (3, 3), input_shape=(128, 128, 3), activation='relu'))\n",
    "model.add(tf.keras.layers.BatchNormalization())\n",
    "model.add(tf.keras.layers.MaxPool2D())\n",
    "model.add(tf.keras.layers.Dropout(0.2))\n",
    "model.add(tf.keras.layers.Conv2D(64, (3, 3), activation='relu'))\n",
    "model.add(tf.keras.layers.GlobalAveragePooling2D())\n",
    "model.add(tf.keras.layers.Dense(64, activation='relu'))\n",
    "model.add(tf.keras.layers.Dense(1, activation='sigmoid'))"
   ]
  },
  {
   "cell_type": "code",
   "execution_count": 28,
   "metadata": {
    "scrolled": true
   },
   "outputs": [
    {
     "name": "stdout",
     "output_type": "stream",
     "text": [
      "Model: \"sequential\"\n",
      "_________________________________________________________________\n",
      " Layer (type)                Output Shape              Param #   \n",
      "=================================================================\n",
      " conv2d (Conv2D)             (None, 126, 126, 64)      1792      \n",
      "                                                                 \n",
      " batch_normalization (BatchN  (None, 126, 126, 64)     256       \n",
      " ormalization)                                                   \n",
      "                                                                 \n",
      " max_pooling2d (MaxPooling2D  (None, 63, 63, 64)       0         \n",
      " )                                                               \n",
      "                                                                 \n",
      " dropout (Dropout)           (None, 63, 63, 64)        0         \n",
      "                                                                 \n",
      " conv2d_1 (Conv2D)           (None, 61, 61, 64)        36928     \n",
      "                                                                 \n",
      " global_average_pooling2d (G  (None, 64)               0         \n",
      " lobalAveragePooling2D)                                          \n",
      "                                                                 \n",
      " dense (Dense)               (None, 64)                4160      \n",
      "                                                                 \n",
      " dense_1 (Dense)             (None, 1)                 65        \n",
      "                                                                 \n",
      "=================================================================\n",
      "Total params: 43,201\n",
      "Trainable params: 43,073\n",
      "Non-trainable params: 128\n",
      "_________________________________________________________________\n"
     ]
    }
   ],
   "source": [
    "model.summary()"
   ]
  },
  {
   "cell_type": "code",
   "execution_count": 29,
   "metadata": {},
   "outputs": [],
   "source": [
    "model.compile(optimizer='adam',\n",
    "              loss='binary_crossentropy',\n",
    "              metrics=['acc']\n",
    ")"
   ]
  },
  {
   "cell_type": "code",
   "execution_count": 30,
   "metadata": {},
   "outputs": [],
   "source": [
    "steps_per_epoch = train_count//BATCH_SIZE"
   ]
  },
  {
   "cell_type": "code",
   "execution_count": 31,
   "metadata": {},
   "outputs": [
    {
     "name": "stdout",
     "output_type": "stream",
     "text": [
      "Epoch 1/70\n",
      "62/62 [==============================] - 5s 30ms/step - loss: 0.6847 - acc: 0.5691 - val_loss: 0.6795 - val_acc: 0.5700\n",
      "Epoch 2/70\n",
      "62/62 [==============================] - 2s 25ms/step - loss: 0.6707 - acc: 0.5943 - val_loss: 0.6774 - val_acc: 0.5900\n",
      "Epoch 3/70\n",
      "62/62 [==============================] - 2s 25ms/step - loss: 0.6501 - acc: 0.6285 - val_loss: 0.6682 - val_acc: 0.5900\n",
      "Epoch 4/70\n",
      "62/62 [==============================] - 2s 25ms/step - loss: 0.6260 - acc: 0.6608 - val_loss: 0.6563 - val_acc: 0.6420\n",
      "Epoch 5/70\n",
      "62/62 [==============================] - 2s 25ms/step - loss: 0.6129 - acc: 0.6673 - val_loss: 0.6430 - val_acc: 0.6300\n",
      "Epoch 6/70\n",
      "62/62 [==============================] - 2s 25ms/step - loss: 0.5934 - acc: 0.6809 - val_loss: 0.6299 - val_acc: 0.6400\n",
      "Epoch 7/70\n",
      "62/62 [==============================] - 2s 25ms/step - loss: 0.5828 - acc: 0.6981 - val_loss: 0.6394 - val_acc: 0.6140\n",
      "Epoch 8/70\n",
      "62/62 [==============================] - 1s 24ms/step - loss: 0.5845 - acc: 0.6900 - val_loss: 0.6039 - val_acc: 0.6300\n",
      "Epoch 9/70\n",
      "62/62 [==============================] - 2s 24ms/step - loss: 0.5667 - acc: 0.7102 - val_loss: 0.5890 - val_acc: 0.6700\n",
      "Epoch 10/70\n",
      "62/62 [==============================] - 2s 25ms/step - loss: 0.5521 - acc: 0.7172 - val_loss: 0.6311 - val_acc: 0.6440\n",
      "Epoch 11/70\n",
      "62/62 [==============================] - 2s 25ms/step - loss: 0.5485 - acc: 0.7203 - val_loss: 1.1051 - val_acc: 0.5700\n",
      "Epoch 12/70\n",
      "62/62 [==============================] - 2s 25ms/step - loss: 0.5308 - acc: 0.7369 - val_loss: 0.6515 - val_acc: 0.6300\n",
      "Epoch 13/70\n",
      "62/62 [==============================] - 2s 24ms/step - loss: 0.5303 - acc: 0.7298 - val_loss: 0.5437 - val_acc: 0.6920\n",
      "Epoch 14/70\n",
      "62/62 [==============================] - 2s 25ms/step - loss: 0.5176 - acc: 0.7490 - val_loss: 0.4809 - val_acc: 0.7720\n",
      "Epoch 15/70\n",
      "62/62 [==============================] - 2s 25ms/step - loss: 0.5064 - acc: 0.7525 - val_loss: 0.4745 - val_acc: 0.7760\n",
      "Epoch 16/70\n",
      "62/62 [==============================] - 2s 25ms/step - loss: 0.5072 - acc: 0.7424 - val_loss: 0.4542 - val_acc: 0.7880\n",
      "Epoch 17/70\n",
      "62/62 [==============================] - 2s 25ms/step - loss: 0.4908 - acc: 0.7671 - val_loss: 0.4434 - val_acc: 0.7960\n",
      "Epoch 18/70\n",
      "62/62 [==============================] - 2s 25ms/step - loss: 0.4874 - acc: 0.7626 - val_loss: 0.4586 - val_acc: 0.7880\n",
      "Epoch 19/70\n",
      "62/62 [==============================] - 2s 25ms/step - loss: 0.4832 - acc: 0.7586 - val_loss: 1.2009 - val_acc: 0.5920\n",
      "Epoch 20/70\n",
      "62/62 [==============================] - 2s 25ms/step - loss: 0.4777 - acc: 0.7676 - val_loss: 0.4602 - val_acc: 0.7800\n",
      "Epoch 21/70\n",
      "62/62 [==============================] - 2s 25ms/step - loss: 0.4733 - acc: 0.7692 - val_loss: 0.4522 - val_acc: 0.7900\n",
      "Epoch 22/70\n",
      "62/62 [==============================] - 2s 25ms/step - loss: 0.4669 - acc: 0.7742 - val_loss: 0.4580 - val_acc: 0.8020\n",
      "Epoch 23/70\n",
      "62/62 [==============================] - 2s 25ms/step - loss: 0.4538 - acc: 0.7863 - val_loss: 0.4397 - val_acc: 0.8140\n",
      "Epoch 24/70\n",
      "62/62 [==============================] - 2s 25ms/step - loss: 0.4545 - acc: 0.7767 - val_loss: 0.4660 - val_acc: 0.8060\n",
      "Epoch 25/70\n",
      "62/62 [==============================] - 2s 25ms/step - loss: 0.4477 - acc: 0.7807 - val_loss: 0.4501 - val_acc: 0.8140\n",
      "Epoch 26/70\n",
      "62/62 [==============================] - 2s 25ms/step - loss: 0.4400 - acc: 0.7918 - val_loss: 0.4760 - val_acc: 0.7960\n",
      "Epoch 27/70\n",
      "62/62 [==============================] - 2s 26ms/step - loss: 0.4375 - acc: 0.7898 - val_loss: 0.4867 - val_acc: 0.7900\n",
      "Epoch 28/70\n",
      "62/62 [==============================] - 2s 25ms/step - loss: 0.4311 - acc: 0.7923 - val_loss: 0.4767 - val_acc: 0.7860\n",
      "Epoch 29/70\n",
      "62/62 [==============================] - 2s 25ms/step - loss: 0.4293 - acc: 0.7903 - val_loss: 0.5438 - val_acc: 0.7620\n",
      "Epoch 30/70\n",
      "62/62 [==============================] - 2s 25ms/step - loss: 0.4233 - acc: 0.7883 - val_loss: 0.5122 - val_acc: 0.7620\n",
      "Epoch 31/70\n",
      "62/62 [==============================] - 2s 25ms/step - loss: 0.4169 - acc: 0.8059 - val_loss: 0.5494 - val_acc: 0.7460\n",
      "Epoch 32/70\n",
      "62/62 [==============================] - 2s 25ms/step - loss: 0.4116 - acc: 0.8135 - val_loss: 0.4721 - val_acc: 0.7960\n",
      "Epoch 33/70\n",
      "62/62 [==============================] - 2s 25ms/step - loss: 0.4148 - acc: 0.8034 - val_loss: 0.4674 - val_acc: 0.7960\n",
      "Epoch 34/70\n",
      "62/62 [==============================] - 2s 25ms/step - loss: 0.4067 - acc: 0.8075 - val_loss: 0.4294 - val_acc: 0.8200\n",
      "Epoch 35/70\n",
      "62/62 [==============================] - 2s 25ms/step - loss: 0.4019 - acc: 0.8120 - val_loss: 0.3991 - val_acc: 0.8360\n",
      "Epoch 36/70\n",
      "62/62 [==============================] - 2s 25ms/step - loss: 0.4002 - acc: 0.8125 - val_loss: 0.4938 - val_acc: 0.7320\n",
      "Epoch 37/70\n",
      "62/62 [==============================] - 2s 25ms/step - loss: 0.4011 - acc: 0.8135 - val_loss: 0.4835 - val_acc: 0.7460\n",
      "Epoch 38/70\n",
      "62/62 [==============================] - 2s 25ms/step - loss: 0.3982 - acc: 0.8110 - val_loss: 0.4856 - val_acc: 0.7520\n",
      "Epoch 39/70\n",
      "62/62 [==============================] - 2s 25ms/step - loss: 0.3859 - acc: 0.8241 - val_loss: 0.5801 - val_acc: 0.6820\n",
      "Epoch 40/70\n",
      "62/62 [==============================] - 2s 25ms/step - loss: 0.3835 - acc: 0.8296 - val_loss: 0.4382 - val_acc: 0.7920\n",
      "Epoch 41/70\n",
      "62/62 [==============================] - 2s 25ms/step - loss: 0.3847 - acc: 0.8241 - val_loss: 0.5928 - val_acc: 0.7080\n",
      "Epoch 42/70\n",
      "62/62 [==============================] - 2s 25ms/step - loss: 0.3846 - acc: 0.8251 - val_loss: 0.5663 - val_acc: 0.7280\n",
      "Epoch 43/70\n",
      "62/62 [==============================] - 2s 25ms/step - loss: 0.3724 - acc: 0.8301 - val_loss: 0.4862 - val_acc: 0.7800\n",
      "Epoch 44/70\n",
      "62/62 [==============================] - 2s 25ms/step - loss: 0.3697 - acc: 0.8266 - val_loss: 0.4339 - val_acc: 0.8080\n",
      "Epoch 45/70\n",
      "62/62 [==============================] - 2s 25ms/step - loss: 0.3797 - acc: 0.8306 - val_loss: 0.3728 - val_acc: 0.8400\n",
      "Epoch 46/70\n",
      "62/62 [==============================] - 2s 25ms/step - loss: 0.3706 - acc: 0.8281 - val_loss: 0.4455 - val_acc: 0.8120\n",
      "Epoch 47/70\n",
      "62/62 [==============================] - 2s 25ms/step - loss: 0.3612 - acc: 0.8322 - val_loss: 0.3789 - val_acc: 0.8260\n",
      "Epoch 48/70\n",
      "62/62 [==============================] - 2s 25ms/step - loss: 0.3540 - acc: 0.8443 - val_loss: 0.4187 - val_acc: 0.8140\n",
      "Epoch 49/70\n",
      "62/62 [==============================] - 2s 25ms/step - loss: 0.3539 - acc: 0.8402 - val_loss: 0.4246 - val_acc: 0.8020\n",
      "Epoch 50/70\n",
      "62/62 [==============================] - 2s 25ms/step - loss: 0.3525 - acc: 0.8372 - val_loss: 0.5151 - val_acc: 0.7680\n",
      "Epoch 51/70\n",
      "62/62 [==============================] - 2s 25ms/step - loss: 0.3503 - acc: 0.8438 - val_loss: 0.4252 - val_acc: 0.8200\n",
      "Epoch 52/70\n",
      "62/62 [==============================] - 2s 25ms/step - loss: 0.3442 - acc: 0.8483 - val_loss: 0.5673 - val_acc: 0.7480\n",
      "Epoch 53/70\n",
      "62/62 [==============================] - 2s 25ms/step - loss: 0.3422 - acc: 0.8453 - val_loss: 0.4512 - val_acc: 0.8000\n",
      "Epoch 54/70\n",
      "62/62 [==============================] - 1s 24ms/step - loss: 0.3459 - acc: 0.8417 - val_loss: 0.4079 - val_acc: 0.8180\n",
      "Epoch 55/70\n",
      "62/62 [==============================] - 2s 25ms/step - loss: 0.3325 - acc: 0.8533 - val_loss: 0.3703 - val_acc: 0.8400\n",
      "Epoch 56/70\n",
      "62/62 [==============================] - 2s 25ms/step - loss: 0.3300 - acc: 0.8629 - val_loss: 0.3698 - val_acc: 0.8460\n",
      "Epoch 57/70\n",
      "62/62 [==============================] - 2s 25ms/step - loss: 0.3240 - acc: 0.8513 - val_loss: 0.3897 - val_acc: 0.8360\n",
      "Epoch 58/70\n",
      "62/62 [==============================] - 2s 25ms/step - loss: 0.3222 - acc: 0.8614 - val_loss: 0.3514 - val_acc: 0.8540\n",
      "Epoch 59/70\n",
      "62/62 [==============================] - 2s 25ms/step - loss: 0.3215 - acc: 0.8579 - val_loss: 0.3501 - val_acc: 0.8560\n",
      "Epoch 60/70\n",
      "62/62 [==============================] - 2s 25ms/step - loss: 0.3078 - acc: 0.8659 - val_loss: 0.3752 - val_acc: 0.8400\n",
      "Epoch 61/70\n",
      "62/62 [==============================] - 2s 25ms/step - loss: 0.3123 - acc: 0.8639 - val_loss: 0.3590 - val_acc: 0.8460\n",
      "Epoch 62/70\n",
      "62/62 [==============================] - 2s 25ms/step - loss: 0.3113 - acc: 0.8584 - val_loss: 0.3912 - val_acc: 0.8220\n",
      "Epoch 63/70\n"
     ]
    },
    {
     "name": "stdout",
     "output_type": "stream",
     "text": [
      "62/62 [==============================] - 2s 25ms/step - loss: 0.3104 - acc: 0.8700 - val_loss: 0.3600 - val_acc: 0.8380\n",
      "Epoch 64/70\n",
      "62/62 [==============================] - 2s 25ms/step - loss: 0.3031 - acc: 0.8745 - val_loss: 0.3743 - val_acc: 0.8400\n",
      "Epoch 65/70\n",
      "62/62 [==============================] - 2s 25ms/step - loss: 0.3006 - acc: 0.8755 - val_loss: 0.3388 - val_acc: 0.8460\n",
      "Epoch 66/70\n",
      "62/62 [==============================] - 2s 25ms/step - loss: 0.2948 - acc: 0.8755 - val_loss: 0.3474 - val_acc: 0.8600\n",
      "Epoch 67/70\n",
      "62/62 [==============================] - 2s 25ms/step - loss: 0.2989 - acc: 0.8700 - val_loss: 0.3562 - val_acc: 0.8520\n",
      "Epoch 68/70\n",
      "62/62 [==============================] - 2s 25ms/step - loss: 0.2883 - acc: 0.8800 - val_loss: 0.3639 - val_acc: 0.8560\n",
      "Epoch 69/70\n",
      "62/62 [==============================] - 2s 25ms/step - loss: 0.2869 - acc: 0.8851 - val_loss: 0.3617 - val_acc: 0.8420\n",
      "Epoch 70/70\n",
      "62/62 [==============================] - 2s 25ms/step - loss: 0.2951 - acc: 0.8755 - val_loss: 0.3321 - val_acc: 0.8480\n"
     ]
    }
   ],
   "source": [
    "history = model.fit(train_data, epochs=70, steps_per_epoch=steps_per_epoch, validation_data=val_data)"
   ]
  },
  {
   "cell_type": "code",
   "execution_count": 32,
   "metadata": {},
   "outputs": [
    {
     "data": {
      "text/plain": [
       "dict_keys(['loss', 'acc', 'val_loss', 'val_acc'])"
      ]
     },
     "execution_count": 32,
     "metadata": {},
     "output_type": "execute_result"
    }
   ],
   "source": [
    "history.history.keys()"
   ]
  },
  {
   "cell_type": "code",
   "execution_count": 33,
   "metadata": {},
   "outputs": [
    {
     "data": {
      "text/plain": [
       "<matplotlib.legend.Legend at 0x13eb10378e0>"
      ]
     },
     "execution_count": 33,
     "metadata": {},
     "output_type": "execute_result"
    },
    {
     "data": {
      "image/png": "[encoded data removed]",
      "text/plain": [
       "<Figure size 432x288 with 1 Axes>"
      ]
     },
     "metadata": {
      "needs_background": "light"
     },
     "output_type": "display_data"
    }
   ],
   "source": [
    "plt.plot(history.epoch, history.history.get('acc'), label='acc')\n",
    "plt.plot(history.epoch, history.history.get('val_acc'), label='val_acc')\n",
    "plt.legend()"
   ]
  },
  {
   "cell_type": "code",
   "execution_count": 34,
   "metadata": {
    "scrolled": true
   },
   "outputs": [
    {
     "data": {
      "text/plain": [
       "<matplotlib.legend.Legend at 0x13e99fb3760>"
      ]
     },
     "execution_count": 34,
     "metadata": {},
     "output_type": "execute_result"
    },
    {
     "data": {
      "image/png": "[encoded data removed]",
      "text/plain": [
       "<Figure size 432x288 with 1 Axes>"
      ]
     },
     "metadata": {
      "needs_background": "light"
     },
     "output_type": "display_data"
    }
   ],
   "source": [
    "plt.plot(history.epoch, history.history.get('loss'), label='loss')\n",
    "plt.plot(history.epoch, history.history.get('val_loss'), label='val_loss')\n",
    "plt.legend()"
   ]
  },
  {
   "cell_type": "code",
   "execution_count": 35,
   "metadata": {},
   "outputs": [],
   "source": [
    "pred=model.predict(test_data)"
   ]
  },
  {
   "cell_type": "code",
   "execution_count": 36,
   "metadata": {},
   "outputs": [],
   "source": [
    "pred_=[int(i>0.5) for i in pred]"
   ]
  },
  {
   "cell_type": "code",
   "execution_count": 37,
   "metadata": {},
   "outputs": [],
   "source": [
    "from  sklearn.metrics import classification_report"
   ]
  },
  {
   "cell_type": "code",
   "execution_count": 38,
   "metadata": {},
   "outputs": [
    {
     "name": "stdout",
     "output_type": "stream",
     "text": [
      "              precision    recall  f1-score   support\n",
      "\n",
      "           0       0.80      0.83      0.81       195\n",
      "           1       0.86      0.84      0.85       248\n",
      "\n",
      "    accuracy                           0.83       443\n",
      "   macro avg       0.83      0.83      0.83       443\n",
      "weighted avg       0.83      0.83      0.83       443\n",
      "\n"
     ]
    }
   ],
   "source": [
    "print(classification_report(test_label_ds,pred_))"
   ]
  },
  {
   "cell_type": "code",
   "execution_count": null,
   "metadata": {},
   "outputs": [],
   "source": []
  }
 ],
 "metadata": {
  "kernelspec": {
   "display_name": "Python 3 (ipykernel)",
   "language": "python",
   "name": "python3"
  },
  "language_info": {
   "codemirror_mode": {
    "name": "ipython",
    "version": 3
   },
   "file_extension": ".py",
   "mimetype": "text/x-python",
   "name": "python",
   "nbconvert_exporter": "python",
   "pygments_lexer": "ipython3",
   "version": "3.9.6"
  },
  "widgets": {
   "application/vnd.jupyter.widget-state+json": {
    "state": {},
    "version_major": 2,
    "version_minor": 0
   }
  }
 },
 "nbformat": 4,
 "nbformat_minor": 4
}
