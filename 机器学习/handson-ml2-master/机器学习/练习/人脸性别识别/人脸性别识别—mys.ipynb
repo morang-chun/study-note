{
 "cells": [
  {
   "cell_type": "code",
   "execution_count": 1,
   "id": "3b398273",
   "metadata": {},
   "outputs": [],
   "source": [
    "import tensorflow as tf\n",
    "import matplotlib.pyplot as plt\n",
    "import numpy as np\n",
    "import glob \n",
    "from sklearn.metrics import classification_report\n",
    "%matplotlib inline"
   ]
  },
  {
   "cell_type": "code",
   "execution_count": 2,
   "id": "95e32c77",
   "metadata": {},
   "outputs": [],
   "source": [
    "img_path = glob.glob(\"d:/datasets/face_dataset/*.jpg\")"
   ]
  },
  {
   "cell_type": "code",
   "execution_count": 3,
   "id": "fb9b1e52",
   "metadata": {},
   "outputs": [
    {
     "data": {
      "text/plain": [
       "3309"
      ]
     },
     "execution_count": 3,
     "metadata": {},
     "output_type": "execute_result"
    }
   ],
   "source": [
    "len(img_path)"
   ]
  },
  {
   "cell_type": "code",
   "execution_count": 4,
   "id": "7eebc15b",
   "metadata": {},
   "outputs": [
    {
     "data": {
      "text/plain": [
       "(['d:/datasets/face_dataset\\\\202031101020037-f-1.jpg',\n",
       "  'd:/datasets/face_dataset\\\\202031101020037-f-10.jpg',\n",
       "  'd:/datasets/face_dataset\\\\202031101020037-f-11.jpg',\n",
       "  'd:/datasets/face_dataset\\\\202031101020037-f-12.jpg',\n",
       "  'd:/datasets/face_dataset\\\\202031101020037-f-13.jpg'],\n",
       " ['d:/datasets/face_dataset\\\\202031113010290-m-6.jpg',\n",
       "  'd:/datasets/face_dataset\\\\202031113010290-m-7.jpg',\n",
       "  'd:/datasets/face_dataset\\\\202031113010290-m-8.jpg',\n",
       "  'd:/datasets/face_dataset\\\\202031113010290-m-9.jpg',\n",
       "  'd:/datasets/face_dataset\\\\\\x7f202031101020041-m-8.jpg'])"
      ]
     },
     "execution_count": 4,
     "metadata": {},
     "output_type": "execute_result"
    }
   ],
   "source": [
    "img_path[:5],img_path[-5:]"
   ]
  },
  {
   "cell_type": "code",
   "execution_count": 5,
   "id": "e9efdbe6",
   "metadata": {},
   "outputs": [],
   "source": [
    "import random\n",
    "random.shuffle(img_path)"
   ]
  },
  {
   "cell_type": "code",
   "execution_count": 6,
   "id": "fb757bdc",
   "metadata": {},
   "outputs": [
    {
     "data": {
      "text/plain": [
       "(['d:/datasets/face_dataset\\\\202031112050085-m-7.jpg',\n",
       "  'd:/datasets/face_dataset\\\\202031101020041-f-11.jpg',\n",
       "  'd:/datasets/face_dataset\\\\202031112050025-m- 11.jpg',\n",
       "  'd:/datasets/face_dataset\\\\202031112050085-m-2.jpg',\n",
       "  'd:/datasets/face_dataset\\\\202031112050032-m-23.JPG'],\n",
       " ['d:/datasets/face_dataset\\\\202031112050051-m-3.jpg',\n",
       "  'd:/datasets/face_dataset\\\\202031112050078-f-20.jpg',\n",
       "  'd:/datasets/face_dataset\\\\202031112050055-m-6.jpg',\n",
       "  'd:/datasets/face_dataset\\\\202031112050049-m-22.jpg',\n",
       "  'd:/datasets/face_dataset\\\\202031112050024-f-10.jpg'])"
      ]
     },
     "execution_count": 6,
     "metadata": {},
     "output_type": "execute_result"
    }
   ],
   "source": [
    "img_path[:5],img_path[-5:]"
   ]
  },
  {
   "cell_type": "code",
   "execution_count": 7,
   "id": "0b3ddfae",
   "metadata": {},
   "outputs": [],
   "source": [
    "def load_and_preprocess_image(path):\n",
    "    image = tf.io.read_file(path)\n",
    "    image = tf.image.decode_jpeg(image,channels=3)\n",
    "    image = tf.image.resize(image,[128,128])\n",
    "    image = tf.cast(image,tf.float32)\n",
    "    image = image/255.0\n",
    "    return image"
   ]
  },
  {
   "cell_type": "code",
   "execution_count": 8,
   "id": "a5726662",
   "metadata": {},
   "outputs": [],
   "source": [
    "# 移除不能正常解码的图片\n",
    "img_path_r = []\n",
    "img_path_e = []\n",
    "for rr in range(len(img_path)):\n",
    "    img_path_ = img_path[rr]\n",
    "    try:\n",
    "        image = tf.io.read_file(img_path_)\n",
    "        image = tf.image.decode_jpeg(image,channels=3)\n",
    "        img_path_r.append(img_path_) # 译码成功，添加到img_path_r\n",
    "        \n",
    "    except:\n",
    "        img_path_e.append(img_path_)"
   ]
  },
  {
   "cell_type": "code",
   "execution_count": 9,
   "id": "235e0d69",
   "metadata": {},
   "outputs": [
    {
     "data": {
      "text/plain": [
       "(2947, 362)"
      ]
     },
     "execution_count": 9,
     "metadata": {},
     "output_type": "execute_result"
    }
   ],
   "source": [
    "len(img_path_r),len(img_path_e)"
   ]
  },
  {
   "cell_type": "code",
   "execution_count": 10,
   "id": "13dcaeac",
   "metadata": {},
   "outputs": [],
   "source": [
    "img_path = img_path_r"
   ]
  },
  {
   "cell_type": "code",
   "execution_count": 11,
   "id": "975b06b8",
   "metadata": {},
   "outputs": [],
   "source": [
    "all_image_labels = [int(p.replace(\"-\",\"-\").split(\"-\")[1]==\"f\") for p in img_path]\n",
    "# f 编码为1，m编码为0"
   ]
  },
  {
   "cell_type": "code",
   "execution_count": 12,
   "id": "17839056",
   "metadata": {},
   "outputs": [
    {
     "data": {
      "text/plain": [
       "([0, 1, 0, 0, 0], [0, 1, 0, 0, 1])"
      ]
     },
     "execution_count": 12,
     "metadata": {},
     "output_type": "execute_result"
    }
   ],
   "source": [
    "all_image_labels[:5],all_image_labels[-5:]"
   ]
  },
  {
   "cell_type": "code",
   "execution_count": 13,
   "id": "8963a0f9",
   "metadata": {},
   "outputs": [],
   "source": [
    "path_ds = tf.data.Dataset.from_tensor_slices(img_path[:int(len(img_path)*.85)])\n",
    "test_ds = tf.data.Dataset.from_tensor_slices(img_path[int(len(img_path)*.85):])"
   ]
  },
  {
   "cell_type": "code",
   "execution_count": 14,
   "id": "d50aa8be",
   "metadata": {},
   "outputs": [],
   "source": [
    "AUTOTUNE = tf.data.experimental.AUTOTUNE\n",
    "image_ds = path_ds.map(load_and_preprocess_image,num_parallel_calls=AUTOTUNE)"
   ]
  },
  {
   "cell_type": "code",
   "execution_count": 15,
   "id": "0f74b5e5",
   "metadata": {},
   "outputs": [],
   "source": [
    "test_image_ds = test_ds.map(load_and_preprocess_image,num_parallel_calls=AUTOTUNE)"
   ]
  },
  {
   "cell_type": "code",
   "execution_count": 16,
   "id": "7d429172",
   "metadata": {},
   "outputs": [],
   "source": [
    "label_ds = tf.data.Dataset.from_tensor_slices(tf.cast(all_image_labels[:int(len(img_path)*.85)],tf.int64))\n",
    "test_ds = all_image_labels[int(len(img_path)*.85):]"
   ]
  },
  {
   "cell_type": "code",
   "execution_count": 54,
   "id": "cab83778",
   "metadata": {},
   "outputs": [],
   "source": [
    "test_label_ds = all_image_labels[int(len(img_path)*.85):]"
   ]
  },
  {
   "cell_type": "code",
   "execution_count": 17,
   "id": "e3d5a06d",
   "metadata": {},
   "outputs": [],
   "source": [
    "image_label_ds = tf.data.Dataset.zip((image_ds,label_ds))"
   ]
  },
  {
   "cell_type": "code",
   "execution_count": 18,
   "id": "55d1ad08",
   "metadata": {},
   "outputs": [],
   "source": [
    "val_count = int(len(img_path)*.85*.2)\n",
    "train_count = (int(len(img_path)*.85)) - val_count"
   ]
  },
  {
   "cell_type": "code",
   "execution_count": 19,
   "id": "acf980be",
   "metadata": {},
   "outputs": [
    {
     "data": {
      "text/plain": [
       "(500, 2004)"
      ]
     },
     "execution_count": 19,
     "metadata": {},
     "output_type": "execute_result"
    }
   ],
   "source": [
    "val_count,train_count"
   ]
  },
  {
   "cell_type": "code",
   "execution_count": 20,
   "id": "c3f61c3f",
   "metadata": {},
   "outputs": [],
   "source": [
    "val_data = image_label_ds.take(val_count)\n",
    "train_data = image_label_ds.skip(val_count)"
   ]
  },
  {
   "cell_type": "code",
   "execution_count": 21,
   "id": "705a0c1f",
   "metadata": {},
   "outputs": [
    {
     "data": {
      "text/plain": [
       "(<SkipDataset element_spec=(TensorSpec(shape=(128, 128, 3), dtype=tf.float32, name=None), TensorSpec(shape=(), dtype=tf.int64, name=None))>,\n",
       " <TakeDataset element_spec=(TensorSpec(shape=(128, 128, 3), dtype=tf.float32, name=None), TensorSpec(shape=(), dtype=tf.int64, name=None))>)"
      ]
     },
     "execution_count": 21,
     "metadata": {},
     "output_type": "execute_result"
    }
   ],
   "source": [
    "train_data,val_data"
   ]
  },
  {
   "cell_type": "code",
   "execution_count": 22,
   "id": "55a6334e",
   "metadata": {},
   "outputs": [],
   "source": [
    "BATCH_SIZE = 32"
   ]
  },
  {
   "cell_type": "code",
   "execution_count": 23,
   "id": "e93d5f3f",
   "metadata": {},
   "outputs": [],
   "source": [
    "train_data = train_data.repeat()\n",
    "train_data = train_data.batch(BATCH_SIZE)\n",
    "train_data = train_data.prefetch(AUTOTUNE)"
   ]
  },
  {
   "cell_type": "code",
   "execution_count": 25,
   "id": "5510c499",
   "metadata": {},
   "outputs": [],
   "source": [
    "val_data = val_data.batch(BATCH_SIZE)\n",
    "test_data = test_image_ds.batch(BATCH_SIZE)"
   ]
  },
  {
   "cell_type": "code",
   "execution_count": 26,
   "id": "04e2dfbc",
   "metadata": {},
   "outputs": [
    {
     "data": {
      "text/plain": [
       "(<PrefetchDataset element_spec=(TensorSpec(shape=(None, 128, 128, 3), dtype=tf.float32, name=None), TensorSpec(shape=(None,), dtype=tf.int64, name=None))>,\n",
       " <BatchDataset element_spec=(TensorSpec(shape=(None, 128, 128, 3), dtype=tf.float32, name=None), TensorSpec(shape=(None,), dtype=tf.int64, name=None))>,\n",
       " <BatchDataset element_spec=TensorSpec(shape=(None, 128, 128, 3), dtype=tf.float32, name=None)>)"
      ]
     },
     "execution_count": 26,
     "metadata": {},
     "output_type": "execute_result"
    }
   ],
   "source": [
    "train_data,val_data,test_data"
   ]
  },
  {
   "cell_type": "markdown",
   "id": "01dc53af",
   "metadata": {},
   "source": [
    "# 建立模型"
   ]
  },
  {
   "cell_type": "code",
   "execution_count": 28,
   "id": "3913e818",
   "metadata": {},
   "outputs": [],
   "source": [
    "model = tf.keras.Sequential()\n",
    "model.add(tf.keras.layers.Conv2D(64,(3,3),input_shape=(128,128,3),activation='relu'))\n",
    "model.add(tf.keras.layers.BatchNormalization())\n",
    "model.add(tf.keras.layers.MaxPool2D())\n",
    "model.add(tf.keras.layers.Dropout(0.2))\n",
    "model.add(tf.keras.layers.Conv2D(64,(3,3),activation='relu'))\n",
    "model.add(tf.keras.layers.GlobalAveragePooling2D())\n",
    "model.add(tf.keras.layers.Dense(64,activation='relu'))\n",
    "model.add(tf.keras.layers.Dense(1,activation='sigmoid'))"
   ]
  },
  {
   "cell_type": "code",
   "execution_count": 29,
   "id": "248a3ead",
   "metadata": {},
   "outputs": [
    {
     "name": "stdout",
     "output_type": "stream",
     "text": [
      "Model: \"sequential_1\"\n",
      "_________________________________________________________________\n",
      " Layer (type)                Output Shape              Param #   \n",
      "=================================================================\n",
      " conv2d (Conv2D)             (None, 126, 126, 64)      1792      \n",
      "                                                                 \n",
      " batch_normalization (BatchN  (None, 126, 126, 64)     256       \n",
      " ormalization)                                                   \n",
      "                                                                 \n",
      " max_pooling2d (MaxPooling2D  (None, 63, 63, 64)       0         \n",
      " )                                                               \n",
      "                                                                 \n",
      " dropout (Dropout)           (None, 63, 63, 64)        0         \n",
      "                                                                 \n",
      " conv2d_1 (Conv2D)           (None, 61, 61, 64)        36928     \n",
      "                                                                 \n",
      " global_average_pooling2d (G  (None, 64)               0         \n",
      " lobalAveragePooling2D)                                          \n",
      "                                                                 \n",
      " dense (Dense)               (None, 64)                4160      \n",
      "                                                                 \n",
      " dense_1 (Dense)             (None, 1)                 65        \n",
      "                                                                 \n",
      "=================================================================\n",
      "Total params: 43,201\n",
      "Trainable params: 43,073\n",
      "Non-trainable params: 128\n",
      "_________________________________________________________________\n"
     ]
    }
   ],
   "source": [
    "model.summary()"
   ]
  },
  {
   "cell_type": "code",
   "execution_count": 30,
   "id": "517fac3f",
   "metadata": {},
   "outputs": [],
   "source": [
    "model.compile(optimizer='adam',\n",
    "             loss='binary_crossentropy',\n",
    "             metrics=['acc'])"
   ]
  },
  {
   "cell_type": "code",
   "execution_count": 32,
   "id": "27e1658a",
   "metadata": {},
   "outputs": [],
   "source": [
    "steps_per_epoch = train_count//BATCH_SIZE"
   ]
  },
  {
   "cell_type": "code",
   "execution_count": 57,
   "id": "c9d26ee6",
   "metadata": {},
   "outputs": [
    {
     "name": "stdout",
     "output_type": "stream",
     "text": [
      "Epoch 1/70\n",
      "62/62 [==============================] - 50s 791ms/step - loss: 0.4798 - acc: 0.7787 - val_loss: 0.4820 - val_acc: 0.7740\n",
      "Epoch 2/70\n",
      "62/62 [==============================] - 54s 868ms/step - loss: 0.4756 - acc: 0.7737 - val_loss: 0.4814 - val_acc: 0.7620\n",
      "Epoch 3/70\n",
      "62/62 [==============================] - 55s 879ms/step - loss: 0.4616 - acc: 0.7777 - val_loss: 0.4555 - val_acc: 0.8020\n",
      "Epoch 4/70\n",
      "62/62 [==============================] - 52s 846ms/step - loss: 0.4598 - acc: 0.7807 - val_loss: 0.5029 - val_acc: 0.7400\n",
      "Epoch 5/70\n",
      "62/62 [==============================] - 54s 862ms/step - loss: 0.4502 - acc: 0.7903 - val_loss: 0.4318 - val_acc: 0.8120\n",
      "Epoch 6/70\n",
      "62/62 [==============================] - 53s 848ms/step - loss: 0.4395 - acc: 0.8014 - val_loss: 0.4378 - val_acc: 0.7960\n",
      "Epoch 7/70\n",
      "62/62 [==============================] - 52s 846ms/step - loss: 0.4430 - acc: 0.7918 - val_loss: 0.5613 - val_acc: 0.7160\n",
      "Epoch 8/70\n",
      "62/62 [==============================] - 53s 861ms/step - loss: 0.4317 - acc: 0.8059 - val_loss: 0.4267 - val_acc: 0.8180\n",
      "Epoch 9/70\n",
      "62/62 [==============================] - 52s 843ms/step - loss: 0.4220 - acc: 0.8110 - val_loss: 0.4066 - val_acc: 0.8120\n",
      "Epoch 10/70\n",
      "62/62 [==============================] - 53s 848ms/step - loss: 0.4196 - acc: 0.8130 - val_loss: 0.4247 - val_acc: 0.8180\n",
      "Epoch 11/70\n",
      "62/62 [==============================] - 52s 845ms/step - loss: 0.4082 - acc: 0.8135 - val_loss: 0.4465 - val_acc: 0.8000\n",
      "Epoch 12/70\n",
      "62/62 [==============================] - 53s 849ms/step - loss: 0.4041 - acc: 0.8180 - val_loss: 0.4161 - val_acc: 0.8100\n",
      "Epoch 13/70\n",
      "62/62 [==============================] - 52s 843ms/step - loss: 0.4046 - acc: 0.8221 - val_loss: 0.7438 - val_acc: 0.6680\n",
      "Epoch 14/70\n",
      "62/62 [==============================] - 53s 849ms/step - loss: 0.4029 - acc: 0.8256 - val_loss: 0.4735 - val_acc: 0.7760\n",
      "Epoch 15/70\n",
      "62/62 [==============================] - 52s 836ms/step - loss: 0.4002 - acc: 0.8201 - val_loss: 0.4286 - val_acc: 0.8000\n",
      "Epoch 16/70\n",
      "62/62 [==============================] - 52s 844ms/step - loss: 0.3953 - acc: 0.8226 - val_loss: 0.3827 - val_acc: 0.8260\n",
      "Epoch 17/70\n",
      "62/62 [==============================] - 52s 847ms/step - loss: 0.3849 - acc: 0.8322 - val_loss: 0.4431 - val_acc: 0.7900\n",
      "Epoch 18/70\n",
      "62/62 [==============================] - 52s 842ms/step - loss: 0.3870 - acc: 0.8241 - val_loss: 0.4134 - val_acc: 0.8020\n",
      "Epoch 19/70\n",
      "62/62 [==============================] - 52s 837ms/step - loss: 0.3751 - acc: 0.8362 - val_loss: 0.4073 - val_acc: 0.8040\n",
      "Epoch 20/70\n",
      "62/62 [==============================] - 52s 837ms/step - loss: 0.3758 - acc: 0.8342 - val_loss: 0.4468 - val_acc: 0.8100\n",
      "Epoch 21/70\n",
      "62/62 [==============================] - 52s 840ms/step - loss: 0.3723 - acc: 0.8332 - val_loss: 0.4259 - val_acc: 0.8060\n",
      "Epoch 22/70\n",
      "62/62 [==============================] - 52s 838ms/step - loss: 0.3616 - acc: 0.8453 - val_loss: 0.4359 - val_acc: 0.7920\n",
      "Epoch 23/70\n",
      "62/62 [==============================] - 52s 839ms/step - loss: 0.3612 - acc: 0.8397 - val_loss: 0.4580 - val_acc: 0.7740\n",
      "Epoch 24/70\n",
      "62/62 [==============================] - 52s 839ms/step - loss: 0.3593 - acc: 0.8412 - val_loss: 0.4310 - val_acc: 0.8020\n",
      "Epoch 25/70\n",
      "62/62 [==============================] - 52s 842ms/step - loss: 0.3482 - acc: 0.8478 - val_loss: 0.4730 - val_acc: 0.7840\n",
      "Epoch 26/70\n",
      "62/62 [==============================] - 52s 839ms/step - loss: 0.3537 - acc: 0.8427 - val_loss: 0.5344 - val_acc: 0.7520\n",
      "Epoch 27/70\n",
      "62/62 [==============================] - 52s 839ms/step - loss: 0.3414 - acc: 0.8523 - val_loss: 0.4481 - val_acc: 0.7940\n",
      "Epoch 28/70\n",
      "62/62 [==============================] - 52s 838ms/step - loss: 0.3388 - acc: 0.8528 - val_loss: 0.4900 - val_acc: 0.7840\n",
      "Epoch 29/70\n",
      "62/62 [==============================] - 52s 836ms/step - loss: 0.3462 - acc: 0.8503 - val_loss: 0.4640 - val_acc: 0.7880\n",
      "Epoch 30/70\n",
      "62/62 [==============================] - 52s 838ms/step - loss: 0.3315 - acc: 0.8614 - val_loss: 0.4541 - val_acc: 0.7820\n",
      "Epoch 31/70\n",
      "62/62 [==============================] - 52s 838ms/step - loss: 0.3250 - acc: 0.8639 - val_loss: 0.5669 - val_acc: 0.7420\n",
      "Epoch 32/70\n",
      "62/62 [==============================] - 52s 837ms/step - loss: 0.3331 - acc: 0.8604 - val_loss: 0.4844 - val_acc: 0.7880\n",
      "Epoch 33/70\n",
      "62/62 [==============================] - 52s 840ms/step - loss: 0.3232 - acc: 0.8619 - val_loss: 0.6617 - val_acc: 0.7100\n",
      "Epoch 34/70\n",
      "62/62 [==============================] - 52s 840ms/step - loss: 0.3238 - acc: 0.8584 - val_loss: 0.6952 - val_acc: 0.7080\n",
      "Epoch 35/70\n",
      "62/62 [==============================] - 53s 858ms/step - loss: 0.3101 - acc: 0.8679 - val_loss: 0.5490 - val_acc: 0.7520\n",
      "Epoch 36/70\n",
      "62/62 [==============================] - 52s 843ms/step - loss: 0.3072 - acc: 0.8679 - val_loss: 0.6042 - val_acc: 0.7340\n",
      "Epoch 37/70\n",
      "62/62 [==============================] - 52s 841ms/step - loss: 0.3174 - acc: 0.8614 - val_loss: 0.5911 - val_acc: 0.7440\n",
      "Epoch 38/70\n",
      "62/62 [==============================] - 52s 839ms/step - loss: 0.3054 - acc: 0.8669 - val_loss: 0.4577 - val_acc: 0.7860\n",
      "Epoch 39/70\n",
      "62/62 [==============================] - 52s 841ms/step - loss: 0.3039 - acc: 0.8659 - val_loss: 0.4273 - val_acc: 0.8060\n",
      "Epoch 40/70\n",
      "62/62 [==============================] - 52s 841ms/step - loss: 0.3020 - acc: 0.8659 - val_loss: 0.3859 - val_acc: 0.8280\n",
      "Epoch 41/70\n",
      "62/62 [==============================] - 52s 841ms/step - loss: 0.3036 - acc: 0.8705 - val_loss: 0.4477 - val_acc: 0.7860\n",
      "Epoch 42/70\n",
      "62/62 [==============================] - 56s 903ms/step - loss: 0.3057 - acc: 0.8679 - val_loss: 0.3865 - val_acc: 0.8200\n",
      "Epoch 43/70\n",
      "62/62 [==============================] - 53s 859ms/step - loss: 0.2924 - acc: 0.8720 - val_loss: 0.3797 - val_acc: 0.8340\n",
      "Epoch 44/70\n",
      "62/62 [==============================] - 53s 853ms/step - loss: 0.2900 - acc: 0.8775 - val_loss: 0.4642 - val_acc: 0.8240\n",
      "Epoch 45/70\n",
      "62/62 [==============================] - 53s 849ms/step - loss: 0.2907 - acc: 0.8710 - val_loss: 0.3803 - val_acc: 0.8260\n",
      "Epoch 46/70\n",
      "62/62 [==============================] - 53s 852ms/step - loss: 0.2905 - acc: 0.8730 - val_loss: 0.3794 - val_acc: 0.8300\n",
      "Epoch 47/70\n",
      "62/62 [==============================] - 53s 854ms/step - loss: 0.2834 - acc: 0.8770 - val_loss: 0.4160 - val_acc: 0.8100\n",
      "Epoch 48/70\n",
      "62/62 [==============================] - 52s 844ms/step - loss: 0.2747 - acc: 0.8790 - val_loss: 0.3662 - val_acc: 0.8400\n",
      "Epoch 49/70\n",
      "62/62 [==============================] - 396s 6s/step - loss: 0.2722 - acc: 0.8831 - val_loss: 0.4076 - val_acc: 0.8140\n",
      "Epoch 50/70\n",
      "62/62 [==============================] - 37s 598ms/step - loss: 0.2813 - acc: 0.8720 - val_loss: 0.3981 - val_acc: 0.8160\n",
      "Epoch 51/70\n",
      "62/62 [==============================] - 47s 764ms/step - loss: 0.2735 - acc: 0.8851 - val_loss: 0.3842 - val_acc: 0.8500\n",
      "Epoch 52/70\n",
      "62/62 [==============================] - 37s 598ms/step - loss: 0.2710 - acc: 0.8826 - val_loss: 0.4724 - val_acc: 0.7860\n",
      "Epoch 53/70\n",
      "62/62 [==============================] - 39s 626ms/step - loss: 0.2689 - acc: 0.8810 - val_loss: 0.4531 - val_acc: 0.8100\n",
      "Epoch 54/70\n",
      "62/62 [==============================] - 39s 632ms/step - loss: 0.2676 - acc: 0.8816 - val_loss: 0.4276 - val_acc: 0.8180\n",
      "Epoch 55/70\n",
      "62/62 [==============================] - 39s 625ms/step - loss: 0.2635 - acc: 0.8886 - val_loss: 0.3916 - val_acc: 0.8440\n",
      "Epoch 56/70\n",
      "62/62 [==============================] - 39s 626ms/step - loss: 0.2452 - acc: 0.8942 - val_loss: 0.4371 - val_acc: 0.8360\n",
      "Epoch 57/70\n",
      "62/62 [==============================] - 39s 632ms/step - loss: 0.2655 - acc: 0.8851 - val_loss: 0.4395 - val_acc: 0.8140\n",
      "Epoch 58/70\n",
      "62/62 [==============================] - 40s 644ms/step - loss: 0.2632 - acc: 0.8906 - val_loss: 0.4234 - val_acc: 0.8300\n",
      "Epoch 59/70\n",
      "62/62 [==============================] - 38s 616ms/step - loss: 0.2488 - acc: 0.8957 - val_loss: 0.5127 - val_acc: 0.8140\n",
      "Epoch 60/70\n",
      "62/62 [==============================] - 38s 619ms/step - loss: 0.2429 - acc: 0.8901 - val_loss: 0.6115 - val_acc: 0.7640\n",
      "Epoch 61/70\n",
      "62/62 [==============================] - 38s 621ms/step - loss: 0.2520 - acc: 0.8947 - val_loss: 0.6533 - val_acc: 0.7520\n",
      "Epoch 62/70\n",
      "62/62 [==============================] - 39s 624ms/step - loss: 0.2418 - acc: 0.8962 - val_loss: 0.6340 - val_acc: 0.7460\n",
      "Epoch 63/70\n",
      "62/62 [==============================] - 39s 626ms/step - loss: 0.2484 - acc: 0.8957 - val_loss: 0.5318 - val_acc: 0.7860\n",
      "Epoch 64/70\n",
      "62/62 [==============================] - 38s 621ms/step - loss: 0.2346 - acc: 0.9037 - val_loss: 0.7261 - val_acc: 0.7420\n",
      "Epoch 65/70\n",
      "62/62 [==============================] - 39s 629ms/step - loss: 0.2539 - acc: 0.9032 - val_loss: 0.4481 - val_acc: 0.8140\n",
      "Epoch 66/70\n",
      "62/62 [==============================] - 39s 622ms/step - loss: 0.2365 - acc: 0.8957 - val_loss: 0.7935 - val_acc: 0.7240\n",
      "Epoch 67/70\n",
      "62/62 [==============================] - 39s 625ms/step - loss: 0.2382 - acc: 0.8992 - val_loss: 0.7257 - val_acc: 0.7640\n",
      "Epoch 68/70\n",
      "62/62 [==============================] - 39s 623ms/step - loss: 0.2460 - acc: 0.8967 - val_loss: 0.5554 - val_acc: 0.8120\n",
      "Epoch 69/70\n",
      "62/62 [==============================] - 39s 622ms/step - loss: 0.2267 - acc: 0.9073 - val_loss: 0.6751 - val_acc: 0.7960\n",
      "Epoch 70/70\n",
      "62/62 [==============================] - 39s 629ms/step - loss: 0.2540 - acc: 0.8921 - val_loss: 0.5480 - val_acc: 0.8100\n"
     ]
    }
   ],
   "source": [
    "history = model.fit(train_data,epochs=70,steps_per_epoch=steps_per_epoch,validation_data=val_data)"
   ]
  },
  {
   "cell_type": "code",
   "execution_count": 58,
   "id": "215dc7ba",
   "metadata": {},
   "outputs": [
    {
     "data": {
      "text/plain": [
       "dict_keys(['loss', 'acc', 'val_loss', 'val_acc'])"
      ]
     },
     "execution_count": 58,
     "metadata": {},
     "output_type": "execute_result"
    }
   ],
   "source": [
    "history.history.keys()"
   ]
  },
  {
   "cell_type": "code",
   "execution_count": 59,
   "id": "494ecd0c",
   "metadata": {},
   "outputs": [
    {
     "data": {
      "text/plain": [
       "<matplotlib.legend.Legend at 0x1a313df8be0>"
      ]
     },
     "execution_count": 59,
     "metadata": {},
     "output_type": "execute_result"
    },
    {
     "data": {
      "image/png": "[encoded data removed]",
      "text/plain": [
       "<Figure size 640x480 with 1 Axes>"
      ]
     },
     "metadata": {},
     "output_type": "display_data"
    }
   ],
   "source": [
    "plt.plot(history.epoch,history.history.get('acc'),label='acc')\n",
    "plt.plot(history.epoch,history.history.get('val_acc'),label='val_acc')\n",
    "plt.legend()"
   ]
  },
  {
   "cell_type": "code",
   "execution_count": 60,
   "id": "8b8063fd",
   "metadata": {},
   "outputs": [
    {
     "data": {
      "text/plain": [
       "<matplotlib.legend.Legend at 0x1a31da1ae20>"
      ]
     },
     "execution_count": 60,
     "metadata": {},
     "output_type": "execute_result"
    },
    {
     "data": {
      "image/png": "[encoded data removed]",
      "text/plain": [
       "<Figure size 640x480 with 1 Axes>"
      ]
     },
     "metadata": {},
     "output_type": "display_data"
    }
   ],
   "source": [
    "plt.plot(history.epoch,history.history.get('loss'),label='loss')\n",
    "plt.plot(history.epoch,history.history.get('val_loss'),label='val_loss')\n",
    "plt.legend()"
   ]
  },
  {
   "cell_type": "code",
   "execution_count": 61,
   "id": "f7906741",
   "metadata": {},
   "outputs": [
    {
     "name": "stdout",
     "output_type": "stream",
     "text": [
      "14/14 [==============================] - 2s 121ms/step\n"
     ]
    }
   ],
   "source": [
    "pred = model.predict(test_data)"
   ]
  },
  {
   "cell_type": "code",
   "execution_count": 62,
   "id": "123a2fd9",
   "metadata": {},
   "outputs": [],
   "source": [
    "pred_ = [int(i>0.5) for i in pred]"
   ]
  },
  {
   "cell_type": "code",
   "execution_count": 63,
   "id": "39819a07",
   "metadata": {},
   "outputs": [
    {
     "name": "stdout",
     "output_type": "stream",
     "text": [
      "              precision    recall  f1-score   support\n",
      "\n",
      "           0       0.76      0.76      0.76       194\n",
      "           1       0.81      0.81      0.81       249\n",
      "\n",
      "    accuracy                           0.79       443\n",
      "   macro avg       0.78      0.79      0.78       443\n",
      "weighted avg       0.79      0.79      0.79       443\n",
      "\n"
     ]
    }
   ],
   "source": [
    "print(classification_report(test_label_ds,pred_))"
   ]
  },
  {
   "cell_type": "code",
   "execution_count": null,
   "id": "4c38958d",
   "metadata": {},
   "outputs": [],
   "source": []
  },
  {
   "cell_type": "code",
   "execution_count": null,
   "id": "ec88a558",
   "metadata": {},
   "outputs": [],
   "source": []
  },
  {
   "cell_type": "code",
   "execution_count": null,
   "id": "27ce7792",
   "metadata": {},
   "outputs": [],
   "source": []
  }
 ],
 "metadata": {
  "kernelspec": {
   "display_name": "Python 3 (ipykernel)",
   "language": "python",
   "name": "python3"
  },
  "language_info": {
   "codemirror_mode": {
    "name": "ipython",
    "version": 3
   },
   "file_extension": ".py",
   "mimetype": "text/x-python",
   "name": "python",
   "nbconvert_exporter": "python",
   "pygments_lexer": "ipython3",
   "version": "3.9.2"
  }
 },
 "nbformat": 4,
 "nbformat_minor": 5
}
